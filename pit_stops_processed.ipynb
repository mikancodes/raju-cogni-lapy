{
 "cells": [
  {
   "cell_type": "code",
   "execution_count": 0,
   "metadata": {
    "application/vnd.databricks.v1+cell": {
     "cellMetadata": {
      "byteLimit": 2048000,
      "rowLimit": 10000
     },
     "inputWidgets": {},
     "nuid": "95938908-c7de-458b-a591-c011f8421aea",
     "showTitle": false,
     "title": ""
    }
   },
   "outputs": [],
   "source": [
    "#Step 1 - Read the JSON file using the spark dataframe reader API"
   ]
  },
  {
   "cell_type": "code",
   "execution_count": 0,
   "metadata": {
    "application/vnd.databricks.v1+cell": {
     "cellMetadata": {
      "byteLimit": 2048000,
      "rowLimit": 10000
     },
     "inputWidgets": {},
     "nuid": "bda5fed3-226f-4b95-b3c3-4872f00bbe45",
     "showTitle": false,
     "title": ""
    }
   },
   "outputs": [],
   "source": [
    "from pyspark.sql.types import StructType, StructField, IntegerType, StringType"
   ]
  },
  {
   "cell_type": "code",
   "execution_count": 0,
   "metadata": {
    "application/vnd.databricks.v1+cell": {
     "cellMetadata": {
      "byteLimit": 2048000,
      "rowLimit": 10000
     },
     "inputWidgets": {},
     "nuid": "55f1c4da-1000-4b52-96e3-c1baef835a82",
     "showTitle": false,
     "title": ""
    }
   },
   "outputs": [],
   "source": [
    "pit_stops_schema = StructType(fields=[StructField(\"raceId\", IntegerType(), False),\n",
    "                                      StructField(\"driverId\", IntegerType(), True),\n",
    "                                      StructField(\"stop\", StringType(), True),\n",
    "                                      StructField(\"lap\", IntegerType(), True),\n",
    "                                      StructField(\"time\", StringType(), True),\n",
    "                                      StructField(\"duration\", StringType(), True),\n",
    "                                      StructField(\"milliseconds\", IntegerType(), True)\n",
    "                                     ])"
   ]
  },
  {
   "cell_type": "code",
   "execution_count": 0,
   "metadata": {
    "application/vnd.databricks.v1+cell": {
     "cellMetadata": {
      "byteLimit": 2048000,
      "rowLimit": 10000
     },
     "inputWidgets": {},
     "nuid": "9ac3f924-fd48-4466-ad9b-773e3a5c2c5e",
     "showTitle": false,
     "title": ""
    }
   },
   "outputs": [],
   "source": [
    "pit_stops_df = spark.read.json(\"dbfs:/FileStore/pit_stops.json\",schema = pit_stops_schema , multiLine=True)"
   ]
  },
  {
   "cell_type": "code",
   "execution_count": 0,
   "metadata": {
    "application/vnd.databricks.v1+cell": {
     "cellMetadata": {
      "byteLimit": 2048000,
      "rowLimit": 10000
     },
     "inputWidgets": {},
     "nuid": "e69b8191-9758-45ad-af7d-4cd1c4a06d47",
     "showTitle": false,
     "title": ""
    }
   },
   "outputs": [
    {
     "output_type": "stream",
     "name": "stdout",
     "output_type": "stream",
     "text": [
      "+------+--------+----+---+--------+--------+------------+\n|raceId|driverId|stop|lap|    time|duration|milliseconds|\n+------+--------+----+---+--------+--------+------------+\n|   841|     153|   1|  1|17:05:23|  26.898|       26898|\n|   841|      30|   1|  1|17:05:52|  25.021|       25021|\n|   841|      17|   1| 11|17:20:48|  23.426|       23426|\n|   841|       4|   1| 12|17:22:34|  23.251|       23251|\n|   841|      13|   1| 13|17:24:10|  23.842|       23842|\n|   841|      22|   1| 13|17:24:29|  23.643|       23643|\n|   841|      20|   1| 14|17:25:17|  22.603|       22603|\n|   841|     814|   1| 14|17:26:03|  24.863|       24863|\n|   841|     816|   1| 14|17:26:50|  25.259|       25259|\n|   841|      67|   1| 15|17:27:34|  25.342|       25342|\n|   841|       2|   1| 15|17:27:41|  22.994|       22994|\n|   841|       1|   1| 16|17:28:24|  23.227|       23227|\n|   841|     808|   1| 16|17:28:39|  24.535|       24535|\n|   841|       3|   1| 16|17:29:00|  23.716|       23716|\n|   841|     155|   1| 16|17:29:06|  24.064|       24064|\n|   841|      16|   1| 16|17:29:08|  25.978|       25978|\n|   841|      15|   1| 16|17:29:49|  24.899|       24899|\n|   841|      18|   1| 17|17:30:24|  16.867|       16867|\n|   841|     153|   2| 17|17:31:06|  24.463|       24463|\n|   841|       5|   1| 17|17:31:11|  24.865|       24865|\n+------+--------+----+---+--------+--------+------------+\nonly showing top 20 rows\n\n"
     ]
    }
   ],
   "source": [
    "pit_stops_df.show()"
   ]
  },
  {
   "cell_type": "code",
   "execution_count": 0,
   "metadata": {
    "application/vnd.databricks.v1+cell": {
     "cellMetadata": {
      "byteLimit": 2048000,
      "rowLimit": 10000
     },
     "inputWidgets": {},
     "nuid": "4e915de9-1cea-4acd-bd2d-c05213977e93",
     "showTitle": false,
     "title": ""
    }
   },
   "outputs": [],
   "source": [
    "#Step 2 - Rename columns and add new columns\n",
    "#Rename driverId and raceId\n",
    "#Add ingestion_date with current timestamp"
   ]
  },
  {
   "cell_type": "code",
   "execution_count": 0,
   "metadata": {
    "application/vnd.databricks.v1+cell": {
     "cellMetadata": {
      "byteLimit": 2048000,
      "rowLimit": 10000
     },
     "inputWidgets": {},
     "nuid": "454a0239-eaa0-46ac-938a-aa9aed857597",
     "showTitle": false,
     "title": ""
    }
   },
   "outputs": [],
   "source": [
    "from pyspark.sql.functions import lit , current_timestamp"
   ]
  },
  {
   "cell_type": "code",
   "execution_count": 0,
   "metadata": {
    "application/vnd.databricks.v1+cell": {
     "cellMetadata": {
      "byteLimit": 2048000,
      "rowLimit": 10000
     },
     "inputWidgets": {},
     "nuid": "14f206d6-0019-424b-94f7-a161a9194d88",
     "showTitle": false,
     "title": ""
    }
   },
   "outputs": [],
   "source": [
    "pit_stops_with_ingestion_date_df=pit_stops_df.withColumn(\"ingestion_date\",current_timestamp())"
   ]
  },
  {
   "cell_type": "code",
   "execution_count": 0,
   "metadata": {
    "application/vnd.databricks.v1+cell": {
     "cellMetadata": {
      "byteLimit": 2048000,
      "rowLimit": 10000
     },
     "inputWidgets": {},
     "nuid": "55059769-91eb-4be2-ba03-6e9f3043f392",
     "showTitle": false,
     "title": ""
    }
   },
   "outputs": [],
   "source": [
    "final_df = pit_stops_with_ingestion_date_df.withColumnRenamed(\"driverId\", \"driver_id\") \\\n",
    ".withColumnRenamed(\"raceId\", \"race_id\") "
   ]
  },
  {
   "cell_type": "code",
   "execution_count": 0,
   "metadata": {
    "application/vnd.databricks.v1+cell": {
     "cellMetadata": {
      "byteLimit": 2048000,
      "rowLimit": 10000
     },
     "inputWidgets": {},
     "nuid": "f72da78e-8b80-4dd7-8a12-647ae48ab4a2",
     "showTitle": false,
     "title": ""
    }
   },
   "outputs": [
    {
     "output_type": "stream",
     "name": "stdout",
     "output_type": "stream",
     "text": [
      "+-------+---------+----+---+--------+--------+------------+-----------------------+\n|race_id|driver_id|stop|lap|time    |duration|milliseconds|ingestion_date         |\n+-------+---------+----+---+--------+--------+------------+-----------------------+\n|841    |153      |1   |1  |17:05:23|26.898  |26898       |2024-04-22 18:17:35.691|\n|841    |30       |1   |1  |17:05:52|25.021  |25021       |2024-04-22 18:17:35.691|\n|841    |17       |1   |11 |17:20:48|23.426  |23426       |2024-04-22 18:17:35.691|\n|841    |4        |1   |12 |17:22:34|23.251  |23251       |2024-04-22 18:17:35.691|\n|841    |13       |1   |13 |17:24:10|23.842  |23842       |2024-04-22 18:17:35.691|\n|841    |22       |1   |13 |17:24:29|23.643  |23643       |2024-04-22 18:17:35.691|\n|841    |20       |1   |14 |17:25:17|22.603  |22603       |2024-04-22 18:17:35.691|\n|841    |814      |1   |14 |17:26:03|24.863  |24863       |2024-04-22 18:17:35.691|\n|841    |816      |1   |14 |17:26:50|25.259  |25259       |2024-04-22 18:17:35.691|\n|841    |67       |1   |15 |17:27:34|25.342  |25342       |2024-04-22 18:17:35.691|\n|841    |2        |1   |15 |17:27:41|22.994  |22994       |2024-04-22 18:17:35.691|\n|841    |1        |1   |16 |17:28:24|23.227  |23227       |2024-04-22 18:17:35.691|\n|841    |808      |1   |16 |17:28:39|24.535  |24535       |2024-04-22 18:17:35.691|\n|841    |3        |1   |16 |17:29:00|23.716  |23716       |2024-04-22 18:17:35.691|\n|841    |155      |1   |16 |17:29:06|24.064  |24064       |2024-04-22 18:17:35.691|\n|841    |16       |1   |16 |17:29:08|25.978  |25978       |2024-04-22 18:17:35.691|\n|841    |15       |1   |16 |17:29:49|24.899  |24899       |2024-04-22 18:17:35.691|\n|841    |18       |1   |17 |17:30:24|16.867  |16867       |2024-04-22 18:17:35.691|\n|841    |153      |2   |17 |17:31:06|24.463  |24463       |2024-04-22 18:17:35.691|\n|841    |5        |1   |17 |17:31:11|24.865  |24865       |2024-04-22 18:17:35.691|\n+-------+---------+----+---+--------+--------+------------+-----------------------+\nonly showing top 20 rows\n\n"
     ]
    }
   ],
   "source": [
    "final_df.show(truncate=False)"
   ]
  },
  {
   "cell_type": "code",
   "execution_count": 0,
   "metadata": {
    "application/vnd.databricks.v1+cell": {
     "cellMetadata": {
      "byteLimit": 2048000,
      "rowLimit": 10000
     },
     "inputWidgets": {},
     "nuid": "68cfad7a-40d9-434d-ae12-214a71fb4522",
     "showTitle": false,
     "title": ""
    }
   },
   "outputs": [],
   "source": [
    "#Step 3 - Write to output to processed container in parquet format"
   ]
  },
  {
   "cell_type": "code",
   "execution_count": 0,
   "metadata": {
    "application/vnd.databricks.v1+cell": {
     "cellMetadata": {
      "byteLimit": 2048000,
      "rowLimit": 10000
     },
     "inputWidgets": {},
     "nuid": "b0fb933e-2926-49f4-a3f0-416030a9642b",
     "showTitle": false,
     "title": ""
    }
   },
   "outputs": [],
   "source": [
    "final_df.write.mode('overwrite').parquet(\"dbfs:/FileStore/Formula1/processed/f1_processed.pit_stops\")"
   ]
  },
  {
   "cell_type": "code",
   "execution_count": 0,
   "metadata": {
    "application/vnd.databricks.v1+cell": {
     "cellMetadata": {
      "byteLimit": 2048000,
      "rowLimit": 10000
     },
     "inputWidgets": {},
     "nuid": "cba06253-64ca-4554-ba92-d7a899d3a055",
     "showTitle": false,
     "title": ""
    }
   },
   "outputs": [],
   "source": []
  }
 ],
 "metadata": {
  "application/vnd.databricks.v1+notebook": {
   "dashboards": [],
   "language": "python",
   "notebookMetadata": {
    "pythonIndentUnit": 4
   },
   "notebookName": "pit_stops_processed",
   "widgets": {}
  }
 },
 "nbformat": 4,
 "nbformat_minor": 0
}
