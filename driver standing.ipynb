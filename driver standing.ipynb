{
 "cells": [
  {
   "cell_type": "code",
   "execution_count": 0,
   "metadata": {
    "application/vnd.databricks.v1+cell": {
     "cellMetadata": {
      "byteLimit": 2048000,
      "rowLimit": 10000
     },
     "inputWidgets": {},
     "nuid": "e46f8bd1-fa09-4aa7-9608-00e1a58fb861",
     "showTitle": false,
     "title": ""
    }
   },
   "outputs": [],
   "source": [
    "race_results_df = spark.read.parquet(\"dbfs:/FileStore/Formula1/trans_before_result/file_for_standing\")"
   ]
  },
  {
   "cell_type": "code",
   "execution_count": 0,
   "metadata": {
    "application/vnd.databricks.v1+cell": {
     "cellMetadata": {
      "byteLimit": 2048000,
      "rowLimit": 10000
     },
     "inputWidgets": {},
     "nuid": "e35f1557-167c-4463-901a-319f6f4fd573",
     "showTitle": false,
     "title": ""
    }
   },
   "outputs": [
    {
     "output_type": "stream",
     "name": "stdout",
     "output_type": "stream",
     "text": [
      "+-------+---------+---------------------+-------------------+----------------+--------------------+-------------+------------------+-----------+----+-----------+-----------+------+--------+---------------------+\n|race_id|race_year|race_name            |race_date          |circuit_location|driver_name         |driver_number|driver_nationality|team       |grid|fastest_lap|race_time  |points|position|created_date         |\n+-------+---------+---------------------+-------------------+----------------+--------------------+-------------+------------------+-----------+----+-----------+-----------+------+--------+---------------------+\n|1      |2009     |Australian Grand Prix|2009-03-29 06:00:00|Melbourne       |Sébastien Buemi     |null         |Swiss             |Toro Rosso |13  |34         |+6.004     |2.0   |7       |2024-04-22 10:04:26.2|\n|1      |2009     |Australian Grand Prix|2009-03-29 06:00:00|Melbourne       |Rubens Barrichello  |null         |Brazilian         |Brawn      |2   |43         |+0.807     |8.0   |2       |2024-04-22 10:04:26.2|\n|1      |2009     |Australian Grand Prix|2009-03-29 06:00:00|Melbourne       |Sebastian Vettel    |5            |German            |Red Bull   |3   |8          |\\N         |0.0   |13      |2024-04-22 10:04:26.2|\n|1      |2009     |Australian Grand Prix|2009-03-29 06:00:00|Melbourne       |Adrian Sutil        |99           |German            |Force India|16  |43         |+6.335     |0.0   |9       |2024-04-22 10:04:26.2|\n|1      |2009     |Australian Grand Prix|2009-03-29 06:00:00|Melbourne       |Robert Kubica       |88           |Polish            |BMW Sauber |4   |36         |\\N         |0.0   |14      |2024-04-22 10:04:26.2|\n|1      |2009     |Australian Grand Prix|2009-03-29 06:00:00|Melbourne       |Kimi Räikkönen      |7            |Finnish           |Ferrari    |7   |35         |\\N         |0.0   |15      |2024-04-22 10:04:26.2|\n|1      |2009     |Australian Grand Prix|2009-03-29 06:00:00|Melbourne       |Sébastien Bourdais  |null         |French            |Toro Rosso |17  |50         |+6.298     |1.0   |8       |2024-04-22 10:04:26.2|\n|1      |2009     |Australian Grand Prix|2009-03-29 06:00:00|Melbourne       |Fernando Alonso     |14           |Spanish           |Renault    |10  |53         |+4.879     |4.0   |5       |2024-04-22 10:04:26.2|\n|1      |2009     |Australian Grand Prix|2009-03-29 06:00:00|Melbourne       |Nico Rosberg        |6            |German            |Williams   |5   |48         |+5.722     |3.0   |6       |2024-04-22 10:04:26.2|\n|1      |2009     |Australian Grand Prix|2009-03-29 06:00:00|Melbourne       |Nick Heidfeld       |null         |German            |BMW Sauber |9   |48         |+7.085     |0.0   |10      |2024-04-22 10:04:26.2|\n|1      |2009     |Australian Grand Prix|2009-03-29 06:00:00|Melbourne       |Lewis Hamilton      |44           |British           |McLaren    |18  |39         |\\N         |0.0   |null    |2024-04-22 10:04:26.2|\n|1      |2009     |Australian Grand Prix|2009-03-29 06:00:00|Melbourne       |Giancarlo Fisichella|null         |Italian           |Force India|15  |51         |+7.374     |0.0   |11      |2024-04-22 10:04:26.2|\n|1      |2009     |Australian Grand Prix|2009-03-29 06:00:00|Melbourne       |Jenson Button       |22           |British           |Brawn      |1   |17         |1:34:15.784|10.0  |1       |2024-04-22 10:04:26.2|\n|1      |2009     |Australian Grand Prix|2009-03-29 06:00:00|Melbourne       |Mark Webber         |null         |Australian        |Red Bull   |8   |38         |\\N         |0.0   |12      |2024-04-22 10:04:26.2|\n|1      |2009     |Australian Grand Prix|2009-03-29 06:00:00|Melbourne       |Jarno Trulli        |null         |Italian           |Toyota     |20  |50         |+1.604     |6.0   |3       |2024-04-22 10:04:26.2|\n|1      |2009     |Australian Grand Prix|2009-03-29 06:00:00|Melbourne       |Felipe Massa        |19           |Brazilian         |Ferrari    |6   |30         |\\N         |0.0   |null    |2024-04-22 10:04:26.2|\n|1      |2009     |Australian Grand Prix|2009-03-29 06:00:00|Melbourne       |Nelson Piquet Jr.   |null         |Brazilian         |Renault    |14  |17         |\\N         |0.0   |null    |2024-04-22 10:04:26.2|\n|1      |2009     |Australian Grand Prix|2009-03-29 06:00:00|Melbourne       |Timo Glock          |null         |German            |Toyota     |19  |53         |+4.435     |5.0   |4       |2024-04-22 10:04:26.2|\n|1      |2009     |Australian Grand Prix|2009-03-29 06:00:00|Melbourne       |Kazuki Nakajima     |null         |Japanese          |Williams   |11  |6          |\\N         |0.0   |null    |2024-04-22 10:04:26.2|\n|1      |2009     |Australian Grand Prix|2009-03-29 06:00:00|Melbourne       |Heikki Kovalainen   |null         |Finnish           |McLaren    |12  |null       |\\N         |0.0   |null    |2024-04-22 10:04:26.2|\n+-------+---------+---------------------+-------------------+----------------+--------------------+-------------+------------------+-----------+----+-----------+-----------+------+--------+---------------------+\nonly showing top 20 rows\n\n"
     ]
    }
   ],
   "source": [
    "race_results_df.show(truncate=False)"
   ]
  },
  {
   "cell_type": "code",
   "execution_count": 0,
   "metadata": {
    "application/vnd.databricks.v1+cell": {
     "cellMetadata": {
      "byteLimit": 2048000,
      "rowLimit": 10000
     },
     "inputWidgets": {},
     "nuid": "08951fd6-3a02-4f74-9fc4-d0a2fdaaa90c",
     "showTitle": false,
     "title": ""
    }
   },
   "outputs": [],
   "source": [
    "#que1-- top 10 drivers from  year 1950 to year 2020 "
   ]
  },
  {
   "cell_type": "code",
   "execution_count": 0,
   "metadata": {
    "application/vnd.databricks.v1+cell": {
     "cellMetadata": {
      "byteLimit": 2048000,
      "rowLimit": 10000
     },
     "inputWidgets": {},
     "nuid": "97f1a91b-6070-4141-b9c2-559cbc682c63",
     "showTitle": false,
     "title": ""
    }
   },
   "outputs": [],
   "source": [
    "from pyspark.sql.functions import sum, when, count, col\n",
    "\n",
    "driver_standings_df = race_results_df \\\n",
    ".groupBy(\"race_year\", \"driver_name\", \"driver_nationality\") \\\n",
    ".agg(sum(\"points\").alias(\"total_points\"),\n",
    "     count(when(col(\"position\") == 1, True)).alias(\"wins\"))"
   ]
  },
  {
   "cell_type": "code",
   "execution_count": 0,
   "metadata": {
    "application/vnd.databricks.v1+cell": {
     "cellMetadata": {
      "byteLimit": 2048000,
      "rowLimit": 10000
     },
     "inputWidgets": {},
     "nuid": "18850c9c-0f53-4dc9-a27d-16457e0fcba0",
     "showTitle": false,
     "title": ""
    }
   },
   "outputs": [
    {
     "output_type": "stream",
     "name": "stdout",
     "output_type": "stream",
     "text": [
      "Out[5]: [Row(race_year=2004, driver_name='Michael Schumacher', driver_nationality='German', total_points=148.0, wins=13),\n Row(race_year=2013, driver_name='Sebastian Vettel', driver_nationality='German', total_points=397.0, wins=13),\n Row(race_year=2011, driver_name='Sebastian Vettel', driver_nationality='German', total_points=392.0, wins=11),\n Row(race_year=2019, driver_name='Lewis Hamilton', driver_nationality='British', total_points=413.0, wins=11),\n Row(race_year=2014, driver_name='Lewis Hamilton', driver_nationality='British', total_points=384.0, wins=11),\n Row(race_year=2002, driver_name='Michael Schumacher', driver_nationality='German', total_points=144.0, wins=11),\n Row(race_year=2018, driver_name='Lewis Hamilton', driver_nationality='British', total_points=408.0, wins=11),\n Row(race_year=2020, driver_name='Lewis Hamilton', driver_nationality='British', total_points=347.0, wins=11),\n Row(race_year=2015, driver_name='Lewis Hamilton', driver_nationality='British', total_points=381.0, wins=10),\n Row(race_year=2016, driver_name='Lewis Hamilton', driver_nationality='British', total_points=380.0, wins=10)]"
     ]
    }
   ],
   "source": [
    "from pyspark.sql.functions import desc, asc\n",
    "driver_standings_df.orderBy(driver_standings_df.wins.desc()).take(10)"
   ]
  },
  {
   "cell_type": "code",
   "execution_count": 0,
   "metadata": {
    "application/vnd.databricks.v1+cell": {
     "cellMetadata": {
      "byteLimit": 2048000,
      "rowLimit": 10000
     },
     "inputWidgets": {},
     "nuid": "d7c11637-4007-4985-a8e8-bb3f28df9613",
     "showTitle": false,
     "title": ""
    }
   },
   "outputs": [],
   "source": [
    "top_driver =driver_standings_df.orderBy(col(\"wins\").desc())\n",
    "overll_top_10_drivers = top_driver.limit(10)"
   ]
  },
  {
   "cell_type": "code",
   "execution_count": 0,
   "metadata": {
    "application/vnd.databricks.v1+cell": {
     "cellMetadata": {
      "byteLimit": 2048000,
      "rowLimit": 10000
     },
     "inputWidgets": {},
     "nuid": "93fd38db-44a4-448c-beed-e5dccd9b25b4",
     "showTitle": false,
     "title": ""
    }
   },
   "outputs": [
    {
     "output_type": "display_data",
     "data": {
      "text/html": [
       "<style scoped>\n",
       "  .table-result-container {\n",
       "    max-height: 300px;\n",
       "    overflow: auto;\n",
       "  }\n",
       "  table, th, td {\n",
       "    border: 1px solid black;\n",
       "    border-collapse: collapse;\n",
       "  }\n",
       "  th, td {\n",
       "    padding: 5px;\n",
       "  }\n",
       "  th {\n",
       "    text-align: left;\n",
       "  }\n",
       "</style><div class='table-result-container'><table class='table-result'><thead style='background-color: white'><tr><th>race_year</th><th>driver_name</th><th>driver_nationality</th><th>total_points</th><th>wins</th></tr></thead><tbody><tr><td>2004</td><td>Michael Schumacher</td><td>German</td><td>148.0</td><td>13</td></tr><tr><td>2013</td><td>Sebastian Vettel</td><td>German</td><td>397.0</td><td>13</td></tr><tr><td>2011</td><td>Sebastian Vettel</td><td>German</td><td>392.0</td><td>11</td></tr><tr><td>2019</td><td>Lewis Hamilton</td><td>British</td><td>413.0</td><td>11</td></tr><tr><td>2014</td><td>Lewis Hamilton</td><td>British</td><td>384.0</td><td>11</td></tr><tr><td>2002</td><td>Michael Schumacher</td><td>German</td><td>144.0</td><td>11</td></tr><tr><td>2018</td><td>Lewis Hamilton</td><td>British</td><td>408.0</td><td>11</td></tr><tr><td>2020</td><td>Lewis Hamilton</td><td>British</td><td>347.0</td><td>11</td></tr><tr><td>2015</td><td>Lewis Hamilton</td><td>British</td><td>381.0</td><td>10</td></tr><tr><td>2016</td><td>Lewis Hamilton</td><td>British</td><td>380.0</td><td>10</td></tr></tbody></table></div>"
      ]
     },
     "metadata": {
      "application/vnd.databricks.v1+output": {
       "addedWidgets": {},
       "aggData": [],
       "aggError": "",
       "aggOverflow": false,
       "aggSchema": [],
       "aggSeriesLimitReached": false,
       "aggType": "",
       "arguments": {},
       "columnCustomDisplayInfos": {},
       "data": [
        [
         2004,
         "Michael Schumacher",
         "German",
         148.0,
         13
        ],
        [
         2013,
         "Sebastian Vettel",
         "German",
         397.0,
         13
        ],
        [
         2011,
         "Sebastian Vettel",
         "German",
         392.0,
         11
        ],
        [
         2019,
         "Lewis Hamilton",
         "British",
         413.0,
         11
        ],
        [
         2014,
         "Lewis Hamilton",
         "British",
         384.0,
         11
        ],
        [
         2002,
         "Michael Schumacher",
         "German",
         144.0,
         11
        ],
        [
         2018,
         "Lewis Hamilton",
         "British",
         408.0,
         11
        ],
        [
         2020,
         "Lewis Hamilton",
         "British",
         347.0,
         11
        ],
        [
         2015,
         "Lewis Hamilton",
         "British",
         381.0,
         10
        ],
        [
         2016,
         "Lewis Hamilton",
         "British",
         380.0,
         10
        ]
       ],
       "datasetInfos": [],
       "dbfsResultPath": null,
       "isJsonSchema": true,
       "metadata": {},
       "overflow": false,
       "plotOptions": {
        "customPlotOptions": {},
        "displayType": "table",
        "pivotAggregation": null,
        "pivotColumns": null,
        "xColumns": null,
        "yColumns": null
       },
       "removedWidgets": [],
       "schema": [
        {
         "metadata": "{}",
         "name": "race_year",
         "type": "\"integer\""
        },
        {
         "metadata": "{}",
         "name": "driver_name",
         "type": "\"string\""
        },
        {
         "metadata": "{}",
         "name": "driver_nationality",
         "type": "\"string\""
        },
        {
         "metadata": "{}",
         "name": "total_points",
         "type": "\"double\""
        },
        {
         "metadata": "{}",
         "name": "wins",
         "type": "\"long\""
        }
       ],
       "type": "table"
      }
     },
     "output_type": "display_data"
    }
   ],
   "source": [
    "overll_top_10_drivers.display()"
   ]
  },
  {
   "cell_type": "code",
   "execution_count": 0,
   "metadata": {
    "application/vnd.databricks.v1+cell": {
     "cellMetadata": {
      "byteLimit": 2048000,
      "rowLimit": 10000
     },
     "inputWidgets": {},
     "nuid": "0dde55a4-1228-43a9-94b7-ad05d5fb76ab",
     "showTitle": false,
     "title": ""
    }
   },
   "outputs": [],
   "source": [
    "#que 2 driver standing "
   ]
  },
  {
   "cell_type": "code",
   "execution_count": 0,
   "metadata": {
    "application/vnd.databricks.v1+cell": {
     "cellMetadata": {
      "byteLimit": 2048000,
      "rowLimit": 10000
     },
     "inputWidgets": {},
     "nuid": "9cf73f43-da01-40fd-b2a0-f8432063f00d",
     "showTitle": false,
     "title": ""
    }
   },
   "outputs": [],
   "source": [
    "from pyspark.sql.window import Window\n",
    "from pyspark.sql.functions import desc, rank, asc\n",
    "\n",
    "driver_rank_spec = Window.partitionBy(\"race_year\").orderBy(desc(\"total_points\"), desc(\"wins\"))\n",
    "final_df = driver_standings_df.withColumn(\"rank\", rank().over(driver_rank_spec))"
   ]
  },
  {
   "cell_type": "code",
   "execution_count": 0,
   "metadata": {
    "application/vnd.databricks.v1+cell": {
     "cellMetadata": {
      "byteLimit": 2048000,
      "rowLimit": 10000
     },
     "inputWidgets": {},
     "nuid": "0c5b27b1-a20b-45dc-8033-d65bd1103024",
     "showTitle": false,
     "title": ""
    }
   },
   "outputs": [
    {
     "output_type": "display_data",
     "data": {
      "text/html": [
       "<style scoped>\n",
       "  .table-result-container {\n",
       "    max-height: 300px;\n",
       "    overflow: auto;\n",
       "  }\n",
       "  table, th, td {\n",
       "    border: 1px solid black;\n",
       "    border-collapse: collapse;\n",
       "  }\n",
       "  th, td {\n",
       "    padding: 5px;\n",
       "  }\n",
       "  th {\n",
       "    text-align: left;\n",
       "  }\n",
       "</style><div class='table-result-container'><table class='table-result'><thead style='background-color: white'><tr><th>race_year</th><th>driver_name</th><th>driver_nationality</th><th>total_points</th><th>wins</th><th>rank</th></tr></thead><tbody><tr><td>1950</td><td>Nino Farina</td><td>Italian</td><td>30.0</td><td>3</td><td>1</td></tr><tr><td>1950</td><td>Luigi Fagioli</td><td>Italian</td><td>28.0</td><td>0</td><td>2</td></tr><tr><td>1950</td><td>Juan Fangio</td><td>Argentine</td><td>27.0</td><td>3</td><td>3</td></tr><tr><td>1950</td><td>Louis Rosier</td><td>French</td><td>13.0</td><td>0</td><td>4</td></tr><tr><td>1950</td><td>Johnnie Parsons</td><td>American</td><td>9.0</td><td>1</td><td>5</td></tr><tr><td>1950</td><td>Alberto Ascari</td><td>Italian</td><td>8.0</td><td>0</td><td>6</td></tr><tr><td>1950</td><td>Bill Holland</td><td>American</td><td>6.0</td><td>0</td><td>7</td></tr><tr><td>1950</td><td>Prince Bira</td><td>Thai</td><td>5.0</td><td>0</td><td>8</td></tr><tr><td>1950</td><td>Louis Chiron</td><td>Monegasque</td><td>4.0</td><td>0</td><td>9</td></tr><tr><td>1950</td><td>Reg Parnell</td><td>British</td><td>4.0</td><td>0</td><td>9</td></tr><tr><td>1950</td><td>Mauri Rose</td><td>American</td><td>4.0</td><td>0</td><td>9</td></tr><tr><td>1950</td><td>Peter Whitehead</td><td>British</td><td>4.0</td><td>0</td><td>9</td></tr><tr><td>1950</td><td>Raymond Sommer</td><td>French</td><td>3.0</td><td>0</td><td>13</td></tr><tr><td>1950</td><td>Philippe Étancelin</td><td>French</td><td>3.0</td><td>0</td><td>13</td></tr><tr><td>1950</td><td>Cecil Green</td><td>American</td><td>3.0</td><td>0</td><td>13</td></tr><tr><td>1950</td><td>Dorino Serafini</td><td>Italian</td><td>3.0</td><td>0</td><td>13</td></tr><tr><td>1950</td><td>Robert Manzon</td><td>French</td><td>3.0</td><td>0</td><td>13</td></tr><tr><td>1950</td><td>Yves Cabantous</td><td>French</td><td>3.0</td><td>0</td><td>13</td></tr><tr><td>1950</td><td>Felice Bonetto</td><td>Italian</td><td>2.0</td><td>0</td><td>19</td></tr><tr><td>1950</td><td>Joie Chitwood</td><td>American</td><td>1.0</td><td>0</td><td>20</td></tr><tr><td>1950</td><td>Eugène Chaboud</td><td>French</td><td>1.0</td><td>0</td><td>20</td></tr><tr><td>1950</td><td>Myron Fohr</td><td>American</td><td>0.0</td><td>0</td><td>22</td></tr><tr><td>1950</td><td>Franco Comotti</td><td>Italian</td><td>0.0</td><td>0</td><td>22</td></tr><tr><td>1950</td><td>Duke Dinsmore</td><td>American</td><td>0.0</td><td>0</td><td>22</td></tr><tr><td>1950</td><td>Gene Hartley</td><td>American</td><td>0.0</td><td>0</td><td>22</td></tr><tr><td>1950</td><td>Jackie Holmes</td><td>American</td><td>0.0</td><td>0</td><td>22</td></tr><tr><td>1950</td><td>Travis Webb</td><td>American</td><td>0.0</td><td>0</td><td>22</td></tr><tr><td>1950</td><td>Sam Hanks</td><td>American</td><td>0.0</td><td>0</td><td>22</td></tr><tr><td>1950</td><td>Walt Ader</td><td>American</td><td>0.0</td><td>0</td><td>22</td></tr><tr><td>1950</td><td>Bob Gerard</td><td>British</td><td>0.0</td><td>0</td><td>22</td></tr><tr><td>1950</td><td>José Froilán González</td><td>Argentine</td><td>0.0</td><td>0</td><td>22</td></tr><tr><td>1950</td><td>Consalvo Sanesi</td><td>Italian</td><td>0.0</td><td>0</td><td>22</td></tr><tr><td>1950</td><td>Brian Shawe Taylor</td><td>British</td><td>0.0</td><td>0</td><td>22</td></tr><tr><td>1950</td><td>Pierre Levegh</td><td>French</td><td>0.0</td><td>0</td><td>22</td></tr><tr><td>1950</td><td>Peter Walker</td><td>British</td><td>0.0</td><td>0</td><td>22</td></tr><tr><td>1950</td><td>Tony Rolt</td><td>British</td><td>0.0</td><td>0</td><td>22</td></tr><tr><td>1950</td><td>Geoff Crossley</td><td>British</td><td>0.0</td><td>0</td><td>22</td></tr><tr><td>1950</td><td>Walt Brown</td><td>American</td><td>0.0</td><td>0</td><td>22</td></tr><tr><td>1950</td><td>Dick Rathmann</td><td>American</td><td>0.0</td><td>0</td><td>22</td></tr><tr><td>1950</td><td>Lee Wallard</td><td>American</td><td>0.0</td><td>0</td><td>22</td></tr><tr><td>1950</td><td>Troy Ruttman</td><td>American</td><td>0.0</td><td>0</td><td>22</td></tr><tr><td>1950</td><td>Mack Hellings</td><td>American</td><td>0.0</td><td>0</td><td>22</td></tr><tr><td>1950</td><td>Bill Schindler</td><td>American</td><td>0.0</td><td>0</td><td>22</td></tr><tr><td>1950</td><td>Johnny Claes</td><td>Belgian</td><td>0.0</td><td>0</td><td>22</td></tr><tr><td>1950</td><td>Eugène Martin</td><td>French</td><td>0.0</td><td>0</td><td>22</td></tr><tr><td>1950</td><td>Pat Flaherty</td><td>American</td><td>0.0</td><td>0</td><td>22</td></tr><tr><td>1950</td><td>Bayliss Levrett</td><td>American</td><td>0.0</td><td>0</td><td>22</td></tr><tr><td>1950</td><td>David Hampshire</td><td>British</td><td>0.0</td><td>0</td><td>22</td></tr><tr><td>1950</td><td>Paul Russo</td><td>American</td><td>0.0</td><td>0</td><td>22</td></tr><tr><td>1950</td><td>Luigi Villoresi</td><td>Italian</td><td>0.0</td><td>0</td><td>22</td></tr><tr><td>1950</td><td>Toulo de Graffenried</td><td>Swiss</td><td>0.0</td><td>0</td><td>22</td></tr><tr><td>1950</td><td>Johnny McDowell</td><td>American</td><td>0.0</td><td>0</td><td>22</td></tr><tr><td>1950</td><td>David Murray</td><td>British</td><td>0.0</td><td>0</td><td>22</td></tr><tr><td>1950</td><td>Jim Rathmann</td><td>American</td><td>0.0</td><td>0</td><td>22</td></tr><tr><td>1950</td><td>Nello Pagani</td><td>Italian</td><td>0.0</td><td>0</td><td>22</td></tr><tr><td>1950</td><td>Joe Kelly</td><td>Irish</td><td>0.0</td><td>0</td><td>22</td></tr><tr><td>1950</td><td>Jerry Hoyt</td><td>American</td><td>0.0</td><td>0</td><td>22</td></tr><tr><td>1950</td><td>Cuth Harrison</td><td>British</td><td>0.0</td><td>0</td><td>22</td></tr><tr><td>1950</td><td>Clemente Biondetti</td><td>Italian</td><td>0.0</td><td>0</td><td>22</td></tr><tr><td>1950</td><td>Bill Cantrell</td><td>American</td><td>0.0</td><td>0</td><td>22</td></tr><tr><td>1950</td><td>Maurice Trintignant</td><td>French</td><td>0.0</td><td>0</td><td>22</td></tr><tr><td>1950</td><td>Alfredo Pián</td><td>Argentine</td><td>0.0</td><td>0</td><td>22</td></tr><tr><td>1950</td><td>Joe Fry</td><td>British</td><td>0.0</td><td>0</td><td>22</td></tr><tr><td>1950</td><td>George Connor</td><td>American</td><td>0.0</td><td>0</td><td>22</td></tr><tr><td>1950</td><td>Guy Mairesse</td><td>French</td><td>0.0</td><td>0</td><td>22</td></tr><tr><td>1950</td><td>Henry Banks</td><td>American</td><td>0.0</td><td>0</td><td>22</td></tr><tr><td>1950</td><td>Paul Pietsch</td><td>German</td><td>0.0</td><td>0</td><td>22</td></tr><tr><td>1950</td><td>Leslie Johnson</td><td>British</td><td>0.0</td><td>0</td><td>22</td></tr><tr><td>1950</td><td>Jack McGrath</td><td>American</td><td>0.0</td><td>0</td><td>22</td></tr><tr><td>1950</td><td>Jimmy Jackson</td><td>American</td><td>0.0</td><td>0</td><td>22</td></tr><tr><td>1950</td><td>Harry Schell</td><td>American</td><td>0.0</td><td>0</td><td>22</td></tr><tr><td>1950</td><td>Jimmy Davies</td><td>American</td><td>0.0</td><td>0</td><td>22</td></tr><tr><td>1950</td><td>Toni Branca</td><td>Swiss</td><td>0.0</td><td>0</td><td>22</td></tr><tr><td>1950</td><td>Walt Faulkner</td><td>American</td><td>0.0</td><td>0</td><td>22</td></tr><tr><td>1950</td><td>Tony Bettenhausen</td><td>American</td><td>0.0</td><td>0</td><td>22</td></tr><tr><td>1950</td><td>Piero Taruffi</td><td>Italian</td><td>0.0</td><td>0</td><td>22</td></tr><tr><td>1950</td><td>Fred Agabashian</td><td>American</td><td>0.0</td><td>0</td><td>22</td></tr><tr><td>1950</td><td>Charles Pozzi</td><td>French</td><td>0.0</td><td>0</td><td>22</td></tr><tr><td>1950</td><td>Franco Rol</td><td>Italian</td><td>0.0</td><td>0</td><td>22</td></tr><tr><td>1950</td><td>Duane Carter</td><td>American</td><td>0.0</td><td>0</td><td>22</td></tr><tr><td>1950</td><td>Henri Louveau</td><td>French</td><td>0.0</td><td>0</td><td>22</td></tr><tr><td>1951</td><td>Juan Fangio</td><td>Argentine</td><td>32.0</td><td>2</td><td>1</td></tr><tr><td>1951</td><td>Alberto Ascari</td><td>Italian</td><td>28.0</td><td>2</td><td>2</td></tr><tr><td>1951</td><td>José Froilán González</td><td>Argentine</td><td>27.0</td><td>1</td><td>3</td></tr><tr><td>1951</td><td>Nino Farina</td><td>Italian</td><td>19.0</td><td>1</td><td>4</td></tr><tr><td>1951</td><td>Luigi Villoresi</td><td>Italian</td><td>18.0</td><td>0</td><td>5</td></tr><tr><td>1951</td><td>Piero Taruffi</td><td>Italian</td><td>10.0</td><td>0</td><td>6</td></tr><tr><td>1951</td><td>Lee Wallard</td><td>American</td><td>9.0</td><td>1</td><td>7</td></tr><tr><td>1951</td><td>Felice Bonetto</td><td>Italian</td><td>7.0</td><td>0</td><td>8</td></tr><tr><td>1951</td><td>Mike Nazaruk</td><td>American</td><td>6.0</td><td>0</td><td>9</td></tr><tr><td>1951</td><td>Reg Parnell</td><td>British</td><td>5.0</td><td>0</td><td>10</td></tr><tr><td>1951</td><td>Luigi Fagioli</td><td>Italian</td><td>4.0</td><td>1</td><td>11</td></tr><tr><td>1951</td><td>Louis Rosier</td><td>French</td><td>3.0</td><td>0</td><td>12</td></tr><tr><td>1951</td><td>Andy Linden</td><td>American</td><td>3.0</td><td>0</td><td>12</td></tr><tr><td>1951</td><td>Consalvo Sanesi</td><td>Italian</td><td>3.0</td><td>0</td><td>12</td></tr><tr><td>1951</td><td>Manny Ayulo</td><td>American</td><td>2.0</td><td>0</td><td>15</td></tr><tr><td>1951</td><td>Jack McGrath</td><td>American</td><td>2.0</td><td>0</td><td>15</td></tr><tr><td>1951</td><td>Bobby Ball</td><td>American</td><td>2.0</td><td>0</td><td>15</td></tr><tr><td>1951</td><td>Toulo de Graffenried</td><td>Swiss</td><td>2.0</td><td>0</td><td>15</td></tr><tr><td>1951</td><td>Yves Cabantous</td><td>French</td><td>2.0</td><td>0</td><td>15</td></tr><tr><td>1951</td><td>Gene Force</td><td>American</td><td>0.0</td><td>0</td><td>20</td></tr><tr><td>1951</td><td>Bill Schindler</td><td>American</td><td>0.0</td><td>0</td><td>20</td></tr><tr><td>1951</td><td>Harry Schell</td><td>American</td><td>0.0</td><td>0</td><td>20</td></tr><tr><td>1951</td><td>Mack Hellings</td><td>American</td><td>0.0</td><td>0</td><td>20</td></tr><tr><td>1951</td><td>Rudi Fischer</td><td>Swiss</td><td>0.0</td><td>0</td><td>20</td></tr><tr><td>1951</td><td>Robert Manzon</td><td>French</td><td>0.0</td><td>0</td><td>20</td></tr><tr><td>1951</td><td>Joe James</td><td>American</td><td>0.0</td><td>0</td><td>20</td></tr><tr><td>1951</td><td>David Murray</td><td>British</td><td>0.0</td><td>0</td><td>20</td></tr><tr><td>1951</td><td>Peter Walker</td><td>British</td><td>0.0</td><td>0</td><td>20</td></tr><tr><td>1951</td><td>Chet Miller</td><td>American</td><td>0.0</td><td>0</td><td>20</td></tr><tr><td>1951</td><td>Aldo Gordini</td><td>French</td><td>0.0</td><td>0</td><td>20</td></tr><tr><td>1951</td><td>Franco Rol</td><td>Italian</td><td>0.0</td><td>0</td><td>20</td></tr><tr><td>1951</td><td>Paul Pietsch</td><td>German</td><td>0.0</td><td>0</td><td>20</td></tr><tr><td>1951</td><td>Eugène Chaboud</td><td>French</td><td>0.0</td><td>0</td><td>20</td></tr><tr><td>1951</td><td>John James</td><td>British</td><td>0.0</td><td>0</td><td>20</td></tr><tr><td>1951</td><td>Chico Landi</td><td>Brazilian</td><td>0.0</td><td>0</td><td>20</td></tr><tr><td>1951</td><td>Troy Ruttman</td><td>American</td><td>0.0</td><td>0</td><td>20</td></tr><tr><td>1951</td><td>Carl Forberg</td><td>American</td><td>0.0</td><td>0</td><td>20</td></tr><tr><td>1951</td><td>Tony Bettenhausen</td><td>American</td><td>0.0</td><td>0</td><td>20</td></tr><tr><td>1951</td><td>Bob Gerard</td><td>British</td><td>0.0</td><td>0</td><td>20</td></tr><tr><td>1951</td><td>Walt Faulkner</td><td>American</td><td>0.0</td><td>0</td><td>20</td></tr><tr><td>1951</td><td>George Abecassis</td><td>British</td><td>0.0</td><td>0</td><td>20</td></tr><tr><td>1951</td><td>Stirling Moss</td><td>British</td><td>0.0</td><td>0</td><td>20</td></tr><tr><td>1951</td><td>Paco Godia</td><td>Spanish</td><td>0.0</td><td>0</td><td>20</td></tr><tr><td>1951</td><td>Philippe Étancelin</td><td>French</td><td>0.0</td><td>0</td><td>20</td></tr><tr><td>1951</td><td>Louis Chiron</td><td>Monegasque</td><td>0.0</td><td>0</td><td>20</td></tr><tr><td>1951</td><td>Henry Banks</td><td>American</td><td>0.0</td><td>0</td><td>20</td></tr><tr><td>1951</td><td>Ken Richardson</td><td>British</td><td>0.0</td><td>0</td><td>20</td></tr><tr><td>1951</td><td>Peter Whitehead</td><td>British</td><td>0.0</td><td>0</td><td>20</td></tr><tr><td>1951</td><td>Onofre Marimón</td><td>Argentine</td><td>0.0</td><td>0</td><td>20</td></tr><tr><td>1951</td><td>Henri Louveau</td><td>French</td><td>0.0</td><td>0</td><td>20</td></tr><tr><td>1951</td><td>Toni Branca</td><td>Swiss</td><td>0.0</td><td>0</td><td>20</td></tr><tr><td>1951</td><td>Georges Grignard</td><td>French</td><td>0.0</td><td>0</td><td>20</td></tr><tr><td>1951</td><td>Philip Fotheringham-Parker</td><td>British</td><td>0.0</td><td>0</td><td>20</td></tr><tr><td>1951</td><td>Juan Jover</td><td>Spanish</td><td>0.0</td><td>0</td><td>20</td></tr><tr><td>1951</td><td>Cliff Griffith</td><td>American</td><td>0.0</td><td>0</td><td>20</td></tr><tr><td>1951</td><td>Joe Kelly</td><td>Irish</td><td>0.0</td><td>0</td><td>20</td></tr><tr><td>1951</td><td>Guy Mairesse</td><td>French</td><td>0.0</td><td>0</td><td>20</td></tr><tr><td>1951</td><td>Fred Agabashian</td><td>American</td><td>0.0</td><td>0</td><td>20</td></tr><tr><td>1951</td><td>Duncan Hamilton</td><td>British</td><td>0.0</td><td>0</td><td>20</td></tr><tr><td>1951</td><td>Bill Vukovich</td><td>American</td><td>0.0</td><td>0</td><td>20</td></tr><tr><td>1951</td><td>Duane Carter</td><td>American</td><td>0.0</td><td>0</td><td>20</td></tr><tr><td>1951</td><td>Maurice Trintignant</td><td>French</td><td>0.0</td><td>0</td><td>20</td></tr><tr><td>1951</td><td>Johnnie Parsons</td><td>American</td><td>0.0</td><td>0</td><td>20</td></tr><tr><td>1951</td><td>Prince Bira</td><td>Thai</td><td>0.0</td><td>0</td><td>20</td></tr><tr><td>1951</td><td>Jimmy Davies</td><td>American</td><td>0.0</td><td>0</td><td>20</td></tr><tr><td>1951</td><td>Walt Brown</td><td>American</td><td>0.0</td><td>0</td><td>20</td></tr><tr><td>1951</td><td>Bill Mackey</td><td>American</td><td>0.0</td><td>0</td><td>20</td></tr><tr><td>1951</td><td>Duke Dinsmore</td><td>American</td><td>0.0</td><td>0</td><td>20</td></tr><tr><td>1951</td><td>André Pilette</td><td>Belgian</td><td>0.0</td><td>0</td><td>20</td></tr><tr><td>1951</td><td>Chuck Stevenson</td><td>American</td><td>0.0</td><td>0</td><td>20</td></tr><tr><td>1951</td><td>Peter Hirt</td><td>Swiss</td><td>0.0</td><td>0</td><td>20</td></tr><tr><td>1951</td><td>Rodger Ward</td><td>American</td><td>0.0</td><td>0</td><td>20</td></tr><tr><td>1951</td><td>Pierre Levegh</td><td>French</td><td>0.0</td><td>0</td><td>20</td></tr><tr><td>1951</td><td>Johnny McDowell</td><td>American</td><td>0.0</td><td>0</td><td>20</td></tr><tr><td>1951</td><td>Jacques Swaters</td><td>American</td><td>0.0</td><td>0</td><td>20</td></tr><tr><td>1951</td><td>Sam Hanks</td><td>American</td><td>0.0</td><td>0</td><td>20</td></tr><tr><td>1951</td><td>Duke Nalon</td><td>American</td><td>0.0</td><td>0</td><td>20</td></tr><tr><td>1951</td><td>Johnny Claes</td><td>Belgian</td><td>0.0</td><td>0</td><td>20</td></tr><tr><td>1951</td><td>Mauri Rose</td><td>American</td><td>0.0</td><td>0</td><td>20</td></tr><tr><td>1951</td><td>Carl Scarborough</td><td>American</td><td>0.0</td><td>0</td><td>20</td></tr><tr><td>1951</td><td>Brian Shawe Taylor</td><td>British</td><td>0.0</td><td>0</td><td>20</td></tr><tr><td>1951</td><td>Cecil Green</td><td>American</td><td>0.0</td><td>0</td><td>20</td></tr><tr><td>1951</td><td>André Simon</td><td>French</td><td>0.0</td><td>0</td><td>20</td></tr><tr><td>1951</td><td>George Connor</td><td>American</td><td>0.0</td><td>0</td><td>20</td></tr><tr><td>1952</td><td>Alberto Ascari</td><td>Italian</td><td>53.5</td><td>6</td><td>1</td></tr><tr><td>1952</td><td>Nino Farina</td><td>Italian</td><td>27.0</td><td>0</td><td>2</td></tr><tr><td>1952</td><td>Piero Taruffi</td><td>Italian</td><td>22.0</td><td>1</td><td>3</td></tr><tr><td>1952</td><td>Mike Hawthorn</td><td>British</td><td>10.0</td><td>0</td><td>4</td></tr><tr><td>1952</td><td>Rudi Fischer</td><td>Swiss</td><td>10.0</td><td>0</td><td>4</td></tr><tr><td>1952</td><td>Robert Manzon</td><td>French</td><td>9.0</td><td>0</td><td>6</td></tr><tr><td>1952</td><td>Troy Ruttman</td><td>American</td><td>8.0</td><td>1</td><td>7</td></tr><tr><td>1952</td><td>Luigi Villoresi</td><td>Italian</td><td>8.0</td><td>0</td><td>8</td></tr><tr><td>1952</td><td>José Froilán González</td><td>Argentine</td><td>6.5</td><td>0</td><td>9</td></tr><tr><td>1952</td><td>Jim Rathmann</td><td>American</td><td>6.0</td><td>0</td><td>10</td></tr><tr><td>1952</td><td>Jean Behra</td><td>French</td><td>6.0</td><td>0</td><td>10</td></tr><tr><td>1952</td><td>Sam Hanks</td><td>American</td><td>4.0</td><td>0</td><td>12</td></tr><tr><td>1952</td><td>Dennis Poore</td><td>British</td><td>3.0</td><td>0</td><td>13</td></tr><tr><td>1952</td><td>Duane Carter</td><td>American</td><td>3.0</td><td>0</td><td>13</td></tr><tr><td>1952</td><td>Ken Wharton</td><td>British</td><td>3.0</td><td>0</td><td>13</td></tr><tr><td>1952</td><td>Art Cross</td><td>American</td><td>2.0</td><td>0</td><td>16</td></tr><tr><td>1952</td><td>Paul Frère</td><td>Belgian</td><td>2.0</td><td>0</td><td>16</td></tr><tr><td>1952</td><td>Maurice Trintignant</td><td>French</td><td>2.0</td><td>0</td><td>16</td></tr><tr><td>1952</td><td>Felice Bonetto</td><td>Italian</td><td>2.0</td><td>0</td><td>16</td></tr><tr><td>1952</td><td>Alan Brown</td><td>British</td><td>2.0</td><td>0</td><td>16</td></tr><tr><td>1952</td><td>Eric Thompson</td><td>British</td><td>2.0</td><td>0</td><td>16</td></tr><tr><td>1952</td><td>Bill Vukovich</td><td>American</td><td>1.0</td><td>0</td><td>22</td></tr><tr><td>1952</td><td>Piero Carini</td><td>Italian</td><td>0.0</td><td>0</td><td>23</td></tr><tr><td>1952</td><td>Chet Miller</td><td>American</td><td>0.0</td><td>0</td><td>23</td></tr><tr><td>1952</td><td>Andy Linden</td><td>American</td><td>0.0</td><td>0</td><td>23</td></tr><tr><td>1952</td><td>Ernst Klodwig</td><td>East German</td><td>0.0</td><td>0</td><td>23</td></tr><tr><td>1952</td><td>Toni Ulmen</td><td>German</td><td>0.0</td><td>0</td><td>23</td></tr><tr><td>1952</td><td>Johnny Claes</td><td>Belgian</td><td>0.0</td><td>0</td><td>23</td></tr><tr><td>1952</td><td>Ken Downing</td><td>British</td><td>0.0</td><td>0</td><td>23</td></tr><tr><td>1952</td><td>Jim Rigsby</td><td>American</td><td>0.0</td><td>0</td><td>23</td></tr><tr><td>1952</td><td>Graham Whitehead</td><td>British</td><td>0.0</td><td>0</td><td>23</td></tr><tr><td>1952</td><td>Eitel Cantoni</td><td>Uruguayan</td><td>0.0</td><td>0</td><td>23</td></tr><tr><td>1952</td><td>Philippe Étancelin</td><td>French</td><td>0.0</td><td>0</td><td>23</td></tr><tr><td>1952</td><td>Joe James</td><td>American</td><td>0.0</td><td>0</td><td>23</td></tr><tr><td>1952</td><td>Helmut Niedermayr</td><td>German</td><td>0.0</td><td>0</td><td>23</td></tr><tr><td>1952</td><td>Bobby Ball</td><td>American</td><td>0.0</td><td>0</td><td>23</td></tr><tr><td>1952</td><td>Peter Whitehead</td><td>British</td><td>0.0</td><td>0</td><td>23</td></tr><tr><td>1952</td><td>George Fonder</td><td>American</td><td>0.0</td><td>0</td><td>23</td></tr><tr><td>1952</td><td>Harry Schell</td><td>American</td><td>0.0</td><td>0</td><td>23</td></tr><tr><td>1952</td><td>Kenneth McAlpine</td><td>British</td><td>0.0</td><td>0</td><td>23</td></tr><tr><td>1952</td><td>Franco Rol</td><td>Italian</td><td>0.0</td><td>0</td><td>23</td></tr><tr><td>1952</td><td>Franco Comotti</td><td>Italian</td><td>0.0</td><td>0</td><td>23</td></tr><tr><td>1952</td><td>Eric Brandon</td><td>British</td><td>0.0</td><td>0</td><td>23</td></tr><tr><td>1952</td><td>Prince Bira</td><td>Thai</td><td>0.0</td><td>0</td><td>23</td></tr><tr><td>1952</td><td>Theo Helfrich</td><td>German</td><td>0.0</td><td>0</td><td>23</td></tr><tr><td>1952</td><td>Alberto Crespo</td><td>Argentine</td><td>0.0</td><td>0</td><td>23</td></tr><tr><td>1952</td><td>Henry Banks</td><td>American</td><td>0.0</td><td>0</td><td>23</td></tr><tr><td>1952</td><td>Piero Dusio</td><td>Italian</td><td>0.0</td><td>0</td><td>23</td></tr><tr><td>1952</td><td>Stirling Moss</td><td>British</td><td>0.0</td><td>0</td><td>23</td></tr><tr><td>1952</td><td>Dries van der Lof</td><td>Dutch</td><td>0.0</td><td>0</td><td>23</td></tr><tr><td>1952</td><td>Hans von Stuck</td><td>German</td><td>0.0</td><td>0</td><td>23</td></tr><tr><td>1952</td><td>Lance Macklin</td><td>British</td><td>0.0</td><td>0</td><td>23</td></tr><tr><td>1952</td><td>Gene Hartley</td><td>American</td><td>0.0</td><td>0</td><td>23</td></tr><tr><td>1952</td><td>Chico Landi</td><td>Brazilian</td><td>0.0</td><td>0</td><td>23</td></tr><tr><td>1952</td><td>Peter Hirt</td><td>Swiss</td><td>0.0</td><td>0</td><td>23</td></tr><tr><td>1952</td><td>Jimmy Reece</td><td>American</td><td>0.0</td><td>0</td><td>23</td></tr><tr><td>1952</td><td>Tony Bettenhausen</td><td>American</td><td>0.0</td><td>0</td><td>23</td></tr><tr><td>1952</td><td>Fritz Riess</td><td>German</td><td>0.0</td><td>0</td><td>23</td></tr><tr><td>1952</td><td>Rodger Ward</td><td>American</td><td>0.0</td><td>0</td><td>23</td></tr><tr><td>1952</td><td>Günther Bechem</td><td>German</td><td>0.0</td><td>0</td><td>23</td></tr><tr><td>1952</td><td>Jack McGrath</td><td>American</td><td>0.0</td><td>0</td><td>23</td></tr><tr><td>1952</td><td>Adolf Brudes</td><td>German</td><td>0.0</td><td>0</td><td>23</td></tr><tr><td>1952</td><td>Tony Crook</td><td>British</td><td>0.0</td><td>0</td><td>23</td></tr><tr><td>1952</td><td>Travis Webb</td><td>American</td><td>0.0</td><td>0</td><td>23</td></tr><tr><td>1952</td><td>Gino Bianco</td><td>Brazilian</td><td>0.0</td><td>0</td><td>23</td></tr><tr><td>1952</td><td>Bob Sweikert</td><td>American</td><td>0.0</td><td>0</td><td>23</td></tr><tr><td>1952</td><td>Charles de Tornaco</td><td>Belgian</td><td>0.0</td><td>0</td><td>23</td></tr><tr><td>1952</td><td>Paul Pietsch</td><td>German</td><td>0.0</td><td>0</td><td>23</td></tr><tr><td>1952</td><td>Max de Terra</td><td>Swiss</td><td>0.0</td><td>0</td><td>23</td></tr><tr><td>1952</td><td>Toulo de Graffenried</td><td>Swiss</td><td>0.0</td><td>0</td><td>23</td></tr><tr><td>1952</td><td>Bill Schindler</td><td>American</td><td>0.0</td><td>0</td><td>23</td></tr><tr><td>1952</td><td>Manny Ayulo</td><td>American</td><td>0.0</td><td>0</td><td>23</td></tr><tr><td>1952</td><td>Duke Nalon</td><td>American</td><td>0.0</td><td>0</td><td>23</td></tr><tr><td>1952</td><td>Johnny McDowell</td><td>American</td><td>0.0</td><td>0</td><td>23</td></tr><tr><td>1952</td><td>Duncan Hamilton</td><td>British</td><td>0.0</td><td>0</td><td>23</td></tr><tr><td>1952</td><td>Peter Collins</td><td>British</td><td>0.0</td><td>0</td><td>23</td></tr><tr><td>1952</td><td>Jimmy Bryan</td><td>American</td><td>0.0</td><td>0</td><td>23</td></tr><tr><td>1952</td><td>Reg Parnell</td><td>British</td><td>0.0</td><td>0</td><td>23</td></tr><tr><td>1952</td><td>Hans Klenk</td><td>German</td><td>0.0</td><td>0</td><td>23</td></tr><tr><td>1952</td><td>Bob Scott</td><td>American</td><td>0.0</td><td>0</td><td>23</td></tr><tr><td>1952</td><td>Josef Peters</td><td>German</td><td>0.0</td><td>0</td><td>23</td></tr><tr><td>1952</td><td>Marcel Balsa</td><td>French</td><td>0.0</td><td>0</td><td>23</td></tr><tr><td>1952</td><td>Yves Cabantous</td><td>French</td><td>0.0</td><td>0</td><td>23</td></tr><tr><td>1952</td><td>George Abecassis</td><td>British</td><td>0.0</td><td>0</td><td>23</td></tr><tr><td>1952</td><td>Louis Rosier</td><td>French</td><td>0.0</td><td>0</td><td>23</td></tr><tr><td>1952</td><td>Élie Bayol</td><td>French</td><td>0.0</td><td>0</td><td>23</td></tr><tr><td>1952</td><td>Robin Montgomerie-Charrington</td><td>British</td><td>0.0</td><td>0</td><td>23</td></tr><tr><td>1952</td><td>Tony Gaze</td><td>Australian</td><td>0.0</td><td>0</td><td>23</td></tr><tr><td>1952</td><td>Jan Flinterman</td><td>Dutch</td><td>0.0</td><td>0</td><td>23</td></tr><tr><td>1952</td><td>Rudolf Krause</td><td>East German</td><td>0.0</td><td>0</td><td>23</td></tr><tr><td>1952</td><td>Fred Agabashian</td><td>American</td><td>0.0</td><td>0</td><td>23</td></tr><tr><td>1952</td><td>Robert O'Brien</td><td>American</td><td>0.0</td><td>0</td><td>23</td></tr><tr><td>1952</td><td>Rudolf Schoeller</td><td>Swiss</td><td>0.0</td><td>0</td><td>23</td></tr><tr><td>1952</td><td>Eddie Johnson</td><td>American</td><td>0.0</td><td>0</td><td>23</td></tr><tr><td>1952</td><td>Cliff Griffith</td><td>American</td><td>0.0</td><td>0</td><td>23</td></tr><tr><td>1952</td><td>George Connor</td><td>American</td><td>0.0</td><td>0</td><td>23</td></tr><tr><td>1952</td><td>Roger Laurent</td><td>Belgian</td><td>0.0</td><td>0</td><td>23</td></tr><tr><td>1952</td><td>Willi Heeks</td><td>German</td><td>0.0</td><td>0</td><td>23</td></tr><tr><td>1952</td><td>Arthur Legat</td><td>Belgian</td><td>0.0</td><td>0</td><td>23</td></tr><tr><td>1952</td><td>Bill Aston</td><td>British</td><td>0.0</td><td>0</td><td>23</td></tr><tr><td>1952</td><td>Roy Salvadori</td><td>British</td><td>0.0</td><td>0</td><td>23</td></tr><tr><td>1952</td><td>Johnnie Parsons</td><td>American</td><td>0.0</td><td>0</td><td>23</td></tr><tr><td>1952</td><td>André Simon</td><td>French</td><td>0.0</td><td>0</td><td>23</td></tr><tr><td>1952</td><td>Chuck Stevenson</td><td>American</td><td>0.0</td><td>0</td><td>23</td></tr><tr><td>1952</td><td>David Murray</td><td>British</td><td>0.0</td><td>0</td><td>23</td></tr><tr><td>1953</td><td>Alberto Ascari</td><td>Italian</td><td>45.5</td><td>5</td><td>1</td></tr><tr><td>1953</td><td>Nino Farina</td><td>Italian</td><td>32.0</td><td>1</td><td>2</td></tr><tr><td>1953</td><td>Juan Fangio</td><td>Argentine</td><td>29.5</td><td>1</td><td>3</td></tr><tr><td>1953</td><td>Mike Hawthorn</td><td>British</td><td>27.0</td><td>1</td><td>4</td></tr><tr><td>1953</td><td>Luigi Villoresi</td><td>Italian</td><td>17.0</td><td>0</td><td>5</td></tr><tr><td>1953</td><td>José Froilán González</td><td>Argentine</td><td>12.5</td><td>0</td><td>6</td></tr><tr><td>1953</td><td>Bill Vukovich</td><td>American</td><td>9.0</td><td>1</td><td>7</td></tr><tr><td>1953</td><td>Toulo de Graffenried</td><td>Swiss</td><td>7.0</td><td>0</td><td>8</td></tr><tr><td>1953</td><td>Art Cross</td><td>American</td><td>6.0</td><td>0</td><td>9</td></tr><tr><td>1953</td><td>Felice Bonetto</td><td>Italian</td><td>5.0</td><td>0</td><td>10</td></tr><tr><td>1953</td><td>Maurice Trintignant</td><td>French</td><td>4.0</td><td>0</td><td>11</td></tr><tr><td>1953</td><td>Onofre Marimón</td><td>Argentine</td><td>4.0</td><td>0</td><td>11</td></tr><tr><td>1953</td><td>Hermann Lang</td><td>German</td><td>2.0</td><td>0</td><td>13</td></tr><tr><td>1953</td><td>Oscar Gálvez</td><td>Argentine</td><td>2.0</td><td>0</td><td>13</td></tr><tr><td>1953</td><td>Jack McGrath</td><td>American</td><td>2.0</td><td>0</td><td>13</td></tr><tr><td>1953</td><td>Sam Hanks</td><td>American</td><td>2.0</td><td>0</td><td>13</td></tr><tr><td>1953</td><td>Fred Agabashian</td><td>American</td><td>1.5</td><td>0</td><td>17</td></tr><tr><td>1953</td><td>Eddie Johnson</td><td>American</td><td>0.0</td><td>0</td><td>18</td></tr><tr><td>1953</td><td>Wolfgang Seidel</td><td>German</td><td>0.0</td><td>0</td><td>18</td></tr><tr><td>1953</td><td>Hans von Stuck</td><td>German</td><td>0.0</td><td>0</td><td>18</td></tr><tr><td>1953</td><td>Stirling Moss</td><td>British</td><td>0.0</td><td>0</td><td>18</td></tr><tr><td>1953</td><td>Georges Berger</td><td>Belgian</td><td>0.0</td><td>0</td><td>18</td></tr><tr><td>1953</td><td>Ernie McCoy</td><td>American</td><td>0.0</td><td>0</td><td>18</td></tr><tr><td>1953</td><td>Piero Carini</td><td>Italian</td><td>0.0</td><td>0</td><td>18</td></tr><tr><td>1953</td><td>Tony Bettenhausen</td><td>American</td><td>0.0</td><td>0</td><td>18</td></tr><tr><td>1953</td><td>Carl Scarborough</td><td>American</td><td>0.0</td><td>0</td><td>18</td></tr><tr><td>1953</td><td>Peter Hirt</td><td>Swiss</td><td>0.0</td><td>0</td><td>18</td></tr><tr><td>1953</td><td>Bob Scott</td><td>American</td><td>0.0</td><td>0</td><td>18</td></tr><tr><td>1953</td><td>André Pilette</td><td>Belgian</td><td>0.0</td><td>0</td><td>18</td></tr><tr><td>1953</td><td>Harry Schell</td><td>American</td><td>0.0</td><td>0</td><td>18</td></tr><tr><td>1953</td><td>Jimmy Davies</td><td>American</td><td>0.0</td><td>0</td><td>18</td></tr><tr><td>1953</td><td>Tony Crook</td><td>British</td><td>0.0</td><td>0</td><td>18</td></tr><tr><td>1953</td><td>Bill Holland</td><td>American</td><td>0.0</td><td>0</td><td>18</td></tr><tr><td>1953</td><td>Ian Stewart</td><td>British</td><td>0.0</td><td>0</td><td>18</td></tr><tr><td>1953</td><td>Duane Carter</td><td>American</td><td>0.0</td><td>0</td><td>18</td></tr><tr><td>1953</td><td>Johnny Claes</td><td>Belgian</td><td>0.0</td><td>0</td><td>18</td></tr><tr><td>1953</td><td>Kenneth McAlpine</td><td>British</td><td>0.0</td><td>0</td><td>18</td></tr><tr><td>1953</td><td>Louis Rosier</td><td>French</td><td>0.0</td><td>0</td><td>18</td></tr><tr><td>1953</td><td>Luigi Musso</td><td>Italian</td><td>0.0</td><td>0</td><td>18</td></tr><tr><td>1953</td><td>Jean Behra</td><td>French</td><td>0.0</td><td>0</td><td>18</td></tr><tr><td>1953</td><td>Bob Sweikert</td><td>American</td><td>0.0</td><td>0</td><td>18</td></tr><tr><td>1953</td><td>Chico Landi</td><td>Brazilian</td><td>0.0</td><td>0</td><td>18</td></tr><tr><td>1953</td><td>Robert Manzon</td><td>French</td><td>0.0</td><td>0</td><td>18</td></tr><tr><td>1953</td><td>Johnny Mantz</td><td>American</td><td>0.0</td><td>0</td><td>18</td></tr><tr><td>1953</td><td>Ernst Klodwig</td><td>East German</td><td>0.0</td><td>0</td><td>18</td></tr><tr><td>1953</td><td>Pat Flaherty</td><td>American</td><td>0.0</td><td>0</td><td>18</td></tr><tr><td>1953</td><td>Rodney Nuckey</td><td>British</td><td>0.0</td><td>0</td><td>18</td></tr><tr><td>1953</td><td>John Barber</td><td>British</td><td>0.0</td><td>0</td><td>18</td></tr><tr><td>1953</td><td>Theo Fitzau</td><td>East German</td><td>0.0</td><td>0</td><td>18</td></tr><tr><td>1953</td><td>Roberto Mieres</td><td>Argentine</td><td>0.0</td><td>0</td><td>18</td></tr><tr><td>1953</td><td>Travis Webb</td><td>American</td><td>0.0</td><td>0</td><td>18</td></tr><tr><td>1953</td><td>Johnnie Parsons</td><td>American</td><td>0.0</td><td>0</td><td>18</td></tr><tr><td>1953</td><td>Max de Terra</td><td>Swiss</td><td>0.0</td><td>0</td><td>18</td></tr><tr><td>1953</td><td>Fred Wacker</td><td>American</td><td>0.0</td><td>0</td><td>18</td></tr><tr><td>1953</td><td>Rodger Ward</td><td>American</td><td>0.0</td><td>0</td><td>18</td></tr><tr><td>1953</td><td>Lance Macklin</td><td>British</td><td>0.0</td><td>0</td><td>18</td></tr><tr><td>1953</td><td>Cal Niday</td><td>American</td><td>0.0</td><td>0</td><td>18</td></tr><tr><td>1953</td><td>Duke Nalon</td><td>American</td><td>0.0</td><td>0</td><td>18</td></tr><tr><td>1953</td><td>Bob Gerard</td><td>British</td><td>0.0</td><td>0</td><td>18</td></tr><tr><td>1953</td><td>Manny Ayulo</td><td>American</td><td>0.0</td><td>0</td><td>18</td></tr><tr><td>1953</td><td>Élie Bayol</td><td>French</td><td>0.0</td><td>0</td><td>18</td></tr><tr><td>1953</td><td>Duncan Hamilton</td><td>British</td><td>0.0</td><td>0</td><td>18</td></tr><tr><td>1953</td><td>Jacques Swaters</td><td>American</td><td>0.0</td><td>0</td><td>18</td></tr><tr><td>1953</td><td>Peter Collins</td><td>British</td><td>0.0</td><td>0</td><td>18</td></tr><tr><td>1953</td><td>Carlos Menditeguy</td><td>Argentine</td><td>0.0</td><td>0</td><td>18</td></tr><tr><td>1953</td><td>Yves Cabantous</td><td>French</td><td>0.0</td><td>0</td><td>18</td></tr><tr><td>1953</td><td>Kurt Adolff</td><td>German</td><td>0.0</td><td>0</td><td>18</td></tr><tr><td>1953</td><td>Adolfo Cruz</td><td>Argentine</td><td>0.0</td><td>0</td><td>18</td></tr><tr><td>1953</td><td>Theo Helfrich</td><td>German</td><td>0.0</td><td>0</td><td>18</td></tr><tr><td>1953</td><td>Duke Dinsmore</td><td>American</td><td>0.0</td><td>0</td><td>18</td></tr><tr><td>1953</td><td>Alan Brown</td><td>British</td><td>0.0</td><td>0</td><td>18</td></tr><tr><td>1953</td><td>Jimmy Bryan</td><td>American</td><td>0.0</td><td>0</td><td>18</td></tr><tr><td>1953</td><td>Willi Heeks</td><td>German</td><td>0.0</td><td>0</td><td>18</td></tr><tr><td>1953</td><td>Peter Whitehead</td><td>British</td><td>0.0</td><td>0</td><td>18</td></tr><tr><td>1953</td><td>Tony Rolt</td><td>British</td><td>0.0</td><td>0</td><td>18</td></tr><tr><td>1953</td><td>Jimmy Daywalt</td><td>American</td><td>0.0</td><td>0</td><td>18</td></tr><tr><td>1953</td><td>Günther Bechem</td><td>German</td><td>0.0</td><td>0</td><td>18</td></tr><tr><td>1953</td><td>Roy Salvadori</td><td>British</td><td>0.0</td><td>0</td><td>18</td></tr><tr><td>1953</td><td>Prince Bira</td><td>Thai</td><td>0.0</td><td>0</td><td>18</td></tr><tr><td>1953</td><td>Hans Herrmann</td><td>German</td><td>0.0</td><td>0</td><td>18</td></tr><tr><td>1953</td><td>Sergio Mantovani</td><td>Italian</td><td>0.0</td><td>0</td><td>18</td></tr><tr><td>1953</td><td>Andy Linden</td><td>American</td><td>0.0</td><td>0</td><td>18</td></tr><tr><td>1953</td><td>Jack Fairman</td><td>British</td><td>0.0</td><td>0</td><td>18</td></tr><tr><td>1953</td><td>Louis Chiron</td><td>Monegasque</td><td>0.0</td><td>0</td><td>18</td></tr><tr><td>1953</td><td>Marshall Teague</td><td>American</td><td>0.0</td><td>0</td><td>18</td></tr><tr><td>1953</td><td>Edgar Barth</td><td>German</td><td>0.0</td><td>0</td><td>18</td></tr><tr><td>1953</td><td>Albert Scherrer</td><td>Swiss</td><td>0.0</td><td>0</td><td>18</td></tr><tr><td>1953</td><td>Jim Rathmann</td><td>American</td><td>0.0</td><td>0</td><td>18</td></tr><tr><td>1953</td><td>Ken Wharton</td><td>British</td><td>0.0</td><td>0</td><td>18</td></tr><tr><td>1953</td><td>Oswald Karch</td><td>German</td><td>0.0</td><td>0</td><td>18</td></tr><tr><td>1953</td><td>Rudolf Krause</td><td>East German</td><td>0.0</td><td>0</td><td>18</td></tr><tr><td>1953</td><td>Don Freeland</td><td>American</td><td>0.0</td><td>0</td><td>18</td></tr><tr><td>1953</td><td>Umberto Maglioli</td><td>Italian</td><td>0.0</td><td>0</td><td>18</td></tr><tr><td>1953</td><td>Erwin Bauer</td><td>German</td><td>0.0</td><td>0</td><td>18</td></tr><tr><td>1953</td><td>Walt Faulkner</td><td>American</td><td>0.0</td><td>0</td><td>18</td></tr><tr><td>1953</td><td>Chuck Stevenson</td><td>American</td><td>0.0</td><td>0</td><td>18</td></tr><tr><td>1953</td><td>Paul Frère</td><td>Belgian</td><td>0.0</td><td>0</td><td>18</td></tr><tr><td>1953</td><td>John Fitch</td><td>American</td><td>0.0</td><td>0</td><td>18</td></tr><tr><td>1953</td><td>Mike Nazaruk</td><td>American</td><td>0.0</td><td>0</td><td>18</td></tr><tr><td>1953</td><td>Gene Hartley</td><td>American</td><td>0.0</td><td>0</td><td>18</td></tr><tr><td>1953</td><td>Jimmy Stewart</td><td>British</td><td>0.0</td><td>0</td><td>18</td></tr><tr><td>1953</td><td>Ernst Loof</td><td>German</td><td>0.0</td><td>0</td><td>18</td></tr><tr><td>1953</td><td>Arthur Legat</td><td>Belgian</td><td>0.0</td><td>0</td><td>18</td></tr><tr><td>1953</td><td>Paul Russo</td><td>American</td><td>0.0</td><td>0</td><td>18</td></tr><tr><td>1953</td><td>Jackie Holmes</td><td>American</td><td>0.0</td><td>0</td><td>18</td></tr><tr><td>1953</td><td>Jerry Hoyt</td><td>American</td><td>0.0</td><td>0</td><td>18</td></tr><tr><td>1953</td><td>Pablo Birger</td><td>Argentine</td><td>0.0</td><td>0</td><td>18</td></tr><tr><td>1953</td><td>Johnny Thomson</td><td>American</td><td>0.0</td><td>0</td><td>18</td></tr><tr><td>1954</td><td>Juan Fangio</td><td>Argentine</td><td>57.140000104904175</td><td>6</td><td>1</td></tr><tr><td>1954</td><td>José Froilán González</td><td>Argentine</td><td>23.640000343322754</td><td>1</td><td>2</td></tr><tr><td>1954</td><td>Mike Hawthorn</td><td>British</td><td>21.639999866485596</td><td>1</td><td>3</td></tr><tr><td>1954</td><td>Maurice Trintignant</td><td>French</td><td>17.0</td><td>0</td><td>4</td></tr><tr><td>1954</td><td>Karl Kling</td><td>German</td><td>12.0</td><td>0</td><td>5</td></tr><tr><td>1954</td><td>Bill Vukovich</td><td>American</td><td>8.0</td><td>1</td><td>6</td></tr><tr><td>1954</td><td>Hans Herrmann</td><td>German</td><td>8.0</td><td>0</td><td>7</td></tr><tr><td>1954</td><td>Luigi Musso</td><td>Italian</td><td>6.0</td><td>0</td><td>8</td></tr><tr><td>1954</td><td>Roberto Mieres</td><td>Argentine</td><td>6.0</td><td>0</td><td>8</td></tr><tr><td>1954</td><td>Jimmy Bryan</td><td>American</td><td>6.0</td><td>0</td><td>8</td></tr><tr><td>1954</td><td>Nino Farina</td><td>Italian</td><td>6.0</td><td>0</td><td>8</td></tr><tr><td>1954</td><td>Jack McGrath</td><td>American</td><td>5.0</td><td>0</td><td>12</td></tr><tr><td>1954</td><td>Onofre Marimón</td><td>Argentine</td><td>4.139999866485596</td><td>0</td><td>13</td></tr><tr><td>1954</td><td>Sergio Mantovani</td><td>Italian</td><td>4.0</td><td>0</td><td>14</td></tr><tr><td>1954</td><td>Stirling Moss</td><td>British</td><td>4.0</td><td>0</td><td>14</td></tr><tr><td>1954</td><td>Robert Manzon</td><td>French</td><td>4.0</td><td>0</td><td>14</td></tr><tr><td>1954</td><td>Prince Bira</td><td>Thai</td><td>3.0</td><td>0</td><td>17</td></tr><tr><td>1954</td><td>André Pilette</td><td>Belgian</td><td>2.0</td><td>0</td><td>18</td></tr><tr><td>1954</td><td>Umberto Maglioli</td><td>Italian</td><td>2.0</td><td>0</td><td>18</td></tr><tr><td>1954</td><td>Élie Bayol</td><td>French</td><td>2.0</td><td>0</td><td>18</td></tr><tr><td>1954</td><td>Mike Nazaruk</td><td>American</td><td>2.0</td><td>0</td><td>18</td></tr><tr><td>1954</td><td>Luigi Villoresi</td><td>Italian</td><td>2.0</td><td>0</td><td>18</td></tr><tr><td>1954</td><td>Troy Ruttman</td><td>American</td><td>1.5</td><td>0</td><td>23</td></tr><tr><td>1954</td><td>Alberto Ascari</td><td>Italian</td><td>1.0</td><td>0</td><td>24</td></tr><tr><td>1954</td><td>Jorge Daponte</td><td>Argentine</td><td>0.0</td><td>0</td><td>25</td></tr><tr><td>1954</td><td>John Riseley-Prichard</td><td>British</td><td>0.0</td><td>0</td><td>25</td></tr><tr><td>1954</td><td>Peter Collins</td><td>British</td><td>0.0</td><td>0</td><td>25</td></tr><tr><td>1954</td><td>Bob Scott</td><td>American</td><td>0.0</td><td>0</td><td>25</td></tr><tr><td>1954</td><td>Hermann Lang</td><td>German</td><td>0.0</td><td>0</td><td>25</td></tr><tr><td>1954</td><td>Gene Hartley</td><td>American</td><td>0.0</td><td>0</td><td>25</td></tr><tr><td>1954</td><td>Louis Rosier</td><td>French</td><td>0.0</td><td>0</td><td>25</td></tr><tr><td>1954</td><td>Giovanni de Riu</td><td>Italian</td><td>0.0</td><td>0</td><td>25</td></tr><tr><td>1954</td><td>Jimmy Jackson</td><td>American</td><td>0.0</td><td>0</td><td>25</td></tr><tr><td>1954</td><td>Jimmy Davies</td><td>American</td><td>0.0</td><td>0</td><td>25</td></tr><tr><td>1954</td><td>Ernie McCoy</td><td>American</td><td>0.0</td><td>0</td><td>25</td></tr><tr><td>1954</td><td>Pat Flaherty</td><td>American</td><td>0.0</td><td>0</td><td>25</td></tr><tr><td>1954</td><td>Bob Gerard</td><td>British</td><td>0.0</td><td>0</td><td>25</td></tr><tr><td>1954</td><td>Leslie Marr</td><td>British</td><td>0.0</td><td>0</td><td>25</td></tr><tr><td>1954</td><td>Carlos Menditeguy</td><td>Argentine</td><td>0.0</td><td>0</td><td>25</td></tr><tr><td>1954</td><td>Piero Taruffi</td><td>Italian</td><td>0.0</td><td>0</td><td>25</td></tr><tr><td>1954</td><td>Bill Whitehouse</td><td>British</td><td>0.0</td><td>0</td><td>25</td></tr><tr><td>1954</td><td>Frank Armi</td><td>American</td><td>0.0</td><td>0</td><td>25</td></tr><tr><td>1954</td><td>Harry Schell</td><td>American</td><td>0.0</td><td>0</td><td>25</td></tr><tr><td>1954</td><td>Ottorino Volonterio</td><td>Swiss</td><td>0.0</td><td>0</td><td>25</td></tr><tr><td>1954</td><td>Rodney Nuckey</td><td>British</td><td>0.0</td><td>0</td><td>25</td></tr><tr><td>1954</td><td>Clemar Bucci</td><td>Argentine</td><td>0.0</td><td>0</td><td>25</td></tr><tr><td>1954</td><td>Pat O'Connor</td><td>American</td><td>0.0</td><td>0</td><td>25</td></tr><tr><td>1954</td><td>Jimmy Daywalt</td><td>American</td><td>0.0</td><td>0</td><td>25</td></tr><tr><td>1954</td><td>Leslie Thorne</td><td>British</td><td>0.0</td><td>0</td><td>25</td></tr><tr><td>1954</td><td>Georges Berger</td><td>Belgian</td><td>0.0</td><td>0</td><td>25</td></tr><tr><td>1954</td><td>Ken Wharton</td><td>British</td><td>0.0</td><td>0</td><td>25</td></tr><tr><td>1954</td><td>Paco Godia</td><td>Spanish</td><td>0.0</td><td>0</td><td>25</td></tr><tr><td>1954</td><td>Marshall Teague</td><td>American</td><td>0.0</td><td>0</td><td>25</td></tr><tr><td>1954</td><td>Ed Elisian</td><td>American</td><td>0.0</td><td>0</td><td>25</td></tr><tr><td>1954</td><td>Andy Linden</td><td>American</td><td>0.0</td><td>0</td><td>25</td></tr><tr><td>1954</td><td>Manny Ayulo</td><td>American</td><td>0.0</td><td>0</td><td>25</td></tr><tr><td>1954</td><td>Art Cross</td><td>American</td><td>0.0</td><td>0</td><td>25</td></tr><tr><td>1954</td><td>Johnny Thomson</td><td>American</td><td>0.0</td><td>0</td><td>25</td></tr><tr><td>1954</td><td>Bill Homeier</td><td>American</td><td>0.0</td><td>0</td><td>25</td></tr><tr><td>1954</td><td>Jim Rathmann</td><td>American</td><td>0.0</td><td>0</td><td>25</td></tr><tr><td>1954</td><td>Fred Wacker</td><td>American</td><td>0.0</td><td>0</td><td>25</td></tr><tr><td>1954</td><td>Jean Behra</td><td>French</td><td>0.0</td><td>0</td><td>25</td></tr><tr><td>1954</td><td>Toulo de Graffenried</td><td>Swiss</td><td>0.0</td><td>0</td><td>25</td></tr><tr><td>1954</td><td>Roger Loyer</td><td>French</td><td>0.0</td><td>0</td><td>25</td></tr><tr><td>1954</td><td>Cal Niday</td><td>American</td><td>0.0</td><td>0</td><td>25</td></tr><tr><td>1954</td><td>Johnnie Parsons</td><td>American</td><td>0.0</td><td>0</td><td>25</td></tr><tr><td>1954</td><td>Tony Bettenhausen</td><td>American</td><td>0.0</td><td>0</td><td>25</td></tr><tr><td>1954</td><td>Jimmy Reece</td><td>American</td><td>0.0</td><td>0</td><td>25</td></tr><tr><td>1954</td><td>Lance Macklin</td><td>British</td><td>0.0</td><td>0</td><td>25</td></tr><tr><td>1954</td><td>Alan Brown</td><td>British</td><td>0.0</td><td>0</td><td>25</td></tr><tr><td>1954</td><td>Jerry Hoyt</td><td>American</td><td>0.0</td><td>0</td><td>25</td></tr><tr><td>1954</td><td>Peter Whitehead</td><td>British</td><td>0.0</td><td>0</td><td>25</td></tr><tr><td>1954</td><td>Theo Helfrich</td><td>German</td><td>0.0</td><td>0</td><td>25</td></tr><tr><td>1954</td><td>Chuck Stevenson</td><td>American</td><td>0.0</td><td>0</td><td>25</td></tr><tr><td>1954</td><td>Paul Frère</td><td>Belgian</td><td>0.0</td><td>0</td><td>25</td></tr><tr><td>1954</td><td>Bob Sweikert</td><td>American</td><td>0.0</td><td>0</td><td>25</td></tr><tr><td>1954</td><td>Fred Agabashian</td><td>American</td><td>0.0</td><td>0</td><td>25</td></tr><tr><td>1954</td><td>Duane Carter</td><td>American</td><td>0.0</td><td>0</td><td>25</td></tr><tr><td>1954</td><td>Don Beauman</td><td>British</td><td>0.0</td><td>0</td><td>25</td></tr><tr><td>1954</td><td>Eric Brandon</td><td>British</td><td>0.0</td><td>0</td><td>25</td></tr><tr><td>1954</td><td>Horace Gould</td><td>British</td><td>0.0</td><td>0</td><td>25</td></tr><tr><td>1954</td><td>Len Duncan</td><td>American</td><td>0.0</td><td>0</td><td>25</td></tr><tr><td>1954</td><td>Reg Parnell</td><td>British</td><td>0.0</td><td>0</td><td>25</td></tr><tr><td>1954</td><td>Travis Webb</td><td>American</td><td>0.0</td><td>0</td><td>25</td></tr><tr><td>1954</td><td>Roy Salvadori</td><td>British</td><td>0.0</td><td>0</td><td>25</td></tr><tr><td>1954</td><td>Walt Faulkner</td><td>American</td><td>0.0</td><td>0</td><td>25</td></tr><tr><td>1954</td><td>Don Freeland</td><td>American</td><td>0.0</td><td>0</td><td>25</td></tr><tr><td>1954</td><td>Sam Hanks</td><td>American</td><td>0.0</td><td>0</td><td>25</td></tr><tr><td>1954</td><td>George Fonder</td><td>American</td><td>0.0</td><td>0</td><td>25</td></tr><tr><td>1954</td><td>Ron Flockhart</td><td>British</td><td>0.0</td><td>0</td><td>25</td></tr><tr><td>1954</td><td>Rodger Ward</td><td>American</td><td>0.0</td><td>0</td><td>25</td></tr><tr><td>1954</td><td>Paul Russo</td><td>American</td><td>0.0</td><td>0</td><td>25</td></tr><tr><td>1954</td><td>Danny Kladis</td><td>American</td><td>0.0</td><td>0</td><td>25</td></tr><tr><td>1954</td><td>Jacques Swaters</td><td>American</td><td>0.0</td><td>0</td><td>25</td></tr><tr><td>1954</td><td>Jacques Pollet</td><td>French</td><td>0.0</td><td>0</td><td>25</td></tr><tr><td>1954</td><td>Larry Crockett</td><td>American</td><td>0.0</td><td>0</td><td>25</td></tr><tr><td>1954</td><td>Eddie Johnson</td><td>American</td><td>0.0</td><td>0</td><td>25</td></tr><tr><td>1955</td><td>Juan Fangio</td><td>Argentine</td><td>41.0</td><td>4</td><td>1</td></tr><tr><td>1955</td><td>Stirling Moss</td><td>British</td><td>22.0</td><td>1</td><td>2</td></tr><tr><td>1955</td><td>Eugenio Castellotti</td><td>Italian</td><td>12.0</td><td>0</td><td>3</td></tr><tr><td>1955</td><td>Piero Taruffi</td><td>Italian</td><td>9.0</td><td>0</td><td>4</td></tr><tr><td>1955</td><td>Nino Farina</td><td>Italian</td><td>8.330000042915344</td><td>0</td><td>5</td></tr><tr><td>1955</td><td>Maurice Trintignant</td><td>French</td><td>8.0</td><td>1</td><td>6</td></tr><tr><td>1955</td><td>Bob Sweikert</td><td>American</td><td>8.0</td><td>1</td><td>6</td></tr><tr><td>1955</td><td>Roberto Mieres</td><td>Argentine</td><td>7.0</td><td>0</td><td>8</td></tr><tr><td>1955</td><td>Luigi Musso</td><td>Italian</td><td>6.0</td><td>0</td><td>9</td></tr><tr><td>1955</td><td>Jean Behra</td><td>French</td><td>5.0</td><td>0</td><td>10</td></tr><tr><td>1955</td><td>Jimmy Davies</td><td>American</td><td>4.0</td><td>0</td><td>11</td></tr><tr><td>1955</td><td>Karl Kling</td><td>German</td><td>4.0</td><td>0</td><td>11</td></tr><tr><td>1955</td><td>Johnny Thomson</td><td>American</td><td>3.0</td><td>0</td><td>13</td></tr><tr><td>1955</td><td>Paul Frère</td><td>Belgian</td><td>3.0</td><td>0</td><td>13</td></tr><tr><td>1955</td><td>Tony Bettenhausen</td><td>American</td><td>3.0</td><td>0</td><td>13</td></tr><tr><td>1955</td><td>Paul Russo</td><td>American</td><td>3.0</td><td>0</td><td>13</td></tr><tr><td>1955</td><td>Carlos Menditeguy</td><td>Argentine</td><td>2.0</td><td>0</td><td>17</td></tr><tr><td>1955</td><td>Luigi Villoresi</td><td>Italian</td><td>2.0</td><td>0</td><td>17</td></tr><tr><td>1955</td><td>José Froilán González</td><td>Argentine</td><td>2.0</td><td>0</td><td>17</td></tr><tr><td>1955</td><td>Umberto Maglioli</td><td>Italian</td><td>1.3300000429153442</td><td>0</td><td>20</td></tr><tr><td>1955</td><td>Bill Vukovich</td><td>American</td><td>1.0</td><td>0</td><td>21</td></tr><tr><td>1955</td><td>Bill Homeier</td><td>American</td><td>1.0</td><td>0</td><td>21</td></tr><tr><td>1955</td><td>Walt Faulkner</td><td>American</td><td>1.0</td><td>0</td><td>21</td></tr><tr><td>1955</td><td>Hans Herrmann</td><td>German</td><td>1.0</td><td>0</td><td>21</td></tr><tr><td>1955</td><td>Peter Collins</td><td>British</td><td>0.0</td><td>0</td><td>25</td></tr><tr><td>1955</td><td>Johnnie Parsons</td><td>American</td><td>0.0</td><td>0</td><td>25</td></tr><tr><td>1955</td><td>Kenneth McAlpine</td><td>British</td><td>0.0</td><td>0</td><td>25</td></tr><tr><td>1955</td><td>Don Freeland</td><td>American</td><td>0.0</td><td>0</td><td>25</td></tr><tr><td>1955</td><td>John Fitch</td><td>American</td><td>0.0</td><td>0</td><td>25</td></tr><tr><td>1955</td><td>Cesare Perdisa</td><td>Italian</td><td>0.0</td><td>0</td><td>25</td></tr><tr><td>1955</td><td>Jim Rathmann</td><td>American</td><td>0.0</td><td>0</td><td>25</td></tr><tr><td>1955</td><td>Horace Gould</td><td>British</td><td>0.0</td><td>0</td><td>25</td></tr><tr><td>1955</td><td>Eddie Russo</td><td>American</td><td>0.0</td><td>0</td><td>25</td></tr><tr><td>1955</td><td>Pat Flaherty</td><td>American</td><td>0.0</td><td>0</td><td>25</td></tr><tr><td>1955</td><td>Al Herman</td><td>American</td><td>0.0</td><td>0</td><td>25</td></tr><tr><td>1955</td><td>Duane Carter</td><td>American</td><td>0.0</td><td>0</td><td>25</td></tr><tr><td>1955</td><td>Alberto Ascari</td><td>Italian</td><td>0.0</td><td>0</td><td>25</td></tr><tr><td>1955</td><td>Al Keller</td><td>American</td><td>0.0</td><td>0</td><td>25</td></tr><tr><td>1955</td><td>Pat O'Connor</td><td>American</td><td>0.0</td><td>0</td><td>25</td></tr><tr><td>1955</td><td>Johnny Boyd</td><td>American</td><td>0.0</td><td>0</td><td>25</td></tr><tr><td>1955</td><td>Ed Elisian</td><td>American</td><td>0.0</td><td>0</td><td>25</td></tr><tr><td>1955</td><td>Roy Salvadori</td><td>British</td><td>0.0</td><td>0</td><td>25</td></tr><tr><td>1955</td><td>Jack Brabham</td><td>Australian</td><td>0.0</td><td>0</td><td>25</td></tr><tr><td>1955</td><td>Alberto Uria</td><td>Uruguayan</td><td>0.0</td><td>0</td><td>25</td></tr><tr><td>1955</td><td>Eddie Johnson</td><td>American</td><td>0.0</td><td>0</td><td>25</td></tr><tr><td>1955</td><td>Jean Lucas</td><td>French</td><td>0.0</td><td>0</td><td>25</td></tr><tr><td>1955</td><td>Fred Agabashian</td><td>American</td><td>0.0</td><td>0</td><td>25</td></tr><tr><td>1955</td><td>Ted Whiteaway</td><td>British</td><td>0.0</td><td>0</td><td>25</td></tr><tr><td>1955</td><td>Ken Wharton</td><td>British</td><td>0.0</td><td>0</td><td>25</td></tr><tr><td>1955</td><td>Clemar Bucci</td><td>Argentine</td><td>0.0</td><td>0</td><td>25</td></tr><tr><td>1955</td><td>Art Cross</td><td>American</td><td>0.0</td><td>0</td><td>25</td></tr><tr><td>1955</td><td>Luigi Piotti</td><td>Italian</td><td>0.0</td><td>0</td><td>25</td></tr><tr><td>1955</td><td>Jesús Iglesias</td><td>Argentine</td><td>0.0</td><td>0</td><td>25</td></tr><tr><td>1955</td><td>Louis Rosier</td><td>French</td><td>0.0</td><td>0</td><td>25</td></tr><tr><td>1955</td><td>Jacques Pollet</td><td>French</td><td>0.0</td><td>0</td><td>25</td></tr><tr><td>1955</td><td>Chuck Weyant</td><td>American</td><td>0.0</td><td>0</td><td>25</td></tr><tr><td>1955</td><td>Jimmy Reece</td><td>American</td><td>0.0</td><td>0</td><td>25</td></tr><tr><td>1955</td><td>Harry Schell</td><td>American</td><td>0.0</td><td>0</td><td>25</td></tr><tr><td>1955</td><td>Andy Linden</td><td>American</td><td>0.0</td><td>0</td><td>25</td></tr><tr><td>1955</td><td>Lance Macklin</td><td>British</td><td>0.0</td><td>0</td><td>25</td></tr><tr><td>1955</td><td>Sergio Mantovani</td><td>Italian</td><td>0.0</td><td>0</td><td>25</td></tr><tr><td>1955</td><td>Mike Hawthorn</td><td>British</td><td>0.0</td><td>0</td><td>25</td></tr><tr><td>1955</td><td>Hernando da Silva Ramos</td><td>Brazilian</td><td>0.0</td><td>0</td><td>25</td></tr><tr><td>1955</td><td>Mike Sparken</td><td>French</td><td>0.0</td><td>0</td><td>25</td></tr><tr><td>1955</td><td>Louis Chiron</td><td>Monegasque</td><td>0.0</td><td>0</td><td>25</td></tr><tr><td>1955</td><td>Ray Crawford</td><td>American</td><td>0.0</td><td>0</td><td>25</td></tr><tr><td>1955</td><td>Élie Bayol</td><td>French</td><td>0.0</td><td>0</td><td>25</td></tr><tr><td>1955</td><td>Jack McGrath</td><td>American</td><td>0.0</td><td>0</td><td>25</td></tr><tr><td>1955</td><td>Jimmy Daywalt</td><td>American</td><td>0.0</td><td>0</td><td>25</td></tr><tr><td>1955</td><td>Jimmy Bryan</td><td>American</td><td>0.0</td><td>0</td><td>25</td></tr><tr><td>1955</td><td>Jack Fairman</td><td>British</td><td>0.0</td><td>0</td><td>25</td></tr><tr><td>1955</td><td>Leslie Marr</td><td>British</td><td>0.0</td><td>0</td><td>25</td></tr><tr><td>1955</td><td>Rodger Ward</td><td>American</td><td>0.0</td><td>0</td><td>25</td></tr><tr><td>1955</td><td>Tony Rolt</td><td>British</td><td>0.0</td><td>0</td><td>25</td></tr><tr><td>1955</td><td>Robert Manzon</td><td>French</td><td>0.0</td><td>0</td><td>25</td></tr><tr><td>1955</td><td>André Simon</td><td>French</td><td>0.0</td><td>0</td><td>25</td></tr><tr><td>1955</td><td>Cal Niday</td><td>American</td><td>0.0</td><td>0</td><td>25</td></tr><tr><td>1955</td><td>Shorty Templeman</td><td>American</td><td>0.0</td><td>0</td><td>25</td></tr><tr><td>1955</td><td>Johnny Claes</td><td>Belgian</td><td>0.0</td><td>0</td><td>25</td></tr><tr><td>1955</td><td>Sam Hanks</td><td>American</td><td>0.0</td><td>0</td><td>25</td></tr><tr><td>1955</td><td>Pablo Birger</td><td>Argentine</td><td>0.0</td><td>0</td><td>25</td></tr><tr><td>1955</td><td>Keith Andrews</td><td>American</td><td>0.0</td><td>0</td><td>25</td></tr><tr><td>1955</td><td>Peter Walker</td><td>British</td><td>0.0</td><td>0</td><td>25</td></tr><tr><td>1955</td><td>Jerry Hoyt</td><td>American</td><td>0.0</td><td>0</td><td>25</td></tr><tr><td>1956</td><td>Stirling Moss</td><td>British</td><td>24.0</td><td>2</td><td>1</td></tr><tr><td>1956</td><td>Juan Fangio</td><td>Argentine</td><td>22.5</td><td>2</td><td>2</td></tr><tr><td>1956</td><td>Peter Collins</td><td>British</td><td>22.0</td><td>2</td><td>3</td></tr><tr><td>1956</td><td>Jean Behra</td><td>French</td><td>22.0</td><td>0</td><td>4</td></tr><tr><td>1956</td><td>Pat Flaherty</td><td>American</td><td>8.0</td><td>1</td><td>5</td></tr><tr><td>1956</td><td>Eugenio Castellotti</td><td>Italian</td><td>6.0</td><td>0</td><td>6</td></tr><tr><td>1956</td><td>Paul Frère</td><td>Belgian</td><td>6.0</td><td>0</td><td>6</td></tr><tr><td>1956</td><td>Sam Hanks</td><td>American</td><td>6.0</td><td>0</td><td>6</td></tr><tr><td>1956</td><td>Paco Godia</td><td>Spanish</td><td>6.0</td><td>0</td><td>6</td></tr><tr><td>1956</td><td>Luigi Musso</td><td>Italian</td><td>5.0</td><td>1</td><td>10</td></tr><tr><td>1956</td><td>Jack Fairman</td><td>British</td><td>5.0</td><td>0</td><td>11</td></tr><tr><td>1956</td><td>Don Freeland</td><td>American</td><td>4.0</td><td>0</td><td>12</td></tr><tr><td>1956</td><td>Ron Flockhart</td><td>British</td><td>4.0</td><td>0</td><td>12</td></tr><tr><td>1956</td><td>Mike Hawthorn</td><td>British</td><td>4.0</td><td>0</td><td>12</td></tr><tr><td>1956</td><td>Cesare Perdisa</td><td>Italian</td><td>3.0</td><td>0</td><td>15</td></tr><tr><td>1956</td><td>Johnnie Parsons</td><td>American</td><td>3.0</td><td>0</td><td>15</td></tr><tr><td>1956</td><td>Harry Schell</td><td>American</td><td>3.0</td><td>0</td><td>15</td></tr><tr><td>1956</td><td>Alfonso de Portago</td><td>Spanish</td><td>3.0</td><td>0</td><td>15</td></tr><tr><td>1956</td><td>Louis Rosier</td><td>French</td><td>2.0</td><td>0</td><td>19</td></tr><tr><td>1956</td><td>Dick Rathmann</td><td>American</td><td>2.0</td><td>0</td><td>19</td></tr><tr><td>1956</td><td>Olivier Gendebien</td><td>Belgian</td><td>2.0</td><td>0</td><td>19</td></tr><tr><td>1956</td><td>Horace Gould</td><td>British</td><td>2.0</td><td>0</td><td>19</td></tr><tr><td>1956</td><td>Luigi Villoresi</td><td>Italian</td><td>2.0</td><td>0</td><td>19</td></tr><tr><td>1956</td><td>Hernando da Silva Ramos</td><td>Brazilian</td><td>2.0</td><td>0</td><td>19</td></tr><tr><td>1956</td><td>Gerino Gerini</td><td>Italian</td><td>1.5</td><td>0</td><td>25</td></tr><tr><td>1956</td><td>Chico Landi</td><td>Brazilian</td><td>1.5</td><td>0</td><td>25</td></tr><tr><td>1956</td><td>Paul Russo</td><td>American</td><td>1.0</td><td>0</td><td>27</td></tr><tr><td>1956</td><td>Fred Agabashian</td><td>American</td><td>0.0</td><td>0</td><td>28</td></tr><tr><td>1956</td><td>José Froilán González</td><td>Argentine</td><td>0.0</td><td>0</td><td>28</td></tr><tr><td>1956</td><td>Keith Andrews</td><td>American</td><td>0.0</td><td>0</td><td>28</td></tr><tr><td>1956</td><td>Pat O'Connor</td><td>American</td><td>0.0</td><td>0</td><td>28</td></tr><tr><td>1956</td><td>Louis Chiron</td><td>Monegasque</td><td>0.0</td><td>0</td><td>28</td></tr><tr><td>1956</td><td>Duke Dinsmore</td><td>American</td><td>0.0</td><td>0</td><td>28</td></tr><tr><td>1956</td><td>Cliff Griffith</td><td>American</td><td>0.0</td><td>0</td><td>28</td></tr><tr><td>1956</td><td>Alberto Uria</td><td>Uruguayan</td><td>0.0</td><td>0</td><td>28</td></tr><tr><td>1956</td><td>Robert Manzon</td><td>French</td><td>0.0</td><td>0</td><td>28</td></tr><tr><td>1956</td><td>Maurice Trintignant</td><td>French</td><td>0.0</td><td>0</td><td>28</td></tr><tr><td>1956</td><td>Ray Crawford</td><td>American</td><td>0.0</td><td>0</td><td>28</td></tr><tr><td>1956</td><td>Roy Salvadori</td><td>British</td><td>0.0</td><td>0</td><td>28</td></tr><tr><td>1956</td><td>Tony Bettenhausen</td><td>American</td><td>0.0</td><td>0</td><td>28</td></tr><tr><td>1956</td><td>Eddie Russo</td><td>American</td><td>0.0</td><td>0</td><td>28</td></tr><tr><td>1956</td><td>Jo Bonnier</td><td>Swedish</td><td>0.0</td><td>0</td><td>28</td></tr><tr><td>1956</td><td>Carlos Menditeguy</td><td>Argentine</td><td>0.0</td><td>0</td><td>28</td></tr><tr><td>1956</td><td>Johnny Thomson</td><td>American</td><td>0.0</td><td>0</td><td>28</td></tr><tr><td>1956</td><td>Umberto Maglioli</td><td>Italian</td><td>0.0</td><td>0</td><td>28</td></tr><tr><td>1956</td><td>Jack Turner</td><td>American</td><td>0.0</td><td>0</td><td>28</td></tr><tr><td>1956</td><td>Piero Taruffi</td><td>Italian</td><td>0.0</td><td>0</td><td>28</td></tr><tr><td>1956</td><td>André Simon</td><td>French</td><td>0.0</td><td>0</td><td>28</td></tr><tr><td>1956</td><td>Wolfgang von Trips</td><td>German</td><td>0.0</td><td>0</td><td>28</td></tr><tr><td>1956</td><td>Jim Rathmann</td><td>American</td><td>0.0</td><td>0</td><td>28</td></tr><tr><td>1956</td><td>Gene Hartley</td><td>American</td><td>0.0</td><td>0</td><td>28</td></tr><tr><td>1956</td><td>Desmond Titterington</td><td>British</td><td>0.0</td><td>0</td><td>28</td></tr><tr><td>1956</td><td>Bob Gerard</td><td>British</td><td>0.0</td><td>0</td><td>28</td></tr><tr><td>1956</td><td>Rodger Ward</td><td>American</td><td>0.0</td><td>0</td><td>28</td></tr><tr><td>1956</td><td>Bob Sweikert</td><td>American</td><td>0.0</td><td>0</td><td>28</td></tr><tr><td>1956</td><td>Toulo de Graffenried</td><td>Swiss</td><td>0.0</td><td>0</td><td>28</td></tr><tr><td>1956</td><td>Archie Scott Brown</td><td>British</td><td>0.0</td><td>0</td><td>28</td></tr><tr><td>1956</td><td>Johnnie Tolan</td><td>American</td><td>0.0</td><td>0</td><td>28</td></tr><tr><td>1956</td><td>Colin Chapman</td><td>British</td><td>0.0</td><td>0</td><td>28</td></tr><tr><td>1956</td><td>Eddie Johnson</td><td>American</td><td>0.0</td><td>0</td><td>28</td></tr><tr><td>1956</td><td>Tony Brooks</td><td>British</td><td>0.0</td><td>0</td><td>28</td></tr><tr><td>1956</td><td>Giorgio Scarlatti</td><td>Italian</td><td>0.0</td><td>0</td><td>28</td></tr><tr><td>1956</td><td>Piero Scotti</td><td>Italian</td><td>0.0</td><td>0</td><td>28</td></tr><tr><td>1956</td><td>Troy Ruttman</td><td>American</td><td>0.0</td><td>0</td><td>28</td></tr><tr><td>1956</td><td>André Milhoux</td><td>Belgian</td><td>0.0</td><td>0</td><td>28</td></tr><tr><td>1956</td><td>Les Leston</td><td>British</td><td>0.0</td><td>0</td><td>28</td></tr><tr><td>1956</td><td>Al Herman</td><td>American</td><td>0.0</td><td>0</td><td>28</td></tr><tr><td>1956</td><td>Paul Emery</td><td>British</td><td>0.0</td><td>0</td><td>28</td></tr><tr><td>1956</td><td>André Pilette</td><td>Belgian</td><td>0.0</td><td>0</td><td>28</td></tr><tr><td>1956</td><td>Andy Linden</td><td>American</td><td>0.0</td><td>0</td><td>28</td></tr><tr><td>1956</td><td>Ed Elisian</td><td>American</td><td>0.0</td><td>0</td><td>28</td></tr><tr><td>1956</td><td>Óscar González</td><td>Uruguayan</td><td>0.0</td><td>0</td><td>28</td></tr><tr><td>1956</td><td>Luigi Piotti</td><td>Italian</td><td>0.0</td><td>0</td><td>28</td></tr><tr><td>1956</td><td>Ottorino Volonterio</td><td>Swiss</td><td>0.0</td><td>0</td><td>28</td></tr><tr><td>1956</td><td>Élie Bayol</td><td>French</td><td>0.0</td><td>0</td><td>28</td></tr><tr><td>1956</td><td>Bob Christie</td><td>American</td><td>0.0</td><td>0</td><td>28</td></tr><tr><td>1956</td><td>Jimmy Reece</td><td>American</td><td>0.0</td><td>0</td><td>28</td></tr><tr><td>1956</td><td>Al Keller</td><td>American</td><td>0.0</td><td>0</td><td>28</td></tr><tr><td>1956</td><td>Jimmy Daywalt</td><td>American</td><td>0.0</td><td>0</td><td>28</td></tr><tr><td>1956</td><td>Jack Brabham</td><td>Australian</td><td>0.0</td><td>0</td><td>28</td></tr><tr><td>1956</td><td>Johnny Boyd</td><td>American</td><td>0.0</td><td>0</td><td>28</td></tr><tr><td>1956</td><td>Jimmy Bryan</td><td>American</td><td>0.0</td><td>0</td><td>28</td></tr><tr><td>1956</td><td>Bob Veith</td><td>American</td><td>0.0</td><td>0</td><td>28</td></tr><tr><td>1956</td><td>Billy Garrett</td><td>American</td><td>0.0</td><td>0</td><td>28</td></tr><tr><td>1956</td><td>Bruce Halford</td><td>British</td><td>0.0</td><td>0</td><td>28</td></tr><tr><td>1957</td><td>Juan Fangio</td><td>Argentine</td><td>46.0</td><td>4</td><td>1</td></tr><tr><td>1957</td><td>Stirling Moss</td><td>British</td><td>20.0</td><td>2</td><td>2</td></tr><tr><td>1957</td><td>Luigi Musso</td><td>Italian</td><td>16.0</td><td>0</td><td>3</td></tr><tr><td>1957</td><td>Mike Hawthorn</td><td>British</td><td>13.0</td><td>0</td><td>4</td></tr><tr><td>1957</td><td>Tony Brooks</td><td>British</td><td>11.0</td><td>1</td><td>5</td></tr><tr><td>1957</td><td>Masten Gregory</td><td>American</td><td>10.0</td><td>0</td><td>6</td></tr><tr><td>1957</td><td>Harry Schell</td><td>American</td><td>9.0</td><td>0</td><td>7</td></tr><tr><td>1957</td><td>Sam Hanks</td><td>American</td><td>8.0</td><td>1</td><td>8</td></tr><tr><td>1957</td><td>Peter Collins</td><td>British</td><td>8.0</td><td>0</td><td>9</td></tr><tr><td>1957</td><td>Jim Rathmann</td><td>American</td><td>7.0</td><td>0</td><td>10</td></tr><tr><td>1957</td><td>Jean Behra</td><td>French</td><td>6.0</td><td>0</td><td>11</td></tr><tr><td>1957</td><td>Maurice Trintignant</td><td>French</td><td>5.0</td><td>0</td><td>12</td></tr><tr><td>1957</td><td>Stuart Lewis-Evans</td><td>British</td><td>5.0</td><td>0</td><td>12</td></tr><tr><td>1957</td><td>Wolfgang von Trips</td><td>German</td><td>4.0</td><td>0</td><td>14</td></tr><tr><td>1957</td><td>Carlos Menditeguy</td><td>Argentine</td><td>4.0</td><td>0</td><td>14</td></tr><tr><td>1957</td><td>Jimmy Bryan</td><td>American</td><td>4.0</td><td>0</td><td>14</td></tr><tr><td>1957</td><td>Paul Russo</td><td>American</td><td>3.0</td><td>0</td><td>17</td></tr><tr><td>1957</td><td>Roy Salvadori</td><td>British</td><td>2.0</td><td>0</td><td>18</td></tr><tr><td>1957</td><td>Andy Linden</td><td>American</td><td>2.0</td><td>0</td><td>18</td></tr><tr><td>1957</td><td>Alfonso de Portago</td><td>Spanish</td><td>1.0</td><td>0</td><td>20</td></tr><tr><td>1957</td><td>José Froilán González</td><td>Argentine</td><td>1.0</td><td>0</td><td>20</td></tr><tr><td>1957</td><td>Giorgio Scarlatti</td><td>Italian</td><td>1.0</td><td>0</td><td>20</td></tr><tr><td>1957</td><td>Bill Cheesbourg</td><td>American</td><td>0.0</td><td>0</td><td>23</td></tr><tr><td>1957</td><td>Johnny Thomson</td><td>American</td><td>0.0</td><td>0</td><td>23</td></tr><tr><td>1957</td><td>Dick Gibson</td><td>British</td><td>0.0</td><td>0</td><td>23</td></tr><tr><td>1957</td><td>Cesare Perdisa</td><td>Italian</td><td>0.0</td><td>0</td><td>23</td></tr><tr><td>1957</td><td>Don Freeland</td><td>American</td><td>0.0</td><td>0</td><td>23</td></tr><tr><td>1957</td><td>Paul England</td><td>Australian</td><td>0.0</td><td>0</td><td>23</td></tr><tr><td>1957</td><td>Tony Marsh</td><td>British</td><td>0.0</td><td>0</td><td>23</td></tr><tr><td>1957</td><td>Jack Turner</td><td>American</td><td>0.0</td><td>0</td><td>23</td></tr><tr><td>1957</td><td>Ottorino Volonterio</td><td>Swiss</td><td>0.0</td><td>0</td><td>23</td></tr><tr><td>1957</td><td>Johnny Boyd</td><td>American</td><td>0.0</td><td>0</td><td>23</td></tr><tr><td>1957</td><td>Herbert MacKay-Fraser</td><td>American</td><td>0.0</td><td>0</td><td>23</td></tr><tr><td>1957</td><td>Jack Fairman</td><td>British</td><td>0.0</td><td>0</td><td>23</td></tr><tr><td>1957</td><td>Ed Elisian</td><td>American</td><td>0.0</td><td>0</td><td>23</td></tr><tr><td>1957</td><td>Ron Flockhart</td><td>British</td><td>0.0</td><td>0</td><td>23</td></tr><tr><td>1957</td><td>Fred Agabashian</td><td>American</td><td>0.0</td><td>0</td><td>23</td></tr><tr><td>1957</td><td>Johnnie Tolan</td><td>American</td><td>0.0</td><td>0</td><td>23</td></tr><tr><td>1957</td><td>Jimmy Reece</td><td>American</td><td>0.0</td><td>0</td><td>23</td></tr><tr><td>1957</td><td>Troy Ruttman</td><td>American</td><td>0.0</td><td>0</td><td>23</td></tr><tr><td>1957</td><td>Rodger Ward</td><td>American</td><td>0.0</td><td>0</td><td>23</td></tr><tr><td>1957</td><td>Eugenio Castellotti</td><td>Italian</td><td>0.0</td><td>0</td><td>23</td></tr><tr><td>1957</td><td>Marshall Teague</td><td>American</td><td>0.0</td><td>0</td><td>23</td></tr><tr><td>1957</td><td>Jimmy Daywalt</td><td>American</td><td>0.0</td><td>0</td><td>23</td></tr><tr><td>1957</td><td>Carel Godin de Beaufort</td><td>Dutch</td><td>0.0</td><td>0</td><td>23</td></tr><tr><td>1957</td><td>Horace Gould</td><td>British</td><td>0.0</td><td>0</td><td>23</td></tr><tr><td>1957</td><td>Bruce Halford</td><td>British</td><td>0.0</td><td>0</td><td>23</td></tr><tr><td>1957</td><td>Pat O'Connor</td><td>American</td><td>0.0</td><td>0</td><td>23</td></tr><tr><td>1957</td><td>Alessandro de Tomaso</td><td>Argentine-Italian</td><td>0.0</td><td>0</td><td>23</td></tr><tr><td>1957</td><td>Les Leston</td><td>British</td><td>0.0</td><td>0</td><td>23</td></tr><tr><td>1957</td><td>Eddie Johnson</td><td>American</td><td>0.0</td><td>0</td><td>23</td></tr><tr><td>1957</td><td>Jo Bonnier</td><td>Swedish</td><td>0.0</td><td>0</td><td>23</td></tr><tr><td>1957</td><td>Mike Magill</td><td>American</td><td>0.0</td><td>0</td><td>23</td></tr><tr><td>1957</td><td>Luigi Piotti</td><td>Italian</td><td>0.0</td><td>0</td><td>23</td></tr><tr><td>1957</td><td>Ivor Bueb</td><td>British</td><td>0.0</td><td>0</td><td>23</td></tr><tr><td>1957</td><td>Eddie Russo</td><td>American</td><td>0.0</td><td>0</td><td>23</td></tr><tr><td>1957</td><td>Don Edmunds</td><td>American</td><td>0.0</td><td>0</td><td>23</td></tr><tr><td>1957</td><td>Elmer George</td><td>American</td><td>0.0</td><td>0</td><td>23</td></tr><tr><td>1957</td><td>Umberto Maglioli</td><td>Italian</td><td>0.0</td><td>0</td><td>23</td></tr><tr><td>1957</td><td>Eddie Sachs</td><td>American</td><td>0.0</td><td>0</td><td>23</td></tr><tr><td>1957</td><td>Bob Gerard</td><td>British</td><td>0.0</td><td>0</td><td>23</td></tr><tr><td>1957</td><td>Hans Herrmann</td><td>German</td><td>0.0</td><td>0</td><td>23</td></tr><tr><td>1957</td><td>Al Herman</td><td>American</td><td>0.0</td><td>0</td><td>23</td></tr><tr><td>1957</td><td>Bob Christie</td><td>American</td><td>0.0</td><td>0</td><td>23</td></tr><tr><td>1957</td><td>Jack Brabham</td><td>Australian</td><td>0.0</td><td>0</td><td>23</td></tr><tr><td>1957</td><td>Paco Godia</td><td>Spanish</td><td>0.0</td><td>0</td><td>23</td></tr><tr><td>1957</td><td>Edgar Barth</td><td>German</td><td>0.0</td><td>0</td><td>23</td></tr><tr><td>1957</td><td>Bob Veith</td><td>American</td><td>0.0</td><td>0</td><td>23</td></tr><tr><td>1957</td><td>Al Keller</td><td>American</td><td>0.0</td><td>0</td><td>23</td></tr><tr><td>1957</td><td>André Simon</td><td>French</td><td>0.0</td><td>0</td><td>23</td></tr><tr><td>1957</td><td>Chuck Weyant</td><td>American</td><td>0.0</td><td>0</td><td>23</td></tr><tr><td>1957</td><td>Gene Hartley</td><td>American</td><td>0.0</td><td>0</td><td>23</td></tr><tr><td>1957</td><td>Brian Naylor</td><td>British</td><td>0.0</td><td>0</td><td>23</td></tr><tr><td>1957</td><td>Johnnie Parsons</td><td>American</td><td>0.0</td><td>0</td><td>23</td></tr><tr><td>1957</td><td>Mike MacDowel</td><td>British</td><td>0.0</td><td>0</td><td>23</td></tr><tr><td>1957</td><td>Tony Bettenhausen</td><td>American</td><td>0.0</td><td>0</td><td>23</td></tr><tr><td>1958</td><td>Mike Hawthorn</td><td>British</td><td>49.0</td><td>1</td><td>1</td></tr><tr><td>1958</td><td>Stirling Moss</td><td>British</td><td>41.0</td><td>4</td><td>2</td></tr><tr><td>1958</td><td>Tony Brooks</td><td>British</td><td>24.0</td><td>3</td><td>3</td></tr><tr><td>1958</td><td>Roy Salvadori</td><td>British</td><td>15.0</td><td>0</td><td>4</td></tr><tr><td>1958</td><td>Peter Collins</td><td>British</td><td>14.0</td><td>1</td><td>5</td></tr><tr><td>1958</td><td>Harry Schell</td><td>American</td><td>14.0</td><td>0</td><td>6</td></tr><tr><td>1958</td><td>Maurice Trintignant</td><td>French</td><td>12.0</td><td>1</td><td>7</td></tr><tr><td>1958</td><td>Luigi Musso</td><td>Italian</td><td>12.0</td><td>0</td><td>8</td></tr><tr><td>1958</td><td>Stuart Lewis-Evans</td><td>British</td><td>11.0</td><td>0</td><td>9</td></tr><tr><td>1958</td><td>Wolfgang von Trips</td><td>German</td><td>9.0</td><td>0</td><td>10</td></tr><tr><td>1958</td><td>Jean Behra</td><td>French</td><td>9.0</td><td>0</td><td>10</td></tr><tr><td>1958</td><td>Phil Hill</td><td>American</td><td>9.0</td><td>0</td><td>10</td></tr><tr><td>1958</td><td>Jimmy Bryan</td><td>American</td><td>8.0</td><td>1</td><td>13</td></tr><tr><td>1958</td><td>Juan Fangio</td><td>Argentine</td><td>7.0</td><td>0</td><td>14</td></tr><tr><td>1958</td><td>George Amick</td><td>American</td><td>6.0</td><td>0</td><td>15</td></tr><tr><td>1958</td><td>Tony Bettenhausen</td><td>American</td><td>4.0</td><td>0</td><td>16</td></tr><tr><td>1958</td><td>Johnny Boyd</td><td>American</td><td>4.0</td><td>0</td><td>16</td></tr><tr><td>1958</td><td>Cliff Allison</td><td>British</td><td>3.0</td><td>0</td><td>18</td></tr><tr><td>1958</td><td>Jo Bonnier</td><td>Swedish</td><td>3.0</td><td>0</td><td>18</td></tr><tr><td>1958</td><td>Jack Brabham</td><td>Australian</td><td>3.0</td><td>0</td><td>18</td></tr><tr><td>1958</td><td>Jim Rathmann</td><td>American</td><td>2.0</td><td>0</td><td>21</td></tr><tr><td>1958</td><td>Shorty Templeman</td><td>American</td><td>0.0</td><td>0</td><td>22</td></tr><tr><td>1958</td><td>Billy Garrett</td><td>American</td><td>0.0</td><td>0</td><td>22</td></tr><tr><td>1958</td><td>Dick Rathmann</td><td>American</td><td>0.0</td><td>0</td><td>22</td></tr><tr><td>1958</td><td>Johnnie Tolan</td><td>American</td><td>0.0</td><td>0</td><td>22</td></tr><tr><td>1958</td><td>Jud Larson</td><td>American</td><td>0.0</td><td>0</td><td>22</td></tr><tr><td>1958</td><td>Luigi Taramazzo</td><td>Italian</td><td>0.0</td><td>0</td><td>22</td></tr><tr><td>1958</td><td>Paul Goldsmith</td><td>American</td><td>0.0</td><td>0</td><td>22</td></tr><tr><td>1958</td><td>Robert La Caze</td><td>French</td><td>0.0</td><td>0</td><td>22</td></tr><tr><td>1958</td><td>Paul Russo</td><td>American</td><td>0.0</td><td>0</td><td>22</td></tr><tr><td>1958</td><td>Brian Naylor</td><td>British</td><td>0.0</td><td>0</td><td>22</td></tr><tr><td>1958</td><td>Bob Veith</td><td>American</td><td>0.0</td><td>0</td><td>22</td></tr><tr><td>1958</td><td>Christian Goethals</td><td>Belgian</td><td>0.0</td><td>0</td><td>22</td></tr><tr><td>1958</td><td>Dick Gibson</td><td>British</td><td>0.0</td><td>0</td><td>22</td></tr><tr><td>1958</td><td>Eddie Johnson</td><td>American</td><td>0.0</td><td>0</td><td>22</td></tr><tr><td>1958</td><td>Jerry Unser</td><td>American</td><td>0.0</td><td>0</td><td>22</td></tr><tr><td>1958</td><td>François Picard</td><td>French</td><td>0.0</td><td>0</td><td>22</td></tr><tr><td>1958</td><td>Carel Godin de Beaufort</td><td>Dutch</td><td>0.0</td><td>0</td><td>22</td></tr><tr><td>1958</td><td>Hans Herrmann</td><td>German</td><td>0.0</td><td>0</td><td>22</td></tr><tr><td>1958</td><td>André Testut</td><td>Monegasque</td><td>0.0</td><td>0</td><td>22</td></tr><tr><td>1958</td><td>Ian Burgess</td><td>British</td><td>0.0</td><td>0</td><td>22</td></tr><tr><td>1958</td><td>Bruce McLaren</td><td>New Zealander</td><td>0.0</td><td>0</td><td>22</td></tr><tr><td>1958</td><td>Gerino Gerini</td><td>Italian</td><td>0.0</td><td>0</td><td>22</td></tr><tr><td>1958</td><td>Tom Bridger</td><td>British</td><td>0.0</td><td>0</td><td>22</td></tr><tr><td>1958</td><td>André Guelfi</td><td>French</td><td>0.0</td><td>0</td><td>22</td></tr><tr><td>1958</td><td>Jack Turner</td><td>American</td><td>0.0</td><td>0</td><td>22</td></tr><tr><td>1958</td><td>Paco Godia</td><td>Spanish</td><td>0.0</td><td>0</td><td>22</td></tr><tr><td>1958</td><td>Mike Magill</td><td>American</td><td>0.0</td><td>0</td><td>22</td></tr><tr><td>1958</td><td>Ivor Bueb</td><td>British</td><td>0.0</td><td>0</td><td>22</td></tr><tr><td>1958</td><td>Jimmy Reece</td><td>American</td><td>0.0</td><td>0</td><td>22</td></tr><tr><td>1958</td><td>Ed Elisian</td><td>American</td><td>0.0</td><td>0</td><td>22</td></tr><tr><td>1958</td><td>Anthony Foyt</td><td>American</td><td>0.0</td><td>0</td><td>22</td></tr><tr><td>1958</td><td>Troy Ruttman</td><td>American</td><td>0.0</td><td>0</td><td>22</td></tr><tr><td>1958</td><td>Wolfgang Seidel</td><td>German</td><td>0.0</td><td>0</td><td>22</td></tr><tr><td>1958</td><td>Eddie Sachs</td><td>American</td><td>0.0</td><td>0</td><td>22</td></tr><tr><td>1958</td><td>Masten Gregory</td><td>American</td><td>0.0</td><td>0</td><td>22</td></tr><tr><td>1958</td><td>Giulio Cabianca</td><td>Italian</td><td>0.0</td><td>0</td><td>22</td></tr><tr><td>1958</td><td>Johnnie Parsons</td><td>American</td><td>0.0</td><td>0</td><td>22</td></tr><tr><td>1958</td><td>Carroll Shelby</td><td>American</td><td>0.0</td><td>0</td><td>22</td></tr><tr><td>1958</td><td>Ken Kavanagh</td><td>Australian</td><td>0.0</td><td>0</td><td>22</td></tr><tr><td>1958</td><td>Maria de Filippis</td><td>Italian</td><td>0.0</td><td>0</td><td>22</td></tr><tr><td>1958</td><td>Bernie Ecclestone</td><td>British</td><td>0.0</td><td>0</td><td>22</td></tr><tr><td>1958</td><td>Johnny Thomson</td><td>American</td><td>0.0</td><td>0</td><td>22</td></tr><tr><td>1958</td><td>Ron Flockhart</td><td>British</td><td>0.0</td><td>0</td><td>22</td></tr><tr><td>1958</td><td>Don Freeland</td><td>American</td><td>0.0</td><td>0</td><td>22</td></tr><tr><td>1958</td><td>Chuck Weyant</td><td>American</td><td>0.0</td><td>0</td><td>22</td></tr><tr><td>1958</td><td>Rodger Ward</td><td>American</td><td>0.0</td><td>0</td><td>22</td></tr><tr><td>1958</td><td>Horace Gould</td><td>British</td><td>0.0</td><td>0</td><td>22</td></tr><tr><td>1958</td><td>Carlos Menditeguy</td><td>Argentine</td><td>0.0</td><td>0</td><td>22</td></tr><tr><td>1958</td><td>Giorgio Scarlatti</td><td>Italian</td><td>0.0</td><td>0</td><td>22</td></tr><tr><td>1958</td><td>Dempsey Wilson</td><td>American</td><td>0.0</td><td>0</td><td>22</td></tr><tr><td>1958</td><td>Bob Christie</td><td>American</td><td>0.0</td><td>0</td><td>22</td></tr><tr><td>1958</td><td>Jack Fairman</td><td>British</td><td>0.0</td><td>0</td><td>22</td></tr><tr><td>1958</td><td>Al Keller</td><td>American</td><td>0.0</td><td>0</td><td>22</td></tr><tr><td>1958</td><td>Olivier Gendebien</td><td>Belgian</td><td>0.0</td><td>0</td><td>22</td></tr><tr><td>1958</td><td>Paul Emery</td><td>British</td><td>0.0</td><td>0</td><td>22</td></tr><tr><td>1958</td><td>Alan Stacey</td><td>British</td><td>0.0</td><td>0</td><td>22</td></tr><tr><td>1958</td><td>Luigi Piotti</td><td>Italian</td><td>0.0</td><td>0</td><td>22</td></tr><tr><td>1958</td><td>Art Bisch</td><td>American</td><td>0.0</td><td>0</td><td>22</td></tr><tr><td>1958</td><td>Len Sutton</td><td>American</td><td>0.0</td><td>0</td><td>22</td></tr><tr><td>1958</td><td>Graham Hill</td><td>British</td><td>0.0</td><td>0</td><td>22</td></tr><tr><td>1958</td><td>Bruce Kessler</td><td>American</td><td>0.0</td><td>0</td><td>22</td></tr><tr><td>1958</td><td>Pat O'Connor</td><td>American</td><td>0.0</td><td>0</td><td>22</td></tr><tr><td>1958</td><td>Edgar Barth</td><td>German</td><td>0.0</td><td>0</td><td>22</td></tr><tr><td>1958</td><td>Louis Chiron</td><td>Monegasque</td><td>0.0</td><td>0</td><td>22</td></tr><tr><td>1958</td><td>Bill Cheesbourg</td><td>American</td><td>0.0</td><td>0</td><td>22</td></tr><tr><td>1958</td><td>Tony Marsh</td><td>British</td><td>0.0</td><td>0</td><td>22</td></tr><tr><td>1959</td><td>Jack Brabham</td><td>Australian</td><td>34.0</td><td>2</td><td>1</td></tr><tr><td>1959</td><td>Tony Brooks</td><td>British</td><td>27.0</td><td>2</td><td>2</td></tr><tr><td>1959</td><td>Stirling Moss</td><td>British</td><td>25.5</td><td>2</td><td>3</td></tr><tr><td>1959</td><td>Phil Hill</td><td>American</td><td>20.0</td><td>0</td><td>4</td></tr><tr><td>1959</td><td>Maurice Trintignant</td><td>French</td><td>19.0</td><td>0</td><td>5</td></tr><tr><td>1959</td><td>Bruce McLaren</td><td>New Zealander</td><td>16.5</td><td>1</td><td>6</td></tr><tr><td>1959</td><td>Dan Gurney</td><td>American</td><td>13.0</td><td>0</td><td>7</td></tr><tr><td>1959</td><td>Jo Bonnier</td><td>Swedish</td><td>10.0</td><td>1</td><td>8</td></tr><tr><td>1959</td><td>Masten Gregory</td><td>American</td><td>10.0</td><td>0</td><td>9</td></tr><tr><td>1959</td><td>Rodger Ward</td><td>American</td><td>8.0</td><td>1</td><td>10</td></tr><tr><td>1959</td><td>Jim Rathmann</td><td>American</td><td>6.0</td><td>0</td><td>11</td></tr><tr><td>1959</td><td>Johnny Thomson</td><td>American</td><td>5.0</td><td>0</td><td>12</td></tr><tr><td>1959</td><td>Harry Schell</td><td>American</td><td>5.0</td><td>0</td><td>12</td></tr><tr><td>1959</td><td>Innes Ireland</td><td>British</td><td>5.0</td><td>0</td><td>12</td></tr><tr><td>1959</td><td>Tony Bettenhausen</td><td>American</td><td>3.0</td><td>0</td><td>15</td></tr><tr><td>1959</td><td>Olivier Gendebien</td><td>Belgian</td><td>3.0</td><td>0</td><td>15</td></tr><tr><td>1959</td><td>Cliff Allison</td><td>British</td><td>2.0</td><td>0</td><td>17</td></tr><tr><td>1959</td><td>Paul Goldsmith</td><td>American</td><td>2.0</td><td>0</td><td>17</td></tr><tr><td>1959</td><td>Jean Behra</td><td>French</td><td>2.0</td><td>0</td><td>17</td></tr><tr><td>1959</td><td>Maria de Filippis</td><td>Italian</td><td>0.0</td><td>0</td><td>20</td></tr><tr><td>1959</td><td>Graham Hill</td><td>British</td><td>0.0</td><td>0</td><td>20</td></tr><tr><td>1959</td><td>Azdrubal Fontes</td><td>Uruguayan</td><td>0.0</td><td>0</td><td>20</td></tr><tr><td>1959</td><td>Roy Salvadori</td><td>British</td><td>0.0</td><td>0</td><td>20</td></tr><tr><td>1959</td><td>Giorgio Scarlatti</td><td>Italian</td><td>0.0</td><td>0</td><td>20</td></tr><tr><td>1959</td><td>Jack Fairman</td><td>British</td><td>0.0</td><td>0</td><td>20</td></tr><tr><td>1959</td><td>Len Sutton</td><td>American</td><td>0.0</td><td>0</td><td>20</td></tr><tr><td>1959</td><td>Anthony Foyt</td><td>American</td><td>0.0</td><td>0</td><td>20</td></tr><tr><td>1959</td><td>Bobby Grim</td><td>American</td><td>0.0</td><td>0</td><td>20</td></tr><tr><td>1959</td><td>Peter Ashdown</td><td>British</td><td>0.0</td><td>0</td><td>20</td></tr><tr><td>1959</td><td>Alessandro de Tomaso</td><td>Argentine-Italian</td><td>0.0</td><td>0</td><td>20</td></tr><tr><td>1959</td><td>Harry Blanchard</td><td>American</td><td>0.0</td><td>0</td><td>20</td></tr><tr><td>1959</td><td>Jimmy Daywalt</td><td>American</td><td>0.0</td><td>0</td><td>20</td></tr><tr><td>1959</td><td>André Testut</td><td>Monegasque</td><td>0.0</td><td>0</td><td>20</td></tr><tr><td>1959</td><td>Don Freeland</td><td>American</td><td>0.0</td><td>0</td><td>20</td></tr><tr><td>1959</td><td>Bill Cheesbourg</td><td>American</td><td>0.0</td><td>0</td><td>20</td></tr><tr><td>1959</td><td>Giulio Cabianca</td><td>Italian</td><td>0.0</td><td>0</td><td>20</td></tr><tr><td>1959</td><td>Bill Moss</td><td>British</td><td>0.0</td><td>0</td><td>20</td></tr><tr><td>1959</td><td>Jack Turner</td><td>American</td><td>0.0</td><td>0</td><td>20</td></tr><tr><td>1959</td><td>Jim McWithey</td><td>American</td><td>0.0</td><td>0</td><td>20</td></tr><tr><td>1959</td><td>Pat Flaherty</td><td>American</td><td>0.0</td><td>0</td><td>20</td></tr><tr><td>1959</td><td>Dick Rathmann</td><td>American</td><td>0.0</td><td>0</td><td>20</td></tr><tr><td>1959</td><td>Brian Naylor</td><td>British</td><td>0.0</td><td>0</td><td>20</td></tr><tr><td>1959</td><td>Phil Cade</td><td>American</td><td>0.0</td><td>0</td><td>20</td></tr><tr><td>1959</td><td>Al Keller</td><td>American</td><td>0.0</td><td>0</td><td>20</td></tr><tr><td>1959</td><td>David Piper</td><td>British</td><td>0.0</td><td>0</td><td>20</td></tr><tr><td>1959</td><td>Mário de Araújo Cabral</td><td>Portuguese</td><td>0.0</td><td>0</td><td>20</td></tr><tr><td>1959</td><td>Chris Bristow</td><td>British</td><td>0.0</td><td>0</td><td>20</td></tr><tr><td>1959</td><td>Mike Magill</td><td>American</td><td>0.0</td><td>0</td><td>20</td></tr><tr><td>1959</td><td>Trevor Taylor</td><td>British</td><td>0.0</td><td>0</td><td>20</td></tr><tr><td>1959</td><td>Keith Greene</td><td>British</td><td>0.0</td><td>0</td><td>20</td></tr><tr><td>1959</td><td>Red Amick</td><td>American</td><td>0.0</td><td>0</td><td>20</td></tr><tr><td>1959</td><td>Alain de Changy</td><td>Belgian</td><td>0.0</td><td>0</td><td>20</td></tr><tr><td>1959</td><td>Al Herman</td><td>American</td><td>0.0</td><td>0</td><td>20</td></tr><tr><td>1959</td><td>Paul Russo</td><td>American</td><td>0.0</td><td>0</td><td>20</td></tr><tr><td>1959</td><td>Carroll Shelby</td><td>American</td><td>0.0</td><td>0</td><td>20</td></tr><tr><td>1959</td><td>Duane Carter</td><td>American</td><td>0.0</td><td>0</td><td>20</td></tr><tr><td>1959</td><td>Alan Stacey</td><td>British</td><td>0.0</td><td>0</td><td>20</td></tr><tr><td>1959</td><td>Eddie Sachs</td><td>American</td><td>0.0</td><td>0</td><td>20</td></tr><tr><td>1959</td><td>Ivor Bueb</td><td>British</td><td>0.0</td><td>0</td><td>20</td></tr><tr><td>1959</td><td>Bob Christie</td><td>American</td><td>0.0</td><td>0</td><td>20</td></tr><tr><td>1959</td><td>Bob Said</td><td>American</td><td>0.0</td><td>0</td><td>20</td></tr><tr><td>1959</td><td>Carel Godin de Beaufort</td><td>Dutch</td><td>0.0</td><td>0</td><td>20</td></tr><tr><td>1959</td><td>Tim Parnell</td><td>British</td><td>0.0</td><td>0</td><td>20</td></tr><tr><td>1959</td><td>Don Branson</td><td>American</td><td>0.0</td><td>0</td><td>20</td></tr><tr><td>1959</td><td>Ray Crawford</td><td>American</td><td>0.0</td><td>0</td><td>20</td></tr><tr><td>1959</td><td>Gene Hartley</td><td>American</td><td>0.0</td><td>0</td><td>20</td></tr><tr><td>1959</td><td>Colin Davis</td><td>British</td><td>0.0</td><td>0</td><td>20</td></tr><tr><td>1959</td><td>Bob Veith</td><td>American</td><td>0.0</td><td>0</td><td>20</td></tr><tr><td>1959</td><td>Fritz d'Orey</td><td>Brazilian</td><td>0.0</td><td>0</td><td>20</td></tr><tr><td>1959</td><td>Mike Parkes</td><td>British</td><td>0.0</td><td>0</td><td>20</td></tr><tr><td>1959</td><td>Jud Larson</td><td>American</td><td>0.0</td><td>0</td><td>20</td></tr><tr><td>1959</td><td>Bruce Halford</td><td>British</td><td>0.0</td><td>0</td><td>20</td></tr><tr><td>1959</td><td>Eddie Johnson</td><td>American</td><td>0.0</td><td>0</td><td>20</td></tr><tr><td>1959</td><td>Ian Burgess</td><td>British</td><td>0.0</td><td>0</td><td>20</td></tr><tr><td>1959</td><td>Lucien Bianchi</td><td>Belgian</td><td>0.0</td><td>0</td><td>20</td></tr><tr><td>1959</td><td>Jimmy Bryan</td><td>American</td><td>0.0</td><td>0</td><td>20</td></tr><tr><td>1959</td><td>Pete Lovely</td><td>American</td><td>0.0</td><td>0</td><td>20</td></tr><tr><td>1959</td><td>George Constantine</td><td>American</td><td>0.0</td><td>0</td><td>20</td></tr><tr><td>1959</td><td>Ron Flockhart</td><td>British</td><td>0.0</td><td>0</td><td>20</td></tr><tr><td>1959</td><td>Wolfgang von Trips</td><td>German</td><td>0.0</td><td>0</td><td>20</td></tr><tr><td>1959</td><td>Chuck Arnold</td><td>American</td><td>0.0</td><td>0</td><td>20</td></tr><tr><td>1959</td><td>Johnny Boyd</td><td>American</td><td>0.0</td><td>0</td><td>20</td></tr><tr><td>1959</td><td>Henry Taylor</td><td>British</td><td>0.0</td><td>0</td><td>20</td></tr><tr><td>1959</td><td>Hans Herrmann</td><td>German</td><td>0.0</td><td>0</td><td>20</td></tr><tr><td>1959</td><td>Dennis Taylor</td><td>British</td><td>0.0</td><td>0</td><td>20</td></tr><tr><td>1959</td><td>Mike Taylor</td><td>British</td><td>0.0</td><td>0</td><td>20</td></tr><tr><td>1959</td><td>Chuck Weyant</td><td>American</td><td>0.0</td><td>0</td><td>20</td></tr><tr><td>1959</td><td>Jean Lucienbonnet</td><td>French</td><td>0.0</td><td>0</td><td>20</td></tr><tr><td>1960</td><td>Jack Brabham</td><td>Australian</td><td>43.0</td><td>5</td><td>1</td></tr><tr><td>1960</td><td>Bruce McLaren</td><td>New Zealander</td><td>37.0</td><td>1</td><td>2</td></tr><tr><td>1960</td><td>Stirling Moss</td><td>British</td><td>19.0</td><td>2</td><td>3</td></tr><tr><td>1960</td><td>Innes Ireland</td><td>British</td><td>18.0</td><td>0</td><td>4</td></tr><tr><td>1960</td><td>Phil Hill</td><td>American</td><td>16.0</td><td>1</td><td>5</td></tr><tr><td>1960</td><td>Wolfgang von Trips</td><td>German</td><td>10.0</td><td>0</td><td>6</td></tr><tr><td>1960</td><td>Olivier Gendebien</td><td>Belgian</td><td>10.0</td><td>0</td><td>6</td></tr><tr><td>1960</td><td>Jim Rathmann</td><td>American</td><td>8.0</td><td>1</td><td>8</td></tr><tr><td>1960</td><td>Richie Ginther</td><td>American</td><td>8.0</td><td>0</td><td>9</td></tr><tr><td>1960</td><td>Jim Clark</td><td>British</td><td>8.0</td><td>0</td><td>9</td></tr><tr><td>1960</td><td>Tony Brooks</td><td>British</td><td>7.0</td><td>0</td><td>11</td></tr><tr><td>1960</td><td>Cliff Allison</td><td>British</td><td>6.0</td><td>0</td><td>12</td></tr><tr><td>1960</td><td>John Surtees</td><td>British</td><td>6.0</td><td>0</td><td>12</td></tr><tr><td>1960</td><td>Rodger Ward</td><td>American</td><td>6.0</td><td>0</td><td>12</td></tr><tr><td>1960</td><td>Willy Mairesse</td><td>Belgian</td><td>4.0</td><td>0</td><td>15</td></tr><tr><td>1960</td><td>Jo Bonnier</td><td>Swedish</td><td>4.0</td><td>0</td><td>15</td></tr><tr><td>1960</td><td>Paul Goldsmith</td><td>American</td><td>4.0</td><td>0</td><td>15</td></tr><tr><td>1960</td><td>Graham Hill</td><td>British</td><td>4.0</td><td>0</td><td>15</td></tr><tr><td>1960</td><td>Henry Taylor</td><td>British</td><td>3.0</td><td>0</td><td>19</td></tr><tr><td>1960</td><td>Giulio Cabianca</td><td>Italian</td><td>3.0</td><td>0</td><td>19</td></tr><tr><td>1960</td><td>Carlos Menditeguy</td><td>Argentine</td><td>3.0</td><td>0</td><td>19</td></tr><tr><td>1960</td><td>Don Branson</td><td>American</td><td>3.0</td><td>0</td><td>19</td></tr><tr><td>1960</td><td>Johnny Thomson</td><td>American</td><td>2.0</td><td>0</td><td>23</td></tr><tr><td>1960</td><td>Lucien Bianchi</td><td>Belgian</td><td>1.0</td><td>0</td><td>24</td></tr><tr><td>1960</td><td>Hans Herrmann</td><td>German</td><td>1.0</td><td>0</td><td>24</td></tr><tr><td>1960</td><td>Ron Flockhart</td><td>British</td><td>1.0</td><td>0</td><td>24</td></tr><tr><td>1960</td><td>Eddie Johnson</td><td>American</td><td>1.0</td><td>0</td><td>24</td></tr><tr><td>1960</td><td>Don Freeland</td><td>American</td><td>0.0</td><td>0</td><td>28</td></tr><tr><td>1960</td><td>Bruce Halford</td><td>British</td><td>0.0</td><td>0</td><td>28</td></tr><tr><td>1960</td><td>Chris Bristow</td><td>British</td><td>0.0</td><td>0</td><td>28</td></tr><tr><td>1960</td><td>Johnny Boyd</td><td>American</td><td>0.0</td><td>0</td><td>28</td></tr><tr><td>1960</td><td>Fred Gamble</td><td>American</td><td>0.0</td><td>0</td><td>28</td></tr><tr><td>1960</td><td>Ian Burgess</td><td>British</td><td>0.0</td><td>0</td><td>28</td></tr><tr><td>1960</td><td>Roy Salvadori</td><td>British</td><td>0.0</td><td>0</td><td>28</td></tr><tr><td>1960</td><td>Troy Ruttman</td><td>American</td><td>0.0</td><td>0</td><td>28</td></tr><tr><td>1960</td><td>Chuck Daigh</td><td>American</td><td>0.0</td><td>0</td><td>28</td></tr><tr><td>1960</td><td>Piero Drogo</td><td>Italian</td><td>0.0</td><td>0</td><td>28</td></tr><tr><td>1960</td><td>Arthur Owen</td><td>British</td><td>0.0</td><td>0</td><td>28</td></tr><tr><td>1960</td><td>Jim McWithey</td><td>American</td><td>0.0</td><td>0</td><td>28</td></tr><tr><td>1960</td><td>Jim Hurtubise</td><td>American</td><td>0.0</td><td>0</td><td>28</td></tr><tr><td>1960</td><td>Vic Wilson</td><td>British</td><td>0.0</td><td>0</td><td>28</td></tr><tr><td>1960</td><td>Horace Gould</td><td>British</td><td>0.0</td><td>0</td><td>28</td></tr><tr><td>1960</td><td>Len Sutton</td><td>American</td><td>0.0</td><td>0</td><td>28</td></tr><tr><td>1960</td><td>Ettore Chimeri</td><td>Venezuelan</td><td>0.0</td><td>0</td><td>28</td></tr><tr><td>1960</td><td>José Froilán González</td><td>Argentine</td><td>0.0</td><td>0</td><td>28</td></tr><tr><td>1960</td><td>David Piper</td><td>British</td><td>0.0</td><td>0</td><td>28</td></tr><tr><td>1960</td><td>Giorgio Scarlatti</td><td>Italian</td><td>0.0</td><td>0</td><td>28</td></tr><tr><td>1960</td><td>Wayne Weiler</td><td>American</td><td>0.0</td><td>0</td><td>28</td></tr><tr><td>1960</td><td>Lance Reventlow</td><td>American</td><td>0.0</td><td>0</td><td>28</td></tr><tr><td>1960</td><td>Wolfgang Seidel</td><td>German</td><td>0.0</td><td>0</td><td>28</td></tr><tr><td>1960</td><td>Dempsey Wilson</td><td>American</td><td>0.0</td><td>0</td><td>28</td></tr><tr><td>1960</td><td>Gene Hartley</td><td>American</td><td>0.0</td><td>0</td><td>28</td></tr><tr><td>1960</td><td>Masten Gregory</td><td>American</td><td>0.0</td><td>0</td><td>28</td></tr><tr><td>1960</td><td>Lloyd Ruby</td><td>American</td><td>0.0</td><td>0</td><td>28</td></tr><tr><td>1960</td><td>Jim Hall</td><td>American</td><td>0.0</td><td>0</td><td>28</td></tr><tr><td>1960</td><td>Bud Tingelstad</td><td>American</td><td>0.0</td><td>0</td><td>28</td></tr><tr><td>1960</td><td>Dan Gurney</td><td>American</td><td>0.0</td><td>0</td><td>28</td></tr><tr><td>1960</td><td>Bob Veith</td><td>American</td><td>0.0</td><td>0</td><td>28</td></tr><tr><td>1960</td><td>Eddie Russo</td><td>American</td><td>0.0</td><td>0</td><td>28</td></tr><tr><td>1960</td><td>Duane Carter</td><td>American</td><td>0.0</td><td>0</td><td>28</td></tr><tr><td>1960</td><td>Al Herman</td><td>American</td><td>0.0</td><td>0</td><td>28</td></tr><tr><td>1960</td><td>Maurice Trintignant</td><td>French</td><td>0.0</td><td>0</td><td>28</td></tr><tr><td>1960</td><td>Alberto Rodriguez Larreta</td><td>Argentine</td><td>0.0</td><td>0</td><td>28</td></tr><tr><td>1960</td><td>Bill Homeier</td><td>American</td><td>0.0</td><td>0</td><td>28</td></tr><tr><td>1960</td><td>Red Amick</td><td>American</td><td>0.0</td><td>0</td><td>28</td></tr><tr><td>1960</td><td>Tony Bettenhausen</td><td>American</td><td>0.0</td><td>0</td><td>28</td></tr><tr><td>1960</td><td>Antonio Creus</td><td>Spanish</td><td>0.0</td><td>0</td><td>28</td></tr><tr><td>1960</td><td>Carel Godin de Beaufort</td><td>Dutch</td><td>0.0</td><td>0</td><td>28</td></tr><tr><td>1960</td><td>Keith Greene</td><td>British</td><td>0.0</td><td>0</td><td>28</td></tr><tr><td>1960</td><td>Brian Naylor</td><td>British</td><td>0.0</td><td>0</td><td>28</td></tr><tr><td>1960</td><td>Chuck Stevenson</td><td>American</td><td>0.0</td><td>0</td><td>28</td></tr><tr><td>1960</td><td>Roberto Bonomi</td><td>Argentine</td><td>0.0</td><td>0</td><td>28</td></tr><tr><td>1960</td><td>Shorty Templeman</td><td>American</td><td>0.0</td><td>0</td><td>28</td></tr><tr><td>1960</td><td>Nasif Estéfano</td><td>Argentine</td><td>0.0</td><td>0</td><td>28</td></tr><tr><td>1960</td><td>Mike Taylor</td><td>British</td><td>0.0</td><td>0</td><td>28</td></tr><tr><td>1960</td><td>Alfonso Thiele</td><td>American-Italian</td><td>0.0</td><td>0</td><td>28</td></tr><tr><td>1960</td><td>Bob Drake</td><td>American</td><td>0.0</td><td>0</td><td>28</td></tr><tr><td>1960</td><td>Mário de Araújo Cabral</td><td>Portuguese</td><td>0.0</td><td>0</td><td>28</td></tr><tr><td>1960</td><td>Dick Rathmann</td><td>American</td><td>0.0</td><td>0</td><td>28</td></tr><tr><td>1960</td><td>Alan Stacey</td><td>British</td><td>0.0</td><td>0</td><td>28</td></tr><tr><td>1960</td><td>Harry Schell</td><td>American</td><td>0.0</td><td>0</td><td>28</td></tr><tr><td>1960</td><td>Pete Lovely</td><td>American</td><td>0.0</td><td>0</td><td>28</td></tr><tr><td>1960</td><td>Anthony Foyt</td><td>American</td><td>0.0</td><td>0</td><td>28</td></tr><tr><td>1960</td><td>Jimmy Bryan</td><td>American</td><td>0.0</td><td>0</td><td>28</td></tr><tr><td>1960</td><td>Bobby Grim</td><td>American</td><td>0.0</td><td>0</td><td>28</td></tr><tr><td>1960</td><td>Gino Munaron</td><td>Italian</td><td>0.0</td><td>0</td><td>28</td></tr><tr><td>1960</td><td>Eddie Sachs</td><td>American</td><td>0.0</td><td>0</td><td>28</td></tr><tr><td>1960</td><td>Edgar Barth</td><td>German</td><td>0.0</td><td>0</td><td>28</td></tr><tr><td>1960</td><td>Gene Force</td><td>American</td><td>0.0</td><td>0</td><td>28</td></tr><tr><td>1960</td><td>Bob Christie</td><td>American</td><td>0.0</td><td>0</td><td>28</td></tr><tr><td>1960</td><td>Jack Fairman</td><td>British</td><td>0.0</td><td>0</td><td>28</td></tr><tr><td>1961</td><td>Phil Hill</td><td>American</td><td>38.0</td><td>2</td><td>1</td></tr><tr><td>1961</td><td>Wolfgang von Trips</td><td>German</td><td>33.0</td><td>2</td><td>2</td></tr><tr><td>1961</td><td>Stirling Moss</td><td>British</td><td>21.0</td><td>2</td><td>3</td></tr><tr><td>1961</td><td>Dan Gurney</td><td>American</td><td>21.0</td><td>0</td><td>4</td></tr><tr><td>1961</td><td>Richie Ginther</td><td>American</td><td>16.0</td><td>0</td><td>5</td></tr><tr><td>1961</td><td>Innes Ireland</td><td>British</td><td>12.0</td><td>1</td><td>6</td></tr><tr><td>1961</td><td>Jim Clark</td><td>British</td><td>11.0</td><td>0</td><td>7</td></tr><tr><td>1961</td><td>Bruce McLaren</td><td>New Zealander</td><td>11.0</td><td>0</td><td>7</td></tr><tr><td>1961</td><td>Giancarlo Baghetti</td><td>Italian</td><td>9.0</td><td>1</td><td>9</td></tr><tr><td>1961</td><td>Tony Brooks</td><td>British</td><td>6.0</td><td>0</td><td>10</td></tr><tr><td>1961</td><td>Jack Brabham</td><td>Australian</td><td>4.0</td><td>0</td><td>11</td></tr><tr><td>1961</td><td>John Surtees</td><td>British</td><td>4.0</td><td>0</td><td>11</td></tr><tr><td>1961</td><td>Olivier Gendebien</td><td>Belgian</td><td>3.0</td><td>0</td><td>13</td></tr><tr><td>1961</td><td>Graham Hill</td><td>British</td><td>3.0</td><td>0</td><td>13</td></tr><tr><td>1961</td><td>Jo Bonnier</td><td>Swedish</td><td>3.0</td><td>0</td><td>13</td></tr><tr><td>1961</td><td>Jackie Lewis</td><td>British</td><td>3.0</td><td>0</td><td>13</td></tr><tr><td>1961</td><td>Roy Salvadori</td><td>British</td><td>2.0</td><td>0</td><td>17</td></tr><tr><td>1961</td><td>John Campbell-Jones</td><td>British</td><td>0.0</td><td>0</td><td>18</td></tr><tr><td>1961</td><td>Roger Penske</td><td>American</td><td>0.0</td><td>0</td><td>18</td></tr><tr><td>1961</td><td>Peter Monteverdi</td><td>Swiss</td><td>0.0</td><td>0</td><td>18</td></tr><tr><td>1961</td><td>Ernesto Prinoth</td><td>Italian</td><td>0.0</td><td>0</td><td>18</td></tr><tr><td>1961</td><td>Roberto Bussinello</td><td>Italian</td><td>0.0</td><td>0</td><td>18</td></tr><tr><td>1961</td><td>Trevor Taylor</td><td>British</td><td>0.0</td><td>0</td><td>18</td></tr><tr><td>1961</td><td>Hap Sharp</td><td>American</td><td>0.0</td><td>0</td><td>18</td></tr><tr><td>1961</td><td>Juan Manuel Bordeu</td><td>Argentine</td><td>0.0</td><td>0</td><td>18</td></tr><tr><td>1961</td><td>Lucien Bianchi</td><td>Belgian</td><td>0.0</td><td>0</td><td>18</td></tr><tr><td>1961</td><td>Masten Gregory</td><td>American</td><td>0.0</td><td>0</td><td>18</td></tr><tr><td>1961</td><td>Maurice Trintignant</td><td>French</td><td>0.0</td><td>0</td><td>18</td></tr><tr><td>1961</td><td>André Pilette</td><td>Belgian</td><td>0.0</td><td>0</td><td>18</td></tr><tr><td>1961</td><td>Keith Greene</td><td>British</td><td>0.0</td><td>0</td><td>18</td></tr><tr><td>1961</td><td>Michael May</td><td>Swiss</td><td>0.0</td><td>0</td><td>18</td></tr><tr><td>1961</td><td>Tim Parnell</td><td>British</td><td>0.0</td><td>0</td><td>18</td></tr><tr><td>1961</td><td>Nino Vaccarella</td><td>Italian</td><td>0.0</td><td>0</td><td>18</td></tr><tr><td>1961</td><td>Ken Miles</td><td>British</td><td>0.0</td><td>0</td><td>18</td></tr><tr><td>1961</td><td>Bernard Collomb</td><td>French</td><td>0.0</td><td>0</td><td>18</td></tr><tr><td>1961</td><td>Renato Pirocchi</td><td>Italian</td><td>0.0</td><td>0</td><td>18</td></tr><tr><td>1961</td><td>Ricardo Rodríguez</td><td>Mexican</td><td>0.0</td><td>0</td><td>18</td></tr><tr><td>1961</td><td>Lloyd Ruby</td><td>American</td><td>0.0</td><td>0</td><td>18</td></tr><tr><td>1961</td><td>Walt Hansgen</td><td>American</td><td>0.0</td><td>0</td><td>18</td></tr><tr><td>1961</td><td>Gerry Ashmore</td><td>British</td><td>0.0</td><td>0</td><td>18</td></tr><tr><td>1961</td><td>Cliff Allison</td><td>British</td><td>0.0</td><td>0</td><td>18</td></tr><tr><td>1961</td><td>Ian Burgess</td><td>British</td><td>0.0</td><td>0</td><td>18</td></tr><tr><td>1961</td><td>Jack Fairman</td><td>British</td><td>0.0</td><td>0</td><td>18</td></tr><tr><td>1961</td><td>Carel Godin de Beaufort</td><td>Dutch</td><td>0.0</td><td>0</td><td>18</td></tr><tr><td>1961</td><td>Menato Boffa</td><td>Italian</td><td>0.0</td><td>0</td><td>18</td></tr><tr><td>1961</td><td>Alfonso Thiele</td><td>American-Italian</td><td>0.0</td><td>0</td><td>18</td></tr><tr><td>1961</td><td>Jim Hall</td><td>American</td><td>0.0</td><td>0</td><td>18</td></tr><tr><td>1961</td><td>Henry Taylor</td><td>British</td><td>0.0</td><td>0</td><td>18</td></tr><tr><td>1961</td><td>Wolfgang Seidel</td><td>German</td><td>0.0</td><td>0</td><td>18</td></tr><tr><td>1961</td><td>Giorgio Scarlatti</td><td>Italian</td><td>0.0</td><td>0</td><td>18</td></tr><tr><td>1961</td><td>Massimo Natili</td><td>Italian</td><td>0.0</td><td>0</td><td>18</td></tr><tr><td>1961</td><td>Gaetano Starrabba</td><td>Italian</td><td>0.0</td><td>0</td><td>18</td></tr><tr><td>1961</td><td>Lorenzo Bandini</td><td>Italian</td><td>0.0</td><td>0</td><td>18</td></tr><tr><td>1961</td><td>Roberto Lippi</td><td>Italian</td><td>0.0</td><td>0</td><td>18</td></tr><tr><td>1961</td><td>Edgar Barth</td><td>German</td><td>0.0</td><td>0</td><td>18</td></tr><tr><td>1961</td><td>Brian Naylor</td><td>British</td><td>0.0</td><td>0</td><td>18</td></tr><tr><td>1961</td><td>Willy Mairesse</td><td>Belgian</td><td>0.0</td><td>0</td><td>18</td></tr><tr><td>1961</td><td>Tony Maggs</td><td>South African</td><td>0.0</td><td>0</td><td>18</td></tr><tr><td>1961</td><td>Hans Herrmann</td><td>German</td><td>0.0</td><td>0</td><td>18</td></tr><tr><td>1961</td><td>Peter Ryan</td><td>Canadian</td><td>0.0</td><td>0</td><td>18</td></tr><tr><td>1961</td><td>Geoff Duke</td><td>British</td><td>0.0</td><td>0</td><td>18</td></tr><tr><td>1961</td><td>Tony Marsh</td><td>British</td><td>0.0</td><td>0</td><td>18</td></tr><tr><td>1962</td><td>Graham Hill</td><td>British</td><td>52.0</td><td>4</td><td>1</td></tr><tr><td>1962</td><td>Bruce McLaren</td><td>New Zealander</td><td>32.0</td><td>1</td><td>2</td></tr><tr><td>1962</td><td>Jim Clark</td><td>British</td><td>30.0</td><td>3</td><td>3</td></tr><tr><td>1962</td><td>John Surtees</td><td>British</td><td>19.0</td><td>0</td><td>4</td></tr><tr><td>1962</td><td>Dan Gurney</td><td>American</td><td>15.0</td><td>1</td><td>5</td></tr><tr><td>1962</td><td>Phil Hill</td><td>American</td><td>14.0</td><td>0</td><td>6</td></tr><tr><td>1962</td><td>Tony Maggs</td><td>South African</td><td>13.0</td><td>0</td><td>7</td></tr><tr><td>1962</td><td>Richie Ginther</td><td>American</td><td>10.0</td><td>0</td><td>8</td></tr><tr><td>1962</td><td>Jack Brabham</td><td>Australian</td><td>9.0</td><td>0</td><td>9</td></tr><tr><td>1962</td><td>Trevor Taylor</td><td>British</td><td>6.0</td><td>0</td><td>10</td></tr><tr><td>1962</td><td>Giancarlo Baghetti</td><td>Italian</td><td>5.0</td><td>0</td><td>11</td></tr><tr><td>1962</td><td>Lorenzo Bandini</td><td>Italian</td><td>4.0</td><td>0</td><td>12</td></tr><tr><td>1962</td><td>Ricardo Rodríguez</td><td>Mexican</td><td>4.0</td><td>0</td><td>12</td></tr><tr><td>1962</td><td>Willy Mairesse</td><td>Belgian</td><td>3.0</td><td>0</td><td>14</td></tr><tr><td>1962</td><td>Jo Bonnier</td><td>Swedish</td><td>3.0</td><td>0</td><td>14</td></tr><tr><td>1962</td><td>Carel Godin de Beaufort</td><td>Dutch</td><td>2.0</td><td>0</td><td>16</td></tr><tr><td>1962</td><td>Innes Ireland</td><td>British</td><td>2.0</td><td>0</td><td>16</td></tr><tr><td>1962</td><td>Masten Gregory</td><td>American</td><td>1.0</td><td>0</td><td>18</td></tr><tr><td>1962</td><td>Neville Lederle</td><td>South African</td><td>1.0</td><td>0</td><td>18</td></tr><tr><td>1962</td><td>Roberto Bussinello</td><td>Italian</td><td>0.0</td><td>0</td><td>20</td></tr><tr><td>1962</td><td>Nasif Estéfano</td><td>Argentine</td><td>0.0</td><td>0</td><td>20</td></tr><tr><td>1962</td><td>Bernard Collomb</td><td>French</td><td>0.0</td><td>0</td><td>20</td></tr><tr><td>1962</td><td>Gerry Ashmore</td><td>British</td><td>0.0</td><td>0</td><td>20</td></tr><tr><td>1962</td><td>Peter Arundell</td><td>British</td><td>0.0</td><td>0</td><td>20</td></tr><tr><td>1962</td><td>Gary Hocking</td><td>Rhodesian</td><td>0.0</td><td>0</td><td>20</td></tr><tr><td>1962</td><td>Heini Walter</td><td>Swiss</td><td>0.0</td><td>0</td><td>20</td></tr><tr><td>1962</td><td>Mike Harris</td><td>South African</td><td>0.0</td><td>0</td><td>20</td></tr><tr><td>1962</td><td>Tony Shelly</td><td>New Zealander</td><td>0.0</td><td>0</td><td>20</td></tr><tr><td>1962</td><td>Wolfgang Seidel</td><td>German</td><td>0.0</td><td>0</td><td>20</td></tr><tr><td>1962</td><td>Maurice Trintignant</td><td>French</td><td>0.0</td><td>0</td><td>20</td></tr><tr><td>1962</td><td>John Love</td><td>Rhodesian</td><td>0.0</td><td>0</td><td>20</td></tr><tr><td>1962</td><td>Jo Siffert</td><td>Swiss</td><td>0.0</td><td>0</td><td>20</td></tr><tr><td>1962</td><td>Kurt Kuhnke</td><td>German</td><td>0.0</td><td>0</td><td>20</td></tr><tr><td>1962</td><td>Ian Burgess</td><td>British</td><td>0.0</td><td>0</td><td>20</td></tr><tr><td>1962</td><td>Keith Greene</td><td>British</td><td>0.0</td><td>0</td><td>20</td></tr><tr><td>1962</td><td>Tony Settember</td><td>American</td><td>0.0</td><td>0</td><td>20</td></tr><tr><td>1962</td><td>Roger Penske</td><td>American</td><td>0.0</td><td>0</td><td>20</td></tr><tr><td>1962</td><td>Doug Serrurier</td><td>South African</td><td>0.0</td><td>0</td><td>20</td></tr><tr><td>1962</td><td>Jackie Lewis</td><td>British</td><td>0.0</td><td>0</td><td>20</td></tr><tr><td>1962</td><td>Hap Sharp</td><td>American</td><td>0.0</td><td>0</td><td>20</td></tr><tr><td>1962</td><td>Roy Salvadori</td><td>British</td><td>0.0</td><td>0</td><td>20</td></tr><tr><td>1962</td><td>Roberto Lippi</td><td>Italian</td><td>0.0</td><td>0</td><td>20</td></tr><tr><td>1962</td><td>Günther Seiffert</td><td>German</td><td>0.0</td><td>0</td><td>20</td></tr><tr><td>1962</td><td>Carlo Abate</td><td>Italian</td><td>0.0</td><td>0</td><td>20</td></tr><tr><td>1962</td><td>Ernesto Prinoth</td><td>Italian</td><td>0.0</td><td>0</td><td>20</td></tr><tr><td>1962</td><td>John Campbell-Jones</td><td>British</td><td>0.0</td><td>0</td><td>20</td></tr><tr><td>1962</td><td>Ben Pon</td><td>Dutch</td><td>0.0</td><td>0</td><td>20</td></tr><tr><td>1962</td><td>Jay Chamberlain</td><td>American</td><td>0.0</td><td>0</td><td>20</td></tr><tr><td>1962</td><td>Nino Vaccarella</td><td>Italian</td><td>0.0</td><td>0</td><td>20</td></tr><tr><td>1962</td><td>Ernie Pieterse</td><td>South African</td><td>0.0</td><td>0</td><td>20</td></tr><tr><td>1962</td><td>Lucien Bianchi</td><td>Belgian</td><td>0.0</td><td>0</td><td>20</td></tr><tr><td>1962</td><td>Heinz Schiller</td><td>Swiss</td><td>0.0</td><td>0</td><td>20</td></tr><tr><td>1962</td><td>Colin Davis</td><td>British</td><td>0.0</td><td>0</td><td>20</td></tr><tr><td>1962</td><td>Tony Marsh</td><td>British</td><td>0.0</td><td>0</td><td>20</td></tr><tr><td>1962</td><td>Syd van der Vyver</td><td>South African</td><td>0.0</td><td>0</td><td>20</td></tr><tr><td>1962</td><td>Timmy Mayer</td><td>American</td><td>0.0</td><td>0</td><td>20</td></tr><tr><td>1962</td><td>Rob Slotemaker</td><td>Dutch</td><td>0.0</td><td>0</td><td>20</td></tr><tr><td>1962</td><td>Rob Schroeder</td><td>British</td><td>0.0</td><td>0</td><td>20</td></tr><tr><td>1962</td><td>Bruce Johnstone</td><td>South African</td><td>0.0</td><td>0</td><td>20</td></tr><tr><td>1962</td><td>Sam Tingle</td><td>Rhodesian</td><td>0.0</td><td>0</td><td>20</td></tr><tr><td>1962</td><td>Jim Hall</td><td>American</td><td>0.0</td><td>0</td><td>20</td></tr><tr><td>1963</td><td>Jim Clark</td><td>British</td><td>73.0</td><td>7</td><td>1</td></tr><tr><td>1963</td><td>Richie Ginther</td><td>American</td><td>34.0</td><td>0</td><td>2</td></tr><tr><td>1963</td><td>Graham Hill</td><td>British</td><td>29.0</td><td>2</td><td>3</td></tr><tr><td>1963</td><td>John Surtees</td><td>British</td><td>22.0</td><td>1</td><td>4</td></tr><tr><td>1963</td><td>Dan Gurney</td><td>American</td><td>19.0</td><td>0</td><td>5</td></tr><tr><td>1963</td><td>Bruce McLaren</td><td>New Zealander</td><td>17.0</td><td>0</td><td>6</td></tr><tr><td>1963</td><td>Jack Brabham</td><td>Australian</td><td>14.0</td><td>0</td><td>7</td></tr><tr><td>1963</td><td>Tony Maggs</td><td>South African</td><td>9.0</td><td>0</td><td>8</td></tr><tr><td>1963</td><td>Innes Ireland</td><td>British</td><td>6.0</td><td>0</td><td>9</td></tr><tr><td>1963</td><td>Jo Bonnier</td><td>Swedish</td><td>6.0</td><td>0</td><td>9</td></tr><tr><td>1963</td><td>Lorenzo Bandini</td><td>Italian</td><td>6.0</td><td>0</td><td>9</td></tr><tr><td>1963</td><td>Jim Hall</td><td>American</td><td>3.0</td><td>0</td><td>12</td></tr><tr><td>1963</td><td>Gerhard Mitter</td><td>German</td><td>3.0</td><td>0</td><td>12</td></tr><tr><td>1963</td><td>Carel Godin de Beaufort</td><td>Dutch</td><td>2.0</td><td>0</td><td>14</td></tr><tr><td>1963</td><td>Ludovico Scarfiotti</td><td>Italian</td><td>1.0</td><td>0</td><td>15</td></tr><tr><td>1963</td><td>Jo Siffert</td><td>Swiss</td><td>1.0</td><td>0</td><td>15</td></tr><tr><td>1963</td><td>Trevor Taylor</td><td>British</td><td>1.0</td><td>0</td><td>15</td></tr><tr><td>1963</td><td>Peter de Klerk</td><td>South African</td><td>0.0</td><td>0</td><td>18</td></tr><tr><td>1963</td><td>Gaetano Starrabba</td><td>Italian</td><td>0.0</td><td>0</td><td>18</td></tr><tr><td>1963</td><td>Moisés Solana</td><td>Mexican</td><td>0.0</td><td>0</td><td>18</td></tr><tr><td>1963</td><td>Sam Tingle</td><td>Rhodesian</td><td>0.0</td><td>0</td><td>18</td></tr><tr><td>1963</td><td>Bernard Collomb</td><td>French</td><td>0.0</td><td>0</td><td>18</td></tr><tr><td>1963</td><td>Mike Hailwood</td><td>British</td><td>0.0</td><td>0</td><td>18</td></tr><tr><td>1963</td><td>Mike Spence</td><td>British</td><td>0.0</td><td>0</td><td>18</td></tr><tr><td>1963</td><td>Neville Lederle</td><td>South African</td><td>0.0</td><td>0</td><td>18</td></tr><tr><td>1963</td><td>Frank Dochnal</td><td>American</td><td>0.0</td><td>0</td><td>18</td></tr><tr><td>1963</td><td>Günther Seiffert</td><td>German</td><td>0.0</td><td>0</td><td>18</td></tr><tr><td>1963</td><td>Peter Arundell</td><td>British</td><td>0.0</td><td>0</td><td>18</td></tr><tr><td>1963</td><td>Nasif Estéfano</td><td>Argentine</td><td>0.0</td><td>0</td><td>18</td></tr><tr><td>1963</td><td>Willy Mairesse</td><td>Belgian</td><td>0.0</td><td>0</td><td>18</td></tr><tr><td>1963</td><td>Tim Parnell</td><td>British</td><td>0.0</td><td>0</td><td>18</td></tr><tr><td>1963</td><td>Giancarlo Baghetti</td><td>Italian</td><td>0.0</td><td>0</td><td>18</td></tr><tr><td>1963</td><td>Rodger Ward</td><td>American</td><td>0.0</td><td>0</td><td>18</td></tr><tr><td>1963</td><td>Roberto Lippi</td><td>Italian</td><td>0.0</td><td>0</td><td>18</td></tr><tr><td>1963</td><td>Lucien Bianchi</td><td>Belgian</td><td>0.0</td><td>0</td><td>18</td></tr><tr><td>1963</td><td>Chris Amon</td><td>New Zealander</td><td>0.0</td><td>0</td><td>18</td></tr><tr><td>1963</td><td>Ernie de Vos</td><td>Dutch</td><td>0.0</td><td>0</td><td>18</td></tr><tr><td>1963</td><td>Maurice Trintignant</td><td>French</td><td>0.0</td><td>0</td><td>18</td></tr><tr><td>1963</td><td>André Pilette</td><td>Belgian</td><td>0.0</td><td>0</td><td>18</td></tr><tr><td>1963</td><td>John Love</td><td>Rhodesian</td><td>0.0</td><td>0</td><td>18</td></tr><tr><td>1963</td><td>Ernesto Brambilla</td><td>Italian</td><td>0.0</td><td>0</td><td>18</td></tr><tr><td>1963</td><td>Ian Raby</td><td>British</td><td>0.0</td><td>0</td><td>18</td></tr><tr><td>1963</td><td>Carlo Abate</td><td>Italian</td><td>0.0</td><td>0</td><td>18</td></tr><tr><td>1963</td><td>Peter Broeker</td><td>Canadian</td><td>0.0</td><td>0</td><td>18</td></tr><tr><td>1963</td><td>Hap Sharp</td><td>American</td><td>0.0</td><td>0</td><td>18</td></tr><tr><td>1963</td><td>Trevor Blokdyk</td><td>South African</td><td>0.0</td><td>0</td><td>18</td></tr><tr><td>1963</td><td>Ernie Pieterse</td><td>South African</td><td>0.0</td><td>0</td><td>18</td></tr><tr><td>1963</td><td>Walt Hansgen</td><td>American</td><td>0.0</td><td>0</td><td>18</td></tr><tr><td>1963</td><td>John Campbell-Jones</td><td>British</td><td>0.0</td><td>0</td><td>18</td></tr><tr><td>1963</td><td>Thomas Monarch</td><td>American</td><td>0.0</td><td>0</td><td>18</td></tr><tr><td>1963</td><td>Pedro Rodríguez</td><td>Mexican</td><td>0.0</td><td>0</td><td>18</td></tr><tr><td>1963</td><td>David Prophet</td><td>British</td><td>0.0</td><td>0</td><td>18</td></tr><tr><td>1963</td><td>Doug Serrurier</td><td>South African</td><td>0.0</td><td>0</td><td>18</td></tr><tr><td>1963</td><td>Brausch Niemann</td><td>South African</td><td>0.0</td><td>0</td><td>18</td></tr><tr><td>1963</td><td>Ian Burgess</td><td>British</td><td>0.0</td><td>0</td><td>18</td></tr><tr><td>1963</td><td>Paddy Driver</td><td>South African</td><td>0.0</td><td>0</td><td>18</td></tr><tr><td>1963</td><td>Phil Hill</td><td>American</td><td>0.0</td><td>0</td><td>18</td></tr><tr><td>1963</td><td>Kurt Kuhnke</td><td>German</td><td>0.0</td><td>0</td><td>18</td></tr><tr><td>1963</td><td>Tony Settember</td><td>American</td><td>0.0</td><td>0</td><td>18</td></tr><tr><td>1963</td><td>Mário de Araújo Cabral</td><td>Portuguese</td><td>0.0</td><td>0</td><td>18</td></tr><tr><td>1963</td><td>Masten Gregory</td><td>American</td><td>0.0</td><td>0</td><td>18</td></tr><tr><td>1963</td><td>Bob Anderson</td><td>British</td><td>0.0</td><td>0</td><td>18</td></tr><tr><td>1964</td><td>Graham Hill</td><td>British</td><td>41.0</td><td>2</td><td>1</td></tr><tr><td>1964</td><td>John Surtees</td><td>British</td><td>40.0</td><td>2</td><td>2</td></tr><tr><td>1964</td><td>Jim Clark</td><td>British</td><td>32.0</td><td>3</td><td>3</td></tr><tr><td>1964</td><td>Lorenzo Bandini</td><td>Italian</td><td>23.0</td><td>1</td><td>4</td></tr><tr><td>1964</td><td>Richie Ginther</td><td>American</td><td>23.0</td><td>0</td><td>5</td></tr><tr><td>1964</td><td>Dan Gurney</td><td>American</td><td>19.0</td><td>2</td><td>6</td></tr><tr><td>1964</td><td>Bruce McLaren</td><td>New Zealander</td><td>13.0</td><td>0</td><td>7</td></tr><tr><td>1964</td><td>Peter Arundell</td><td>British</td><td>11.0</td><td>0</td><td>8</td></tr><tr><td>1964</td><td>Jack Brabham</td><td>Australian</td><td>11.0</td><td>0</td><td>8</td></tr><tr><td>1964</td><td>Jo Siffert</td><td>Swiss</td><td>7.0</td><td>0</td><td>10</td></tr><tr><td>1964</td><td>Bob Anderson</td><td>British</td><td>5.0</td><td>0</td><td>11</td></tr><tr><td>1964</td><td>Innes Ireland</td><td>British</td><td>4.0</td><td>0</td><td>12</td></tr><tr><td>1964</td><td>Tony Maggs</td><td>South African</td><td>4.0</td><td>0</td><td>12</td></tr><tr><td>1964</td><td>Mike Spence</td><td>British</td><td>4.0</td><td>0</td><td>12</td></tr><tr><td>1964</td><td>Jo Bonnier</td><td>Swedish</td><td>3.0</td><td>0</td><td>15</td></tr><tr><td>1964</td><td>Maurice Trintignant</td><td>French</td><td>2.0</td><td>0</td><td>16</td></tr><tr><td>1964</td><td>Chris Amon</td><td>New Zealander</td><td>2.0</td><td>0</td><td>16</td></tr><tr><td>1964</td><td>Walt Hansgen</td><td>American</td><td>2.0</td><td>0</td><td>16</td></tr><tr><td>1964</td><td>Pedro Rodríguez</td><td>Mexican</td><td>1.0</td><td>0</td><td>19</td></tr><tr><td>1964</td><td>Mike Hailwood</td><td>British</td><td>1.0</td><td>0</td><td>19</td></tr><tr><td>1964</td><td>Phil Hill</td><td>American</td><td>1.0</td><td>0</td><td>19</td></tr><tr><td>1964</td><td>Trevor Taylor</td><td>British</td><td>1.0</td><td>0</td><td>19</td></tr><tr><td>1964</td><td>Giancarlo Baghetti</td><td>Italian</td><td>0.0</td><td>0</td><td>23</td></tr><tr><td>1964</td><td>John Taylor</td><td>British</td><td>0.0</td><td>0</td><td>23</td></tr><tr><td>1964</td><td>Ronnie Bucknum</td><td>American</td><td>0.0</td><td>0</td><td>23</td></tr><tr><td>1964</td><td>Ludovico Scarfiotti</td><td>Italian</td><td>0.0</td><td>0</td><td>23</td></tr><tr><td>1964</td><td>Peter Revson</td><td>American</td><td>0.0</td><td>0</td><td>23</td></tr><tr><td>1964</td><td>Jochen Rindt</td><td>Austrian</td><td>0.0</td><td>0</td><td>23</td></tr><tr><td>1964</td><td>Carel Godin de Beaufort</td><td>Dutch</td><td>0.0</td><td>0</td><td>23</td></tr><tr><td>1964</td><td>John Love</td><td>Rhodesian</td><td>0.0</td><td>0</td><td>23</td></tr><tr><td>1964</td><td>André Pilette</td><td>Belgian</td><td>0.0</td><td>0</td><td>23</td></tr><tr><td>1964</td><td>Ian Raby</td><td>British</td><td>0.0</td><td>0</td><td>23</td></tr><tr><td>1964</td><td>Edgar Barth</td><td>German</td><td>0.0</td><td>0</td><td>23</td></tr><tr><td>1964</td><td>Hap Sharp</td><td>American</td><td>0.0</td><td>0</td><td>23</td></tr><tr><td>1964</td><td>Giacomo Russo</td><td>Italian</td><td>0.0</td><td>0</td><td>23</td></tr><tr><td>1964</td><td>Richard Attwood</td><td>British</td><td>0.0</td><td>0</td><td>23</td></tr><tr><td>1964</td><td>Frank Gardner</td><td>Australian</td><td>0.0</td><td>0</td><td>23</td></tr><tr><td>1964</td><td>Mário de Araújo Cabral</td><td>Portuguese</td><td>0.0</td><td>0</td><td>23</td></tr><tr><td>1964</td><td>Moisés Solana</td><td>Mexican</td><td>0.0</td><td>0</td><td>23</td></tr><tr><td>1964</td><td>Bernard Collomb</td><td>French</td><td>0.0</td><td>0</td><td>23</td></tr><tr><td>1964</td><td>Gerhard Mitter</td><td>German</td><td>0.0</td><td>0</td><td>23</td></tr><tr><td>1965</td><td>Jim Clark</td><td>British</td><td>54.0</td><td>6</td><td>1</td></tr><tr><td>1965</td><td>Graham Hill</td><td>British</td><td>47.0</td><td>2</td><td>2</td></tr><tr><td>1965</td><td>Jackie Stewart</td><td>British</td><td>34.0</td><td>1</td><td>3</td></tr><tr><td>1965</td><td>Dan Gurney</td><td>American</td><td>25.0</td><td>0</td><td>4</td></tr><tr><td>1965</td><td>John Surtees</td><td>British</td><td>17.0</td><td>0</td><td>5</td></tr><tr><td>1965</td><td>Lorenzo Bandini</td><td>Italian</td><td>13.0</td><td>0</td><td>6</td></tr><tr><td>1965</td><td>Richie Ginther</td><td>American</td><td>11.0</td><td>1</td><td>7</td></tr><tr><td>1965</td><td>Mike Spence</td><td>British</td><td>10.0</td><td>0</td><td>8</td></tr><tr><td>1965</td><td>Bruce McLaren</td><td>New Zealander</td><td>10.0</td><td>0</td><td>8</td></tr><tr><td>1965</td><td>Jack Brabham</td><td>Australian</td><td>9.0</td><td>0</td><td>10</td></tr><tr><td>1965</td><td>Denny Hulme</td><td>New Zealander</td><td>5.0</td><td>0</td><td>11</td></tr><tr><td>1965</td><td>Jo Siffert</td><td>Swiss</td><td>5.0</td><td>0</td><td>11</td></tr><tr><td>1965</td><td>Jochen Rindt</td><td>Austrian</td><td>4.0</td><td>0</td><td>13</td></tr><tr><td>1965</td><td>Ronnie Bucknum</td><td>American</td><td>2.0</td><td>0</td><td>14</td></tr><tr><td>1965</td><td>Pedro Rodríguez</td><td>Mexican</td><td>2.0</td><td>0</td><td>14</td></tr><tr><td>1965</td><td>Richard Attwood</td><td>British</td><td>2.0</td><td>0</td><td>14</td></tr><tr><td>1965</td><td>Dave Charlton</td><td>South African</td><td>0.0</td><td>0</td><td>17</td></tr><tr><td>1965</td><td>Brausch Niemann</td><td>South African</td><td>0.0</td><td>0</td><td>17</td></tr><tr><td>1965</td><td>Sam Tingle</td><td>Rhodesian</td><td>0.0</td><td>0</td><td>17</td></tr><tr><td>1965</td><td>Ray Reed</td><td>South African</td><td>0.0</td><td>0</td><td>17</td></tr><tr><td>1965</td><td>Lucien Bianchi</td><td>Belgian</td><td>0.0</td><td>0</td><td>17</td></tr><tr><td>1965</td><td>Alex Blignaut</td><td>South African</td><td>0.0</td><td>0</td><td>17</td></tr><tr><td>1965</td><td>Innes Ireland</td><td>British</td><td>0.0</td><td>0</td><td>17</td></tr><tr><td>1965</td><td>Ian Raby</td><td>British</td><td>0.0</td><td>0</td><td>17</td></tr><tr><td>1965</td><td>Moisés Solana</td><td>Mexican</td><td>0.0</td><td>0</td><td>17</td></tr><tr><td>1965</td><td>David Clapham</td><td>South African</td><td>0.0</td><td>0</td><td>17</td></tr><tr><td>1965</td><td>Frank Gardner</td><td>Australian</td><td>0.0</td><td>0</td><td>17</td></tr><tr><td>1965</td><td>Doug Serrurier</td><td>South African</td><td>0.0</td><td>0</td><td>17</td></tr><tr><td>1965</td><td>Roberto Bussinello</td><td>Italian</td><td>0.0</td><td>0</td><td>17</td></tr><tr><td>1965</td><td>Mike Hailwood</td><td>British</td><td>0.0</td><td>0</td><td>17</td></tr><tr><td>1965</td><td>Jo Bonnier</td><td>Swedish</td><td>0.0</td><td>0</td><td>17</td></tr><tr><td>1965</td><td>Peter de Klerk</td><td>South African</td><td>0.0</td><td>0</td><td>17</td></tr><tr><td>1965</td><td>Tony Maggs</td><td>South African</td><td>0.0</td><td>0</td><td>17</td></tr><tr><td>1965</td><td>Nino Vaccarella</td><td>Italian</td><td>0.0</td><td>0</td><td>17</td></tr><tr><td>1965</td><td>Giorgio Bassi</td><td>Italian</td><td>0.0</td><td>0</td><td>17</td></tr><tr><td>1965</td><td>Giacomo Russo</td><td>Italian</td><td>0.0</td><td>0</td><td>17</td></tr><tr><td>1965</td><td>Bob Anderson</td><td>British</td><td>0.0</td><td>0</td><td>17</td></tr><tr><td>1965</td><td>John Rhodes</td><td>British</td><td>0.0</td><td>0</td><td>17</td></tr><tr><td>1965</td><td>John Love</td><td>Rhodesian</td><td>0.0</td><td>0</td><td>17</td></tr><tr><td>1965</td><td>Bob Bondurant</td><td>American</td><td>0.0</td><td>0</td><td>17</td></tr><tr><td>1965</td><td>Brian Gubby</td><td>British</td><td>0.0</td><td>0</td><td>17</td></tr><tr><td>1965</td><td>Alan Rollinson</td><td>British</td><td>0.0</td><td>0</td><td>17</td></tr><tr><td>1965</td><td>Gerhard Mitter</td><td>German</td><td>0.0</td><td>0</td><td>17</td></tr><tr><td>1965</td><td>Ludovico Scarfiotti</td><td>Italian</td><td>0.0</td><td>0</td><td>17</td></tr><tr><td>1965</td><td>Clive Puzey</td><td>Rhodesian</td><td>0.0</td><td>0</td><td>17</td></tr><tr><td>1965</td><td>Giancarlo Baghetti</td><td>Italian</td><td>0.0</td><td>0</td><td>17</td></tr><tr><td>1965</td><td>Jackie Pretorius</td><td>South African</td><td>0.0</td><td>0</td><td>17</td></tr><tr><td>1965</td><td>Ernie Pieterse</td><td>South African</td><td>0.0</td><td>0</td><td>17</td></tr><tr><td>1965</td><td>Chris Amon</td><td>New Zealander</td><td>0.0</td><td>0</td><td>17</td></tr><tr><td>1965</td><td>Trevor Blokdyk</td><td>South African</td><td>0.0</td><td>0</td><td>17</td></tr><tr><td>1965</td><td>Masten Gregory</td><td>American</td><td>0.0</td><td>0</td><td>17</td></tr><tr><td>1965</td><td>David Prophet</td><td>British</td><td>0.0</td><td>0</td><td>17</td></tr><tr><td>1965</td><td>Neville Lederle</td><td>South African</td><td>0.0</td><td>0</td><td>17</td></tr><tr><td>1965</td><td>Paul Hawkins</td><td>Australian</td><td>0.0</td><td>0</td><td>17</td></tr><tr><td>1966</td><td>Jack Brabham</td><td>Australian</td><td>45.0</td><td>4</td><td>1</td></tr><tr><td>1966</td><td>John Surtees</td><td>British</td><td>28.0</td><td>2</td><td>2</td></tr><tr><td>1966</td><td>Jochen Rindt</td><td>Austrian</td><td>24.0</td><td>0</td><td>3</td></tr><tr><td>1966</td><td>Denny Hulme</td><td>New Zealander</td><td>18.0</td><td>0</td><td>4</td></tr><tr><td>1966</td><td>Graham Hill</td><td>British</td><td>17.0</td><td>0</td><td>5</td></tr><tr><td>1966</td><td>Jim Clark</td><td>British</td><td>16.0</td><td>1</td><td>6</td></tr><tr><td>1966</td><td>Jackie Stewart</td><td>British</td><td>14.0</td><td>1</td><td>7</td></tr><tr><td>1966</td><td>Mike Parkes</td><td>British</td><td>12.0</td><td>0</td><td>8</td></tr><tr><td>1966</td><td>Lorenzo Bandini</td><td>Italian</td><td>12.0</td><td>0</td><td>8</td></tr><tr><td>1966</td><td>Ludovico Scarfiotti</td><td>Italian</td><td>9.0</td><td>1</td><td>10</td></tr><tr><td>1966</td><td>Richie Ginther</td><td>American</td><td>5.0</td><td>0</td><td>11</td></tr><tr><td>1966</td><td>Mike Spence</td><td>British</td><td>4.0</td><td>0</td><td>12</td></tr><tr><td>1966</td><td>Dan Gurney</td><td>American</td><td>4.0</td><td>0</td><td>12</td></tr><tr><td>1966</td><td>Jo Siffert</td><td>Swiss</td><td>3.0</td><td>0</td><td>14</td></tr><tr><td>1966</td><td>Bob Bondurant</td><td>American</td><td>3.0</td><td>0</td><td>14</td></tr><tr><td>1966</td><td>Bruce McLaren</td><td>New Zealander</td><td>3.0</td><td>0</td><td>14</td></tr><tr><td>1966</td><td>Peter Arundell</td><td>British</td><td>1.0</td><td>0</td><td>17</td></tr><tr><td>1966</td><td>Bob Anderson</td><td>British</td><td>1.0</td><td>0</td><td>17</td></tr><tr><td>1966</td><td>John Taylor</td><td>British</td><td>1.0</td><td>0</td><td>17</td></tr><tr><td>1966</td><td>Jo Bonnier</td><td>Swedish</td><td>1.0</td><td>0</td><td>17</td></tr><tr><td>1966</td><td>Guy Ligier</td><td>French</td><td>0.0</td><td>0</td><td>21</td></tr><tr><td>1966</td><td>Chris Irwin</td><td>British</td><td>0.0</td><td>0</td><td>21</td></tr><tr><td>1966</td><td>Chris Lawrence</td><td>British</td><td>0.0</td><td>0</td><td>21</td></tr><tr><td>1966</td><td>Innes Ireland</td><td>British</td><td>0.0</td><td>0</td><td>21</td></tr><tr><td>1966</td><td>Ronnie Bucknum</td><td>American</td><td>0.0</td><td>0</td><td>21</td></tr><tr><td>1966</td><td>Pedro Rodríguez</td><td>Mexican</td><td>0.0</td><td>0</td><td>21</td></tr><tr><td>1966</td><td>Chris Amon</td><td>New Zealander</td><td>0.0</td><td>0</td><td>21</td></tr><tr><td>1966</td><td>Vic Wilson</td><td>British</td><td>0.0</td><td>0</td><td>21</td></tr><tr><td>1966</td><td>Giancarlo Baghetti</td><td>Italian</td><td>0.0</td><td>0</td><td>21</td></tr><tr><td>1966</td><td>Trevor Taylor</td><td>British</td><td>0.0</td><td>0</td><td>21</td></tr><tr><td>1966</td><td>Giacomo Russo</td><td>Italian</td><td>0.0</td><td>0</td><td>21</td></tr><tr><td>1966</td><td>Phil Hill</td><td>American</td><td>0.0</td><td>0</td><td>21</td></tr><tr><td>1966</td><td>Moisés Solana</td><td>Mexican</td><td>0.0</td><td>0</td><td>21</td></tr><tr><td>1967</td><td>Denny Hulme</td><td>New Zealander</td><td>51.0</td><td>2</td><td>1</td></tr><tr><td>1967</td><td>Jack Brabham</td><td>Australian</td><td>48.0</td><td>2</td><td>2</td></tr><tr><td>1967</td><td>Jim Clark</td><td>British</td><td>41.0</td><td>4</td><td>3</td></tr><tr><td>1967</td><td>John Surtees</td><td>British</td><td>20.0</td><td>1</td><td>4</td></tr><tr><td>1967</td><td>Chris Amon</td><td>New Zealander</td><td>20.0</td><td>0</td><td>5</td></tr><tr><td>1967</td><td>Pedro Rodríguez</td><td>Mexican</td><td>15.0</td><td>1</td><td>6</td></tr><tr><td>1967</td><td>Graham Hill</td><td>British</td><td>15.0</td><td>0</td><td>7</td></tr><tr><td>1967</td><td>Dan Gurney</td><td>American</td><td>13.0</td><td>1</td><td>8</td></tr><tr><td>1967</td><td>Jackie Stewart</td><td>British</td><td>10.0</td><td>0</td><td>9</td></tr><tr><td>1967</td><td>Mike Spence</td><td>British</td><td>9.0</td><td>0</td><td>10</td></tr><tr><td>1967</td><td>Jochen Rindt</td><td>Austrian</td><td>6.0</td><td>0</td><td>11</td></tr><tr><td>1967</td><td>John Love</td><td>Rhodesian</td><td>6.0</td><td>0</td><td>11</td></tr><tr><td>1967</td><td>Jo Siffert</td><td>Swiss</td><td>6.0</td><td>0</td><td>11</td></tr><tr><td>1967</td><td>Jo Bonnier</td><td>Swedish</td><td>3.0</td><td>0</td><td>14</td></tr><tr><td>1967</td><td>Bruce McLaren</td><td>New Zealander</td><td>3.0</td><td>0</td><td>14</td></tr><tr><td>1967</td><td>Chris Irwin</td><td>British</td><td>2.0</td><td>0</td><td>16</td></tr><tr><td>1967</td><td>Bob Anderson</td><td>British</td><td>2.0</td><td>0</td><td>16</td></tr><tr><td>1967</td><td>Mike Parkes</td><td>British</td><td>2.0</td><td>0</td><td>16</td></tr><tr><td>1967</td><td>Guy Ligier</td><td>French</td><td>1.0</td><td>0</td><td>19</td></tr><tr><td>1967</td><td>Ludovico Scarfiotti</td><td>Italian</td><td>1.0</td><td>0</td><td>19</td></tr><tr><td>1967</td><td>Jacky Ickx</td><td>Belgian</td><td>1.0</td><td>0</td><td>19</td></tr><tr><td>1967</td><td>Mike Fisher</td><td>American</td><td>0.0</td><td>0</td><td>22</td></tr><tr><td>1967</td><td>Al Pease</td><td>Canadian</td><td>0.0</td><td>0</td><td>22</td></tr><tr><td>1967</td><td>Giancarlo Baghetti</td><td>Italian</td><td>0.0</td><td>0</td><td>22</td></tr><tr><td>1967</td><td>Silvio Moser</td><td>Swiss</td><td>0.0</td><td>0</td><td>22</td></tr><tr><td>1967</td><td>Alan Rees</td><td>British</td><td>0.0</td><td>0</td><td>22</td></tr><tr><td>1967</td><td>Tom Jones</td><td>American</td><td>0.0</td><td>0</td><td>22</td></tr><tr><td>1967</td><td>Piers Courage</td><td>British</td><td>0.0</td><td>0</td><td>22</td></tr><tr><td>1967</td><td>David Hobbs</td><td>British</td><td>0.0</td><td>0</td><td>22</td></tr><tr><td>1967</td><td>Hubert Hahne</td><td>German</td><td>0.0</td><td>0</td><td>22</td></tr><tr><td>1967</td><td>Jackie Oliver</td><td>British</td><td>0.0</td><td>0</td><td>22</td></tr><tr><td>1967</td><td>Jonathan Williams</td><td>British</td><td>0.0</td><td>0</td><td>22</td></tr><tr><td>1967</td><td>Sam Tingle</td><td>Rhodesian</td><td>0.0</td><td>0</td><td>22</td></tr><tr><td>1967</td><td>Lorenzo Bandini</td><td>Italian</td><td>0.0</td><td>0</td><td>22</td></tr><tr><td>1967</td><td>Moisés Solana</td><td>Mexican</td><td>0.0</td><td>0</td><td>22</td></tr><tr><td>1967</td><td>Kurt Ahrens</td><td>German</td><td>0.0</td><td>0</td><td>22</td></tr><tr><td>1967</td><td>Brian Hart</td><td>British</td><td>0.0</td><td>0</td><td>22</td></tr><tr><td>1967</td><td>Eppie Wietzes</td><td>Canadian</td><td>0.0</td><td>0</td><td>22</td></tr><tr><td>1967</td><td>Luki Botha</td><td>South African</td><td>0.0</td><td>0</td><td>22</td></tr><tr><td>1967</td><td>Jean-Pierre Beltoise</td><td>French</td><td>0.0</td><td>0</td><td>22</td></tr><tr><td>1967</td><td>Dave Charlton</td><td>South African</td><td>0.0</td><td>0</td><td>22</td></tr><tr><td>1967</td><td>Jo Schlesser</td><td>French</td><td>0.0</td><td>0</td><td>22</td></tr><tr><td>1967</td><td>Johnny Servoz-Gavin</td><td>French</td><td>0.0</td><td>0</td><td>22</td></tr><tr><td>1967</td><td>Richard Attwood</td><td>British</td><td>0.0</td><td>0</td><td>22</td></tr><tr><td>1967</td><td>Richie Ginther</td><td>American</td><td>0.0</td><td>0</td><td>22</td></tr><tr><td>1968</td><td>Graham Hill</td><td>British</td><td>48.0</td><td>3</td><td>1</td></tr><tr><td>1968</td><td>Jackie Stewart</td><td>British</td><td>36.0</td><td>3</td><td>2</td></tr><tr><td>1968</td><td>Denny Hulme</td><td>New Zealander</td><td>33.0</td><td>2</td><td>3</td></tr><tr><td>1968</td><td>Jacky Ickx</td><td>Belgian</td><td>27.0</td><td>1</td><td>4</td></tr><tr><td>1968</td><td>Bruce McLaren</td><td>New Zealander</td><td>22.0</td><td>1</td><td>5</td></tr><tr><td>1968</td><td>Pedro Rodríguez</td><td>Mexican</td><td>18.0</td><td>0</td><td>6</td></tr><tr><td>1968</td><td>Jo Siffert</td><td>Swiss</td><td>12.0</td><td>1</td><td>7</td></tr><tr><td>1968</td><td>John Surtees</td><td>British</td><td>12.0</td><td>0</td><td>8</td></tr><tr><td>1968</td><td>Jean-Pierre Beltoise</td><td>French</td><td>11.0</td><td>0</td><td>9</td></tr><tr><td>1968</td><td>Chris Amon</td><td>New Zealander</td><td>10.0</td><td>0</td><td>10</td></tr><tr><td>1968</td><td>Jim Clark</td><td>British</td><td>9.0</td><td>1</td><td>11</td></tr><tr><td>1968</td><td>Jochen Rindt</td><td>Austrian</td><td>8.0</td><td>0</td><td>12</td></tr><tr><td>1968</td><td>Richard Attwood</td><td>British</td><td>6.0</td><td>0</td><td>13</td></tr><tr><td>1968</td><td>Jackie Oliver</td><td>British</td><td>6.0</td><td>0</td><td>13</td></tr><tr><td>1968</td><td>Ludovico Scarfiotti</td><td>Italian</td><td>6.0</td><td>0</td><td>13</td></tr><tr><td>1968</td><td>Johnny Servoz-Gavin</td><td>French</td><td>6.0</td><td>0</td><td>13</td></tr><tr><td>1968</td><td>Vic Elford</td><td>British</td><td>5.0</td><td>0</td><td>17</td></tr><tr><td>1968</td><td>Lucien Bianchi</td><td>Belgian</td><td>5.0</td><td>0</td><td>17</td></tr><tr><td>1968</td><td>Piers Courage</td><td>British</td><td>4.0</td><td>0</td><td>19</td></tr><tr><td>1968</td><td>Brian Redman</td><td>British</td><td>4.0</td><td>0</td><td>19</td></tr><tr><td>1968</td><td>Jo Bonnier</td><td>Swedish</td><td>3.0</td><td>0</td><td>21</td></tr><tr><td>1968</td><td>Dan Gurney</td><td>American</td><td>3.0</td><td>0</td><td>21</td></tr><tr><td>1968</td><td>Jack Brabham</td><td>Australian</td><td>2.0</td><td>0</td><td>23</td></tr><tr><td>1968</td><td>Silvio Moser</td><td>Swiss</td><td>2.0</td><td>0</td><td>23</td></tr><tr><td>1968</td><td>Bobby Unser</td><td>American</td><td>0.0</td><td>0</td><td>25</td></tr><tr><td>1968</td><td>Andrea de Adamich</td><td>Italian</td><td>0.0</td><td>0</td><td>25</td></tr><tr><td>1968</td><td>Mario Andretti</td><td>American</td><td>0.0</td><td>0</td><td>25</td></tr><tr><td>1968</td><td>John Love</td><td>Rhodesian</td><td>0.0</td><td>0</td><td>25</td></tr><tr><td>1968</td><td>Moisés Solana</td><td>Mexican</td><td>0.0</td><td>0</td><td>25</td></tr><tr><td>1968</td><td>Henri Pescarolo</td><td>French</td><td>0.0</td><td>0</td><td>25</td></tr><tr><td>1968</td><td>Mike Spence</td><td>British</td><td>0.0</td><td>0</td><td>25</td></tr><tr><td>1968</td><td>Jackie Pretorius</td><td>South African</td><td>0.0</td><td>0</td><td>25</td></tr><tr><td>1968</td><td>Frank Gardner</td><td>Australian</td><td>0.0</td><td>0</td><td>25</td></tr><tr><td>1968</td><td>David Hobbs</td><td>British</td><td>0.0</td><td>0</td><td>25</td></tr><tr><td>1968</td><td>Bill Brack</td><td>Canadian</td><td>0.0</td><td>0</td><td>25</td></tr><tr><td>1968</td><td>Jo Schlesser</td><td>French</td><td>0.0</td><td>0</td><td>25</td></tr><tr><td>1968</td><td>Hubert Hahne</td><td>German</td><td>0.0</td><td>0</td><td>25</td></tr><tr><td>1968</td><td>Sam Tingle</td><td>Rhodesian</td><td>0.0</td><td>0</td><td>25</td></tr><tr><td>1968</td><td>Kurt Ahrens</td><td>German</td><td>0.0</td><td>0</td><td>25</td></tr><tr><td>1968</td><td>Derek Bell</td><td>British</td><td>0.0</td><td>0</td><td>25</td></tr><tr><td>1968</td><td>Robin Widdows</td><td>British</td><td>0.0</td><td>0</td><td>25</td></tr><tr><td>1968</td><td>Dave Charlton</td><td>South African</td><td>0.0</td><td>0</td><td>25</td></tr><tr><td>1968</td><td>Basil van Rooyen</td><td>South African</td><td>0.0</td><td>0</td><td>25</td></tr><tr><td>1969</td><td>Jackie Stewart</td><td>British</td><td>63.0</td><td>6</td><td>1</td></tr><tr><td>1969</td><td>Jacky Ickx</td><td>Belgian</td><td>37.0</td><td>2</td><td>2</td></tr><tr><td>1969</td><td>Bruce McLaren</td><td>New Zealander</td><td>26.0</td><td>0</td><td>3</td></tr><tr><td>1969</td><td>Jochen Rindt</td><td>Austrian</td><td>22.0</td><td>1</td><td>4</td></tr><tr><td>1969</td><td>Jean-Pierre Beltoise</td><td>French</td><td>21.0</td><td>0</td><td>5</td></tr><tr><td>1969</td><td>Denny Hulme</td><td>New Zealander</td><td>20.0</td><td>1</td><td>6</td></tr><tr><td>1969</td><td>Graham Hill</td><td>British</td><td>19.0</td><td>1</td><td>7</td></tr><tr><td>1969</td><td>Piers Courage</td><td>British</td><td>16.0</td><td>0</td><td>8</td></tr><tr><td>1969</td><td>Jo Siffert</td><td>Swiss</td><td>15.0</td><td>0</td><td>9</td></tr><tr><td>1969</td><td>Jack Brabham</td><td>Australian</td><td>14.0</td><td>0</td><td>10</td></tr><tr><td>1969</td><td>John Surtees</td><td>British</td><td>6.0</td><td>0</td><td>11</td></tr><tr><td>1969</td><td>Chris Amon</td><td>New Zealander</td><td>4.0</td><td>0</td><td>12</td></tr><tr><td>1969</td><td>Pedro Rodríguez</td><td>Mexican</td><td>3.0</td><td>0</td><td>13</td></tr><tr><td>1969</td><td>Vic Elford</td><td>British</td><td>3.0</td><td>0</td><td>13</td></tr><tr><td>1969</td><td>Richard Attwood</td><td>British</td><td>3.0</td><td>0</td><td>13</td></tr><tr><td>1969</td><td>Johnny Servoz-Gavin</td><td>French</td><td>1.0</td><td>0</td><td>16</td></tr><tr><td>1969</td><td>Jackie Oliver</td><td>British</td><td>1.0</td><td>0</td><td>16</td></tr><tr><td>1969</td><td>Silvio Moser</td><td>Swiss</td><td>1.0</td><td>0</td><td>16</td></tr><tr><td>1969</td><td>John Cordts</td><td>Canadian</td><td>0.0</td><td>0</td><td>19</td></tr><tr><td>1969</td><td>John Love</td><td>Rhodesian</td><td>0.0</td><td>0</td><td>19</td></tr><tr><td>1969</td><td>Bill Brack</td><td>Canadian</td><td>0.0</td><td>0</td><td>19</td></tr><tr><td>1969</td><td>George Eaton</td><td>Canadian</td><td>0.0</td><td>0</td><td>19</td></tr><tr><td>1969</td><td>Peter de Klerk</td><td>South African</td><td>0.0</td><td>0</td><td>19</td></tr><tr><td>1969</td><td>John Miles</td><td>British</td><td>0.0</td><td>0</td><td>19</td></tr><tr><td>1969</td><td>Derek Bell</td><td>British</td><td>0.0</td><td>0</td><td>19</td></tr><tr><td>1969</td><td>Mario Andretti</td><td>American</td><td>0.0</td><td>0</td><td>19</td></tr><tr><td>1969</td><td>Al Pease</td><td>Canadian</td><td>0.0</td><td>0</td><td>19</td></tr><tr><td>1969</td><td>Pete Lovely</td><td>American</td><td>0.0</td><td>0</td><td>19</td></tr><tr><td>1969</td><td>Sam Tingle</td><td>Rhodesian</td><td>0.0</td><td>0</td><td>19</td></tr><tr><td>1969</td><td>Basil van Rooyen</td><td>South African</td><td>0.0</td><td>0</td><td>19</td></tr><tr><td>1969</td><td>Jo Bonnier</td><td>Swedish</td><td>0.0</td><td>0</td><td>19</td></tr><tr><td>1970</td><td>Jochen Rindt</td><td>Austrian</td><td>45.0</td><td>5</td><td>1</td></tr><tr><td>1970</td><td>Jacky Ickx</td><td>Belgian</td><td>40.0</td><td>3</td><td>2</td></tr><tr><td>1970</td><td>Clay Regazzoni</td><td>Swiss</td><td>33.0</td><td>1</td><td>3</td></tr><tr><td>1970</td><td>Denny Hulme</td><td>New Zealander</td><td>27.0</td><td>0</td><td>4</td></tr><tr><td>1970</td><td>Jack Brabham</td><td>Australian</td><td>25.0</td><td>1</td><td>5</td></tr><tr><td>1970</td><td>Jackie Stewart</td><td>British</td><td>25.0</td><td>1</td><td>5</td></tr><tr><td>1970</td><td>Pedro Rodríguez</td><td>Mexican</td><td>23.0</td><td>1</td><td>7</td></tr><tr><td>1970</td><td>Chris Amon</td><td>New Zealander</td><td>23.0</td><td>0</td><td>8</td></tr><tr><td>1970</td><td>Jean-Pierre Beltoise</td><td>French</td><td>16.0</td><td>0</td><td>9</td></tr><tr><td>1970</td><td>Emerson Fittipaldi</td><td>Brazilian</td><td>12.0</td><td>1</td><td>10</td></tr><tr><td>1970</td><td>Rolf Stommelen</td><td>German</td><td>10.0</td><td>0</td><td>11</td></tr><tr><td>1970</td><td>Henri Pescarolo</td><td>French</td><td>8.0</td><td>0</td><td>12</td></tr><tr><td>1970</td><td>Graham Hill</td><td>British</td><td>7.0</td><td>0</td><td>13</td></tr><tr><td>1970</td><td>Bruce McLaren</td><td>New Zealander</td><td>6.0</td><td>0</td><td>14</td></tr><tr><td>1970</td><td>Mario Andretti</td><td>American</td><td>4.0</td><td>0</td><td>15</td></tr><tr><td>1970</td><td>Reine Wisell</td><td>Swedish</td><td>4.0</td><td>0</td><td>15</td></tr><tr><td>1970</td><td>Ignazio Giunti</td><td>Italian</td><td>3.0</td><td>0</td><td>17</td></tr><tr><td>1970</td><td>John Surtees</td><td>British</td><td>3.0</td><td>0</td><td>17</td></tr><tr><td>1970</td><td>Jackie Oliver</td><td>British</td><td>2.0</td><td>0</td><td>19</td></tr><tr><td>1970</td><td>John Miles</td><td>British</td><td>2.0</td><td>0</td><td>19</td></tr><tr><td>1970</td><td>Johnny Servoz-Gavin</td><td>French</td><td>2.0</td><td>0</td><td>19</td></tr><tr><td>1970</td><td>Dan Gurney</td><td>American</td><td>1.0</td><td>0</td><td>22</td></tr><tr><td>1970</td><td>Derek Bell</td><td>British</td><td>1.0</td><td>0</td><td>22</td></tr><tr><td>1970</td><td>François Cevert</td><td>French</td><td>1.0</td><td>0</td><td>22</td></tr><tr><td>1970</td><td>Peter Gethin</td><td>British</td><td>1.0</td><td>0</td><td>22</td></tr><tr><td>1970</td><td>Gus Hutchison</td><td>American</td><td>0.0</td><td>0</td><td>26</td></tr><tr><td>1970</td><td>Piers Courage</td><td>British</td><td>0.0</td><td>0</td><td>26</td></tr><tr><td>1970</td><td>Alex Soler-Roig</td><td>Spanish</td><td>0.0</td><td>0</td><td>26</td></tr><tr><td>1970</td><td>Ronnie Peterson</td><td>Swedish</td><td>0.0</td><td>0</td><td>26</td></tr><tr><td>1970</td><td>Silvio Moser</td><td>Swiss</td><td>0.0</td><td>0</td><td>26</td></tr><tr><td>1970</td><td>John Love</td><td>Rhodesian</td><td>0.0</td><td>0</td><td>26</td></tr><tr><td>1970</td><td>Andrea de Adamich</td><td>Italian</td><td>0.0</td><td>0</td><td>26</td></tr><tr><td>1970</td><td>Hubert Hahne</td><td>German</td><td>0.0</td><td>0</td><td>26</td></tr><tr><td>1970</td><td>Brian Redman</td><td>British</td><td>0.0</td><td>0</td><td>26</td></tr><tr><td>1970</td><td>Pete Lovely</td><td>American</td><td>0.0</td><td>0</td><td>26</td></tr><tr><td>1970</td><td>Peter Westbury</td><td>British</td><td>0.0</td><td>0</td><td>26</td></tr><tr><td>1970</td><td>George Eaton</td><td>Canadian</td><td>0.0</td><td>0</td><td>26</td></tr><tr><td>1970</td><td>Dave Charlton</td><td>South African</td><td>0.0</td><td>0</td><td>26</td></tr><tr><td>1970</td><td>Tim Schenken</td><td>Australian</td><td>0.0</td><td>0</td><td>26</td></tr><tr><td>1970</td><td>Nanni Galli</td><td>Italian</td><td>0.0</td><td>0</td><td>26</td></tr><tr><td>1970</td><td>Jo Bonnier</td><td>Swedish</td><td>0.0</td><td>0</td><td>26</td></tr><tr><td>1970</td><td>Jo Siffert</td><td>Swiss</td><td>0.0</td><td>0</td><td>26</td></tr><tr><td>1970</td><td>Peter de Klerk</td><td>South African</td><td>0.0</td><td>0</td><td>26</td></tr><tr><td>1971</td><td>Jackie Stewart</td><td>British</td><td>62.0</td><td>6</td><td>1</td></tr><tr><td>1971</td><td>Ronnie Peterson</td><td>Swedish</td><td>33.0</td><td>0</td><td>2</td></tr><tr><td>1971</td><td>François Cevert</td><td>French</td><td>26.0</td><td>1</td><td>3</td></tr><tr><td>1971</td><td>Jacky Ickx</td><td>Belgian</td><td>19.0</td><td>1</td><td>4</td></tr><tr><td>1971</td><td>Jo Siffert</td><td>Swiss</td><td>19.0</td><td>1</td><td>4</td></tr><tr><td>1971</td><td>Emerson Fittipaldi</td><td>Brazilian</td><td>16.0</td><td>0</td><td>6</td></tr><tr><td>1971</td><td>Clay Regazzoni</td><td>Swiss</td><td>13.0</td><td>0</td><td>7</td></tr><tr><td>1971</td><td>Mario Andretti</td><td>American</td><td>12.0</td><td>1</td><td>8</td></tr><tr><td>1971</td><td>Peter Gethin</td><td>British</td><td>9.0</td><td>1</td><td>9</td></tr><tr><td>1971</td><td>Reine Wisell</td><td>Swedish</td><td>9.0</td><td>0</td><td>10</td></tr><tr><td>1971</td><td>Denny Hulme</td><td>New Zealander</td><td>9.0</td><td>0</td><td>10</td></tr><tr><td>1971</td><td>Chris Amon</td><td>New Zealander</td><td>9.0</td><td>0</td><td>10</td></tr><tr><td>1971</td><td>Pedro Rodríguez</td><td>Mexican</td><td>9.0</td><td>0</td><td>10</td></tr><tr><td>1971</td><td>Tim Schenken</td><td>Australian</td><td>5.0</td><td>0</td><td>14</td></tr><tr><td>1971</td><td>Howden Ganley</td><td>New Zealander</td><td>5.0</td><td>0</td><td>14</td></tr><tr><td>1971</td><td>Mark Donohue</td><td>American</td><td>4.0</td><td>0</td><td>16</td></tr><tr><td>1971</td><td>Henri Pescarolo</td><td>French</td><td>4.0</td><td>0</td><td>16</td></tr><tr><td>1971</td><td>Mike Hailwood</td><td>British</td><td>3.0</td><td>0</td><td>18</td></tr><tr><td>1971</td><td>John Surtees</td><td>British</td><td>3.0</td><td>0</td><td>18</td></tr><tr><td>1971</td><td>Rolf Stommelen</td><td>German</td><td>3.0</td><td>0</td><td>18</td></tr><tr><td>1971</td><td>Graham Hill</td><td>British</td><td>2.0</td><td>0</td><td>21</td></tr><tr><td>1971</td><td>Jean-Pierre Beltoise</td><td>French</td><td>1.0</td><td>0</td><td>22</td></tr><tr><td>1971</td><td>John Cannon</td><td>Canadian</td><td>0.0</td><td>0</td><td>23</td></tr><tr><td>1971</td><td>Jo Bonnier</td><td>Swedish</td><td>0.0</td><td>0</td><td>23</td></tr><tr><td>1971</td><td>Jackie Oliver</td><td>British</td><td>0.0</td><td>0</td><td>23</td></tr><tr><td>1971</td><td>Derek Bell</td><td>British</td><td>0.0</td><td>0</td><td>23</td></tr><tr><td>1971</td><td>Niki Lauda</td><td>Austrian</td><td>0.0</td><td>0</td><td>23</td></tr><tr><td>1971</td><td>Gijs van Lennep</td><td>Dutch</td><td>0.0</td><td>0</td><td>23</td></tr><tr><td>1971</td><td>Pete Lovely</td><td>American</td><td>0.0</td><td>0</td><td>23</td></tr><tr><td>1971</td><td>Andrea de Adamich</td><td>Italian</td><td>0.0</td><td>0</td><td>23</td></tr><tr><td>1971</td><td>François Mazet</td><td>French</td><td>0.0</td><td>0</td><td>23</td></tr><tr><td>1971</td><td>Peter Revson</td><td>American</td><td>0.0</td><td>0</td><td>23</td></tr><tr><td>1971</td><td>Sam Posey</td><td>American</td><td>0.0</td><td>0</td><td>23</td></tr><tr><td>1971</td><td>John Love</td><td>Rhodesian</td><td>0.0</td><td>0</td><td>23</td></tr><tr><td>1971</td><td>Nanni Galli</td><td>Italian</td><td>0.0</td><td>0</td><td>23</td></tr><tr><td>1971</td><td>Brian Redman</td><td>British</td><td>0.0</td><td>0</td><td>23</td></tr><tr><td>1971</td><td>Helmut Marko</td><td>Austrian</td><td>0.0</td><td>0</td><td>23</td></tr><tr><td>1971</td><td>Mike Beuttler</td><td>British</td><td>0.0</td><td>0</td><td>23</td></tr><tr><td>1971</td><td>Jackie Pretorius</td><td>South African</td><td>0.0</td><td>0</td><td>23</td></tr><tr><td>1971</td><td>Skip Barber</td><td>American</td><td>0.0</td><td>0</td><td>23</td></tr><tr><td>1971</td><td>Chris Craft</td><td>British</td><td>0.0</td><td>0</td><td>23</td></tr><tr><td>1971</td><td>David Hobbs</td><td>British</td><td>0.0</td><td>0</td><td>23</td></tr><tr><td>1971</td><td>Dave Charlton</td><td>South African</td><td>0.0</td><td>0</td><td>23</td></tr><tr><td>1971</td><td>Vic Elford</td><td>British</td><td>0.0</td><td>0</td><td>23</td></tr><tr><td>1971</td><td>Alex Soler-Roig</td><td>Spanish</td><td>0.0</td><td>0</td><td>23</td></tr><tr><td>1971</td><td>Silvio Moser</td><td>Swiss</td><td>0.0</td><td>0</td><td>23</td></tr><tr><td>1971</td><td>Max Jean</td><td>French</td><td>0.0</td><td>0</td><td>23</td></tr><tr><td>1971</td><td>David Walker</td><td>Australian</td><td>0.0</td><td>0</td><td>23</td></tr><tr><td>1971</td><td>George Eaton</td><td>Canadian</td><td>0.0</td><td>0</td><td>23</td></tr><tr><td>1971</td><td>Jean-Pierre Jarier</td><td>French</td><td>0.0</td><td>0</td><td>23</td></tr><tr><td>1972</td><td>Emerson Fittipaldi</td><td>Brazilian</td><td>61.0</td><td>5</td><td>1</td></tr><tr><td>1972</td><td>Jackie Stewart</td><td>British</td><td>45.0</td><td>4</td><td>2</td></tr><tr><td>1972</td><td>Denny Hulme</td><td>New Zealander</td><td>39.0</td><td>1</td><td>3</td></tr><tr><td>1972</td><td>Jacky Ickx</td><td>Belgian</td><td>27.0</td><td>1</td><td>4</td></tr><tr><td>1972</td><td>Peter Revson</td><td>American</td><td>23.0</td><td>0</td><td>5</td></tr><tr><td>1972</td><td>Clay Regazzoni</td><td>Swiss</td><td>15.0</td><td>0</td><td>6</td></tr><tr><td>1972</td><td>François Cevert</td><td>French</td><td>15.0</td><td>0</td><td>6</td></tr><tr><td>1972</td><td>Mike Hailwood</td><td>British</td><td>13.0</td><td>0</td><td>8</td></tr><tr><td>1972</td><td>Ronnie Peterson</td><td>Swedish</td><td>12.0</td><td>0</td><td>9</td></tr><tr><td>1972</td><td>Chris Amon</td><td>New Zealander</td><td>12.0</td><td>0</td><td>9</td></tr><tr><td>1972</td><td>Jean-Pierre Beltoise</td><td>French</td><td>9.0</td><td>1</td><td>11</td></tr><tr><td>1972</td><td>Brian Redman</td><td>British</td><td>4.0</td><td>0</td><td>12</td></tr><tr><td>1972</td><td>Graham Hill</td><td>British</td><td>4.0</td><td>0</td><td>12</td></tr><tr><td>1972</td><td>Howden Ganley</td><td>New Zealander</td><td>4.0</td><td>0</td><td>12</td></tr><tr><td>1972</td><td>Mario Andretti</td><td>American</td><td>4.0</td><td>0</td><td>12</td></tr><tr><td>1972</td><td>Carlos Pace</td><td>Brazilian</td><td>3.0</td><td>0</td><td>16</td></tr><tr><td>1972</td><td>Andrea de Adamich</td><td>Italian</td><td>3.0</td><td>0</td><td>16</td></tr><tr><td>1972</td><td>Carlos Reutemann</td><td>Argentine</td><td>3.0</td><td>0</td><td>16</td></tr><tr><td>1972</td><td>Tim Schenken</td><td>Australian</td><td>2.0</td><td>0</td><td>19</td></tr><tr><td>1972</td><td>Peter Gethin</td><td>British</td><td>1.0</td><td>0</td><td>20</td></tr><tr><td>1972</td><td>Arturo Merzario</td><td>Italian</td><td>1.0</td><td>0</td><td>20</td></tr><tr><td>1972</td><td>Skip Barber</td><td>American</td><td>0.0</td><td>0</td><td>22</td></tr><tr><td>1972</td><td>Jackie Oliver</td><td>British</td><td>0.0</td><td>0</td><td>22</td></tr><tr><td>1972</td><td>John Surtees</td><td>British</td><td>0.0</td><td>0</td><td>22</td></tr><tr><td>1972</td><td>Reine Wisell</td><td>Swedish</td><td>0.0</td><td>0</td><td>22</td></tr><tr><td>1972</td><td>Alex Soler-Roig</td><td>Spanish</td><td>0.0</td><td>0</td><td>22</td></tr><tr><td>1972</td><td>David Walker</td><td>Australian</td><td>0.0</td><td>0</td><td>22</td></tr><tr><td>1972</td><td>Jody Scheckter</td><td>South African</td><td>0.0</td><td>0</td><td>22</td></tr><tr><td>1972</td><td>John Love</td><td>Rhodesian</td><td>0.0</td><td>0</td><td>22</td></tr><tr><td>1972</td><td>Helmut Marko</td><td>Austrian</td><td>0.0</td><td>0</td><td>22</td></tr><tr><td>1972</td><td>Wilson Fittipaldi</td><td>Brazilian</td><td>0.0</td><td>0</td><td>22</td></tr><tr><td>1972</td><td>Nanni Galli</td><td>Italian</td><td>0.0</td><td>0</td><td>22</td></tr><tr><td>1972</td><td>François Migault</td><td>French</td><td>0.0</td><td>0</td><td>22</td></tr><tr><td>1972</td><td>Mike Beuttler</td><td>British</td><td>0.0</td><td>0</td><td>22</td></tr><tr><td>1972</td><td>Bill Brack</td><td>Canadian</td><td>0.0</td><td>0</td><td>22</td></tr><tr><td>1972</td><td>Niki Lauda</td><td>Austrian</td><td>0.0</td><td>0</td><td>22</td></tr><tr><td>1972</td><td>Patrick Depailler</td><td>French</td><td>0.0</td><td>0</td><td>22</td></tr><tr><td>1972</td><td>Rolf Stommelen</td><td>German</td><td>0.0</td><td>0</td><td>22</td></tr><tr><td>1972</td><td>Sam Posey</td><td>American</td><td>0.0</td><td>0</td><td>22</td></tr><tr><td>1972</td><td>Henri Pescarolo</td><td>French</td><td>0.0</td><td>0</td><td>22</td></tr><tr><td>1972</td><td>Derek Bell</td><td>British</td><td>0.0</td><td>0</td><td>22</td></tr><tr><td>1972</td><td>Dave Charlton</td><td>South African</td><td>0.0</td><td>0</td><td>22</td></tr><tr><td>1973</td><td>Jackie Stewart</td><td>British</td><td>71.0</td><td>5</td><td>1</td></tr><tr><td>1973</td><td>Emerson Fittipaldi</td><td>Brazilian</td><td>55.0</td><td>3</td><td>2</td></tr><tr><td>1973</td><td>Ronnie Peterson</td><td>Swedish</td><td>52.0</td><td>4</td><td>3</td></tr><tr><td>1973</td><td>François Cevert</td><td>French</td><td>47.0</td><td>0</td><td>4</td></tr><tr><td>1973</td><td>Peter Revson</td><td>American</td><td>38.0</td><td>2</td><td>5</td></tr><tr><td>1973</td><td>Denny Hulme</td><td>New Zealander</td><td>26.0</td><td>1</td><td>6</td></tr><tr><td>1973</td><td>Carlos Reutemann</td><td>Argentine</td><td>16.0</td><td>0</td><td>7</td></tr><tr><td>1973</td><td>James Hunt</td><td>British</td><td>14.0</td><td>0</td><td>8</td></tr><tr><td>1973</td><td>Jacky Ickx</td><td>Belgian</td><td>12.0</td><td>0</td><td>9</td></tr><tr><td>1973</td><td>Jean-Pierre Beltoise</td><td>French</td><td>9.0</td><td>0</td><td>10</td></tr><tr><td>1973</td><td>Carlos Pace</td><td>Brazilian</td><td>7.0</td><td>0</td><td>11</td></tr><tr><td>1973</td><td>Arturo Merzario</td><td>Italian</td><td>6.0</td><td>0</td><td>12</td></tr><tr><td>1973</td><td>George Follmer</td><td>American</td><td>5.0</td><td>0</td><td>13</td></tr><tr><td>1973</td><td>Jackie Oliver</td><td>British</td><td>4.0</td><td>0</td><td>14</td></tr><tr><td>1973</td><td>Wilson Fittipaldi</td><td>Brazilian</td><td>3.0</td><td>0</td><td>15</td></tr><tr><td>1973</td><td>Andrea de Adamich</td><td>Italian</td><td>3.0</td><td>0</td><td>15</td></tr><tr><td>1973</td><td>Niki Lauda</td><td>Austrian</td><td>2.0</td><td>0</td><td>17</td></tr><tr><td>1973</td><td>Clay Regazzoni</td><td>Swiss</td><td>2.0</td><td>0</td><td>17</td></tr><tr><td>1973</td><td>Howden Ganley</td><td>New Zealander</td><td>1.0</td><td>0</td><td>19</td></tr><tr><td>1973</td><td>Chris Amon</td><td>New Zealander</td><td>1.0</td><td>0</td><td>19</td></tr><tr><td>1973</td><td>Gijs van Lennep</td><td>Dutch</td><td>1.0</td><td>0</td><td>19</td></tr><tr><td>1973</td><td>Peter Gethin</td><td>British</td><td>0.0</td><td>0</td><td>22</td></tr><tr><td>1973</td><td>Tim Schenken</td><td>Australian</td><td>0.0</td><td>0</td><td>22</td></tr><tr><td>1973</td><td>Brian Redman</td><td>British</td><td>0.0</td><td>0</td><td>22</td></tr><tr><td>1973</td><td>Jean-Pierre Jarier</td><td>French</td><td>0.0</td><td>0</td><td>22</td></tr><tr><td>1973</td><td>Roger Williamson</td><td>British</td><td>0.0</td><td>0</td><td>22</td></tr><tr><td>1973</td><td>Mike Beuttler</td><td>British</td><td>0.0</td><td>0</td><td>22</td></tr><tr><td>1973</td><td>Reine Wisell</td><td>Swedish</td><td>0.0</td><td>0</td><td>22</td></tr><tr><td>1973</td><td>John Watson</td><td>British</td><td>0.0</td><td>0</td><td>22</td></tr><tr><td>1973</td><td>Nanni Galli</td><td>Italian</td><td>0.0</td><td>0</td><td>22</td></tr><tr><td>1973</td><td>Henri Pescarolo</td><td>French</td><td>0.0</td><td>0</td><td>22</td></tr><tr><td>1973</td><td>Luiz Bueno</td><td>Brazilian</td><td>0.0</td><td>0</td><td>22</td></tr><tr><td>1973</td><td>Eddie Keizan</td><td>South African</td><td>0.0</td><td>0</td><td>22</td></tr><tr><td>1973</td><td>Mike Hailwood</td><td>British</td><td>0.0</td><td>0</td><td>22</td></tr><tr><td>1973</td><td>Graham Hill</td><td>British</td><td>0.0</td><td>0</td><td>22</td></tr><tr><td>1973</td><td>David Purley</td><td>British</td><td>0.0</td><td>0</td><td>22</td></tr><tr><td>1973</td><td>Rolf Stommelen</td><td>German</td><td>0.0</td><td>0</td><td>22</td></tr><tr><td>1973</td><td>Jody Scheckter</td><td>South African</td><td>0.0</td><td>0</td><td>22</td></tr><tr><td>1973</td><td>Graham McRae</td><td>New Zealander</td><td>0.0</td><td>0</td><td>22</td></tr><tr><td>1973</td><td>Jackie Pretorius</td><td>South African</td><td>0.0</td><td>0</td><td>22</td></tr><tr><td>1973</td><td>Rikky von Opel</td><td>Liechtensteiner</td><td>0.0</td><td>0</td><td>22</td></tr><tr><td>1973</td><td>Jochen Mass</td><td>German</td><td>0.0</td><td>0</td><td>22</td></tr><tr><td>1973</td><td>Dave Charlton</td><td>South African</td><td>0.0</td><td>0</td><td>22</td></tr><tr><td>1974</td><td>Emerson Fittipaldi</td><td>Brazilian</td><td>55.0</td><td>3</td><td>1</td></tr><tr><td>1974</td><td>Clay Regazzoni</td><td>Swiss</td><td>52.0</td><td>1</td><td>2</td></tr><tr><td>1974</td><td>Jody Scheckter</td><td>South African</td><td>45.0</td><td>2</td><td>3</td></tr><tr><td>1974</td><td>Niki Lauda</td><td>Austrian</td><td>38.0</td><td>2</td><td>4</td></tr><tr><td>1974</td><td>Ronnie Peterson</td><td>Swedish</td><td>35.0</td><td>3</td><td>5</td></tr><tr><td>1974</td><td>Carlos Reutemann</td><td>Argentine</td><td>32.0</td><td>3</td><td>6</td></tr><tr><td>1974</td><td>Denny Hulme</td><td>New Zealander</td><td>20.0</td><td>1</td><td>7</td></tr><tr><td>1974</td><td>James Hunt</td><td>British</td><td>15.0</td><td>0</td><td>8</td></tr><tr><td>1974</td><td>Patrick Depailler</td><td>French</td><td>14.0</td><td>0</td><td>9</td></tr><tr><td>1974</td><td>Jacky Ickx</td><td>Belgian</td><td>12.0</td><td>0</td><td>10</td></tr><tr><td>1974</td><td>Mike Hailwood</td><td>British</td><td>12.0</td><td>0</td><td>10</td></tr><tr><td>1974</td><td>Carlos Pace</td><td>Brazilian</td><td>11.0</td><td>0</td><td>12</td></tr><tr><td>1974</td><td>Jean-Pierre Beltoise</td><td>French</td><td>10.0</td><td>0</td><td>13</td></tr><tr><td>1974</td><td>Jean-Pierre Jarier</td><td>French</td><td>6.0</td><td>0</td><td>14</td></tr><tr><td>1974</td><td>John Watson</td><td>British</td><td>6.0</td><td>0</td><td>14</td></tr><tr><td>1974</td><td>Hans-Joachim Stuck</td><td>German</td><td>5.0</td><td>0</td><td>16</td></tr><tr><td>1974</td><td>Arturo Merzario</td><td>Italian</td><td>4.0</td><td>0</td><td>17</td></tr><tr><td>1974</td><td>Graham Hill</td><td>British</td><td>1.0</td><td>0</td><td>18</td></tr><tr><td>1974</td><td>Vittorio Brambilla</td><td>Italian</td><td>1.0</td><td>0</td><td>18</td></tr><tr><td>1974</td><td>Tom Pryce</td><td>British</td><td>1.0</td><td>0</td><td>18</td></tr><tr><td>1974</td><td>Ian Scheckter</td><td>South African</td><td>0.0</td><td>0</td><td>21</td></tr><tr><td>1974</td><td>Jacques Laffite</td><td>French</td><td>0.0</td><td>0</td><td>21</td></tr><tr><td>1974</td><td>Mario Andretti</td><td>American</td><td>0.0</td><td>0</td><td>21</td></tr><tr><td>1974</td><td>Guy Edwards</td><td>British</td><td>0.0</td><td>0</td><td>21</td></tr><tr><td>1974</td><td>Tim Schenken</td><td>Australian</td><td>0.0</td><td>0</td><td>21</td></tr><tr><td>1974</td><td>François Migault</td><td>French</td><td>0.0</td><td>0</td><td>21</td></tr><tr><td>1974</td><td>Richard Robarts</td><td>British</td><td>0.0</td><td>0</td><td>21</td></tr><tr><td>1974</td><td>Jean-Pierre Jabouille</td><td>French</td><td>0.0</td><td>0</td><td>21</td></tr><tr><td>1974</td><td>Eddie Keizan</td><td>South African</td><td>0.0</td><td>0</td><td>21</td></tr><tr><td>1974</td><td>Dieter Quester</td><td>Austrian</td><td>0.0</td><td>0</td><td>21</td></tr><tr><td>1974</td><td>David Purley</td><td>British</td><td>0.0</td><td>0</td><td>21</td></tr><tr><td>1974</td><td>Howden Ganley</td><td>New Zealander</td><td>0.0</td><td>0</td><td>21</td></tr><tr><td>1974</td><td>Peter Revson</td><td>American</td><td>0.0</td><td>0</td><td>21</td></tr><tr><td>1974</td><td>Peter Gethin</td><td>British</td><td>0.0</td><td>0</td><td>21</td></tr><tr><td>1974</td><td>Rikky von Opel</td><td>Liechtensteiner</td><td>0.0</td><td>0</td><td>21</td></tr><tr><td>1974</td><td>Mark Donohue</td><td>American</td><td>0.0</td><td>0</td><td>21</td></tr><tr><td>1974</td><td>Paddy Driver</td><td>South African</td><td>0.0</td><td>0</td><td>21</td></tr><tr><td>1974</td><td>José Dolhem</td><td>French</td><td>0.0</td><td>0</td><td>21</td></tr><tr><td>1974</td><td>Chris Amon</td><td>New Zealander</td><td>0.0</td><td>0</td><td>21</td></tr><tr><td>1974</td><td>Gérard Larrousse</td><td>French</td><td>0.0</td><td>0</td><td>21</td></tr><tr><td>1974</td><td>Carlo Facetti</td><td>Italian</td><td>0.0</td><td>0</td><td>21</td></tr><tr><td>1974</td><td>Larry Perkins</td><td>Australian</td><td>0.0</td><td>0</td><td>21</td></tr><tr><td>1974</td><td>Bertil Roos</td><td>Swedish</td><td>0.0</td><td>0</td><td>21</td></tr><tr><td>1974</td><td>Derek Bell</td><td>British</td><td>0.0</td><td>0</td><td>21</td></tr><tr><td>1974</td><td>Henri Pescarolo</td><td>French</td><td>0.0</td><td>0</td><td>21</td></tr><tr><td>1974</td><td>Jochen Mass</td><td>German</td><td>0.0</td><td>0</td><td>21</td></tr><tr><td>1974</td><td>Dave Charlton</td><td>South African</td><td>0.0</td><td>0</td><td>21</td></tr><tr><td>1974</td><td>John Nicholson</td><td>New Zealander</td><td>0.0</td><td>0</td><td>21</td></tr><tr><td>1974</td><td>Lella Lombardi</td><td>Italian</td><td>0.0</td><td>0</td><td>21</td></tr><tr><td>1974</td><td>Ian Ashley</td><td>British</td><td>0.0</td><td>0</td><td>21</td></tr><tr><td>1974</td><td>Mike Wilds</td><td>British</td><td>0.0</td><td>0</td><td>21</td></tr><tr><td>1974</td><td>Helmuth Koinigg</td><td>Austrian</td><td>0.0</td><td>0</td><td>21</td></tr><tr><td>1974</td><td>Reine Wisell</td><td>Swedish</td><td>0.0</td><td>0</td><td>21</td></tr><tr><td>1974</td><td>Teddy Pilette</td><td>Belgian</td><td>0.0</td><td>0</td><td>21</td></tr><tr><td>1974</td><td>Rolf Stommelen</td><td>German</td><td>0.0</td><td>0</td><td>21</td></tr><tr><td>1974</td><td>Tom Belsø</td><td>Danish</td><td>0.0</td><td>0</td><td>21</td></tr><tr><td>1974</td><td>Vern Schuppan</td><td>Australian</td><td>0.0</td><td>0</td><td>21</td></tr><tr><td>1974</td><td>Brian Redman</td><td>British</td><td>0.0</td><td>0</td><td>21</td></tr><tr><td>1974</td><td>Gijs van Lennep</td><td>Dutch</td><td>0.0</td><td>0</td><td>21</td></tr><tr><td>1974</td><td>David Hobbs</td><td>British</td><td>0.0</td><td>0</td><td>21</td></tr><tr><td>1974</td><td>Eppie Wietzes</td><td>Canadian</td><td>0.0</td><td>0</td><td>21</td></tr><tr><td>1974</td><td>Leo Kinnunen</td><td>Finnish</td><td>0.0</td><td>0</td><td>21</td></tr><tr><td>1975</td><td>Niki Lauda</td><td>Austrian</td><td>64.5</td><td>5</td><td>1</td></tr><tr><td>1975</td><td>Emerson Fittipaldi</td><td>Brazilian</td><td>45.0</td><td>2</td><td>2</td></tr><tr><td>1975</td><td>Carlos Reutemann</td><td>Argentine</td><td>37.0</td><td>1</td><td>3</td></tr><tr><td>1975</td><td>James Hunt</td><td>British</td><td>33.0</td><td>1</td><td>4</td></tr><tr><td>1975</td><td>Clay Regazzoni</td><td>Swiss</td><td>25.0</td><td>1</td><td>5</td></tr><tr><td>1975</td><td>Carlos Pace</td><td>Brazilian</td><td>24.0</td><td>1</td><td>6</td></tr><tr><td>1975</td><td>Jody Scheckter</td><td>South African</td><td>20.0</td><td>1</td><td>7</td></tr><tr><td>1975</td><td>Jochen Mass</td><td>German</td><td>20.0</td><td>1</td><td>7</td></tr><tr><td>1975</td><td>Patrick Depailler</td><td>French</td><td>12.0</td><td>0</td><td>9</td></tr><tr><td>1975</td><td>Tom Pryce</td><td>British</td><td>8.0</td><td>0</td><td>10</td></tr><tr><td>1975</td><td>Vittorio Brambilla</td><td>Italian</td><td>6.5</td><td>1</td><td>11</td></tr><tr><td>1975</td><td>Ronnie Peterson</td><td>Swedish</td><td>6.0</td><td>0</td><td>12</td></tr><tr><td>1975</td><td>Jacques Laffite</td><td>French</td><td>6.0</td><td>0</td><td>12</td></tr><tr><td>1975</td><td>Mario Andretti</td><td>American</td><td>5.0</td><td>0</td><td>14</td></tr><tr><td>1975</td><td>Mark Donohue</td><td>American</td><td>4.0</td><td>0</td><td>15</td></tr><tr><td>1975</td><td>Jacky Ickx</td><td>Belgian</td><td>3.0</td><td>0</td><td>16</td></tr><tr><td>1975</td><td>Alan Jones</td><td>Australian</td><td>2.0</td><td>0</td><td>17</td></tr><tr><td>1975</td><td>Jean-Pierre Jarier</td><td>French</td><td>1.5</td><td>0</td><td>18</td></tr><tr><td>1975</td><td>Tony Brise</td><td>British</td><td>1.0</td><td>0</td><td>19</td></tr><tr><td>1975</td><td>Gijs van Lennep</td><td>Dutch</td><td>1.0</td><td>0</td><td>19</td></tr><tr><td>1975</td><td>Lella Lombardi</td><td>Italian</td><td>0.5</td><td>0</td><td>21</td></tr><tr><td>1975</td><td>Bob Evans</td><td>British</td><td>0.0</td><td>0</td><td>22</td></tr><tr><td>1975</td><td>Guy Tunmer</td><td>South African</td><td>0.0</td><td>0</td><td>22</td></tr><tr><td>1975</td><td>Hans-Joachim Stuck</td><td>German</td><td>0.0</td><td>0</td><td>22</td></tr><tr><td>1975</td><td>John Watson</td><td>British</td><td>0.0</td><td>0</td><td>22</td></tr><tr><td>1975</td><td>Roelof Wunderink</td><td>Dutch</td><td>0.0</td><td>0</td><td>22</td></tr><tr><td>1975</td><td>Chris Amon</td><td>New Zealander</td><td>0.0</td><td>0</td><td>22</td></tr><tr><td>1975</td><td>Michel Leclère</td><td>French</td><td>0.0</td><td>0</td><td>22</td></tr><tr><td>1975</td><td>Brian Henton</td><td>British</td><td>0.0</td><td>0</td><td>22</td></tr><tr><td>1975</td><td>Tony Trimmer</td><td>British</td><td>0.0</td><td>0</td><td>22</td></tr><tr><td>1975</td><td>Hiroshi Fushida</td><td>Japanese</td><td>0.0</td><td>0</td><td>22</td></tr><tr><td>1975</td><td>Mike Wilds</td><td>British</td><td>0.0</td><td>0</td><td>22</td></tr><tr><td>1975</td><td>Vern Schuppan</td><td>Australian</td><td>0.0</td><td>0</td><td>22</td></tr><tr><td>1975</td><td>Damien Magee</td><td>British</td><td>0.0</td><td>0</td><td>22</td></tr><tr><td>1975</td><td>Renzo Zorzi</td><td>Italian</td><td>0.0</td><td>0</td><td>22</td></tr><tr><td>1975</td><td>Wilson Fittipaldi</td><td>Brazilian</td><td>0.0</td><td>0</td><td>22</td></tr><tr><td>1975</td><td>Harald Ertl</td><td>Austrian</td><td>0.0</td><td>0</td><td>22</td></tr><tr><td>1975</td><td>Ian Ashley</td><td>British</td><td>0.0</td><td>0</td><td>22</td></tr><tr><td>1975</td><td>Dave Morgan</td><td>British</td><td>0.0</td><td>0</td><td>22</td></tr><tr><td>1975</td><td>François Migault</td><td>French</td><td>0.0</td><td>0</td><td>22</td></tr><tr><td>1975</td><td>Jean-Pierre Jabouille</td><td>French</td><td>0.0</td><td>0</td><td>22</td></tr><tr><td>1975</td><td>Graham Hill</td><td>British</td><td>0.0</td><td>0</td><td>22</td></tr><tr><td>1975</td><td>Rolf Stommelen</td><td>German</td><td>0.0</td><td>0</td><td>22</td></tr><tr><td>1975</td><td>Jo Vonlanthen</td><td>Swiss</td><td>0.0</td><td>0</td><td>22</td></tr><tr><td>1975</td><td>Dave Charlton</td><td>South African</td><td>0.0</td><td>0</td><td>22</td></tr><tr><td>1975</td><td>Arturo Merzario</td><td>Italian</td><td>0.0</td><td>0</td><td>22</td></tr><tr><td>1975</td><td>Brett Lunger</td><td>American</td><td>0.0</td><td>0</td><td>22</td></tr><tr><td>1975</td><td>Torsten Palm</td><td>Swedish</td><td>0.0</td><td>0</td><td>22</td></tr><tr><td>1975</td><td>Eddie Keizan</td><td>South African</td><td>0.0</td><td>0</td><td>22</td></tr><tr><td>1975</td><td>Ian Scheckter</td><td>South African</td><td>0.0</td><td>0</td><td>22</td></tr><tr><td>1975</td><td>Jim Crawford</td><td>British</td><td>0.0</td><td>0</td><td>22</td></tr><tr><td>1975</td><td>John Nicholson</td><td>New Zealander</td><td>0.0</td><td>0</td><td>22</td></tr><tr><td>1976</td><td>James Hunt</td><td>British</td><td>69.0</td><td>6</td><td>1</td></tr><tr><td>1976</td><td>Niki Lauda</td><td>Austrian</td><td>68.0</td><td>5</td><td>2</td></tr><tr><td>1976</td><td>Jody Scheckter</td><td>South African</td><td>49.0</td><td>1</td><td>3</td></tr><tr><td>1976</td><td>Patrick Depailler</td><td>French</td><td>39.0</td><td>0</td><td>4</td></tr><tr><td>1976</td><td>Clay Regazzoni</td><td>Swiss</td><td>31.0</td><td>1</td><td>5</td></tr><tr><td>1976</td><td>Mario Andretti</td><td>American</td><td>22.0</td><td>1</td><td>6</td></tr><tr><td>1976</td><td>John Watson</td><td>British</td><td>20.0</td><td>1</td><td>7</td></tr><tr><td>1976</td><td>Jacques Laffite</td><td>French</td><td>20.0</td><td>0</td><td>8</td></tr><tr><td>1976</td><td>Jochen Mass</td><td>German</td><td>19.0</td><td>0</td><td>9</td></tr><tr><td>1976</td><td>Gunnar Nilsson</td><td>Swedish</td><td>11.0</td><td>0</td><td>10</td></tr><tr><td>1976</td><td>Ronnie Peterson</td><td>Swedish</td><td>10.0</td><td>1</td><td>11</td></tr><tr><td>1976</td><td>Tom Pryce</td><td>British</td><td>10.0</td><td>0</td><td>12</td></tr><tr><td>1976</td><td>Hans-Joachim Stuck</td><td>German</td><td>8.0</td><td>0</td><td>13</td></tr><tr><td>1976</td><td>Carlos Pace</td><td>Brazilian</td><td>7.0</td><td>0</td><td>14</td></tr><tr><td>1976</td><td>Alan Jones</td><td>Australian</td><td>7.0</td><td>0</td><td>14</td></tr><tr><td>1976</td><td>Emerson Fittipaldi</td><td>Brazilian</td><td>3.0</td><td>0</td><td>16</td></tr><tr><td>1976</td><td>Carlos Reutemann</td><td>Argentine</td><td>3.0</td><td>0</td><td>16</td></tr><tr><td>1976</td><td>Chris Amon</td><td>New Zealander</td><td>2.0</td><td>0</td><td>18</td></tr><tr><td>1976</td><td>Vittorio Brambilla</td><td>Italian</td><td>1.0</td><td>0</td><td>19</td></tr><tr><td>1976</td><td>Rolf Stommelen</td><td>German</td><td>1.0</td><td>0</td><td>19</td></tr><tr><td>1976</td><td>Jean-Pierre Jarier</td><td>French</td><td>0.0</td><td>0</td><td>21</td></tr><tr><td>1976</td><td>Jacky Ickx</td><td>Belgian</td><td>0.0</td><td>0</td><td>21</td></tr><tr><td>1976</td><td>Mike Wilds</td><td>British</td><td>0.0</td><td>0</td><td>21</td></tr><tr><td>1976</td><td>Ingo Hoffmann</td><td>Brazilian</td><td>0.0</td><td>0</td><td>21</td></tr><tr><td>1976</td><td>Divina Galica</td><td>British</td><td>0.0</td><td>0</td><td>21</td></tr><tr><td>1976</td><td>Masahiro Hasemi</td><td>Japanese</td><td>0.0</td><td>0</td><td>21</td></tr><tr><td>1976</td><td>Alex Ribeiro</td><td>Brazilian</td><td>0.0</td><td>0</td><td>21</td></tr><tr><td>1976</td><td>Warwick Brown</td><td>Australian</td><td>0.0</td><td>0</td><td>21</td></tr><tr><td>1976</td><td>Emilio Zapico</td><td>Spanish</td><td>0.0</td><td>0</td><td>21</td></tr><tr><td>1976</td><td>Ian Ashley</td><td>British</td><td>0.0</td><td>0</td><td>21</td></tr><tr><td>1976</td><td>Harald Ertl</td><td>Austrian</td><td>0.0</td><td>0</td><td>21</td></tr><tr><td>1976</td><td>Michel Leclère</td><td>French</td><td>0.0</td><td>0</td><td>21</td></tr><tr><td>1976</td><td>Jac Nelleman</td><td>Danish</td><td>0.0</td><td>0</td><td>21</td></tr><tr><td>1976</td><td>Patrick Nève</td><td>Belgian</td><td>0.0</td><td>0</td><td>21</td></tr><tr><td>1976</td><td>Larry Perkins</td><td>Australian</td><td>0.0</td><td>0</td><td>21</td></tr><tr><td>1976</td><td>Emilio de Villota</td><td>Spanish</td><td>0.0</td><td>0</td><td>21</td></tr><tr><td>1976</td><td>Kazuyoshi Hoshino</td><td>Japanese</td><td>0.0</td><td>0</td><td>21</td></tr><tr><td>1976</td><td>Hans Binder</td><td>Austrian</td><td>0.0</td><td>0</td><td>21</td></tr><tr><td>1976</td><td>Otto Stuppacher</td><td>Austrian</td><td>0.0</td><td>0</td><td>21</td></tr><tr><td>1976</td><td>Henri Pescarolo</td><td>French</td><td>0.0</td><td>0</td><td>21</td></tr><tr><td>1976</td><td>Ian Scheckter</td><td>South African</td><td>0.0</td><td>0</td><td>21</td></tr><tr><td>1976</td><td>Boy Lunger</td><td>Dutch</td><td>0.0</td><td>0</td><td>21</td></tr><tr><td>1976</td><td>Tony Trimmer</td><td>British</td><td>0.0</td><td>0</td><td>21</td></tr><tr><td>1976</td><td>Loris Kessel</td><td>Swiss</td><td>0.0</td><td>0</td><td>21</td></tr><tr><td>1976</td><td>Conny Andersson</td><td>Swedish</td><td>0.0</td><td>0</td><td>21</td></tr><tr><td>1976</td><td>Alessandro Pesenti-Rossi</td><td>Italian</td><td>0.0</td><td>0</td><td>21</td></tr><tr><td>1976</td><td>Damien Magee</td><td>British</td><td>0.0</td><td>0</td><td>21</td></tr><tr><td>1976</td><td>Arturo Merzario</td><td>Italian</td><td>0.0</td><td>0</td><td>21</td></tr><tr><td>1976</td><td>Guy Edwards</td><td>British</td><td>0.0</td><td>0</td><td>21</td></tr><tr><td>1976</td><td>Noritake Takahara</td><td>Japanese</td><td>0.0</td><td>0</td><td>21</td></tr><tr><td>1976</td><td>Bob Evans</td><td>British</td><td>0.0</td><td>0</td><td>21</td></tr><tr><td>1976</td><td>Brett Lunger</td><td>American</td><td>0.0</td><td>0</td><td>21</td></tr><tr><td>1976</td><td>Renzo Zorzi</td><td>Italian</td><td>0.0</td><td>0</td><td>21</td></tr><tr><td>1976</td><td>Lella Lombardi</td><td>Italian</td><td>0.0</td><td>0</td><td>21</td></tr><tr><td>1977</td><td>Niki Lauda</td><td>Austrian</td><td>72.0</td><td>3</td><td>1</td></tr><tr><td>1977</td><td>Jody Scheckter</td><td>South African</td><td>55.0</td><td>3</td><td>2</td></tr><tr><td>1977</td><td>Mario Andretti</td><td>American</td><td>47.0</td><td>4</td><td>3</td></tr><tr><td>1977</td><td>Carlos Reutemann</td><td>Argentine</td><td>42.0</td><td>1</td><td>4</td></tr><tr><td>1977</td><td>James Hunt</td><td>British</td><td>40.0</td><td>3</td><td>5</td></tr><tr><td>1977</td><td>Jochen Mass</td><td>German</td><td>25.0</td><td>0</td><td>6</td></tr><tr><td>1977</td><td>Alan Jones</td><td>Australian</td><td>22.0</td><td>1</td><td>7</td></tr><tr><td>1977</td><td>Gunnar Nilsson</td><td>Swedish</td><td>20.0</td><td>1</td><td>8</td></tr><tr><td>1977</td><td>Patrick Depailler</td><td>French</td><td>20.0</td><td>0</td><td>9</td></tr><tr><td>1977</td><td>Jacques Laffite</td><td>French</td><td>18.0</td><td>1</td><td>10</td></tr><tr><td>1977</td><td>Hans-Joachim Stuck</td><td>German</td><td>12.0</td><td>0</td><td>11</td></tr><tr><td>1977</td><td>Emerson Fittipaldi</td><td>Brazilian</td><td>11.0</td><td>0</td><td>12</td></tr><tr><td>1977</td><td>John Watson</td><td>British</td><td>9.0</td><td>0</td><td>13</td></tr><tr><td>1977</td><td>Ronnie Peterson</td><td>Swedish</td><td>7.0</td><td>0</td><td>14</td></tr><tr><td>1977</td><td>Vittorio Brambilla</td><td>Italian</td><td>6.0</td><td>0</td><td>15</td></tr><tr><td>1977</td><td>Carlos Pace</td><td>Brazilian</td><td>6.0</td><td>0</td><td>15</td></tr><tr><td>1977</td><td>Clay Regazzoni</td><td>Swiss</td><td>5.0</td><td>0</td><td>17</td></tr><tr><td>1977</td><td>Patrick Tambay</td><td>French</td><td>5.0</td><td>0</td><td>17</td></tr><tr><td>1977</td><td>Jean-Pierre Jarier</td><td>French</td><td>1.0</td><td>0</td><td>19</td></tr><tr><td>1977</td><td>Renzo Zorzi</td><td>Italian</td><td>1.0</td><td>0</td><td>19</td></tr><tr><td>1977</td><td>Riccardo Patrese</td><td>Italian</td><td>1.0</td><td>0</td><td>19</td></tr><tr><td>1977</td><td>Harald Ertl</td><td>Austrian</td><td>0.0</td><td>0</td><td>22</td></tr><tr><td>1977</td><td>Loris Kessel</td><td>Swiss</td><td>0.0</td><td>0</td><td>22</td></tr><tr><td>1977</td><td>Rupert Keegan</td><td>British</td><td>0.0</td><td>0</td><td>22</td></tr><tr><td>1977</td><td>Gilles Villeneuve</td><td>Canadian</td><td>0.0</td><td>0</td><td>22</td></tr><tr><td>1977</td><td>Bruno Giacomelli</td><td>Italian</td><td>0.0</td><td>0</td><td>22</td></tr><tr><td>1977</td><td>Hans Binder</td><td>Austrian</td><td>0.0</td><td>0</td><td>22</td></tr><tr><td>1977</td><td>Brett Lunger</td><td>American</td><td>0.0</td><td>0</td><td>22</td></tr><tr><td>1977</td><td>Andy Sutcliffe</td><td>British</td><td>0.0</td><td>0</td><td>22</td></tr><tr><td>1977</td><td>Jacky Ickx</td><td>Belgian</td><td>0.0</td><td>0</td><td>22</td></tr><tr><td>1977</td><td>Hector Rebaque</td><td>Mexican</td><td>0.0</td><td>0</td><td>22</td></tr><tr><td>1977</td><td>Boy Lunger</td><td>Dutch</td><td>0.0</td><td>0</td><td>22</td></tr><tr><td>1977</td><td>Alex Ribeiro</td><td>Brazilian</td><td>0.0</td><td>0</td><td>22</td></tr><tr><td>1977</td><td>Jean-Pierre Jabouille</td><td>French</td><td>0.0</td><td>0</td><td>22</td></tr><tr><td>1977</td><td>Teddy Pilette</td><td>Belgian</td><td>0.0</td><td>0</td><td>22</td></tr><tr><td>1977</td><td>Ingo Hoffmann</td><td>Brazilian</td><td>0.0</td><td>0</td><td>22</td></tr><tr><td>1977</td><td>Tom Pryce</td><td>British</td><td>0.0</td><td>0</td><td>22</td></tr><tr><td>1977</td><td>David Purley</td><td>British</td><td>0.0</td><td>0</td><td>22</td></tr><tr><td>1977</td><td>Emilio de Villota</td><td>Spanish</td><td>0.0</td><td>0</td><td>22</td></tr><tr><td>1977</td><td>Danny Ongais</td><td>American</td><td>0.0</td><td>0</td><td>22</td></tr><tr><td>1977</td><td>Brian Henton</td><td>British</td><td>0.0</td><td>0</td><td>22</td></tr><tr><td>1977</td><td>Arturo Merzario</td><td>Italian</td><td>0.0</td><td>0</td><td>22</td></tr><tr><td>1977</td><td>Conny Andersson</td><td>Swedish</td><td>0.0</td><td>0</td><td>22</td></tr><tr><td>1977</td><td>Noritake Takahara</td><td>Japanese</td><td>0.0</td><td>0</td><td>22</td></tr><tr><td>1977</td><td>Giorgio Francia</td><td>Italian</td><td>0.0</td><td>0</td><td>22</td></tr><tr><td>1977</td><td>Vern Schuppan</td><td>Australian</td><td>0.0</td><td>0</td><td>22</td></tr><tr><td>1977</td><td>Hans Heyer</td><td>German</td><td>0.0</td><td>0</td><td>22</td></tr><tr><td>1977</td><td>Lamberto Leoni</td><td>Italian</td><td>0.0</td><td>0</td><td>22</td></tr><tr><td>1977</td><td>Mikko Kozarowitzky</td><td>Finnish</td><td>0.0</td><td>0</td><td>22</td></tr><tr><td>1977</td><td>Guy Edwards</td><td>British</td><td>0.0</td><td>0</td><td>22</td></tr><tr><td>1977</td><td>Brian McGuire</td><td>Australian</td><td>0.0</td><td>0</td><td>22</td></tr><tr><td>1977</td><td>Patrick Nève</td><td>Belgian</td><td>0.0</td><td>0</td><td>22</td></tr><tr><td>1977</td><td>Ian Ashley</td><td>British</td><td>0.0</td><td>0</td><td>22</td></tr><tr><td>1977</td><td>Bernard de Dryver</td><td>Belgian</td><td>0.0</td><td>0</td><td>22</td></tr><tr><td>1977</td><td>Kunimitsu Takahashi</td><td>Japanese</td><td>0.0</td><td>0</td><td>22</td></tr><tr><td>1977</td><td>Larry Perkins</td><td>Australian</td><td>0.0</td><td>0</td><td>22</td></tr><tr><td>1977</td><td>Tony Trimmer</td><td>British</td><td>0.0</td><td>0</td><td>22</td></tr><tr><td>1977</td><td>Ian Scheckter</td><td>South African</td><td>0.0</td><td>0</td><td>22</td></tr><tr><td>1977</td><td>Kazuyoshi Hoshino</td><td>Japanese</td><td>0.0</td><td>0</td><td>22</td></tr><tr><td>1977</td><td>Jackie Oliver</td><td>British</td><td>0.0</td><td>0</td><td>22</td></tr><tr><td>1977</td><td>Michael Bleekemolen</td><td>Dutch</td><td>0.0</td><td>0</td><td>22</td></tr><tr><td>1978</td><td>Mario Andretti</td><td>American</td><td>64.0</td><td>6</td><td>1</td></tr><tr><td>1978</td><td>Ronnie Peterson</td><td>Swedish</td><td>51.0</td><td>2</td><td>2</td></tr><tr><td>1978</td><td>Carlos Reutemann</td><td>Argentine</td><td>48.0</td><td>4</td><td>3</td></tr><tr><td>1978</td><td>Niki Lauda</td><td>Austrian</td><td>44.0</td><td>2</td><td>4</td></tr><tr><td>1978</td><td>Patrick Depailler</td><td>French</td><td>34.0</td><td>1</td><td>5</td></tr><tr><td>1978</td><td>John Watson</td><td>British</td><td>25.0</td><td>0</td><td>6</td></tr><tr><td>1978</td><td>Jody Scheckter</td><td>South African</td><td>24.0</td><td>0</td><td>7</td></tr><tr><td>1978</td><td>Jacques Laffite</td><td>French</td><td>19.0</td><td>0</td><td>8</td></tr><tr><td>1978</td><td>Gilles Villeneuve</td><td>Canadian</td><td>17.0</td><td>1</td><td>9</td></tr><tr><td>1978</td><td>Emerson Fittipaldi</td><td>Brazilian</td><td>17.0</td><td>0</td><td>10</td></tr><tr><td>1978</td><td>Riccardo Patrese</td><td>Italian</td><td>11.0</td><td>0</td><td>11</td></tr><tr><td>1978</td><td>Alan Jones</td><td>Australian</td><td>11.0</td><td>0</td><td>11</td></tr><tr><td>1978</td><td>Patrick Tambay</td><td>French</td><td>8.0</td><td>0</td><td>13</td></tr><tr><td>1978</td><td>James Hunt</td><td>British</td><td>8.0</td><td>0</td><td>13</td></tr><tr><td>1978</td><td>Didier Pironi</td><td>French</td><td>7.0</td><td>0</td><td>15</td></tr><tr><td>1978</td><td>Clay Regazzoni</td><td>Swiss</td><td>4.0</td><td>0</td><td>16</td></tr><tr><td>1978</td><td>Jean-Pierre Jabouille</td><td>French</td><td>3.0</td><td>0</td><td>17</td></tr><tr><td>1978</td><td>Hans-Joachim Stuck</td><td>German</td><td>2.0</td><td>0</td><td>18</td></tr><tr><td>1978</td><td>Hector Rebaque</td><td>Mexican</td><td>1.0</td><td>0</td><td>19</td></tr><tr><td>1978</td><td>Derek Daly</td><td>Irish</td><td>1.0</td><td>0</td><td>19</td></tr><tr><td>1978</td><td>Vittorio Brambilla</td><td>Italian</td><td>1.0</td><td>0</td><td>19</td></tr><tr><td>1978</td><td>Brett Lunger</td><td>American</td><td>0.0</td><td>0</td><td>22</td></tr><tr><td>1978</td><td>Jean-Pierre Jarier</td><td>French</td><td>0.0</td><td>0</td><td>22</td></tr><tr><td>1978</td><td>Jochen Mass</td><td>German</td><td>0.0</td><td>0</td><td>22</td></tr><tr><td>1978</td><td>Alberto Colombo</td><td>Italian</td><td>0.0</td><td>0</td><td>22</td></tr><tr><td>1978</td><td>Keke Rosberg</td><td>Finnish</td><td>0.0</td><td>0</td><td>22</td></tr><tr><td>1978</td><td>Tony Trimmer</td><td>British</td><td>0.0</td><td>0</td><td>22</td></tr><tr><td>1978</td><td>Bobby Rahal</td><td>American</td><td>0.0</td><td>0</td><td>22</td></tr><tr><td>1978</td><td>Divina Galica</td><td>British</td><td>0.0</td><td>0</td><td>22</td></tr><tr><td>1978</td><td>Bruno Giacomelli</td><td>Italian</td><td>0.0</td><td>0</td><td>22</td></tr><tr><td>1978</td><td>Beppe Gabbiani</td><td>Italian</td><td>0.0</td><td>0</td><td>22</td></tr><tr><td>1978</td><td>Hans Binder</td><td>Austrian</td><td>0.0</td><td>0</td><td>22</td></tr><tr><td>1978</td><td>Nelson Piquet</td><td>Brazilian</td><td>0.0</td><td>0</td><td>22</td></tr><tr><td>1978</td><td>Eddie Cheever</td><td>American</td><td>0.0</td><td>0</td><td>22</td></tr><tr><td>1978</td><td>Michael Bleekemolen</td><td>Dutch</td><td>0.0</td><td>0</td><td>22</td></tr><tr><td>1978</td><td>Danny Ongais</td><td>American</td><td>0.0</td><td>0</td><td>22</td></tr><tr><td>1978</td><td>Emilio de Villota</td><td>Spanish</td><td>0.0</td><td>0</td><td>22</td></tr><tr><td>1978</td><td>Rolf Stommelen</td><td>German</td><td>0.0</td><td>0</td><td>22</td></tr><tr><td>1978</td><td>Harald Ertl</td><td>Austrian</td><td>0.0</td><td>0</td><td>22</td></tr><tr><td>1978</td><td>Carlo Franchi</td><td>Italian</td><td>0.0</td><td>0</td><td>22</td></tr><tr><td>1978</td><td>Geoff Lees</td><td>British</td><td>0.0</td><td>0</td><td>22</td></tr><tr><td>1978</td><td>Lamberto Leoni</td><td>Italian</td><td>0.0</td><td>0</td><td>22</td></tr><tr><td>1978</td><td>Arturo Merzario</td><td>Italian</td><td>0.0</td><td>0</td><td>22</td></tr><tr><td>1978</td><td>Rupert Keegan</td><td>British</td><td>0.0</td><td>0</td><td>22</td></tr><tr><td>1978</td><td>René Arnoux</td><td>French</td><td>0.0</td><td>0</td><td>22</td></tr><tr><td>1978</td><td>Jacky Ickx</td><td>Belgian</td><td>0.0</td><td>0</td><td>22</td></tr><tr><td>1979</td><td>Jody Scheckter</td><td>South African</td><td>60.0</td><td>3</td><td>1</td></tr><tr><td>1979</td><td>Gilles Villeneuve</td><td>Canadian</td><td>53.0</td><td>3</td><td>2</td></tr><tr><td>1979</td><td>Alan Jones</td><td>Australian</td><td>43.0</td><td>4</td><td>3</td></tr><tr><td>1979</td><td>Jacques Laffite</td><td>French</td><td>36.0</td><td>2</td><td>4</td></tr><tr><td>1979</td><td>Clay Regazzoni</td><td>Swiss</td><td>32.0</td><td>1</td><td>5</td></tr><tr><td>1979</td><td>Carlos Reutemann</td><td>Argentine</td><td>25.0</td><td>0</td><td>6</td></tr><tr><td>1979</td><td>Patrick Depailler</td><td>French</td><td>22.0</td><td>1</td><td>7</td></tr><tr><td>1979</td><td>René Arnoux</td><td>French</td><td>17.0</td><td>0</td><td>8</td></tr><tr><td>1979</td><td>John Watson</td><td>British</td><td>15.0</td><td>0</td><td>9</td></tr><tr><td>1979</td><td>Jean-Pierre Jarier</td><td>French</td><td>14.0</td><td>0</td><td>10</td></tr><tr><td>1979</td><td>Didier Pironi</td><td>French</td><td>14.0</td><td>0</td><td>10</td></tr><tr><td>1979</td><td>Mario Andretti</td><td>American</td><td>14.0</td><td>0</td><td>10</td></tr><tr><td>1979</td><td>Jean-Pierre Jabouille</td><td>French</td><td>9.0</td><td>1</td><td>13</td></tr><tr><td>1979</td><td>Niki Lauda</td><td>Austrian</td><td>4.0</td><td>0</td><td>14</td></tr><tr><td>1979</td><td>Jochen Mass</td><td>German</td><td>3.0</td><td>0</td><td>15</td></tr><tr><td>1979</td><td>Nelson Piquet</td><td>Brazilian</td><td>3.0</td><td>0</td><td>15</td></tr><tr><td>1979</td><td>Elio de Angelis</td><td>Italian</td><td>3.0</td><td>0</td><td>15</td></tr><tr><td>1979</td><td>Jacky Ickx</td><td>Belgian</td><td>3.0</td><td>0</td><td>15</td></tr><tr><td>1979</td><td>Riccardo Patrese</td><td>Italian</td><td>2.0</td><td>0</td><td>19</td></tr><tr><td>1979</td><td>Hans-Joachim Stuck</td><td>German</td><td>2.0</td><td>0</td><td>19</td></tr><tr><td>1979</td><td>Emerson Fittipaldi</td><td>Brazilian</td><td>1.0</td><td>0</td><td>21</td></tr><tr><td>1979</td><td>Bruno Giacomelli</td><td>Italian</td><td>0.0</td><td>0</td><td>22</td></tr><tr><td>1979</td><td>Patrick Tambay</td><td>French</td><td>0.0</td><td>0</td><td>22</td></tr><tr><td>1979</td><td>Derek Daly</td><td>Irish</td><td>0.0</td><td>0</td><td>22</td></tr><tr><td>1979</td><td>Vittorio Brambilla</td><td>Italian</td><td>0.0</td><td>0</td><td>22</td></tr><tr><td>1979</td><td>Patrick Gaillard</td><td>French</td><td>0.0</td><td>0</td><td>22</td></tr><tr><td>1979</td><td>Ricardo Zunino</td><td>Argentine</td><td>0.0</td><td>0</td><td>22</td></tr><tr><td>1979</td><td>Geoff Lees</td><td>British</td><td>0.0</td><td>0</td><td>22</td></tr><tr><td>1979</td><td>Hector Rebaque</td><td>Mexican</td><td>0.0</td><td>0</td><td>22</td></tr><tr><td>1979</td><td>Gianfranco Brancatelli</td><td>Italian</td><td>0.0</td><td>0</td><td>22</td></tr><tr><td>1979</td><td>Marc Surer</td><td>Swiss</td><td>0.0</td><td>0</td><td>22</td></tr><tr><td>1979</td><td>Alex Ribeiro</td><td>Brazilian</td><td>0.0</td><td>0</td><td>22</td></tr><tr><td>1979</td><td>Jan Lammers</td><td>Dutch</td><td>0.0</td><td>0</td><td>22</td></tr><tr><td>1979</td><td>Arturo Merzario</td><td>Italian</td><td>0.0</td><td>0</td><td>22</td></tr><tr><td>1979</td><td>James Hunt</td><td>British</td><td>0.0</td><td>0</td><td>22</td></tr><tr><td>1979</td><td>Keke Rosberg</td><td>Finnish</td><td>0.0</td><td>0</td><td>22</td></tr><tr><td>1980</td><td>Alan Jones</td><td>Australian</td><td>71.0</td><td>5</td><td>1</td></tr><tr><td>1980</td><td>Nelson Piquet</td><td>Brazilian</td><td>54.0</td><td>3</td><td>2</td></tr><tr><td>1980</td><td>Carlos Reutemann</td><td>Argentine</td><td>49.0</td><td>1</td><td>3</td></tr><tr><td>1980</td><td>Jacques Laffite</td><td>French</td><td>34.0</td><td>1</td><td>4</td></tr><tr><td>1980</td><td>Didier Pironi</td><td>French</td><td>32.0</td><td>1</td><td>5</td></tr><tr><td>1980</td><td>René Arnoux</td><td>French</td><td>29.0</td><td>2</td><td>6</td></tr><tr><td>1980</td><td>Elio de Angelis</td><td>Italian</td><td>13.0</td><td>0</td><td>7</td></tr><tr><td>1980</td><td>Jean-Pierre Jabouille</td><td>French</td><td>9.0</td><td>1</td><td>8</td></tr><tr><td>1980</td><td>Riccardo Patrese</td><td>Italian</td><td>7.0</td><td>0</td><td>9</td></tr><tr><td>1980</td><td>John Watson</td><td>British</td><td>6.0</td><td>0</td><td>10</td></tr><tr><td>1980</td><td>Keke Rosberg</td><td>Finnish</td><td>6.0</td><td>0</td><td>10</td></tr><tr><td>1980</td><td>Derek Daly</td><td>Irish</td><td>6.0</td><td>0</td><td>10</td></tr><tr><td>1980</td><td>Jean-Pierre Jarier</td><td>French</td><td>6.0</td><td>0</td><td>10</td></tr><tr><td>1980</td><td>Gilles Villeneuve</td><td>Canadian</td><td>6.0</td><td>0</td><td>10</td></tr><tr><td>1980</td><td>Alain Prost</td><td>French</td><td>5.0</td><td>0</td><td>15</td></tr><tr><td>1980</td><td>Emerson Fittipaldi</td><td>Brazilian</td><td>5.0</td><td>0</td><td>15</td></tr><tr><td>1980</td><td>Bruno Giacomelli</td><td>Italian</td><td>4.0</td><td>0</td><td>17</td></tr><tr><td>1980</td><td>Jochen Mass</td><td>German</td><td>4.0</td><td>0</td><td>17</td></tr><tr><td>1980</td><td>Jody Scheckter</td><td>South African</td><td>2.0</td><td>0</td><td>19</td></tr><tr><td>1980</td><td>Hector Rebaque</td><td>Mexican</td><td>1.0</td><td>0</td><td>20</td></tr><tr><td>1980</td><td>Mario Andretti</td><td>American</td><td>1.0</td><td>0</td><td>20</td></tr><tr><td>1980</td><td>Desiré Wilson</td><td>South African</td><td>0.0</td><td>0</td><td>22</td></tr><tr><td>1980</td><td>Vittorio Brambilla</td><td>Italian</td><td>0.0</td><td>0</td><td>22</td></tr><tr><td>1980</td><td>Geoff Lees</td><td>British</td><td>0.0</td><td>0</td><td>22</td></tr><tr><td>1980</td><td>Rupert Keegan</td><td>British</td><td>0.0</td><td>0</td><td>22</td></tr><tr><td>1980</td><td>Jan Lammers</td><td>Dutch</td><td>0.0</td><td>0</td><td>22</td></tr><tr><td>1980</td><td>Manfred Winkelhock</td><td>German</td><td>0.0</td><td>0</td><td>22</td></tr><tr><td>1980</td><td>Tiff Needell</td><td>British</td><td>0.0</td><td>0</td><td>22</td></tr><tr><td>1980</td><td>Stefan Johansson</td><td>Swedish</td><td>0.0</td><td>0</td><td>22</td></tr><tr><td>1980</td><td>Marc Surer</td><td>Swiss</td><td>0.0</td><td>0</td><td>22</td></tr><tr><td>1980</td><td>Kevin Cogan</td><td>American</td><td>0.0</td><td>0</td><td>22</td></tr><tr><td>1980</td><td>Dave Kennedy</td><td>Irish</td><td>0.0</td><td>0</td><td>22</td></tr><tr><td>1980</td><td>Clay Regazzoni</td><td>Swiss</td><td>0.0</td><td>0</td><td>22</td></tr><tr><td>1980</td><td>Andrea de Cesaris</td><td>Italian</td><td>0.0</td><td>0</td><td>22</td></tr><tr><td>1980</td><td>Mike Thackwell</td><td>New Zealander</td><td>0.0</td><td>0</td><td>22</td></tr><tr><td>1980</td><td>Ricardo Zunino</td><td>Argentine</td><td>0.0</td><td>0</td><td>22</td></tr><tr><td>1980</td><td>Eddie Cheever</td><td>American</td><td>0.0</td><td>0</td><td>22</td></tr><tr><td>1980</td><td>Patrick Depailler</td><td>French</td><td>0.0</td><td>0</td><td>22</td></tr><tr><td>1980</td><td>Harald Ertl</td><td>Austrian</td><td>0.0</td><td>0</td><td>22</td></tr><tr><td>1980</td><td>Stephen South</td><td>British</td><td>0.0</td><td>0</td><td>22</td></tr><tr><td>1980</td><td>Nigel Mansell</td><td>British</td><td>0.0</td><td>0</td><td>22</td></tr><tr><td>1981</td><td>Nelson Piquet</td><td>Brazilian</td><td>50.0</td><td>3</td><td>1</td></tr><tr><td>1981</td><td>Carlos Reutemann</td><td>Argentine</td><td>49.0</td><td>2</td><td>2</td></tr><tr><td>1981</td><td>Alan Jones</td><td>Australian</td><td>46.0</td><td>2</td><td>3</td></tr><tr><td>1981</td><td>Jacques Laffite</td><td>French</td><td>44.0</td><td>2</td><td>4</td></tr><tr><td>1981</td><td>Alain Prost</td><td>French</td><td>43.0</td><td>3</td><td>5</td></tr><tr><td>1981</td><td>John Watson</td><td>British</td><td>27.0</td><td>1</td><td>6</td></tr><tr><td>1981</td><td>Gilles Villeneuve</td><td>Canadian</td><td>25.0</td><td>2</td><td>7</td></tr><tr><td>1981</td><td>Elio de Angelis</td><td>Italian</td><td>14.0</td><td>0</td><td>8</td></tr><tr><td>1981</td><td>René Arnoux</td><td>French</td><td>11.0</td><td>0</td><td>9</td></tr><tr><td>1981</td><td>Hector Rebaque</td><td>Mexican</td><td>11.0</td><td>0</td><td>9</td></tr><tr><td>1981</td><td>Riccardo Patrese</td><td>Italian</td><td>10.0</td><td>0</td><td>11</td></tr><tr><td>1981</td><td>Eddie Cheever</td><td>American</td><td>10.0</td><td>0</td><td>11</td></tr><tr><td>1981</td><td>Didier Pironi</td><td>French</td><td>9.0</td><td>0</td><td>13</td></tr><tr><td>1981</td><td>Nigel Mansell</td><td>British</td><td>8.0</td><td>0</td><td>14</td></tr><tr><td>1981</td><td>Bruno Giacomelli</td><td>Italian</td><td>7.0</td><td>0</td><td>15</td></tr><tr><td>1981</td><td>Marc Surer</td><td>Swiss</td><td>4.0</td><td>0</td><td>16</td></tr><tr><td>1981</td><td>Mario Andretti</td><td>American</td><td>3.0</td><td>0</td><td>17</td></tr><tr><td>1981</td><td>Eliseo Salazar</td><td>Chilean</td><td>1.0</td><td>0</td><td>18</td></tr><tr><td>1981</td><td>Andrea de Cesaris</td><td>Italian</td><td>1.0</td><td>0</td><td>18</td></tr><tr><td>1981</td><td>Patrick Tambay</td><td>French</td><td>1.0</td><td>0</td><td>18</td></tr><tr><td>1981</td><td>Slim Borgudd</td><td>Swedish</td><td>1.0</td><td>0</td><td>18</td></tr><tr><td>1981</td><td>Beppe Gabbiani</td><td>Italian</td><td>0.0</td><td>0</td><td>22</td></tr><tr><td>1981</td><td>Kevin Cogan</td><td>American</td><td>0.0</td><td>0</td><td>22</td></tr><tr><td>1981</td><td>Siegfried Stohr</td><td>Italian</td><td>0.0</td><td>0</td><td>22</td></tr><tr><td>1981</td><td>Piercarlo Ghinzani</td><td>Italian</td><td>0.0</td><td>0</td><td>22</td></tr><tr><td>1981</td><td>Ricardo Zunino</td><td>Argentine</td><td>0.0</td><td>0</td><td>22</td></tr><tr><td>1981</td><td>Jan Lammers</td><td>Dutch</td><td>0.0</td><td>0</td><td>22</td></tr><tr><td>1981</td><td>Derek Daly</td><td>Irish</td><td>0.0</td><td>0</td><td>22</td></tr><tr><td>1981</td><td>Jean-Pierre Jabouille</td><td>French</td><td>0.0</td><td>0</td><td>22</td></tr><tr><td>1981</td><td>Ricardo Londoño</td><td>Colombian</td><td>0.0</td><td>0</td><td>22</td></tr><tr><td>1981</td><td>Keke Rosberg</td><td>Finnish</td><td>0.0</td><td>0</td><td>22</td></tr><tr><td>1981</td><td>Jean-Pierre Jarier</td><td>French</td><td>0.0</td><td>0</td><td>22</td></tr><tr><td>1981</td><td>Giorgio Francia</td><td>Italian</td><td>0.0</td><td>0</td><td>22</td></tr><tr><td>1981</td><td>Michele Alboreto</td><td>Italian</td><td>0.0</td><td>0</td><td>22</td></tr><tr><td>1981</td><td>Brian Henton</td><td>British</td><td>0.0</td><td>0</td><td>22</td></tr><tr><td>1981</td><td>Derek Warwick</td><td>British</td><td>0.0</td><td>0</td><td>22</td></tr><tr><td>1981</td><td>Chico Serra</td><td>Brazilian</td><td>0.0</td><td>0</td><td>22</td></tr><tr><td>1981</td><td>Miguel Ángel Guerra</td><td>Argentine</td><td>0.0</td><td>0</td><td>22</td></tr><tr><td>1981</td><td>Jacques Villeneuve Sr.</td><td>Canadian</td><td>0.0</td><td>0</td><td>22</td></tr><tr><td>1982</td><td>Keke Rosberg</td><td>Finnish</td><td>44.0</td><td>1</td><td>1</td></tr><tr><td>1982</td><td>John Watson</td><td>British</td><td>39.0</td><td>2</td><td>2</td></tr><tr><td>1982</td><td>Didier Pironi</td><td>French</td><td>39.0</td><td>2</td><td>2</td></tr><tr><td>1982</td><td>Alain Prost</td><td>French</td><td>34.0</td><td>2</td><td>4</td></tr><tr><td>1982</td><td>Niki Lauda</td><td>Austrian</td><td>30.0</td><td>2</td><td>5</td></tr><tr><td>1982</td><td>René Arnoux</td><td>French</td><td>28.0</td><td>2</td><td>6</td></tr><tr><td>1982</td><td>Michele Alboreto</td><td>Italian</td><td>25.0</td><td>1</td><td>7</td></tr><tr><td>1982</td><td>Patrick Tambay</td><td>French</td><td>25.0</td><td>1</td><td>7</td></tr><tr><td>1982</td><td>Elio de Angelis</td><td>Italian</td><td>23.0</td><td>1</td><td>9</td></tr><tr><td>1982</td><td>Riccardo Patrese</td><td>Italian</td><td>21.0</td><td>1</td><td>10</td></tr><tr><td>1982</td><td>Nelson Piquet</td><td>Brazilian</td><td>20.0</td><td>1</td><td>11</td></tr><tr><td>1982</td><td>Eddie Cheever</td><td>American</td><td>15.0</td><td>0</td><td>12</td></tr><tr><td>1982</td><td>Derek Daly</td><td>Irish</td><td>8.0</td><td>0</td><td>13</td></tr><tr><td>1982</td><td>Nigel Mansell</td><td>British</td><td>7.0</td><td>0</td><td>14</td></tr><tr><td>1982</td><td>Gilles Villeneuve</td><td>Canadian</td><td>6.0</td><td>0</td><td>15</td></tr><tr><td>1982</td><td>Carlos Reutemann</td><td>Argentine</td><td>6.0</td><td>0</td><td>15</td></tr><tr><td>1982</td><td>Andrea de Cesaris</td><td>Italian</td><td>5.0</td><td>0</td><td>17</td></tr><tr><td>1982</td><td>Jacques Laffite</td><td>French</td><td>5.0</td><td>0</td><td>17</td></tr><tr><td>1982</td><td>Mario Andretti</td><td>American</td><td>4.0</td><td>0</td><td>19</td></tr><tr><td>1982</td><td>Jean-Pierre Jarier</td><td>French</td><td>3.0</td><td>0</td><td>20</td></tr><tr><td>1982</td><td>Marc Surer</td><td>Swiss</td><td>3.0</td><td>0</td><td>20</td></tr><tr><td>1982</td><td>Bruno Giacomelli</td><td>Italian</td><td>2.0</td><td>0</td><td>22</td></tr><tr><td>1982</td><td>Mauro Baldi</td><td>Italian</td><td>2.0</td><td>0</td><td>22</td></tr><tr><td>1982</td><td>Eliseo Salazar</td><td>Chilean</td><td>2.0</td><td>0</td><td>22</td></tr><tr><td>1982</td><td>Manfred Winkelhock</td><td>German</td><td>2.0</td><td>0</td><td>22</td></tr><tr><td>1982</td><td>Chico Serra</td><td>Brazilian</td><td>1.0</td><td>0</td><td>26</td></tr><tr><td>1982</td><td>Riccardo Paletti</td><td>Italian</td><td>0.0</td><td>0</td><td>27</td></tr><tr><td>1982</td><td>Teo Fabi</td><td>Italian</td><td>0.0</td><td>0</td><td>27</td></tr><tr><td>1982</td><td>Rupert Keegan</td><td>British</td><td>0.0</td><td>0</td><td>27</td></tr><tr><td>1982</td><td>Slim Borgudd</td><td>Swedish</td><td>0.0</td><td>0</td><td>27</td></tr><tr><td>1982</td><td>Geoff Lees</td><td>British</td><td>0.0</td><td>0</td><td>27</td></tr><tr><td>1982</td><td>Jochen Mass</td><td>German</td><td>0.0</td><td>0</td><td>27</td></tr><tr><td>1982</td><td>Emilio de Villota</td><td>Spanish</td><td>0.0</td><td>0</td><td>27</td></tr><tr><td>1982</td><td>Tommy Byrne</td><td>Irish</td><td>0.0</td><td>0</td><td>27</td></tr><tr><td>1982</td><td>Roberto Guerrero</td><td>Colombian</td><td>0.0</td><td>0</td><td>27</td></tr><tr><td>1982</td><td>Brian Henton</td><td>British</td><td>0.0</td><td>0</td><td>27</td></tr><tr><td>1982</td><td>Roberto Moreno</td><td>Brazilian</td><td>0.0</td><td>0</td><td>27</td></tr><tr><td>1982</td><td>Derek Warwick</td><td>British</td><td>0.0</td><td>0</td><td>27</td></tr><tr><td>1982</td><td>Jan Lammers</td><td>Dutch</td><td>0.0</td><td>0</td><td>27</td></tr><tr><td>1982</td><td>Raul Boesel</td><td>Brazilian</td><td>0.0</td><td>0</td><td>27</td></tr><tr><td>1983</td><td>Nelson Piquet</td><td>Brazilian</td><td>59.0</td><td>3</td><td>1</td></tr><tr><td>1983</td><td>Alain Prost</td><td>French</td><td>57.0</td><td>4</td><td>2</td></tr><tr><td>1983</td><td>René Arnoux</td><td>French</td><td>49.0</td><td>3</td><td>3</td></tr><tr><td>1983</td><td>Patrick Tambay</td><td>French</td><td>40.0</td><td>1</td><td>4</td></tr><tr><td>1983</td><td>Keke Rosberg</td><td>Finnish</td><td>27.0</td><td>1</td><td>5</td></tr><tr><td>1983</td><td>John Watson</td><td>British</td><td>22.0</td><td>1</td><td>6</td></tr><tr><td>1983</td><td>Eddie Cheever</td><td>American</td><td>22.0</td><td>0</td><td>7</td></tr><tr><td>1983</td><td>Andrea de Cesaris</td><td>Italian</td><td>15.0</td><td>0</td><td>8</td></tr><tr><td>1983</td><td>Riccardo Patrese</td><td>Italian</td><td>13.0</td><td>1</td><td>9</td></tr><tr><td>1983</td><td>Niki Lauda</td><td>Austrian</td><td>12.0</td><td>0</td><td>10</td></tr><tr><td>1983</td><td>Jacques Laffite</td><td>French</td><td>11.0</td><td>0</td><td>11</td></tr><tr><td>1983</td><td>Michele Alboreto</td><td>Italian</td><td>10.0</td><td>1</td><td>12</td></tr><tr><td>1983</td><td>Nigel Mansell</td><td>British</td><td>10.0</td><td>0</td><td>13</td></tr><tr><td>1983</td><td>Derek Warwick</td><td>British</td><td>9.0</td><td>0</td><td>14</td></tr><tr><td>1983</td><td>Marc Surer</td><td>Swiss</td><td>4.0</td><td>0</td><td>15</td></tr><tr><td>1983</td><td>Mauro Baldi</td><td>Italian</td><td>3.0</td><td>0</td><td>16</td></tr><tr><td>1983</td><td>Danny Sullivan</td><td>American</td><td>2.0</td><td>0</td><td>17</td></tr><tr><td>1983</td><td>Elio de Angelis</td><td>Italian</td><td>2.0</td><td>0</td><td>17</td></tr><tr><td>1983</td><td>Johnny Cecotto</td><td>Venezuelan</td><td>1.0</td><td>0</td><td>19</td></tr><tr><td>1983</td><td>Bruno Giacomelli</td><td>Italian</td><td>1.0</td><td>0</td><td>19</td></tr><tr><td>1983</td><td>Kenny Acheson</td><td>British</td><td>0.0</td><td>0</td><td>21</td></tr><tr><td>1983</td><td>Raul Boesel</td><td>Brazilian</td><td>0.0</td><td>0</td><td>21</td></tr><tr><td>1983</td><td>Manfred Winkelhock</td><td>German</td><td>0.0</td><td>0</td><td>21</td></tr><tr><td>1983</td><td>Piercarlo Ghinzani</td><td>Italian</td><td>0.0</td><td>0</td><td>21</td></tr><tr><td>1983</td><td>Corrado Fabi</td><td>Italian</td><td>0.0</td><td>0</td><td>21</td></tr><tr><td>1983</td><td>Jonathan Palmer</td><td>British</td><td>0.0</td><td>0</td><td>21</td></tr><tr><td>1983</td><td>Jacques Villeneuve Sr.</td><td>Canadian</td><td>0.0</td><td>0</td><td>21</td></tr><tr><td>1983</td><td>Thierry Boutsen</td><td>Belgian</td><td>0.0</td><td>0</td><td>21</td></tr><tr><td>1983</td><td>Chico Serra</td><td>Brazilian</td><td>0.0</td><td>0</td><td>21</td></tr><tr><td>1983</td><td>Jean-Louis Schlesser</td><td>French</td><td>0.0</td><td>0</td><td>21</td></tr><tr><td>1983</td><td>Jean-Pierre Jarier</td><td>French</td><td>0.0</td><td>0</td><td>21</td></tr><tr><td>1983</td><td>Roberto Guerrero</td><td>Colombian</td><td>0.0</td><td>0</td><td>21</td></tr><tr><td>1983</td><td>Eliseo Salazar</td><td>Chilean</td><td>0.0</td><td>0</td><td>21</td></tr><tr><td>1983</td><td>Stefan Johansson</td><td>Swedish</td><td>0.0</td><td>0</td><td>21</td></tr><tr><td>1983</td><td>Alan Jones</td><td>Australian</td><td>0.0</td><td>0</td><td>21</td></tr><tr><td>1984</td><td>Niki Lauda</td><td>Austrian</td><td>72.0</td><td>5</td><td>1</td></tr><tr><td>1984</td><td>Alain Prost</td><td>French</td><td>71.5</td><td>7</td><td>2</td></tr><tr><td>1984</td><td>Elio de Angelis</td><td>Italian</td><td>34.0</td><td>0</td><td>3</td></tr><tr><td>1984</td><td>Michele Alboreto</td><td>Italian</td><td>30.5</td><td>1</td><td>4</td></tr><tr><td>1984</td><td>Nelson Piquet</td><td>Brazilian</td><td>29.0</td><td>2</td><td>5</td></tr><tr><td>1984</td><td>René Arnoux</td><td>French</td><td>27.0</td><td>0</td><td>6</td></tr><tr><td>1984</td><td>Derek Warwick</td><td>British</td><td>23.0</td><td>0</td><td>7</td></tr><tr><td>1984</td><td>Keke Rosberg</td><td>Finnish</td><td>20.5</td><td>1</td><td>8</td></tr><tr><td>1984</td><td>Nigel Mansell</td><td>British</td><td>13.0</td><td>0</td><td>9</td></tr><tr><td>1984</td><td>Ayrton Senna</td><td>Brazilian</td><td>13.0</td><td>0</td><td>9</td></tr><tr><td>1984</td><td>Patrick Tambay</td><td>French</td><td>11.0</td><td>0</td><td>11</td></tr><tr><td>1984</td><td>Teo Fabi</td><td>Italian</td><td>9.0</td><td>0</td><td>12</td></tr><tr><td>1984</td><td>Riccardo Patrese</td><td>Italian</td><td>8.0</td><td>0</td><td>13</td></tr><tr><td>1984</td><td>Jacques Laffite</td><td>French</td><td>5.0</td><td>0</td><td>14</td></tr><tr><td>1984</td><td>Thierry Boutsen</td><td>Belgian</td><td>5.0</td><td>0</td><td>14</td></tr><tr><td>1984</td><td>Andrea de Cesaris</td><td>Italian</td><td>3.0</td><td>0</td><td>16</td></tr><tr><td>1984</td><td>Eddie Cheever</td><td>American</td><td>3.0</td><td>0</td><td>16</td></tr><tr><td>1984</td><td>Stefan Johansson</td><td>Swedish</td><td>3.0</td><td>0</td><td>16</td></tr><tr><td>1984</td><td>Piercarlo Ghinzani</td><td>Italian</td><td>2.0</td><td>0</td><td>19</td></tr><tr><td>1984</td><td>Marc Surer</td><td>Swiss</td><td>1.0</td><td>0</td><td>20</td></tr><tr><td>1984</td><td>Manfred Winkelhock</td><td>German</td><td>0.0</td><td>0</td><td>21</td></tr><tr><td>1984</td><td>Martin Brundle</td><td>British</td><td>0.0</td><td>0</td><td>21</td></tr><tr><td>1984</td><td>Huub Rothengatter</td><td>Dutch</td><td>0.0</td><td>0</td><td>21</td></tr><tr><td>1984</td><td>François Hesnault</td><td>French</td><td>0.0</td><td>0</td><td>21</td></tr><tr><td>1984</td><td>Pierluigi Martini</td><td>Italian</td><td>0.0</td><td>0</td><td>21</td></tr><tr><td>1984</td><td>Mauro Baldi</td><td>Italian</td><td>0.0</td><td>0</td><td>21</td></tr><tr><td>1984</td><td>Mike Thackwell</td><td>New Zealander</td><td>0.0</td><td>0</td><td>21</td></tr><tr><td>1984</td><td>Corrado Fabi</td><td>Italian</td><td>0.0</td><td>0</td><td>21</td></tr><tr><td>1984</td><td>Jonathan Palmer</td><td>British</td><td>0.0</td><td>0</td><td>21</td></tr><tr><td>1984</td><td>Gerhard Berger</td><td>Austrian</td><td>0.0</td><td>0</td><td>21</td></tr><tr><td>1984</td><td>Johnny Cecotto</td><td>Venezuelan</td><td>0.0</td><td>0</td><td>21</td></tr><tr><td>1984</td><td>Philippe Streiff</td><td>French</td><td>0.0</td><td>0</td><td>21</td></tr><tr><td>1984</td><td>Stefan Bellof</td><td>German</td><td>0.0</td><td>0</td><td>21</td></tr><tr><td>1984</td><td>Jo Gartner</td><td>Austrian</td><td>0.0</td><td>0</td><td>21</td></tr><tr><td>1984</td><td>Philippe Alliot</td><td>French</td><td>0.0</td><td>0</td><td>21</td></tr><tr><td>1985</td><td>Alain Prost</td><td>French</td><td>76.0</td><td>5</td><td>1</td></tr><tr><td>1985</td><td>Michele Alboreto</td><td>Italian</td><td>53.0</td><td>2</td><td>2</td></tr><tr><td>1985</td><td>Keke Rosberg</td><td>Finnish</td><td>40.0</td><td>2</td><td>3</td></tr><tr><td>1985</td><td>Ayrton Senna</td><td>Brazilian</td><td>38.0</td><td>2</td><td>4</td></tr><tr><td>1985</td><td>Elio de Angelis</td><td>Italian</td><td>33.0</td><td>1</td><td>5</td></tr><tr><td>1985</td><td>Nigel Mansell</td><td>British</td><td>31.0</td><td>2</td><td>6</td></tr><tr><td>1985</td><td>Stefan Johansson</td><td>Swedish</td><td>26.0</td><td>0</td><td>7</td></tr><tr><td>1985</td><td>Nelson Piquet</td><td>Brazilian</td><td>21.0</td><td>1</td><td>8</td></tr><tr><td>1985</td><td>Jacques Laffite</td><td>French</td><td>16.0</td><td>0</td><td>9</td></tr><tr><td>1985</td><td>Niki Lauda</td><td>Austrian</td><td>14.0</td><td>1</td><td>10</td></tr><tr><td>1985</td><td>Thierry Boutsen</td><td>Belgian</td><td>11.0</td><td>0</td><td>11</td></tr><tr><td>1985</td><td>Patrick Tambay</td><td>French</td><td>11.0</td><td>0</td><td>11</td></tr><tr><td>1985</td><td>Marc Surer</td><td>Swiss</td><td>5.0</td><td>0</td><td>13</td></tr><tr><td>1985</td><td>Derek Warwick</td><td>British</td><td>5.0</td><td>0</td><td>13</td></tr><tr><td>1985</td><td>Stefan Bellof</td><td>German</td><td>4.0</td><td>0</td><td>15</td></tr><tr><td>1985</td><td>Philippe Streiff</td><td>French</td><td>4.0</td><td>0</td><td>15</td></tr><tr><td>1985</td><td>René Arnoux</td><td>French</td><td>3.0</td><td>0</td><td>17</td></tr><tr><td>1985</td><td>Ivan Capelli</td><td>Italian</td><td>3.0</td><td>0</td><td>17</td></tr><tr><td>1985</td><td>Gerhard Berger</td><td>Austrian</td><td>3.0</td><td>0</td><td>17</td></tr><tr><td>1985</td><td>Andrea de Cesaris</td><td>Italian</td><td>3.0</td><td>0</td><td>17</td></tr><tr><td>1985</td><td>Christian Danner</td><td>German</td><td>0.0</td><td>0</td><td>21</td></tr><tr><td>1985</td><td>Alan Jones</td><td>Australian</td><td>0.0</td><td>0</td><td>21</td></tr><tr><td>1985</td><td>Teo Fabi</td><td>Italian</td><td>0.0</td><td>0</td><td>21</td></tr><tr><td>1985</td><td>Kenny Acheson</td><td>British</td><td>0.0</td><td>0</td><td>21</td></tr><tr><td>1985</td><td>François Hesnault</td><td>French</td><td>0.0</td><td>0</td><td>21</td></tr><tr><td>1985</td><td>Martin Brundle</td><td>British</td><td>0.0</td><td>0</td><td>21</td></tr><tr><td>1985</td><td>Philippe Alliot</td><td>French</td><td>0.0</td><td>0</td><td>21</td></tr><tr><td>1985</td><td>Riccardo Patrese</td><td>Italian</td><td>0.0</td><td>0</td><td>21</td></tr><tr><td>1985</td><td>Jonathan Palmer</td><td>British</td><td>0.0</td><td>0</td><td>21</td></tr><tr><td>1985</td><td>Huub Rothengatter</td><td>Dutch</td><td>0.0</td><td>0</td><td>21</td></tr><tr><td>1985</td><td>Eddie Cheever</td><td>American</td><td>0.0</td><td>0</td><td>21</td></tr><tr><td>1985</td><td>Piercarlo Ghinzani</td><td>Italian</td><td>0.0</td><td>0</td><td>21</td></tr><tr><td>1985</td><td>Mauro Baldi</td><td>Italian</td><td>0.0</td><td>0</td><td>21</td></tr><tr><td>1985</td><td>John Watson</td><td>British</td><td>0.0</td><td>0</td><td>21</td></tr><tr><td>1985</td><td>Pierluigi Martini</td><td>Italian</td><td>0.0</td><td>0</td><td>21</td></tr><tr><td>1985</td><td>Manfred Winkelhock</td><td>German</td><td>0.0</td><td>0</td><td>21</td></tr><tr><td>1986</td><td>Alain Prost</td><td>French</td><td>74.0</td><td>4</td><td>1</td></tr><tr><td>1986</td><td>Nigel Mansell</td><td>British</td><td>72.0</td><td>5</td><td>2</td></tr><tr><td>1986</td><td>Nelson Piquet</td><td>Brazilian</td><td>69.0</td><td>4</td><td>3</td></tr><tr><td>1986</td><td>Ayrton Senna</td><td>Brazilian</td><td>55.0</td><td>2</td><td>4</td></tr><tr><td>1986</td><td>Stefan Johansson</td><td>Swedish</td><td>23.0</td><td>0</td><td>5</td></tr><tr><td>1986</td><td>Keke Rosberg</td><td>Finnish</td><td>22.0</td><td>0</td><td>6</td></tr><tr><td>1986</td><td>Gerhard Berger</td><td>Austrian</td><td>17.0</td><td>1</td><td>7</td></tr><tr><td>1986</td><td>Michele Alboreto</td><td>Italian</td><td>14.0</td><td>0</td><td>8</td></tr><tr><td>1986</td><td>René Arnoux</td><td>French</td><td>14.0</td><td>0</td><td>8</td></tr><tr><td>1986</td><td>Jacques Laffite</td><td>French</td><td>14.0</td><td>0</td><td>8</td></tr><tr><td>1986</td><td>Martin Brundle</td><td>British</td><td>8.0</td><td>0</td><td>11</td></tr><tr><td>1986</td><td>Alan Jones</td><td>Australian</td><td>4.0</td><td>0</td><td>12</td></tr><tr><td>1986</td><td>Philippe Streiff</td><td>French</td><td>3.0</td><td>0</td><td>13</td></tr><tr><td>1986</td><td>Johnny Dumfries</td><td>British</td><td>3.0</td><td>0</td><td>13</td></tr><tr><td>1986</td><td>Teo Fabi</td><td>Italian</td><td>2.0</td><td>0</td><td>15</td></tr><tr><td>1986</td><td>Riccardo Patrese</td><td>Italian</td><td>2.0</td><td>0</td><td>15</td></tr><tr><td>1986</td><td>Patrick Tambay</td><td>French</td><td>2.0</td><td>0</td><td>15</td></tr><tr><td>1986</td><td>Christian Danner</td><td>German</td><td>1.0</td><td>0</td><td>18</td></tr><tr><td>1986</td><td>Philippe Alliot</td><td>French</td><td>1.0</td><td>0</td><td>18</td></tr><tr><td>1986</td><td>Allen Berg</td><td>Canadian</td><td>0.0</td><td>0</td><td>20</td></tr><tr><td>1986</td><td>Derek Warwick</td><td>British</td><td>0.0</td><td>0</td><td>20</td></tr><tr><td>1986</td><td>Huub Rothengatter</td><td>Dutch</td><td>0.0</td><td>0</td><td>20</td></tr><tr><td>1986</td><td>Eddie Cheever</td><td>American</td><td>0.0</td><td>0</td><td>20</td></tr><tr><td>1986</td><td>Jonathan Palmer</td><td>British</td><td>0.0</td><td>0</td><td>20</td></tr><tr><td>1986</td><td>Thierry Boutsen</td><td>Belgian</td><td>0.0</td><td>0</td><td>20</td></tr><tr><td>1986</td><td>Piercarlo Ghinzani</td><td>Italian</td><td>0.0</td><td>0</td><td>20</td></tr><tr><td>1986</td><td>Alex Caffi</td><td>Italian</td><td>0.0</td><td>0</td><td>20</td></tr><tr><td>1986</td><td>Andrea de Cesaris</td><td>Italian</td><td>0.0</td><td>0</td><td>20</td></tr><tr><td>1986</td><td>Marc Surer</td><td>Swiss</td><td>0.0</td><td>0</td><td>20</td></tr><tr><td>1986</td><td>Elio de Angelis</td><td>Italian</td><td>0.0</td><td>0</td><td>20</td></tr><tr><td>1986</td><td>Alessandro Nannini</td><td>Italian</td><td>0.0</td><td>0</td><td>20</td></tr><tr><td>1986</td><td>Ivan Capelli</td><td>Italian</td><td>0.0</td><td>0</td><td>20</td></tr><tr><td>1987</td><td>Nelson Piquet</td><td>Brazilian</td><td>76.0</td><td>3</td><td>1</td></tr><tr><td>1987</td><td>Nigel Mansell</td><td>British</td><td>61.0</td><td>6</td><td>2</td></tr><tr><td>1987</td><td>Ayrton Senna</td><td>Brazilian</td><td>57.0</td><td>2</td><td>3</td></tr><tr><td>1987</td><td>Alain Prost</td><td>French</td><td>46.0</td><td>3</td><td>4</td></tr><tr><td>1987</td><td>Gerhard Berger</td><td>Austrian</td><td>36.0</td><td>2</td><td>5</td></tr><tr><td>1987</td><td>Stefan Johansson</td><td>Swedish</td><td>30.0</td><td>0</td><td>6</td></tr><tr><td>1987</td><td>Michele Alboreto</td><td>Italian</td><td>17.0</td><td>0</td><td>7</td></tr><tr><td>1987</td><td>Thierry Boutsen</td><td>Belgian</td><td>16.0</td><td>0</td><td>8</td></tr><tr><td>1987</td><td>Teo Fabi</td><td>Italian</td><td>12.0</td><td>0</td><td>9</td></tr><tr><td>1987</td><td>Eddie Cheever</td><td>American</td><td>8.0</td><td>0</td><td>10</td></tr><tr><td>1987</td><td>Jonathan Palmer</td><td>British</td><td>7.0</td><td>0</td><td>11</td></tr><tr><td>1987</td><td>Satoru Nakajima</td><td>Japanese</td><td>7.0</td><td>0</td><td>11</td></tr><tr><td>1987</td><td>Riccardo Patrese</td><td>Italian</td><td>6.0</td><td>0</td><td>13</td></tr><tr><td>1987</td><td>Andrea de Cesaris</td><td>Italian</td><td>4.0</td><td>0</td><td>14</td></tr><tr><td>1987</td><td>Philippe Streiff</td><td>French</td><td>4.0</td><td>0</td><td>14</td></tr><tr><td>1987</td><td>Derek Warwick</td><td>British</td><td>3.0</td><td>0</td><td>16</td></tr><tr><td>1987</td><td>Philippe Alliot</td><td>French</td><td>3.0</td><td>0</td><td>16</td></tr><tr><td>1987</td><td>Martin Brundle</td><td>British</td><td>2.0</td><td>0</td><td>18</td></tr><tr><td>1987</td><td>Ivan Capelli</td><td>Italian</td><td>1.0</td><td>0</td><td>19</td></tr><tr><td>1987</td><td>Roberto Moreno</td><td>Brazilian</td><td>1.0</td><td>0</td><td>19</td></tr><tr><td>1987</td><td>René Arnoux</td><td>French</td><td>1.0</td><td>0</td><td>19</td></tr><tr><td>1987</td><td>Adrián Campos</td><td>Spanish</td><td>0.0</td><td>0</td><td>22</td></tr><tr><td>1987</td><td>Alessandro Nannini</td><td>Italian</td><td>0.0</td><td>0</td><td>22</td></tr><tr><td>1987</td><td>Franco Forini</td><td>Swiss</td><td>0.0</td><td>0</td><td>22</td></tr><tr><td>1987</td><td>Christian Danner</td><td>German</td><td>0.0</td><td>0</td><td>22</td></tr><tr><td>1987</td><td>Gabriele Tarquini</td><td>Italian</td><td>0.0</td><td>0</td><td>22</td></tr><tr><td>1987</td><td>Nicola Larini</td><td>Italian</td><td>0.0</td><td>0</td><td>22</td></tr><tr><td>1987</td><td>Piercarlo Ghinzani</td><td>Italian</td><td>0.0</td><td>0</td><td>22</td></tr><tr><td>1987</td><td>Yannick Dalmas</td><td>French</td><td>0.0</td><td>0</td><td>22</td></tr><tr><td>1987</td><td>Alex Caffi</td><td>Italian</td><td>0.0</td><td>0</td><td>22</td></tr><tr><td>1987</td><td>Pascal Fabre</td><td>French</td><td>0.0</td><td>0</td><td>22</td></tr><tr><td>1987</td><td>Stefano Modena</td><td>Italian</td><td>0.0</td><td>0</td><td>22</td></tr><tr><td>1988</td><td>Alain Prost</td><td>French</td><td>105.0</td><td>7</td><td>1</td></tr><tr><td>1988</td><td>Ayrton Senna</td><td>Brazilian</td><td>94.0</td><td>8</td><td>2</td></tr><tr><td>1988</td><td>Gerhard Berger</td><td>Austrian</td><td>41.0</td><td>1</td><td>3</td></tr><tr><td>1988</td><td>Thierry Boutsen</td><td>Belgian</td><td>27.0</td><td>0</td><td>4</td></tr><tr><td>1988</td><td>Michele Alboreto</td><td>Italian</td><td>24.0</td><td>0</td><td>5</td></tr><tr><td>1988</td><td>Nelson Piquet</td><td>Brazilian</td><td>22.0</td><td>0</td><td>6</td></tr><tr><td>1988</td><td>Ivan Capelli</td><td>Italian</td><td>17.0</td><td>0</td><td>7</td></tr><tr><td>1988</td><td>Derek Warwick</td><td>British</td><td>17.0</td><td>0</td><td>7</td></tr><tr><td>1988</td><td>Alessandro Nannini</td><td>Italian</td><td>12.0</td><td>0</td><td>9</td></tr><tr><td>1988</td><td>Nigel Mansell</td><td>British</td><td>12.0</td><td>0</td><td>9</td></tr><tr><td>1988</td><td>Riccardo Patrese</td><td>Italian</td><td>8.0</td><td>0</td><td>11</td></tr><tr><td>1988</td><td>Eddie Cheever</td><td>American</td><td>6.0</td><td>0</td><td>12</td></tr><tr><td>1988</td><td>Maurício Gugelmin</td><td>Brazilian</td><td>5.0</td><td>0</td><td>13</td></tr><tr><td>1988</td><td>Jonathan Palmer</td><td>British</td><td>5.0</td><td>0</td><td>13</td></tr><tr><td>1988</td><td>Andrea de Cesaris</td><td>Italian</td><td>3.0</td><td>0</td><td>15</td></tr><tr><td>1988</td><td>Pierluigi Martini</td><td>Italian</td><td>1.0</td><td>0</td><td>16</td></tr><tr><td>1988</td><td>Satoru Nakajima</td><td>Japanese</td><td>1.0</td><td>0</td><td>16</td></tr><tr><td>1988</td><td>Alex Caffi</td><td>Italian</td><td>0.0</td><td>0</td><td>18</td></tr><tr><td>1988</td><td>Martin Brundle</td><td>British</td><td>0.0</td><td>0</td><td>18</td></tr><tr><td>1988</td><td>Gabriele Tarquini</td><td>Italian</td><td>0.0</td><td>0</td><td>18</td></tr><tr><td>1988</td><td>Adrián Campos</td><td>Spanish</td><td>0.0</td><td>0</td><td>18</td></tr><tr><td>1988</td><td>Piercarlo Ghinzani</td><td>Italian</td><td>0.0</td><td>0</td><td>18</td></tr><tr><td>1988</td><td>Bernd Schneider</td><td>German</td><td>0.0</td><td>0</td><td>18</td></tr><tr><td>1988</td><td>Aguri Suzuki</td><td>Japanese</td><td>0.0</td><td>0</td><td>18</td></tr><tr><td>1988</td><td>Pierre-Henri Raphanel</td><td>French</td><td>0.0</td><td>0</td><td>18</td></tr><tr><td>1988</td><td>Jean-Louis Schlesser</td><td>French</td><td>0.0</td><td>0</td><td>18</td></tr><tr><td>1988</td><td>Julian Bailey</td><td>British</td><td>0.0</td><td>0</td><td>18</td></tr><tr><td>1988</td><td>Philippe Streiff</td><td>French</td><td>0.0</td><td>0</td><td>18</td></tr><tr><td>1988</td><td>Stefan Johansson</td><td>Swedish</td><td>0.0</td><td>0</td><td>18</td></tr><tr><td>1988</td><td>Nicola Larini</td><td>Italian</td><td>0.0</td><td>0</td><td>18</td></tr><tr><td>1988</td><td>Stefano Modena</td><td>Italian</td><td>0.0</td><td>0</td><td>18</td></tr><tr><td>1988</td><td>René Arnoux</td><td>French</td><td>0.0</td><td>0</td><td>18</td></tr><tr><td>1988</td><td>Yannick Dalmas</td><td>French</td><td>0.0</td><td>0</td><td>18</td></tr><tr><td>1988</td><td>Oscar Larrauri</td><td>Argentine</td><td>0.0</td><td>0</td><td>18</td></tr><tr><td>1988</td><td>Luis Pérez-Sala</td><td>Spanish</td><td>0.0</td><td>0</td><td>18</td></tr><tr><td>1988</td><td>Philippe Alliot</td><td>French</td><td>0.0</td><td>0</td><td>18</td></tr><tr><td>1989</td><td>Alain Prost</td><td>French</td><td>81.0</td><td>4</td><td>1</td></tr><tr><td>1989</td><td>Ayrton Senna</td><td>Brazilian</td><td>60.0</td><td>6</td><td>2</td></tr><tr><td>1989</td><td>Riccardo Patrese</td><td>Italian</td><td>40.0</td><td>0</td><td>3</td></tr><tr><td>1989</td><td>Nigel Mansell</td><td>British</td><td>38.0</td><td>2</td><td>4</td></tr><tr><td>1989</td><td>Thierry Boutsen</td><td>Belgian</td><td>37.0</td><td>2</td><td>5</td></tr><tr><td>1989</td><td>Alessandro Nannini</td><td>Italian</td><td>32.0</td><td>1</td><td>6</td></tr><tr><td>1989</td><td>Gerhard Berger</td><td>Austrian</td><td>21.0</td><td>1</td><td>7</td></tr><tr><td>1989</td><td>Nelson Piquet</td><td>Brazilian</td><td>12.0</td><td>0</td><td>8</td></tr><tr><td>1989</td><td>Jean Alesi</td><td>French</td><td>8.0</td><td>0</td><td>9</td></tr><tr><td>1989</td><td>Derek Warwick</td><td>British</td><td>7.0</td><td>0</td><td>10</td></tr><tr><td>1989</td><td>Stefan Johansson</td><td>Swedish</td><td>6.0</td><td>0</td><td>11</td></tr><tr><td>1989</td><td>Michele Alboreto</td><td>Italian</td><td>6.0</td><td>0</td><td>11</td></tr><tr><td>1989</td><td>Eddie Cheever</td><td>American</td><td>6.0</td><td>0</td><td>11</td></tr><tr><td>1989</td><td>Johnny Herbert</td><td>British</td><td>5.0</td><td>0</td><td>14</td></tr><tr><td>1989</td><td>Pierluigi Martini</td><td>Italian</td><td>5.0</td><td>0</td><td>14</td></tr><tr><td>1989</td><td>Alex Caffi</td><td>Italian</td><td>4.0</td><td>0</td><td>16</td></tr><tr><td>1989</td><td>Maurício Gugelmin</td><td>Brazilian</td><td>4.0</td><td>0</td><td>16</td></tr><tr><td>1989</td><td>Andrea de Cesaris</td><td>Italian</td><td>4.0</td><td>0</td><td>16</td></tr><tr><td>1989</td><td>Stefano Modena</td><td>Italian</td><td>4.0</td><td>0</td><td>16</td></tr><tr><td>1989</td><td>Martin Brundle</td><td>British</td><td>4.0</td><td>0</td><td>16</td></tr><tr><td>1989</td><td>Christian Danner</td><td>German</td><td>3.0</td><td>0</td><td>21</td></tr><tr><td>1989</td><td>Satoru Nakajima</td><td>Japanese</td><td>3.0</td><td>0</td><td>21</td></tr><tr><td>1989</td><td>Jonathan Palmer</td><td>British</td><td>2.0</td><td>0</td><td>23</td></tr><tr><td>1989</td><td>René Arnoux</td><td>French</td><td>2.0</td><td>0</td><td>23</td></tr><tr><td>1989</td><td>Emanuele Pirro</td><td>Italian</td><td>2.0</td><td>0</td><td>23</td></tr><tr><td>1989</td><td>Gabriele Tarquini</td><td>Italian</td><td>1.0</td><td>0</td><td>26</td></tr><tr><td>1989</td><td>Philippe Alliot</td><td>French</td><td>1.0</td><td>0</td><td>26</td></tr><tr><td>1989</td><td>Olivier Grouillard</td><td>French</td><td>1.0</td><td>0</td><td>26</td></tr><tr><td>1989</td><td>Luis Pérez-Sala</td><td>Spanish</td><td>1.0</td><td>0</td><td>26</td></tr><tr><td>1989</td><td>Joachim Winkelhock</td><td>German</td><td>0.0</td><td>0</td><td>30</td></tr><tr><td>1989</td><td>Enrico Bertaggia</td><td>Italian</td><td>0.0</td><td>0</td><td>30</td></tr><tr><td>1989</td><td>Piercarlo Ghinzani</td><td>Italian</td><td>0.0</td><td>0</td><td>30</td></tr><tr><td>1989</td><td>Bertrand Gachot</td><td>Belgian</td><td>0.0</td><td>0</td><td>30</td></tr><tr><td>1989</td><td>Éric Bernard</td><td>French</td><td>0.0</td><td>0</td><td>30</td></tr><tr><td>1989</td><td>Jyrki Järvilehto</td><td>Finnish</td><td>0.0</td><td>0</td><td>30</td></tr><tr><td>1989</td><td>Pierre-Henri Raphanel</td><td>French</td><td>0.0</td><td>0</td><td>30</td></tr><tr><td>1989</td><td>Roberto Moreno</td><td>Brazilian</td><td>0.0</td><td>0</td><td>30</td></tr><tr><td>1989</td><td>Bernd Schneider</td><td>German</td><td>0.0</td><td>0</td><td>30</td></tr><tr><td>1989</td><td>Martin Donnelly</td><td>British</td><td>0.0</td><td>0</td><td>30</td></tr><tr><td>1989</td><td>Ivan Capelli</td><td>Italian</td><td>0.0</td><td>0</td><td>30</td></tr><tr><td>1989</td><td>Oscar Larrauri</td><td>Argentine</td><td>0.0</td><td>0</td><td>30</td></tr><tr><td>1989</td><td>Aguri Suzuki</td><td>Japanese</td><td>0.0</td><td>0</td><td>30</td></tr><tr><td>1989</td><td>Nicola Larini</td><td>Italian</td><td>0.0</td><td>0</td><td>30</td></tr><tr><td>1989</td><td>Volker Weidler</td><td>German</td><td>0.0</td><td>0</td><td>30</td></tr><tr><td>1989</td><td>Gregor Foitek</td><td>Swiss</td><td>0.0</td><td>0</td><td>30</td></tr><tr><td>1989</td><td>Yannick Dalmas</td><td>French</td><td>0.0</td><td>0</td><td>30</td></tr><tr><td>1989</td><td>Paolo Barilla</td><td>Italian</td><td>0.0</td><td>0</td><td>30</td></tr><tr><td>1990</td><td>Ayrton Senna</td><td>Brazilian</td><td>78.0</td><td>6</td><td>1</td></tr><tr><td>1990</td><td>Alain Prost</td><td>French</td><td>73.0</td><td>5</td><td>2</td></tr><tr><td>1990</td><td>Nelson Piquet</td><td>Brazilian</td><td>44.0</td><td>2</td><td>3</td></tr><tr><td>1990</td><td>Gerhard Berger</td><td>Austrian</td><td>43.0</td><td>0</td><td>4</td></tr><tr><td>1990</td><td>Nigel Mansell</td><td>British</td><td>37.0</td><td>1</td><td>5</td></tr><tr><td>1990</td><td>Thierry Boutsen</td><td>Belgian</td><td>34.0</td><td>1</td><td>6</td></tr><tr><td>1990</td><td>Riccardo Patrese</td><td>Italian</td><td>23.0</td><td>1</td><td>7</td></tr><tr><td>1990</td><td>Alessandro Nannini</td><td>Italian</td><td>21.0</td><td>0</td><td>8</td></tr><tr><td>1990</td><td>Jean Alesi</td><td>French</td><td>13.0</td><td>0</td><td>9</td></tr><tr><td>1990</td><td>Ivan Capelli</td><td>Italian</td><td>6.0</td><td>0</td><td>10</td></tr><tr><td>1990</td><td>Roberto Moreno</td><td>Brazilian</td><td>6.0</td><td>0</td><td>10</td></tr><tr><td>1990</td><td>Aguri Suzuki</td><td>Japanese</td><td>6.0</td><td>0</td><td>10</td></tr><tr><td>1990</td><td>Éric Bernard</td><td>French</td><td>5.0</td><td>0</td><td>13</td></tr><tr><td>1990</td><td>Derek Warwick</td><td>British</td><td>3.0</td><td>0</td><td>14</td></tr><tr><td>1990</td><td>Satoru Nakajima</td><td>Japanese</td><td>3.0</td><td>0</td><td>14</td></tr><tr><td>1990</td><td>Alex Caffi</td><td>Italian</td><td>2.0</td><td>0</td><td>16</td></tr><tr><td>1990</td><td>Stefano Modena</td><td>Italian</td><td>2.0</td><td>0</td><td>16</td></tr><tr><td>1990</td><td>Maurício Gugelmin</td><td>Brazilian</td><td>1.0</td><td>0</td><td>18</td></tr><tr><td>1990</td><td>Michele Alboreto</td><td>Italian</td><td>0.0</td><td>0</td><td>19</td></tr><tr><td>1990</td><td>Nicola Larini</td><td>Italian</td><td>0.0</td><td>0</td><td>19</td></tr><tr><td>1990</td><td>Pierluigi Martini</td><td>Italian</td><td>0.0</td><td>0</td><td>19</td></tr><tr><td>1990</td><td>Emanuele Pirro</td><td>Italian</td><td>0.0</td><td>0</td><td>19</td></tr><tr><td>1990</td><td>Stefan Johansson</td><td>Swedish</td><td>0.0</td><td>0</td><td>19</td></tr><tr><td>1990</td><td>Gary Brabham</td><td>Australian</td><td>0.0</td><td>0</td><td>19</td></tr><tr><td>1990</td><td>Bertrand Gachot</td><td>Belgian</td><td>0.0</td><td>0</td><td>19</td></tr><tr><td>1990</td><td>Gianni Morbidelli</td><td>Italian</td><td>0.0</td><td>0</td><td>19</td></tr><tr><td>1990</td><td>Martin Donnelly</td><td>British</td><td>0.0</td><td>0</td><td>19</td></tr><tr><td>1990</td><td>David Brabham</td><td>Australian</td><td>0.0</td><td>0</td><td>19</td></tr><tr><td>1990</td><td>Jyrki Järvilehto</td><td>Finnish</td><td>0.0</td><td>0</td><td>19</td></tr><tr><td>1990</td><td>Gabriele Tarquini</td><td>Italian</td><td>0.0</td><td>0</td><td>19</td></tr><tr><td>1990</td><td>Andrea de Cesaris</td><td>Italian</td><td>0.0</td><td>0</td><td>19</td></tr><tr><td>1990</td><td>Philippe Alliot</td><td>French</td><td>0.0</td><td>0</td><td>19</td></tr><tr><td>1990</td><td>Paolo Barilla</td><td>Italian</td><td>0.0</td><td>0</td><td>19</td></tr><tr><td>1990</td><td>Bruno Giacomelli</td><td>Italian</td><td>0.0</td><td>0</td><td>19</td></tr><tr><td>1990</td><td>Olivier Grouillard</td><td>French</td><td>0.0</td><td>0</td><td>19</td></tr><tr><td>1990</td><td>Claudio Langes</td><td>Italian</td><td>0.0</td><td>0</td><td>19</td></tr><tr><td>1990</td><td>Johnny Herbert</td><td>British</td><td>0.0</td><td>0</td><td>19</td></tr><tr><td>1990</td><td>Bernd Schneider</td><td>German</td><td>0.0</td><td>0</td><td>19</td></tr><tr><td>1990</td><td>Yannick Dalmas</td><td>French</td><td>0.0</td><td>0</td><td>19</td></tr><tr><td>1990</td><td>Gregor Foitek</td><td>Swiss</td><td>0.0</td><td>0</td><td>19</td></tr><tr><td>1991</td><td>Ayrton Senna</td><td>Brazilian</td><td>96.0</td><td>7</td><td>1</td></tr><tr><td>1991</td><td>Nigel Mansell</td><td>British</td><td>72.0</td><td>5</td><td>2</td></tr><tr><td>1991</td><td>Riccardo Patrese</td><td>Italian</td><td>53.0</td><td>2</td><td>3</td></tr><tr><td>1991</td><td>Gerhard Berger</td><td>Austrian</td><td>43.0</td><td>1</td><td>4</td></tr><tr><td>1991</td><td>Alain Prost</td><td>French</td><td>34.0</td><td>0</td><td>5</td></tr><tr><td>1991</td><td>Nelson Piquet</td><td>Brazilian</td><td>26.5</td><td>1</td><td>6</td></tr><tr><td>1991</td><td>Jean Alesi</td><td>French</td><td>21.0</td><td>0</td><td>7</td></tr><tr><td>1991</td><td>Stefano Modena</td><td>Italian</td><td>10.0</td><td>0</td><td>8</td></tr><tr><td>1991</td><td>Andrea de Cesaris</td><td>Italian</td><td>9.0</td><td>0</td><td>9</td></tr><tr><td>1991</td><td>Roberto Moreno</td><td>Brazilian</td><td>8.0</td><td>0</td><td>10</td></tr><tr><td>1991</td><td>Pierluigi Martini</td><td>Italian</td><td>6.0</td><td>0</td><td>11</td></tr><tr><td>1991</td><td>Jyrki Järvilehto</td><td>Finnish</td><td>4.0</td><td>0</td><td>12</td></tr><tr><td>1991</td><td>Michael Schumacher</td><td>German</td><td>4.0</td><td>0</td><td>12</td></tr><tr><td>1991</td><td>Bertrand Gachot</td><td>Belgian</td><td>4.0</td><td>0</td><td>12</td></tr><tr><td>1991</td><td>Martin Brundle</td><td>British</td><td>2.0</td><td>0</td><td>15</td></tr><tr><td>1991</td><td>Satoru Nakajima</td><td>Japanese</td><td>2.0</td><td>0</td><td>15</td></tr><tr><td>1991</td><td>Mika Häkkinen</td><td>Finnish</td><td>2.0</td><td>0</td><td>15</td></tr><tr><td>1991</td><td>Ivan Capelli</td><td>Italian</td><td>1.0</td><td>0</td><td>18</td></tr><tr><td>1991</td><td>Mark Blundell</td><td>British</td><td>1.0</td><td>0</td><td>18</td></tr><tr><td>1991</td><td>Éric Bernard</td><td>French</td><td>1.0</td><td>0</td><td>18</td></tr><tr><td>1991</td><td>Julian Bailey</td><td>British</td><td>1.0</td><td>0</td><td>18</td></tr><tr><td>1991</td><td>Emanuele Pirro</td><td>Italian</td><td>1.0</td><td>0</td><td>18</td></tr><tr><td>1991</td><td>Aguri Suzuki</td><td>Japanese</td><td>1.0</td><td>0</td><td>18</td></tr><tr><td>1991</td><td>Gianni Morbidelli</td><td>Italian</td><td>0.5</td><td>0</td><td>24</td></tr><tr><td>1991</td><td>Michael Bartels</td><td>German</td><td>0.0</td><td>0</td><td>25</td></tr><tr><td>1991</td><td>Nicola Larini</td><td>Italian</td><td>0.0</td><td>0</td><td>25</td></tr><tr><td>1991</td><td>Alex Caffi</td><td>Italian</td><td>0.0</td><td>0</td><td>25</td></tr><tr><td>1991</td><td>Johnny Herbert</td><td>British</td><td>0.0</td><td>0</td><td>25</td></tr><tr><td>1991</td><td>Karl Wendlinger</td><td>Austrian</td><td>0.0</td><td>0</td><td>25</td></tr><tr><td>1991</td><td>Eric van de Poele</td><td>Belgian</td><td>0.0</td><td>0</td><td>25</td></tr><tr><td>1991</td><td>Michele Alboreto</td><td>Italian</td><td>0.0</td><td>0</td><td>25</td></tr><tr><td>1991</td><td>Fabrizio Barbazza</td><td>Italian</td><td>0.0</td><td>0</td><td>25</td></tr><tr><td>1991</td><td>Thierry Boutsen</td><td>Belgian</td><td>0.0</td><td>0</td><td>25</td></tr><tr><td>1991</td><td>Alessandro Zanardi</td><td>Italian</td><td>0.0</td><td>0</td><td>25</td></tr><tr><td>1991</td><td>Maurício Gugelmin</td><td>Brazilian</td><td>0.0</td><td>0</td><td>25</td></tr><tr><td>1991</td><td>Stefan Johansson</td><td>Swedish</td><td>0.0</td><td>0</td><td>25</td></tr><tr><td>1991</td><td>Pedro Chaves</td><td>Portuguese</td><td>0.0</td><td>0</td><td>25</td></tr><tr><td>1991</td><td>Gabriele Tarquini</td><td>Italian</td><td>0.0</td><td>0</td><td>25</td></tr><tr><td>1991</td><td>Naoki Hattori</td><td>Japanese</td><td>0.0</td><td>0</td><td>25</td></tr><tr><td>1991</td><td>Olivier Grouillard</td><td>French</td><td>0.0</td><td>0</td><td>25</td></tr><tr><td>1991</td><td>Érik Comas</td><td>French</td><td>0.0</td><td>0</td><td>25</td></tr><tr><td>1992</td><td>Nigel Mansell</td><td>British</td><td>108.0</td><td>9</td><td>1</td></tr><tr><td>1992</td><td>Riccardo Patrese</td><td>Italian</td><td>56.0</td><td>1</td><td>2</td></tr><tr><td>1992</td><td>Michael Schumacher</td><td>German</td><td>53.0</td><td>1</td><td>3</td></tr><tr><td>1992</td><td>Ayrton Senna</td><td>Brazilian</td><td>50.0</td><td>3</td><td>4</td></tr><tr><td>1992</td><td>Gerhard Berger</td><td>Austrian</td><td>49.0</td><td>2</td><td>5</td></tr><tr><td>1992</td><td>Martin Brundle</td><td>British</td><td>38.0</td><td>0</td><td>6</td></tr><tr><td>1992</td><td>Jean Alesi</td><td>French</td><td>18.0</td><td>0</td><td>7</td></tr><tr><td>1992</td><td>Mika Häkkinen</td><td>Finnish</td><td>11.0</td><td>0</td><td>8</td></tr><tr><td>1992</td><td>Andrea de Cesaris</td><td>Italian</td><td>8.0</td><td>0</td><td>9</td></tr><tr><td>1992</td><td>Michele Alboreto</td><td>Italian</td><td>6.0</td><td>0</td><td>10</td></tr><tr><td>1992</td><td>Érik Comas</td><td>French</td><td>4.0</td><td>0</td><td>11</td></tr><tr><td>1992</td><td>Ivan Capelli</td><td>Italian</td><td>3.0</td><td>0</td><td>12</td></tr><tr><td>1992</td><td>Karl Wendlinger</td><td>Austrian</td><td>3.0</td><td>0</td><td>12</td></tr><tr><td>1992</td><td>Pierluigi Martini</td><td>Italian</td><td>2.0</td><td>0</td><td>14</td></tr><tr><td>1992</td><td>Thierry Boutsen</td><td>Belgian</td><td>2.0</td><td>0</td><td>14</td></tr><tr><td>1992</td><td>Johnny Herbert</td><td>British</td><td>2.0</td><td>0</td><td>14</td></tr><tr><td>1992</td><td>Stefano Modena</td><td>Italian</td><td>1.0</td><td>0</td><td>17</td></tr><tr><td>1992</td><td>Bertrand Gachot</td><td>Belgian</td><td>1.0</td><td>0</td><td>17</td></tr><tr><td>1992</td><td>Christian Fittipaldi</td><td>Brazilian</td><td>1.0</td><td>0</td><td>17</td></tr><tr><td>1992</td><td>Jyrki Järvilehto</td><td>Finnish</td><td>0.0</td><td>0</td><td>20</td></tr><tr><td>1992</td><td>Maurício Gugelmin</td><td>Brazilian</td><td>0.0</td><td>0</td><td>20</td></tr><tr><td>1992</td><td>Perry McCarthy</td><td>British</td><td>0.0</td><td>0</td><td>20</td></tr><tr><td>1992</td><td>Alessandro Zanardi</td><td>Italian</td><td>0.0</td><td>0</td><td>20</td></tr><tr><td>1992</td><td>Paul Belmondo</td><td>French</td><td>0.0</td><td>0</td><td>20</td></tr><tr><td>1992</td><td>Eric van de Poele</td><td>Belgian</td><td>0.0</td><td>0</td><td>20</td></tr><tr><td>1992</td><td>Olivier Grouillard</td><td>French</td><td>0.0</td><td>0</td><td>20</td></tr><tr><td>1992</td><td>Nicola Larini</td><td>Italian</td><td>0.0</td><td>0</td><td>20</td></tr><tr><td>1992</td><td>Jan Lammers</td><td>Dutch</td><td>0.0</td><td>0</td><td>20</td></tr><tr><td>1992</td><td>Damon Hill</td><td>British</td><td>0.0</td><td>0</td><td>20</td></tr><tr><td>1992</td><td>Andrea Chiesa</td><td>Swiss</td><td>0.0</td><td>0</td><td>20</td></tr><tr><td>1992</td><td>Aguri Suzuki</td><td>Japanese</td><td>0.0</td><td>0</td><td>20</td></tr><tr><td>1992</td><td>Ukyo Katayama</td><td>Japanese</td><td>0.0</td><td>0</td><td>20</td></tr><tr><td>1992</td><td>Emanuele Naspetti</td><td>Italian</td><td>0.0</td><td>0</td><td>20</td></tr><tr><td>1992</td><td>Giovanna Amati</td><td>Italian</td><td>0.0</td><td>0</td><td>20</td></tr><tr><td>1992</td><td>Gabriele Tarquini</td><td>Italian</td><td>0.0</td><td>0</td><td>20</td></tr><tr><td>1992</td><td>Gianni Morbidelli</td><td>Italian</td><td>0.0</td><td>0</td><td>20</td></tr><tr><td>1992</td><td>Roberto Moreno</td><td>Brazilian</td><td>0.0</td><td>0</td><td>20</td></tr><tr><td>1993</td><td>Alain Prost</td><td>French</td><td>99.0</td><td>7</td><td>1</td></tr><tr><td>1993</td><td>Ayrton Senna</td><td>Brazilian</td><td>73.0</td><td>5</td><td>2</td></tr><tr><td>1993</td><td>Damon Hill</td><td>British</td><td>69.0</td><td>3</td><td>3</td></tr><tr><td>1993</td><td>Michael Schumacher</td><td>German</td><td>52.0</td><td>1</td><td>4</td></tr><tr><td>1993</td><td>Riccardo Patrese</td><td>Italian</td><td>20.0</td><td>0</td><td>5</td></tr><tr><td>1993</td><td>Jean Alesi</td><td>French</td><td>16.0</td><td>0</td><td>6</td></tr><tr><td>1993</td><td>Martin Brundle</td><td>British</td><td>13.0</td><td>0</td><td>7</td></tr><tr><td>1993</td><td>Gerhard Berger</td><td>Austrian</td><td>12.0</td><td>0</td><td>8</td></tr><tr><td>1993</td><td>Johnny Herbert</td><td>British</td><td>11.0</td><td>0</td><td>9</td></tr><tr><td>1993</td><td>Mark Blundell</td><td>British</td><td>10.0</td><td>0</td><td>10</td></tr><tr><td>1993</td><td>Michael Andretti</td><td>American</td><td>7.0</td><td>0</td><td>11</td></tr><tr><td>1993</td><td>Karl Wendlinger</td><td>Austrian</td><td>7.0</td><td>0</td><td>11</td></tr><tr><td>1993</td><td>Christian Fittipaldi</td><td>Brazilian</td><td>5.0</td><td>0</td><td>13</td></tr><tr><td>1993</td><td>Jyrki Järvilehto</td><td>Finnish</td><td>5.0</td><td>0</td><td>13</td></tr><tr><td>1993</td><td>Mika Häkkinen</td><td>Finnish</td><td>4.0</td><td>0</td><td>15</td></tr><tr><td>1993</td><td>Derek Warwick</td><td>British</td><td>4.0</td><td>0</td><td>15</td></tr><tr><td>1993</td><td>Philippe Alliot</td><td>French</td><td>2.0</td><td>0</td><td>17</td></tr><tr><td>1993</td><td>Fabrizio Barbazza</td><td>Italian</td><td>2.0</td><td>0</td><td>17</td></tr><tr><td>1993</td><td>Rubens Barrichello</td><td>Brazilian</td><td>2.0</td><td>0</td><td>17</td></tr><tr><td>1993</td><td>Alessandro Zanardi</td><td>Italian</td><td>1.0</td><td>0</td><td>20</td></tr><tr><td>1993</td><td>Érik Comas</td><td>French</td><td>1.0</td><td>0</td><td>20</td></tr><tr><td>1993</td><td>Eddie Irvine</td><td>British</td><td>1.0</td><td>0</td><td>20</td></tr><tr><td>1993</td><td>Ukyo Katayama</td><td>Japanese</td><td>0.0</td><td>0</td><td>23</td></tr><tr><td>1993</td><td>Michele Alboreto</td><td>Italian</td><td>0.0</td><td>0</td><td>23</td></tr><tr><td>1993</td><td>Toshio Suzuki</td><td>Japanese</td><td>0.0</td><td>0</td><td>23</td></tr><tr><td>1993</td><td>Marco Apicella</td><td>Italian</td><td>0.0</td><td>0</td><td>23</td></tr><tr><td>1993</td><td>Emanuele Naspetti</td><td>Italian</td><td>0.0</td><td>0</td><td>23</td></tr><tr><td>1993</td><td>Andrea de Cesaris</td><td>Italian</td><td>0.0</td><td>0</td><td>23</td></tr><tr><td>1993</td><td>Aguri Suzuki</td><td>Japanese</td><td>0.0</td><td>0</td><td>23</td></tr><tr><td>1993</td><td>Pedro Lamy</td><td>Portuguese</td><td>0.0</td><td>0</td><td>23</td></tr><tr><td>1993</td><td>Pierluigi Martini</td><td>Italian</td><td>0.0</td><td>0</td><td>23</td></tr><tr><td>1993</td><td>Thierry Boutsen</td><td>Belgian</td><td>0.0</td><td>0</td><td>23</td></tr><tr><td>1993</td><td>Jean-Marc Gounon</td><td>French</td><td>0.0</td><td>0</td><td>23</td></tr><tr><td>1993</td><td>Ivan Capelli</td><td>Italian</td><td>0.0</td><td>0</td><td>23</td></tr><tr><td>1993</td><td>Luca Badoer</td><td>Italian</td><td>0.0</td><td>0</td><td>23</td></tr><tr><td>1994</td><td>Michael Schumacher</td><td>German</td><td>92.0</td><td>8</td><td>1</td></tr><tr><td>1994</td><td>Damon Hill</td><td>British</td><td>91.0</td><td>6</td><td>2</td></tr><tr><td>1994</td><td>Gerhard Berger</td><td>Austrian</td><td>41.0</td><td>1</td><td>3</td></tr><tr><td>1994</td><td>Mika Häkkinen</td><td>Finnish</td><td>26.0</td><td>0</td><td>4</td></tr><tr><td>1994</td><td>Jean Alesi</td><td>French</td><td>24.0</td><td>0</td><td>5</td></tr><tr><td>1994</td><td>Rubens Barrichello</td><td>Brazilian</td><td>19.0</td><td>0</td><td>6</td></tr><tr><td>1994</td><td>Martin Brundle</td><td>British</td><td>16.0</td><td>0</td><td>7</td></tr><tr><td>1994</td><td>David Coulthard</td><td>British</td><td>14.0</td><td>0</td><td>8</td></tr><tr><td>1994</td><td>Nigel Mansell</td><td>British</td><td>13.0</td><td>1</td><td>9</td></tr><tr><td>1994</td><td>Jos Verstappen</td><td>Dutch</td><td>10.0</td><td>0</td><td>10</td></tr><tr><td>1994</td><td>Olivier Panis</td><td>French</td><td>9.0</td><td>0</td><td>11</td></tr><tr><td>1994</td><td>Mark Blundell</td><td>British</td><td>8.0</td><td>0</td><td>12</td></tr><tr><td>1994</td><td>Heinz-Harald Frentzen</td><td>German</td><td>7.0</td><td>0</td><td>13</td></tr><tr><td>1994</td><td>Christian Fittipaldi</td><td>Brazilian</td><td>6.0</td><td>0</td><td>14</td></tr><tr><td>1994</td><td>Nicola Larini</td><td>Italian</td><td>6.0</td><td>0</td><td>14</td></tr><tr><td>1994</td><td>Eddie Irvine</td><td>British</td><td>6.0</td><td>0</td><td>14</td></tr><tr><td>1994</td><td>Ukyo Katayama</td><td>Japanese</td><td>5.0</td><td>0</td><td>17</td></tr><tr><td>1994</td><td>Éric Bernard</td><td>French</td><td>4.0</td><td>0</td><td>18</td></tr><tr><td>1994</td><td>Karl Wendlinger</td><td>Austrian</td><td>4.0</td><td>0</td><td>18</td></tr><tr><td>1994</td><td>Pierluigi Martini</td><td>Italian</td><td>4.0</td><td>0</td><td>18</td></tr><tr><td>1994</td><td>Andrea de Cesaris</td><td>Italian</td><td>4.0</td><td>0</td><td>18</td></tr><tr><td>1994</td><td>Gianni Morbidelli</td><td>Italian</td><td>3.0</td><td>0</td><td>22</td></tr><tr><td>1994</td><td>Érik Comas</td><td>French</td><td>2.0</td><td>0</td><td>23</td></tr><tr><td>1994</td><td>Jyrki Järvilehto</td><td>Finnish</td><td>1.0</td><td>0</td><td>24</td></tr><tr><td>1994</td><td>Michele Alboreto</td><td>Italian</td><td>1.0</td><td>0</td><td>24</td></tr><tr><td>1994</td><td>Roland Ratzenberger</td><td>Austrian</td><td>0.0</td><td>0</td><td>26</td></tr><tr><td>1994</td><td>Philippe Adams</td><td>Belgian</td><td>0.0</td><td>0</td><td>26</td></tr><tr><td>1994</td><td>Philippe Alliot</td><td>French</td><td>0.0</td><td>0</td><td>26</td></tr><tr><td>1994</td><td>Franck Lagorce</td><td>French</td><td>0.0</td><td>0</td><td>26</td></tr><tr><td>1994</td><td>Alessandro Zanardi</td><td>Italian</td><td>0.0</td><td>0</td><td>26</td></tr><tr><td>1994</td><td>Olivier Beretta</td><td>Monegasque</td><td>0.0</td><td>0</td><td>26</td></tr><tr><td>1994</td><td>Jean-Denis Délétraz</td><td>Swiss</td><td>0.0</td><td>0</td><td>26</td></tr><tr><td>1994</td><td>Domenico Schiattarella</td><td>Italian</td><td>0.0</td><td>0</td><td>26</td></tr><tr><td>1994</td><td>Taki Inoue</td><td>Japanese</td><td>0.0</td><td>0</td><td>26</td></tr><tr><td>1994</td><td>Pedro Lamy</td><td>Portuguese</td><td>0.0</td><td>0</td><td>26</td></tr><tr><td>1994</td><td>Hideki Noda</td><td>Japanese</td><td>0.0</td><td>0</td><td>26</td></tr><tr><td>1994</td><td>Yannick Dalmas</td><td>French</td><td>0.0</td><td>0</td><td>26</td></tr><tr><td>1994</td><td>David Brabham</td><td>Australian</td><td>0.0</td><td>0</td><td>26</td></tr><tr><td>1994</td><td>Bertrand Gachot</td><td>Belgian</td><td>0.0</td><td>0</td><td>26</td></tr><tr><td>1994</td><td>Aguri Suzuki</td><td>Japanese</td><td>0.0</td><td>0</td><td>26</td></tr><tr><td>1994</td><td>Mika Salo</td><td>Finnish</td><td>0.0</td><td>0</td><td>26</td></tr><tr><td>1994</td><td>Johnny Herbert</td><td>British</td><td>0.0</td><td>0</td><td>26</td></tr><tr><td>1994</td><td>Paul Belmondo</td><td>French</td><td>0.0</td><td>0</td><td>26</td></tr><tr><td>1994</td><td>Jean-Marc Gounon</td><td>French</td><td>0.0</td><td>0</td><td>26</td></tr><tr><td>1994</td><td>Andrea Montermini</td><td>Italian</td><td>0.0</td><td>0</td><td>26</td></tr><tr><td>1994</td><td>Ayrton Senna</td><td>Brazilian</td><td>0.0</td><td>0</td><td>26</td></tr><tr><td>1995</td><td>Michael Schumacher</td><td>German</td><td>102.0</td><td>9</td><td>1</td></tr><tr><td>1995</td><td>Damon Hill</td><td>British</td><td>69.0</td><td>4</td><td>2</td></tr><tr><td>1995</td><td>David Coulthard</td><td>British</td><td>49.0</td><td>1</td><td>3</td></tr><tr><td>1995</td><td>Johnny Herbert</td><td>British</td><td>45.0</td><td>2</td><td>4</td></tr><tr><td>1995</td><td>Jean Alesi</td><td>French</td><td>42.0</td><td>1</td><td>5</td></tr><tr><td>1995</td><td>Gerhard Berger</td><td>Austrian</td><td>31.0</td><td>0</td><td>6</td></tr><tr><td>1995</td><td>Mika Häkkinen</td><td>Finnish</td><td>17.0</td><td>0</td><td>7</td></tr><tr><td>1995</td><td>Olivier Panis</td><td>French</td><td>16.0</td><td>0</td><td>8</td></tr><tr><td>1995</td><td>Heinz-Harald Frentzen</td><td>German</td><td>15.0</td><td>0</td><td>9</td></tr><tr><td>1995</td><td>Mark Blundell</td><td>British</td><td>13.0</td><td>0</td><td>10</td></tr><tr><td>1995</td><td>Rubens Barrichello</td><td>Brazilian</td><td>11.0</td><td>0</td><td>11</td></tr><tr><td>1995</td><td>Eddie Irvine</td><td>British</td><td>10.0</td><td>0</td><td>12</td></tr><tr><td>1995</td><td>Martin Brundle</td><td>British</td><td>7.0</td><td>0</td><td>13</td></tr><tr><td>1995</td><td>Mika Salo</td><td>Finnish</td><td>5.0</td><td>0</td><td>14</td></tr><tr><td>1995</td><td>Gianni Morbidelli</td><td>Italian</td><td>5.0</td><td>0</td><td>14</td></tr><tr><td>1995</td><td>Jean-Christophe Boullion</td><td>French</td><td>3.0</td><td>0</td><td>16</td></tr><tr><td>1995</td><td>Pedro Lamy</td><td>Portuguese</td><td>1.0</td><td>0</td><td>17</td></tr><tr><td>1995</td><td>Aguri Suzuki</td><td>Japanese</td><td>1.0</td><td>0</td><td>17</td></tr><tr><td>1995</td><td>Luca Badoer</td><td>Italian</td><td>0.0</td><td>0</td><td>19</td></tr><tr><td>1995</td><td>Pierluigi Martini</td><td>Italian</td><td>0.0</td><td>0</td><td>19</td></tr><tr><td>1995</td><td>Roberto Moreno</td><td>Brazilian</td><td>0.0</td><td>0</td><td>19</td></tr><tr><td>1995</td><td>Bertrand Gachot</td><td>Belgian</td><td>0.0</td><td>0</td><td>19</td></tr><tr><td>1995</td><td>Gabriele Tarquini</td><td>Italian</td><td>0.0</td><td>0</td><td>19</td></tr><tr><td>1995</td><td>Taki Inoue</td><td>Japanese</td><td>0.0</td><td>0</td><td>19</td></tr><tr><td>1995</td><td>Giovanni Lavaggi</td><td>Italian</td><td>0.0</td><td>0</td><td>19</td></tr><tr><td>1995</td><td>Andrea Montermini</td><td>Italian</td><td>0.0</td><td>0</td><td>19</td></tr><tr><td>1995</td><td>Karl Wendlinger</td><td>Austrian</td><td>0.0</td><td>0</td><td>19</td></tr><tr><td>1995</td><td>Ukyo Katayama</td><td>Japanese</td><td>0.0</td><td>0</td><td>19</td></tr><tr><td>1995</td><td>Pedro Diniz</td><td>Brazilian</td><td>0.0</td><td>0</td><td>19</td></tr><tr><td>1995</td><td>Jan Magnussen</td><td>Danish</td><td>0.0</td><td>0</td><td>19</td></tr><tr><td>1995</td><td>Domenico Schiattarella</td><td>Italian</td><td>0.0</td><td>0</td><td>19</td></tr><tr><td>1995</td><td>Jos Verstappen</td><td>Dutch</td><td>0.0</td><td>0</td><td>19</td></tr><tr><td>1995</td><td>Jean-Denis Délétraz</td><td>Swiss</td><td>0.0</td><td>0</td><td>19</td></tr><tr><td>1995</td><td>Nigel Mansell</td><td>British</td><td>0.0</td><td>0</td><td>19</td></tr><tr><td>1995</td><td>Massimiliano Papis</td><td>Italian</td><td>0.0</td><td>0</td><td>19</td></tr><tr><td>1996</td><td>Damon Hill</td><td>British</td><td>97.0</td><td>8</td><td>1</td></tr><tr><td>1996</td><td>Jacques Villeneuve</td><td>Canadian</td><td>78.0</td><td>4</td><td>2</td></tr><tr><td>1996</td><td>Michael Schumacher</td><td>German</td><td>59.0</td><td>3</td><td>3</td></tr><tr><td>1996</td><td>Jean Alesi</td><td>French</td><td>47.0</td><td>0</td><td>4</td></tr><tr><td>1996</td><td>Mika Häkkinen</td><td>Finnish</td><td>31.0</td><td>0</td><td>5</td></tr><tr><td>1996</td><td>Gerhard Berger</td><td>Austrian</td><td>21.0</td><td>0</td><td>6</td></tr><tr><td>1996</td><td>David Coulthard</td><td>British</td><td>18.0</td><td>0</td><td>7</td></tr><tr><td>1996</td><td>Rubens Barrichello</td><td>Brazilian</td><td>14.0</td><td>0</td><td>8</td></tr><tr><td>1996</td><td>Olivier Panis</td><td>French</td><td>13.0</td><td>1</td><td>9</td></tr><tr><td>1996</td><td>Eddie Irvine</td><td>British</td><td>11.0</td><td>0</td><td>10</td></tr><tr><td>1996</td><td>Martin Brundle</td><td>British</td><td>8.0</td><td>0</td><td>11</td></tr><tr><td>1996</td><td>Heinz-Harald Frentzen</td><td>German</td><td>7.0</td><td>0</td><td>12</td></tr><tr><td>1996</td><td>Mika Salo</td><td>Finnish</td><td>5.0</td><td>0</td><td>13</td></tr><tr><td>1996</td><td>Johnny Herbert</td><td>British</td><td>4.0</td><td>0</td><td>14</td></tr><tr><td>1996</td><td>Pedro Diniz</td><td>Brazilian</td><td>2.0</td><td>0</td><td>15</td></tr><tr><td>1996</td><td>Jos Verstappen</td><td>Dutch</td><td>1.0</td><td>0</td><td>16</td></tr><tr><td>1996</td><td>Giovanni Lavaggi</td><td>Italian</td><td>0.0</td><td>0</td><td>17</td></tr><tr><td>1996</td><td>Andrea Montermini</td><td>Italian</td><td>0.0</td><td>0</td><td>17</td></tr><tr><td>1996</td><td>Tarso Marques</td><td>Brazilian</td><td>0.0</td><td>0</td><td>17</td></tr><tr><td>1996</td><td>Giancarlo Fisichella</td><td>Italian</td><td>0.0</td><td>0</td><td>17</td></tr><tr><td>1996</td><td>Ukyo Katayama</td><td>Japanese</td><td>0.0</td><td>0</td><td>17</td></tr><tr><td>1996</td><td>Luca Badoer</td><td>Italian</td><td>0.0</td><td>0</td><td>17</td></tr><tr><td>1996</td><td>Pedro Lamy</td><td>Portuguese</td><td>0.0</td><td>0</td><td>17</td></tr><tr><td>1996</td><td>Ricardo Rosset</td><td>Brazilian</td><td>0.0</td><td>0</td><td>17</td></tr><tr><td>1997</td><td>Jacques Villeneuve</td><td>Canadian</td><td>81.0</td><td>7</td><td>1</td></tr><tr><td>1997</td><td>Michael Schumacher</td><td>German</td><td>78.0</td><td>5</td><td>2</td></tr><tr><td>1997</td><td>Heinz-Harald Frentzen</td><td>German</td><td>42.0</td><td>1</td><td>3</td></tr><tr><td>1997</td><td>David Coulthard</td><td>British</td><td>36.0</td><td>2</td><td>4</td></tr><tr><td>1997</td><td>Jean Alesi</td><td>French</td><td>36.0</td><td>0</td><td>5</td></tr><tr><td>1997</td><td>Mika Häkkinen</td><td>Finnish</td><td>27.0</td><td>1</td><td>6</td></tr><tr><td>1997</td><td>Gerhard Berger</td><td>Austrian</td><td>27.0</td><td>1</td><td>6</td></tr><tr><td>1997</td><td>Eddie Irvine</td><td>British</td><td>24.0</td><td>0</td><td>8</td></tr><tr><td>1997</td><td>Giancarlo Fisichella</td><td>Italian</td><td>20.0</td><td>0</td><td>9</td></tr><tr><td>1997</td><td>Olivier Panis</td><td>French</td><td>16.0</td><td>0</td><td>10</td></tr><tr><td>1997</td><td>Johnny Herbert</td><td>British</td><td>15.0</td><td>0</td><td>11</td></tr><tr><td>1997</td><td>Ralf Schumacher</td><td>German</td><td>13.0</td><td>0</td><td>12</td></tr><tr><td>1997</td><td>Damon Hill</td><td>British</td><td>7.0</td><td>0</td><td>13</td></tr><tr><td>1997</td><td>Rubens Barrichello</td><td>Brazilian</td><td>6.0</td><td>0</td><td>14</td></tr><tr><td>1997</td><td>Alexander Wurz</td><td>Austrian</td><td>4.0</td><td>0</td><td>15</td></tr><tr><td>1997</td><td>Jarno Trulli</td><td>Italian</td><td>3.0</td><td>0</td><td>16</td></tr><tr><td>1997</td><td>Mika Salo</td><td>Finnish</td><td>2.0</td><td>0</td><td>17</td></tr><tr><td>1997</td><td>Pedro Diniz</td><td>Brazilian</td><td>2.0</td><td>0</td><td>17</td></tr><tr><td>1997</td><td>Shinji Nakano</td><td>Japanese</td><td>2.0</td><td>0</td><td>17</td></tr><tr><td>1997</td><td>Nicola Larini</td><td>Italian</td><td>1.0</td><td>0</td><td>20</td></tr><tr><td>1997</td><td>Jos Verstappen</td><td>Dutch</td><td>0.0</td><td>0</td><td>21</td></tr><tr><td>1997</td><td>Jan Magnussen</td><td>Danish</td><td>0.0</td><td>0</td><td>21</td></tr><tr><td>1997</td><td>Ukyo Katayama</td><td>Japanese</td><td>0.0</td><td>0</td><td>21</td></tr><tr><td>1997</td><td>Norberto Fontana</td><td>Argentine</td><td>0.0</td><td>0</td><td>21</td></tr><tr><td>1997</td><td>Gianni Morbidelli</td><td>Italian</td><td>0.0</td><td>0</td><td>21</td></tr><tr><td>1997</td><td>Tarso Marques</td><td>Brazilian</td><td>0.0</td><td>0</td><td>21</td></tr><tr><td>1997</td><td>Ricardo Rosset</td><td>Brazilian</td><td>0.0</td><td>0</td><td>21</td></tr><tr><td>1997</td><td>Vincenzo Sospiri</td><td>Italian</td><td>0.0</td><td>0</td><td>21</td></tr><tr><td>1998</td><td>Mika Häkkinen</td><td>Finnish</td><td>100.0</td><td>8</td><td>1</td></tr><tr><td>1998</td><td>Michael Schumacher</td><td>German</td><td>86.0</td><td>6</td><td>2</td></tr><tr><td>1998</td><td>David Coulthard</td><td>British</td><td>56.0</td><td>1</td><td>3</td></tr><tr><td>1998</td><td>Eddie Irvine</td><td>British</td><td>47.0</td><td>0</td><td>4</td></tr><tr><td>1998</td><td>Jacques Villeneuve</td><td>Canadian</td><td>21.0</td><td>0</td><td>5</td></tr><tr><td>1998</td><td>Damon Hill</td><td>British</td><td>20.0</td><td>1</td><td>6</td></tr><tr><td>1998</td><td>Alexander Wurz</td><td>Austrian</td><td>17.0</td><td>0</td><td>7</td></tr><tr><td>1998</td><td>Heinz-Harald Frentzen</td><td>German</td><td>17.0</td><td>0</td><td>7</td></tr><tr><td>1998</td><td>Giancarlo Fisichella</td><td>Italian</td><td>16.0</td><td>0</td><td>9</td></tr><tr><td>1998</td><td>Ralf Schumacher</td><td>German</td><td>14.0</td><td>0</td><td>10</td></tr><tr><td>1998</td><td>Jean Alesi</td><td>French</td><td>9.0</td><td>0</td><td>11</td></tr><tr><td>1998</td><td>Rubens Barrichello</td><td>Brazilian</td><td>4.0</td><td>0</td><td>12</td></tr><tr><td>1998</td><td>Pedro Diniz</td><td>Brazilian</td><td>3.0</td><td>0</td><td>13</td></tr><tr><td>1998</td><td>Mika Salo</td><td>Finnish</td><td>3.0</td><td>0</td><td>13</td></tr><tr><td>1998</td><td>Johnny Herbert</td><td>British</td><td>1.0</td><td>0</td><td>15</td></tr><tr><td>1998</td><td>Jarno Trulli</td><td>Italian</td><td>1.0</td><td>0</td><td>15</td></tr><tr><td>1998</td><td>Jan Magnussen</td><td>Danish</td><td>1.0</td><td>0</td><td>15</td></tr><tr><td>1998</td><td>Jos Verstappen</td><td>Dutch</td><td>0.0</td><td>0</td><td>18</td></tr><tr><td>1998</td><td>Olivier Panis</td><td>French</td><td>0.0</td><td>0</td><td>18</td></tr><tr><td>1998</td><td>Shinji Nakano</td><td>Japanese</td><td>0.0</td><td>0</td><td>18</td></tr><tr><td>1998</td><td>Toranosuke Takagi</td><td>Japanese</td><td>0.0</td><td>0</td><td>18</td></tr><tr><td>1998</td><td>Ricardo Rosset</td><td>Brazilian</td><td>0.0</td><td>0</td><td>18</td></tr><tr><td>1998</td><td>Esteban Tuero</td><td>Argentine</td><td>0.0</td><td>0</td><td>18</td></tr><tr><td>1999</td><td>Mika Häkkinen</td><td>Finnish</td><td>76.0</td><td>5</td><td>1</td></tr><tr><td>1999</td><td>Eddie Irvine</td><td>British</td><td>74.0</td><td>4</td><td>2</td></tr><tr><td>1999</td><td>Heinz-Harald Frentzen</td><td>German</td><td>54.0</td><td>2</td><td>3</td></tr><tr><td>1999</td><td>David Coulthard</td><td>British</td><td>48.0</td><td>2</td><td>4</td></tr><tr><td>1999</td><td>Michael Schumacher</td><td>German</td><td>44.0</td><td>2</td><td>5</td></tr><tr><td>1999</td><td>Ralf Schumacher</td><td>German</td><td>35.0</td><td>0</td><td>6</td></tr><tr><td>1999</td><td>Rubens Barrichello</td><td>Brazilian</td><td>21.0</td><td>0</td><td>7</td></tr><tr><td>1999</td><td>Johnny Herbert</td><td>British</td><td>15.0</td><td>1</td><td>8</td></tr><tr><td>1999</td><td>Giancarlo Fisichella</td><td>Italian</td><td>13.0</td><td>0</td><td>9</td></tr><tr><td>1999</td><td>Mika Salo</td><td>Finnish</td><td>10.0</td><td>0</td><td>10</td></tr><tr><td>1999</td><td>Damon Hill</td><td>British</td><td>7.0</td><td>0</td><td>11</td></tr><tr><td>1999</td><td>Jarno Trulli</td><td>Italian</td><td>7.0</td><td>0</td><td>11</td></tr><tr><td>1999</td><td>Pedro Diniz</td><td>Brazilian</td><td>3.0</td><td>0</td><td>13</td></tr><tr><td>1999</td><td>Alexander Wurz</td><td>Austrian</td><td>3.0</td><td>0</td><td>13</td></tr><tr><td>1999</td><td>Jean Alesi</td><td>French</td><td>2.0</td><td>0</td><td>15</td></tr><tr><td>1999</td><td>Olivier Panis</td><td>French</td><td>2.0</td><td>0</td><td>15</td></tr><tr><td>1999</td><td>Marc Gené</td><td>Spanish</td><td>1.0</td><td>0</td><td>17</td></tr><tr><td>1999</td><td>Pedro de la Rosa</td><td>Spanish</td><td>1.0</td><td>0</td><td>17</td></tr><tr><td>1999</td><td>Luca Badoer</td><td>Italian</td><td>0.0</td><td>0</td><td>19</td></tr><tr><td>1999</td><td>Ricardo Zonta</td><td>Brazilian</td><td>0.0</td><td>0</td><td>19</td></tr><tr><td>1999</td><td>Toranosuke Takagi</td><td>Japanese</td><td>0.0</td><td>0</td><td>19</td></tr><tr><td>1999</td><td>Alessandro Zanardi</td><td>Italian</td><td>0.0</td><td>0</td><td>19</td></tr><tr><td>1999</td><td>Stéphane Sarrazin</td><td>French</td><td>0.0</td><td>0</td><td>19</td></tr><tr><td>1999</td><td>Jacques Villeneuve</td><td>Canadian</td><td>0.0</td><td>0</td><td>19</td></tr><tr><td>2000</td><td>Michael Schumacher</td><td>German</td><td>108.0</td><td>9</td><td>1</td></tr><tr><td>2000</td><td>Mika Häkkinen</td><td>Finnish</td><td>89.0</td><td>4</td><td>2</td></tr><tr><td>2000</td><td>David Coulthard</td><td>British</td><td>73.0</td><td>3</td><td>3</td></tr><tr><td>2000</td><td>Rubens Barrichello</td><td>Brazilian</td><td>62.0</td><td>1</td><td>4</td></tr><tr><td>2000</td><td>Ralf Schumacher</td><td>German</td><td>24.0</td><td>0</td><td>5</td></tr><tr><td>2000</td><td>Giancarlo Fisichella</td><td>Italian</td><td>18.0</td><td>0</td><td>6</td></tr><tr><td>2000</td><td>Jacques Villeneuve</td><td>Canadian</td><td>17.0</td><td>0</td><td>7</td></tr><tr><td>2000</td><td>Jenson Button</td><td>British</td><td>12.0</td><td>0</td><td>8</td></tr><tr><td>2000</td><td>Heinz-Harald Frentzen</td><td>German</td><td>11.0</td><td>0</td><td>9</td></tr><tr><td>2000</td><td>Jarno Trulli</td><td>Italian</td><td>6.0</td><td>0</td><td>10</td></tr><tr><td>2000</td><td>Mika Salo</td><td>Finnish</td><td>6.0</td><td>0</td><td>10</td></tr><tr><td>2000</td><td>Jos Verstappen</td><td>Dutch</td><td>5.0</td><td>0</td><td>12</td></tr><tr><td>2000</td><td>Eddie Irvine</td><td>British</td><td>4.0</td><td>0</td><td>13</td></tr><tr><td>2000</td><td>Ricardo Zonta</td><td>Brazilian</td><td>3.0</td><td>0</td><td>14</td></tr><tr><td>2000</td><td>Alexander Wurz</td><td>Austrian</td><td>2.0</td><td>0</td><td>15</td></tr><tr><td>2000</td><td>Pedro de la Rosa</td><td>Spanish</td><td>2.0</td><td>0</td><td>15</td></tr><tr><td>2000</td><td>Johnny Herbert</td><td>British</td><td>0.0</td><td>0</td><td>17</td></tr><tr><td>2000</td><td>Luciano Burti</td><td>Brazilian</td><td>0.0</td><td>0</td><td>17</td></tr><tr><td>2000</td><td>Jean Alesi</td><td>French</td><td>0.0</td><td>0</td><td>17</td></tr><tr><td>2000</td><td>Nick Heidfeld</td><td>German</td><td>0.0</td><td>0</td><td>17</td></tr><tr><td>2000</td><td>Gastón Mazzacane</td><td>Argentine</td><td>0.0</td><td>0</td><td>17</td></tr><tr><td>2000</td><td>Marc Gené</td><td>Spanish</td><td>0.0</td><td>0</td><td>17</td></tr><tr><td>2000</td><td>Pedro Diniz</td><td>Brazilian</td><td>0.0</td><td>0</td><td>17</td></tr><tr><td>2001</td><td>Michael Schumacher</td><td>German</td><td>123.0</td><td>9</td><td>1</td></tr><tr><td>2001</td><td>David Coulthard</td><td>British</td><td>65.0</td><td>2</td><td>2</td></tr><tr><td>2001</td><td>Rubens Barrichello</td><td>Brazilian</td><td>56.0</td><td>0</td><td>3</td></tr><tr><td>2001</td><td>Ralf Schumacher</td><td>German</td><td>49.0</td><td>3</td><td>4</td></tr><tr><td>2001</td><td>Mika Häkkinen</td><td>Finnish</td><td>37.0</td><td>2</td><td>5</td></tr><tr><td>2001</td><td>Juan Pablo Montoya</td><td>Colombian</td><td>31.0</td><td>1</td><td>6</td></tr><tr><td>2001</td><td>Jacques Villeneuve</td><td>Canadian</td><td>12.0</td><td>0</td><td>7</td></tr><tr><td>2001</td><td>Jarno Trulli</td><td>Italian</td><td>12.0</td><td>0</td><td>7</td></tr><tr><td>2001</td><td>Nick Heidfeld</td><td>German</td><td>12.0</td><td>0</td><td>7</td></tr><tr><td>2001</td><td>Kimi Räikkönen</td><td>Finnish</td><td>9.0</td><td>0</td><td>10</td></tr><tr><td>2001</td><td>Giancarlo Fisichella</td><td>Italian</td><td>8.0</td><td>0</td><td>11</td></tr><tr><td>2001</td><td>Heinz-Harald Frentzen</td><td>German</td><td>6.0</td><td>0</td><td>12</td></tr><tr><td>2001</td><td>Eddie Irvine</td><td>British</td><td>6.0</td><td>0</td><td>12</td></tr><tr><td>2001</td><td>Jean Alesi</td><td>French</td><td>5.0</td><td>0</td><td>14</td></tr><tr><td>2001</td><td>Olivier Panis</td><td>French</td><td>5.0</td><td>0</td><td>14</td></tr><tr><td>2001</td><td>Pedro de la Rosa</td><td>Spanish</td><td>3.0</td><td>0</td><td>16</td></tr><tr><td>2001</td><td>Jenson Button</td><td>British</td><td>2.0</td><td>0</td><td>17</td></tr><tr><td>2001</td><td>Jos Verstappen</td><td>Dutch</td><td>1.0</td><td>0</td><td>18</td></tr><tr><td>2001</td><td>Tarso Marques</td><td>Brazilian</td><td>0.0</td><td>0</td><td>19</td></tr><tr><td>2001</td><td>Enrique Bernoldi</td><td>Brazilian</td><td>0.0</td><td>0</td><td>19</td></tr><tr><td>2001</td><td>Alex Yoong</td><td>Malaysian</td><td>0.0</td><td>0</td><td>19</td></tr><tr><td>2001</td><td>Gastón Mazzacane</td><td>Argentine</td><td>0.0</td><td>0</td><td>19</td></tr><tr><td>2001</td><td>Ricardo Zonta</td><td>Brazilian</td><td>0.0</td><td>0</td><td>19</td></tr><tr><td>2001</td><td>Fernando Alonso</td><td>Spanish</td><td>0.0</td><td>0</td><td>19</td></tr><tr><td>2001</td><td>Luciano Burti</td><td>Brazilian</td><td>0.0</td><td>0</td><td>19</td></tr><tr><td>2001</td><td>Tomáš Enge</td><td>Czech</td><td>0.0</td><td>0</td><td>19</td></tr><tr><td>2002</td><td>Michael Schumacher</td><td>German</td><td>144.0</td><td>11</td><td>1</td></tr><tr><td>2002</td><td>Rubens Barrichello</td><td>Brazilian</td><td>77.0</td><td>4</td><td>2</td></tr><tr><td>2002</td><td>Juan Pablo Montoya</td><td>Colombian</td><td>50.0</td><td>0</td><td>3</td></tr><tr><td>2002</td><td>Ralf Schumacher</td><td>German</td><td>42.0</td><td>1</td><td>4</td></tr><tr><td>2002</td><td>David Coulthard</td><td>British</td><td>41.0</td><td>1</td><td>5</td></tr><tr><td>2002</td><td>Kimi Räikkönen</td><td>Finnish</td><td>24.0</td><td>0</td><td>6</td></tr><tr><td>2002</td><td>Jenson Button</td><td>British</td><td>14.0</td><td>0</td><td>7</td></tr><tr><td>2002</td><td>Jarno Trulli</td><td>Italian</td><td>9.0</td><td>0</td><td>8</td></tr><tr><td>2002</td><td>Eddie Irvine</td><td>British</td><td>8.0</td><td>0</td><td>9</td></tr><tr><td>2002</td><td>Nick Heidfeld</td><td>German</td><td>7.0</td><td>0</td><td>10</td></tr><tr><td>2002</td><td>Giancarlo Fisichella</td><td>Italian</td><td>7.0</td><td>0</td><td>10</td></tr><tr><td>2002</td><td>Felipe Massa</td><td>Brazilian</td><td>4.0</td><td>0</td><td>12</td></tr><tr><td>2002</td><td>Jacques Villeneuve</td><td>Canadian</td><td>4.0</td><td>0</td><td>12</td></tr><tr><td>2002</td><td>Olivier Panis</td><td>French</td><td>3.0</td><td>0</td><td>14</td></tr><tr><td>2002</td><td>Heinz-Harald Frentzen</td><td>German</td><td>2.0</td><td>0</td><td>15</td></tr><tr><td>2002</td><td>Mark Webber</td><td>Australian</td><td>2.0</td><td>0</td><td>15</td></tr><tr><td>2002</td><td>Mika Salo</td><td>Finnish</td><td>2.0</td><td>0</td><td>15</td></tr><tr><td>2002</td><td>Takuma Sato</td><td>Japanese</td><td>2.0</td><td>0</td><td>15</td></tr><tr><td>2002</td><td>Allan McNish</td><td>British</td><td>0.0</td><td>0</td><td>19</td></tr><tr><td>2002</td><td>Anthony Davidson</td><td>British</td><td>0.0</td><td>0</td><td>19</td></tr><tr><td>2002</td><td>Enrique Bernoldi</td><td>Brazilian</td><td>0.0</td><td>0</td><td>19</td></tr><tr><td>2002</td><td>Alex Yoong</td><td>Malaysian</td><td>0.0</td><td>0</td><td>19</td></tr><tr><td>2002</td><td>Pedro de la Rosa</td><td>Spanish</td><td>0.0</td><td>0</td><td>19</td></tr><tr><td>2003</td><td>Michael Schumacher</td><td>German</td><td>93.0</td><td>6</td><td>1</td></tr><tr><td>2003</td><td>Kimi Räikkönen</td><td>Finnish</td><td>91.0</td><td>1</td><td>2</td></tr><tr><td>2003</td><td>Juan Pablo Montoya</td><td>Colombian</td><td>82.0</td><td>2</td><td>3</td></tr><tr><td>2003</td><td>Rubens Barrichello</td><td>Brazilian</td><td>65.0</td><td>2</td><td>4</td></tr><tr><td>2003</td><td>Ralf Schumacher</td><td>German</td><td>58.0</td><td>2</td><td>5</td></tr><tr><td>2003</td><td>Fernando Alonso</td><td>Spanish</td><td>55.0</td><td>1</td><td>6</td></tr><tr><td>2003</td><td>David Coulthard</td><td>British</td><td>51.0</td><td>1</td><td>7</td></tr><tr><td>2003</td><td>Jarno Trulli</td><td>Italian</td><td>33.0</td><td>0</td><td>8</td></tr><tr><td>2003</td><td>Jenson Button</td><td>British</td><td>17.0</td><td>0</td><td>9</td></tr><tr><td>2003</td><td>Mark Webber</td><td>Australian</td><td>17.0</td><td>0</td><td>9</td></tr><tr><td>2003</td><td>Heinz-Harald Frentzen</td><td>German</td><td>13.0</td><td>0</td><td>11</td></tr><tr><td>2003</td><td>Giancarlo Fisichella</td><td>Italian</td><td>12.0</td><td>1</td><td>12</td></tr><tr><td>2003</td><td>Cristiano da Matta</td><td>Brazilian</td><td>10.0</td><td>0</td><td>13</td></tr><tr><td>2003</td><td>Jacques Villeneuve</td><td>Canadian</td><td>6.0</td><td>0</td><td>14</td></tr><tr><td>2003</td><td>Olivier Panis</td><td>French</td><td>6.0</td><td>0</td><td>14</td></tr><tr><td>2003</td><td>Nick Heidfeld</td><td>German</td><td>6.0</td><td>0</td><td>14</td></tr><tr><td>2003</td><td>Marc Gené</td><td>Spanish</td><td>4.0</td><td>0</td><td>17</td></tr><tr><td>2003</td><td>Takuma Sato</td><td>Japanese</td><td>3.0</td><td>0</td><td>18</td></tr><tr><td>2003</td><td>Ralph Firman</td><td>Irish</td><td>1.0</td><td>0</td><td>19</td></tr><tr><td>2003</td><td>Justin Wilson</td><td>British</td><td>1.0</td><td>0</td><td>19</td></tr><tr><td>2003</td><td>Jos Verstappen</td><td>Dutch</td><td>0.0</td><td>0</td><td>21</td></tr><tr><td>2003</td><td>Nicolas Kiesa</td><td>Danish</td><td>0.0</td><td>0</td><td>21</td></tr><tr><td>2003</td><td>Antônio Pizzonia</td><td>Brazilian</td><td>0.0</td><td>0</td><td>21</td></tr><tr><td>2003</td><td>Zsolt Baumgartner</td><td>Hungarian</td><td>0.0</td><td>0</td><td>21</td></tr><tr><td>2004</td><td>Michael Schumacher</td><td>German</td><td>148.0</td><td>13</td><td>1</td></tr><tr><td>2004</td><td>Rubens Barrichello</td><td>Brazilian</td><td>114.0</td><td>2</td><td>2</td></tr><tr><td>2004</td><td>Jenson Button</td><td>British</td><td>85.0</td><td>0</td><td>3</td></tr><tr><td>2004</td><td>Fernando Alonso</td><td>Spanish</td><td>59.0</td><td>0</td><td>4</td></tr><tr><td>2004</td><td>Juan Pablo Montoya</td><td>Colombian</td><td>58.0</td><td>1</td><td>5</td></tr><tr><td>2004</td><td>Jarno Trulli</td><td>Italian</td><td>46.0</td><td>1</td><td>6</td></tr><tr><td>2004</td><td>Kimi Räikkönen</td><td>Finnish</td><td>45.0</td><td>1</td><td>7</td></tr><tr><td>2004</td><td>Takuma Sato</td><td>Japanese</td><td>34.0</td><td>0</td><td>8</td></tr><tr><td>2004</td><td>Ralf Schumacher</td><td>German</td><td>24.0</td><td>0</td><td>9</td></tr><tr><td>2004</td><td>David Coulthard</td><td>British</td><td>24.0</td><td>0</td><td>9</td></tr><tr><td>2004</td><td>Giancarlo Fisichella</td><td>Italian</td><td>22.0</td><td>0</td><td>11</td></tr><tr><td>2004</td><td>Felipe Massa</td><td>Brazilian</td><td>12.0</td><td>0</td><td>12</td></tr><tr><td>2004</td><td>Mark Webber</td><td>Australian</td><td>7.0</td><td>0</td><td>13</td></tr><tr><td>2004</td><td>Olivier Panis</td><td>French</td><td>6.0</td><td>0</td><td>14</td></tr><tr><td>2004</td><td>Antônio Pizzonia</td><td>Brazilian</td><td>6.0</td><td>0</td><td>14</td></tr><tr><td>2004</td><td>Cristiano da Matta</td><td>Brazilian</td><td>3.0</td><td>0</td><td>16</td></tr><tr><td>2004</td><td>Nick Heidfeld</td><td>German</td><td>3.0</td><td>0</td><td>16</td></tr><tr><td>2004</td><td>Christian Klien</td><td>Austrian</td><td>3.0</td><td>0</td><td>16</td></tr><tr><td>2004</td><td>Timo Glock</td><td>German</td><td>2.0</td><td>0</td><td>19</td></tr><tr><td>2004</td><td>Zsolt Baumgartner</td><td>Hungarian</td><td>1.0</td><td>0</td><td>20</td></tr><tr><td>2004</td><td>Giorgio Pantano</td><td>Italian</td><td>0.0</td><td>0</td><td>21</td></tr><tr><td>2004</td><td>Marc Gené</td><td>Spanish</td><td>0.0</td><td>0</td><td>21</td></tr><tr><td>2004</td><td>Ricardo Zonta</td><td>Brazilian</td><td>0.0</td><td>0</td><td>21</td></tr><tr><td>2004</td><td>Gianmaria Bruni</td><td>Italian</td><td>0.0</td><td>0</td><td>21</td></tr><tr><td>2004</td><td>Jacques Villeneuve</td><td>Canadian</td><td>0.0</td><td>0</td><td>21</td></tr><tr><td>2005</td><td>Fernando Alonso</td><td>Spanish</td><td>133.0</td><td>7</td><td>1</td></tr><tr><td>2005</td><td>Kimi Räikkönen</td><td>Finnish</td><td>112.0</td><td>7</td><td>2</td></tr><tr><td>2005</td><td>Michael Schumacher</td><td>German</td><td>62.0</td><td>1</td><td>3</td></tr><tr><td>2005</td><td>Juan Pablo Montoya</td><td>Colombian</td><td>60.0</td><td>3</td><td>4</td></tr><tr><td>2005</td><td>Giancarlo Fisichella</td><td>Italian</td><td>58.0</td><td>1</td><td>5</td></tr><tr><td>2005</td><td>Ralf Schumacher</td><td>German</td><td>45.0</td><td>0</td><td>6</td></tr><tr><td>2005</td><td>Jarno Trulli</td><td>Italian</td><td>43.0</td><td>0</td><td>7</td></tr><tr><td>2005</td><td>Rubens Barrichello</td><td>Brazilian</td><td>38.0</td><td>0</td><td>8</td></tr><tr><td>2005</td><td>Jenson Button</td><td>British</td><td>37.0</td><td>0</td><td>9</td></tr><tr><td>2005</td><td>Mark Webber</td><td>Australian</td><td>36.0</td><td>0</td><td>10</td></tr><tr><td>2005</td><td>Nick Heidfeld</td><td>German</td><td>28.0</td><td>0</td><td>11</td></tr><tr><td>2005</td><td>David Coulthard</td><td>British</td><td>24.0</td><td>0</td><td>12</td></tr><tr><td>2005</td><td>Felipe Massa</td><td>Brazilian</td><td>11.0</td><td>0</td><td>13</td></tr><tr><td>2005</td><td>Jacques Villeneuve</td><td>Canadian</td><td>9.0</td><td>0</td><td>14</td></tr><tr><td>2005</td><td>Christian Klien</td><td>Austrian</td><td>9.0</td><td>0</td><td>14</td></tr><tr><td>2005</td><td>Tiago Monteiro</td><td>Portuguese</td><td>7.0</td><td>0</td><td>16</td></tr><tr><td>2005</td><td>Alexander Wurz</td><td>Austrian</td><td>6.0</td><td>0</td><td>17</td></tr><tr><td>2005</td><td>Narain Karthikeyan</td><td>Indian</td><td>5.0</td><td>0</td><td>18</td></tr><tr><td>2005</td><td>Christijan Albers</td><td>Dutch</td><td>4.0</td><td>0</td><td>19</td></tr><tr><td>2005</td><td>Pedro de la Rosa</td><td>Spanish</td><td>4.0</td><td>0</td><td>19</td></tr><tr><td>2005</td><td>Patrick Friesacher</td><td>Austrian</td><td>3.0</td><td>0</td><td>21</td></tr><tr><td>2005</td><td>Antônio Pizzonia</td><td>Brazilian</td><td>2.0</td><td>0</td><td>22</td></tr><tr><td>2005</td><td>Vitantonio Liuzzi</td><td>Italian</td><td>1.0</td><td>0</td><td>23</td></tr><tr><td>2005</td><td>Takuma Sato</td><td>Japanese</td><td>1.0</td><td>0</td><td>23</td></tr><tr><td>2005</td><td>Ricardo Zonta</td><td>Brazilian</td><td>0.0</td><td>0</td><td>25</td></tr><tr><td>2005</td><td>Anthony Davidson</td><td>British</td><td>0.0</td><td>0</td><td>25</td></tr><tr><td>2005</td><td>Robert Doornbos</td><td>Dutch</td><td>0.0</td><td>0</td><td>25</td></tr><tr><td>2006</td><td>Fernando Alonso</td><td>Spanish</td><td>134.0</td><td>7</td><td>1</td></tr><tr><td>2006</td><td>Michael Schumacher</td><td>German</td><td>121.0</td><td>7</td><td>2</td></tr><tr><td>2006</td><td>Felipe Massa</td><td>Brazilian</td><td>80.0</td><td>2</td><td>3</td></tr><tr><td>2006</td><td>Giancarlo Fisichella</td><td>Italian</td><td>72.0</td><td>1</td><td>4</td></tr><tr><td>2006</td><td>Kimi Räikkönen</td><td>Finnish</td><td>65.0</td><td>0</td><td>5</td></tr><tr><td>2006</td><td>Jenson Button</td><td>British</td><td>56.0</td><td>1</td><td>6</td></tr><tr><td>2006</td><td>Rubens Barrichello</td><td>Brazilian</td><td>30.0</td><td>0</td><td>7</td></tr><tr><td>2006</td><td>Juan Pablo Montoya</td><td>Colombian</td><td>26.0</td><td>0</td><td>8</td></tr><tr><td>2006</td><td>Nick Heidfeld</td><td>German</td><td>23.0</td><td>0</td><td>9</td></tr><tr><td>2006</td><td>Ralf Schumacher</td><td>German</td><td>20.0</td><td>0</td><td>10</td></tr><tr><td>2006</td><td>Pedro de la Rosa</td><td>Spanish</td><td>19.0</td><td>0</td><td>11</td></tr><tr><td>2006</td><td>Jarno Trulli</td><td>Italian</td><td>15.0</td><td>0</td><td>12</td></tr><tr><td>2006</td><td>David Coulthard</td><td>British</td><td>14.0</td><td>0</td><td>13</td></tr><tr><td>2006</td><td>Jacques Villeneuve</td><td>Canadian</td><td>7.0</td><td>0</td><td>14</td></tr><tr><td>2006</td><td>Mark Webber</td><td>Australian</td><td>7.0</td><td>0</td><td>14</td></tr><tr><td>2006</td><td>Robert Kubica</td><td>Polish</td><td>6.0</td><td>0</td><td>16</td></tr><tr><td>2006</td><td>Nico Rosberg</td><td>German</td><td>4.0</td><td>0</td><td>17</td></tr><tr><td>2006</td><td>Christian Klien</td><td>Austrian</td><td>2.0</td><td>0</td><td>18</td></tr><tr><td>2006</td><td>Vitantonio Liuzzi</td><td>Italian</td><td>1.0</td><td>0</td><td>19</td></tr><tr><td>2006</td><td>Franck Montagny</td><td>French</td><td>0.0</td><td>0</td><td>20</td></tr><tr><td>2006</td><td>Takuma Sato</td><td>Japanese</td><td>0.0</td><td>0</td><td>20</td></tr><tr><td>2006</td><td>Robert Doornbos</td><td>Dutch</td><td>0.0</td><td>0</td><td>20</td></tr><tr><td>2006</td><td>Tiago Monteiro</td><td>Portuguese</td><td>0.0</td><td>0</td><td>20</td></tr><tr><td>2006</td><td>Christijan Albers</td><td>Dutch</td><td>0.0</td><td>0</td><td>20</td></tr><tr><td>2006</td><td>Sakon Yamamoto</td><td>Japanese</td><td>0.0</td><td>0</td><td>20</td></tr><tr><td>2006</td><td>Scott Speed</td><td>American</td><td>0.0</td><td>0</td><td>20</td></tr><tr><td>2006</td><td>Yuji Ide</td><td>Japanese</td><td>0.0</td><td>0</td><td>20</td></tr><tr><td>2007</td><td>Kimi Räikkönen</td><td>Finnish</td><td>110.0</td><td>6</td><td>1</td></tr><tr><td>2007</td><td>Lewis Hamilton</td><td>British</td><td>109.0</td><td>4</td><td>2</td></tr><tr><td>2007</td><td>Fernando Alonso</td><td>Spanish</td><td>109.0</td><td>4</td><td>2</td></tr><tr><td>2007</td><td>Felipe Massa</td><td>Brazilian</td><td>94.0</td><td>3</td><td>4</td></tr><tr><td>2007</td><td>Nick Heidfeld</td><td>German</td><td>61.0</td><td>0</td><td>5</td></tr><tr><td>2007</td><td>Robert Kubica</td><td>Polish</td><td>39.0</td><td>0</td><td>6</td></tr><tr><td>2007</td><td>Heikki Kovalainen</td><td>Finnish</td><td>30.0</td><td>0</td><td>7</td></tr><tr><td>2007</td><td>Giancarlo Fisichella</td><td>Italian</td><td>21.0</td><td>0</td><td>8</td></tr><tr><td>2007</td><td>Nico Rosberg</td><td>German</td><td>20.0</td><td>0</td><td>9</td></tr><tr><td>2007</td><td>David Coulthard</td><td>British</td><td>14.0</td><td>0</td><td>10</td></tr><tr><td>2007</td><td>Alexander Wurz</td><td>Austrian</td><td>13.0</td><td>0</td><td>11</td></tr><tr><td>2007</td><td>Mark Webber</td><td>Australian</td><td>10.0</td><td>0</td><td>12</td></tr><tr><td>2007</td><td>Jarno Trulli</td><td>Italian</td><td>8.0</td><td>0</td><td>13</td></tr><tr><td>2007</td><td>Jenson Button</td><td>British</td><td>6.0</td><td>0</td><td>14</td></tr><tr><td>2007</td><td>Sebastian Vettel</td><td>German</td><td>6.0</td><td>0</td><td>14</td></tr><tr><td>2007</td><td>Ralf Schumacher</td><td>German</td><td>5.0</td><td>0</td><td>16</td></tr><tr><td>2007</td><td>Takuma Sato</td><td>Japanese</td><td>4.0</td><td>0</td><td>17</td></tr><tr><td>2007</td><td>Vitantonio Liuzzi</td><td>Italian</td><td>3.0</td><td>0</td><td>18</td></tr><tr><td>2007</td><td>Adrian Sutil</td><td>German</td><td>1.0</td><td>0</td><td>19</td></tr><tr><td>2007</td><td>Rubens Barrichello</td><td>Brazilian</td><td>0.0</td><td>0</td><td>20</td></tr><tr><td>2007</td><td>Scott Speed</td><td>American</td><td>0.0</td><td>0</td><td>20</td></tr><tr><td>2007</td><td>Sakon Yamamoto</td><td>Japanese</td><td>0.0</td><td>0</td><td>20</td></tr><tr><td>2007</td><td>Christijan Albers</td><td>Dutch</td><td>0.0</td><td>0</td><td>20</td></tr><tr><td>2007</td><td>Kazuki Nakajima</td><td>Japanese</td><td>0.0</td><td>0</td><td>20</td></tr><tr><td>2007</td><td>Markus Winkelhock</td><td>German</td><td>0.0</td><td>0</td><td>20</td></tr><tr><td>2007</td><td>Anthony Davidson</td><td>British</td><td>0.0</td><td>0</td><td>20</td></tr><tr><td>2008</td><td>Lewis Hamilton</td><td>British</td><td>98.0</td><td>5</td><td>1</td></tr><tr><td>2008</td><td>Felipe Massa</td><td>Brazilian</td><td>97.0</td><td>6</td><td>2</td></tr><tr><td>2008</td><td>Kimi Räikkönen</td><td>Finnish</td><td>75.0</td><td>2</td><td>3</td></tr><tr><td>2008</td><td>Robert Kubica</td><td>Polish</td><td>75.0</td><td>1</td><td>4</td></tr><tr><td>2008</td><td>Fernando Alonso</td><td>Spanish</td><td>61.0</td><td>2</td><td>5</td></tr><tr><td>2008</td><td>Nick Heidfeld</td><td>German</td><td>60.0</td><td>0</td><td>6</td></tr><tr><td>2008</td><td>Heikki Kovalainen</td><td>Finnish</td><td>53.0</td><td>1</td><td>7</td></tr><tr><td>2008</td><td>Sebastian Vettel</td><td>German</td><td>35.0</td><td>1</td><td>8</td></tr><tr><td>2008</td><td>Jarno Trulli</td><td>Italian</td><td>31.0</td><td>0</td><td>9</td></tr><tr><td>2008</td><td>Timo Glock</td><td>German</td><td>25.0</td><td>0</td><td>10</td></tr><tr><td>2008</td><td>Mark Webber</td><td>Australian</td><td>21.0</td><td>0</td><td>11</td></tr><tr><td>2008</td><td>Nelson Piquet Jr.</td><td>Brazilian</td><td>19.0</td><td>0</td><td>12</td></tr><tr><td>2008</td><td>Nico Rosberg</td><td>German</td><td>17.0</td><td>0</td><td>13</td></tr><tr><td>2008</td><td>Rubens Barrichello</td><td>Brazilian</td><td>11.0</td><td>0</td><td>14</td></tr><tr><td>2008</td><td>Kazuki Nakajima</td><td>Japanese</td><td>9.0</td><td>0</td><td>15</td></tr><tr><td>2008</td><td>David Coulthard</td><td>British</td><td>8.0</td><td>0</td><td>16</td></tr><tr><td>2008</td><td>Sébastien Bourdais</td><td>French</td><td>4.0</td><td>0</td><td>17</td></tr><tr><td>2008</td><td>Jenson Button</td><td>British</td><td>3.0</td><td>0</td><td>18</td></tr><tr><td>2008</td><td>Anthony Davidson</td><td>British</td><td>0.0</td><td>0</td><td>19</td></tr><tr><td>2008</td><td>Takuma Sato</td><td>Japanese</td><td>0.0</td><td>0</td><td>19</td></tr><tr><td>2008</td><td>Adrian Sutil</td><td>German</td><td>0.0</td><td>0</td><td>19</td></tr><tr><td>2008</td><td>Giancarlo Fisichella</td><td>Italian</td><td>0.0</td><td>0</td><td>19</td></tr><tr><td>2009</td><td>Jenson Button</td><td>British</td><td>95.0</td><td>6</td><td>1</td></tr><tr><td>2009</td><td>Sebastian Vettel</td><td>German</td><td>84.0</td><td>4</td><td>2</td></tr><tr><td>2009</td><td>Rubens Barrichello</td><td>Brazilian</td><td>77.0</td><td>2</td><td>3</td></tr><tr><td>2009</td><td>Mark Webber</td><td>Australian</td><td>69.5</td><td>2</td><td>4</td></tr><tr><td>2009</td><td>Lewis Hamilton</td><td>British</td><td>49.0</td><td>2</td><td>5</td></tr><tr><td>2009</td><td>Kimi Räikkönen</td><td>Finnish</td><td>48.0</td><td>1</td><td>6</td></tr><tr><td>2009</td><td>Nico Rosberg</td><td>German</td><td>34.5</td><td>0</td><td>7</td></tr><tr><td>2009</td><td>Jarno Trulli</td><td>Italian</td><td>32.5</td><td>0</td><td>8</td></tr><tr><td>2009</td><td>Fernando Alonso</td><td>Spanish</td><td>26.0</td><td>0</td><td>9</td></tr><tr><td>2009</td><td>Timo Glock</td><td>German</td><td>24.0</td><td>0</td><td>10</td></tr><tr><td>2009</td><td>Felipe Massa</td><td>Brazilian</td><td>22.0</td><td>0</td><td>11</td></tr><tr><td>2009</td><td>Heikki Kovalainen</td><td>Finnish</td><td>22.0</td><td>0</td><td>11</td></tr><tr><td>2009</td><td>Nick Heidfeld</td><td>German</td><td>19.0</td><td>0</td><td>13</td></tr><tr><td>2009</td><td>Robert Kubica</td><td>Polish</td><td>17.0</td><td>0</td><td>14</td></tr><tr><td>2009</td><td>Giancarlo Fisichella</td><td>Italian</td><td>8.0</td><td>0</td><td>15</td></tr><tr><td>2009</td><td>Sébastien Buemi</td><td>Swiss</td><td>6.0</td><td>0</td><td>16</td></tr><tr><td>2009</td><td>Adrian Sutil</td><td>German</td><td>5.0</td><td>0</td><td>17</td></tr><tr><td>2009</td><td>Kamui Kobayashi</td><td>Japanese</td><td>3.0</td><td>0</td><td>18</td></tr><tr><td>2009</td><td>Sébastien Bourdais</td><td>French</td><td>2.0</td><td>0</td><td>19</td></tr><tr><td>2009</td><td>Kazuki Nakajima</td><td>Japanese</td><td>0.0</td><td>0</td><td>20</td></tr><tr><td>2009</td><td>Jaime Alguersuari</td><td>Spanish</td><td>0.0</td><td>0</td><td>20</td></tr><tr><td>2009</td><td>Romain Grosjean</td><td>French</td><td>0.0</td><td>0</td><td>20</td></tr><tr><td>2009</td><td>Nelson Piquet Jr.</td><td>Brazilian</td><td>0.0</td><td>0</td><td>20</td></tr><tr><td>2009</td><td>Vitantonio Liuzzi</td><td>Italian</td><td>0.0</td><td>0</td><td>20</td></tr><tr><td>2009</td><td>Luca Badoer</td><td>Italian</td><td>0.0</td><td>0</td><td>20</td></tr><tr><td>2010</td><td>Sebastian Vettel</td><td>German</td><td>256.0</td><td>5</td><td>1</td></tr><tr><td>2010</td><td>Fernando Alonso</td><td>Spanish</td><td>252.0</td><td>5</td><td>2</td></tr><tr><td>2010</td><td>Mark Webber</td><td>Australian</td><td>242.0</td><td>4</td><td>3</td></tr><tr><td>2010</td><td>Lewis Hamilton</td><td>British</td><td>240.0</td><td>3</td><td>4</td></tr><tr><td>2010</td><td>Jenson Button</td><td>British</td><td>214.0</td><td>2</td><td>5</td></tr><tr><td>2010</td><td>Felipe Massa</td><td>Brazilian</td><td>144.0</td><td>0</td><td>6</td></tr><tr><td>2010</td><td>Nico Rosberg</td><td>German</td><td>142.0</td><td>0</td><td>7</td></tr><tr><td>2010</td><td>Robert Kubica</td><td>Polish</td><td>136.0</td><td>0</td><td>8</td></tr><tr><td>2010</td><td>Michael Schumacher</td><td>German</td><td>72.0</td><td>0</td><td>9</td></tr><tr><td>2010</td><td>Rubens Barrichello</td><td>Brazilian</td><td>47.0</td><td>0</td><td>10</td></tr><tr><td>2010</td><td>Adrian Sutil</td><td>German</td><td>47.0</td><td>0</td><td>10</td></tr><tr><td>2010</td><td>Kamui Kobayashi</td><td>Japanese</td><td>32.0</td><td>0</td><td>12</td></tr><tr><td>2010</td><td>Vitaly Petrov</td><td>Russian</td><td>27.0</td><td>0</td><td>13</td></tr><tr><td>2010</td><td>Nico Hülkenberg</td><td>German</td><td>22.0</td><td>0</td><td>14</td></tr><tr><td>2010</td><td>Vitantonio Liuzzi</td><td>Italian</td><td>21.0</td><td>0</td><td>15</td></tr><tr><td>2010</td><td>Sébastien Buemi</td><td>Swiss</td><td>8.0</td><td>0</td><td>16</td></tr><tr><td>2010</td><td>Pedro de la Rosa</td><td>Spanish</td><td>6.0</td><td>0</td><td>17</td></tr><tr><td>2010</td><td>Nick Heidfeld</td><td>German</td><td>6.0</td><td>0</td><td>17</td></tr><tr><td>2010</td><td>Jaime Alguersuari</td><td>Spanish</td><td>5.0</td><td>0</td><td>19</td></tr><tr><td>2010</td><td>Timo Glock</td><td>German</td><td>0.0</td><td>0</td><td>20</td></tr><tr><td>2010</td><td>Bruno Senna</td><td>Brazilian</td><td>0.0</td><td>0</td><td>20</td></tr><tr><td>2010</td><td>Karun Chandhok</td><td>Indian</td><td>0.0</td><td>0</td><td>20</td></tr><tr><td>2010</td><td>Christian Klien</td><td>Austrian</td><td>0.0</td><td>0</td><td>20</td></tr><tr><td>2010</td><td>Lucas di Grassi</td><td>Brazilian</td><td>0.0</td><td>0</td><td>20</td></tr><tr><td>2010</td><td>Sakon Yamamoto</td><td>Japanese</td><td>0.0</td><td>0</td><td>20</td></tr><tr><td>2010</td><td>Jarno Trulli</td><td>Italian</td><td>0.0</td><td>0</td><td>20</td></tr><tr><td>2010</td><td>Heikki Kovalainen</td><td>Finnish</td><td>0.0</td><td>0</td><td>20</td></tr><tr><td>2011</td><td>Sebastian Vettel</td><td>German</td><td>392.0</td><td>11</td><td>1</td></tr><tr><td>2011</td><td>Jenson Button</td><td>British</td><td>270.0</td><td>3</td><td>2</td></tr><tr><td>2011</td><td>Mark Webber</td><td>Australian</td><td>258.0</td><td>1</td><td>3</td></tr><tr><td>2011</td><td>Fernando Alonso</td><td>Spanish</td><td>257.0</td><td>1</td><td>4</td></tr><tr><td>2011</td><td>Lewis Hamilton</td><td>British</td><td>227.0</td><td>3</td><td>5</td></tr><tr><td>2011</td><td>Felipe Massa</td><td>Brazilian</td><td>118.0</td><td>0</td><td>6</td></tr><tr><td>2011</td><td>Nico Rosberg</td><td>German</td><td>89.0</td><td>0</td><td>7</td></tr><tr><td>2011</td><td>Michael Schumacher</td><td>German</td><td>76.0</td><td>0</td><td>8</td></tr><tr><td>2011</td><td>Adrian Sutil</td><td>German</td><td>42.0</td><td>0</td><td>9</td></tr><tr><td>2011</td><td>Vitaly Petrov</td><td>Russian</td><td>37.0</td><td>0</td><td>10</td></tr><tr><td>2011</td><td>Nick Heidfeld</td><td>German</td><td>34.0</td><td>0</td><td>11</td></tr><tr><td>2011</td><td>Kamui Kobayashi</td><td>Japanese</td><td>30.0</td><td>0</td><td>12</td></tr><tr><td>2011</td><td>Paul di Resta</td><td>British</td><td>27.0</td><td>0</td><td>13</td></tr><tr><td>2011</td><td>Jaime Alguersuari</td><td>Spanish</td><td>26.0</td><td>0</td><td>14</td></tr><tr><td>2011</td><td>Sébastien Buemi</td><td>Swiss</td><td>15.0</td><td>0</td><td>15</td></tr><tr><td>2011</td><td>Sergio Pérez</td><td>Mexican</td><td>14.0</td><td>0</td><td>16</td></tr><tr><td>2011</td><td>Rubens Barrichello</td><td>Brazilian</td><td>4.0</td><td>0</td><td>17</td></tr><tr><td>2011</td><td>Bruno Senna</td><td>Brazilian</td><td>2.0</td><td>0</td><td>18</td></tr><tr><td>2011</td><td>Pastor Maldonado</td><td>Venezuelan</td><td>1.0</td><td>0</td><td>19</td></tr><tr><td>2011</td><td>Karun Chandhok</td><td>Indian</td><td>0.0</td><td>0</td><td>20</td></tr><tr><td>2011</td><td>Daniel Ricciardo</td><td>Australian</td><td>0.0</td><td>0</td><td>20</td></tr><tr><td>2011</td><td>Heikki Kovalainen</td><td>Finnish</td><td>0.0</td><td>0</td><td>20</td></tr><tr><td>2011</td><td>Vitantonio Liuzzi</td><td>Italian</td><td>0.0</td><td>0</td><td>20</td></tr><tr><td>2011</td><td>Timo Glock</td><td>German</td><td>0.0</td><td>0</td><td>20</td></tr><tr><td>2011</td><td>Jérôme d'Ambrosio</td><td>Belgian</td><td>0.0</td><td>0</td><td>20</td></tr><tr><td>2011</td><td>Narain Karthikeyan</td><td>Indian</td><td>0.0</td><td>0</td><td>20</td></tr><tr><td>2011</td><td>Pedro de la Rosa</td><td>Spanish</td><td>0.0</td><td>0</td><td>20</td></tr><tr><td>2011</td><td>Jarno Trulli</td><td>Italian</td><td>0.0</td><td>0</td><td>20</td></tr><tr><td>2012</td><td>Sebastian Vettel</td><td>German</td><td>281.0</td><td>5</td><td>1</td></tr><tr><td>2012</td><td>Fernando Alonso</td><td>Spanish</td><td>278.0</td><td>3</td><td>2</td></tr><tr><td>2012</td><td>Kimi Räikkönen</td><td>Finnish</td><td>207.0</td><td>1</td><td>3</td></tr><tr><td>2012</td><td>Lewis Hamilton</td><td>British</td><td>190.0</td><td>4</td><td>4</td></tr><tr><td>2012</td><td>Jenson Button</td><td>British</td><td>188.0</td><td>3</td><td>5</td></tr><tr><td>2012</td><td>Mark Webber</td><td>Australian</td><td>179.0</td><td>2</td><td>6</td></tr><tr><td>2012</td><td>Felipe Massa</td><td>Brazilian</td><td>122.0</td><td>0</td><td>7</td></tr><tr><td>2012</td><td>Romain Grosjean</td><td>French</td><td>96.0</td><td>0</td><td>8</td></tr><tr><td>2012</td><td>Nico Rosberg</td><td>German</td><td>93.0</td><td>1</td><td>9</td></tr><tr><td>2012</td><td>Sergio Pérez</td><td>Mexican</td><td>66.0</td><td>0</td><td>10</td></tr><tr><td>2012</td><td>Nico Hülkenberg</td><td>German</td><td>63.0</td><td>0</td><td>11</td></tr><tr><td>2012</td><td>Kamui Kobayashi</td><td>Japanese</td><td>60.0</td><td>0</td><td>12</td></tr><tr><td>2012</td><td>Michael Schumacher</td><td>German</td><td>49.0</td><td>0</td><td>13</td></tr><tr><td>2012</td><td>Paul di Resta</td><td>British</td><td>46.0</td><td>0</td><td>14</td></tr><tr><td>2012</td><td>Pastor Maldonado</td><td>Venezuelan</td><td>45.0</td><td>1</td><td>15</td></tr><tr><td>2012</td><td>Bruno Senna</td><td>Brazilian</td><td>31.0</td><td>0</td><td>16</td></tr><tr><td>2012</td><td>Jean-Éric Vergne</td><td>French</td><td>16.0</td><td>0</td><td>17</td></tr><tr><td>2012</td><td>Daniel Ricciardo</td><td>Australian</td><td>10.0</td><td>0</td><td>18</td></tr><tr><td>2012</td><td>Timo Glock</td><td>German</td><td>0.0</td><td>0</td><td>19</td></tr><tr><td>2012</td><td>Narain Karthikeyan</td><td>Indian</td><td>0.0</td><td>0</td><td>19</td></tr><tr><td>2012</td><td>Heikki Kovalainen</td><td>Finnish</td><td>0.0</td><td>0</td><td>19</td></tr><tr><td>2012</td><td>Jérôme d'Ambrosio</td><td>Belgian</td><td>0.0</td><td>0</td><td>19</td></tr><tr><td>2012</td><td>Vitaly Petrov</td><td>Russian</td><td>0.0</td><td>0</td><td>19</td></tr><tr><td>2012</td><td>Pedro de la Rosa</td><td>Spanish</td><td>0.0</td><td>0</td><td>19</td></tr><tr><td>2012</td><td>Charles Pic</td><td>French</td><td>0.0</td><td>0</td><td>19</td></tr><tr><td>2013</td><td>Sebastian Vettel</td><td>German</td><td>397.0</td><td>13</td><td>1</td></tr><tr><td>2013</td><td>Fernando Alonso</td><td>Spanish</td><td>242.0</td><td>2</td><td>2</td></tr><tr><td>2013</td><td>Mark Webber</td><td>Australian</td><td>199.0</td><td>0</td><td>3</td></tr><tr><td>2013</td><td>Lewis Hamilton</td><td>British</td><td>189.0</td><td>1</td><td>4</td></tr><tr><td>2013</td><td>Kimi Räikkönen</td><td>Finnish</td><td>183.0</td><td>1</td><td>5</td></tr><tr><td>2013</td><td>Nico Rosberg</td><td>German</td><td>171.0</td><td>2</td><td>6</td></tr><tr><td>2013</td><td>Romain Grosjean</td><td>French</td><td>132.0</td><td>0</td><td>7</td></tr><tr><td>2013</td><td>Felipe Massa</td><td>Brazilian</td><td>112.0</td><td>0</td><td>8</td></tr><tr><td>2013</td><td>Jenson Button</td><td>British</td><td>73.0</td><td>0</td><td>9</td></tr><tr><td>2013</td><td>Nico Hülkenberg</td><td>German</td><td>51.0</td><td>0</td><td>10</td></tr><tr><td>2013</td><td>Sergio Pérez</td><td>Mexican</td><td>49.0</td><td>0</td><td>11</td></tr><tr><td>2013</td><td>Paul di Resta</td><td>British</td><td>48.0</td><td>0</td><td>12</td></tr><tr><td>2013</td><td>Adrian Sutil</td><td>German</td><td>29.0</td><td>0</td><td>13</td></tr><tr><td>2013</td><td>Daniel Ricciardo</td><td>Australian</td><td>20.0</td><td>0</td><td>14</td></tr><tr><td>2013</td><td>Jean-Éric Vergne</td><td>French</td><td>13.0</td><td>0</td><td>15</td></tr><tr><td>2013</td><td>Esteban Gutiérrez</td><td>Mexican</td><td>6.0</td><td>0</td><td>16</td></tr><tr><td>2013</td><td>Valtteri Bottas</td><td>Finnish</td><td>4.0</td><td>0</td><td>17</td></tr><tr><td>2013</td><td>Pastor Maldonado</td><td>Venezuelan</td><td>1.0</td><td>0</td><td>18</td></tr><tr><td>2013</td><td>Max Chilton</td><td>British</td><td>0.0</td><td>0</td><td>19</td></tr><tr><td>2013</td><td>Giedo van der Garde</td><td>Dutch</td><td>0.0</td><td>0</td><td>19</td></tr><tr><td>2013</td><td>Jules Bianchi</td><td>French</td><td>0.0</td><td>0</td><td>19</td></tr><tr><td>2013</td><td>Charles Pic</td><td>French</td><td>0.0</td><td>0</td><td>19</td></tr><tr><td>2013</td><td>Heikki Kovalainen</td><td>Finnish</td><td>0.0</td><td>0</td><td>19</td></tr><tr><td>2014</td><td>Lewis Hamilton</td><td>British</td><td>384.0</td><td>11</td><td>1</td></tr><tr><td>2014</td><td>Nico Rosberg</td><td>German</td><td>317.0</td><td>5</td><td>2</td></tr><tr><td>2014</td><td>Daniel Ricciardo</td><td>Australian</td><td>238.0</td><td>3</td><td>3</td></tr><tr><td>2014</td><td>Valtteri Bottas</td><td>Finnish</td><td>186.0</td><td>0</td><td>4</td></tr><tr><td>2014</td><td>Sebastian Vettel</td><td>German</td><td>167.0</td><td>0</td><td>5</td></tr><tr><td>2014</td><td>Fernando Alonso</td><td>Spanish</td><td>161.0</td><td>0</td><td>6</td></tr><tr><td>2014</td><td>Felipe Massa</td><td>Brazilian</td><td>134.0</td><td>0</td><td>7</td></tr><tr><td>2014</td><td>Jenson Button</td><td>British</td><td>126.0</td><td>0</td><td>8</td></tr><tr><td>2014</td><td>Nico Hülkenberg</td><td>German</td><td>96.0</td><td>0</td><td>9</td></tr><tr><td>2014</td><td>Sergio Pérez</td><td>Mexican</td><td>59.0</td><td>0</td><td>10</td></tr><tr><td>2014</td><td>Kevin Magnussen</td><td>Danish</td><td>55.0</td><td>0</td><td>11</td></tr><tr><td>2014</td><td>Kimi Räikkönen</td><td>Finnish</td><td>55.0</td><td>0</td><td>11</td></tr><tr><td>2014</td><td>Jean-Éric Vergne</td><td>French</td><td>22.0</td><td>0</td><td>13</td></tr><tr><td>2014</td><td>Romain Grosjean</td><td>French</td><td>8.0</td><td>0</td><td>14</td></tr><tr><td>2014</td><td>Daniil Kvyat</td><td>Russian</td><td>8.0</td><td>0</td><td>14</td></tr><tr><td>2014</td><td>Jules Bianchi</td><td>French</td><td>2.0</td><td>0</td><td>16</td></tr><tr><td>2014</td><td>Pastor Maldonado</td><td>Venezuelan</td><td>2.0</td><td>0</td><td>16</td></tr><tr><td>2014</td><td>Marcus Ericsson</td><td>Swedish</td><td>0.0</td><td>0</td><td>18</td></tr><tr><td>2014</td><td>Esteban Gutiérrez</td><td>Mexican</td><td>0.0</td><td>0</td><td>18</td></tr><tr><td>2014</td><td>Kamui Kobayashi</td><td>Japanese</td><td>0.0</td><td>0</td><td>18</td></tr><tr><td>2014</td><td>Max Chilton</td><td>British</td><td>0.0</td><td>0</td><td>18</td></tr><tr><td>2014</td><td>Will Stevens</td><td>British</td><td>0.0</td><td>0</td><td>18</td></tr><tr><td>2014</td><td>Adrian Sutil</td><td>German</td><td>0.0</td><td>0</td><td>18</td></tr><tr><td>2014</td><td>André Lotterer</td><td>German</td><td>0.0</td><td>0</td><td>18</td></tr><tr><td>2015</td><td>Lewis Hamilton</td><td>British</td><td>381.0</td><td>10</td><td>1</td></tr><tr><td>2015</td><td>Nico Rosberg</td><td>German</td><td>322.0</td><td>6</td><td>2</td></tr><tr><td>2015</td><td>Sebastian Vettel</td><td>German</td><td>278.0</td><td>3</td><td>3</td></tr><tr><td>2015</td><td>Kimi Räikkönen</td><td>Finnish</td><td>150.0</td><td>0</td><td>4</td></tr><tr><td>2015</td><td>Valtteri Bottas</td><td>Finnish</td><td>136.0</td><td>0</td><td>5</td></tr><tr><td>2015</td><td>Felipe Massa</td><td>Brazilian</td><td>121.0</td><td>0</td><td>6</td></tr><tr><td>2015</td><td>Daniil Kvyat</td><td>Russian</td><td>95.0</td><td>0</td><td>7</td></tr><tr><td>2015</td><td>Daniel Ricciardo</td><td>Australian</td><td>92.0</td><td>0</td><td>8</td></tr><tr><td>2015</td><td>Sergio Pérez</td><td>Mexican</td><td>78.0</td><td>0</td><td>9</td></tr><tr><td>2015</td><td>Nico Hülkenberg</td><td>German</td><td>58.0</td><td>0</td><td>10</td></tr><tr><td>2015</td><td>Romain Grosjean</td><td>French</td><td>51.0</td><td>0</td><td>11</td></tr><tr><td>2015</td><td>Max Verstappen</td><td>Dutch</td><td>49.0</td><td>0</td><td>12</td></tr><tr><td>2015</td><td>Felipe Nasr</td><td>Brazilian</td><td>27.0</td><td>0</td><td>13</td></tr><tr><td>2015</td><td>Pastor Maldonado</td><td>Venezuelan</td><td>27.0</td><td>0</td><td>13</td></tr><tr><td>2015</td><td>Carlos Sainz</td><td>Spanish</td><td>18.0</td><td>0</td><td>15</td></tr><tr><td>2015</td><td>Jenson Button</td><td>British</td><td>16.0</td><td>0</td><td>16</td></tr><tr><td>2015</td><td>Fernando Alonso</td><td>Spanish</td><td>11.0</td><td>0</td><td>17</td></tr><tr><td>2015</td><td>Marcus Ericsson</td><td>Swedish</td><td>9.0</td><td>0</td><td>18</td></tr><tr><td>2015</td><td>Roberto Merhi</td><td>Spanish</td><td>0.0</td><td>0</td><td>19</td></tr><tr><td>2015</td><td>Will Stevens</td><td>British</td><td>0.0</td><td>0</td><td>19</td></tr><tr><td>2015</td><td>Alexander Rossi</td><td>American</td><td>0.0</td><td>0</td><td>19</td></tr><tr><td>2015</td><td>Kevin Magnussen</td><td>Danish</td><td>0.0</td><td>0</td><td>19</td></tr><tr><td>2016</td><td>Nico Rosberg</td><td>German</td><td>385.0</td><td>9</td><td>1</td></tr><tr><td>2016</td><td>Lewis Hamilton</td><td>British</td><td>380.0</td><td>10</td><td>2</td></tr><tr><td>2016</td><td>Daniel Ricciardo</td><td>Australian</td><td>256.0</td><td>1</td><td>3</td></tr><tr><td>2016</td><td>Sebastian Vettel</td><td>German</td><td>212.0</td><td>0</td><td>4</td></tr><tr><td>2016</td><td>Max Verstappen</td><td>Dutch</td><td>204.0</td><td>1</td><td>5</td></tr><tr><td>2016</td><td>Kimi Räikkönen</td><td>Finnish</td><td>186.0</td><td>0</td><td>6</td></tr><tr><td>2016</td><td>Sergio Pérez</td><td>Mexican</td><td>101.0</td><td>0</td><td>7</td></tr><tr><td>2016</td><td>Valtteri Bottas</td><td>Finnish</td><td>85.0</td><td>0</td><td>8</td></tr><tr><td>2016</td><td>Nico Hülkenberg</td><td>German</td><td>72.0</td><td>0</td><td>9</td></tr><tr><td>2016</td><td>Fernando Alonso</td><td>Spanish</td><td>54.0</td><td>0</td><td>10</td></tr><tr><td>2016</td><td>Felipe Massa</td><td>Brazilian</td><td>53.0</td><td>0</td><td>11</td></tr><tr><td>2016</td><td>Carlos Sainz</td><td>Spanish</td><td>46.0</td><td>0</td><td>12</td></tr><tr><td>2016</td><td>Romain Grosjean</td><td>French</td><td>29.0</td><td>0</td><td>13</td></tr><tr><td>2016</td><td>Daniil Kvyat</td><td>Russian</td><td>25.0</td><td>0</td><td>14</td></tr><tr><td>2016</td><td>Jenson Button</td><td>British</td><td>21.0</td><td>0</td><td>15</td></tr><tr><td>2016</td><td>Kevin Magnussen</td><td>Danish</td><td>7.0</td><td>0</td><td>16</td></tr><tr><td>2016</td><td>Felipe Nasr</td><td>Brazilian</td><td>2.0</td><td>0</td><td>17</td></tr><tr><td>2016</td><td>Stoffel Vandoorne</td><td>Belgian</td><td>1.0</td><td>0</td><td>18</td></tr><tr><td>2016</td><td>Pascal Wehrlein</td><td>German</td><td>1.0</td><td>0</td><td>18</td></tr><tr><td>2016</td><td>Jolyon Palmer</td><td>British</td><td>1.0</td><td>0</td><td>18</td></tr><tr><td>2016</td><td>Marcus Ericsson</td><td>Swedish</td><td>0.0</td><td>0</td><td>21</td></tr><tr><td>2016</td><td>Esteban Gutiérrez</td><td>Mexican</td><td>0.0</td><td>0</td><td>21</td></tr><tr><td>2016</td><td>Rio Haryanto</td><td>Indonesian</td><td>0.0</td><td>0</td><td>21</td></tr><tr><td>2016</td><td>Esteban Ocon</td><td>French</td><td>0.0</td><td>0</td><td>21</td></tr><tr><td>2017</td><td>Lewis Hamilton</td><td>British</td><td>363.0</td><td>9</td><td>1</td></tr><tr><td>2017</td><td>Sebastian Vettel</td><td>German</td><td>317.0</td><td>5</td><td>2</td></tr><tr><td>2017</td><td>Valtteri Bottas</td><td>Finnish</td><td>305.0</td><td>3</td><td>3</td></tr><tr><td>2017</td><td>Kimi Räikkönen</td><td>Finnish</td><td>205.0</td><td>0</td><td>4</td></tr><tr><td>2017</td><td>Daniel Ricciardo</td><td>Australian</td><td>200.0</td><td>1</td><td>5</td></tr><tr><td>2017</td><td>Max Verstappen</td><td>Dutch</td><td>168.0</td><td>2</td><td>6</td></tr><tr><td>2017</td><td>Sergio Pérez</td><td>Mexican</td><td>100.0</td><td>0</td><td>7</td></tr><tr><td>2017</td><td>Esteban Ocon</td><td>French</td><td>87.0</td><td>0</td><td>8</td></tr><tr><td>2017</td><td>Carlos Sainz</td><td>Spanish</td><td>54.0</td><td>0</td><td>9</td></tr><tr><td>2017</td><td>Felipe Massa</td><td>Brazilian</td><td>43.0</td><td>0</td><td>10</td></tr><tr><td>2017</td><td>Nico Hülkenberg</td><td>German</td><td>43.0</td><td>0</td><td>10</td></tr><tr><td>2017</td><td>Lance Stroll</td><td>Canadian</td><td>40.0</td><td>0</td><td>12</td></tr><tr><td>2017</td><td>Romain Grosjean</td><td>French</td><td>28.0</td><td>0</td><td>13</td></tr><tr><td>2017</td><td>Kevin Magnussen</td><td>Danish</td><td>19.0</td><td>0</td><td>14</td></tr><tr><td>2017</td><td>Fernando Alonso</td><td>Spanish</td><td>17.0</td><td>0</td><td>15</td></tr><tr><td>2017</td><td>Stoffel Vandoorne</td><td>Belgian</td><td>13.0</td><td>0</td><td>16</td></tr><tr><td>2017</td><td>Jolyon Palmer</td><td>British</td><td>8.0</td><td>0</td><td>17</td></tr><tr><td>2017</td><td>Pascal Wehrlein</td><td>German</td><td>5.0</td><td>0</td><td>18</td></tr><tr><td>2017</td><td>Daniil Kvyat</td><td>Russian</td><td>5.0</td><td>0</td><td>18</td></tr><tr><td>2017</td><td>Marcus Ericsson</td><td>Swedish</td><td>0.0</td><td>0</td><td>20</td></tr><tr><td>2017</td><td>Brendon Hartley</td><td>New Zealander</td><td>0.0</td><td>0</td><td>20</td></tr><tr><td>2017</td><td>Antonio Giovinazzi</td><td>Italian</td><td>0.0</td><td>0</td><td>20</td></tr><tr><td>2017</td><td>Pierre Gasly</td><td>French</td><td>0.0</td><td>0</td><td>20</td></tr><tr><td>2017</td><td>Jenson Button</td><td>British</td><td>0.0</td><td>0</td><td>20</td></tr><tr><td>2017</td><td>Paul di Resta</td><td>British</td><td>0.0</td><td>0</td><td>20</td></tr><tr><td>2018</td><td>Lewis Hamilton</td><td>British</td><td>408.0</td><td>11</td><td>1</td></tr><tr><td>2018</td><td>Sebastian Vettel</td><td>German</td><td>320.0</td><td>5</td><td>2</td></tr><tr><td>2018</td><td>Kimi Räikkönen</td><td>Finnish</td><td>251.0</td><td>1</td><td>3</td></tr><tr><td>2018</td><td>Max Verstappen</td><td>Dutch</td><td>249.0</td><td>2</td><td>4</td></tr><tr><td>2018</td><td>Valtteri Bottas</td><td>Finnish</td><td>247.0</td><td>0</td><td>5</td></tr><tr><td>2018</td><td>Daniel Ricciardo</td><td>Australian</td><td>170.0</td><td>2</td><td>6</td></tr><tr><td>2018</td><td>Nico Hülkenberg</td><td>German</td><td>69.0</td><td>0</td><td>7</td></tr><tr><td>2018</td><td>Sergio Pérez</td><td>Mexican</td><td>62.0</td><td>0</td><td>8</td></tr><tr><td>2018</td><td>Kevin Magnussen</td><td>Danish</td><td>56.0</td><td>0</td><td>9</td></tr><tr><td>2018</td><td>Carlos Sainz</td><td>Spanish</td><td>53.0</td><td>0</td><td>10</td></tr><tr><td>2018</td><td>Fernando Alonso</td><td>Spanish</td><td>50.0</td><td>0</td><td>11</td></tr><tr><td>2018</td><td>Esteban Ocon</td><td>French</td><td>49.0</td><td>0</td><td>12</td></tr><tr><td>2018</td><td>Charles Leclerc</td><td>Monegasque</td><td>39.0</td><td>0</td><td>13</td></tr><tr><td>2018</td><td>Romain Grosjean</td><td>French</td><td>37.0</td><td>0</td><td>14</td></tr><tr><td>2018</td><td>Pierre Gasly</td><td>French</td><td>29.0</td><td>0</td><td>15</td></tr><tr><td>2018</td><td>Stoffel Vandoorne</td><td>Belgian</td><td>12.0</td><td>0</td><td>16</td></tr><tr><td>2018</td><td>Marcus Ericsson</td><td>Swedish</td><td>9.0</td><td>0</td><td>17</td></tr><tr><td>2018</td><td>Lance Stroll</td><td>Canadian</td><td>6.0</td><td>0</td><td>18</td></tr><tr><td>2018</td><td>Brendon Hartley</td><td>New Zealander</td><td>4.0</td><td>0</td><td>19</td></tr><tr><td>2018</td><td>Sergey Sirotkin</td><td>Russian</td><td>1.0</td><td>0</td><td>20</td></tr><tr><td>2019</td><td>Lewis Hamilton</td><td>British</td><td>413.0</td><td>11</td><td>1</td></tr><tr><td>2019</td><td>Valtteri Bottas</td><td>Finnish</td><td>326.0</td><td>4</td><td>2</td></tr><tr><td>2019</td><td>Max Verstappen</td><td>Dutch</td><td>278.0</td><td>3</td><td>3</td></tr><tr><td>2019</td><td>Charles Leclerc</td><td>Monegasque</td><td>264.0</td><td>2</td><td>4</td></tr><tr><td>2019</td><td>Sebastian Vettel</td><td>German</td><td>240.0</td><td>1</td><td>5</td></tr><tr><td>2019</td><td>Carlos Sainz</td><td>Spanish</td><td>96.0</td><td>0</td><td>6</td></tr><tr><td>2019</td><td>Pierre Gasly</td><td>French</td><td>95.0</td><td>0</td><td>7</td></tr><tr><td>2019</td><td>Alexander Albon</td><td>Thai</td><td>92.0</td><td>0</td><td>8</td></tr><tr><td>2019</td><td>Daniel Ricciardo</td><td>Australian</td><td>54.0</td><td>0</td><td>9</td></tr><tr><td>2019</td><td>Sergio Pérez</td><td>Mexican</td><td>52.0</td><td>0</td><td>10</td></tr><tr><td>2019</td><td>Lando Norris</td><td>British</td><td>49.0</td><td>0</td><td>11</td></tr><tr><td>2019</td><td>Kimi Räikkönen</td><td>Finnish</td><td>43.0</td><td>0</td><td>12</td></tr><tr><td>2019</td><td>Daniil Kvyat</td><td>Russian</td><td>37.0</td><td>0</td><td>13</td></tr><tr><td>2019</td><td>Nico Hülkenberg</td><td>German</td><td>37.0</td><td>0</td><td>13</td></tr><tr><td>2019</td><td>Lance Stroll</td><td>Canadian</td><td>21.0</td><td>0</td><td>15</td></tr><tr><td>2019</td><td>Kevin Magnussen</td><td>Danish</td><td>20.0</td><td>0</td><td>16</td></tr><tr><td>2019</td><td>Antonio Giovinazzi</td><td>Italian</td><td>14.0</td><td>0</td><td>17</td></tr><tr><td>2019</td><td>Romain Grosjean</td><td>French</td><td>8.0</td><td>0</td><td>18</td></tr><tr><td>2019</td><td>Robert Kubica</td><td>Polish</td><td>1.0</td><td>0</td><td>19</td></tr><tr><td>2019</td><td>George Russell</td><td>British</td><td>0.0</td><td>0</td><td>20</td></tr><tr><td>2020</td><td>Lewis Hamilton</td><td>British</td><td>347.0</td><td>11</td><td>1</td></tr><tr><td>2020</td><td>Valtteri Bottas</td><td>Finnish</td><td>223.0</td><td>2</td><td>2</td></tr><tr><td>2020</td><td>Max Verstappen</td><td>Dutch</td><td>214.0</td><td>2</td><td>3</td></tr><tr><td>2020</td><td>Sergio Pérez</td><td>Mexican</td><td>125.0</td><td>1</td><td>4</td></tr><tr><td>2020</td><td>Daniel Ricciardo</td><td>Australian</td><td>119.0</td><td>0</td><td>5</td></tr><tr><td>2020</td><td>Carlos Sainz</td><td>Spanish</td><td>105.0</td><td>0</td><td>6</td></tr><tr><td>2020</td><td>Alexander Albon</td><td>Thai</td><td>105.0</td><td>0</td><td>6</td></tr><tr><td>2020</td><td>Charles Leclerc</td><td>Monegasque</td><td>98.0</td><td>0</td><td>8</td></tr><tr><td>2020</td><td>Lando Norris</td><td>British</td><td>97.0</td><td>0</td><td>9</td></tr><tr><td>2020</td><td>Pierre Gasly</td><td>French</td><td>75.0</td><td>1</td><td>10</td></tr><tr><td>2020</td><td>Lance Stroll</td><td>Canadian</td><td>75.0</td><td>0</td><td>11</td></tr><tr><td>2020</td><td>Esteban Ocon</td><td>French</td><td>62.0</td><td>0</td><td>12</td></tr><tr><td>2020</td><td>Sebastian Vettel</td><td>German</td><td>33.0</td><td>0</td><td>13</td></tr><tr><td>2020</td><td>Daniil Kvyat</td><td>Russian</td><td>32.0</td><td>0</td><td>14</td></tr><tr><td>2020</td><td>Nico Hülkenberg</td><td>German</td><td>10.0</td><td>0</td><td>15</td></tr><tr><td>2020</td><td>Antonio Giovinazzi</td><td>Italian</td><td>4.0</td><td>0</td><td>16</td></tr><tr><td>2020</td><td>Kimi Räikkönen</td><td>Finnish</td><td>4.0</td><td>0</td><td>16</td></tr><tr><td>2020</td><td>George Russell</td><td>British</td><td>3.0</td><td>0</td><td>18</td></tr><tr><td>2020</td><td>Romain Grosjean</td><td>French</td><td>2.0</td><td>0</td><td>19</td></tr><tr><td>2020</td><td>Kevin Magnussen</td><td>Danish</td><td>1.0</td><td>0</td><td>20</td></tr><tr><td>2020</td><td>Pietro Fittipaldi</td><td>Brazilian</td><td>0.0</td><td>0</td><td>21</td></tr><tr><td>2020</td><td>Nicholas Latifi</td><td>Canadian</td><td>0.0</td><td>0</td><td>21</td></tr><tr><td>2020</td><td>Jack Aitken</td><td>British</td><td>0.0</td><td>0</td><td>21</td></tr></tbody></table></div>"
      ]
     },
     "metadata": {
      "application/vnd.databricks.v1+output": {
       "addedWidgets": {},
       "aggData": [],
       "aggError": "",
       "aggOverflow": false,
       "aggSchema": [],
       "aggSeriesLimitReached": false,
       "aggType": "",
       "arguments": {},
       "columnCustomDisplayInfos": {},
       "data": [
        [
         1950,
         "Nino Farina",
         "Italian",
         30.0,
         3,
         1
        ],
        [
         1950,
         "Luigi Fagioli",
         "Italian",
         28.0,
         0,
         2
        ],
        [
         1950,
         "Juan Fangio",
         "Argentine",
         27.0,
         3,
         3
        ],
        [
         1950,
         "Louis Rosier",
         "French",
         13.0,
         0,
         4
        ],
        [
         1950,
         "Johnnie Parsons",
         "American",
         9.0,
         1,
         5
        ],
        [
         1950,
         "Alberto Ascari",
         "Italian",
         8.0,
         0,
         6
        ],
        [
         1950,
         "Bill Holland",
         "American",
         6.0,
         0,
         7
        ],
        [
         1950,
         "Prince Bira",
         "Thai",
         5.0,
         0,
         8
        ],
        [
         1950,
         "Louis Chiron",
         "Monegasque",
         4.0,
         0,
         9
        ],
        [
         1950,
         "Reg Parnell",
         "British",
         4.0,
         0,
         9
        ],
        [
         1950,
         "Mauri Rose",
         "American",
         4.0,
         0,
         9
        ],
        [
         1950,
         "Peter Whitehead",
         "British",
         4.0,
         0,
         9
        ],
        [
         1950,
         "Raymond Sommer",
         "French",
         3.0,
         0,
         13
        ],
        [
         1950,
         "Philippe Étancelin",
         "French",
         3.0,
         0,
         13
        ],
        [
         1950,
         "Cecil Green",
         "American",
         3.0,
         0,
         13
        ],
        [
         1950,
         "Dorino Serafini",
         "Italian",
         3.0,
         0,
         13
        ],
        [
         1950,
         "Robert Manzon",
         "French",
         3.0,
         0,
         13
        ],
        [
         1950,
         "Yves Cabantous",
         "French",
         3.0,
         0,
         13
        ],
        [
         1950,
         "Felice Bonetto",
         "Italian",
         2.0,
         0,
         19
        ],
        [
         1950,
         "Joie Chitwood",
         "American",
         1.0,
         0,
         20
        ],
        [
         1950,
         "Eugène Chaboud",
         "French",
         1.0,
         0,
         20
        ],
        [
         1950,
         "Myron Fohr",
         "American",
         0.0,
         0,
         22
        ],
        [
         1950,
         "Franco Comotti",
         "Italian",
         0.0,
         0,
         22
        ],
        [
         1950,
         "Duke Dinsmore",
         "American",
         0.0,
         0,
         22
        ],
        [
         1950,
         "Gene Hartley",
         "American",
         0.0,
         0,
         22
        ],
        [
         1950,
         "Jackie Holmes",
         "American",
         0.0,
         0,
         22
        ],
        [
         1950,
         "Travis Webb",
         "American",
         0.0,
         0,
         22
        ],
        [
         1950,
         "Sam Hanks",
         "American",
         0.0,
         0,
         22
        ],
        [
         1950,
         "Walt Ader",
         "American",
         0.0,
         0,
         22
        ],
        [
         1950,
         "Bob Gerard",
         "British",
         0.0,
         0,
         22
        ],
        [
         1950,
         "José Froilán González",
         "Argentine",
         0.0,
         0,
         22
        ],
        [
         1950,
         "Consalvo Sanesi",
         "Italian",
         0.0,
         0,
         22
        ],
        [
         1950,
         "Brian Shawe Taylor",
         "British",
         0.0,
         0,
         22
        ],
        [
         1950,
         "Pierre Levegh",
         "French",
         0.0,
         0,
         22
        ],
        [
         1950,
         "Peter Walker",
         "British",
         0.0,
         0,
         22
        ],
        [
         1950,
         "Tony Rolt",
         "British",
         0.0,
         0,
         22
        ],
        [
         1950,
         "Geoff Crossley",
         "British",
         0.0,
         0,
         22
        ],
        [
         1950,
         "Walt Brown",
         "American",
         0.0,
         0,
         22
        ],
        [
         1950,
         "Dick Rathmann",
         "American",
         0.0,
         0,
         22
        ],
        [
         1950,
         "Lee Wallard",
         "American",
         0.0,
         0,
         22
        ],
        [
         1950,
         "Troy Ruttman",
         "American",
         0.0,
         0,
         22
        ],
        [
         1950,
         "Mack Hellings",
         "American",
         0.0,
         0,
         22
        ],
        [
         1950,
         "Bill Schindler",
         "American",
         0.0,
         0,
         22
        ],
        [
         1950,
         "Johnny Claes",
         "Belgian",
         0.0,
         0,
         22
        ],
        [
         1950,
         "Eugène Martin",
         "French",
         0.0,
         0,
         22
        ],
        [
         1950,
         "Pat Flaherty",
         "American",
         0.0,
         0,
         22
        ],
        [
         1950,
         "Bayliss Levrett",
         "American",
         0.0,
         0,
         22
        ],
        [
         1950,
         "David Hampshire",
         "British",
         0.0,
         0,
         22
        ],
        [
         1950,
         "Paul Russo",
         "American",
         0.0,
         0,
         22
        ],
        [
         1950,
         "Luigi Villoresi",
         "Italian",
         0.0,
         0,
         22
        ],
        [
         1950,
         "Toulo de Graffenried",
         "Swiss",
         0.0,
         0,
         22
        ],
        [
         1950,
         "Johnny McDowell",
         "American",
         0.0,
         0,
         22
        ],
        [
         1950,
         "David Murray",
         "British",
         0.0,
         0,
         22
        ],
        [
         1950,
         "Jim Rathmann",
         "American",
         0.0,
         0,
         22
        ],
        [
         1950,
         "Nello Pagani",
         "Italian",
         0.0,
         0,
         22
        ],
        [
         1950,
         "Joe Kelly",
         "Irish",
         0.0,
         0,
         22
        ],
        [
         1950,
         "Jerry Hoyt",
         "American",
         0.0,
         0,
         22
        ],
        [
         1950,
         "Cuth Harrison",
         "British",
         0.0,
         0,
         22
        ],
        [
         1950,
         "Clemente Biondetti",
         "Italian",
         0.0,
         0,
         22
        ],
        [
         1950,
         "Bill Cantrell",
         "American",
         0.0,
         0,
         22
        ],
        [
         1950,
         "Maurice Trintignant",
         "French",
         0.0,
         0,
         22
        ],
        [
         1950,
         "Alfredo Pián",
         "Argentine",
         0.0,
         0,
         22
        ],
        [
         1950,
         "Joe Fry",
         "British",
         0.0,
         0,
         22
        ],
        [
         1950,
         "George Connor",
         "American",
         0.0,
         0,
         22
        ],
        [
         1950,
         "Guy Mairesse",
         "French",
         0.0,
         0,
         22
        ],
        [
         1950,
         "Henry Banks",
         "American",
         0.0,
         0,
         22
        ],
        [
         1950,
         "Paul Pietsch",
         "German",
         0.0,
         0,
         22
        ],
        [
         1950,
         "Leslie Johnson",
         "British",
         0.0,
         0,
         22
        ],
        [
         1950,
         "Jack McGrath",
         "American",
         0.0,
         0,
         22
        ],
        [
         1950,
         "Jimmy Jackson",
         "American",
         0.0,
         0,
         22
        ],
        [
         1950,
         "Harry Schell",
         "American",
         0.0,
         0,
         22
        ],
        [
         1950,
         "Jimmy Davies",
         "American",
         0.0,
         0,
         22
        ],
        [
         1950,
         "Toni Branca",
         "Swiss",
         0.0,
         0,
         22
        ],
        [
         1950,
         "Walt Faulkner",
         "American",
         0.0,
         0,
         22
        ],
        [
         1950,
         "Tony Bettenhausen",
         "American",
         0.0,
         0,
         22
        ],
        [
         1950,
         "Piero Taruffi",
         "Italian",
         0.0,
         0,
         22
        ],
        [
         1950,
         "Fred Agabashian",
         "American",
         0.0,
         0,
         22
        ],
        [
         1950,
         "Charles Pozzi",
         "French",
         0.0,
         0,
         22
        ],
        [
         1950,
         "Franco Rol",
         "Italian",
         0.0,
         0,
         22
        ],
        [
         1950,
         "Duane Carter",
         "American",
         0.0,
         0,
         22
        ],
        [
         1950,
         "Henri Louveau",
         "French",
         0.0,
         0,
         22
        ],
        [
         1951,
         "Juan Fangio",
         "Argentine",
         32.0,
         2,
         1
        ],
        [
         1951,
         "Alberto Ascari",
         "Italian",
         28.0,
         2,
         2
        ],
        [
         1951,
         "José Froilán González",
         "Argentine",
         27.0,
         1,
         3
        ],
        [
         1951,
         "Nino Farina",
         "Italian",
         19.0,
         1,
         4
        ],
        [
         1951,
         "Luigi Villoresi",
         "Italian",
         18.0,
         0,
         5
        ],
        [
         1951,
         "Piero Taruffi",
         "Italian",
         10.0,
         0,
         6
        ],
        [
         1951,
         "Lee Wallard",
         "American",
         9.0,
         1,
         7
        ],
        [
         1951,
         "Felice Bonetto",
         "Italian",
         7.0,
         0,
         8
        ],
        [
         1951,
         "Mike Nazaruk",
         "American",
         6.0,
         0,
         9
        ],
        [
         1951,
         "Reg Parnell",
         "British",
         5.0,
         0,
         10
        ],
        [
         1951,
         "Luigi Fagioli",
         "Italian",
         4.0,
         1,
         11
        ],
        [
         1951,
         "Louis Rosier",
         "French",
         3.0,
         0,
         12
        ],
        [
         1951,
         "Andy Linden",
         "American",
         3.0,
         0,
         12
        ],
        [
         1951,
         "Consalvo Sanesi",
         "Italian",
         3.0,
         0,
         12
        ],
        [
         1951,
         "Manny Ayulo",
         "American",
         2.0,
         0,
         15
        ],
        [
         1951,
         "Jack McGrath",
         "American",
         2.0,
         0,
         15
        ],
        [
         1951,
         "Bobby Ball",
         "American",
         2.0,
         0,
         15
        ],
        [
         1951,
         "Toulo de Graffenried",
         "Swiss",
         2.0,
         0,
         15
        ],
        [
         1951,
         "Yves Cabantous",
         "French",
         2.0,
         0,
         15
        ],
        [
         1951,
         "Gene Force",
         "American",
         0.0,
         0,
         20
        ],
        [
         1951,
         "Bill Schindler",
         "American",
         0.0,
         0,
         20
        ],
        [
         1951,
         "Harry Schell",
         "American",
         0.0,
         0,
         20
        ],
        [
         1951,
         "Mack Hellings",
         "American",
         0.0,
         0,
         20
        ],
        [
         1951,
         "Rudi Fischer",
         "Swiss",
         0.0,
         0,
         20
        ],
        [
         1951,
         "Robert Manzon",
         "French",
         0.0,
         0,
         20
        ],
        [
         1951,
         "Joe James",
         "American",
         0.0,
         0,
         20
        ],
        [
         1951,
         "David Murray",
         "British",
         0.0,
         0,
         20
        ],
        [
         1951,
         "Peter Walker",
         "British",
         0.0,
         0,
         20
        ],
        [
         1951,
         "Chet Miller",
         "American",
         0.0,
         0,
         20
        ],
        [
         1951,
         "Aldo Gordini",
         "French",
         0.0,
         0,
         20
        ],
        [
         1951,
         "Franco Rol",
         "Italian",
         0.0,
         0,
         20
        ],
        [
         1951,
         "Paul Pietsch",
         "German",
         0.0,
         0,
         20
        ],
        [
         1951,
         "Eugène Chaboud",
         "French",
         0.0,
         0,
         20
        ],
        [
         1951,
         "John James",
         "British",
         0.0,
         0,
         20
        ],
        [
         1951,
         "Chico Landi",
         "Brazilian",
         0.0,
         0,
         20
        ],
        [
         1951,
         "Troy Ruttman",
         "American",
         0.0,
         0,
         20
        ],
        [
         1951,
         "Carl Forberg",
         "American",
         0.0,
         0,
         20
        ],
        [
         1951,
         "Tony Bettenhausen",
         "American",
         0.0,
         0,
         20
        ],
        [
         1951,
         "Bob Gerard",
         "British",
         0.0,
         0,
         20
        ],
        [
         1951,
         "Walt Faulkner",
         "American",
         0.0,
         0,
         20
        ],
        [
         1951,
         "George Abecassis",
         "British",
         0.0,
         0,
         20
        ],
        [
         1951,
         "Stirling Moss",
         "British",
         0.0,
         0,
         20
        ],
        [
         1951,
         "Paco Godia",
         "Spanish",
         0.0,
         0,
         20
        ],
        [
         1951,
         "Philippe Étancelin",
         "French",
         0.0,
         0,
         20
        ],
        [
         1951,
         "Louis Chiron",
         "Monegasque",
         0.0,
         0,
         20
        ],
        [
         1951,
         "Henry Banks",
         "American",
         0.0,
         0,
         20
        ],
        [
         1951,
         "Ken Richardson",
         "British",
         0.0,
         0,
         20
        ],
        [
         1951,
         "Peter Whitehead",
         "British",
         0.0,
         0,
         20
        ],
        [
         1951,
         "Onofre Marimón",
         "Argentine",
         0.0,
         0,
         20
        ],
        [
         1951,
         "Henri Louveau",
         "French",
         0.0,
         0,
         20
        ],
        [
         1951,
         "Toni Branca",
         "Swiss",
         0.0,
         0,
         20
        ],
        [
         1951,
         "Georges Grignard",
         "French",
         0.0,
         0,
         20
        ],
        [
         1951,
         "Philip Fotheringham-Parker",
         "British",
         0.0,
         0,
         20
        ],
        [
         1951,
         "Juan Jover",
         "Spanish",
         0.0,
         0,
         20
        ],
        [
         1951,
         "Cliff Griffith",
         "American",
         0.0,
         0,
         20
        ],
        [
         1951,
         "Joe Kelly",
         "Irish",
         0.0,
         0,
         20
        ],
        [
         1951,
         "Guy Mairesse",
         "French",
         0.0,
         0,
         20
        ],
        [
         1951,
         "Fred Agabashian",
         "American",
         0.0,
         0,
         20
        ],
        [
         1951,
         "Duncan Hamilton",
         "British",
         0.0,
         0,
         20
        ],
        [
         1951,
         "Bill Vukovich",
         "American",
         0.0,
         0,
         20
        ],
        [
         1951,
         "Duane Carter",
         "American",
         0.0,
         0,
         20
        ],
        [
         1951,
         "Maurice Trintignant",
         "French",
         0.0,
         0,
         20
        ],
        [
         1951,
         "Johnnie Parsons",
         "American",
         0.0,
         0,
         20
        ],
        [
         1951,
         "Prince Bira",
         "Thai",
         0.0,
         0,
         20
        ],
        [
         1951,
         "Jimmy Davies",
         "American",
         0.0,
         0,
         20
        ],
        [
         1951,
         "Walt Brown",
         "American",
         0.0,
         0,
         20
        ],
        [
         1951,
         "Bill Mackey",
         "American",
         0.0,
         0,
         20
        ],
        [
         1951,
         "Duke Dinsmore",
         "American",
         0.0,
         0,
         20
        ],
        [
         1951,
         "André Pilette",
         "Belgian",
         0.0,
         0,
         20
        ],
        [
         1951,
         "Chuck Stevenson",
         "American",
         0.0,
         0,
         20
        ],
        [
         1951,
         "Peter Hirt",
         "Swiss",
         0.0,
         0,
         20
        ],
        [
         1951,
         "Rodger Ward",
         "American",
         0.0,
         0,
         20
        ],
        [
         1951,
         "Pierre Levegh",
         "French",
         0.0,
         0,
         20
        ],
        [
         1951,
         "Johnny McDowell",
         "American",
         0.0,
         0,
         20
        ],
        [
         1951,
         "Jacques Swaters",
         "American",
         0.0,
         0,
         20
        ],
        [
         1951,
         "Sam Hanks",
         "American",
         0.0,
         0,
         20
        ],
        [
         1951,
         "Duke Nalon",
         "American",
         0.0,
         0,
         20
        ],
        [
         1951,
         "Johnny Claes",
         "Belgian",
         0.0,
         0,
         20
        ],
        [
         1951,
         "Mauri Rose",
         "American",
         0.0,
         0,
         20
        ],
        [
         1951,
         "Carl Scarborough",
         "American",
         0.0,
         0,
         20
        ],
        [
         1951,
         "Brian Shawe Taylor",
         "British",
         0.0,
         0,
         20
        ],
        [
         1951,
         "Cecil Green",
         "American",
         0.0,
         0,
         20
        ],
        [
         1951,
         "André Simon",
         "French",
         0.0,
         0,
         20
        ],
        [
         1951,
         "George Connor",
         "American",
         0.0,
         0,
         20
        ],
        [
         1952,
         "Alberto Ascari",
         "Italian",
         53.5,
         6,
         1
        ],
        [
         1952,
         "Nino Farina",
         "Italian",
         27.0,
         0,
         2
        ],
        [
         1952,
         "Piero Taruffi",
         "Italian",
         22.0,
         1,
         3
        ],
        [
         1952,
         "Mike Hawthorn",
         "British",
         10.0,
         0,
         4
        ],
        [
         1952,
         "Rudi Fischer",
         "Swiss",
         10.0,
         0,
         4
        ],
        [
         1952,
         "Robert Manzon",
         "French",
         9.0,
         0,
         6
        ],
        [
         1952,
         "Troy Ruttman",
         "American",
         8.0,
         1,
         7
        ],
        [
         1952,
         "Luigi Villoresi",
         "Italian",
         8.0,
         0,
         8
        ],
        [
         1952,
         "José Froilán González",
         "Argentine",
         6.5,
         0,
         9
        ],
        [
         1952,
         "Jim Rathmann",
         "American",
         6.0,
         0,
         10
        ],
        [
         1952,
         "Jean Behra",
         "French",
         6.0,
         0,
         10
        ],
        [
         1952,
         "Sam Hanks",
         "American",
         4.0,
         0,
         12
        ],
        [
         1952,
         "Dennis Poore",
         "British",
         3.0,
         0,
         13
        ],
        [
         1952,
         "Duane Carter",
         "American",
         3.0,
         0,
         13
        ],
        [
         1952,
         "Ken Wharton",
         "British",
         3.0,
         0,
         13
        ],
        [
         1952,
         "Art Cross",
         "American",
         2.0,
         0,
         16
        ],
        [
         1952,
         "Paul Frère",
         "Belgian",
         2.0,
         0,
         16
        ],
        [
         1952,
         "Maurice Trintignant",
         "French",
         2.0,
         0,
         16
        ],
        [
         1952,
         "Felice Bonetto",
         "Italian",
         2.0,
         0,
         16
        ],
        [
         1952,
         "Alan Brown",
         "British",
         2.0,
         0,
         16
        ],
        [
         1952,
         "Eric Thompson",
         "British",
         2.0,
         0,
         16
        ],
        [
         1952,
         "Bill Vukovich",
         "American",
         1.0,
         0,
         22
        ],
        [
         1952,
         "Piero Carini",
         "Italian",
         0.0,
         0,
         23
        ],
        [
         1952,
         "Chet Miller",
         "American",
         0.0,
         0,
         23
        ],
        [
         1952,
         "Andy Linden",
         "American",
         0.0,
         0,
         23
        ],
        [
         1952,
         "Ernst Klodwig",
         "East German",
         0.0,
         0,
         23
        ],
        [
         1952,
         "Toni Ulmen",
         "German",
         0.0,
         0,
         23
        ],
        [
         1952,
         "Johnny Claes",
         "Belgian",
         0.0,
         0,
         23
        ],
        [
         1952,
         "Ken Downing",
         "British",
         0.0,
         0,
         23
        ],
        [
         1952,
         "Jim Rigsby",
         "American",
         0.0,
         0,
         23
        ],
        [
         1952,
         "Graham Whitehead",
         "British",
         0.0,
         0,
         23
        ],
        [
         1952,
         "Eitel Cantoni",
         "Uruguayan",
         0.0,
         0,
         23
        ],
        [
         1952,
         "Philippe Étancelin",
         "French",
         0.0,
         0,
         23
        ],
        [
         1952,
         "Joe James",
         "American",
         0.0,
         0,
         23
        ],
        [
         1952,
         "Helmut Niedermayr",
         "German",
         0.0,
         0,
         23
        ],
        [
         1952,
         "Bobby Ball",
         "American",
         0.0,
         0,
         23
        ],
        [
         1952,
         "Peter Whitehead",
         "British",
         0.0,
         0,
         23
        ],
        [
         1952,
         "George Fonder",
         "American",
         0.0,
         0,
         23
        ],
        [
         1952,
         "Harry Schell",
         "American",
         0.0,
         0,
         23
        ],
        [
         1952,
         "Kenneth McAlpine",
         "British",
         0.0,
         0,
         23
        ],
        [
         1952,
         "Franco Rol",
         "Italian",
         0.0,
         0,
         23
        ],
        [
         1952,
         "Franco Comotti",
         "Italian",
         0.0,
         0,
         23
        ],
        [
         1952,
         "Eric Brandon",
         "British",
         0.0,
         0,
         23
        ],
        [
         1952,
         "Prince Bira",
         "Thai",
         0.0,
         0,
         23
        ],
        [
         1952,
         "Theo Helfrich",
         "German",
         0.0,
         0,
         23
        ],
        [
         1952,
         "Alberto Crespo",
         "Argentine",
         0.0,
         0,
         23
        ],
        [
         1952,
         "Henry Banks",
         "American",
         0.0,
         0,
         23
        ],
        [
         1952,
         "Piero Dusio",
         "Italian",
         0.0,
         0,
         23
        ],
        [
         1952,
         "Stirling Moss",
         "British",
         0.0,
         0,
         23
        ],
        [
         1952,
         "Dries van der Lof",
         "Dutch",
         0.0,
         0,
         23
        ],
        [
         1952,
         "Hans von Stuck",
         "German",
         0.0,
         0,
         23
        ],
        [
         1952,
         "Lance Macklin",
         "British",
         0.0,
         0,
         23
        ],
        [
         1952,
         "Gene Hartley",
         "American",
         0.0,
         0,
         23
        ],
        [
         1952,
         "Chico Landi",
         "Brazilian",
         0.0,
         0,
         23
        ],
        [
         1952,
         "Peter Hirt",
         "Swiss",
         0.0,
         0,
         23
        ],
        [
         1952,
         "Jimmy Reece",
         "American",
         0.0,
         0,
         23
        ],
        [
         1952,
         "Tony Bettenhausen",
         "American",
         0.0,
         0,
         23
        ],
        [
         1952,
         "Fritz Riess",
         "German",
         0.0,
         0,
         23
        ],
        [
         1952,
         "Rodger Ward",
         "American",
         0.0,
         0,
         23
        ],
        [
         1952,
         "Günther Bechem",
         "German",
         0.0,
         0,
         23
        ],
        [
         1952,
         "Jack McGrath",
         "American",
         0.0,
         0,
         23
        ],
        [
         1952,
         "Adolf Brudes",
         "German",
         0.0,
         0,
         23
        ],
        [
         1952,
         "Tony Crook",
         "British",
         0.0,
         0,
         23
        ],
        [
         1952,
         "Travis Webb",
         "American",
         0.0,
         0,
         23
        ],
        [
         1952,
         "Gino Bianco",
         "Brazilian",
         0.0,
         0,
         23
        ],
        [
         1952,
         "Bob Sweikert",
         "American",
         0.0,
         0,
         23
        ],
        [
         1952,
         "Charles de Tornaco",
         "Belgian",
         0.0,
         0,
         23
        ],
        [
         1952,
         "Paul Pietsch",
         "German",
         0.0,
         0,
         23
        ],
        [
         1952,
         "Max de Terra",
         "Swiss",
         0.0,
         0,
         23
        ],
        [
         1952,
         "Toulo de Graffenried",
         "Swiss",
         0.0,
         0,
         23
        ],
        [
         1952,
         "Bill Schindler",
         "American",
         0.0,
         0,
         23
        ],
        [
         1952,
         "Manny Ayulo",
         "American",
         0.0,
         0,
         23
        ],
        [
         1952,
         "Duke Nalon",
         "American",
         0.0,
         0,
         23
        ],
        [
         1952,
         "Johnny McDowell",
         "American",
         0.0,
         0,
         23
        ],
        [
         1952,
         "Duncan Hamilton",
         "British",
         0.0,
         0,
         23
        ],
        [
         1952,
         "Peter Collins",
         "British",
         0.0,
         0,
         23
        ],
        [
         1952,
         "Jimmy Bryan",
         "American",
         0.0,
         0,
         23
        ],
        [
         1952,
         "Reg Parnell",
         "British",
         0.0,
         0,
         23
        ],
        [
         1952,
         "Hans Klenk",
         "German",
         0.0,
         0,
         23
        ],
        [
         1952,
         "Bob Scott",
         "American",
         0.0,
         0,
         23
        ],
        [
         1952,
         "Josef Peters",
         "German",
         0.0,
         0,
         23
        ],
        [
         1952,
         "Marcel Balsa",
         "French",
         0.0,
         0,
         23
        ],
        [
         1952,
         "Yves Cabantous",
         "French",
         0.0,
         0,
         23
        ],
        [
         1952,
         "George Abecassis",
         "British",
         0.0,
         0,
         23
        ],
        [
         1952,
         "Louis Rosier",
         "French",
         0.0,
         0,
         23
        ],
        [
         1952,
         "Élie Bayol",
         "French",
         0.0,
         0,
         23
        ],
        [
         1952,
         "Robin Montgomerie-Charrington",
         "British",
         0.0,
         0,
         23
        ],
        [
         1952,
         "Tony Gaze",
         "Australian",
         0.0,
         0,
         23
        ],
        [
         1952,
         "Jan Flinterman",
         "Dutch",
         0.0,
         0,
         23
        ],
        [
         1952,
         "Rudolf Krause",
         "East German",
         0.0,
         0,
         23
        ],
        [
         1952,
         "Fred Agabashian",
         "American",
         0.0,
         0,
         23
        ],
        [
         1952,
         "Robert O'Brien",
         "American",
         0.0,
         0,
         23
        ],
        [
         1952,
         "Rudolf Schoeller",
         "Swiss",
         0.0,
         0,
         23
        ],
        [
         1952,
         "Eddie Johnson",
         "American",
         0.0,
         0,
         23
        ],
        [
         1952,
         "Cliff Griffith",
         "American",
         0.0,
         0,
         23
        ],
        [
         1952,
         "George Connor",
         "American",
         0.0,
         0,
         23
        ],
        [
         1952,
         "Roger Laurent",
         "Belgian",
         0.0,
         0,
         23
        ],
        [
         1952,
         "Willi Heeks",
         "German",
         0.0,
         0,
         23
        ],
        [
         1952,
         "Arthur Legat",
         "Belgian",
         0.0,
         0,
         23
        ],
        [
         1952,
         "Bill Aston",
         "British",
         0.0,
         0,
         23
        ],
        [
         1952,
         "Roy Salvadori",
         "British",
         0.0,
         0,
         23
        ],
        [
         1952,
         "Johnnie Parsons",
         "American",
         0.0,
         0,
         23
        ],
        [
         1952,
         "André Simon",
         "French",
         0.0,
         0,
         23
        ],
        [
         1952,
         "Chuck Stevenson",
         "American",
         0.0,
         0,
         23
        ],
        [
         1952,
         "David Murray",
         "British",
         0.0,
         0,
         23
        ],
        [
         1953,
         "Alberto Ascari",
         "Italian",
         45.5,
         5,
         1
        ],
        [
         1953,
         "Nino Farina",
         "Italian",
         32.0,
         1,
         2
        ],
        [
         1953,
         "Juan Fangio",
         "Argentine",
         29.5,
         1,
         3
        ],
        [
         1953,
         "Mike Hawthorn",
         "British",
         27.0,
         1,
         4
        ],
        [
         1953,
         "Luigi Villoresi",
         "Italian",
         17.0,
         0,
         5
        ],
        [
         1953,
         "José Froilán González",
         "Argentine",
         12.5,
         0,
         6
        ],
        [
         1953,
         "Bill Vukovich",
         "American",
         9.0,
         1,
         7
        ],
        [
         1953,
         "Toulo de Graffenried",
         "Swiss",
         7.0,
         0,
         8
        ],
        [
         1953,
         "Art Cross",
         "American",
         6.0,
         0,
         9
        ],
        [
         1953,
         "Felice Bonetto",
         "Italian",
         5.0,
         0,
         10
        ],
        [
         1953,
         "Maurice Trintignant",
         "French",
         4.0,
         0,
         11
        ],
        [
         1953,
         "Onofre Marimón",
         "Argentine",
         4.0,
         0,
         11
        ],
        [
         1953,
         "Hermann Lang",
         "German",
         2.0,
         0,
         13
        ],
        [
         1953,
         "Oscar Gálvez",
         "Argentine",
         2.0,
         0,
         13
        ],
        [
         1953,
         "Jack McGrath",
         "American",
         2.0,
         0,
         13
        ],
        [
         1953,
         "Sam Hanks",
         "American",
         2.0,
         0,
         13
        ],
        [
         1953,
         "Fred Agabashian",
         "American",
         1.5,
         0,
         17
        ],
        [
         1953,
         "Eddie Johnson",
         "American",
         0.0,
         0,
         18
        ],
        [
         1953,
         "Wolfgang Seidel",
         "German",
         0.0,
         0,
         18
        ],
        [
         1953,
         "Hans von Stuck",
         "German",
         0.0,
         0,
         18
        ],
        [
         1953,
         "Stirling Moss",
         "British",
         0.0,
         0,
         18
        ],
        [
         1953,
         "Georges Berger",
         "Belgian",
         0.0,
         0,
         18
        ],
        [
         1953,
         "Ernie McCoy",
         "American",
         0.0,
         0,
         18
        ],
        [
         1953,
         "Piero Carini",
         "Italian",
         0.0,
         0,
         18
        ],
        [
         1953,
         "Tony Bettenhausen",
         "American",
         0.0,
         0,
         18
        ],
        [
         1953,
         "Carl Scarborough",
         "American",
         0.0,
         0,
         18
        ],
        [
         1953,
         "Peter Hirt",
         "Swiss",
         0.0,
         0,
         18
        ],
        [
         1953,
         "Bob Scott",
         "American",
         0.0,
         0,
         18
        ],
        [
         1953,
         "André Pilette",
         "Belgian",
         0.0,
         0,
         18
        ],
        [
         1953,
         "Harry Schell",
         "American",
         0.0,
         0,
         18
        ],
        [
         1953,
         "Jimmy Davies",
         "American",
         0.0,
         0,
         18
        ],
        [
         1953,
         "Tony Crook",
         "British",
         0.0,
         0,
         18
        ],
        [
         1953,
         "Bill Holland",
         "American",
         0.0,
         0,
         18
        ],
        [
         1953,
         "Ian Stewart",
         "British",
         0.0,
         0,
         18
        ],
        [
         1953,
         "Duane Carter",
         "American",
         0.0,
         0,
         18
        ],
        [
         1953,
         "Johnny Claes",
         "Belgian",
         0.0,
         0,
         18
        ],
        [
         1953,
         "Kenneth McAlpine",
         "British",
         0.0,
         0,
         18
        ],
        [
         1953,
         "Louis Rosier",
         "French",
         0.0,
         0,
         18
        ],
        [
         1953,
         "Luigi Musso",
         "Italian",
         0.0,
         0,
         18
        ],
        [
         1953,
         "Jean Behra",
         "French",
         0.0,
         0,
         18
        ],
        [
         1953,
         "Bob Sweikert",
         "American",
         0.0,
         0,
         18
        ],
        [
         1953,
         "Chico Landi",
         "Brazilian",
         0.0,
         0,
         18
        ],
        [
         1953,
         "Robert Manzon",
         "French",
         0.0,
         0,
         18
        ],
        [
         1953,
         "Johnny Mantz",
         "American",
         0.0,
         0,
         18
        ],
        [
         1953,
         "Ernst Klodwig",
         "East German",
         0.0,
         0,
         18
        ],
        [
         1953,
         "Pat Flaherty",
         "American",
         0.0,
         0,
         18
        ],
        [
         1953,
         "Rodney Nuckey",
         "British",
         0.0,
         0,
         18
        ],
        [
         1953,
         "John Barber",
         "British",
         0.0,
         0,
         18
        ],
        [
         1953,
         "Theo Fitzau",
         "East German",
         0.0,
         0,
         18
        ],
        [
         1953,
         "Roberto Mieres",
         "Argentine",
         0.0,
         0,
         18
        ],
        [
         1953,
         "Travis Webb",
         "American",
         0.0,
         0,
         18
        ],
        [
         1953,
         "Johnnie Parsons",
         "American",
         0.0,
         0,
         18
        ],
        [
         1953,
         "Max de Terra",
         "Swiss",
         0.0,
         0,
         18
        ],
        [
         1953,
         "Fred Wacker",
         "American",
         0.0,
         0,
         18
        ],
        [
         1953,
         "Rodger Ward",
         "American",
         0.0,
         0,
         18
        ],
        [
         1953,
         "Lance Macklin",
         "British",
         0.0,
         0,
         18
        ],
        [
         1953,
         "Cal Niday",
         "American",
         0.0,
         0,
         18
        ],
        [
         1953,
         "Duke Nalon",
         "American",
         0.0,
         0,
         18
        ],
        [
         1953,
         "Bob Gerard",
         "British",
         0.0,
         0,
         18
        ],
        [
         1953,
         "Manny Ayulo",
         "American",
         0.0,
         0,
         18
        ],
        [
         1953,
         "Élie Bayol",
         "French",
         0.0,
         0,
         18
        ],
        [
         1953,
         "Duncan Hamilton",
         "British",
         0.0,
         0,
         18
        ],
        [
         1953,
         "Jacques Swaters",
         "American",
         0.0,
         0,
         18
        ],
        [
         1953,
         "Peter Collins",
         "British",
         0.0,
         0,
         18
        ],
        [
         1953,
         "Carlos Menditeguy",
         "Argentine",
         0.0,
         0,
         18
        ],
        [
         1953,
         "Yves Cabantous",
         "French",
         0.0,
         0,
         18
        ],
        [
         1953,
         "Kurt Adolff",
         "German",
         0.0,
         0,
         18
        ],
        [
         1953,
         "Adolfo Cruz",
         "Argentine",
         0.0,
         0,
         18
        ],
        [
         1953,
         "Theo Helfrich",
         "German",
         0.0,
         0,
         18
        ],
        [
         1953,
         "Duke Dinsmore",
         "American",
         0.0,
         0,
         18
        ],
        [
         1953,
         "Alan Brown",
         "British",
         0.0,
         0,
         18
        ],
        [
         1953,
         "Jimmy Bryan",
         "American",
         0.0,
         0,
         18
        ],
        [
         1953,
         "Willi Heeks",
         "German",
         0.0,
         0,
         18
        ],
        [
         1953,
         "Peter Whitehead",
         "British",
         0.0,
         0,
         18
        ],
        [
         1953,
         "Tony Rolt",
         "British",
         0.0,
         0,
         18
        ],
        [
         1953,
         "Jimmy Daywalt",
         "American",
         0.0,
         0,
         18
        ],
        [
         1953,
         "Günther Bechem",
         "German",
         0.0,
         0,
         18
        ],
        [
         1953,
         "Roy Salvadori",
         "British",
         0.0,
         0,
         18
        ],
        [
         1953,
         "Prince Bira",
         "Thai",
         0.0,
         0,
         18
        ],
        [
         1953,
         "Hans Herrmann",
         "German",
         0.0,
         0,
         18
        ],
        [
         1953,
         "Sergio Mantovani",
         "Italian",
         0.0,
         0,
         18
        ],
        [
         1953,
         "Andy Linden",
         "American",
         0.0,
         0,
         18
        ],
        [
         1953,
         "Jack Fairman",
         "British",
         0.0,
         0,
         18
        ],
        [
         1953,
         "Louis Chiron",
         "Monegasque",
         0.0,
         0,
         18
        ],
        [
         1953,
         "Marshall Teague",
         "American",
         0.0,
         0,
         18
        ],
        [
         1953,
         "Edgar Barth",
         "German",
         0.0,
         0,
         18
        ],
        [
         1953,
         "Albert Scherrer",
         "Swiss",
         0.0,
         0,
         18
        ],
        [
         1953,
         "Jim Rathmann",
         "American",
         0.0,
         0,
         18
        ],
        [
         1953,
         "Ken Wharton",
         "British",
         0.0,
         0,
         18
        ],
        [
         1953,
         "Oswald Karch",
         "German",
         0.0,
         0,
         18
        ],
        [
         1953,
         "Rudolf Krause",
         "East German",
         0.0,
         0,
         18
        ],
        [
         1953,
         "Don Freeland",
         "American",
         0.0,
         0,
         18
        ],
        [
         1953,
         "Umberto Maglioli",
         "Italian",
         0.0,
         0,
         18
        ],
        [
         1953,
         "Erwin Bauer",
         "German",
         0.0,
         0,
         18
        ],
        [
         1953,
         "Walt Faulkner",
         "American",
         0.0,
         0,
         18
        ],
        [
         1953,
         "Chuck Stevenson",
         "American",
         0.0,
         0,
         18
        ],
        [
         1953,
         "Paul Frère",
         "Belgian",
         0.0,
         0,
         18
        ],
        [
         1953,
         "John Fitch",
         "American",
         0.0,
         0,
         18
        ],
        [
         1953,
         "Mike Nazaruk",
         "American",
         0.0,
         0,
         18
        ],
        [
         1953,
         "Gene Hartley",
         "American",
         0.0,
         0,
         18
        ],
        [
         1953,
         "Jimmy Stewart",
         "British",
         0.0,
         0,
         18
        ],
        [
         1953,
         "Ernst Loof",
         "German",
         0.0,
         0,
         18
        ],
        [
         1953,
         "Arthur Legat",
         "Belgian",
         0.0,
         0,
         18
        ],
        [
         1953,
         "Paul Russo",
         "American",
         0.0,
         0,
         18
        ],
        [
         1953,
         "Jackie Holmes",
         "American",
         0.0,
         0,
         18
        ],
        [
         1953,
         "Jerry Hoyt",
         "American",
         0.0,
         0,
         18
        ],
        [
         1953,
         "Pablo Birger",
         "Argentine",
         0.0,
         0,
         18
        ],
        [
         1953,
         "Johnny Thomson",
         "American",
         0.0,
         0,
         18
        ],
        [
         1954,
         "Juan Fangio",
         "Argentine",
         57.140000104904175,
         6,
         1
        ],
        [
         1954,
         "José Froilán González",
         "Argentine",
         23.640000343322754,
         1,
         2
        ],
        [
         1954,
         "Mike Hawthorn",
         "British",
         21.639999866485596,
         1,
         3
        ],
        [
         1954,
         "Maurice Trintignant",
         "French",
         17.0,
         0,
         4
        ],
        [
         1954,
         "Karl Kling",
         "German",
         12.0,
         0,
         5
        ],
        [
         1954,
         "Bill Vukovich",
         "American",
         8.0,
         1,
         6
        ],
        [
         1954,
         "Hans Herrmann",
         "German",
         8.0,
         0,
         7
        ],
        [
         1954,
         "Luigi Musso",
         "Italian",
         6.0,
         0,
         8
        ],
        [
         1954,
         "Roberto Mieres",
         "Argentine",
         6.0,
         0,
         8
        ],
        [
         1954,
         "Jimmy Bryan",
         "American",
         6.0,
         0,
         8
        ],
        [
         1954,
         "Nino Farina",
         "Italian",
         6.0,
         0,
         8
        ],
        [
         1954,
         "Jack McGrath",
         "American",
         5.0,
         0,
         12
        ],
        [
         1954,
         "Onofre Marimón",
         "Argentine",
         4.139999866485596,
         0,
         13
        ],
        [
         1954,
         "Sergio Mantovani",
         "Italian",
         4.0,
         0,
         14
        ],
        [
         1954,
         "Stirling Moss",
         "British",
         4.0,
         0,
         14
        ],
        [
         1954,
         "Robert Manzon",
         "French",
         4.0,
         0,
         14
        ],
        [
         1954,
         "Prince Bira",
         "Thai",
         3.0,
         0,
         17
        ],
        [
         1954,
         "André Pilette",
         "Belgian",
         2.0,
         0,
         18
        ],
        [
         1954,
         "Umberto Maglioli",
         "Italian",
         2.0,
         0,
         18
        ],
        [
         1954,
         "Élie Bayol",
         "French",
         2.0,
         0,
         18
        ],
        [
         1954,
         "Mike Nazaruk",
         "American",
         2.0,
         0,
         18
        ],
        [
         1954,
         "Luigi Villoresi",
         "Italian",
         2.0,
         0,
         18
        ],
        [
         1954,
         "Troy Ruttman",
         "American",
         1.5,
         0,
         23
        ],
        [
         1954,
         "Alberto Ascari",
         "Italian",
         1.0,
         0,
         24
        ],
        [
         1954,
         "Jorge Daponte",
         "Argentine",
         0.0,
         0,
         25
        ],
        [
         1954,
         "John Riseley-Prichard",
         "British",
         0.0,
         0,
         25
        ],
        [
         1954,
         "Peter Collins",
         "British",
         0.0,
         0,
         25
        ],
        [
         1954,
         "Bob Scott",
         "American",
         0.0,
         0,
         25
        ],
        [
         1954,
         "Hermann Lang",
         "German",
         0.0,
         0,
         25
        ],
        [
         1954,
         "Gene Hartley",
         "American",
         0.0,
         0,
         25
        ],
        [
         1954,
         "Louis Rosier",
         "French",
         0.0,
         0,
         25
        ],
        [
         1954,
         "Giovanni de Riu",
         "Italian",
         0.0,
         0,
         25
        ],
        [
         1954,
         "Jimmy Jackson",
         "American",
         0.0,
         0,
         25
        ],
        [
         1954,
         "Jimmy Davies",
         "American",
         0.0,
         0,
         25
        ],
        [
         1954,
         "Ernie McCoy",
         "American",
         0.0,
         0,
         25
        ],
        [
         1954,
         "Pat Flaherty",
         "American",
         0.0,
         0,
         25
        ],
        [
         1954,
         "Bob Gerard",
         "British",
         0.0,
         0,
         25
        ],
        [
         1954,
         "Leslie Marr",
         "British",
         0.0,
         0,
         25
        ],
        [
         1954,
         "Carlos Menditeguy",
         "Argentine",
         0.0,
         0,
         25
        ],
        [
         1954,
         "Piero Taruffi",
         "Italian",
         0.0,
         0,
         25
        ],
        [
         1954,
         "Bill Whitehouse",
         "British",
         0.0,
         0,
         25
        ],
        [
         1954,
         "Frank Armi",
         "American",
         0.0,
         0,
         25
        ],
        [
         1954,
         "Harry Schell",
         "American",
         0.0,
         0,
         25
        ],
        [
         1954,
         "Ottorino Volonterio",
         "Swiss",
         0.0,
         0,
         25
        ],
        [
         1954,
         "Rodney Nuckey",
         "British",
         0.0,
         0,
         25
        ],
        [
         1954,
         "Clemar Bucci",
         "Argentine",
         0.0,
         0,
         25
        ],
        [
         1954,
         "Pat O'Connor",
         "American",
         0.0,
         0,
         25
        ],
        [
         1954,
         "Jimmy Daywalt",
         "American",
         0.0,
         0,
         25
        ],
        [
         1954,
         "Leslie Thorne",
         "British",
         0.0,
         0,
         25
        ],
        [
         1954,
         "Georges Berger",
         "Belgian",
         0.0,
         0,
         25
        ],
        [
         1954,
         "Ken Wharton",
         "British",
         0.0,
         0,
         25
        ],
        [
         1954,
         "Paco Godia",
         "Spanish",
         0.0,
         0,
         25
        ],
        [
         1954,
         "Marshall Teague",
         "American",
         0.0,
         0,
         25
        ],
        [
         1954,
         "Ed Elisian",
         "American",
         0.0,
         0,
         25
        ],
        [
         1954,
         "Andy Linden",
         "American",
         0.0,
         0,
         25
        ],
        [
         1954,
         "Manny Ayulo",
         "American",
         0.0,
         0,
         25
        ],
        [
         1954,
         "Art Cross",
         "American",
         0.0,
         0,
         25
        ],
        [
         1954,
         "Johnny Thomson",
         "American",
         0.0,
         0,
         25
        ],
        [
         1954,
         "Bill Homeier",
         "American",
         0.0,
         0,
         25
        ],
        [
         1954,
         "Jim Rathmann",
         "American",
         0.0,
         0,
         25
        ],
        [
         1954,
         "Fred Wacker",
         "American",
         0.0,
         0,
         25
        ],
        [
         1954,
         "Jean Behra",
         "French",
         0.0,
         0,
         25
        ],
        [
         1954,
         "Toulo de Graffenried",
         "Swiss",
         0.0,
         0,
         25
        ],
        [
         1954,
         "Roger Loyer",
         "French",
         0.0,
         0,
         25
        ],
        [
         1954,
         "Cal Niday",
         "American",
         0.0,
         0,
         25
        ],
        [
         1954,
         "Johnnie Parsons",
         "American",
         0.0,
         0,
         25
        ],
        [
         1954,
         "Tony Bettenhausen",
         "American",
         0.0,
         0,
         25
        ],
        [
         1954,
         "Jimmy Reece",
         "American",
         0.0,
         0,
         25
        ],
        [
         1954,
         "Lance Macklin",
         "British",
         0.0,
         0,
         25
        ],
        [
         1954,
         "Alan Brown",
         "British",
         0.0,
         0,
         25
        ],
        [
         1954,
         "Jerry Hoyt",
         "American",
         0.0,
         0,
         25
        ],
        [
         1954,
         "Peter Whitehead",
         "British",
         0.0,
         0,
         25
        ],
        [
         1954,
         "Theo Helfrich",
         "German",
         0.0,
         0,
         25
        ],
        [
         1954,
         "Chuck Stevenson",
         "American",
         0.0,
         0,
         25
        ],
        [
         1954,
         "Paul Frère",
         "Belgian",
         0.0,
         0,
         25
        ],
        [
         1954,
         "Bob Sweikert",
         "American",
         0.0,
         0,
         25
        ],
        [
         1954,
         "Fred Agabashian",
         "American",
         0.0,
         0,
         25
        ],
        [
         1954,
         "Duane Carter",
         "American",
         0.0,
         0,
         25
        ],
        [
         1954,
         "Don Beauman",
         "British",
         0.0,
         0,
         25
        ],
        [
         1954,
         "Eric Brandon",
         "British",
         0.0,
         0,
         25
        ],
        [
         1954,
         "Horace Gould",
         "British",
         0.0,
         0,
         25
        ],
        [
         1954,
         "Len Duncan",
         "American",
         0.0,
         0,
         25
        ],
        [
         1954,
         "Reg Parnell",
         "British",
         0.0,
         0,
         25
        ],
        [
         1954,
         "Travis Webb",
         "American",
         0.0,
         0,
         25
        ],
        [
         1954,
         "Roy Salvadori",
         "British",
         0.0,
         0,
         25
        ],
        [
         1954,
         "Walt Faulkner",
         "American",
         0.0,
         0,
         25
        ],
        [
         1954,
         "Don Freeland",
         "American",
         0.0,
         0,
         25
        ],
        [
         1954,
         "Sam Hanks",
         "American",
         0.0,
         0,
         25
        ],
        [
         1954,
         "George Fonder",
         "American",
         0.0,
         0,
         25
        ],
        [
         1954,
         "Ron Flockhart",
         "British",
         0.0,
         0,
         25
        ],
        [
         1954,
         "Rodger Ward",
         "American",
         0.0,
         0,
         25
        ],
        [
         1954,
         "Paul Russo",
         "American",
         0.0,
         0,
         25
        ],
        [
         1954,
         "Danny Kladis",
         "American",
         0.0,
         0,
         25
        ],
        [
         1954,
         "Jacques Swaters",
         "American",
         0.0,
         0,
         25
        ],
        [
         1954,
         "Jacques Pollet",
         "French",
         0.0,
         0,
         25
        ],
        [
         1954,
         "Larry Crockett",
         "American",
         0.0,
         0,
         25
        ],
        [
         1954,
         "Eddie Johnson",
         "American",
         0.0,
         0,
         25
        ],
        [
         1955,
         "Juan Fangio",
         "Argentine",
         41.0,
         4,
         1
        ],
        [
         1955,
         "Stirling Moss",
         "British",
         22.0,
         1,
         2
        ],
        [
         1955,
         "Eugenio Castellotti",
         "Italian",
         12.0,
         0,
         3
        ],
        [
         1955,
         "Piero Taruffi",
         "Italian",
         9.0,
         0,
         4
        ],
        [
         1955,
         "Nino Farina",
         "Italian",
         8.330000042915344,
         0,
         5
        ],
        [
         1955,
         "Maurice Trintignant",
         "French",
         8.0,
         1,
         6
        ],
        [
         1955,
         "Bob Sweikert",
         "American",
         8.0,
         1,
         6
        ],
        [
         1955,
         "Roberto Mieres",
         "Argentine",
         7.0,
         0,
         8
        ],
        [
         1955,
         "Luigi Musso",
         "Italian",
         6.0,
         0,
         9
        ],
        [
         1955,
         "Jean Behra",
         "French",
         5.0,
         0,
         10
        ],
        [
         1955,
         "Jimmy Davies",
         "American",
         4.0,
         0,
         11
        ],
        [
         1955,
         "Karl Kling",
         "German",
         4.0,
         0,
         11
        ],
        [
         1955,
         "Johnny Thomson",
         "American",
         3.0,
         0,
         13
        ],
        [
         1955,
         "Paul Frère",
         "Belgian",
         3.0,
         0,
         13
        ],
        [
         1955,
         "Tony Bettenhausen",
         "American",
         3.0,
         0,
         13
        ],
        [
         1955,
         "Paul Russo",
         "American",
         3.0,
         0,
         13
        ],
        [
         1955,
         "Carlos Menditeguy",
         "Argentine",
         2.0,
         0,
         17
        ],
        [
         1955,
         "Luigi Villoresi",
         "Italian",
         2.0,
         0,
         17
        ],
        [
         1955,
         "José Froilán González",
         "Argentine",
         2.0,
         0,
         17
        ],
        [
         1955,
         "Umberto Maglioli",
         "Italian",
         1.3300000429153442,
         0,
         20
        ],
        [
         1955,
         "Bill Vukovich",
         "American",
         1.0,
         0,
         21
        ],
        [
         1955,
         "Bill Homeier",
         "American",
         1.0,
         0,
         21
        ],
        [
         1955,
         "Walt Faulkner",
         "American",
         1.0,
         0,
         21
        ],
        [
         1955,
         "Hans Herrmann",
         "German",
         1.0,
         0,
         21
        ],
        [
         1955,
         "Peter Collins",
         "British",
         0.0,
         0,
         25
        ],
        [
         1955,
         "Johnnie Parsons",
         "American",
         0.0,
         0,
         25
        ],
        [
         1955,
         "Kenneth McAlpine",
         "British",
         0.0,
         0,
         25
        ],
        [
         1955,
         "Don Freeland",
         "American",
         0.0,
         0,
         25
        ],
        [
         1955,
         "John Fitch",
         "American",
         0.0,
         0,
         25
        ],
        [
         1955,
         "Cesare Perdisa",
         "Italian",
         0.0,
         0,
         25
        ],
        [
         1955,
         "Jim Rathmann",
         "American",
         0.0,
         0,
         25
        ],
        [
         1955,
         "Horace Gould",
         "British",
         0.0,
         0,
         25
        ],
        [
         1955,
         "Eddie Russo",
         "American",
         0.0,
         0,
         25
        ],
        [
         1955,
         "Pat Flaherty",
         "American",
         0.0,
         0,
         25
        ],
        [
         1955,
         "Al Herman",
         "American",
         0.0,
         0,
         25
        ],
        [
         1955,
         "Duane Carter",
         "American",
         0.0,
         0,
         25
        ],
        [
         1955,
         "Alberto Ascari",
         "Italian",
         0.0,
         0,
         25
        ],
        [
         1955,
         "Al Keller",
         "American",
         0.0,
         0,
         25
        ],
        [
         1955,
         "Pat O'Connor",
         "American",
         0.0,
         0,
         25
        ],
        [
         1955,
         "Johnny Boyd",
         "American",
         0.0,
         0,
         25
        ],
        [
         1955,
         "Ed Elisian",
         "American",
         0.0,
         0,
         25
        ],
        [
         1955,
         "Roy Salvadori",
         "British",
         0.0,
         0,
         25
        ],
        [
         1955,
         "Jack Brabham",
         "Australian",
         0.0,
         0,
         25
        ],
        [
         1955,
         "Alberto Uria",
         "Uruguayan",
         0.0,
         0,
         25
        ],
        [
         1955,
         "Eddie Johnson",
         "American",
         0.0,
         0,
         25
        ],
        [
         1955,
         "Jean Lucas",
         "French",
         0.0,
         0,
         25
        ],
        [
         1955,
         "Fred Agabashian",
         "American",
         0.0,
         0,
         25
        ],
        [
         1955,
         "Ted Whiteaway",
         "British",
         0.0,
         0,
         25
        ],
        [
         1955,
         "Ken Wharton",
         "British",
         0.0,
         0,
         25
        ],
        [
         1955,
         "Clemar Bucci",
         "Argentine",
         0.0,
         0,
         25
        ],
        [
         1955,
         "Art Cross",
         "American",
         0.0,
         0,
         25
        ],
        [
         1955,
         "Luigi Piotti",
         "Italian",
         0.0,
         0,
         25
        ],
        [
         1955,
         "Jesús Iglesias",
         "Argentine",
         0.0,
         0,
         25
        ],
        [
         1955,
         "Louis Rosier",
         "French",
         0.0,
         0,
         25
        ],
        [
         1955,
         "Jacques Pollet",
         "French",
         0.0,
         0,
         25
        ],
        [
         1955,
         "Chuck Weyant",
         "American",
         0.0,
         0,
         25
        ],
        [
         1955,
         "Jimmy Reece",
         "American",
         0.0,
         0,
         25
        ],
        [
         1955,
         "Harry Schell",
         "American",
         0.0,
         0,
         25
        ],
        [
         1955,
         "Andy Linden",
         "American",
         0.0,
         0,
         25
        ],
        [
         1955,
         "Lance Macklin",
         "British",
         0.0,
         0,
         25
        ],
        [
         1955,
         "Sergio Mantovani",
         "Italian",
         0.0,
         0,
         25
        ],
        [
         1955,
         "Mike Hawthorn",
         "British",
         0.0,
         0,
         25
        ],
        [
         1955,
         "Hernando da Silva Ramos",
         "Brazilian",
         0.0,
         0,
         25
        ],
        [
         1955,
         "Mike Sparken",
         "French",
         0.0,
         0,
         25
        ],
        [
         1955,
         "Louis Chiron",
         "Monegasque",
         0.0,
         0,
         25
        ],
        [
         1955,
         "Ray Crawford",
         "American",
         0.0,
         0,
         25
        ],
        [
         1955,
         "Élie Bayol",
         "French",
         0.0,
         0,
         25
        ],
        [
         1955,
         "Jack McGrath",
         "American",
         0.0,
         0,
         25
        ],
        [
         1955,
         "Jimmy Daywalt",
         "American",
         0.0,
         0,
         25
        ],
        [
         1955,
         "Jimmy Bryan",
         "American",
         0.0,
         0,
         25
        ],
        [
         1955,
         "Jack Fairman",
         "British",
         0.0,
         0,
         25
        ],
        [
         1955,
         "Leslie Marr",
         "British",
         0.0,
         0,
         25
        ],
        [
         1955,
         "Rodger Ward",
         "American",
         0.0,
         0,
         25
        ],
        [
         1955,
         "Tony Rolt",
         "British",
         0.0,
         0,
         25
        ],
        [
         1955,
         "Robert Manzon",
         "French",
         0.0,
         0,
         25
        ],
        [
         1955,
         "André Simon",
         "French",
         0.0,
         0,
         25
        ],
        [
         1955,
         "Cal Niday",
         "American",
         0.0,
         0,
         25
        ],
        [
         1955,
         "Shorty Templeman",
         "American",
         0.0,
         0,
         25
        ],
        [
         1955,
         "Johnny Claes",
         "Belgian",
         0.0,
         0,
         25
        ],
        [
         1955,
         "Sam Hanks",
         "American",
         0.0,
         0,
         25
        ],
        [
         1955,
         "Pablo Birger",
         "Argentine",
         0.0,
         0,
         25
        ],
        [
         1955,
         "Keith Andrews",
         "American",
         0.0,
         0,
         25
        ],
        [
         1955,
         "Peter Walker",
         "British",
         0.0,
         0,
         25
        ],
        [
         1955,
         "Jerry Hoyt",
         "American",
         0.0,
         0,
         25
        ],
        [
         1956,
         "Stirling Moss",
         "British",
         24.0,
         2,
         1
        ],
        [
         1956,
         "Juan Fangio",
         "Argentine",
         22.5,
         2,
         2
        ],
        [
         1956,
         "Peter Collins",
         "British",
         22.0,
         2,
         3
        ],
        [
         1956,
         "Jean Behra",
         "French",
         22.0,
         0,
         4
        ],
        [
         1956,
         "Pat Flaherty",
         "American",
         8.0,
         1,
         5
        ],
        [
         1956,
         "Eugenio Castellotti",
         "Italian",
         6.0,
         0,
         6
        ],
        [
         1956,
         "Paul Frère",
         "Belgian",
         6.0,
         0,
         6
        ],
        [
         1956,
         "Sam Hanks",
         "American",
         6.0,
         0,
         6
        ],
        [
         1956,
         "Paco Godia",
         "Spanish",
         6.0,
         0,
         6
        ],
        [
         1956,
         "Luigi Musso",
         "Italian",
         5.0,
         1,
         10
        ],
        [
         1956,
         "Jack Fairman",
         "British",
         5.0,
         0,
         11
        ],
        [
         1956,
         "Don Freeland",
         "American",
         4.0,
         0,
         12
        ],
        [
         1956,
         "Ron Flockhart",
         "British",
         4.0,
         0,
         12
        ],
        [
         1956,
         "Mike Hawthorn",
         "British",
         4.0,
         0,
         12
        ],
        [
         1956,
         "Cesare Perdisa",
         "Italian",
         3.0,
         0,
         15
        ],
        [
         1956,
         "Johnnie Parsons",
         "American",
         3.0,
         0,
         15
        ],
        [
         1956,
         "Harry Schell",
         "American",
         3.0,
         0,
         15
        ],
        [
         1956,
         "Alfonso de Portago",
         "Spanish",
         3.0,
         0,
         15
        ],
        [
         1956,
         "Louis Rosier",
         "French",
         2.0,
         0,
         19
        ],
        [
         1956,
         "Dick Rathmann",
         "American",
         2.0,
         0,
         19
        ],
        [
         1956,
         "Olivier Gendebien",
         "Belgian",
         2.0,
         0,
         19
        ],
        [
         1956,
         "Horace Gould",
         "British",
         2.0,
         0,
         19
        ],
        [
         1956,
         "Luigi Villoresi",
         "Italian",
         2.0,
         0,
         19
        ],
        [
         1956,
         "Hernando da Silva Ramos",
         "Brazilian",
         2.0,
         0,
         19
        ],
        [
         1956,
         "Gerino Gerini",
         "Italian",
         1.5,
         0,
         25
        ],
        [
         1956,
         "Chico Landi",
         "Brazilian",
         1.5,
         0,
         25
        ],
        [
         1956,
         "Paul Russo",
         "American",
         1.0,
         0,
         27
        ],
        [
         1956,
         "Fred Agabashian",
         "American",
         0.0,
         0,
         28
        ],
        [
         1956,
         "José Froilán González",
         "Argentine",
         0.0,
         0,
         28
        ],
        [
         1956,
         "Keith Andrews",
         "American",
         0.0,
         0,
         28
        ],
        [
         1956,
         "Pat O'Connor",
         "American",
         0.0,
         0,
         28
        ],
        [
         1956,
         "Louis Chiron",
         "Monegasque",
         0.0,
         0,
         28
        ],
        [
         1956,
         "Duke Dinsmore",
         "American",
         0.0,
         0,
         28
        ],
        [
         1956,
         "Cliff Griffith",
         "American",
         0.0,
         0,
         28
        ],
        [
         1956,
         "Alberto Uria",
         "Uruguayan",
         0.0,
         0,
         28
        ],
        [
         1956,
         "Robert Manzon",
         "French",
         0.0,
         0,
         28
        ],
        [
         1956,
         "Maurice Trintignant",
         "French",
         0.0,
         0,
         28
        ],
        [
         1956,
         "Ray Crawford",
         "American",
         0.0,
         0,
         28
        ],
        [
         1956,
         "Roy Salvadori",
         "British",
         0.0,
         0,
         28
        ],
        [
         1956,
         "Tony Bettenhausen",
         "American",
         0.0,
         0,
         28
        ],
        [
         1956,
         "Eddie Russo",
         "American",
         0.0,
         0,
         28
        ],
        [
         1956,
         "Jo Bonnier",
         "Swedish",
         0.0,
         0,
         28
        ],
        [
         1956,
         "Carlos Menditeguy",
         "Argentine",
         0.0,
         0,
         28
        ],
        [
         1956,
         "Johnny Thomson",
         "American",
         0.0,
         0,
         28
        ],
        [
         1956,
         "Umberto Maglioli",
         "Italian",
         0.0,
         0,
         28
        ],
        [
         1956,
         "Jack Turner",
         "American",
         0.0,
         0,
         28
        ],
        [
         1956,
         "Piero Taruffi",
         "Italian",
         0.0,
         0,
         28
        ],
        [
         1956,
         "André Simon",
         "French",
         0.0,
         0,
         28
        ],
        [
         1956,
         "Wolfgang von Trips",
         "German",
         0.0,
         0,
         28
        ],
        [
         1956,
         "Jim Rathmann",
         "American",
         0.0,
         0,
         28
        ],
        [
         1956,
         "Gene Hartley",
         "American",
         0.0,
         0,
         28
        ],
        [
         1956,
         "Desmond Titterington",
         "British",
         0.0,
         0,
         28
        ],
        [
         1956,
         "Bob Gerard",
         "British",
         0.0,
         0,
         28
        ],
        [
         1956,
         "Rodger Ward",
         "American",
         0.0,
         0,
         28
        ],
        [
         1956,
         "Bob Sweikert",
         "American",
         0.0,
         0,
         28
        ],
        [
         1956,
         "Toulo de Graffenried",
         "Swiss",
         0.0,
         0,
         28
        ],
        [
         1956,
         "Archie Scott Brown",
         "British",
         0.0,
         0,
         28
        ],
        [
         1956,
         "Johnnie Tolan",
         "American",
         0.0,
         0,
         28
        ],
        [
         1956,
         "Colin Chapman",
         "British",
         0.0,
         0,
         28
        ],
        [
         1956,
         "Eddie Johnson",
         "American",
         0.0,
         0,
         28
        ],
        [
         1956,
         "Tony Brooks",
         "British",
         0.0,
         0,
         28
        ],
        [
         1956,
         "Giorgio Scarlatti",
         "Italian",
         0.0,
         0,
         28
        ],
        [
         1956,
         "Piero Scotti",
         "Italian",
         0.0,
         0,
         28
        ],
        [
         1956,
         "Troy Ruttman",
         "American",
         0.0,
         0,
         28
        ],
        [
         1956,
         "André Milhoux",
         "Belgian",
         0.0,
         0,
         28
        ],
        [
         1956,
         "Les Leston",
         "British",
         0.0,
         0,
         28
        ],
        [
         1956,
         "Al Herman",
         "American",
         0.0,
         0,
         28
        ],
        [
         1956,
         "Paul Emery",
         "British",
         0.0,
         0,
         28
        ],
        [
         1956,
         "André Pilette",
         "Belgian",
         0.0,
         0,
         28
        ],
        [
         1956,
         "Andy Linden",
         "American",
         0.0,
         0,
         28
        ],
        [
         1956,
         "Ed Elisian",
         "American",
         0.0,
         0,
         28
        ],
        [
         1956,
         "Óscar González",
         "Uruguayan",
         0.0,
         0,
         28
        ],
        [
         1956,
         "Luigi Piotti",
         "Italian",
         0.0,
         0,
         28
        ],
        [
         1956,
         "Ottorino Volonterio",
         "Swiss",
         0.0,
         0,
         28
        ],
        [
         1956,
         "Élie Bayol",
         "French",
         0.0,
         0,
         28
        ],
        [
         1956,
         "Bob Christie",
         "American",
         0.0,
         0,
         28
        ],
        [
         1956,
         "Jimmy Reece",
         "American",
         0.0,
         0,
         28
        ],
        [
         1956,
         "Al Keller",
         "American",
         0.0,
         0,
         28
        ],
        [
         1956,
         "Jimmy Daywalt",
         "American",
         0.0,
         0,
         28
        ],
        [
         1956,
         "Jack Brabham",
         "Australian",
         0.0,
         0,
         28
        ],
        [
         1956,
         "Johnny Boyd",
         "American",
         0.0,
         0,
         28
        ],
        [
         1956,
         "Jimmy Bryan",
         "American",
         0.0,
         0,
         28
        ],
        [
         1956,
         "Bob Veith",
         "American",
         0.0,
         0,
         28
        ],
        [
         1956,
         "Billy Garrett",
         "American",
         0.0,
         0,
         28
        ],
        [
         1956,
         "Bruce Halford",
         "British",
         0.0,
         0,
         28
        ],
        [
         1957,
         "Juan Fangio",
         "Argentine",
         46.0,
         4,
         1
        ],
        [
         1957,
         "Stirling Moss",
         "British",
         20.0,
         2,
         2
        ],
        [
         1957,
         "Luigi Musso",
         "Italian",
         16.0,
         0,
         3
        ],
        [
         1957,
         "Mike Hawthorn",
         "British",
         13.0,
         0,
         4
        ],
        [
         1957,
         "Tony Brooks",
         "British",
         11.0,
         1,
         5
        ],
        [
         1957,
         "Masten Gregory",
         "American",
         10.0,
         0,
         6
        ],
        [
         1957,
         "Harry Schell",
         "American",
         9.0,
         0,
         7
        ],
        [
         1957,
         "Sam Hanks",
         "American",
         8.0,
         1,
         8
        ],
        [
         1957,
         "Peter Collins",
         "British",
         8.0,
         0,
         9
        ],
        [
         1957,
         "Jim Rathmann",
         "American",
         7.0,
         0,
         10
        ],
        [
         1957,
         "Jean Behra",
         "French",
         6.0,
         0,
         11
        ],
        [
         1957,
         "Maurice Trintignant",
         "French",
         5.0,
         0,
         12
        ],
        [
         1957,
         "Stuart Lewis-Evans",
         "British",
         5.0,
         0,
         12
        ],
        [
         1957,
         "Wolfgang von Trips",
         "German",
         4.0,
         0,
         14
        ],
        [
         1957,
         "Carlos Menditeguy",
         "Argentine",
         4.0,
         0,
         14
        ],
        [
         1957,
         "Jimmy Bryan",
         "American",
         4.0,
         0,
         14
        ],
        [
         1957,
         "Paul Russo",
         "American",
         3.0,
         0,
         17
        ],
        [
         1957,
         "Roy Salvadori",
         "British",
         2.0,
         0,
         18
        ],
        [
         1957,
         "Andy Linden",
         "American",
         2.0,
         0,
         18
        ],
        [
         1957,
         "Alfonso de Portago",
         "Spanish",
         1.0,
         0,
         20
        ],
        [
         1957,
         "José Froilán González",
         "Argentine",
         1.0,
         0,
         20
        ],
        [
         1957,
         "Giorgio Scarlatti",
         "Italian",
         1.0,
         0,
         20
        ],
        [
         1957,
         "Bill Cheesbourg",
         "American",
         0.0,
         0,
         23
        ],
        [
         1957,
         "Johnny Thomson",
         "American",
         0.0,
         0,
         23
        ],
        [
         1957,
         "Dick Gibson",
         "British",
         0.0,
         0,
         23
        ],
        [
         1957,
         "Cesare Perdisa",
         "Italian",
         0.0,
         0,
         23
        ],
        [
         1957,
         "Don Freeland",
         "American",
         0.0,
         0,
         23
        ],
        [
         1957,
         "Paul England",
         "Australian",
         0.0,
         0,
         23
        ],
        [
         1957,
         "Tony Marsh",
         "British",
         0.0,
         0,
         23
        ],
        [
         1957,
         "Jack Turner",
         "American",
         0.0,
         0,
         23
        ],
        [
         1957,
         "Ottorino Volonterio",
         "Swiss",
         0.0,
         0,
         23
        ],
        [
         1957,
         "Johnny Boyd",
         "American",
         0.0,
         0,
         23
        ],
        [
         1957,
         "Herbert MacKay-Fraser",
         "American",
         0.0,
         0,
         23
        ],
        [
         1957,
         "Jack Fairman",
         "British",
         0.0,
         0,
         23
        ],
        [
         1957,
         "Ed Elisian",
         "American",
         0.0,
         0,
         23
        ],
        [
         1957,
         "Ron Flockhart",
         "British",
         0.0,
         0,
         23
        ],
        [
         1957,
         "Fred Agabashian",
         "American",
         0.0,
         0,
         23
        ],
        [
         1957,
         "Johnnie Tolan",
         "American",
         0.0,
         0,
         23
        ],
        [
         1957,
         "Jimmy Reece",
         "American",
         0.0,
         0,
         23
        ],
        [
         1957,
         "Troy Ruttman",
         "American",
         0.0,
         0,
         23
        ],
        [
         1957,
         "Rodger Ward",
         "American",
         0.0,
         0,
         23
        ],
        [
         1957,
         "Eugenio Castellotti",
         "Italian",
         0.0,
         0,
         23
        ],
        [
         1957,
         "Marshall Teague",
         "American",
         0.0,
         0,
         23
        ],
        [
         1957,
         "Jimmy Daywalt",
         "American",
         0.0,
         0,
         23
        ],
        [
         1957,
         "Carel Godin de Beaufort",
         "Dutch",
         0.0,
         0,
         23
        ],
        [
         1957,
         "Horace Gould",
         "British",
         0.0,
         0,
         23
        ],
        [
         1957,
         "Bruce Halford",
         "British",
         0.0,
         0,
         23
        ],
        [
         1957,
         "Pat O'Connor",
         "American",
         0.0,
         0,
         23
        ],
        [
         1957,
         "Alessandro de Tomaso",
         "Argentine-Italian",
         0.0,
         0,
         23
        ],
        [
         1957,
         "Les Leston",
         "British",
         0.0,
         0,
         23
        ],
        [
         1957,
         "Eddie Johnson",
         "American",
         0.0,
         0,
         23
        ],
        [
         1957,
         "Jo Bonnier",
         "Swedish",
         0.0,
         0,
         23
        ],
        [
         1957,
         "Mike Magill",
         "American",
         0.0,
         0,
         23
        ],
        [
         1957,
         "Luigi Piotti",
         "Italian",
         0.0,
         0,
         23
        ],
        [
         1957,
         "Ivor Bueb",
         "British",
         0.0,
         0,
         23
        ],
        [
         1957,
         "Eddie Russo",
         "American",
         0.0,
         0,
         23
        ],
        [
         1957,
         "Don Edmunds",
         "American",
         0.0,
         0,
         23
        ],
        [
         1957,
         "Elmer George",
         "American",
         0.0,
         0,
         23
        ],
        [
         1957,
         "Umberto Maglioli",
         "Italian",
         0.0,
         0,
         23
        ],
        [
         1957,
         "Eddie Sachs",
         "American",
         0.0,
         0,
         23
        ],
        [
         1957,
         "Bob Gerard",
         "British",
         0.0,
         0,
         23
        ],
        [
         1957,
         "Hans Herrmann",
         "German",
         0.0,
         0,
         23
        ],
        [
         1957,
         "Al Herman",
         "American",
         0.0,
         0,
         23
        ],
        [
         1957,
         "Bob Christie",
         "American",
         0.0,
         0,
         23
        ],
        [
         1957,
         "Jack Brabham",
         "Australian",
         0.0,
         0,
         23
        ],
        [
         1957,
         "Paco Godia",
         "Spanish",
         0.0,
         0,
         23
        ],
        [
         1957,
         "Edgar Barth",
         "German",
         0.0,
         0,
         23
        ],
        [
         1957,
         "Bob Veith",
         "American",
         0.0,
         0,
         23
        ],
        [
         1957,
         "Al Keller",
         "American",
         0.0,
         0,
         23
        ],
        [
         1957,
         "André Simon",
         "French",
         0.0,
         0,
         23
        ],
        [
         1957,
         "Chuck Weyant",
         "American",
         0.0,
         0,
         23
        ],
        [
         1957,
         "Gene Hartley",
         "American",
         0.0,
         0,
         23
        ],
        [
         1957,
         "Brian Naylor",
         "British",
         0.0,
         0,
         23
        ],
        [
         1957,
         "Johnnie Parsons",
         "American",
         0.0,
         0,
         23
        ],
        [
         1957,
         "Mike MacDowel",
         "British",
         0.0,
         0,
         23
        ],
        [
         1957,
         "Tony Bettenhausen",
         "American",
         0.0,
         0,
         23
        ],
        [
         1958,
         "Mike Hawthorn",
         "British",
         49.0,
         1,
         1
        ],
        [
         1958,
         "Stirling Moss",
         "British",
         41.0,
         4,
         2
        ],
        [
         1958,
         "Tony Brooks",
         "British",
         24.0,
         3,
         3
        ],
        [
         1958,
         "Roy Salvadori",
         "British",
         15.0,
         0,
         4
        ],
        [
         1958,
         "Peter Collins",
         "British",
         14.0,
         1,
         5
        ],
        [
         1958,
         "Harry Schell",
         "American",
         14.0,
         0,
         6
        ],
        [
         1958,
         "Maurice Trintignant",
         "French",
         12.0,
         1,
         7
        ],
        [
         1958,
         "Luigi Musso",
         "Italian",
         12.0,
         0,
         8
        ],
        [
         1958,
         "Stuart Lewis-Evans",
         "British",
         11.0,
         0,
         9
        ],
        [
         1958,
         "Wolfgang von Trips",
         "German",
         9.0,
         0,
         10
        ],
        [
         1958,
         "Jean Behra",
         "French",
         9.0,
         0,
         10
        ],
        [
         1958,
         "Phil Hill",
         "American",
         9.0,
         0,
         10
        ],
        [
         1958,
         "Jimmy Bryan",
         "American",
         8.0,
         1,
         13
        ],
        [
         1958,
         "Juan Fangio",
         "Argentine",
         7.0,
         0,
         14
        ],
        [
         1958,
         "George Amick",
         "American",
         6.0,
         0,
         15
        ],
        [
         1958,
         "Tony Bettenhausen",
         "American",
         4.0,
         0,
         16
        ],
        [
         1958,
         "Johnny Boyd",
         "American",
         4.0,
         0,
         16
        ],
        [
         1958,
         "Cliff Allison",
         "British",
         3.0,
         0,
         18
        ],
        [
         1958,
         "Jo Bonnier",
         "Swedish",
         3.0,
         0,
         18
        ],
        [
         1958,
         "Jack Brabham",
         "Australian",
         3.0,
         0,
         18
        ],
        [
         1958,
         "Jim Rathmann",
         "American",
         2.0,
         0,
         21
        ],
        [
         1958,
         "Shorty Templeman",
         "American",
         0.0,
         0,
         22
        ],
        [
         1958,
         "Billy Garrett",
         "American",
         0.0,
         0,
         22
        ],
        [
         1958,
         "Dick Rathmann",
         "American",
         0.0,
         0,
         22
        ],
        [
         1958,
         "Johnnie Tolan",
         "American",
         0.0,
         0,
         22
        ],
        [
         1958,
         "Jud Larson",
         "American",
         0.0,
         0,
         22
        ],
        [
         1958,
         "Luigi Taramazzo",
         "Italian",
         0.0,
         0,
         22
        ],
        [
         1958,
         "Paul Goldsmith",
         "American",
         0.0,
         0,
         22
        ],
        [
         1958,
         "Robert La Caze",
         "French",
         0.0,
         0,
         22
        ],
        [
         1958,
         "Paul Russo",
         "American",
         0.0,
         0,
         22
        ],
        [
         1958,
         "Brian Naylor",
         "British",
         0.0,
         0,
         22
        ],
        [
         1958,
         "Bob Veith",
         "American",
         0.0,
         0,
         22
        ],
        [
         1958,
         "Christian Goethals",
         "Belgian",
         0.0,
         0,
         22
        ],
        [
         1958,
         "Dick Gibson",
         "British",
         0.0,
         0,
         22
        ],
        [
         1958,
         "Eddie Johnson",
         "American",
         0.0,
         0,
         22
        ],
        [
         1958,
         "Jerry Unser",
         "American",
         0.0,
         0,
         22
        ],
        [
         1958,
         "François Picard",
         "French",
         0.0,
         0,
         22
        ],
        [
         1958,
         "Carel Godin de Beaufort",
         "Dutch",
         0.0,
         0,
         22
        ],
        [
         1958,
         "Hans Herrmann",
         "German",
         0.0,
         0,
         22
        ],
        [
         1958,
         "André Testut",
         "Monegasque",
         0.0,
         0,
         22
        ],
        [
         1958,
         "Ian Burgess",
         "British",
         0.0,
         0,
         22
        ],
        [
         1958,
         "Bruce McLaren",
         "New Zealander",
         0.0,
         0,
         22
        ],
        [
         1958,
         "Gerino Gerini",
         "Italian",
         0.0,
         0,
         22
        ],
        [
         1958,
         "Tom Bridger",
         "British",
         0.0,
         0,
         22
        ],
        [
         1958,
         "André Guelfi",
         "French",
         0.0,
         0,
         22
        ],
        [
         1958,
         "Jack Turner",
         "American",
         0.0,
         0,
         22
        ],
        [
         1958,
         "Paco Godia",
         "Spanish",
         0.0,
         0,
         22
        ],
        [
         1958,
         "Mike Magill",
         "American",
         0.0,
         0,
         22
        ],
        [
         1958,
         "Ivor Bueb",
         "British",
         0.0,
         0,
         22
        ],
        [
         1958,
         "Jimmy Reece",
         "American",
         0.0,
         0,
         22
        ],
        [
         1958,
         "Ed Elisian",
         "American",
         0.0,
         0,
         22
        ],
        [
         1958,
         "Anthony Foyt",
         "American",
         0.0,
         0,
         22
        ],
        [
         1958,
         "Troy Ruttman",
         "American",
         0.0,
         0,
         22
        ],
        [
         1958,
         "Wolfgang Seidel",
         "German",
         0.0,
         0,
         22
        ],
        [
         1958,
         "Eddie Sachs",
         "American",
         0.0,
         0,
         22
        ],
        [
         1958,
         "Masten Gregory",
         "American",
         0.0,
         0,
         22
        ],
        [
         1958,
         "Giulio Cabianca",
         "Italian",
         0.0,
         0,
         22
        ],
        [
         1958,
         "Johnnie Parsons",
         "American",
         0.0,
         0,
         22
        ],
        [
         1958,
         "Carroll Shelby",
         "American",
         0.0,
         0,
         22
        ],
        [
         1958,
         "Ken Kavanagh",
         "Australian",
         0.0,
         0,
         22
        ],
        [
         1958,
         "Maria de Filippis",
         "Italian",
         0.0,
         0,
         22
        ],
        [
         1958,
         "Bernie Ecclestone",
         "British",
         0.0,
         0,
         22
        ],
        [
         1958,
         "Johnny Thomson",
         "American",
         0.0,
         0,
         22
        ],
        [
         1958,
         "Ron Flockhart",
         "British",
         0.0,
         0,
         22
        ],
        [
         1958,
         "Don Freeland",
         "American",
         0.0,
         0,
         22
        ],
        [
         1958,
         "Chuck Weyant",
         "American",
         0.0,
         0,
         22
        ],
        [
         1958,
         "Rodger Ward",
         "American",
         0.0,
         0,
         22
        ],
        [
         1958,
         "Horace Gould",
         "British",
         0.0,
         0,
         22
        ],
        [
         1958,
         "Carlos Menditeguy",
         "Argentine",
         0.0,
         0,
         22
        ],
        [
         1958,
         "Giorgio Scarlatti",
         "Italian",
         0.0,
         0,
         22
        ],
        [
         1958,
         "Dempsey Wilson",
         "American",
         0.0,
         0,
         22
        ],
        [
         1958,
         "Bob Christie",
         "American",
         0.0,
         0,
         22
        ],
        [
         1958,
         "Jack Fairman",
         "British",
         0.0,
         0,
         22
        ],
        [
         1958,
         "Al Keller",
         "American",
         0.0,
         0,
         22
        ],
        [
         1958,
         "Olivier Gendebien",
         "Belgian",
         0.0,
         0,
         22
        ],
        [
         1958,
         "Paul Emery",
         "British",
         0.0,
         0,
         22
        ],
        [
         1958,
         "Alan Stacey",
         "British",
         0.0,
         0,
         22
        ],
        [
         1958,
         "Luigi Piotti",
         "Italian",
         0.0,
         0,
         22
        ],
        [
         1958,
         "Art Bisch",
         "American",
         0.0,
         0,
         22
        ],
        [
         1958,
         "Len Sutton",
         "American",
         0.0,
         0,
         22
        ],
        [
         1958,
         "Graham Hill",
         "British",
         0.0,
         0,
         22
        ],
        [
         1958,
         "Bruce Kessler",
         "American",
         0.0,
         0,
         22
        ],
        [
         1958,
         "Pat O'Connor",
         "American",
         0.0,
         0,
         22
        ],
        [
         1958,
         "Edgar Barth",
         "German",
         0.0,
         0,
         22
        ],
        [
         1958,
         "Louis Chiron",
         "Monegasque",
         0.0,
         0,
         22
        ],
        [
         1958,
         "Bill Cheesbourg",
         "American",
         0.0,
         0,
         22
        ],
        [
         1958,
         "Tony Marsh",
         "British",
         0.0,
         0,
         22
        ],
        [
         1959,
         "Jack Brabham",
         "Australian",
         34.0,
         2,
         1
        ],
        [
         1959,
         "Tony Brooks",
         "British",
         27.0,
         2,
         2
        ],
        [
         1959,
         "Stirling Moss",
         "British",
         25.5,
         2,
         3
        ],
        [
         1959,
         "Phil Hill",
         "American",
         20.0,
         0,
         4
        ],
        [
         1959,
         "Maurice Trintignant",
         "French",
         19.0,
         0,
         5
        ],
        [
         1959,
         "Bruce McLaren",
         "New Zealander",
         16.5,
         1,
         6
        ],
        [
         1959,
         "Dan Gurney",
         "American",
         13.0,
         0,
         7
        ],
        [
         1959,
         "Jo Bonnier",
         "Swedish",
         10.0,
         1,
         8
        ],
        [
         1959,
         "Masten Gregory",
         "American",
         10.0,
         0,
         9
        ],
        [
         1959,
         "Rodger Ward",
         "American",
         8.0,
         1,
         10
        ],
        [
         1959,
         "Jim Rathmann",
         "American",
         6.0,
         0,
         11
        ],
        [
         1959,
         "Johnny Thomson",
         "American",
         5.0,
         0,
         12
        ],
        [
         1959,
         "Harry Schell",
         "American",
         5.0,
         0,
         12
        ],
        [
         1959,
         "Innes Ireland",
         "British",
         5.0,
         0,
         12
        ],
        [
         1959,
         "Tony Bettenhausen",
         "American",
         3.0,
         0,
         15
        ],
        [
         1959,
         "Olivier Gendebien",
         "Belgian",
         3.0,
         0,
         15
        ],
        [
         1959,
         "Cliff Allison",
         "British",
         2.0,
         0,
         17
        ],
        [
         1959,
         "Paul Goldsmith",
         "American",
         2.0,
         0,
         17
        ],
        [
         1959,
         "Jean Behra",
         "French",
         2.0,
         0,
         17
        ],
        [
         1959,
         "Maria de Filippis",
         "Italian",
         0.0,
         0,
         20
        ],
        [
         1959,
         "Graham Hill",
         "British",
         0.0,
         0,
         20
        ],
        [
         1959,
         "Azdrubal Fontes",
         "Uruguayan",
         0.0,
         0,
         20
        ],
        [
         1959,
         "Roy Salvadori",
         "British",
         0.0,
         0,
         20
        ],
        [
         1959,
         "Giorgio Scarlatti",
         "Italian",
         0.0,
         0,
         20
        ],
        [
         1959,
         "Jack Fairman",
         "British",
         0.0,
         0,
         20
        ],
        [
         1959,
         "Len Sutton",
         "American",
         0.0,
         0,
         20
        ],
        [
         1959,
         "Anthony Foyt",
         "American",
         0.0,
         0,
         20
        ],
        [
         1959,
         "Bobby Grim",
         "American",
         0.0,
         0,
         20
        ],
        [
         1959,
         "Peter Ashdown",
         "British",
         0.0,
         0,
         20
        ],
        [
         1959,
         "Alessandro de Tomaso",
         "Argentine-Italian",
         0.0,
         0,
         20
        ],
        [
         1959,
         "Harry Blanchard",
         "American",
         0.0,
         0,
         20
        ],
        [
         1959,
         "Jimmy Daywalt",
         "American",
         0.0,
         0,
         20
        ],
        [
         1959,
         "André Testut",
         "Monegasque",
         0.0,
         0,
         20
        ],
        [
         1959,
         "Don Freeland",
         "American",
         0.0,
         0,
         20
        ],
        [
         1959,
         "Bill Cheesbourg",
         "American",
         0.0,
         0,
         20
        ],
        [
         1959,
         "Giulio Cabianca",
         "Italian",
         0.0,
         0,
         20
        ],
        [
         1959,
         "Bill Moss",
         "British",
         0.0,
         0,
         20
        ],
        [
         1959,
         "Jack Turner",
         "American",
         0.0,
         0,
         20
        ],
        [
         1959,
         "Jim McWithey",
         "American",
         0.0,
         0,
         20
        ],
        [
         1959,
         "Pat Flaherty",
         "American",
         0.0,
         0,
         20
        ],
        [
         1959,
         "Dick Rathmann",
         "American",
         0.0,
         0,
         20
        ],
        [
         1959,
         "Brian Naylor",
         "British",
         0.0,
         0,
         20
        ],
        [
         1959,
         "Phil Cade",
         "American",
         0.0,
         0,
         20
        ],
        [
         1959,
         "Al Keller",
         "American",
         0.0,
         0,
         20
        ],
        [
         1959,
         "David Piper",
         "British",
         0.0,
         0,
         20
        ],
        [
         1959,
         "Mário de Araújo Cabral",
         "Portuguese",
         0.0,
         0,
         20
        ],
        [
         1959,
         "Chris Bristow",
         "British",
         0.0,
         0,
         20
        ],
        [
         1959,
         "Mike Magill",
         "American",
         0.0,
         0,
         20
        ],
        [
         1959,
         "Trevor Taylor",
         "British",
         0.0,
         0,
         20
        ],
        [
         1959,
         "Keith Greene",
         "British",
         0.0,
         0,
         20
        ],
        [
         1959,
         "Red Amick",
         "American",
         0.0,
         0,
         20
        ],
        [
         1959,
         "Alain de Changy",
         "Belgian",
         0.0,
         0,
         20
        ],
        [
         1959,
         "Al Herman",
         "American",
         0.0,
         0,
         20
        ],
        [
         1959,
         "Paul Russo",
         "American",
         0.0,
         0,
         20
        ],
        [
         1959,
         "Carroll Shelby",
         "American",
         0.0,
         0,
         20
        ],
        [
         1959,
         "Duane Carter",
         "American",
         0.0,
         0,
         20
        ],
        [
         1959,
         "Alan Stacey",
         "British",
         0.0,
         0,
         20
        ],
        [
         1959,
         "Eddie Sachs",
         "American",
         0.0,
         0,
         20
        ],
        [
         1959,
         "Ivor Bueb",
         "British",
         0.0,
         0,
         20
        ],
        [
         1959,
         "Bob Christie",
         "American",
         0.0,
         0,
         20
        ],
        [
         1959,
         "Bob Said",
         "American",
         0.0,
         0,
         20
        ],
        [
         1959,
         "Carel Godin de Beaufort",
         "Dutch",
         0.0,
         0,
         20
        ],
        [
         1959,
         "Tim Parnell",
         "British",
         0.0,
         0,
         20
        ],
        [
         1959,
         "Don Branson",
         "American",
         0.0,
         0,
         20
        ],
        [
         1959,
         "Ray Crawford",
         "American",
         0.0,
         0,
         20
        ],
        [
         1959,
         "Gene Hartley",
         "American",
         0.0,
         0,
         20
        ],
        [
         1959,
         "Colin Davis",
         "British",
         0.0,
         0,
         20
        ],
        [
         1959,
         "Bob Veith",
         "American",
         0.0,
         0,
         20
        ],
        [
         1959,
         "Fritz d'Orey",
         "Brazilian",
         0.0,
         0,
         20
        ],
        [
         1959,
         "Mike Parkes",
         "British",
         0.0,
         0,
         20
        ],
        [
         1959,
         "Jud Larson",
         "American",
         0.0,
         0,
         20
        ],
        [
         1959,
         "Bruce Halford",
         "British",
         0.0,
         0,
         20
        ],
        [
         1959,
         "Eddie Johnson",
         "American",
         0.0,
         0,
         20
        ],
        [
         1959,
         "Ian Burgess",
         "British",
         0.0,
         0,
         20
        ],
        [
         1959,
         "Lucien Bianchi",
         "Belgian",
         0.0,
         0,
         20
        ],
        [
         1959,
         "Jimmy Bryan",
         "American",
         0.0,
         0,
         20
        ],
        [
         1959,
         "Pete Lovely",
         "American",
         0.0,
         0,
         20
        ],
        [
         1959,
         "George Constantine",
         "American",
         0.0,
         0,
         20
        ],
        [
         1959,
         "Ron Flockhart",
         "British",
         0.0,
         0,
         20
        ],
        [
         1959,
         "Wolfgang von Trips",
         "German",
         0.0,
         0,
         20
        ],
        [
         1959,
         "Chuck Arnold",
         "American",
         0.0,
         0,
         20
        ],
        [
         1959,
         "Johnny Boyd",
         "American",
         0.0,
         0,
         20
        ],
        [
         1959,
         "Henry Taylor",
         "British",
         0.0,
         0,
         20
        ],
        [
         1959,
         "Hans Herrmann",
         "German",
         0.0,
         0,
         20
        ],
        [
         1959,
         "Dennis Taylor",
         "British",
         0.0,
         0,
         20
        ],
        [
         1959,
         "Mike Taylor",
         "British",
         0.0,
         0,
         20
        ],
        [
         1959,
         "Chuck Weyant",
         "American",
         0.0,
         0,
         20
        ],
        [
         1959,
         "Jean Lucienbonnet",
         "French",
         0.0,
         0,
         20
        ],
        [
         1960,
         "Jack Brabham",
         "Australian",
         43.0,
         5,
         1
        ],
        [
         1960,
         "Bruce McLaren",
         "New Zealander",
         37.0,
         1,
         2
        ],
        [
         1960,
         "Stirling Moss",
         "British",
         19.0,
         2,
         3
        ],
        [
         1960,
         "Innes Ireland",
         "British",
         18.0,
         0,
         4
        ],
        [
         1960,
         "Phil Hill",
         "American",
         16.0,
         1,
         5
        ],
        [
         1960,
         "Wolfgang von Trips",
         "German",
         10.0,
         0,
         6
        ],
        [
         1960,
         "Olivier Gendebien",
         "Belgian",
         10.0,
         0,
         6
        ],
        [
         1960,
         "Jim Rathmann",
         "American",
         8.0,
         1,
         8
        ],
        [
         1960,
         "Richie Ginther",
         "American",
         8.0,
         0,
         9
        ],
        [
         1960,
         "Jim Clark",
         "British",
         8.0,
         0,
         9
        ],
        [
         1960,
         "Tony Brooks",
         "British",
         7.0,
         0,
         11
        ],
        [
         1960,
         "Cliff Allison",
         "British",
         6.0,
         0,
         12
        ],
        [
         1960,
         "John Surtees",
         "British",
         6.0,
         0,
         12
        ],
        [
         1960,
         "Rodger Ward",
         "American",
         6.0,
         0,
         12
        ],
        [
         1960,
         "Willy Mairesse",
         "Belgian",
         4.0,
         0,
         15
        ],
        [
         1960,
         "Jo Bonnier",
         "Swedish",
         4.0,
         0,
         15
        ],
        [
         1960,
         "Paul Goldsmith",
         "American",
         4.0,
         0,
         15
        ],
        [
         1960,
         "Graham Hill",
         "British",
         4.0,
         0,
         15
        ],
        [
         1960,
         "Henry Taylor",
         "British",
         3.0,
         0,
         19
        ],
        [
         1960,
         "Giulio Cabianca",
         "Italian",
         3.0,
         0,
         19
        ],
        [
         1960,
         "Carlos Menditeguy",
         "Argentine",
         3.0,
         0,
         19
        ],
        [
         1960,
         "Don Branson",
         "American",
         3.0,
         0,
         19
        ],
        [
         1960,
         "Johnny Thomson",
         "American",
         2.0,
         0,
         23
        ],
        [
         1960,
         "Lucien Bianchi",
         "Belgian",
         1.0,
         0,
         24
        ],
        [
         1960,
         "Hans Herrmann",
         "German",
         1.0,
         0,
         24
        ],
        [
         1960,
         "Ron Flockhart",
         "British",
         1.0,
         0,
         24
        ],
        [
         1960,
         "Eddie Johnson",
         "American",
         1.0,
         0,
         24
        ],
        [
         1960,
         "Don Freeland",
         "American",
         0.0,
         0,
         28
        ],
        [
         1960,
         "Bruce Halford",
         "British",
         0.0,
         0,
         28
        ],
        [
         1960,
         "Chris Bristow",
         "British",
         0.0,
         0,
         28
        ],
        [
         1960,
         "Johnny Boyd",
         "American",
         0.0,
         0,
         28
        ],
        [
         1960,
         "Fred Gamble",
         "American",
         0.0,
         0,
         28
        ],
        [
         1960,
         "Ian Burgess",
         "British",
         0.0,
         0,
         28
        ],
        [
         1960,
         "Roy Salvadori",
         "British",
         0.0,
         0,
         28
        ],
        [
         1960,
         "Troy Ruttman",
         "American",
         0.0,
         0,
         28
        ],
        [
         1960,
         "Chuck Daigh",
         "American",
         0.0,
         0,
         28
        ],
        [
         1960,
         "Piero Drogo",
         "Italian",
         0.0,
         0,
         28
        ],
        [
         1960,
         "Arthur Owen",
         "British",
         0.0,
         0,
         28
        ],
        [
         1960,
         "Jim McWithey",
         "American",
         0.0,
         0,
         28
        ],
        [
         1960,
         "Jim Hurtubise",
         "American",
         0.0,
         0,
         28
        ],
        [
         1960,
         "Vic Wilson",
         "British",
         0.0,
         0,
         28
        ],
        [
         1960,
         "Horace Gould",
         "British",
         0.0,
         0,
         28
        ],
        [
         1960,
         "Len Sutton",
         "American",
         0.0,
         0,
         28
        ],
        [
         1960,
         "Ettore Chimeri",
         "Venezuelan",
         0.0,
         0,
         28
        ],
        [
         1960,
         "José Froilán González",
         "Argentine",
         0.0,
         0,
         28
        ],
        [
         1960,
         "David Piper",
         "British",
         0.0,
         0,
         28
        ],
        [
         1960,
         "Giorgio Scarlatti",
         "Italian",
         0.0,
         0,
         28
        ],
        [
         1960,
         "Wayne Weiler",
         "American",
         0.0,
         0,
         28
        ],
        [
         1960,
         "Lance Reventlow",
         "American",
         0.0,
         0,
         28
        ],
        [
         1960,
         "Wolfgang Seidel",
         "German",
         0.0,
         0,
         28
        ],
        [
         1960,
         "Dempsey Wilson",
         "American",
         0.0,
         0,
         28
        ],
        [
         1960,
         "Gene Hartley",
         "American",
         0.0,
         0,
         28
        ],
        [
         1960,
         "Masten Gregory",
         "American",
         0.0,
         0,
         28
        ],
        [
         1960,
         "Lloyd Ruby",
         "American",
         0.0,
         0,
         28
        ],
        [
         1960,
         "Jim Hall",
         "American",
         0.0,
         0,
         28
        ],
        [
         1960,
         "Bud Tingelstad",
         "American",
         0.0,
         0,
         28
        ],
        [
         1960,
         "Dan Gurney",
         "American",
         0.0,
         0,
         28
        ],
        [
         1960,
         "Bob Veith",
         "American",
         0.0,
         0,
         28
        ],
        [
         1960,
         "Eddie Russo",
         "American",
         0.0,
         0,
         28
        ],
        [
         1960,
         "Duane Carter",
         "American",
         0.0,
         0,
         28
        ],
        [
         1960,
         "Al Herman",
         "American",
         0.0,
         0,
         28
        ],
        [
         1960,
         "Maurice Trintignant",
         "French",
         0.0,
         0,
         28
        ],
        [
         1960,
         "Alberto Rodriguez Larreta",
         "Argentine",
         0.0,
         0,
         28
        ],
        [
         1960,
         "Bill Homeier",
         "American",
         0.0,
         0,
         28
        ],
        [
         1960,
         "Red Amick",
         "American",
         0.0,
         0,
         28
        ],
        [
         1960,
         "Tony Bettenhausen",
         "American",
         0.0,
         0,
         28
        ],
        [
         1960,
         "Antonio Creus",
         "Spanish",
         0.0,
         0,
         28
        ],
        [
         1960,
         "Carel Godin de Beaufort",
         "Dutch",
         0.0,
         0,
         28
        ],
        [
         1960,
         "Keith Greene",
         "British",
         0.0,
         0,
         28
        ],
        [
         1960,
         "Brian Naylor",
         "British",
         0.0,
         0,
         28
        ],
        [
         1960,
         "Chuck Stevenson",
         "American",
         0.0,
         0,
         28
        ],
        [
         1960,
         "Roberto Bonomi",
         "Argentine",
         0.0,
         0,
         28
        ],
        [
         1960,
         "Shorty Templeman",
         "American",
         0.0,
         0,
         28
        ],
        [
         1960,
         "Nasif Estéfano",
         "Argentine",
         0.0,
         0,
         28
        ],
        [
         1960,
         "Mike Taylor",
         "British",
         0.0,
         0,
         28
        ],
        [
         1960,
         "Alfonso Thiele",
         "American-Italian",
         0.0,
         0,
         28
        ],
        [
         1960,
         "Bob Drake",
         "American",
         0.0,
         0,
         28
        ],
        [
         1960,
         "Mário de Araújo Cabral",
         "Portuguese",
         0.0,
         0,
         28
        ],
        [
         1960,
         "Dick Rathmann",
         "American",
         0.0,
         0,
         28
        ],
        [
         1960,
         "Alan Stacey",
         "British",
         0.0,
         0,
         28
        ],
        [
         1960,
         "Harry Schell",
         "American",
         0.0,
         0,
         28
        ],
        [
         1960,
         "Pete Lovely",
         "American",
         0.0,
         0,
         28
        ],
        [
         1960,
         "Anthony Foyt",
         "American",
         0.0,
         0,
         28
        ],
        [
         1960,
         "Jimmy Bryan",
         "American",
         0.0,
         0,
         28
        ],
        [
         1960,
         "Bobby Grim",
         "American",
         0.0,
         0,
         28
        ],
        [
         1960,
         "Gino Munaron",
         "Italian",
         0.0,
         0,
         28
        ],
        [
         1960,
         "Eddie Sachs",
         "American",
         0.0,
         0,
         28
        ],
        [
         1960,
         "Edgar Barth",
         "German",
         0.0,
         0,
         28
        ],
        [
         1960,
         "Gene Force",
         "American",
         0.0,
         0,
         28
        ],
        [
         1960,
         "Bob Christie",
         "American",
         0.0,
         0,
         28
        ],
        [
         1960,
         "Jack Fairman",
         "British",
         0.0,
         0,
         28
        ],
        [
         1961,
         "Phil Hill",
         "American",
         38.0,
         2,
         1
        ],
        [
         1961,
         "Wolfgang von Trips",
         "German",
         33.0,
         2,
         2
        ],
        [
         1961,
         "Stirling Moss",
         "British",
         21.0,
         2,
         3
        ],
        [
         1961,
         "Dan Gurney",
         "American",
         21.0,
         0,
         4
        ],
        [
         1961,
         "Richie Ginther",
         "American",
         16.0,
         0,
         5
        ],
        [
         1961,
         "Innes Ireland",
         "British",
         12.0,
         1,
         6
        ],
        [
         1961,
         "Jim Clark",
         "British",
         11.0,
         0,
         7
        ],
        [
         1961,
         "Bruce McLaren",
         "New Zealander",
         11.0,
         0,
         7
        ],
        [
         1961,
         "Giancarlo Baghetti",
         "Italian",
         9.0,
         1,
         9
        ],
        [
         1961,
         "Tony Brooks",
         "British",
         6.0,
         0,
         10
        ],
        [
         1961,
         "Jack Brabham",
         "Australian",
         4.0,
         0,
         11
        ],
        [
         1961,
         "John Surtees",
         "British",
         4.0,
         0,
         11
        ],
        [
         1961,
         "Olivier Gendebien",
         "Belgian",
         3.0,
         0,
         13
        ],
        [
         1961,
         "Graham Hill",
         "British",
         3.0,
         0,
         13
        ],
        [
         1961,
         "Jo Bonnier",
         "Swedish",
         3.0,
         0,
         13
        ],
        [
         1961,
         "Jackie Lewis",
         "British",
         3.0,
         0,
         13
        ],
        [
         1961,
         "Roy Salvadori",
         "British",
         2.0,
         0,
         17
        ],
        [
         1961,
         "John Campbell-Jones",
         "British",
         0.0,
         0,
         18
        ],
        [
         1961,
         "Roger Penske",
         "American",
         0.0,
         0,
         18
        ],
        [
         1961,
         "Peter Monteverdi",
         "Swiss",
         0.0,
         0,
         18
        ],
        [
         1961,
         "Ernesto Prinoth",
         "Italian",
         0.0,
         0,
         18
        ],
        [
         1961,
         "Roberto Bussinello",
         "Italian",
         0.0,
         0,
         18
        ],
        [
         1961,
         "Trevor Taylor",
         "British",
         0.0,
         0,
         18
        ],
        [
         1961,
         "Hap Sharp",
         "American",
         0.0,
         0,
         18
        ],
        [
         1961,
         "Juan Manuel Bordeu",
         "Argentine",
         0.0,
         0,
         18
        ],
        [
         1961,
         "Lucien Bianchi",
         "Belgian",
         0.0,
         0,
         18
        ],
        [
         1961,
         "Masten Gregory",
         "American",
         0.0,
         0,
         18
        ],
        [
         1961,
         "Maurice Trintignant",
         "French",
         0.0,
         0,
         18
        ],
        [
         1961,
         "André Pilette",
         "Belgian",
         0.0,
         0,
         18
        ],
        [
         1961,
         "Keith Greene",
         "British",
         0.0,
         0,
         18
        ],
        [
         1961,
         "Michael May",
         "Swiss",
         0.0,
         0,
         18
        ],
        [
         1961,
         "Tim Parnell",
         "British",
         0.0,
         0,
         18
        ],
        [
         1961,
         "Nino Vaccarella",
         "Italian",
         0.0,
         0,
         18
        ],
        [
         1961,
         "Ken Miles",
         "British",
         0.0,
         0,
         18
        ],
        [
         1961,
         "Bernard Collomb",
         "French",
         0.0,
         0,
         18
        ],
        [
         1961,
         "Renato Pirocchi",
         "Italian",
         0.0,
         0,
         18
        ],
        [
         1961,
         "Ricardo Rodríguez",
         "Mexican",
         0.0,
         0,
         18
        ],
        [
         1961,
         "Lloyd Ruby",
         "American",
         0.0,
         0,
         18
        ],
        [
         1961,
         "Walt Hansgen",
         "American",
         0.0,
         0,
         18
        ],
        [
         1961,
         "Gerry Ashmore",
         "British",
         0.0,
         0,
         18
        ],
        [
         1961,
         "Cliff Allison",
         "British",
         0.0,
         0,
         18
        ],
        [
         1961,
         "Ian Burgess",
         "British",
         0.0,
         0,
         18
        ],
        [
         1961,
         "Jack Fairman",
         "British",
         0.0,
         0,
         18
        ],
        [
         1961,
         "Carel Godin de Beaufort",
         "Dutch",
         0.0,
         0,
         18
        ],
        [
         1961,
         "Menato Boffa",
         "Italian",
         0.0,
         0,
         18
        ],
        [
         1961,
         "Alfonso Thiele",
         "American-Italian",
         0.0,
         0,
         18
        ],
        [
         1961,
         "Jim Hall",
         "American",
         0.0,
         0,
         18
        ],
        [
         1961,
         "Henry Taylor",
         "British",
         0.0,
         0,
         18
        ],
        [
         1961,
         "Wolfgang Seidel",
         "German",
         0.0,
         0,
         18
        ],
        [
         1961,
         "Giorgio Scarlatti",
         "Italian",
         0.0,
         0,
         18
        ],
        [
         1961,
         "Massimo Natili",
         "Italian",
         0.0,
         0,
         18
        ],
        [
         1961,
         "Gaetano Starrabba",
         "Italian",
         0.0,
         0,
         18
        ],
        [
         1961,
         "Lorenzo Bandini",
         "Italian",
         0.0,
         0,
         18
        ],
        [
         1961,
         "Roberto Lippi",
         "Italian",
         0.0,
         0,
         18
        ],
        [
         1961,
         "Edgar Barth",
         "German",
         0.0,
         0,
         18
        ],
        [
         1961,
         "Brian Naylor",
         "British",
         0.0,
         0,
         18
        ],
        [
         1961,
         "Willy Mairesse",
         "Belgian",
         0.0,
         0,
         18
        ],
        [
         1961,
         "Tony Maggs",
         "South African",
         0.0,
         0,
         18
        ],
        [
         1961,
         "Hans Herrmann",
         "German",
         0.0,
         0,
         18
        ],
        [
         1961,
         "Peter Ryan",
         "Canadian",
         0.0,
         0,
         18
        ],
        [
         1961,
         "Geoff Duke",
         "British",
         0.0,
         0,
         18
        ],
        [
         1961,
         "Tony Marsh",
         "British",
         0.0,
         0,
         18
        ],
        [
         1962,
         "Graham Hill",
         "British",
         52.0,
         4,
         1
        ],
        [
         1962,
         "Bruce McLaren",
         "New Zealander",
         32.0,
         1,
         2
        ],
        [
         1962,
         "Jim Clark",
         "British",
         30.0,
         3,
         3
        ],
        [
         1962,
         "John Surtees",
         "British",
         19.0,
         0,
         4
        ],
        [
         1962,
         "Dan Gurney",
         "American",
         15.0,
         1,
         5
        ],
        [
         1962,
         "Phil Hill",
         "American",
         14.0,
         0,
         6
        ],
        [
         1962,
         "Tony Maggs",
         "South African",
         13.0,
         0,
         7
        ],
        [
         1962,
         "Richie Ginther",
         "American",
         10.0,
         0,
         8
        ],
        [
         1962,
         "Jack Brabham",
         "Australian",
         9.0,
         0,
         9
        ],
        [
         1962,
         "Trevor Taylor",
         "British",
         6.0,
         0,
         10
        ],
        [
         1962,
         "Giancarlo Baghetti",
         "Italian",
         5.0,
         0,
         11
        ],
        [
         1962,
         "Lorenzo Bandini",
         "Italian",
         4.0,
         0,
         12
        ],
        [
         1962,
         "Ricardo Rodríguez",
         "Mexican",
         4.0,
         0,
         12
        ],
        [
         1962,
         "Willy Mairesse",
         "Belgian",
         3.0,
         0,
         14
        ],
        [
         1962,
         "Jo Bonnier",
         "Swedish",
         3.0,
         0,
         14
        ],
        [
         1962,
         "Carel Godin de Beaufort",
         "Dutch",
         2.0,
         0,
         16
        ],
        [
         1962,
         "Innes Ireland",
         "British",
         2.0,
         0,
         16
        ],
        [
         1962,
         "Masten Gregory",
         "American",
         1.0,
         0,
         18
        ],
        [
         1962,
         "Neville Lederle",
         "South African",
         1.0,
         0,
         18
        ],
        [
         1962,
         "Roberto Bussinello",
         "Italian",
         0.0,
         0,
         20
        ],
        [
         1962,
         "Nasif Estéfano",
         "Argentine",
         0.0,
         0,
         20
        ],
        [
         1962,
         "Bernard Collomb",
         "French",
         0.0,
         0,
         20
        ],
        [
         1962,
         "Gerry Ashmore",
         "British",
         0.0,
         0,
         20
        ],
        [
         1962,
         "Peter Arundell",
         "British",
         0.0,
         0,
         20
        ],
        [
         1962,
         "Gary Hocking",
         "Rhodesian",
         0.0,
         0,
         20
        ],
        [
         1962,
         "Heini Walter",
         "Swiss",
         0.0,
         0,
         20
        ],
        [
         1962,
         "Mike Harris",
         "South African",
         0.0,
         0,
         20
        ],
        [
         1962,
         "Tony Shelly",
         "New Zealander",
         0.0,
         0,
         20
        ],
        [
         1962,
         "Wolfgang Seidel",
         "German",
         0.0,
         0,
         20
        ],
        [
         1962,
         "Maurice Trintignant",
         "French",
         0.0,
         0,
         20
        ],
        [
         1962,
         "John Love",
         "Rhodesian",
         0.0,
         0,
         20
        ],
        [
         1962,
         "Jo Siffert",
         "Swiss",
         0.0,
         0,
         20
        ],
        [
         1962,
         "Kurt Kuhnke",
         "German",
         0.0,
         0,
         20
        ],
        [
         1962,
         "Ian Burgess",
         "British",
         0.0,
         0,
         20
        ],
        [
         1962,
         "Keith Greene",
         "British",
         0.0,
         0,
         20
        ],
        [
         1962,
         "Tony Settember",
         "American",
         0.0,
         0,
         20
        ],
        [
         1962,
         "Roger Penske",
         "American",
         0.0,
         0,
         20
        ],
        [
         1962,
         "Doug Serrurier",
         "South African",
         0.0,
         0,
         20
        ],
        [
         1962,
         "Jackie Lewis",
         "British",
         0.0,
         0,
         20
        ],
        [
         1962,
         "Hap Sharp",
         "American",
         0.0,
         0,
         20
        ],
        [
         1962,
         "Roy Salvadori",
         "British",
         0.0,
         0,
         20
        ],
        [
         1962,
         "Roberto Lippi",
         "Italian",
         0.0,
         0,
         20
        ],
        [
         1962,
         "Günther Seiffert",
         "German",
         0.0,
         0,
         20
        ],
        [
         1962,
         "Carlo Abate",
         "Italian",
         0.0,
         0,
         20
        ],
        [
         1962,
         "Ernesto Prinoth",
         "Italian",
         0.0,
         0,
         20
        ],
        [
         1962,
         "John Campbell-Jones",
         "British",
         0.0,
         0,
         20
        ],
        [
         1962,
         "Ben Pon",
         "Dutch",
         0.0,
         0,
         20
        ],
        [
         1962,
         "Jay Chamberlain",
         "American",
         0.0,
         0,
         20
        ],
        [
         1962,
         "Nino Vaccarella",
         "Italian",
         0.0,
         0,
         20
        ],
        [
         1962,
         "Ernie Pieterse",
         "South African",
         0.0,
         0,
         20
        ],
        [
         1962,
         "Lucien Bianchi",
         "Belgian",
         0.0,
         0,
         20
        ],
        [
         1962,
         "Heinz Schiller",
         "Swiss",
         0.0,
         0,
         20
        ],
        [
         1962,
         "Colin Davis",
         "British",
         0.0,
         0,
         20
        ],
        [
         1962,
         "Tony Marsh",
         "British",
         0.0,
         0,
         20
        ],
        [
         1962,
         "Syd van der Vyver",
         "South African",
         0.0,
         0,
         20
        ],
        [
         1962,
         "Timmy Mayer",
         "American",
         0.0,
         0,
         20
        ],
        [
         1962,
         "Rob Slotemaker",
         "Dutch",
         0.0,
         0,
         20
        ],
        [
         1962,
         "Rob Schroeder",
         "British",
         0.0,
         0,
         20
        ],
        [
         1962,
         "Bruce Johnstone",
         "South African",
         0.0,
         0,
         20
        ],
        [
         1962,
         "Sam Tingle",
         "Rhodesian",
         0.0,
         0,
         20
        ],
        [
         1962,
         "Jim Hall",
         "American",
         0.0,
         0,
         20
        ],
        [
         1963,
         "Jim Clark",
         "British",
         73.0,
         7,
         1
        ],
        [
         1963,
         "Richie Ginther",
         "American",
         34.0,
         0,
         2
        ],
        [
         1963,
         "Graham Hill",
         "British",
         29.0,
         2,
         3
        ],
        [
         1963,
         "John Surtees",
         "British",
         22.0,
         1,
         4
        ],
        [
         1963,
         "Dan Gurney",
         "American",
         19.0,
         0,
         5
        ],
        [
         1963,
         "Bruce McLaren",
         "New Zealander",
         17.0,
         0,
         6
        ],
        [
         1963,
         "Jack Brabham",
         "Australian",
         14.0,
         0,
         7
        ],
        [
         1963,
         "Tony Maggs",
         "South African",
         9.0,
         0,
         8
        ],
        [
         1963,
         "Innes Ireland",
         "British",
         6.0,
         0,
         9
        ],
        [
         1963,
         "Jo Bonnier",
         "Swedish",
         6.0,
         0,
         9
        ],
        [
         1963,
         "Lorenzo Bandini",
         "Italian",
         6.0,
         0,
         9
        ],
        [
         1963,
         "Jim Hall",
         "American",
         3.0,
         0,
         12
        ],
        [
         1963,
         "Gerhard Mitter",
         "German",
         3.0,
         0,
         12
        ],
        [
         1963,
         "Carel Godin de Beaufort",
         "Dutch",
         2.0,
         0,
         14
        ],
        [
         1963,
         "Ludovico Scarfiotti",
         "Italian",
         1.0,
         0,
         15
        ],
        [
         1963,
         "Jo Siffert",
         "Swiss",
         1.0,
         0,
         15
        ],
        [
         1963,
         "Trevor Taylor",
         "British",
         1.0,
         0,
         15
        ],
        [
         1963,
         "Peter de Klerk",
         "South African",
         0.0,
         0,
         18
        ],
        [
         1963,
         "Gaetano Starrabba",
         "Italian",
         0.0,
         0,
         18
        ],
        [
         1963,
         "Moisés Solana",
         "Mexican",
         0.0,
         0,
         18
        ],
        [
         1963,
         "Sam Tingle",
         "Rhodesian",
         0.0,
         0,
         18
        ],
        [
         1963,
         "Bernard Collomb",
         "French",
         0.0,
         0,
         18
        ],
        [
         1963,
         "Mike Hailwood",
         "British",
         0.0,
         0,
         18
        ],
        [
         1963,
         "Mike Spence",
         "British",
         0.0,
         0,
         18
        ],
        [
         1963,
         "Neville Lederle",
         "South African",
         0.0,
         0,
         18
        ],
        [
         1963,
         "Frank Dochnal",
         "American",
         0.0,
         0,
         18
        ],
        [
         1963,
         "Günther Seiffert",
         "German",
         0.0,
         0,
         18
        ],
        [
         1963,
         "Peter Arundell",
         "British",
         0.0,
         0,
         18
        ],
        [
         1963,
         "Nasif Estéfano",
         "Argentine",
         0.0,
         0,
         18
        ],
        [
         1963,
         "Willy Mairesse",
         "Belgian",
         0.0,
         0,
         18
        ],
        [
         1963,
         "Tim Parnell",
         "British",
         0.0,
         0,
         18
        ],
        [
         1963,
         "Giancarlo Baghetti",
         "Italian",
         0.0,
         0,
         18
        ],
        [
         1963,
         "Rodger Ward",
         "American",
         0.0,
         0,
         18
        ],
        [
         1963,
         "Roberto Lippi",
         "Italian",
         0.0,
         0,
         18
        ],
        [
         1963,
         "Lucien Bianchi",
         "Belgian",
         0.0,
         0,
         18
        ],
        [
         1963,
         "Chris Amon",
         "New Zealander",
         0.0,
         0,
         18
        ],
        [
         1963,
         "Ernie de Vos",
         "Dutch",
         0.0,
         0,
         18
        ],
        [
         1963,
         "Maurice Trintignant",
         "French",
         0.0,
         0,
         18
        ],
        [
         1963,
         "André Pilette",
         "Belgian",
         0.0,
         0,
         18
        ],
        [
         1963,
         "John Love",
         "Rhodesian",
         0.0,
         0,
         18
        ],
        [
         1963,
         "Ernesto Brambilla",
         "Italian",
         0.0,
         0,
         18
        ],
        [
         1963,
         "Ian Raby",
         "British",
         0.0,
         0,
         18
        ],
        [
         1963,
         "Carlo Abate",
         "Italian",
         0.0,
         0,
         18
        ],
        [
         1963,
         "Peter Broeker",
         "Canadian",
         0.0,
         0,
         18
        ],
        [
         1963,
         "Hap Sharp",
         "American",
         0.0,
         0,
         18
        ],
        [
         1963,
         "Trevor Blokdyk",
         "South African",
         0.0,
         0,
         18
        ],
        [
         1963,
         "Ernie Pieterse",
         "South African",
         0.0,
         0,
         18
        ],
        [
         1963,
         "Walt Hansgen",
         "American",
         0.0,
         0,
         18
        ],
        [
         1963,
         "John Campbell-Jones",
         "British",
         0.0,
         0,
         18
        ],
        [
         1963,
         "Thomas Monarch",
         "American",
         0.0,
         0,
         18
        ],
        [
         1963,
         "Pedro Rodríguez",
         "Mexican",
         0.0,
         0,
         18
        ],
        [
         1963,
         "David Prophet",
         "British",
         0.0,
         0,
         18
        ],
        [
         1963,
         "Doug Serrurier",
         "South African",
         0.0,
         0,
         18
        ],
        [
         1963,
         "Brausch Niemann",
         "South African",
         0.0,
         0,
         18
        ],
        [
         1963,
         "Ian Burgess",
         "British",
         0.0,
         0,
         18
        ],
        [
         1963,
         "Paddy Driver",
         "South African",
         0.0,
         0,
         18
        ],
        [
         1963,
         "Phil Hill",
         "American",
         0.0,
         0,
         18
        ],
        [
         1963,
         "Kurt Kuhnke",
         "German",
         0.0,
         0,
         18
        ],
        [
         1963,
         "Tony Settember",
         "American",
         0.0,
         0,
         18
        ],
        [
         1963,
         "Mário de Araújo Cabral",
         "Portuguese",
         0.0,
         0,
         18
        ],
        [
         1963,
         "Masten Gregory",
         "American",
         0.0,
         0,
         18
        ],
        [
         1963,
         "Bob Anderson",
         "British",
         0.0,
         0,
         18
        ],
        [
         1964,
         "Graham Hill",
         "British",
         41.0,
         2,
         1
        ],
        [
         1964,
         "John Surtees",
         "British",
         40.0,
         2,
         2
        ],
        [
         1964,
         "Jim Clark",
         "British",
         32.0,
         3,
         3
        ],
        [
         1964,
         "Lorenzo Bandini",
         "Italian",
         23.0,
         1,
         4
        ],
        [
         1964,
         "Richie Ginther",
         "American",
         23.0,
         0,
         5
        ],
        [
         1964,
         "Dan Gurney",
         "American",
         19.0,
         2,
         6
        ],
        [
         1964,
         "Bruce McLaren",
         "New Zealander",
         13.0,
         0,
         7
        ],
        [
         1964,
         "Peter Arundell",
         "British",
         11.0,
         0,
         8
        ],
        [
         1964,
         "Jack Brabham",
         "Australian",
         11.0,
         0,
         8
        ],
        [
         1964,
         "Jo Siffert",
         "Swiss",
         7.0,
         0,
         10
        ],
        [
         1964,
         "Bob Anderson",
         "British",
         5.0,
         0,
         11
        ],
        [
         1964,
         "Innes Ireland",
         "British",
         4.0,
         0,
         12
        ],
        [
         1964,
         "Tony Maggs",
         "South African",
         4.0,
         0,
         12
        ],
        [
         1964,
         "Mike Spence",
         "British",
         4.0,
         0,
         12
        ],
        [
         1964,
         "Jo Bonnier",
         "Swedish",
         3.0,
         0,
         15
        ],
        [
         1964,
         "Maurice Trintignant",
         "French",
         2.0,
         0,
         16
        ],
        [
         1964,
         "Chris Amon",
         "New Zealander",
         2.0,
         0,
         16
        ],
        [
         1964,
         "Walt Hansgen",
         "American",
         2.0,
         0,
         16
        ],
        [
         1964,
         "Pedro Rodríguez",
         "Mexican",
         1.0,
         0,
         19
        ],
        [
         1964,
         "Mike Hailwood",
         "British",
         1.0,
         0,
         19
        ],
        [
         1964,
         "Phil Hill",
         "American",
         1.0,
         0,
         19
        ],
        [
         1964,
         "Trevor Taylor",
         "British",
         1.0,
         0,
         19
        ],
        [
         1964,
         "Giancarlo Baghetti",
         "Italian",
         0.0,
         0,
         23
        ],
        [
         1964,
         "John Taylor",
         "British",
         0.0,
         0,
         23
        ],
        [
         1964,
         "Ronnie Bucknum",
         "American",
         0.0,
         0,
         23
        ],
        [
         1964,
         "Ludovico Scarfiotti",
         "Italian",
         0.0,
         0,
         23
        ],
        [
         1964,
         "Peter Revson",
         "American",
         0.0,
         0,
         23
        ],
        [
         1964,
         "Jochen Rindt",
         "Austrian",
         0.0,
         0,
         23
        ],
        [
         1964,
         "Carel Godin de Beaufort",
         "Dutch",
         0.0,
         0,
         23
        ],
        [
         1964,
         "John Love",
         "Rhodesian",
         0.0,
         0,
         23
        ],
        [
         1964,
         "André Pilette",
         "Belgian",
         0.0,
         0,
         23
        ],
        [
         1964,
         "Ian Raby",
         "British",
         0.0,
         0,
         23
        ],
        [
         1964,
         "Edgar Barth",
         "German",
         0.0,
         0,
         23
        ],
        [
         1964,
         "Hap Sharp",
         "American",
         0.0,
         0,
         23
        ],
        [
         1964,
         "Giacomo Russo",
         "Italian",
         0.0,
         0,
         23
        ],
        [
         1964,
         "Richard Attwood",
         "British",
         0.0,
         0,
         23
        ],
        [
         1964,
         "Frank Gardner",
         "Australian",
         0.0,
         0,
         23
        ],
        [
         1964,
         "Mário de Araújo Cabral",
         "Portuguese",
         0.0,
         0,
         23
        ],
        [
         1964,
         "Moisés Solana",
         "Mexican",
         0.0,
         0,
         23
        ],
        [
         1964,
         "Bernard Collomb",
         "French",
         0.0,
         0,
         23
        ],
        [
         1964,
         "Gerhard Mitter",
         "German",
         0.0,
         0,
         23
        ],
        [
         1965,
         "Jim Clark",
         "British",
         54.0,
         6,
         1
        ],
        [
         1965,
         "Graham Hill",
         "British",
         47.0,
         2,
         2
        ],
        [
         1965,
         "Jackie Stewart",
         "British",
         34.0,
         1,
         3
        ],
        [
         1965,
         "Dan Gurney",
         "American",
         25.0,
         0,
         4
        ],
        [
         1965,
         "John Surtees",
         "British",
         17.0,
         0,
         5
        ],
        [
         1965,
         "Lorenzo Bandini",
         "Italian",
         13.0,
         0,
         6
        ],
        [
         1965,
         "Richie Ginther",
         "American",
         11.0,
         1,
         7
        ],
        [
         1965,
         "Mike Spence",
         "British",
         10.0,
         0,
         8
        ],
        [
         1965,
         "Bruce McLaren",
         "New Zealander",
         10.0,
         0,
         8
        ],
        [
         1965,
         "Jack Brabham",
         "Australian",
         9.0,
         0,
         10
        ],
        [
         1965,
         "Denny Hulme",
         "New Zealander",
         5.0,
         0,
         11
        ],
        [
         1965,
         "Jo Siffert",
         "Swiss",
         5.0,
         0,
         11
        ],
        [
         1965,
         "Jochen Rindt",
         "Austrian",
         4.0,
         0,
         13
        ],
        [
         1965,
         "Ronnie Bucknum",
         "American",
         2.0,
         0,
         14
        ],
        [
         1965,
         "Pedro Rodríguez",
         "Mexican",
         2.0,
         0,
         14
        ],
        [
         1965,
         "Richard Attwood",
         "British",
         2.0,
         0,
         14
        ],
        [
         1965,
         "Dave Charlton",
         "South African",
         0.0,
         0,
         17
        ],
        [
         1965,
         "Brausch Niemann",
         "South African",
         0.0,
         0,
         17
        ],
        [
         1965,
         "Sam Tingle",
         "Rhodesian",
         0.0,
         0,
         17
        ],
        [
         1965,
         "Ray Reed",
         "South African",
         0.0,
         0,
         17
        ],
        [
         1965,
         "Lucien Bianchi",
         "Belgian",
         0.0,
         0,
         17
        ],
        [
         1965,
         "Alex Blignaut",
         "South African",
         0.0,
         0,
         17
        ],
        [
         1965,
         "Innes Ireland",
         "British",
         0.0,
         0,
         17
        ],
        [
         1965,
         "Ian Raby",
         "British",
         0.0,
         0,
         17
        ],
        [
         1965,
         "Moisés Solana",
         "Mexican",
         0.0,
         0,
         17
        ],
        [
         1965,
         "David Clapham",
         "South African",
         0.0,
         0,
         17
        ],
        [
         1965,
         "Frank Gardner",
         "Australian",
         0.0,
         0,
         17
        ],
        [
         1965,
         "Doug Serrurier",
         "South African",
         0.0,
         0,
         17
        ],
        [
         1965,
         "Roberto Bussinello",
         "Italian",
         0.0,
         0,
         17
        ],
        [
         1965,
         "Mike Hailwood",
         "British",
         0.0,
         0,
         17
        ],
        [
         1965,
         "Jo Bonnier",
         "Swedish",
         0.0,
         0,
         17
        ],
        [
         1965,
         "Peter de Klerk",
         "South African",
         0.0,
         0,
         17
        ],
        [
         1965,
         "Tony Maggs",
         "South African",
         0.0,
         0,
         17
        ],
        [
         1965,
         "Nino Vaccarella",
         "Italian",
         0.0,
         0,
         17
        ],
        [
         1965,
         "Giorgio Bassi",
         "Italian",
         0.0,
         0,
         17
        ],
        [
         1965,
         "Giacomo Russo",
         "Italian",
         0.0,
         0,
         17
        ],
        [
         1965,
         "Bob Anderson",
         "British",
         0.0,
         0,
         17
        ],
        [
         1965,
         "John Rhodes",
         "British",
         0.0,
         0,
         17
        ],
        [
         1965,
         "John Love",
         "Rhodesian",
         0.0,
         0,
         17
        ],
        [
         1965,
         "Bob Bondurant",
         "American",
         0.0,
         0,
         17
        ],
        [
         1965,
         "Brian Gubby",
         "British",
         0.0,
         0,
         17
        ],
        [
         1965,
         "Alan Rollinson",
         "British",
         0.0,
         0,
         17
        ],
        [
         1965,
         "Gerhard Mitter",
         "German",
         0.0,
         0,
         17
        ],
        [
         1965,
         "Ludovico Scarfiotti",
         "Italian",
         0.0,
         0,
         17
        ],
        [
         1965,
         "Clive Puzey",
         "Rhodesian",
         0.0,
         0,
         17
        ],
        [
         1965,
         "Giancarlo Baghetti",
         "Italian",
         0.0,
         0,
         17
        ],
        [
         1965,
         "Jackie Pretorius",
         "South African",
         0.0,
         0,
         17
        ],
        [
         1965,
         "Ernie Pieterse",
         "South African",
         0.0,
         0,
         17
        ],
        [
         1965,
         "Chris Amon",
         "New Zealander",
         0.0,
         0,
         17
        ],
        [
         1965,
         "Trevor Blokdyk",
         "South African",
         0.0,
         0,
         17
        ],
        [
         1965,
         "Masten Gregory",
         "American",
         0.0,
         0,
         17
        ],
        [
         1965,
         "David Prophet",
         "British",
         0.0,
         0,
         17
        ],
        [
         1965,
         "Neville Lederle",
         "South African",
         0.0,
         0,
         17
        ],
        [
         1965,
         "Paul Hawkins",
         "Australian",
         0.0,
         0,
         17
        ],
        [
         1966,
         "Jack Brabham",
         "Australian",
         45.0,
         4,
         1
        ],
        [
         1966,
         "John Surtees",
         "British",
         28.0,
         2,
         2
        ],
        [
         1966,
         "Jochen Rindt",
         "Austrian",
         24.0,
         0,
         3
        ],
        [
         1966,
         "Denny Hulme",
         "New Zealander",
         18.0,
         0,
         4
        ],
        [
         1966,
         "Graham Hill",
         "British",
         17.0,
         0,
         5
        ],
        [
         1966,
         "Jim Clark",
         "British",
         16.0,
         1,
         6
        ],
        [
         1966,
         "Jackie Stewart",
         "British",
         14.0,
         1,
         7
        ],
        [
         1966,
         "Mike Parkes",
         "British",
         12.0,
         0,
         8
        ],
        [
         1966,
         "Lorenzo Bandini",
         "Italian",
         12.0,
         0,
         8
        ],
        [
         1966,
         "Ludovico Scarfiotti",
         "Italian",
         9.0,
         1,
         10
        ],
        [
         1966,
         "Richie Ginther",
         "American",
         5.0,
         0,
         11
        ],
        [
         1966,
         "Mike Spence",
         "British",
         4.0,
         0,
         12
        ],
        [
         1966,
         "Dan Gurney",
         "American",
         4.0,
         0,
         12
        ],
        [
         1966,
         "Jo Siffert",
         "Swiss",
         3.0,
         0,
         14
        ],
        [
         1966,
         "Bob Bondurant",
         "American",
         3.0,
         0,
         14
        ],
        [
         1966,
         "Bruce McLaren",
         "New Zealander",
         3.0,
         0,
         14
        ],
        [
         1966,
         "Peter Arundell",
         "British",
         1.0,
         0,
         17
        ],
        [
         1966,
         "Bob Anderson",
         "British",
         1.0,
         0,
         17
        ],
        [
         1966,
         "John Taylor",
         "British",
         1.0,
         0,
         17
        ],
        [
         1966,
         "Jo Bonnier",
         "Swedish",
         1.0,
         0,
         17
        ],
        [
         1966,
         "Guy Ligier",
         "French",
         0.0,
         0,
         21
        ],
        [
         1966,
         "Chris Irwin",
         "British",
         0.0,
         0,
         21
        ],
        [
         1966,
         "Chris Lawrence",
         "British",
         0.0,
         0,
         21
        ],
        [
         1966,
         "Innes Ireland",
         "British",
         0.0,
         0,
         21
        ],
        [
         1966,
         "Ronnie Bucknum",
         "American",
         0.0,
         0,
         21
        ],
        [
         1966,
         "Pedro Rodríguez",
         "Mexican",
         0.0,
         0,
         21
        ],
        [
         1966,
         "Chris Amon",
         "New Zealander",
         0.0,
         0,
         21
        ],
        [
         1966,
         "Vic Wilson",
         "British",
         0.0,
         0,
         21
        ],
        [
         1966,
         "Giancarlo Baghetti",
         "Italian",
         0.0,
         0,
         21
        ],
        [
         1966,
         "Trevor Taylor",
         "British",
         0.0,
         0,
         21
        ],
        [
         1966,
         "Giacomo Russo",
         "Italian",
         0.0,
         0,
         21
        ],
        [
         1966,
         "Phil Hill",
         "American",
         0.0,
         0,
         21
        ],
        [
         1966,
         "Moisés Solana",
         "Mexican",
         0.0,
         0,
         21
        ],
        [
         1967,
         "Denny Hulme",
         "New Zealander",
         51.0,
         2,
         1
        ],
        [
         1967,
         "Jack Brabham",
         "Australian",
         48.0,
         2,
         2
        ],
        [
         1967,
         "Jim Clark",
         "British",
         41.0,
         4,
         3
        ],
        [
         1967,
         "John Surtees",
         "British",
         20.0,
         1,
         4
        ],
        [
         1967,
         "Chris Amon",
         "New Zealander",
         20.0,
         0,
         5
        ],
        [
         1967,
         "Pedro Rodríguez",
         "Mexican",
         15.0,
         1,
         6
        ],
        [
         1967,
         "Graham Hill",
         "British",
         15.0,
         0,
         7
        ],
        [
         1967,
         "Dan Gurney",
         "American",
         13.0,
         1,
         8
        ],
        [
         1967,
         "Jackie Stewart",
         "British",
         10.0,
         0,
         9
        ],
        [
         1967,
         "Mike Spence",
         "British",
         9.0,
         0,
         10
        ],
        [
         1967,
         "Jochen Rindt",
         "Austrian",
         6.0,
         0,
         11
        ],
        [
         1967,
         "John Love",
         "Rhodesian",
         6.0,
         0,
         11
        ],
        [
         1967,
         "Jo Siffert",
         "Swiss",
         6.0,
         0,
         11
        ],
        [
         1967,
         "Jo Bonnier",
         "Swedish",
         3.0,
         0,
         14
        ],
        [
         1967,
         "Bruce McLaren",
         "New Zealander",
         3.0,
         0,
         14
        ],
        [
         1967,
         "Chris Irwin",
         "British",
         2.0,
         0,
         16
        ],
        [
         1967,
         "Bob Anderson",
         "British",
         2.0,
         0,
         16
        ],
        [
         1967,
         "Mike Parkes",
         "British",
         2.0,
         0,
         16
        ],
        [
         1967,
         "Guy Ligier",
         "French",
         1.0,
         0,
         19
        ],
        [
         1967,
         "Ludovico Scarfiotti",
         "Italian",
         1.0,
         0,
         19
        ],
        [
         1967,
         "Jacky Ickx",
         "Belgian",
         1.0,
         0,
         19
        ],
        [
         1967,
         "Mike Fisher",
         "American",
         0.0,
         0,
         22
        ],
        [
         1967,
         "Al Pease",
         "Canadian",
         0.0,
         0,
         22
        ],
        [
         1967,
         "Giancarlo Baghetti",
         "Italian",
         0.0,
         0,
         22
        ],
        [
         1967,
         "Silvio Moser",
         "Swiss",
         0.0,
         0,
         22
        ],
        [
         1967,
         "Alan Rees",
         "British",
         0.0,
         0,
         22
        ],
        [
         1967,
         "Tom Jones",
         "American",
         0.0,
         0,
         22
        ],
        [
         1967,
         "Piers Courage",
         "British",
         0.0,
         0,
         22
        ],
        [
         1967,
         "David Hobbs",
         "British",
         0.0,
         0,
         22
        ],
        [
         1967,
         "Hubert Hahne",
         "German",
         0.0,
         0,
         22
        ],
        [
         1967,
         "Jackie Oliver",
         "British",
         0.0,
         0,
         22
        ],
        [
         1967,
         "Jonathan Williams",
         "British",
         0.0,
         0,
         22
        ],
        [
         1967,
         "Sam Tingle",
         "Rhodesian",
         0.0,
         0,
         22
        ],
        [
         1967,
         "Lorenzo Bandini",
         "Italian",
         0.0,
         0,
         22
        ],
        [
         1967,
         "Moisés Solana",
         "Mexican",
         0.0,
         0,
         22
        ],
        [
         1967,
         "Kurt Ahrens",
         "German",
         0.0,
         0,
         22
        ],
        [
         1967,
         "Brian Hart",
         "British",
         0.0,
         0,
         22
        ],
        [
         1967,
         "Eppie Wietzes",
         "Canadian",
         0.0,
         0,
         22
        ],
        [
         1967,
         "Luki Botha",
         "South African",
         0.0,
         0,
         22
        ],
        [
         1967,
         "Jean-Pierre Beltoise",
         "French",
         0.0,
         0,
         22
        ],
        [
         1967,
         "Dave Charlton",
         "South African",
         0.0,
         0,
         22
        ],
        [
         1967,
         "Jo Schlesser",
         "French",
         0.0,
         0,
         22
        ],
        [
         1967,
         "Johnny Servoz-Gavin",
         "French",
         0.0,
         0,
         22
        ],
        [
         1967,
         "Richard Attwood",
         "British",
         0.0,
         0,
         22
        ],
        [
         1967,
         "Richie Ginther",
         "American",
         0.0,
         0,
         22
        ],
        [
         1968,
         "Graham Hill",
         "British",
         48.0,
         3,
         1
        ],
        [
         1968,
         "Jackie Stewart",
         "British",
         36.0,
         3,
         2
        ],
        [
         1968,
         "Denny Hulme",
         "New Zealander",
         33.0,
         2,
         3
        ],
        [
         1968,
         "Jacky Ickx",
         "Belgian",
         27.0,
         1,
         4
        ],
        [
         1968,
         "Bruce McLaren",
         "New Zealander",
         22.0,
         1,
         5
        ],
        [
         1968,
         "Pedro Rodríguez",
         "Mexican",
         18.0,
         0,
         6
        ],
        [
         1968,
         "Jo Siffert",
         "Swiss",
         12.0,
         1,
         7
        ],
        [
         1968,
         "John Surtees",
         "British",
         12.0,
         0,
         8
        ],
        [
         1968,
         "Jean-Pierre Beltoise",
         "French",
         11.0,
         0,
         9
        ],
        [
         1968,
         "Chris Amon",
         "New Zealander",
         10.0,
         0,
         10
        ],
        [
         1968,
         "Jim Clark",
         "British",
         9.0,
         1,
         11
        ],
        [
         1968,
         "Jochen Rindt",
         "Austrian",
         8.0,
         0,
         12
        ],
        [
         1968,
         "Richard Attwood",
         "British",
         6.0,
         0,
         13
        ],
        [
         1968,
         "Jackie Oliver",
         "British",
         6.0,
         0,
         13
        ],
        [
         1968,
         "Ludovico Scarfiotti",
         "Italian",
         6.0,
         0,
         13
        ],
        [
         1968,
         "Johnny Servoz-Gavin",
         "French",
         6.0,
         0,
         13
        ],
        [
         1968,
         "Vic Elford",
         "British",
         5.0,
         0,
         17
        ],
        [
         1968,
         "Lucien Bianchi",
         "Belgian",
         5.0,
         0,
         17
        ],
        [
         1968,
         "Piers Courage",
         "British",
         4.0,
         0,
         19
        ],
        [
         1968,
         "Brian Redman",
         "British",
         4.0,
         0,
         19
        ],
        [
         1968,
         "Jo Bonnier",
         "Swedish",
         3.0,
         0,
         21
        ],
        [
         1968,
         "Dan Gurney",
         "American",
         3.0,
         0,
         21
        ],
        [
         1968,
         "Jack Brabham",
         "Australian",
         2.0,
         0,
         23
        ],
        [
         1968,
         "Silvio Moser",
         "Swiss",
         2.0,
         0,
         23
        ],
        [
         1968,
         "Bobby Unser",
         "American",
         0.0,
         0,
         25
        ],
        [
         1968,
         "Andrea de Adamich",
         "Italian",
         0.0,
         0,
         25
        ],
        [
         1968,
         "Mario Andretti",
         "American",
         0.0,
         0,
         25
        ],
        [
         1968,
         "John Love",
         "Rhodesian",
         0.0,
         0,
         25
        ],
        [
         1968,
         "Moisés Solana",
         "Mexican",
         0.0,
         0,
         25
        ],
        [
         1968,
         "Henri Pescarolo",
         "French",
         0.0,
         0,
         25
        ],
        [
         1968,
         "Mike Spence",
         "British",
         0.0,
         0,
         25
        ],
        [
         1968,
         "Jackie Pretorius",
         "South African",
         0.0,
         0,
         25
        ],
        [
         1968,
         "Frank Gardner",
         "Australian",
         0.0,
         0,
         25
        ],
        [
         1968,
         "David Hobbs",
         "British",
         0.0,
         0,
         25
        ],
        [
         1968,
         "Bill Brack",
         "Canadian",
         0.0,
         0,
         25
        ],
        [
         1968,
         "Jo Schlesser",
         "French",
         0.0,
         0,
         25
        ],
        [
         1968,
         "Hubert Hahne",
         "German",
         0.0,
         0,
         25
        ],
        [
         1968,
         "Sam Tingle",
         "Rhodesian",
         0.0,
         0,
         25
        ],
        [
         1968,
         "Kurt Ahrens",
         "German",
         0.0,
         0,
         25
        ],
        [
         1968,
         "Derek Bell",
         "British",
         0.0,
         0,
         25
        ],
        [
         1968,
         "Robin Widdows",
         "British",
         0.0,
         0,
         25
        ],
        [
         1968,
         "Dave Charlton",
         "South African",
         0.0,
         0,
         25
        ],
        [
         1968,
         "Basil van Rooyen",
         "South African",
         0.0,
         0,
         25
        ],
        [
         1969,
         "Jackie Stewart",
         "British",
         63.0,
         6,
         1
        ],
        [
         1969,
         "Jacky Ickx",
         "Belgian",
         37.0,
         2,
         2
        ],
        [
         1969,
         "Bruce McLaren",
         "New Zealander",
         26.0,
         0,
         3
        ],
        [
         1969,
         "Jochen Rindt",
         "Austrian",
         22.0,
         1,
         4
        ],
        [
         1969,
         "Jean-Pierre Beltoise",
         "French",
         21.0,
         0,
         5
        ],
        [
         1969,
         "Denny Hulme",
         "New Zealander",
         20.0,
         1,
         6
        ],
        [
         1969,
         "Graham Hill",
         "British",
         19.0,
         1,
         7
        ],
        [
         1969,
         "Piers Courage",
         "British",
         16.0,
         0,
         8
        ],
        [
         1969,
         "Jo Siffert",
         "Swiss",
         15.0,
         0,
         9
        ],
        [
         1969,
         "Jack Brabham",
         "Australian",
         14.0,
         0,
         10
        ],
        [
         1969,
         "John Surtees",
         "British",
         6.0,
         0,
         11
        ],
        [
         1969,
         "Chris Amon",
         "New Zealander",
         4.0,
         0,
         12
        ],
        [
         1969,
         "Pedro Rodríguez",
         "Mexican",
         3.0,
         0,
         13
        ],
        [
         1969,
         "Vic Elford",
         "British",
         3.0,
         0,
         13
        ],
        [
         1969,
         "Richard Attwood",
         "British",
         3.0,
         0,
         13
        ],
        [
         1969,
         "Johnny Servoz-Gavin",
         "French",
         1.0,
         0,
         16
        ],
        [
         1969,
         "Jackie Oliver",
         "British",
         1.0,
         0,
         16
        ],
        [
         1969,
         "Silvio Moser",
         "Swiss",
         1.0,
         0,
         16
        ],
        [
         1969,
         "John Cordts",
         "Canadian",
         0.0,
         0,
         19
        ],
        [
         1969,
         "John Love",
         "Rhodesian",
         0.0,
         0,
         19
        ],
        [
         1969,
         "Bill Brack",
         "Canadian",
         0.0,
         0,
         19
        ],
        [
         1969,
         "George Eaton",
         "Canadian",
         0.0,
         0,
         19
        ],
        [
         1969,
         "Peter de Klerk",
         "South African",
         0.0,
         0,
         19
        ],
        [
         1969,
         "John Miles",
         "British",
         0.0,
         0,
         19
        ],
        [
         1969,
         "Derek Bell",
         "British",
         0.0,
         0,
         19
        ],
        [
         1969,
         "Mario Andretti",
         "American",
         0.0,
         0,
         19
        ],
        [
         1969,
         "Al Pease",
         "Canadian",
         0.0,
         0,
         19
        ],
        [
         1969,
         "Pete Lovely",
         "American",
         0.0,
         0,
         19
        ],
        [
         1969,
         "Sam Tingle",
         "Rhodesian",
         0.0,
         0,
         19
        ],
        [
         1969,
         "Basil van Rooyen",
         "South African",
         0.0,
         0,
         19
        ],
        [
         1969,
         "Jo Bonnier",
         "Swedish",
         0.0,
         0,
         19
        ],
        [
         1970,
         "Jochen Rindt",
         "Austrian",
         45.0,
         5,
         1
        ],
        [
         1970,
         "Jacky Ickx",
         "Belgian",
         40.0,
         3,
         2
        ],
        [
         1970,
         "Clay Regazzoni",
         "Swiss",
         33.0,
         1,
         3
        ],
        [
         1970,
         "Denny Hulme",
         "New Zealander",
         27.0,
         0,
         4
        ],
        [
         1970,
         "Jack Brabham",
         "Australian",
         25.0,
         1,
         5
        ],
        [
         1970,
         "Jackie Stewart",
         "British",
         25.0,
         1,
         5
        ],
        [
         1970,
         "Pedro Rodríguez",
         "Mexican",
         23.0,
         1,
         7
        ],
        [
         1970,
         "Chris Amon",
         "New Zealander",
         23.0,
         0,
         8
        ],
        [
         1970,
         "Jean-Pierre Beltoise",
         "French",
         16.0,
         0,
         9
        ],
        [
         1970,
         "Emerson Fittipaldi",
         "Brazilian",
         12.0,
         1,
         10
        ],
        [
         1970,
         "Rolf Stommelen",
         "German",
         10.0,
         0,
         11
        ],
        [
         1970,
         "Henri Pescarolo",
         "French",
         8.0,
         0,
         12
        ],
        [
         1970,
         "Graham Hill",
         "British",
         7.0,
         0,
         13
        ],
        [
         1970,
         "Bruce McLaren",
         "New Zealander",
         6.0,
         0,
         14
        ],
        [
         1970,
         "Mario Andretti",
         "American",
         4.0,
         0,
         15
        ],
        [
         1970,
         "Reine Wisell",
         "Swedish",
         4.0,
         0,
         15
        ],
        [
         1970,
         "Ignazio Giunti",
         "Italian",
         3.0,
         0,
         17
        ],
        [
         1970,
         "John Surtees",
         "British",
         3.0,
         0,
         17
        ],
        [
         1970,
         "Jackie Oliver",
         "British",
         2.0,
         0,
         19
        ],
        [
         1970,
         "John Miles",
         "British",
         2.0,
         0,
         19
        ],
        [
         1970,
         "Johnny Servoz-Gavin",
         "French",
         2.0,
         0,
         19
        ],
        [
         1970,
         "Dan Gurney",
         "American",
         1.0,
         0,
         22
        ],
        [
         1970,
         "Derek Bell",
         "British",
         1.0,
         0,
         22
        ],
        [
         1970,
         "François Cevert",
         "French",
         1.0,
         0,
         22
        ],
        [
         1970,
         "Peter Gethin",
         "British",
         1.0,
         0,
         22
        ],
        [
         1970,
         "Gus Hutchison",
         "American",
         0.0,
         0,
         26
        ],
        [
         1970,
         "Piers Courage",
         "British",
         0.0,
         0,
         26
        ],
        [
         1970,
         "Alex Soler-Roig",
         "Spanish",
         0.0,
         0,
         26
        ],
        [
         1970,
         "Ronnie Peterson",
         "Swedish",
         0.0,
         0,
         26
        ],
        [
         1970,
         "Silvio Moser",
         "Swiss",
         0.0,
         0,
         26
        ],
        [
         1970,
         "John Love",
         "Rhodesian",
         0.0,
         0,
         26
        ],
        [
         1970,
         "Andrea de Adamich",
         "Italian",
         0.0,
         0,
         26
        ],
        [
         1970,
         "Hubert Hahne",
         "German",
         0.0,
         0,
         26
        ],
        [
         1970,
         "Brian Redman",
         "British",
         0.0,
         0,
         26
        ],
        [
         1970,
         "Pete Lovely",
         "American",
         0.0,
         0,
         26
        ],
        [
         1970,
         "Peter Westbury",
         "British",
         0.0,
         0,
         26
        ],
        [
         1970,
         "George Eaton",
         "Canadian",
         0.0,
         0,
         26
        ],
        [
         1970,
         "Dave Charlton",
         "South African",
         0.0,
         0,
         26
        ],
        [
         1970,
         "Tim Schenken",
         "Australian",
         0.0,
         0,
         26
        ],
        [
         1970,
         "Nanni Galli",
         "Italian",
         0.0,
         0,
         26
        ],
        [
         1970,
         "Jo Bonnier",
         "Swedish",
         0.0,
         0,
         26
        ],
        [
         1970,
         "Jo Siffert",
         "Swiss",
         0.0,
         0,
         26
        ],
        [
         1970,
         "Peter de Klerk",
         "South African",
         0.0,
         0,
         26
        ],
        [
         1971,
         "Jackie Stewart",
         "British",
         62.0,
         6,
         1
        ],
        [
         1971,
         "Ronnie Peterson",
         "Swedish",
         33.0,
         0,
         2
        ],
        [
         1971,
         "François Cevert",
         "French",
         26.0,
         1,
         3
        ],
        [
         1971,
         "Jacky Ickx",
         "Belgian",
         19.0,
         1,
         4
        ],
        [
         1971,
         "Jo Siffert",
         "Swiss",
         19.0,
         1,
         4
        ],
        [
         1971,
         "Emerson Fittipaldi",
         "Brazilian",
         16.0,
         0,
         6
        ],
        [
         1971,
         "Clay Regazzoni",
         "Swiss",
         13.0,
         0,
         7
        ],
        [
         1971,
         "Mario Andretti",
         "American",
         12.0,
         1,
         8
        ],
        [
         1971,
         "Peter Gethin",
         "British",
         9.0,
         1,
         9
        ],
        [
         1971,
         "Reine Wisell",
         "Swedish",
         9.0,
         0,
         10
        ],
        [
         1971,
         "Denny Hulme",
         "New Zealander",
         9.0,
         0,
         10
        ],
        [
         1971,
         "Chris Amon",
         "New Zealander",
         9.0,
         0,
         10
        ],
        [
         1971,
         "Pedro Rodríguez",
         "Mexican",
         9.0,
         0,
         10
        ],
        [
         1971,
         "Tim Schenken",
         "Australian",
         5.0,
         0,
         14
        ],
        [
         1971,
         "Howden Ganley",
         "New Zealander",
         5.0,
         0,
         14
        ],
        [
         1971,
         "Mark Donohue",
         "American",
         4.0,
         0,
         16
        ],
        [
         1971,
         "Henri Pescarolo",
         "French",
         4.0,
         0,
         16
        ],
        [
         1971,
         "Mike Hailwood",
         "British",
         3.0,
         0,
         18
        ],
        [
         1971,
         "John Surtees",
         "British",
         3.0,
         0,
         18
        ],
        [
         1971,
         "Rolf Stommelen",
         "German",
         3.0,
         0,
         18
        ],
        [
         1971,
         "Graham Hill",
         "British",
         2.0,
         0,
         21
        ],
        [
         1971,
         "Jean-Pierre Beltoise",
         "French",
         1.0,
         0,
         22
        ],
        [
         1971,
         "John Cannon",
         "Canadian",
         0.0,
         0,
         23
        ],
        [
         1971,
         "Jo Bonnier",
         "Swedish",
         0.0,
         0,
         23
        ],
        [
         1971,
         "Jackie Oliver",
         "British",
         0.0,
         0,
         23
        ],
        [
         1971,
         "Derek Bell",
         "British",
         0.0,
         0,
         23
        ],
        [
         1971,
         "Niki Lauda",
         "Austrian",
         0.0,
         0,
         23
        ],
        [
         1971,
         "Gijs van Lennep",
         "Dutch",
         0.0,
         0,
         23
        ],
        [
         1971,
         "Pete Lovely",
         "American",
         0.0,
         0,
         23
        ],
        [
         1971,
         "Andrea de Adamich",
         "Italian",
         0.0,
         0,
         23
        ],
        [
         1971,
         "François Mazet",
         "French",
         0.0,
         0,
         23
        ],
        [
         1971,
         "Peter Revson",
         "American",
         0.0,
         0,
         23
        ],
        [
         1971,
         "Sam Posey",
         "American",
         0.0,
         0,
         23
        ],
        [
         1971,
         "John Love",
         "Rhodesian",
         0.0,
         0,
         23
        ],
        [
         1971,
         "Nanni Galli",
         "Italian",
         0.0,
         0,
         23
        ],
        [
         1971,
         "Brian Redman",
         "British",
         0.0,
         0,
         23
        ],
        [
         1971,
         "Helmut Marko",
         "Austrian",
         0.0,
         0,
         23
        ],
        [
         1971,
         "Mike Beuttler",
         "British",
         0.0,
         0,
         23
        ],
        [
         1971,
         "Jackie Pretorius",
         "South African",
         0.0,
         0,
         23
        ],
        [
         1971,
         "Skip Barber",
         "American",
         0.0,
         0,
         23
        ],
        [
         1971,
         "Chris Craft",
         "British",
         0.0,
         0,
         23
        ],
        [
         1971,
         "David Hobbs",
         "British",
         0.0,
         0,
         23
        ],
        [
         1971,
         "Dave Charlton",
         "South African",
         0.0,
         0,
         23
        ],
        [
         1971,
         "Vic Elford",
         "British",
         0.0,
         0,
         23
        ],
        [
         1971,
         "Alex Soler-Roig",
         "Spanish",
         0.0,
         0,
         23
        ],
        [
         1971,
         "Silvio Moser",
         "Swiss",
         0.0,
         0,
         23
        ],
        [
         1971,
         "Max Jean",
         "French",
         0.0,
         0,
         23
        ],
        [
         1971,
         "David Walker",
         "Australian",
         0.0,
         0,
         23
        ],
        [
         1971,
         "George Eaton",
         "Canadian",
         0.0,
         0,
         23
        ],
        [
         1971,
         "Jean-Pierre Jarier",
         "French",
         0.0,
         0,
         23
        ],
        [
         1972,
         "Emerson Fittipaldi",
         "Brazilian",
         61.0,
         5,
         1
        ],
        [
         1972,
         "Jackie Stewart",
         "British",
         45.0,
         4,
         2
        ],
        [
         1972,
         "Denny Hulme",
         "New Zealander",
         39.0,
         1,
         3
        ],
        [
         1972,
         "Jacky Ickx",
         "Belgian",
         27.0,
         1,
         4
        ],
        [
         1972,
         "Peter Revson",
         "American",
         23.0,
         0,
         5
        ],
        [
         1972,
         "Clay Regazzoni",
         "Swiss",
         15.0,
         0,
         6
        ],
        [
         1972,
         "François Cevert",
         "French",
         15.0,
         0,
         6
        ],
        [
         1972,
         "Mike Hailwood",
         "British",
         13.0,
         0,
         8
        ],
        [
         1972,
         "Ronnie Peterson",
         "Swedish",
         12.0,
         0,
         9
        ],
        [
         1972,
         "Chris Amon",
         "New Zealander",
         12.0,
         0,
         9
        ],
        [
         1972,
         "Jean-Pierre Beltoise",
         "French",
         9.0,
         1,
         11
        ],
        [
         1972,
         "Brian Redman",
         "British",
         4.0,
         0,
         12
        ],
        [
         1972,
         "Graham Hill",
         "British",
         4.0,
         0,
         12
        ],
        [
         1972,
         "Howden Ganley",
         "New Zealander",
         4.0,
         0,
         12
        ],
        [
         1972,
         "Mario Andretti",
         "American",
         4.0,
         0,
         12
        ],
        [
         1972,
         "Carlos Pace",
         "Brazilian",
         3.0,
         0,
         16
        ],
        [
         1972,
         "Andrea de Adamich",
         "Italian",
         3.0,
         0,
         16
        ],
        [
         1972,
         "Carlos Reutemann",
         "Argentine",
         3.0,
         0,
         16
        ],
        [
         1972,
         "Tim Schenken",
         "Australian",
         2.0,
         0,
         19
        ],
        [
         1972,
         "Peter Gethin",
         "British",
         1.0,
         0,
         20
        ],
        [
         1972,
         "Arturo Merzario",
         "Italian",
         1.0,
         0,
         20
        ],
        [
         1972,
         "Skip Barber",
         "American",
         0.0,
         0,
         22
        ],
        [
         1972,
         "Jackie Oliver",
         "British",
         0.0,
         0,
         22
        ],
        [
         1972,
         "John Surtees",
         "British",
         0.0,
         0,
         22
        ],
        [
         1972,
         "Reine Wisell",
         "Swedish",
         0.0,
         0,
         22
        ],
        [
         1972,
         "Alex Soler-Roig",
         "Spanish",
         0.0,
         0,
         22
        ],
        [
         1972,
         "David Walker",
         "Australian",
         0.0,
         0,
         22
        ],
        [
         1972,
         "Jody Scheckter",
         "South African",
         0.0,
         0,
         22
        ],
        [
         1972,
         "John Love",
         "Rhodesian",
         0.0,
         0,
         22
        ],
        [
         1972,
         "Helmut Marko",
         "Austrian",
         0.0,
         0,
         22
        ],
        [
         1972,
         "Wilson Fittipaldi",
         "Brazilian",
         0.0,
         0,
         22
        ],
        [
         1972,
         "Nanni Galli",
         "Italian",
         0.0,
         0,
         22
        ],
        [
         1972,
         "François Migault",
         "French",
         0.0,
         0,
         22
        ],
        [
         1972,
         "Mike Beuttler",
         "British",
         0.0,
         0,
         22
        ],
        [
         1972,
         "Bill Brack",
         "Canadian",
         0.0,
         0,
         22
        ],
        [
         1972,
         "Niki Lauda",
         "Austrian",
         0.0,
         0,
         22
        ],
        [
         1972,
         "Patrick Depailler",
         "French",
         0.0,
         0,
         22
        ],
        [
         1972,
         "Rolf Stommelen",
         "German",
         0.0,
         0,
         22
        ],
        [
         1972,
         "Sam Posey",
         "American",
         0.0,
         0,
         22
        ],
        [
         1972,
         "Henri Pescarolo",
         "French",
         0.0,
         0,
         22
        ],
        [
         1972,
         "Derek Bell",
         "British",
         0.0,
         0,
         22
        ],
        [
         1972,
         "Dave Charlton",
         "South African",
         0.0,
         0,
         22
        ],
        [
         1973,
         "Jackie Stewart",
         "British",
         71.0,
         5,
         1
        ],
        [
         1973,
         "Emerson Fittipaldi",
         "Brazilian",
         55.0,
         3,
         2
        ],
        [
         1973,
         "Ronnie Peterson",
         "Swedish",
         52.0,
         4,
         3
        ],
        [
         1973,
         "François Cevert",
         "French",
         47.0,
         0,
         4
        ],
        [
         1973,
         "Peter Revson",
         "American",
         38.0,
         2,
         5
        ],
        [
         1973,
         "Denny Hulme",
         "New Zealander",
         26.0,
         1,
         6
        ],
        [
         1973,
         "Carlos Reutemann",
         "Argentine",
         16.0,
         0,
         7
        ],
        [
         1973,
         "James Hunt",
         "British",
         14.0,
         0,
         8
        ],
        [
         1973,
         "Jacky Ickx",
         "Belgian",
         12.0,
         0,
         9
        ],
        [
         1973,
         "Jean-Pierre Beltoise",
         "French",
         9.0,
         0,
         10
        ],
        [
         1973,
         "Carlos Pace",
         "Brazilian",
         7.0,
         0,
         11
        ],
        [
         1973,
         "Arturo Merzario",
         "Italian",
         6.0,
         0,
         12
        ],
        [
         1973,
         "George Follmer",
         "American",
         5.0,
         0,
         13
        ],
        [
         1973,
         "Jackie Oliver",
         "British",
         4.0,
         0,
         14
        ],
        [
         1973,
         "Wilson Fittipaldi",
         "Brazilian",
         3.0,
         0,
         15
        ],
        [
         1973,
         "Andrea de Adamich",
         "Italian",
         3.0,
         0,
         15
        ],
        [
         1973,
         "Niki Lauda",
         "Austrian",
         2.0,
         0,
         17
        ],
        [
         1973,
         "Clay Regazzoni",
         "Swiss",
         2.0,
         0,
         17
        ],
        [
         1973,
         "Howden Ganley",
         "New Zealander",
         1.0,
         0,
         19
        ],
        [
         1973,
         "Chris Amon",
         "New Zealander",
         1.0,
         0,
         19
        ],
        [
         1973,
         "Gijs van Lennep",
         "Dutch",
         1.0,
         0,
         19
        ],
        [
         1973,
         "Peter Gethin",
         "British",
         0.0,
         0,
         22
        ],
        [
         1973,
         "Tim Schenken",
         "Australian",
         0.0,
         0,
         22
        ],
        [
         1973,
         "Brian Redman",
         "British",
         0.0,
         0,
         22
        ],
        [
         1973,
         "Jean-Pierre Jarier",
         "French",
         0.0,
         0,
         22
        ],
        [
         1973,
         "Roger Williamson",
         "British",
         0.0,
         0,
         22
        ],
        [
         1973,
         "Mike Beuttler",
         "British",
         0.0,
         0,
         22
        ],
        [
         1973,
         "Reine Wisell",
         "Swedish",
         0.0,
         0,
         22
        ],
        [
         1973,
         "John Watson",
         "British",
         0.0,
         0,
         22
        ],
        [
         1973,
         "Nanni Galli",
         "Italian",
         0.0,
         0,
         22
        ],
        [
         1973,
         "Henri Pescarolo",
         "French",
         0.0,
         0,
         22
        ],
        [
         1973,
         "Luiz Bueno",
         "Brazilian",
         0.0,
         0,
         22
        ],
        [
         1973,
         "Eddie Keizan",
         "South African",
         0.0,
         0,
         22
        ],
        [
         1973,
         "Mike Hailwood",
         "British",
         0.0,
         0,
         22
        ],
        [
         1973,
         "Graham Hill",
         "British",
         0.0,
         0,
         22
        ],
        [
         1973,
         "David Purley",
         "British",
         0.0,
         0,
         22
        ],
        [
         1973,
         "Rolf Stommelen",
         "German",
         0.0,
         0,
         22
        ],
        [
         1973,
         "Jody Scheckter",
         "South African",
         0.0,
         0,
         22
        ],
        [
         1973,
         "Graham McRae",
         "New Zealander",
         0.0,
         0,
         22
        ],
        [
         1973,
         "Jackie Pretorius",
         "South African",
         0.0,
         0,
         22
        ],
        [
         1973,
         "Rikky von Opel",
         "Liechtensteiner",
         0.0,
         0,
         22
        ],
        [
         1973,
         "Jochen Mass",
         "German",
         0.0,
         0,
         22
        ],
        [
         1973,
         "Dave Charlton",
         "South African",
         0.0,
         0,
         22
        ],
        [
         1974,
         "Emerson Fittipaldi",
         "Brazilian",
         55.0,
         3,
         1
        ],
        [
         1974,
         "Clay Regazzoni",
         "Swiss",
         52.0,
         1,
         2
        ],
        [
         1974,
         "Jody Scheckter",
         "South African",
         45.0,
         2,
         3
        ],
        [
         1974,
         "Niki Lauda",
         "Austrian",
         38.0,
         2,
         4
        ],
        [
         1974,
         "Ronnie Peterson",
         "Swedish",
         35.0,
         3,
         5
        ],
        [
         1974,
         "Carlos Reutemann",
         "Argentine",
         32.0,
         3,
         6
        ],
        [
         1974,
         "Denny Hulme",
         "New Zealander",
         20.0,
         1,
         7
        ],
        [
         1974,
         "James Hunt",
         "British",
         15.0,
         0,
         8
        ],
        [
         1974,
         "Patrick Depailler",
         "French",
         14.0,
         0,
         9
        ],
        [
         1974,
         "Jacky Ickx",
         "Belgian",
         12.0,
         0,
         10
        ],
        [
         1974,
         "Mike Hailwood",
         "British",
         12.0,
         0,
         10
        ],
        [
         1974,
         "Carlos Pace",
         "Brazilian",
         11.0,
         0,
         12
        ],
        [
         1974,
         "Jean-Pierre Beltoise",
         "French",
         10.0,
         0,
         13
        ],
        [
         1974,
         "Jean-Pierre Jarier",
         "French",
         6.0,
         0,
         14
        ],
        [
         1974,
         "John Watson",
         "British",
         6.0,
         0,
         14
        ],
        [
         1974,
         "Hans-Joachim Stuck",
         "German",
         5.0,
         0,
         16
        ],
        [
         1974,
         "Arturo Merzario",
         "Italian",
         4.0,
         0,
         17
        ],
        [
         1974,
         "Graham Hill",
         "British",
         1.0,
         0,
         18
        ],
        [
         1974,
         "Vittorio Brambilla",
         "Italian",
         1.0,
         0,
         18
        ],
        [
         1974,
         "Tom Pryce",
         "British",
         1.0,
         0,
         18
        ],
        [
         1974,
         "Ian Scheckter",
         "South African",
         0.0,
         0,
         21
        ],
        [
         1974,
         "Jacques Laffite",
         "French",
         0.0,
         0,
         21
        ],
        [
         1974,
         "Mario Andretti",
         "American",
         0.0,
         0,
         21
        ],
        [
         1974,
         "Guy Edwards",
         "British",
         0.0,
         0,
         21
        ],
        [
         1974,
         "Tim Schenken",
         "Australian",
         0.0,
         0,
         21
        ],
        [
         1974,
         "François Migault",
         "French",
         0.0,
         0,
         21
        ],
        [
         1974,
         "Richard Robarts",
         "British",
         0.0,
         0,
         21
        ],
        [
         1974,
         "Jean-Pierre Jabouille",
         "French",
         0.0,
         0,
         21
        ],
        [
         1974,
         "Eddie Keizan",
         "South African",
         0.0,
         0,
         21
        ],
        [
         1974,
         "Dieter Quester",
         "Austrian",
         0.0,
         0,
         21
        ],
        [
         1974,
         "David Purley",
         "British",
         0.0,
         0,
         21
        ],
        [
         1974,
         "Howden Ganley",
         "New Zealander",
         0.0,
         0,
         21
        ],
        [
         1974,
         "Peter Revson",
         "American",
         0.0,
         0,
         21
        ],
        [
         1974,
         "Peter Gethin",
         "British",
         0.0,
         0,
         21
        ],
        [
         1974,
         "Rikky von Opel",
         "Liechtensteiner",
         0.0,
         0,
         21
        ],
        [
         1974,
         "Mark Donohue",
         "American",
         0.0,
         0,
         21
        ],
        [
         1974,
         "Paddy Driver",
         "South African",
         0.0,
         0,
         21
        ],
        [
         1974,
         "José Dolhem",
         "French",
         0.0,
         0,
         21
        ],
        [
         1974,
         "Chris Amon",
         "New Zealander",
         0.0,
         0,
         21
        ],
        [
         1974,
         "Gérard Larrousse",
         "French",
         0.0,
         0,
         21
        ],
        [
         1974,
         "Carlo Facetti",
         "Italian",
         0.0,
         0,
         21
        ],
        [
         1974,
         "Larry Perkins",
         "Australian",
         0.0,
         0,
         21
        ],
        [
         1974,
         "Bertil Roos",
         "Swedish",
         0.0,
         0,
         21
        ],
        [
         1974,
         "Derek Bell",
         "British",
         0.0,
         0,
         21
        ],
        [
         1974,
         "Henri Pescarolo",
         "French",
         0.0,
         0,
         21
        ],
        [
         1974,
         "Jochen Mass",
         "German",
         0.0,
         0,
         21
        ],
        [
         1974,
         "Dave Charlton",
         "South African",
         0.0,
         0,
         21
        ],
        [
         1974,
         "John Nicholson",
         "New Zealander",
         0.0,
         0,
         21
        ],
        [
         1974,
         "Lella Lombardi",
         "Italian",
         0.0,
         0,
         21
        ],
        [
         1974,
         "Ian Ashley",
         "British",
         0.0,
         0,
         21
        ],
        [
         1974,
         "Mike Wilds",
         "British",
         0.0,
         0,
         21
        ],
        [
         1974,
         "Helmuth Koinigg",
         "Austrian",
         0.0,
         0,
         21
        ],
        [
         1974,
         "Reine Wisell",
         "Swedish",
         0.0,
         0,
         21
        ],
        [
         1974,
         "Teddy Pilette",
         "Belgian",
         0.0,
         0,
         21
        ],
        [
         1974,
         "Rolf Stommelen",
         "German",
         0.0,
         0,
         21
        ],
        [
         1974,
         "Tom Belsø",
         "Danish",
         0.0,
         0,
         21
        ],
        [
         1974,
         "Vern Schuppan",
         "Australian",
         0.0,
         0,
         21
        ],
        [
         1974,
         "Brian Redman",
         "British",
         0.0,
         0,
         21
        ],
        [
         1974,
         "Gijs van Lennep",
         "Dutch",
         0.0,
         0,
         21
        ],
        [
         1974,
         "David Hobbs",
         "British",
         0.0,
         0,
         21
        ],
        [
         1974,
         "Eppie Wietzes",
         "Canadian",
         0.0,
         0,
         21
        ],
        [
         1974,
         "Leo Kinnunen",
         "Finnish",
         0.0,
         0,
         21
        ],
        [
         1975,
         "Niki Lauda",
         "Austrian",
         64.5,
         5,
         1
        ],
        [
         1975,
         "Emerson Fittipaldi",
         "Brazilian",
         45.0,
         2,
         2
        ],
        [
         1975,
         "Carlos Reutemann",
         "Argentine",
         37.0,
         1,
         3
        ],
        [
         1975,
         "James Hunt",
         "British",
         33.0,
         1,
         4
        ],
        [
         1975,
         "Clay Regazzoni",
         "Swiss",
         25.0,
         1,
         5
        ],
        [
         1975,
         "Carlos Pace",
         "Brazilian",
         24.0,
         1,
         6
        ],
        [
         1975,
         "Jody Scheckter",
         "South African",
         20.0,
         1,
         7
        ],
        [
         1975,
         "Jochen Mass",
         "German",
         20.0,
         1,
         7
        ],
        [
         1975,
         "Patrick Depailler",
         "French",
         12.0,
         0,
         9
        ],
        [
         1975,
         "Tom Pryce",
         "British",
         8.0,
         0,
         10
        ],
        [
         1975,
         "Vittorio Brambilla",
         "Italian",
         6.5,
         1,
         11
        ],
        [
         1975,
         "Ronnie Peterson",
         "Swedish",
         6.0,
         0,
         12
        ],
        [
         1975,
         "Jacques Laffite",
         "French",
         6.0,
         0,
         12
        ],
        [
         1975,
         "Mario Andretti",
         "American",
         5.0,
         0,
         14
        ],
        [
         1975,
         "Mark Donohue",
         "American",
         4.0,
         0,
         15
        ],
        [
         1975,
         "Jacky Ickx",
         "Belgian",
         3.0,
         0,
         16
        ],
        [
         1975,
         "Alan Jones",
         "Australian",
         2.0,
         0,
         17
        ],
        [
         1975,
         "Jean-Pierre Jarier",
         "French",
         1.5,
         0,
         18
        ],
        [
         1975,
         "Tony Brise",
         "British",
         1.0,
         0,
         19
        ],
        [
         1975,
         "Gijs van Lennep",
         "Dutch",
         1.0,
         0,
         19
        ],
        [
         1975,
         "Lella Lombardi",
         "Italian",
         0.5,
         0,
         21
        ],
        [
         1975,
         "Bob Evans",
         "British",
         0.0,
         0,
         22
        ],
        [
         1975,
         "Guy Tunmer",
         "South African",
         0.0,
         0,
         22
        ],
        [
         1975,
         "Hans-Joachim Stuck",
         "German",
         0.0,
         0,
         22
        ],
        [
         1975,
         "John Watson",
         "British",
         0.0,
         0,
         22
        ],
        [
         1975,
         "Roelof Wunderink",
         "Dutch",
         0.0,
         0,
         22
        ],
        [
         1975,
         "Chris Amon",
         "New Zealander",
         0.0,
         0,
         22
        ],
        [
         1975,
         "Michel Leclère",
         "French",
         0.0,
         0,
         22
        ],
        [
         1975,
         "Brian Henton",
         "British",
         0.0,
         0,
         22
        ],
        [
         1975,
         "Tony Trimmer",
         "British",
         0.0,
         0,
         22
        ],
        [
         1975,
         "Hiroshi Fushida",
         "Japanese",
         0.0,
         0,
         22
        ],
        [
         1975,
         "Mike Wilds",
         "British",
         0.0,
         0,
         22
        ],
        [
         1975,
         "Vern Schuppan",
         "Australian",
         0.0,
         0,
         22
        ],
        [
         1975,
         "Damien Magee",
         "British",
         0.0,
         0,
         22
        ],
        [
         1975,
         "Renzo Zorzi",
         "Italian",
         0.0,
         0,
         22
        ],
        [
         1975,
         "Wilson Fittipaldi",
         "Brazilian",
         0.0,
         0,
         22
        ],
        [
         1975,
         "Harald Ertl",
         "Austrian",
         0.0,
         0,
         22
        ],
        [
         1975,
         "Ian Ashley",
         "British",
         0.0,
         0,
         22
        ],
        [
         1975,
         "Dave Morgan",
         "British",
         0.0,
         0,
         22
        ],
        [
         1975,
         "François Migault",
         "French",
         0.0,
         0,
         22
        ],
        [
         1975,
         "Jean-Pierre Jabouille",
         "French",
         0.0,
         0,
         22
        ],
        [
         1975,
         "Graham Hill",
         "British",
         0.0,
         0,
         22
        ],
        [
         1975,
         "Rolf Stommelen",
         "German",
         0.0,
         0,
         22
        ],
        [
         1975,
         "Jo Vonlanthen",
         "Swiss",
         0.0,
         0,
         22
        ],
        [
         1975,
         "Dave Charlton",
         "South African",
         0.0,
         0,
         22
        ],
        [
         1975,
         "Arturo Merzario",
         "Italian",
         0.0,
         0,
         22
        ],
        [
         1975,
         "Brett Lunger",
         "American",
         0.0,
         0,
         22
        ],
        [
         1975,
         "Torsten Palm",
         "Swedish",
         0.0,
         0,
         22
        ],
        [
         1975,
         "Eddie Keizan",
         "South African",
         0.0,
         0,
         22
        ],
        [
         1975,
         "Ian Scheckter",
         "South African",
         0.0,
         0,
         22
        ],
        [
         1975,
         "Jim Crawford",
         "British",
         0.0,
         0,
         22
        ],
        [
         1975,
         "John Nicholson",
         "New Zealander",
         0.0,
         0,
         22
        ],
        [
         1976,
         "James Hunt",
         "British",
         69.0,
         6,
         1
        ],
        [
         1976,
         "Niki Lauda",
         "Austrian",
         68.0,
         5,
         2
        ],
        [
         1976,
         "Jody Scheckter",
         "South African",
         49.0,
         1,
         3
        ],
        [
         1976,
         "Patrick Depailler",
         "French",
         39.0,
         0,
         4
        ],
        [
         1976,
         "Clay Regazzoni",
         "Swiss",
         31.0,
         1,
         5
        ],
        [
         1976,
         "Mario Andretti",
         "American",
         22.0,
         1,
         6
        ],
        [
         1976,
         "John Watson",
         "British",
         20.0,
         1,
         7
        ],
        [
         1976,
         "Jacques Laffite",
         "French",
         20.0,
         0,
         8
        ],
        [
         1976,
         "Jochen Mass",
         "German",
         19.0,
         0,
         9
        ],
        [
         1976,
         "Gunnar Nilsson",
         "Swedish",
         11.0,
         0,
         10
        ],
        [
         1976,
         "Ronnie Peterson",
         "Swedish",
         10.0,
         1,
         11
        ],
        [
         1976,
         "Tom Pryce",
         "British",
         10.0,
         0,
         12
        ],
        [
         1976,
         "Hans-Joachim Stuck",
         "German",
         8.0,
         0,
         13
        ],
        [
         1976,
         "Carlos Pace",
         "Brazilian",
         7.0,
         0,
         14
        ],
        [
         1976,
         "Alan Jones",
         "Australian",
         7.0,
         0,
         14
        ],
        [
         1976,
         "Emerson Fittipaldi",
         "Brazilian",
         3.0,
         0,
         16
        ],
        [
         1976,
         "Carlos Reutemann",
         "Argentine",
         3.0,
         0,
         16
        ],
        [
         1976,
         "Chris Amon",
         "New Zealander",
         2.0,
         0,
         18
        ],
        [
         1976,
         "Vittorio Brambilla",
         "Italian",
         1.0,
         0,
         19
        ],
        [
         1976,
         "Rolf Stommelen",
         "German",
         1.0,
         0,
         19
        ],
        [
         1976,
         "Jean-Pierre Jarier",
         "French",
         0.0,
         0,
         21
        ],
        [
         1976,
         "Jacky Ickx",
         "Belgian",
         0.0,
         0,
         21
        ],
        [
         1976,
         "Mike Wilds",
         "British",
         0.0,
         0,
         21
        ],
        [
         1976,
         "Ingo Hoffmann",
         "Brazilian",
         0.0,
         0,
         21
        ],
        [
         1976,
         "Divina Galica",
         "British",
         0.0,
         0,
         21
        ],
        [
         1976,
         "Masahiro Hasemi",
         "Japanese",
         0.0,
         0,
         21
        ],
        [
         1976,
         "Alex Ribeiro",
         "Brazilian",
         0.0,
         0,
         21
        ],
        [
         1976,
         "Warwick Brown",
         "Australian",
         0.0,
         0,
         21
        ],
        [
         1976,
         "Emilio Zapico",
         "Spanish",
         0.0,
         0,
         21
        ],
        [
         1976,
         "Ian Ashley",
         "British",
         0.0,
         0,
         21
        ],
        [
         1976,
         "Harald Ertl",
         "Austrian",
         0.0,
         0,
         21
        ],
        [
         1976,
         "Michel Leclère",
         "French",
         0.0,
         0,
         21
        ],
        [
         1976,
         "Jac Nelleman",
         "Danish",
         0.0,
         0,
         21
        ],
        [
         1976,
         "Patrick Nève",
         "Belgian",
         0.0,
         0,
         21
        ],
        [
         1976,
         "Larry Perkins",
         "Australian",
         0.0,
         0,
         21
        ],
        [
         1976,
         "Emilio de Villota",
         "Spanish",
         0.0,
         0,
         21
        ],
        [
         1976,
         "Kazuyoshi Hoshino",
         "Japanese",
         0.0,
         0,
         21
        ],
        [
         1976,
         "Hans Binder",
         "Austrian",
         0.0,
         0,
         21
        ],
        [
         1976,
         "Otto Stuppacher",
         "Austrian",
         0.0,
         0,
         21
        ],
        [
         1976,
         "Henri Pescarolo",
         "French",
         0.0,
         0,
         21
        ],
        [
         1976,
         "Ian Scheckter",
         "South African",
         0.0,
         0,
         21
        ],
        [
         1976,
         "Boy Lunger",
         "Dutch",
         0.0,
         0,
         21
        ],
        [
         1976,
         "Tony Trimmer",
         "British",
         0.0,
         0,
         21
        ],
        [
         1976,
         "Loris Kessel",
         "Swiss",
         0.0,
         0,
         21
        ],
        [
         1976,
         "Conny Andersson",
         "Swedish",
         0.0,
         0,
         21
        ],
        [
         1976,
         "Alessandro Pesenti-Rossi",
         "Italian",
         0.0,
         0,
         21
        ],
        [
         1976,
         "Damien Magee",
         "British",
         0.0,
         0,
         21
        ],
        [
         1976,
         "Arturo Merzario",
         "Italian",
         0.0,
         0,
         21
        ],
        [
         1976,
         "Guy Edwards",
         "British",
         0.0,
         0,
         21
        ],
        [
         1976,
         "Noritake Takahara",
         "Japanese",
         0.0,
         0,
         21
        ],
        [
         1976,
         "Bob Evans",
         "British",
         0.0,
         0,
         21
        ],
        [
         1976,
         "Brett Lunger",
         "American",
         0.0,
         0,
         21
        ],
        [
         1976,
         "Renzo Zorzi",
         "Italian",
         0.0,
         0,
         21
        ],
        [
         1976,
         "Lella Lombardi",
         "Italian",
         0.0,
         0,
         21
        ],
        [
         1977,
         "Niki Lauda",
         "Austrian",
         72.0,
         3,
         1
        ],
        [
         1977,
         "Jody Scheckter",
         "South African",
         55.0,
         3,
         2
        ],
        [
         1977,
         "Mario Andretti",
         "American",
         47.0,
         4,
         3
        ],
        [
         1977,
         "Carlos Reutemann",
         "Argentine",
         42.0,
         1,
         4
        ],
        [
         1977,
         "James Hunt",
         "British",
         40.0,
         3,
         5
        ],
        [
         1977,
         "Jochen Mass",
         "German",
         25.0,
         0,
         6
        ],
        [
         1977,
         "Alan Jones",
         "Australian",
         22.0,
         1,
         7
        ],
        [
         1977,
         "Gunnar Nilsson",
         "Swedish",
         20.0,
         1,
         8
        ],
        [
         1977,
         "Patrick Depailler",
         "French",
         20.0,
         0,
         9
        ],
        [
         1977,
         "Jacques Laffite",
         "French",
         18.0,
         1,
         10
        ],
        [
         1977,
         "Hans-Joachim Stuck",
         "German",
         12.0,
         0,
         11
        ],
        [
         1977,
         "Emerson Fittipaldi",
         "Brazilian",
         11.0,
         0,
         12
        ],
        [
         1977,
         "John Watson",
         "British",
         9.0,
         0,
         13
        ],
        [
         1977,
         "Ronnie Peterson",
         "Swedish",
         7.0,
         0,
         14
        ],
        [
         1977,
         "Vittorio Brambilla",
         "Italian",
         6.0,
         0,
         15
        ],
        [
         1977,
         "Carlos Pace",
         "Brazilian",
         6.0,
         0,
         15
        ],
        [
         1977,
         "Clay Regazzoni",
         "Swiss",
         5.0,
         0,
         17
        ],
        [
         1977,
         "Patrick Tambay",
         "French",
         5.0,
         0,
         17
        ],
        [
         1977,
         "Jean-Pierre Jarier",
         "French",
         1.0,
         0,
         19
        ],
        [
         1977,
         "Renzo Zorzi",
         "Italian",
         1.0,
         0,
         19
        ],
        [
         1977,
         "Riccardo Patrese",
         "Italian",
         1.0,
         0,
         19
        ],
        [
         1977,
         "Harald Ertl",
         "Austrian",
         0.0,
         0,
         22
        ],
        [
         1977,
         "Loris Kessel",
         "Swiss",
         0.0,
         0,
         22
        ],
        [
         1977,
         "Rupert Keegan",
         "British",
         0.0,
         0,
         22
        ],
        [
         1977,
         "Gilles Villeneuve",
         "Canadian",
         0.0,
         0,
         22
        ],
        [
         1977,
         "Bruno Giacomelli",
         "Italian",
         0.0,
         0,
         22
        ],
        [
         1977,
         "Hans Binder",
         "Austrian",
         0.0,
         0,
         22
        ],
        [
         1977,
         "Brett Lunger",
         "American",
         0.0,
         0,
         22
        ],
        [
         1977,
         "Andy Sutcliffe",
         "British",
         0.0,
         0,
         22
        ],
        [
         1977,
         "Jacky Ickx",
         "Belgian",
         0.0,
         0,
         22
        ],
        [
         1977,
         "Hector Rebaque",
         "Mexican",
         0.0,
         0,
         22
        ],
        [
         1977,
         "Boy Lunger",
         "Dutch",
         0.0,
         0,
         22
        ],
        [
         1977,
         "Alex Ribeiro",
         "Brazilian",
         0.0,
         0,
         22
        ],
        [
         1977,
         "Jean-Pierre Jabouille",
         "French",
         0.0,
         0,
         22
        ],
        [
         1977,
         "Teddy Pilette",
         "Belgian",
         0.0,
         0,
         22
        ],
        [
         1977,
         "Ingo Hoffmann",
         "Brazilian",
         0.0,
         0,
         22
        ],
        [
         1977,
         "Tom Pryce",
         "British",
         0.0,
         0,
         22
        ],
        [
         1977,
         "David Purley",
         "British",
         0.0,
         0,
         22
        ],
        [
         1977,
         "Emilio de Villota",
         "Spanish",
         0.0,
         0,
         22
        ],
        [
         1977,
         "Danny Ongais",
         "American",
         0.0,
         0,
         22
        ],
        [
         1977,
         "Brian Henton",
         "British",
         0.0,
         0,
         22
        ],
        [
         1977,
         "Arturo Merzario",
         "Italian",
         0.0,
         0,
         22
        ],
        [
         1977,
         "Conny Andersson",
         "Swedish",
         0.0,
         0,
         22
        ],
        [
         1977,
         "Noritake Takahara",
         "Japanese",
         0.0,
         0,
         22
        ],
        [
         1977,
         "Giorgio Francia",
         "Italian",
         0.0,
         0,
         22
        ],
        [
         1977,
         "Vern Schuppan",
         "Australian",
         0.0,
         0,
         22
        ],
        [
         1977,
         "Hans Heyer",
         "German",
         0.0,
         0,
         22
        ],
        [
         1977,
         "Lamberto Leoni",
         "Italian",
         0.0,
         0,
         22
        ],
        [
         1977,
         "Mikko Kozarowitzky",
         "Finnish",
         0.0,
         0,
         22
        ],
        [
         1977,
         "Guy Edwards",
         "British",
         0.0,
         0,
         22
        ],
        [
         1977,
         "Brian McGuire",
         "Australian",
         0.0,
         0,
         22
        ],
        [
         1977,
         "Patrick Nève",
         "Belgian",
         0.0,
         0,
         22
        ],
        [
         1977,
         "Ian Ashley",
         "British",
         0.0,
         0,
         22
        ],
        [
         1977,
         "Bernard de Dryver",
         "Belgian",
         0.0,
         0,
         22
        ],
        [
         1977,
         "Kunimitsu Takahashi",
         "Japanese",
         0.0,
         0,
         22
        ],
        [
         1977,
         "Larry Perkins",
         "Australian",
         0.0,
         0,
         22
        ],
        [
         1977,
         "Tony Trimmer",
         "British",
         0.0,
         0,
         22
        ],
        [
         1977,
         "Ian Scheckter",
         "South African",
         0.0,
         0,
         22
        ],
        [
         1977,
         "Kazuyoshi Hoshino",
         "Japanese",
         0.0,
         0,
         22
        ],
        [
         1977,
         "Jackie Oliver",
         "British",
         0.0,
         0,
         22
        ],
        [
         1977,
         "Michael Bleekemolen",
         "Dutch",
         0.0,
         0,
         22
        ],
        [
         1978,
         "Mario Andretti",
         "American",
         64.0,
         6,
         1
        ],
        [
         1978,
         "Ronnie Peterson",
         "Swedish",
         51.0,
         2,
         2
        ],
        [
         1978,
         "Carlos Reutemann",
         "Argentine",
         48.0,
         4,
         3
        ],
        [
         1978,
         "Niki Lauda",
         "Austrian",
         44.0,
         2,
         4
        ],
        [
         1978,
         "Patrick Depailler",
         "French",
         34.0,
         1,
         5
        ],
        [
         1978,
         "John Watson",
         "British",
         25.0,
         0,
         6
        ],
        [
         1978,
         "Jody Scheckter",
         "South African",
         24.0,
         0,
         7
        ],
        [
         1978,
         "Jacques Laffite",
         "French",
         19.0,
         0,
         8
        ],
        [
         1978,
         "Gilles Villeneuve",
         "Canadian",
         17.0,
         1,
         9
        ],
        [
         1978,
         "Emerson Fittipaldi",
         "Brazilian",
         17.0,
         0,
         10
        ],
        [
         1978,
         "Riccardo Patrese",
         "Italian",
         11.0,
         0,
         11
        ],
        [
         1978,
         "Alan Jones",
         "Australian",
         11.0,
         0,
         11
        ],
        [
         1978,
         "Patrick Tambay",
         "French",
         8.0,
         0,
         13
        ],
        [
         1978,
         "James Hunt",
         "British",
         8.0,
         0,
         13
        ],
        [
         1978,
         "Didier Pironi",
         "French",
         7.0,
         0,
         15
        ],
        [
         1978,
         "Clay Regazzoni",
         "Swiss",
         4.0,
         0,
         16
        ],
        [
         1978,
         "Jean-Pierre Jabouille",
         "French",
         3.0,
         0,
         17
        ],
        [
         1978,
         "Hans-Joachim Stuck",
         "German",
         2.0,
         0,
         18
        ],
        [
         1978,
         "Hector Rebaque",
         "Mexican",
         1.0,
         0,
         19
        ],
        [
         1978,
         "Derek Daly",
         "Irish",
         1.0,
         0,
         19
        ],
        [
         1978,
         "Vittorio Brambilla",
         "Italian",
         1.0,
         0,
         19
        ],
        [
         1978,
         "Brett Lunger",
         "American",
         0.0,
         0,
         22
        ],
        [
         1978,
         "Jean-Pierre Jarier",
         "French",
         0.0,
         0,
         22
        ],
        [
         1978,
         "Jochen Mass",
         "German",
         0.0,
         0,
         22
        ],
        [
         1978,
         "Alberto Colombo",
         "Italian",
         0.0,
         0,
         22
        ],
        [
         1978,
         "Keke Rosberg",
         "Finnish",
         0.0,
         0,
         22
        ],
        [
         1978,
         "Tony Trimmer",
         "British",
         0.0,
         0,
         22
        ],
        [
         1978,
         "Bobby Rahal",
         "American",
         0.0,
         0,
         22
        ],
        [
         1978,
         "Divina Galica",
         "British",
         0.0,
         0,
         22
        ],
        [
         1978,
         "Bruno Giacomelli",
         "Italian",
         0.0,
         0,
         22
        ],
        [
         1978,
         "Beppe Gabbiani",
         "Italian",
         0.0,
         0,
         22
        ],
        [
         1978,
         "Hans Binder",
         "Austrian",
         0.0,
         0,
         22
        ],
        [
         1978,
         "Nelson Piquet",
         "Brazilian",
         0.0,
         0,
         22
        ],
        [
         1978,
         "Eddie Cheever",
         "American",
         0.0,
         0,
         22
        ],
        [
         1978,
         "Michael Bleekemolen",
         "Dutch",
         0.0,
         0,
         22
        ],
        [
         1978,
         "Danny Ongais",
         "American",
         0.0,
         0,
         22
        ],
        [
         1978,
         "Emilio de Villota",
         "Spanish",
         0.0,
         0,
         22
        ],
        [
         1978,
         "Rolf Stommelen",
         "German",
         0.0,
         0,
         22
        ],
        [
         1978,
         "Harald Ertl",
         "Austrian",
         0.0,
         0,
         22
        ],
        [
         1978,
         "Carlo Franchi",
         "Italian",
         0.0,
         0,
         22
        ],
        [
         1978,
         "Geoff Lees",
         "British",
         0.0,
         0,
         22
        ],
        [
         1978,
         "Lamberto Leoni",
         "Italian",
         0.0,
         0,
         22
        ],
        [
         1978,
         "Arturo Merzario",
         "Italian",
         0.0,
         0,
         22
        ],
        [
         1978,
         "Rupert Keegan",
         "British",
         0.0,
         0,
         22
        ],
        [
         1978,
         "René Arnoux",
         "French",
         0.0,
         0,
         22
        ],
        [
         1978,
         "Jacky Ickx",
         "Belgian",
         0.0,
         0,
         22
        ],
        [
         1979,
         "Jody Scheckter",
         "South African",
         60.0,
         3,
         1
        ],
        [
         1979,
         "Gilles Villeneuve",
         "Canadian",
         53.0,
         3,
         2
        ],
        [
         1979,
         "Alan Jones",
         "Australian",
         43.0,
         4,
         3
        ],
        [
         1979,
         "Jacques Laffite",
         "French",
         36.0,
         2,
         4
        ],
        [
         1979,
         "Clay Regazzoni",
         "Swiss",
         32.0,
         1,
         5
        ],
        [
         1979,
         "Carlos Reutemann",
         "Argentine",
         25.0,
         0,
         6
        ],
        [
         1979,
         "Patrick Depailler",
         "French",
         22.0,
         1,
         7
        ],
        [
         1979,
         "René Arnoux",
         "French",
         17.0,
         0,
         8
        ],
        [
         1979,
         "John Watson",
         "British",
         15.0,
         0,
         9
        ],
        [
         1979,
         "Jean-Pierre Jarier",
         "French",
         14.0,
         0,
         10
        ],
        [
         1979,
         "Didier Pironi",
         "French",
         14.0,
         0,
         10
        ],
        [
         1979,
         "Mario Andretti",
         "American",
         14.0,
         0,
         10
        ],
        [
         1979,
         "Jean-Pierre Jabouille",
         "French",
         9.0,
         1,
         13
        ],
        [
         1979,
         "Niki Lauda",
         "Austrian",
         4.0,
         0,
         14
        ],
        [
         1979,
         "Jochen Mass",
         "German",
         3.0,
         0,
         15
        ],
        [
         1979,
         "Nelson Piquet",
         "Brazilian",
         3.0,
         0,
         15
        ],
        [
         1979,
         "Elio de Angelis",
         "Italian",
         3.0,
         0,
         15
        ],
        [
         1979,
         "Jacky Ickx",
         "Belgian",
         3.0,
         0,
         15
        ],
        [
         1979,
         "Riccardo Patrese",
         "Italian",
         2.0,
         0,
         19
        ],
        [
         1979,
         "Hans-Joachim Stuck",
         "German",
         2.0,
         0,
         19
        ],
        [
         1979,
         "Emerson Fittipaldi",
         "Brazilian",
         1.0,
         0,
         21
        ],
        [
         1979,
         "Bruno Giacomelli",
         "Italian",
         0.0,
         0,
         22
        ],
        [
         1979,
         "Patrick Tambay",
         "French",
         0.0,
         0,
         22
        ],
        [
         1979,
         "Derek Daly",
         "Irish",
         0.0,
         0,
         22
        ],
        [
         1979,
         "Vittorio Brambilla",
         "Italian",
         0.0,
         0,
         22
        ],
        [
         1979,
         "Patrick Gaillard",
         "French",
         0.0,
         0,
         22
        ],
        [
         1979,
         "Ricardo Zunino",
         "Argentine",
         0.0,
         0,
         22
        ],
        [
         1979,
         "Geoff Lees",
         "British",
         0.0,
         0,
         22
        ],
        [
         1979,
         "Hector Rebaque",
         "Mexican",
         0.0,
         0,
         22
        ],
        [
         1979,
         "Gianfranco Brancatelli",
         "Italian",
         0.0,
         0,
         22
        ],
        [
         1979,
         "Marc Surer",
         "Swiss",
         0.0,
         0,
         22
        ],
        [
         1979,
         "Alex Ribeiro",
         "Brazilian",
         0.0,
         0,
         22
        ],
        [
         1979,
         "Jan Lammers",
         "Dutch",
         0.0,
         0,
         22
        ],
        [
         1979,
         "Arturo Merzario",
         "Italian",
         0.0,
         0,
         22
        ],
        [
         1979,
         "James Hunt",
         "British",
         0.0,
         0,
         22
        ],
        [
         1979,
         "Keke Rosberg",
         "Finnish",
         0.0,
         0,
         22
        ],
        [
         1980,
         "Alan Jones",
         "Australian",
         71.0,
         5,
         1
        ],
        [
         1980,
         "Nelson Piquet",
         "Brazilian",
         54.0,
         3,
         2
        ],
        [
         1980,
         "Carlos Reutemann",
         "Argentine",
         49.0,
         1,
         3
        ],
        [
         1980,
         "Jacques Laffite",
         "French",
         34.0,
         1,
         4
        ],
        [
         1980,
         "Didier Pironi",
         "French",
         32.0,
         1,
         5
        ],
        [
         1980,
         "René Arnoux",
         "French",
         29.0,
         2,
         6
        ],
        [
         1980,
         "Elio de Angelis",
         "Italian",
         13.0,
         0,
         7
        ],
        [
         1980,
         "Jean-Pierre Jabouille",
         "French",
         9.0,
         1,
         8
        ],
        [
         1980,
         "Riccardo Patrese",
         "Italian",
         7.0,
         0,
         9
        ],
        [
         1980,
         "John Watson",
         "British",
         6.0,
         0,
         10
        ],
        [
         1980,
         "Keke Rosberg",
         "Finnish",
         6.0,
         0,
         10
        ],
        [
         1980,
         "Derek Daly",
         "Irish",
         6.0,
         0,
         10
        ],
        [
         1980,
         "Jean-Pierre Jarier",
         "French",
         6.0,
         0,
         10
        ],
        [
         1980,
         "Gilles Villeneuve",
         "Canadian",
         6.0,
         0,
         10
        ],
        [
         1980,
         "Alain Prost",
         "French",
         5.0,
         0,
         15
        ],
        [
         1980,
         "Emerson Fittipaldi",
         "Brazilian",
         5.0,
         0,
         15
        ],
        [
         1980,
         "Bruno Giacomelli",
         "Italian",
         4.0,
         0,
         17
        ],
        [
         1980,
         "Jochen Mass",
         "German",
         4.0,
         0,
         17
        ],
        [
         1980,
         "Jody Scheckter",
         "South African",
         2.0,
         0,
         19
        ],
        [
         1980,
         "Hector Rebaque",
         "Mexican",
         1.0,
         0,
         20
        ],
        [
         1980,
         "Mario Andretti",
         "American",
         1.0,
         0,
         20
        ],
        [
         1980,
         "Desiré Wilson",
         "South African",
         0.0,
         0,
         22
        ],
        [
         1980,
         "Vittorio Brambilla",
         "Italian",
         0.0,
         0,
         22
        ],
        [
         1980,
         "Geoff Lees",
         "British",
         0.0,
         0,
         22
        ],
        [
         1980,
         "Rupert Keegan",
         "British",
         0.0,
         0,
         22
        ],
        [
         1980,
         "Jan Lammers",
         "Dutch",
         0.0,
         0,
         22
        ],
        [
         1980,
         "Manfred Winkelhock",
         "German",
         0.0,
         0,
         22
        ],
        [
         1980,
         "Tiff Needell",
         "British",
         0.0,
         0,
         22
        ],
        [
         1980,
         "Stefan Johansson",
         "Swedish",
         0.0,
         0,
         22
        ],
        [
         1980,
         "Marc Surer",
         "Swiss",
         0.0,
         0,
         22
        ],
        [
         1980,
         "Kevin Cogan",
         "American",
         0.0,
         0,
         22
        ],
        [
         1980,
         "Dave Kennedy",
         "Irish",
         0.0,
         0,
         22
        ],
        [
         1980,
         "Clay Regazzoni",
         "Swiss",
         0.0,
         0,
         22
        ],
        [
         1980,
         "Andrea de Cesaris",
         "Italian",
         0.0,
         0,
         22
        ],
        [
         1980,
         "Mike Thackwell",
         "New Zealander",
         0.0,
         0,
         22
        ],
        [
         1980,
         "Ricardo Zunino",
         "Argentine",
         0.0,
         0,
         22
        ],
        [
         1980,
         "Eddie Cheever",
         "American",
         0.0,
         0,
         22
        ],
        [
         1980,
         "Patrick Depailler",
         "French",
         0.0,
         0,
         22
        ],
        [
         1980,
         "Harald Ertl",
         "Austrian",
         0.0,
         0,
         22
        ],
        [
         1980,
         "Stephen South",
         "British",
         0.0,
         0,
         22
        ],
        [
         1980,
         "Nigel Mansell",
         "British",
         0.0,
         0,
         22
        ],
        [
         1981,
         "Nelson Piquet",
         "Brazilian",
         50.0,
         3,
         1
        ],
        [
         1981,
         "Carlos Reutemann",
         "Argentine",
         49.0,
         2,
         2
        ],
        [
         1981,
         "Alan Jones",
         "Australian",
         46.0,
         2,
         3
        ],
        [
         1981,
         "Jacques Laffite",
         "French",
         44.0,
         2,
         4
        ],
        [
         1981,
         "Alain Prost",
         "French",
         43.0,
         3,
         5
        ],
        [
         1981,
         "John Watson",
         "British",
         27.0,
         1,
         6
        ],
        [
         1981,
         "Gilles Villeneuve",
         "Canadian",
         25.0,
         2,
         7
        ],
        [
         1981,
         "Elio de Angelis",
         "Italian",
         14.0,
         0,
         8
        ],
        [
         1981,
         "René Arnoux",
         "French",
         11.0,
         0,
         9
        ],
        [
         1981,
         "Hector Rebaque",
         "Mexican",
         11.0,
         0,
         9
        ],
        [
         1981,
         "Riccardo Patrese",
         "Italian",
         10.0,
         0,
         11
        ],
        [
         1981,
         "Eddie Cheever",
         "American",
         10.0,
         0,
         11
        ],
        [
         1981,
         "Didier Pironi",
         "French",
         9.0,
         0,
         13
        ],
        [
         1981,
         "Nigel Mansell",
         "British",
         8.0,
         0,
         14
        ],
        [
         1981,
         "Bruno Giacomelli",
         "Italian",
         7.0,
         0,
         15
        ],
        [
         1981,
         "Marc Surer",
         "Swiss",
         4.0,
         0,
         16
        ],
        [
         1981,
         "Mario Andretti",
         "American",
         3.0,
         0,
         17
        ],
        [
         1981,
         "Eliseo Salazar",
         "Chilean",
         1.0,
         0,
         18
        ],
        [
         1981,
         "Andrea de Cesaris",
         "Italian",
         1.0,
         0,
         18
        ],
        [
         1981,
         "Patrick Tambay",
         "French",
         1.0,
         0,
         18
        ],
        [
         1981,
         "Slim Borgudd",
         "Swedish",
         1.0,
         0,
         18
        ],
        [
         1981,
         "Beppe Gabbiani",
         "Italian",
         0.0,
         0,
         22
        ],
        [
         1981,
         "Kevin Cogan",
         "American",
         0.0,
         0,
         22
        ],
        [
         1981,
         "Siegfried Stohr",
         "Italian",
         0.0,
         0,
         22
        ],
        [
         1981,
         "Piercarlo Ghinzani",
         "Italian",
         0.0,
         0,
         22
        ],
        [
         1981,
         "Ricardo Zunino",
         "Argentine",
         0.0,
         0,
         22
        ],
        [
         1981,
         "Jan Lammers",
         "Dutch",
         0.0,
         0,
         22
        ],
        [
         1981,
         "Derek Daly",
         "Irish",
         0.0,
         0,
         22
        ],
        [
         1981,
         "Jean-Pierre Jabouille",
         "French",
         0.0,
         0,
         22
        ],
        [
         1981,
         "Ricardo Londoño",
         "Colombian",
         0.0,
         0,
         22
        ],
        [
         1981,
         "Keke Rosberg",
         "Finnish",
         0.0,
         0,
         22
        ],
        [
         1981,
         "Jean-Pierre Jarier",
         "French",
         0.0,
         0,
         22
        ],
        [
         1981,
         "Giorgio Francia",
         "Italian",
         0.0,
         0,
         22
        ],
        [
         1981,
         "Michele Alboreto",
         "Italian",
         0.0,
         0,
         22
        ],
        [
         1981,
         "Brian Henton",
         "British",
         0.0,
         0,
         22
        ],
        [
         1981,
         "Derek Warwick",
         "British",
         0.0,
         0,
         22
        ],
        [
         1981,
         "Chico Serra",
         "Brazilian",
         0.0,
         0,
         22
        ],
        [
         1981,
         "Miguel Ángel Guerra",
         "Argentine",
         0.0,
         0,
         22
        ],
        [
         1981,
         "Jacques Villeneuve Sr.",
         "Canadian",
         0.0,
         0,
         22
        ],
        [
         1982,
         "Keke Rosberg",
         "Finnish",
         44.0,
         1,
         1
        ],
        [
         1982,
         "John Watson",
         "British",
         39.0,
         2,
         2
        ],
        [
         1982,
         "Didier Pironi",
         "French",
         39.0,
         2,
         2
        ],
        [
         1982,
         "Alain Prost",
         "French",
         34.0,
         2,
         4
        ],
        [
         1982,
         "Niki Lauda",
         "Austrian",
         30.0,
         2,
         5
        ],
        [
         1982,
         "René Arnoux",
         "French",
         28.0,
         2,
         6
        ],
        [
         1982,
         "Michele Alboreto",
         "Italian",
         25.0,
         1,
         7
        ],
        [
         1982,
         "Patrick Tambay",
         "French",
         25.0,
         1,
         7
        ],
        [
         1982,
         "Elio de Angelis",
         "Italian",
         23.0,
         1,
         9
        ],
        [
         1982,
         "Riccardo Patrese",
         "Italian",
         21.0,
         1,
         10
        ],
        [
         1982,
         "Nelson Piquet",
         "Brazilian",
         20.0,
         1,
         11
        ],
        [
         1982,
         "Eddie Cheever",
         "American",
         15.0,
         0,
         12
        ],
        [
         1982,
         "Derek Daly",
         "Irish",
         8.0,
         0,
         13
        ],
        [
         1982,
         "Nigel Mansell",
         "British",
         7.0,
         0,
         14
        ],
        [
         1982,
         "Gilles Villeneuve",
         "Canadian",
         6.0,
         0,
         15
        ],
        [
         1982,
         "Carlos Reutemann",
         "Argentine",
         6.0,
         0,
         15
        ],
        [
         1982,
         "Andrea de Cesaris",
         "Italian",
         5.0,
         0,
         17
        ],
        [
         1982,
         "Jacques Laffite",
         "French",
         5.0,
         0,
         17
        ],
        [
         1982,
         "Mario Andretti",
         "American",
         4.0,
         0,
         19
        ],
        [
         1982,
         "Jean-Pierre Jarier",
         "French",
         3.0,
         0,
         20
        ],
        [
         1982,
         "Marc Surer",
         "Swiss",
         3.0,
         0,
         20
        ],
        [
         1982,
         "Bruno Giacomelli",
         "Italian",
         2.0,
         0,
         22
        ],
        [
         1982,
         "Mauro Baldi",
         "Italian",
         2.0,
         0,
         22
        ],
        [
         1982,
         "Eliseo Salazar",
         "Chilean",
         2.0,
         0,
         22
        ],
        [
         1982,
         "Manfred Winkelhock",
         "German",
         2.0,
         0,
         22
        ],
        [
         1982,
         "Chico Serra",
         "Brazilian",
         1.0,
         0,
         26
        ],
        [
         1982,
         "Riccardo Paletti",
         "Italian",
         0.0,
         0,
         27
        ],
        [
         1982,
         "Teo Fabi",
         "Italian",
         0.0,
         0,
         27
        ],
        [
         1982,
         "Rupert Keegan",
         "British",
         0.0,
         0,
         27
        ],
        [
         1982,
         "Slim Borgudd",
         "Swedish",
         0.0,
         0,
         27
        ],
        [
         1982,
         "Geoff Lees",
         "British",
         0.0,
         0,
         27
        ],
        [
         1982,
         "Jochen Mass",
         "German",
         0.0,
         0,
         27
        ],
        [
         1982,
         "Emilio de Villota",
         "Spanish",
         0.0,
         0,
         27
        ],
        [
         1982,
         "Tommy Byrne",
         "Irish",
         0.0,
         0,
         27
        ],
        [
         1982,
         "Roberto Guerrero",
         "Colombian",
         0.0,
         0,
         27
        ],
        [
         1982,
         "Brian Henton",
         "British",
         0.0,
         0,
         27
        ],
        [
         1982,
         "Roberto Moreno",
         "Brazilian",
         0.0,
         0,
         27
        ],
        [
         1982,
         "Derek Warwick",
         "British",
         0.0,
         0,
         27
        ],
        [
         1982,
         "Jan Lammers",
         "Dutch",
         0.0,
         0,
         27
        ],
        [
         1982,
         "Raul Boesel",
         "Brazilian",
         0.0,
         0,
         27
        ],
        [
         1983,
         "Nelson Piquet",
         "Brazilian",
         59.0,
         3,
         1
        ],
        [
         1983,
         "Alain Prost",
         "French",
         57.0,
         4,
         2
        ],
        [
         1983,
         "René Arnoux",
         "French",
         49.0,
         3,
         3
        ],
        [
         1983,
         "Patrick Tambay",
         "French",
         40.0,
         1,
         4
        ],
        [
         1983,
         "Keke Rosberg",
         "Finnish",
         27.0,
         1,
         5
        ],
        [
         1983,
         "John Watson",
         "British",
         22.0,
         1,
         6
        ],
        [
         1983,
         "Eddie Cheever",
         "American",
         22.0,
         0,
         7
        ],
        [
         1983,
         "Andrea de Cesaris",
         "Italian",
         15.0,
         0,
         8
        ],
        [
         1983,
         "Riccardo Patrese",
         "Italian",
         13.0,
         1,
         9
        ],
        [
         1983,
         "Niki Lauda",
         "Austrian",
         12.0,
         0,
         10
        ],
        [
         1983,
         "Jacques Laffite",
         "French",
         11.0,
         0,
         11
        ],
        [
         1983,
         "Michele Alboreto",
         "Italian",
         10.0,
         1,
         12
        ],
        [
         1983,
         "Nigel Mansell",
         "British",
         10.0,
         0,
         13
        ],
        [
         1983,
         "Derek Warwick",
         "British",
         9.0,
         0,
         14
        ],
        [
         1983,
         "Marc Surer",
         "Swiss",
         4.0,
         0,
         15
        ],
        [
         1983,
         "Mauro Baldi",
         "Italian",
         3.0,
         0,
         16
        ],
        [
         1983,
         "Danny Sullivan",
         "American",
         2.0,
         0,
         17
        ],
        [
         1983,
         "Elio de Angelis",
         "Italian",
         2.0,
         0,
         17
        ],
        [
         1983,
         "Johnny Cecotto",
         "Venezuelan",
         1.0,
         0,
         19
        ],
        [
         1983,
         "Bruno Giacomelli",
         "Italian",
         1.0,
         0,
         19
        ],
        [
         1983,
         "Kenny Acheson",
         "British",
         0.0,
         0,
         21
        ],
        [
         1983,
         "Raul Boesel",
         "Brazilian",
         0.0,
         0,
         21
        ],
        [
         1983,
         "Manfred Winkelhock",
         "German",
         0.0,
         0,
         21
        ],
        [
         1983,
         "Piercarlo Ghinzani",
         "Italian",
         0.0,
         0,
         21
        ],
        [
         1983,
         "Corrado Fabi",
         "Italian",
         0.0,
         0,
         21
        ],
        [
         1983,
         "Jonathan Palmer",
         "British",
         0.0,
         0,
         21
        ],
        [
         1983,
         "Jacques Villeneuve Sr.",
         "Canadian",
         0.0,
         0,
         21
        ],
        [
         1983,
         "Thierry Boutsen",
         "Belgian",
         0.0,
         0,
         21
        ],
        [
         1983,
         "Chico Serra",
         "Brazilian",
         0.0,
         0,
         21
        ],
        [
         1983,
         "Jean-Louis Schlesser",
         "French",
         0.0,
         0,
         21
        ],
        [
         1983,
         "Jean-Pierre Jarier",
         "French",
         0.0,
         0,
         21
        ],
        [
         1983,
         "Roberto Guerrero",
         "Colombian",
         0.0,
         0,
         21
        ],
        [
         1983,
         "Eliseo Salazar",
         "Chilean",
         0.0,
         0,
         21
        ],
        [
         1983,
         "Stefan Johansson",
         "Swedish",
         0.0,
         0,
         21
        ],
        [
         1983,
         "Alan Jones",
         "Australian",
         0.0,
         0,
         21
        ],
        [
         1984,
         "Niki Lauda",
         "Austrian",
         72.0,
         5,
         1
        ],
        [
         1984,
         "Alain Prost",
         "French",
         71.5,
         7,
         2
        ],
        [
         1984,
         "Elio de Angelis",
         "Italian",
         34.0,
         0,
         3
        ],
        [
         1984,
         "Michele Alboreto",
         "Italian",
         30.5,
         1,
         4
        ],
        [
         1984,
         "Nelson Piquet",
         "Brazilian",
         29.0,
         2,
         5
        ],
        [
         1984,
         "René Arnoux",
         "French",
         27.0,
         0,
         6
        ],
        [
         1984,
         "Derek Warwick",
         "British",
         23.0,
         0,
         7
        ],
        [
         1984,
         "Keke Rosberg",
         "Finnish",
         20.5,
         1,
         8
        ],
        [
         1984,
         "Nigel Mansell",
         "British",
         13.0,
         0,
         9
        ],
        [
         1984,
         "Ayrton Senna",
         "Brazilian",
         13.0,
         0,
         9
        ],
        [
         1984,
         "Patrick Tambay",
         "French",
         11.0,
         0,
         11
        ],
        [
         1984,
         "Teo Fabi",
         "Italian",
         9.0,
         0,
         12
        ],
        [
         1984,
         "Riccardo Patrese",
         "Italian",
         8.0,
         0,
         13
        ],
        [
         1984,
         "Jacques Laffite",
         "French",
         5.0,
         0,
         14
        ],
        [
         1984,
         "Thierry Boutsen",
         "Belgian",
         5.0,
         0,
         14
        ],
        [
         1984,
         "Andrea de Cesaris",
         "Italian",
         3.0,
         0,
         16
        ],
        [
         1984,
         "Eddie Cheever",
         "American",
         3.0,
         0,
         16
        ],
        [
         1984,
         "Stefan Johansson",
         "Swedish",
         3.0,
         0,
         16
        ],
        [
         1984,
         "Piercarlo Ghinzani",
         "Italian",
         2.0,
         0,
         19
        ],
        [
         1984,
         "Marc Surer",
         "Swiss",
         1.0,
         0,
         20
        ],
        [
         1984,
         "Manfred Winkelhock",
         "German",
         0.0,
         0,
         21
        ],
        [
         1984,
         "Martin Brundle",
         "British",
         0.0,
         0,
         21
        ],
        [
         1984,
         "Huub Rothengatter",
         "Dutch",
         0.0,
         0,
         21
        ],
        [
         1984,
         "François Hesnault",
         "French",
         0.0,
         0,
         21
        ],
        [
         1984,
         "Pierluigi Martini",
         "Italian",
         0.0,
         0,
         21
        ],
        [
         1984,
         "Mauro Baldi",
         "Italian",
         0.0,
         0,
         21
        ],
        [
         1984,
         "Mike Thackwell",
         "New Zealander",
         0.0,
         0,
         21
        ],
        [
         1984,
         "Corrado Fabi",
         "Italian",
         0.0,
         0,
         21
        ],
        [
         1984,
         "Jonathan Palmer",
         "British",
         0.0,
         0,
         21
        ],
        [
         1984,
         "Gerhard Berger",
         "Austrian",
         0.0,
         0,
         21
        ],
        [
         1984,
         "Johnny Cecotto",
         "Venezuelan",
         0.0,
         0,
         21
        ],
        [
         1984,
         "Philippe Streiff",
         "French",
         0.0,
         0,
         21
        ],
        [
         1984,
         "Stefan Bellof",
         "German",
         0.0,
         0,
         21
        ],
        [
         1984,
         "Jo Gartner",
         "Austrian",
         0.0,
         0,
         21
        ],
        [
         1984,
         "Philippe Alliot",
         "French",
         0.0,
         0,
         21
        ],
        [
         1985,
         "Alain Prost",
         "French",
         76.0,
         5,
         1
        ],
        [
         1985,
         "Michele Alboreto",
         "Italian",
         53.0,
         2,
         2
        ],
        [
         1985,
         "Keke Rosberg",
         "Finnish",
         40.0,
         2,
         3
        ],
        [
         1985,
         "Ayrton Senna",
         "Brazilian",
         38.0,
         2,
         4
        ],
        [
         1985,
         "Elio de Angelis",
         "Italian",
         33.0,
         1,
         5
        ],
        [
         1985,
         "Nigel Mansell",
         "British",
         31.0,
         2,
         6
        ],
        [
         1985,
         "Stefan Johansson",
         "Swedish",
         26.0,
         0,
         7
        ],
        [
         1985,
         "Nelson Piquet",
         "Brazilian",
         21.0,
         1,
         8
        ],
        [
         1985,
         "Jacques Laffite",
         "French",
         16.0,
         0,
         9
        ],
        [
         1985,
         "Niki Lauda",
         "Austrian",
         14.0,
         1,
         10
        ],
        [
         1985,
         "Thierry Boutsen",
         "Belgian",
         11.0,
         0,
         11
        ],
        [
         1985,
         "Patrick Tambay",
         "French",
         11.0,
         0,
         11
        ],
        [
         1985,
         "Marc Surer",
         "Swiss",
         5.0,
         0,
         13
        ],
        [
         1985,
         "Derek Warwick",
         "British",
         5.0,
         0,
         13
        ],
        [
         1985,
         "Stefan Bellof",
         "German",
         4.0,
         0,
         15
        ],
        [
         1985,
         "Philippe Streiff",
         "French",
         4.0,
         0,
         15
        ],
        [
         1985,
         "René Arnoux",
         "French",
         3.0,
         0,
         17
        ],
        [
         1985,
         "Ivan Capelli",
         "Italian",
         3.0,
         0,
         17
        ],
        [
         1985,
         "Gerhard Berger",
         "Austrian",
         3.0,
         0,
         17
        ],
        [
         1985,
         "Andrea de Cesaris",
         "Italian",
         3.0,
         0,
         17
        ],
        [
         1985,
         "Christian Danner",
         "German",
         0.0,
         0,
         21
        ],
        [
         1985,
         "Alan Jones",
         "Australian",
         0.0,
         0,
         21
        ],
        [
         1985,
         "Teo Fabi",
         "Italian",
         0.0,
         0,
         21
        ],
        [
         1985,
         "Kenny Acheson",
         "British",
         0.0,
         0,
         21
        ],
        [
         1985,
         "François Hesnault",
         "French",
         0.0,
         0,
         21
        ],
        [
         1985,
         "Martin Brundle",
         "British",
         0.0,
         0,
         21
        ],
        [
         1985,
         "Philippe Alliot",
         "French",
         0.0,
         0,
         21
        ],
        [
         1985,
         "Riccardo Patrese",
         "Italian",
         0.0,
         0,
         21
        ],
        [
         1985,
         "Jonathan Palmer",
         "British",
         0.0,
         0,
         21
        ],
        [
         1985,
         "Huub Rothengatter",
         "Dutch",
         0.0,
         0,
         21
        ],
        [
         1985,
         "Eddie Cheever",
         "American",
         0.0,
         0,
         21
        ],
        [
         1985,
         "Piercarlo Ghinzani",
         "Italian",
         0.0,
         0,
         21
        ],
        [
         1985,
         "Mauro Baldi",
         "Italian",
         0.0,
         0,
         21
        ],
        [
         1985,
         "John Watson",
         "British",
         0.0,
         0,
         21
        ],
        [
         1985,
         "Pierluigi Martini",
         "Italian",
         0.0,
         0,
         21
        ],
        [
         1985,
         "Manfred Winkelhock",
         "German",
         0.0,
         0,
         21
        ],
        [
         1986,
         "Alain Prost",
         "French",
         74.0,
         4,
         1
        ],
        [
         1986,
         "Nigel Mansell",
         "British",
         72.0,
         5,
         2
        ],
        [
         1986,
         "Nelson Piquet",
         "Brazilian",
         69.0,
         4,
         3
        ],
        [
         1986,
         "Ayrton Senna",
         "Brazilian",
         55.0,
         2,
         4
        ],
        [
         1986,
         "Stefan Johansson",
         "Swedish",
         23.0,
         0,
         5
        ],
        [
         1986,
         "Keke Rosberg",
         "Finnish",
         22.0,
         0,
         6
        ],
        [
         1986,
         "Gerhard Berger",
         "Austrian",
         17.0,
         1,
         7
        ],
        [
         1986,
         "Michele Alboreto",
         "Italian",
         14.0,
         0,
         8
        ],
        [
         1986,
         "René Arnoux",
         "French",
         14.0,
         0,
         8
        ],
        [
         1986,
         "Jacques Laffite",
         "French",
         14.0,
         0,
         8
        ],
        [
         1986,
         "Martin Brundle",
         "British",
         8.0,
         0,
         11
        ],
        [
         1986,
         "Alan Jones",
         "Australian",
         4.0,
         0,
         12
        ],
        [
         1986,
         "Philippe Streiff",
         "French",
         3.0,
         0,
         13
        ],
        [
         1986,
         "Johnny Dumfries",
         "British",
         3.0,
         0,
         13
        ],
        [
         1986,
         "Teo Fabi",
         "Italian",
         2.0,
         0,
         15
        ],
        [
         1986,
         "Riccardo Patrese",
         "Italian",
         2.0,
         0,
         15
        ],
        [
         1986,
         "Patrick Tambay",
         "French",
         2.0,
         0,
         15
        ],
        [
         1986,
         "Christian Danner",
         "German",
         1.0,
         0,
         18
        ],
        [
         1986,
         "Philippe Alliot",
         "French",
         1.0,
         0,
         18
        ],
        [
         1986,
         "Allen Berg",
         "Canadian",
         0.0,
         0,
         20
        ],
        [
         1986,
         "Derek Warwick",
         "British",
         0.0,
         0,
         20
        ],
        [
         1986,
         "Huub Rothengatter",
         "Dutch",
         0.0,
         0,
         20
        ],
        [
         1986,
         "Eddie Cheever",
         "American",
         0.0,
         0,
         20
        ],
        [
         1986,
         "Jonathan Palmer",
         "British",
         0.0,
         0,
         20
        ],
        [
         1986,
         "Thierry Boutsen",
         "Belgian",
         0.0,
         0,
         20
        ],
        [
         1986,
         "Piercarlo Ghinzani",
         "Italian",
         0.0,
         0,
         20
        ],
        [
         1986,
         "Alex Caffi",
         "Italian",
         0.0,
         0,
         20
        ],
        [
         1986,
         "Andrea de Cesaris",
         "Italian",
         0.0,
         0,
         20
        ],
        [
         1986,
         "Marc Surer",
         "Swiss",
         0.0,
         0,
         20
        ],
        [
         1986,
         "Elio de Angelis",
         "Italian",
         0.0,
         0,
         20
        ],
        [
         1986,
         "Alessandro Nannini",
         "Italian",
         0.0,
         0,
         20
        ],
        [
         1986,
         "Ivan Capelli",
         "Italian",
         0.0,
         0,
         20
        ],
        [
         1987,
         "Nelson Piquet",
         "Brazilian",
         76.0,
         3,
         1
        ],
        [
         1987,
         "Nigel Mansell",
         "British",
         61.0,
         6,
         2
        ],
        [
         1987,
         "Ayrton Senna",
         "Brazilian",
         57.0,
         2,
         3
        ],
        [
         1987,
         "Alain Prost",
         "French",
         46.0,
         3,
         4
        ],
        [
         1987,
         "Gerhard Berger",
         "Austrian",
         36.0,
         2,
         5
        ],
        [
         1987,
         "Stefan Johansson",
         "Swedish",
         30.0,
         0,
         6
        ],
        [
         1987,
         "Michele Alboreto",
         "Italian",
         17.0,
         0,
         7
        ],
        [
         1987,
         "Thierry Boutsen",
         "Belgian",
         16.0,
         0,
         8
        ],
        [
         1987,
         "Teo Fabi",
         "Italian",
         12.0,
         0,
         9
        ],
        [
         1987,
         "Eddie Cheever",
         "American",
         8.0,
         0,
         10
        ],
        [
         1987,
         "Jonathan Palmer",
         "British",
         7.0,
         0,
         11
        ],
        [
         1987,
         "Satoru Nakajima",
         "Japanese",
         7.0,
         0,
         11
        ],
        [
         1987,
         "Riccardo Patrese",
         "Italian",
         6.0,
         0,
         13
        ],
        [
         1987,
         "Andrea de Cesaris",
         "Italian",
         4.0,
         0,
         14
        ],
        [
         1987,
         "Philippe Streiff",
         "French",
         4.0,
         0,
         14
        ],
        [
         1987,
         "Derek Warwick",
         "British",
         3.0,
         0,
         16
        ],
        [
         1987,
         "Philippe Alliot",
         "French",
         3.0,
         0,
         16
        ],
        [
         1987,
         "Martin Brundle",
         "British",
         2.0,
         0,
         18
        ],
        [
         1987,
         "Ivan Capelli",
         "Italian",
         1.0,
         0,
         19
        ],
        [
         1987,
         "Roberto Moreno",
         "Brazilian",
         1.0,
         0,
         19
        ],
        [
         1987,
         "René Arnoux",
         "French",
         1.0,
         0,
         19
        ],
        [
         1987,
         "Adrián Campos",
         "Spanish",
         0.0,
         0,
         22
        ],
        [
         1987,
         "Alessandro Nannini",
         "Italian",
         0.0,
         0,
         22
        ],
        [
         1987,
         "Franco Forini",
         "Swiss",
         0.0,
         0,
         22
        ],
        [
         1987,
         "Christian Danner",
         "German",
         0.0,
         0,
         22
        ],
        [
         1987,
         "Gabriele Tarquini",
         "Italian",
         0.0,
         0,
         22
        ],
        [
         1987,
         "Nicola Larini",
         "Italian",
         0.0,
         0,
         22
        ],
        [
         1987,
         "Piercarlo Ghinzani",
         "Italian",
         0.0,
         0,
         22
        ],
        [
         1987,
         "Yannick Dalmas",
         "French",
         0.0,
         0,
         22
        ],
        [
         1987,
         "Alex Caffi",
         "Italian",
         0.0,
         0,
         22
        ],
        [
         1987,
         "Pascal Fabre",
         "French",
         0.0,
         0,
         22
        ],
        [
         1987,
         "Stefano Modena",
         "Italian",
         0.0,
         0,
         22
        ],
        [
         1988,
         "Alain Prost",
         "French",
         105.0,
         7,
         1
        ],
        [
         1988,
         "Ayrton Senna",
         "Brazilian",
         94.0,
         8,
         2
        ],
        [
         1988,
         "Gerhard Berger",
         "Austrian",
         41.0,
         1,
         3
        ],
        [
         1988,
         "Thierry Boutsen",
         "Belgian",
         27.0,
         0,
         4
        ],
        [
         1988,
         "Michele Alboreto",
         "Italian",
         24.0,
         0,
         5
        ],
        [
         1988,
         "Nelson Piquet",
         "Brazilian",
         22.0,
         0,
         6
        ],
        [
         1988,
         "Ivan Capelli",
         "Italian",
         17.0,
         0,
         7
        ],
        [
         1988,
         "Derek Warwick",
         "British",
         17.0,
         0,
         7
        ],
        [
         1988,
         "Alessandro Nannini",
         "Italian",
         12.0,
         0,
         9
        ],
        [
         1988,
         "Nigel Mansell",
         "British",
         12.0,
         0,
         9
        ],
        [
         1988,
         "Riccardo Patrese",
         "Italian",
         8.0,
         0,
         11
        ],
        [
         1988,
         "Eddie Cheever",
         "American",
         6.0,
         0,
         12
        ],
        [
         1988,
         "Maurício Gugelmin",
         "Brazilian",
         5.0,
         0,
         13
        ],
        [
         1988,
         "Jonathan Palmer",
         "British",
         5.0,
         0,
         13
        ],
        [
         1988,
         "Andrea de Cesaris",
         "Italian",
         3.0,
         0,
         15
        ],
        [
         1988,
         "Pierluigi Martini",
         "Italian",
         1.0,
         0,
         16
        ],
        [
         1988,
         "Satoru Nakajima",
         "Japanese",
         1.0,
         0,
         16
        ],
        [
         1988,
         "Alex Caffi",
         "Italian",
         0.0,
         0,
         18
        ],
        [
         1988,
         "Martin Brundle",
         "British",
         0.0,
         0,
         18
        ],
        [
         1988,
         "Gabriele Tarquini",
         "Italian",
         0.0,
         0,
         18
        ],
        [
         1988,
         "Adrián Campos",
         "Spanish",
         0.0,
         0,
         18
        ],
        [
         1988,
         "Piercarlo Ghinzani",
         "Italian",
         0.0,
         0,
         18
        ],
        [
         1988,
         "Bernd Schneider",
         "German",
         0.0,
         0,
         18
        ],
        [
         1988,
         "Aguri Suzuki",
         "Japanese",
         0.0,
         0,
         18
        ],
        [
         1988,
         "Pierre-Henri Raphanel",
         "French",
         0.0,
         0,
         18
        ],
        [
         1988,
         "Jean-Louis Schlesser",
         "French",
         0.0,
         0,
         18
        ],
        [
         1988,
         "Julian Bailey",
         "British",
         0.0,
         0,
         18
        ],
        [
         1988,
         "Philippe Streiff",
         "French",
         0.0,
         0,
         18
        ],
        [
         1988,
         "Stefan Johansson",
         "Swedish",
         0.0,
         0,
         18
        ],
        [
         1988,
         "Nicola Larini",
         "Italian",
         0.0,
         0,
         18
        ],
        [
         1988,
         "Stefano Modena",
         "Italian",
         0.0,
         0,
         18
        ],
        [
         1988,
         "René Arnoux",
         "French",
         0.0,
         0,
         18
        ],
        [
         1988,
         "Yannick Dalmas",
         "French",
         0.0,
         0,
         18
        ],
        [
         1988,
         "Oscar Larrauri",
         "Argentine",
         0.0,
         0,
         18
        ],
        [
         1988,
         "Luis Pérez-Sala",
         "Spanish",
         0.0,
         0,
         18
        ],
        [
         1988,
         "Philippe Alliot",
         "French",
         0.0,
         0,
         18
        ],
        [
         1989,
         "Alain Prost",
         "French",
         81.0,
         4,
         1
        ],
        [
         1989,
         "Ayrton Senna",
         "Brazilian",
         60.0,
         6,
         2
        ],
        [
         1989,
         "Riccardo Patrese",
         "Italian",
         40.0,
         0,
         3
        ],
        [
         1989,
         "Nigel Mansell",
         "British",
         38.0,
         2,
         4
        ],
        [
         1989,
         "Thierry Boutsen",
         "Belgian",
         37.0,
         2,
         5
        ],
        [
         1989,
         "Alessandro Nannini",
         "Italian",
         32.0,
         1,
         6
        ],
        [
         1989,
         "Gerhard Berger",
         "Austrian",
         21.0,
         1,
         7
        ],
        [
         1989,
         "Nelson Piquet",
         "Brazilian",
         12.0,
         0,
         8
        ],
        [
         1989,
         "Jean Alesi",
         "French",
         8.0,
         0,
         9
        ],
        [
         1989,
         "Derek Warwick",
         "British",
         7.0,
         0,
         10
        ],
        [
         1989,
         "Stefan Johansson",
         "Swedish",
         6.0,
         0,
         11
        ],
        [
         1989,
         "Michele Alboreto",
         "Italian",
         6.0,
         0,
         11
        ],
        [
         1989,
         "Eddie Cheever",
         "American",
         6.0,
         0,
         11
        ],
        [
         1989,
         "Johnny Herbert",
         "British",
         5.0,
         0,
         14
        ],
        [
         1989,
         "Pierluigi Martini",
         "Italian",
         5.0,
         0,
         14
        ],
        [
         1989,
         "Alex Caffi",
         "Italian",
         4.0,
         0,
         16
        ],
        [
         1989,
         "Maurício Gugelmin",
         "Brazilian",
         4.0,
         0,
         16
        ],
        [
         1989,
         "Andrea de Cesaris",
         "Italian",
         4.0,
         0,
         16
        ],
        [
         1989,
         "Stefano Modena",
         "Italian",
         4.0,
         0,
         16
        ],
        [
         1989,
         "Martin Brundle",
         "British",
         4.0,
         0,
         16
        ],
        [
         1989,
         "Christian Danner",
         "German",
         3.0,
         0,
         21
        ],
        [
         1989,
         "Satoru Nakajima",
         "Japanese",
         3.0,
         0,
         21
        ],
        [
         1989,
         "Jonathan Palmer",
         "British",
         2.0,
         0,
         23
        ],
        [
         1989,
         "René Arnoux",
         "French",
         2.0,
         0,
         23
        ],
        [
         1989,
         "Emanuele Pirro",
         "Italian",
         2.0,
         0,
         23
        ],
        [
         1989,
         "Gabriele Tarquini",
         "Italian",
         1.0,
         0,
         26
        ],
        [
         1989,
         "Philippe Alliot",
         "French",
         1.0,
         0,
         26
        ],
        [
         1989,
         "Olivier Grouillard",
         "French",
         1.0,
         0,
         26
        ],
        [
         1989,
         "Luis Pérez-Sala",
         "Spanish",
         1.0,
         0,
         26
        ],
        [
         1989,
         "Joachim Winkelhock",
         "German",
         0.0,
         0,
         30
        ],
        [
         1989,
         "Enrico Bertaggia",
         "Italian",
         0.0,
         0,
         30
        ],
        [
         1989,
         "Piercarlo Ghinzani",
         "Italian",
         0.0,
         0,
         30
        ],
        [
         1989,
         "Bertrand Gachot",
         "Belgian",
         0.0,
         0,
         30
        ],
        [
         1989,
         "Éric Bernard",
         "French",
         0.0,
         0,
         30
        ],
        [
         1989,
         "Jyrki Järvilehto",
         "Finnish",
         0.0,
         0,
         30
        ],
        [
         1989,
         "Pierre-Henri Raphanel",
         "French",
         0.0,
         0,
         30
        ],
        [
         1989,
         "Roberto Moreno",
         "Brazilian",
         0.0,
         0,
         30
        ],
        [
         1989,
         "Bernd Schneider",
         "German",
         0.0,
         0,
         30
        ],
        [
         1989,
         "Martin Donnelly",
         "British",
         0.0,
         0,
         30
        ],
        [
         1989,
         "Ivan Capelli",
         "Italian",
         0.0,
         0,
         30
        ],
        [
         1989,
         "Oscar Larrauri",
         "Argentine",
         0.0,
         0,
         30
        ],
        [
         1989,
         "Aguri Suzuki",
         "Japanese",
         0.0,
         0,
         30
        ],
        [
         1989,
         "Nicola Larini",
         "Italian",
         0.0,
         0,
         30
        ],
        [
         1989,
         "Volker Weidler",
         "German",
         0.0,
         0,
         30
        ],
        [
         1989,
         "Gregor Foitek",
         "Swiss",
         0.0,
         0,
         30
        ],
        [
         1989,
         "Yannick Dalmas",
         "French",
         0.0,
         0,
         30
        ],
        [
         1989,
         "Paolo Barilla",
         "Italian",
         0.0,
         0,
         30
        ],
        [
         1990,
         "Ayrton Senna",
         "Brazilian",
         78.0,
         6,
         1
        ],
        [
         1990,
         "Alain Prost",
         "French",
         73.0,
         5,
         2
        ],
        [
         1990,
         "Nelson Piquet",
         "Brazilian",
         44.0,
         2,
         3
        ],
        [
         1990,
         "Gerhard Berger",
         "Austrian",
         43.0,
         0,
         4
        ],
        [
         1990,
         "Nigel Mansell",
         "British",
         37.0,
         1,
         5
        ],
        [
         1990,
         "Thierry Boutsen",
         "Belgian",
         34.0,
         1,
         6
        ],
        [
         1990,
         "Riccardo Patrese",
         "Italian",
         23.0,
         1,
         7
        ],
        [
         1990,
         "Alessandro Nannini",
         "Italian",
         21.0,
         0,
         8
        ],
        [
         1990,
         "Jean Alesi",
         "French",
         13.0,
         0,
         9
        ],
        [
         1990,
         "Ivan Capelli",
         "Italian",
         6.0,
         0,
         10
        ],
        [
         1990,
         "Roberto Moreno",
         "Brazilian",
         6.0,
         0,
         10
        ],
        [
         1990,
         "Aguri Suzuki",
         "Japanese",
         6.0,
         0,
         10
        ],
        [
         1990,
         "Éric Bernard",
         "French",
         5.0,
         0,
         13
        ],
        [
         1990,
         "Derek Warwick",
         "British",
         3.0,
         0,
         14
        ],
        [
         1990,
         "Satoru Nakajima",
         "Japanese",
         3.0,
         0,
         14
        ],
        [
         1990,
         "Alex Caffi",
         "Italian",
         2.0,
         0,
         16
        ],
        [
         1990,
         "Stefano Modena",
         "Italian",
         2.0,
         0,
         16
        ],
        [
         1990,
         "Maurício Gugelmin",
         "Brazilian",
         1.0,
         0,
         18
        ],
        [
         1990,
         "Michele Alboreto",
         "Italian",
         0.0,
         0,
         19
        ],
        [
         1990,
         "Nicola Larini",
         "Italian",
         0.0,
         0,
         19
        ],
        [
         1990,
         "Pierluigi Martini",
         "Italian",
         0.0,
         0,
         19
        ],
        [
         1990,
         "Emanuele Pirro",
         "Italian",
         0.0,
         0,
         19
        ],
        [
         1990,
         "Stefan Johansson",
         "Swedish",
         0.0,
         0,
         19
        ],
        [
         1990,
         "Gary Brabham",
         "Australian",
         0.0,
         0,
         19
        ],
        [
         1990,
         "Bertrand Gachot",
         "Belgian",
         0.0,
         0,
         19
        ],
        [
         1990,
         "Gianni Morbidelli",
         "Italian",
         0.0,
         0,
         19
        ],
        [
         1990,
         "Martin Donnelly",
         "British",
         0.0,
         0,
         19
        ],
        [
         1990,
         "David Brabham",
         "Australian",
         0.0,
         0,
         19
        ],
        [
         1990,
         "Jyrki Järvilehto",
         "Finnish",
         0.0,
         0,
         19
        ],
        [
         1990,
         "Gabriele Tarquini",
         "Italian",
         0.0,
         0,
         19
        ],
        [
         1990,
         "Andrea de Cesaris",
         "Italian",
         0.0,
         0,
         19
        ],
        [
         1990,
         "Philippe Alliot",
         "French",
         0.0,
         0,
         19
        ],
        [
         1990,
         "Paolo Barilla",
         "Italian",
         0.0,
         0,
         19
        ],
        [
         1990,
         "Bruno Giacomelli",
         "Italian",
         0.0,
         0,
         19
        ],
        [
         1990,
         "Olivier Grouillard",
         "French",
         0.0,
         0,
         19
        ],
        [
         1990,
         "Claudio Langes",
         "Italian",
         0.0,
         0,
         19
        ],
        [
         1990,
         "Johnny Herbert",
         "British",
         0.0,
         0,
         19
        ],
        [
         1990,
         "Bernd Schneider",
         "German",
         0.0,
         0,
         19
        ],
        [
         1990,
         "Yannick Dalmas",
         "French",
         0.0,
         0,
         19
        ],
        [
         1990,
         "Gregor Foitek",
         "Swiss",
         0.0,
         0,
         19
        ],
        [
         1991,
         "Ayrton Senna",
         "Brazilian",
         96.0,
         7,
         1
        ],
        [
         1991,
         "Nigel Mansell",
         "British",
         72.0,
         5,
         2
        ],
        [
         1991,
         "Riccardo Patrese",
         "Italian",
         53.0,
         2,
         3
        ],
        [
         1991,
         "Gerhard Berger",
         "Austrian",
         43.0,
         1,
         4
        ],
        [
         1991,
         "Alain Prost",
         "French",
         34.0,
         0,
         5
        ],
        [
         1991,
         "Nelson Piquet",
         "Brazilian",
         26.5,
         1,
         6
        ],
        [
         1991,
         "Jean Alesi",
         "French",
         21.0,
         0,
         7
        ],
        [
         1991,
         "Stefano Modena",
         "Italian",
         10.0,
         0,
         8
        ],
        [
         1991,
         "Andrea de Cesaris",
         "Italian",
         9.0,
         0,
         9
        ],
        [
         1991,
         "Roberto Moreno",
         "Brazilian",
         8.0,
         0,
         10
        ],
        [
         1991,
         "Pierluigi Martini",
         "Italian",
         6.0,
         0,
         11
        ],
        [
         1991,
         "Jyrki Järvilehto",
         "Finnish",
         4.0,
         0,
         12
        ],
        [
         1991,
         "Michael Schumacher",
         "German",
         4.0,
         0,
         12
        ],
        [
         1991,
         "Bertrand Gachot",
         "Belgian",
         4.0,
         0,
         12
        ],
        [
         1991,
         "Martin Brundle",
         "British",
         2.0,
         0,
         15
        ],
        [
         1991,
         "Satoru Nakajima",
         "Japanese",
         2.0,
         0,
         15
        ],
        [
         1991,
         "Mika Häkkinen",
         "Finnish",
         2.0,
         0,
         15
        ],
        [
         1991,
         "Ivan Capelli",
         "Italian",
         1.0,
         0,
         18
        ],
        [
         1991,
         "Mark Blundell",
         "British",
         1.0,
         0,
         18
        ],
        [
         1991,
         "Éric Bernard",
         "French",
         1.0,
         0,
         18
        ],
        [
         1991,
         "Julian Bailey",
         "British",
         1.0,
         0,
         18
        ],
        [
         1991,
         "Emanuele Pirro",
         "Italian",
         1.0,
         0,
         18
        ],
        [
         1991,
         "Aguri Suzuki",
         "Japanese",
         1.0,
         0,
         18
        ],
        [
         1991,
         "Gianni Morbidelli",
         "Italian",
         0.5,
         0,
         24
        ],
        [
         1991,
         "Michael Bartels",
         "German",
         0.0,
         0,
         25
        ],
        [
         1991,
         "Nicola Larini",
         "Italian",
         0.0,
         0,
         25
        ],
        [
         1991,
         "Alex Caffi",
         "Italian",
         0.0,
         0,
         25
        ],
        [
         1991,
         "Johnny Herbert",
         "British",
         0.0,
         0,
         25
        ],
        [
         1991,
         "Karl Wendlinger",
         "Austrian",
         0.0,
         0,
         25
        ],
        [
         1991,
         "Eric van de Poele",
         "Belgian",
         0.0,
         0,
         25
        ],
        [
         1991,
         "Michele Alboreto",
         "Italian",
         0.0,
         0,
         25
        ],
        [
         1991,
         "Fabrizio Barbazza",
         "Italian",
         0.0,
         0,
         25
        ],
        [
         1991,
         "Thierry Boutsen",
         "Belgian",
         0.0,
         0,
         25
        ],
        [
         1991,
         "Alessandro Zanardi",
         "Italian",
         0.0,
         0,
         25
        ],
        [
         1991,
         "Maurício Gugelmin",
         "Brazilian",
         0.0,
         0,
         25
        ],
        [
         1991,
         "Stefan Johansson",
         "Swedish",
         0.0,
         0,
         25
        ],
        [
         1991,
         "Pedro Chaves",
         "Portuguese",
         0.0,
         0,
         25
        ],
        [
         1991,
         "Gabriele Tarquini",
         "Italian",
         0.0,
         0,
         25
        ],
        [
         1991,
         "Naoki Hattori",
         "Japanese",
         0.0,
         0,
         25
        ],
        [
         1991,
         "Olivier Grouillard",
         "French",
         0.0,
         0,
         25
        ],
        [
         1991,
         "Érik Comas",
         "French",
         0.0,
         0,
         25
        ],
        [
         1992,
         "Nigel Mansell",
         "British",
         108.0,
         9,
         1
        ],
        [
         1992,
         "Riccardo Patrese",
         "Italian",
         56.0,
         1,
         2
        ],
        [
         1992,
         "Michael Schumacher",
         "German",
         53.0,
         1,
         3
        ],
        [
         1992,
         "Ayrton Senna",
         "Brazilian",
         50.0,
         3,
         4
        ],
        [
         1992,
         "Gerhard Berger",
         "Austrian",
         49.0,
         2,
         5
        ],
        [
         1992,
         "Martin Brundle",
         "British",
         38.0,
         0,
         6
        ],
        [
         1992,
         "Jean Alesi",
         "French",
         18.0,
         0,
         7
        ],
        [
         1992,
         "Mika Häkkinen",
         "Finnish",
         11.0,
         0,
         8
        ],
        [
         1992,
         "Andrea de Cesaris",
         "Italian",
         8.0,
         0,
         9
        ],
        [
         1992,
         "Michele Alboreto",
         "Italian",
         6.0,
         0,
         10
        ],
        [
         1992,
         "Érik Comas",
         "French",
         4.0,
         0,
         11
        ],
        [
         1992,
         "Ivan Capelli",
         "Italian",
         3.0,
         0,
         12
        ],
        [
         1992,
         "Karl Wendlinger",
         "Austrian",
         3.0,
         0,
         12
        ],
        [
         1992,
         "Pierluigi Martini",
         "Italian",
         2.0,
         0,
         14
        ],
        [
         1992,
         "Thierry Boutsen",
         "Belgian",
         2.0,
         0,
         14
        ],
        [
         1992,
         "Johnny Herbert",
         "British",
         2.0,
         0,
         14
        ],
        [
         1992,
         "Stefano Modena",
         "Italian",
         1.0,
         0,
         17
        ],
        [
         1992,
         "Bertrand Gachot",
         "Belgian",
         1.0,
         0,
         17
        ],
        [
         1992,
         "Christian Fittipaldi",
         "Brazilian",
         1.0,
         0,
         17
        ],
        [
         1992,
         "Jyrki Järvilehto",
         "Finnish",
         0.0,
         0,
         20
        ],
        [
         1992,
         "Maurício Gugelmin",
         "Brazilian",
         0.0,
         0,
         20
        ],
        [
         1992,
         "Perry McCarthy",
         "British",
         0.0,
         0,
         20
        ],
        [
         1992,
         "Alessandro Zanardi",
         "Italian",
         0.0,
         0,
         20
        ],
        [
         1992,
         "Paul Belmondo",
         "French",
         0.0,
         0,
         20
        ],
        [
         1992,
         "Eric van de Poele",
         "Belgian",
         0.0,
         0,
         20
        ],
        [
         1992,
         "Olivier Grouillard",
         "French",
         0.0,
         0,
         20
        ],
        [
         1992,
         "Nicola Larini",
         "Italian",
         0.0,
         0,
         20
        ],
        [
         1992,
         "Jan Lammers",
         "Dutch",
         0.0,
         0,
         20
        ],
        [
         1992,
         "Damon Hill",
         "British",
         0.0,
         0,
         20
        ],
        [
         1992,
         "Andrea Chiesa",
         "Swiss",
         0.0,
         0,
         20
        ],
        [
         1992,
         "Aguri Suzuki",
         "Japanese",
         0.0,
         0,
         20
        ],
        [
         1992,
         "Ukyo Katayama",
         "Japanese",
         0.0,
         0,
         20
        ],
        [
         1992,
         "Emanuele Naspetti",
         "Italian",
         0.0,
         0,
         20
        ],
        [
         1992,
         "Giovanna Amati",
         "Italian",
         0.0,
         0,
         20
        ],
        [
         1992,
         "Gabriele Tarquini",
         "Italian",
         0.0,
         0,
         20
        ],
        [
         1992,
         "Gianni Morbidelli",
         "Italian",
         0.0,
         0,
         20
        ],
        [
         1992,
         "Roberto Moreno",
         "Brazilian",
         0.0,
         0,
         20
        ],
        [
         1993,
         "Alain Prost",
         "French",
         99.0,
         7,
         1
        ],
        [
         1993,
         "Ayrton Senna",
         "Brazilian",
         73.0,
         5,
         2
        ],
        [
         1993,
         "Damon Hill",
         "British",
         69.0,
         3,
         3
        ],
        [
         1993,
         "Michael Schumacher",
         "German",
         52.0,
         1,
         4
        ],
        [
         1993,
         "Riccardo Patrese",
         "Italian",
         20.0,
         0,
         5
        ],
        [
         1993,
         "Jean Alesi",
         "French",
         16.0,
         0,
         6
        ],
        [
         1993,
         "Martin Brundle",
         "British",
         13.0,
         0,
         7
        ],
        [
         1993,
         "Gerhard Berger",
         "Austrian",
         12.0,
         0,
         8
        ],
        [
         1993,
         "Johnny Herbert",
         "British",
         11.0,
         0,
         9
        ],
        [
         1993,
         "Mark Blundell",
         "British",
         10.0,
         0,
         10
        ],
        [
         1993,
         "Michael Andretti",
         "American",
         7.0,
         0,
         11
        ],
        [
         1993,
         "Karl Wendlinger",
         "Austrian",
         7.0,
         0,
         11
        ],
        [
         1993,
         "Christian Fittipaldi",
         "Brazilian",
         5.0,
         0,
         13
        ],
        [
         1993,
         "Jyrki Järvilehto",
         "Finnish",
         5.0,
         0,
         13
        ],
        [
         1993,
         "Mika Häkkinen",
         "Finnish",
         4.0,
         0,
         15
        ],
        [
         1993,
         "Derek Warwick",
         "British",
         4.0,
         0,
         15
        ],
        [
         1993,
         "Philippe Alliot",
         "French",
         2.0,
         0,
         17
        ],
        [
         1993,
         "Fabrizio Barbazza",
         "Italian",
         2.0,
         0,
         17
        ],
        [
         1993,
         "Rubens Barrichello",
         "Brazilian",
         2.0,
         0,
         17
        ],
        [
         1993,
         "Alessandro Zanardi",
         "Italian",
         1.0,
         0,
         20
        ],
        [
         1993,
         "Érik Comas",
         "French",
         1.0,
         0,
         20
        ],
        [
         1993,
         "Eddie Irvine",
         "British",
         1.0,
         0,
         20
        ],
        [
         1993,
         "Ukyo Katayama",
         "Japanese",
         0.0,
         0,
         23
        ],
        [
         1993,
         "Michele Alboreto",
         "Italian",
         0.0,
         0,
         23
        ],
        [
         1993,
         "Toshio Suzuki",
         "Japanese",
         0.0,
         0,
         23
        ],
        [
         1993,
         "Marco Apicella",
         "Italian",
         0.0,
         0,
         23
        ],
        [
         1993,
         "Emanuele Naspetti",
         "Italian",
         0.0,
         0,
         23
        ],
        [
         1993,
         "Andrea de Cesaris",
         "Italian",
         0.0,
         0,
         23
        ],
        [
         1993,
         "Aguri Suzuki",
         "Japanese",
         0.0,
         0,
         23
        ],
        [
         1993,
         "Pedro Lamy",
         "Portuguese",
         0.0,
         0,
         23
        ],
        [
         1993,
         "Pierluigi Martini",
         "Italian",
         0.0,
         0,
         23
        ],
        [
         1993,
         "Thierry Boutsen",
         "Belgian",
         0.0,
         0,
         23
        ],
        [
         1993,
         "Jean-Marc Gounon",
         "French",
         0.0,
         0,
         23
        ],
        [
         1993,
         "Ivan Capelli",
         "Italian",
         0.0,
         0,
         23
        ],
        [
         1993,
         "Luca Badoer",
         "Italian",
         0.0,
         0,
         23
        ],
        [
         1994,
         "Michael Schumacher",
         "German",
         92.0,
         8,
         1
        ],
        [
         1994,
         "Damon Hill",
         "British",
         91.0,
         6,
         2
        ],
        [
         1994,
         "Gerhard Berger",
         "Austrian",
         41.0,
         1,
         3
        ],
        [
         1994,
         "Mika Häkkinen",
         "Finnish",
         26.0,
         0,
         4
        ],
        [
         1994,
         "Jean Alesi",
         "French",
         24.0,
         0,
         5
        ],
        [
         1994,
         "Rubens Barrichello",
         "Brazilian",
         19.0,
         0,
         6
        ],
        [
         1994,
         "Martin Brundle",
         "British",
         16.0,
         0,
         7
        ],
        [
         1994,
         "David Coulthard",
         "British",
         14.0,
         0,
         8
        ],
        [
         1994,
         "Nigel Mansell",
         "British",
         13.0,
         1,
         9
        ],
        [
         1994,
         "Jos Verstappen",
         "Dutch",
         10.0,
         0,
         10
        ],
        [
         1994,
         "Olivier Panis",
         "French",
         9.0,
         0,
         11
        ],
        [
         1994,
         "Mark Blundell",
         "British",
         8.0,
         0,
         12
        ],
        [
         1994,
         "Heinz-Harald Frentzen",
         "German",
         7.0,
         0,
         13
        ],
        [
         1994,
         "Christian Fittipaldi",
         "Brazilian",
         6.0,
         0,
         14
        ],
        [
         1994,
         "Nicola Larini",
         "Italian",
         6.0,
         0,
         14
        ],
        [
         1994,
         "Eddie Irvine",
         "British",
         6.0,
         0,
         14
        ],
        [
         1994,
         "Ukyo Katayama",
         "Japanese",
         5.0,
         0,
         17
        ],
        [
         1994,
         "Éric Bernard",
         "French",
         4.0,
         0,
         18
        ],
        [
         1994,
         "Karl Wendlinger",
         "Austrian",
         4.0,
         0,
         18
        ],
        [
         1994,
         "Pierluigi Martini",
         "Italian",
         4.0,
         0,
         18
        ],
        [
         1994,
         "Andrea de Cesaris",
         "Italian",
         4.0,
         0,
         18
        ],
        [
         1994,
         "Gianni Morbidelli",
         "Italian",
         3.0,
         0,
         22
        ],
        [
         1994,
         "Érik Comas",
         "French",
         2.0,
         0,
         23
        ],
        [
         1994,
         "Jyrki Järvilehto",
         "Finnish",
         1.0,
         0,
         24
        ],
        [
         1994,
         "Michele Alboreto",
         "Italian",
         1.0,
         0,
         24
        ],
        [
         1994,
         "Roland Ratzenberger",
         "Austrian",
         0.0,
         0,
         26
        ],
        [
         1994,
         "Philippe Adams",
         "Belgian",
         0.0,
         0,
         26
        ],
        [
         1994,
         "Philippe Alliot",
         "French",
         0.0,
         0,
         26
        ],
        [
         1994,
         "Franck Lagorce",
         "French",
         0.0,
         0,
         26
        ],
        [
         1994,
         "Alessandro Zanardi",
         "Italian",
         0.0,
         0,
         26
        ],
        [
         1994,
         "Olivier Beretta",
         "Monegasque",
         0.0,
         0,
         26
        ],
        [
         1994,
         "Jean-Denis Délétraz",
         "Swiss",
         0.0,
         0,
         26
        ],
        [
         1994,
         "Domenico Schiattarella",
         "Italian",
         0.0,
         0,
         26
        ],
        [
         1994,
         "Taki Inoue",
         "Japanese",
         0.0,
         0,
         26
        ],
        [
         1994,
         "Pedro Lamy",
         "Portuguese",
         0.0,
         0,
         26
        ],
        [
         1994,
         "Hideki Noda",
         "Japanese",
         0.0,
         0,
         26
        ],
        [
         1994,
         "Yannick Dalmas",
         "French",
         0.0,
         0,
         26
        ],
        [
         1994,
         "David Brabham",
         "Australian",
         0.0,
         0,
         26
        ],
        [
         1994,
         "Bertrand Gachot",
         "Belgian",
         0.0,
         0,
         26
        ],
        [
         1994,
         "Aguri Suzuki",
         "Japanese",
         0.0,
         0,
         26
        ],
        [
         1994,
         "Mika Salo",
         "Finnish",
         0.0,
         0,
         26
        ],
        [
         1994,
         "Johnny Herbert",
         "British",
         0.0,
         0,
         26
        ],
        [
         1994,
         "Paul Belmondo",
         "French",
         0.0,
         0,
         26
        ],
        [
         1994,
         "Jean-Marc Gounon",
         "French",
         0.0,
         0,
         26
        ],
        [
         1994,
         "Andrea Montermini",
         "Italian",
         0.0,
         0,
         26
        ],
        [
         1994,
         "Ayrton Senna",
         "Brazilian",
         0.0,
         0,
         26
        ],
        [
         1995,
         "Michael Schumacher",
         "German",
         102.0,
         9,
         1
        ],
        [
         1995,
         "Damon Hill",
         "British",
         69.0,
         4,
         2
        ],
        [
         1995,
         "David Coulthard",
         "British",
         49.0,
         1,
         3
        ],
        [
         1995,
         "Johnny Herbert",
         "British",
         45.0,
         2,
         4
        ],
        [
         1995,
         "Jean Alesi",
         "French",
         42.0,
         1,
         5
        ],
        [
         1995,
         "Gerhard Berger",
         "Austrian",
         31.0,
         0,
         6
        ],
        [
         1995,
         "Mika Häkkinen",
         "Finnish",
         17.0,
         0,
         7
        ],
        [
         1995,
         "Olivier Panis",
         "French",
         16.0,
         0,
         8
        ],
        [
         1995,
         "Heinz-Harald Frentzen",
         "German",
         15.0,
         0,
         9
        ],
        [
         1995,
         "Mark Blundell",
         "British",
         13.0,
         0,
         10
        ],
        [
         1995,
         "Rubens Barrichello",
         "Brazilian",
         11.0,
         0,
         11
        ],
        [
         1995,
         "Eddie Irvine",
         "British",
         10.0,
         0,
         12
        ],
        [
         1995,
         "Martin Brundle",
         "British",
         7.0,
         0,
         13
        ],
        [
         1995,
         "Mika Salo",
         "Finnish",
         5.0,
         0,
         14
        ],
        [
         1995,
         "Gianni Morbidelli",
         "Italian",
         5.0,
         0,
         14
        ],
        [
         1995,
         "Jean-Christophe Boullion",
         "French",
         3.0,
         0,
         16
        ],
        [
         1995,
         "Pedro Lamy",
         "Portuguese",
         1.0,
         0,
         17
        ],
        [
         1995,
         "Aguri Suzuki",
         "Japanese",
         1.0,
         0,
         17
        ],
        [
         1995,
         "Luca Badoer",
         "Italian",
         0.0,
         0,
         19
        ],
        [
         1995,
         "Pierluigi Martini",
         "Italian",
         0.0,
         0,
         19
        ],
        [
         1995,
         "Roberto Moreno",
         "Brazilian",
         0.0,
         0,
         19
        ],
        [
         1995,
         "Bertrand Gachot",
         "Belgian",
         0.0,
         0,
         19
        ],
        [
         1995,
         "Gabriele Tarquini",
         "Italian",
         0.0,
         0,
         19
        ],
        [
         1995,
         "Taki Inoue",
         "Japanese",
         0.0,
         0,
         19
        ],
        [
         1995,
         "Giovanni Lavaggi",
         "Italian",
         0.0,
         0,
         19
        ],
        [
         1995,
         "Andrea Montermini",
         "Italian",
         0.0,
         0,
         19
        ],
        [
         1995,
         "Karl Wendlinger",
         "Austrian",
         0.0,
         0,
         19
        ],
        [
         1995,
         "Ukyo Katayama",
         "Japanese",
         0.0,
         0,
         19
        ],
        [
         1995,
         "Pedro Diniz",
         "Brazilian",
         0.0,
         0,
         19
        ],
        [
         1995,
         "Jan Magnussen",
         "Danish",
         0.0,
         0,
         19
        ],
        [
         1995,
         "Domenico Schiattarella",
         "Italian",
         0.0,
         0,
         19
        ],
        [
         1995,
         "Jos Verstappen",
         "Dutch",
         0.0,
         0,
         19
        ],
        [
         1995,
         "Jean-Denis Délétraz",
         "Swiss",
         0.0,
         0,
         19
        ],
        [
         1995,
         "Nigel Mansell",
         "British",
         0.0,
         0,
         19
        ],
        [
         1995,
         "Massimiliano Papis",
         "Italian",
         0.0,
         0,
         19
        ],
        [
         1996,
         "Damon Hill",
         "British",
         97.0,
         8,
         1
        ],
        [
         1996,
         "Jacques Villeneuve",
         "Canadian",
         78.0,
         4,
         2
        ],
        [
         1996,
         "Michael Schumacher",
         "German",
         59.0,
         3,
         3
        ],
        [
         1996,
         "Jean Alesi",
         "French",
         47.0,
         0,
         4
        ],
        [
         1996,
         "Mika Häkkinen",
         "Finnish",
         31.0,
         0,
         5
        ],
        [
         1996,
         "Gerhard Berger",
         "Austrian",
         21.0,
         0,
         6
        ],
        [
         1996,
         "David Coulthard",
         "British",
         18.0,
         0,
         7
        ],
        [
         1996,
         "Rubens Barrichello",
         "Brazilian",
         14.0,
         0,
         8
        ],
        [
         1996,
         "Olivier Panis",
         "French",
         13.0,
         1,
         9
        ],
        [
         1996,
         "Eddie Irvine",
         "British",
         11.0,
         0,
         10
        ],
        [
         1996,
         "Martin Brundle",
         "British",
         8.0,
         0,
         11
        ],
        [
         1996,
         "Heinz-Harald Frentzen",
         "German",
         7.0,
         0,
         12
        ],
        [
         1996,
         "Mika Salo",
         "Finnish",
         5.0,
         0,
         13
        ],
        [
         1996,
         "Johnny Herbert",
         "British",
         4.0,
         0,
         14
        ],
        [
         1996,
         "Pedro Diniz",
         "Brazilian",
         2.0,
         0,
         15
        ],
        [
         1996,
         "Jos Verstappen",
         "Dutch",
         1.0,
         0,
         16
        ],
        [
         1996,
         "Giovanni Lavaggi",
         "Italian",
         0.0,
         0,
         17
        ],
        [
         1996,
         "Andrea Montermini",
         "Italian",
         0.0,
         0,
         17
        ],
        [
         1996,
         "Tarso Marques",
         "Brazilian",
         0.0,
         0,
         17
        ],
        [
         1996,
         "Giancarlo Fisichella",
         "Italian",
         0.0,
         0,
         17
        ],
        [
         1996,
         "Ukyo Katayama",
         "Japanese",
         0.0,
         0,
         17
        ],
        [
         1996,
         "Luca Badoer",
         "Italian",
         0.0,
         0,
         17
        ],
        [
         1996,
         "Pedro Lamy",
         "Portuguese",
         0.0,
         0,
         17
        ],
        [
         1996,
         "Ricardo Rosset",
         "Brazilian",
         0.0,
         0,
         17
        ],
        [
         1997,
         "Jacques Villeneuve",
         "Canadian",
         81.0,
         7,
         1
        ],
        [
         1997,
         "Michael Schumacher",
         "German",
         78.0,
         5,
         2
        ],
        [
         1997,
         "Heinz-Harald Frentzen",
         "German",
         42.0,
         1,
         3
        ],
        [
         1997,
         "David Coulthard",
         "British",
         36.0,
         2,
         4
        ],
        [
         1997,
         "Jean Alesi",
         "French",
         36.0,
         0,
         5
        ],
        [
         1997,
         "Mika Häkkinen",
         "Finnish",
         27.0,
         1,
         6
        ],
        [
         1997,
         "Gerhard Berger",
         "Austrian",
         27.0,
         1,
         6
        ],
        [
         1997,
         "Eddie Irvine",
         "British",
         24.0,
         0,
         8
        ],
        [
         1997,
         "Giancarlo Fisichella",
         "Italian",
         20.0,
         0,
         9
        ],
        [
         1997,
         "Olivier Panis",
         "French",
         16.0,
         0,
         10
        ],
        [
         1997,
         "Johnny Herbert",
         "British",
         15.0,
         0,
         11
        ],
        [
         1997,
         "Ralf Schumacher",
         "German",
         13.0,
         0,
         12
        ],
        [
         1997,
         "Damon Hill",
         "British",
         7.0,
         0,
         13
        ],
        [
         1997,
         "Rubens Barrichello",
         "Brazilian",
         6.0,
         0,
         14
        ],
        [
         1997,
         "Alexander Wurz",
         "Austrian",
         4.0,
         0,
         15
        ],
        [
         1997,
         "Jarno Trulli",
         "Italian",
         3.0,
         0,
         16
        ],
        [
         1997,
         "Mika Salo",
         "Finnish",
         2.0,
         0,
         17
        ],
        [
         1997,
         "Pedro Diniz",
         "Brazilian",
         2.0,
         0,
         17
        ],
        [
         1997,
         "Shinji Nakano",
         "Japanese",
         2.0,
         0,
         17
        ],
        [
         1997,
         "Nicola Larini",
         "Italian",
         1.0,
         0,
         20
        ],
        [
         1997,
         "Jos Verstappen",
         "Dutch",
         0.0,
         0,
         21
        ],
        [
         1997,
         "Jan Magnussen",
         "Danish",
         0.0,
         0,
         21
        ],
        [
         1997,
         "Ukyo Katayama",
         "Japanese",
         0.0,
         0,
         21
        ],
        [
         1997,
         "Norberto Fontana",
         "Argentine",
         0.0,
         0,
         21
        ],
        [
         1997,
         "Gianni Morbidelli",
         "Italian",
         0.0,
         0,
         21
        ],
        [
         1997,
         "Tarso Marques",
         "Brazilian",
         0.0,
         0,
         21
        ],
        [
         1997,
         "Ricardo Rosset",
         "Brazilian",
         0.0,
         0,
         21
        ],
        [
         1997,
         "Vincenzo Sospiri",
         "Italian",
         0.0,
         0,
         21
        ],
        [
         1998,
         "Mika Häkkinen",
         "Finnish",
         100.0,
         8,
         1
        ],
        [
         1998,
         "Michael Schumacher",
         "German",
         86.0,
         6,
         2
        ],
        [
         1998,
         "David Coulthard",
         "British",
         56.0,
         1,
         3
        ],
        [
         1998,
         "Eddie Irvine",
         "British",
         47.0,
         0,
         4
        ],
        [
         1998,
         "Jacques Villeneuve",
         "Canadian",
         21.0,
         0,
         5
        ],
        [
         1998,
         "Damon Hill",
         "British",
         20.0,
         1,
         6
        ],
        [
         1998,
         "Alexander Wurz",
         "Austrian",
         17.0,
         0,
         7
        ],
        [
         1998,
         "Heinz-Harald Frentzen",
         "German",
         17.0,
         0,
         7
        ],
        [
         1998,
         "Giancarlo Fisichella",
         "Italian",
         16.0,
         0,
         9
        ],
        [
         1998,
         "Ralf Schumacher",
         "German",
         14.0,
         0,
         10
        ],
        [
         1998,
         "Jean Alesi",
         "French",
         9.0,
         0,
         11
        ],
        [
         1998,
         "Rubens Barrichello",
         "Brazilian",
         4.0,
         0,
         12
        ],
        [
         1998,
         "Pedro Diniz",
         "Brazilian",
         3.0,
         0,
         13
        ],
        [
         1998,
         "Mika Salo",
         "Finnish",
         3.0,
         0,
         13
        ],
        [
         1998,
         "Johnny Herbert",
         "British",
         1.0,
         0,
         15
        ],
        [
         1998,
         "Jarno Trulli",
         "Italian",
         1.0,
         0,
         15
        ],
        [
         1998,
         "Jan Magnussen",
         "Danish",
         1.0,
         0,
         15
        ],
        [
         1998,
         "Jos Verstappen",
         "Dutch",
         0.0,
         0,
         18
        ],
        [
         1998,
         "Olivier Panis",
         "French",
         0.0,
         0,
         18
        ],
        [
         1998,
         "Shinji Nakano",
         "Japanese",
         0.0,
         0,
         18
        ],
        [
         1998,
         "Toranosuke Takagi",
         "Japanese",
         0.0,
         0,
         18
        ],
        [
         1998,
         "Ricardo Rosset",
         "Brazilian",
         0.0,
         0,
         18
        ],
        [
         1998,
         "Esteban Tuero",
         "Argentine",
         0.0,
         0,
         18
        ],
        [
         1999,
         "Mika Häkkinen",
         "Finnish",
         76.0,
         5,
         1
        ],
        [
         1999,
         "Eddie Irvine",
         "British",
         74.0,
         4,
         2
        ],
        [
         1999,
         "Heinz-Harald Frentzen",
         "German",
         54.0,
         2,
         3
        ],
        [
         1999,
         "David Coulthard",
         "British",
         48.0,
         2,
         4
        ],
        [
         1999,
         "Michael Schumacher",
         "German",
         44.0,
         2,
         5
        ],
        [
         1999,
         "Ralf Schumacher",
         "German",
         35.0,
         0,
         6
        ],
        [
         1999,
         "Rubens Barrichello",
         "Brazilian",
         21.0,
         0,
         7
        ],
        [
         1999,
         "Johnny Herbert",
         "British",
         15.0,
         1,
         8
        ],
        [
         1999,
         "Giancarlo Fisichella",
         "Italian",
         13.0,
         0,
         9
        ],
        [
         1999,
         "Mika Salo",
         "Finnish",
         10.0,
         0,
         10
        ],
        [
         1999,
         "Damon Hill",
         "British",
         7.0,
         0,
         11
        ],
        [
         1999,
         "Jarno Trulli",
         "Italian",
         7.0,
         0,
         11
        ],
        [
         1999,
         "Pedro Diniz",
         "Brazilian",
         3.0,
         0,
         13
        ],
        [
         1999,
         "Alexander Wurz",
         "Austrian",
         3.0,
         0,
         13
        ],
        [
         1999,
         "Jean Alesi",
         "French",
         2.0,
         0,
         15
        ],
        [
         1999,
         "Olivier Panis",
         "French",
         2.0,
         0,
         15
        ],
        [
         1999,
         "Marc Gené",
         "Spanish",
         1.0,
         0,
         17
        ],
        [
         1999,
         "Pedro de la Rosa",
         "Spanish",
         1.0,
         0,
         17
        ],
        [
         1999,
         "Luca Badoer",
         "Italian",
         0.0,
         0,
         19
        ],
        [
         1999,
         "Ricardo Zonta",
         "Brazilian",
         0.0,
         0,
         19
        ],
        [
         1999,
         "Toranosuke Takagi",
         "Japanese",
         0.0,
         0,
         19
        ],
        [
         1999,
         "Alessandro Zanardi",
         "Italian",
         0.0,
         0,
         19
        ],
        [
         1999,
         "Stéphane Sarrazin",
         "French",
         0.0,
         0,
         19
        ],
        [
         1999,
         "Jacques Villeneuve",
         "Canadian",
         0.0,
         0,
         19
        ],
        [
         2000,
         "Michael Schumacher",
         "German",
         108.0,
         9,
         1
        ],
        [
         2000,
         "Mika Häkkinen",
         "Finnish",
         89.0,
         4,
         2
        ],
        [
         2000,
         "David Coulthard",
         "British",
         73.0,
         3,
         3
        ],
        [
         2000,
         "Rubens Barrichello",
         "Brazilian",
         62.0,
         1,
         4
        ],
        [
         2000,
         "Ralf Schumacher",
         "German",
         24.0,
         0,
         5
        ],
        [
         2000,
         "Giancarlo Fisichella",
         "Italian",
         18.0,
         0,
         6
        ],
        [
         2000,
         "Jacques Villeneuve",
         "Canadian",
         17.0,
         0,
         7
        ],
        [
         2000,
         "Jenson Button",
         "British",
         12.0,
         0,
         8
        ],
        [
         2000,
         "Heinz-Harald Frentzen",
         "German",
         11.0,
         0,
         9
        ],
        [
         2000,
         "Jarno Trulli",
         "Italian",
         6.0,
         0,
         10
        ],
        [
         2000,
         "Mika Salo",
         "Finnish",
         6.0,
         0,
         10
        ],
        [
         2000,
         "Jos Verstappen",
         "Dutch",
         5.0,
         0,
         12
        ],
        [
         2000,
         "Eddie Irvine",
         "British",
         4.0,
         0,
         13
        ],
        [
         2000,
         "Ricardo Zonta",
         "Brazilian",
         3.0,
         0,
         14
        ],
        [
         2000,
         "Alexander Wurz",
         "Austrian",
         2.0,
         0,
         15
        ],
        [
         2000,
         "Pedro de la Rosa",
         "Spanish",
         2.0,
         0,
         15
        ],
        [
         2000,
         "Johnny Herbert",
         "British",
         0.0,
         0,
         17
        ],
        [
         2000,
         "Luciano Burti",
         "Brazilian",
         0.0,
         0,
         17
        ],
        [
         2000,
         "Jean Alesi",
         "French",
         0.0,
         0,
         17
        ],
        [
         2000,
         "Nick Heidfeld",
         "German",
         0.0,
         0,
         17
        ],
        [
         2000,
         "Gastón Mazzacane",
         "Argentine",
         0.0,
         0,
         17
        ],
        [
         2000,
         "Marc Gené",
         "Spanish",
         0.0,
         0,
         17
        ],
        [
         2000,
         "Pedro Diniz",
         "Brazilian",
         0.0,
         0,
         17
        ],
        [
         2001,
         "Michael Schumacher",
         "German",
         123.0,
         9,
         1
        ],
        [
         2001,
         "David Coulthard",
         "British",
         65.0,
         2,
         2
        ],
        [
         2001,
         "Rubens Barrichello",
         "Brazilian",
         56.0,
         0,
         3
        ],
        [
         2001,
         "Ralf Schumacher",
         "German",
         49.0,
         3,
         4
        ],
        [
         2001,
         "Mika Häkkinen",
         "Finnish",
         37.0,
         2,
         5
        ],
        [
         2001,
         "Juan Pablo Montoya",
         "Colombian",
         31.0,
         1,
         6
        ],
        [
         2001,
         "Jacques Villeneuve",
         "Canadian",
         12.0,
         0,
         7
        ],
        [
         2001,
         "Jarno Trulli",
         "Italian",
         12.0,
         0,
         7
        ],
        [
         2001,
         "Nick Heidfeld",
         "German",
         12.0,
         0,
         7
        ],
        [
         2001,
         "Kimi Räikkönen",
         "Finnish",
         9.0,
         0,
         10
        ],
        [
         2001,
         "Giancarlo Fisichella",
         "Italian",
         8.0,
         0,
         11
        ],
        [
         2001,
         "Heinz-Harald Frentzen",
         "German",
         6.0,
         0,
         12
        ],
        [
         2001,
         "Eddie Irvine",
         "British",
         6.0,
         0,
         12
        ],
        [
         2001,
         "Jean Alesi",
         "French",
         5.0,
         0,
         14
        ],
        [
         2001,
         "Olivier Panis",
         "French",
         5.0,
         0,
         14
        ],
        [
         2001,
         "Pedro de la Rosa",
         "Spanish",
         3.0,
         0,
         16
        ],
        [
         2001,
         "Jenson Button",
         "British",
         2.0,
         0,
         17
        ],
        [
         2001,
         "Jos Verstappen",
         "Dutch",
         1.0,
         0,
         18
        ],
        [
         2001,
         "Tarso Marques",
         "Brazilian",
         0.0,
         0,
         19
        ],
        [
         2001,
         "Enrique Bernoldi",
         "Brazilian",
         0.0,
         0,
         19
        ],
        [
         2001,
         "Alex Yoong",
         "Malaysian",
         0.0,
         0,
         19
        ],
        [
         2001,
         "Gastón Mazzacane",
         "Argentine",
         0.0,
         0,
         19
        ],
        [
         2001,
         "Ricardo Zonta",
         "Brazilian",
         0.0,
         0,
         19
        ],
        [
         2001,
         "Fernando Alonso",
         "Spanish",
         0.0,
         0,
         19
        ],
        [
         2001,
         "Luciano Burti",
         "Brazilian",
         0.0,
         0,
         19
        ],
        [
         2001,
         "Tomáš Enge",
         "Czech",
         0.0,
         0,
         19
        ],
        [
         2002,
         "Michael Schumacher",
         "German",
         144.0,
         11,
         1
        ],
        [
         2002,
         "Rubens Barrichello",
         "Brazilian",
         77.0,
         4,
         2
        ],
        [
         2002,
         "Juan Pablo Montoya",
         "Colombian",
         50.0,
         0,
         3
        ],
        [
         2002,
         "Ralf Schumacher",
         "German",
         42.0,
         1,
         4
        ],
        [
         2002,
         "David Coulthard",
         "British",
         41.0,
         1,
         5
        ],
        [
         2002,
         "Kimi Räikkönen",
         "Finnish",
         24.0,
         0,
         6
        ],
        [
         2002,
         "Jenson Button",
         "British",
         14.0,
         0,
         7
        ],
        [
         2002,
         "Jarno Trulli",
         "Italian",
         9.0,
         0,
         8
        ],
        [
         2002,
         "Eddie Irvine",
         "British",
         8.0,
         0,
         9
        ],
        [
         2002,
         "Nick Heidfeld",
         "German",
         7.0,
         0,
         10
        ],
        [
         2002,
         "Giancarlo Fisichella",
         "Italian",
         7.0,
         0,
         10
        ],
        [
         2002,
         "Felipe Massa",
         "Brazilian",
         4.0,
         0,
         12
        ],
        [
         2002,
         "Jacques Villeneuve",
         "Canadian",
         4.0,
         0,
         12
        ],
        [
         2002,
         "Olivier Panis",
         "French",
         3.0,
         0,
         14
        ],
        [
         2002,
         "Heinz-Harald Frentzen",
         "German",
         2.0,
         0,
         15
        ],
        [
         2002,
         "Mark Webber",
         "Australian",
         2.0,
         0,
         15
        ],
        [
         2002,
         "Mika Salo",
         "Finnish",
         2.0,
         0,
         15
        ],
        [
         2002,
         "Takuma Sato",
         "Japanese",
         2.0,
         0,
         15
        ],
        [
         2002,
         "Allan McNish",
         "British",
         0.0,
         0,
         19
        ],
        [
         2002,
         "Anthony Davidson",
         "British",
         0.0,
         0,
         19
        ],
        [
         2002,
         "Enrique Bernoldi",
         "Brazilian",
         0.0,
         0,
         19
        ],
        [
         2002,
         "Alex Yoong",
         "Malaysian",
         0.0,
         0,
         19
        ],
        [
         2002,
         "Pedro de la Rosa",
         "Spanish",
         0.0,
         0,
         19
        ],
        [
         2003,
         "Michael Schumacher",
         "German",
         93.0,
         6,
         1
        ],
        [
         2003,
         "Kimi Räikkönen",
         "Finnish",
         91.0,
         1,
         2
        ],
        [
         2003,
         "Juan Pablo Montoya",
         "Colombian",
         82.0,
         2,
         3
        ],
        [
         2003,
         "Rubens Barrichello",
         "Brazilian",
         65.0,
         2,
         4
        ],
        [
         2003,
         "Ralf Schumacher",
         "German",
         58.0,
         2,
         5
        ],
        [
         2003,
         "Fernando Alonso",
         "Spanish",
         55.0,
         1,
         6
        ],
        [
         2003,
         "David Coulthard",
         "British",
         51.0,
         1,
         7
        ],
        [
         2003,
         "Jarno Trulli",
         "Italian",
         33.0,
         0,
         8
        ],
        [
         2003,
         "Jenson Button",
         "British",
         17.0,
         0,
         9
        ],
        [
         2003,
         "Mark Webber",
         "Australian",
         17.0,
         0,
         9
        ],
        [
         2003,
         "Heinz-Harald Frentzen",
         "German",
         13.0,
         0,
         11
        ],
        [
         2003,
         "Giancarlo Fisichella",
         "Italian",
         12.0,
         1,
         12
        ],
        [
         2003,
         "Cristiano da Matta",
         "Brazilian",
         10.0,
         0,
         13
        ],
        [
         2003,
         "Jacques Villeneuve",
         "Canadian",
         6.0,
         0,
         14
        ],
        [
         2003,
         "Olivier Panis",
         "French",
         6.0,
         0,
         14
        ],
        [
         2003,
         "Nick Heidfeld",
         "German",
         6.0,
         0,
         14
        ],
        [
         2003,
         "Marc Gené",
         "Spanish",
         4.0,
         0,
         17
        ],
        [
         2003,
         "Takuma Sato",
         "Japanese",
         3.0,
         0,
         18
        ],
        [
         2003,
         "Ralph Firman",
         "Irish",
         1.0,
         0,
         19
        ],
        [
         2003,
         "Justin Wilson",
         "British",
         1.0,
         0,
         19
        ],
        [
         2003,
         "Jos Verstappen",
         "Dutch",
         0.0,
         0,
         21
        ],
        [
         2003,
         "Nicolas Kiesa",
         "Danish",
         0.0,
         0,
         21
        ],
        [
         2003,
         "Antônio Pizzonia",
         "Brazilian",
         0.0,
         0,
         21
        ],
        [
         2003,
         "Zsolt Baumgartner",
         "Hungarian",
         0.0,
         0,
         21
        ],
        [
         2004,
         "Michael Schumacher",
         "German",
         148.0,
         13,
         1
        ],
        [
         2004,
         "Rubens Barrichello",
         "Brazilian",
         114.0,
         2,
         2
        ],
        [
         2004,
         "Jenson Button",
         "British",
         85.0,
         0,
         3
        ],
        [
         2004,
         "Fernando Alonso",
         "Spanish",
         59.0,
         0,
         4
        ],
        [
         2004,
         "Juan Pablo Montoya",
         "Colombian",
         58.0,
         1,
         5
        ],
        [
         2004,
         "Jarno Trulli",
         "Italian",
         46.0,
         1,
         6
        ],
        [
         2004,
         "Kimi Räikkönen",
         "Finnish",
         45.0,
         1,
         7
        ],
        [
         2004,
         "Takuma Sato",
         "Japanese",
         34.0,
         0,
         8
        ],
        [
         2004,
         "Ralf Schumacher",
         "German",
         24.0,
         0,
         9
        ],
        [
         2004,
         "David Coulthard",
         "British",
         24.0,
         0,
         9
        ],
        [
         2004,
         "Giancarlo Fisichella",
         "Italian",
         22.0,
         0,
         11
        ],
        [
         2004,
         "Felipe Massa",
         "Brazilian",
         12.0,
         0,
         12
        ],
        [
         2004,
         "Mark Webber",
         "Australian",
         7.0,
         0,
         13
        ],
        [
         2004,
         "Olivier Panis",
         "French",
         6.0,
         0,
         14
        ],
        [
         2004,
         "Antônio Pizzonia",
         "Brazilian",
         6.0,
         0,
         14
        ],
        [
         2004,
         "Cristiano da Matta",
         "Brazilian",
         3.0,
         0,
         16
        ],
        [
         2004,
         "Nick Heidfeld",
         "German",
         3.0,
         0,
         16
        ],
        [
         2004,
         "Christian Klien",
         "Austrian",
         3.0,
         0,
         16
        ],
        [
         2004,
         "Timo Glock",
         "German",
         2.0,
         0,
         19
        ],
        [
         2004,
         "Zsolt Baumgartner",
         "Hungarian",
         1.0,
         0,
         20
        ],
        [
         2004,
         "Giorgio Pantano",
         "Italian",
         0.0,
         0,
         21
        ],
        [
         2004,
         "Marc Gené",
         "Spanish",
         0.0,
         0,
         21
        ],
        [
         2004,
         "Ricardo Zonta",
         "Brazilian",
         0.0,
         0,
         21
        ],
        [
         2004,
         "Gianmaria Bruni",
         "Italian",
         0.0,
         0,
         21
        ],
        [
         2004,
         "Jacques Villeneuve",
         "Canadian",
         0.0,
         0,
         21
        ],
        [
         2005,
         "Fernando Alonso",
         "Spanish",
         133.0,
         7,
         1
        ],
        [
         2005,
         "Kimi Räikkönen",
         "Finnish",
         112.0,
         7,
         2
        ],
        [
         2005,
         "Michael Schumacher",
         "German",
         62.0,
         1,
         3
        ],
        [
         2005,
         "Juan Pablo Montoya",
         "Colombian",
         60.0,
         3,
         4
        ],
        [
         2005,
         "Giancarlo Fisichella",
         "Italian",
         58.0,
         1,
         5
        ],
        [
         2005,
         "Ralf Schumacher",
         "German",
         45.0,
         0,
         6
        ],
        [
         2005,
         "Jarno Trulli",
         "Italian",
         43.0,
         0,
         7
        ],
        [
         2005,
         "Rubens Barrichello",
         "Brazilian",
         38.0,
         0,
         8
        ],
        [
         2005,
         "Jenson Button",
         "British",
         37.0,
         0,
         9
        ],
        [
         2005,
         "Mark Webber",
         "Australian",
         36.0,
         0,
         10
        ],
        [
         2005,
         "Nick Heidfeld",
         "German",
         28.0,
         0,
         11
        ],
        [
         2005,
         "David Coulthard",
         "British",
         24.0,
         0,
         12
        ],
        [
         2005,
         "Felipe Massa",
         "Brazilian",
         11.0,
         0,
         13
        ],
        [
         2005,
         "Jacques Villeneuve",
         "Canadian",
         9.0,
         0,
         14
        ],
        [
         2005,
         "Christian Klien",
         "Austrian",
         9.0,
         0,
         14
        ],
        [
         2005,
         "Tiago Monteiro",
         "Portuguese",
         7.0,
         0,
         16
        ],
        [
         2005,
         "Alexander Wurz",
         "Austrian",
         6.0,
         0,
         17
        ],
        [
         2005,
         "Narain Karthikeyan",
         "Indian",
         5.0,
         0,
         18
        ],
        [
         2005,
         "Christijan Albers",
         "Dutch",
         4.0,
         0,
         19
        ],
        [
         2005,
         "Pedro de la Rosa",
         "Spanish",
         4.0,
         0,
         19
        ],
        [
         2005,
         "Patrick Friesacher",
         "Austrian",
         3.0,
         0,
         21
        ],
        [
         2005,
         "Antônio Pizzonia",
         "Brazilian",
         2.0,
         0,
         22
        ],
        [
         2005,
         "Vitantonio Liuzzi",
         "Italian",
         1.0,
         0,
         23
        ],
        [
         2005,
         "Takuma Sato",
         "Japanese",
         1.0,
         0,
         23
        ],
        [
         2005,
         "Ricardo Zonta",
         "Brazilian",
         0.0,
         0,
         25
        ],
        [
         2005,
         "Anthony Davidson",
         "British",
         0.0,
         0,
         25
        ],
        [
         2005,
         "Robert Doornbos",
         "Dutch",
         0.0,
         0,
         25
        ],
        [
         2006,
         "Fernando Alonso",
         "Spanish",
         134.0,
         7,
         1
        ],
        [
         2006,
         "Michael Schumacher",
         "German",
         121.0,
         7,
         2
        ],
        [
         2006,
         "Felipe Massa",
         "Brazilian",
         80.0,
         2,
         3
        ],
        [
         2006,
         "Giancarlo Fisichella",
         "Italian",
         72.0,
         1,
         4
        ],
        [
         2006,
         "Kimi Räikkönen",
         "Finnish",
         65.0,
         0,
         5
        ],
        [
         2006,
         "Jenson Button",
         "British",
         56.0,
         1,
         6
        ],
        [
         2006,
         "Rubens Barrichello",
         "Brazilian",
         30.0,
         0,
         7
        ],
        [
         2006,
         "Juan Pablo Montoya",
         "Colombian",
         26.0,
         0,
         8
        ],
        [
         2006,
         "Nick Heidfeld",
         "German",
         23.0,
         0,
         9
        ],
        [
         2006,
         "Ralf Schumacher",
         "German",
         20.0,
         0,
         10
        ],
        [
         2006,
         "Pedro de la Rosa",
         "Spanish",
         19.0,
         0,
         11
        ],
        [
         2006,
         "Jarno Trulli",
         "Italian",
         15.0,
         0,
         12
        ],
        [
         2006,
         "David Coulthard",
         "British",
         14.0,
         0,
         13
        ],
        [
         2006,
         "Jacques Villeneuve",
         "Canadian",
         7.0,
         0,
         14
        ],
        [
         2006,
         "Mark Webber",
         "Australian",
         7.0,
         0,
         14
        ],
        [
         2006,
         "Robert Kubica",
         "Polish",
         6.0,
         0,
         16
        ],
        [
         2006,
         "Nico Rosberg",
         "German",
         4.0,
         0,
         17
        ],
        [
         2006,
         "Christian Klien",
         "Austrian",
         2.0,
         0,
         18
        ],
        [
         2006,
         "Vitantonio Liuzzi",
         "Italian",
         1.0,
         0,
         19
        ],
        [
         2006,
         "Franck Montagny",
         "French",
         0.0,
         0,
         20
        ],
        [
         2006,
         "Takuma Sato",
         "Japanese",
         0.0,
         0,
         20
        ],
        [
         2006,
         "Robert Doornbos",
         "Dutch",
         0.0,
         0,
         20
        ],
        [
         2006,
         "Tiago Monteiro",
         "Portuguese",
         0.0,
         0,
         20
        ],
        [
         2006,
         "Christijan Albers",
         "Dutch",
         0.0,
         0,
         20
        ],
        [
         2006,
         "Sakon Yamamoto",
         "Japanese",
         0.0,
         0,
         20
        ],
        [
         2006,
         "Scott Speed",
         "American",
         0.0,
         0,
         20
        ],
        [
         2006,
         "Yuji Ide",
         "Japanese",
         0.0,
         0,
         20
        ],
        [
         2007,
         "Kimi Räikkönen",
         "Finnish",
         110.0,
         6,
         1
        ],
        [
         2007,
         "Lewis Hamilton",
         "British",
         109.0,
         4,
         2
        ],
        [
         2007,
         "Fernando Alonso",
         "Spanish",
         109.0,
         4,
         2
        ],
        [
         2007,
         "Felipe Massa",
         "Brazilian",
         94.0,
         3,
         4
        ],
        [
         2007,
         "Nick Heidfeld",
         "German",
         61.0,
         0,
         5
        ],
        [
         2007,
         "Robert Kubica",
         "Polish",
         39.0,
         0,
         6
        ],
        [
         2007,
         "Heikki Kovalainen",
         "Finnish",
         30.0,
         0,
         7
        ],
        [
         2007,
         "Giancarlo Fisichella",
         "Italian",
         21.0,
         0,
         8
        ],
        [
         2007,
         "Nico Rosberg",
         "German",
         20.0,
         0,
         9
        ],
        [
         2007,
         "David Coulthard",
         "British",
         14.0,
         0,
         10
        ],
        [
         2007,
         "Alexander Wurz",
         "Austrian",
         13.0,
         0,
         11
        ],
        [
         2007,
         "Mark Webber",
         "Australian",
         10.0,
         0,
         12
        ],
        [
         2007,
         "Jarno Trulli",
         "Italian",
         8.0,
         0,
         13
        ],
        [
         2007,
         "Jenson Button",
         "British",
         6.0,
         0,
         14
        ],
        [
         2007,
         "Sebastian Vettel",
         "German",
         6.0,
         0,
         14
        ],
        [
         2007,
         "Ralf Schumacher",
         "German",
         5.0,
         0,
         16
        ],
        [
         2007,
         "Takuma Sato",
         "Japanese",
         4.0,
         0,
         17
        ],
        [
         2007,
         "Vitantonio Liuzzi",
         "Italian",
         3.0,
         0,
         18
        ],
        [
         2007,
         "Adrian Sutil",
         "German",
         1.0,
         0,
         19
        ],
        [
         2007,
         "Rubens Barrichello",
         "Brazilian",
         0.0,
         0,
         20
        ],
        [
         2007,
         "Scott Speed",
         "American",
         0.0,
         0,
         20
        ],
        [
         2007,
         "Sakon Yamamoto",
         "Japanese",
         0.0,
         0,
         20
        ],
        [
         2007,
         "Christijan Albers",
         "Dutch",
         0.0,
         0,
         20
        ],
        [
         2007,
         "Kazuki Nakajima",
         "Japanese",
         0.0,
         0,
         20
        ],
        [
         2007,
         "Markus Winkelhock",
         "German",
         0.0,
         0,
         20
        ],
        [
         2007,
         "Anthony Davidson",
         "British",
         0.0,
         0,
         20
        ],
        [
         2008,
         "Lewis Hamilton",
         "British",
         98.0,
         5,
         1
        ],
        [
         2008,
         "Felipe Massa",
         "Brazilian",
         97.0,
         6,
         2
        ],
        [
         2008,
         "Kimi Räikkönen",
         "Finnish",
         75.0,
         2,
         3
        ],
        [
         2008,
         "Robert Kubica",
         "Polish",
         75.0,
         1,
         4
        ],
        [
         2008,
         "Fernando Alonso",
         "Spanish",
         61.0,
         2,
         5
        ],
        [
         2008,
         "Nick Heidfeld",
         "German",
         60.0,
         0,
         6
        ],
        [
         2008,
         "Heikki Kovalainen",
         "Finnish",
         53.0,
         1,
         7
        ],
        [
         2008,
         "Sebastian Vettel",
         "German",
         35.0,
         1,
         8
        ],
        [
         2008,
         "Jarno Trulli",
         "Italian",
         31.0,
         0,
         9
        ],
        [
         2008,
         "Timo Glock",
         "German",
         25.0,
         0,
         10
        ],
        [
         2008,
         "Mark Webber",
         "Australian",
         21.0,
         0,
         11
        ],
        [
         2008,
         "Nelson Piquet Jr.",
         "Brazilian",
         19.0,
         0,
         12
        ],
        [
         2008,
         "Nico Rosberg",
         "German",
         17.0,
         0,
         13
        ],
        [
         2008,
         "Rubens Barrichello",
         "Brazilian",
         11.0,
         0,
         14
        ],
        [
         2008,
         "Kazuki Nakajima",
         "Japanese",
         9.0,
         0,
         15
        ],
        [
         2008,
         "David Coulthard",
         "British",
         8.0,
         0,
         16
        ],
        [
         2008,
         "Sébastien Bourdais",
         "French",
         4.0,
         0,
         17
        ],
        [
         2008,
         "Jenson Button",
         "British",
         3.0,
         0,
         18
        ],
        [
         2008,
         "Anthony Davidson",
         "British",
         0.0,
         0,
         19
        ],
        [
         2008,
         "Takuma Sato",
         "Japanese",
         0.0,
         0,
         19
        ],
        [
         2008,
         "Adrian Sutil",
         "German",
         0.0,
         0,
         19
        ],
        [
         2008,
         "Giancarlo Fisichella",
         "Italian",
         0.0,
         0,
         19
        ],
        [
         2009,
         "Jenson Button",
         "British",
         95.0,
         6,
         1
        ],
        [
         2009,
         "Sebastian Vettel",
         "German",
         84.0,
         4,
         2
        ],
        [
         2009,
         "Rubens Barrichello",
         "Brazilian",
         77.0,
         2,
         3
        ],
        [
         2009,
         "Mark Webber",
         "Australian",
         69.5,
         2,
         4
        ],
        [
         2009,
         "Lewis Hamilton",
         "British",
         49.0,
         2,
         5
        ],
        [
         2009,
         "Kimi Räikkönen",
         "Finnish",
         48.0,
         1,
         6
        ],
        [
         2009,
         "Nico Rosberg",
         "German",
         34.5,
         0,
         7
        ],
        [
         2009,
         "Jarno Trulli",
         "Italian",
         32.5,
         0,
         8
        ],
        [
         2009,
         "Fernando Alonso",
         "Spanish",
         26.0,
         0,
         9
        ],
        [
         2009,
         "Timo Glock",
         "German",
         24.0,
         0,
         10
        ],
        [
         2009,
         "Felipe Massa",
         "Brazilian",
         22.0,
         0,
         11
        ],
        [
         2009,
         "Heikki Kovalainen",
         "Finnish",
         22.0,
         0,
         11
        ],
        [
         2009,
         "Nick Heidfeld",
         "German",
         19.0,
         0,
         13
        ],
        [
         2009,
         "Robert Kubica",
         "Polish",
         17.0,
         0,
         14
        ],
        [
         2009,
         "Giancarlo Fisichella",
         "Italian",
         8.0,
         0,
         15
        ],
        [
         2009,
         "Sébastien Buemi",
         "Swiss",
         6.0,
         0,
         16
        ],
        [
         2009,
         "Adrian Sutil",
         "German",
         5.0,
         0,
         17
        ],
        [
         2009,
         "Kamui Kobayashi",
         "Japanese",
         3.0,
         0,
         18
        ],
        [
         2009,
         "Sébastien Bourdais",
         "French",
         2.0,
         0,
         19
        ],
        [
         2009,
         "Kazuki Nakajima",
         "Japanese",
         0.0,
         0,
         20
        ],
        [
         2009,
         "Jaime Alguersuari",
         "Spanish",
         0.0,
         0,
         20
        ],
        [
         2009,
         "Romain Grosjean",
         "French",
         0.0,
         0,
         20
        ],
        [
         2009,
         "Nelson Piquet Jr.",
         "Brazilian",
         0.0,
         0,
         20
        ],
        [
         2009,
         "Vitantonio Liuzzi",
         "Italian",
         0.0,
         0,
         20
        ],
        [
         2009,
         "Luca Badoer",
         "Italian",
         0.0,
         0,
         20
        ],
        [
         2010,
         "Sebastian Vettel",
         "German",
         256.0,
         5,
         1
        ],
        [
         2010,
         "Fernando Alonso",
         "Spanish",
         252.0,
         5,
         2
        ],
        [
         2010,
         "Mark Webber",
         "Australian",
         242.0,
         4,
         3
        ],
        [
         2010,
         "Lewis Hamilton",
         "British",
         240.0,
         3,
         4
        ],
        [
         2010,
         "Jenson Button",
         "British",
         214.0,
         2,
         5
        ],
        [
         2010,
         "Felipe Massa",
         "Brazilian",
         144.0,
         0,
         6
        ],
        [
         2010,
         "Nico Rosberg",
         "German",
         142.0,
         0,
         7
        ],
        [
         2010,
         "Robert Kubica",
         "Polish",
         136.0,
         0,
         8
        ],
        [
         2010,
         "Michael Schumacher",
         "German",
         72.0,
         0,
         9
        ],
        [
         2010,
         "Rubens Barrichello",
         "Brazilian",
         47.0,
         0,
         10
        ],
        [
         2010,
         "Adrian Sutil",
         "German",
         47.0,
         0,
         10
        ],
        [
         2010,
         "Kamui Kobayashi",
         "Japanese",
         32.0,
         0,
         12
        ],
        [
         2010,
         "Vitaly Petrov",
         "Russian",
         27.0,
         0,
         13
        ],
        [
         2010,
         "Nico Hülkenberg",
         "German",
         22.0,
         0,
         14
        ],
        [
         2010,
         "Vitantonio Liuzzi",
         "Italian",
         21.0,
         0,
         15
        ],
        [
         2010,
         "Sébastien Buemi",
         "Swiss",
         8.0,
         0,
         16
        ],
        [
         2010,
         "Pedro de la Rosa",
         "Spanish",
         6.0,
         0,
         17
        ],
        [
         2010,
         "Nick Heidfeld",
         "German",
         6.0,
         0,
         17
        ],
        [
         2010,
         "Jaime Alguersuari",
         "Spanish",
         5.0,
         0,
         19
        ],
        [
         2010,
         "Timo Glock",
         "German",
         0.0,
         0,
         20
        ],
        [
         2010,
         "Bruno Senna",
         "Brazilian",
         0.0,
         0,
         20
        ],
        [
         2010,
         "Karun Chandhok",
         "Indian",
         0.0,
         0,
         20
        ],
        [
         2010,
         "Christian Klien",
         "Austrian",
         0.0,
         0,
         20
        ],
        [
         2010,
         "Lucas di Grassi",
         "Brazilian",
         0.0,
         0,
         20
        ],
        [
         2010,
         "Sakon Yamamoto",
         "Japanese",
         0.0,
         0,
         20
        ],
        [
         2010,
         "Jarno Trulli",
         "Italian",
         0.0,
         0,
         20
        ],
        [
         2010,
         "Heikki Kovalainen",
         "Finnish",
         0.0,
         0,
         20
        ],
        [
         2011,
         "Sebastian Vettel",
         "German",
         392.0,
         11,
         1
        ],
        [
         2011,
         "Jenson Button",
         "British",
         270.0,
         3,
         2
        ],
        [
         2011,
         "Mark Webber",
         "Australian",
         258.0,
         1,
         3
        ],
        [
         2011,
         "Fernando Alonso",
         "Spanish",
         257.0,
         1,
         4
        ],
        [
         2011,
         "Lewis Hamilton",
         "British",
         227.0,
         3,
         5
        ],
        [
         2011,
         "Felipe Massa",
         "Brazilian",
         118.0,
         0,
         6
        ],
        [
         2011,
         "Nico Rosberg",
         "German",
         89.0,
         0,
         7
        ],
        [
         2011,
         "Michael Schumacher",
         "German",
         76.0,
         0,
         8
        ],
        [
         2011,
         "Adrian Sutil",
         "German",
         42.0,
         0,
         9
        ],
        [
         2011,
         "Vitaly Petrov",
         "Russian",
         37.0,
         0,
         10
        ],
        [
         2011,
         "Nick Heidfeld",
         "German",
         34.0,
         0,
         11
        ],
        [
         2011,
         "Kamui Kobayashi",
         "Japanese",
         30.0,
         0,
         12
        ],
        [
         2011,
         "Paul di Resta",
         "British",
         27.0,
         0,
         13
        ],
        [
         2011,
         "Jaime Alguersuari",
         "Spanish",
         26.0,
         0,
         14
        ],
        [
         2011,
         "Sébastien Buemi",
         "Swiss",
         15.0,
         0,
         15
        ],
        [
         2011,
         "Sergio Pérez",
         "Mexican",
         14.0,
         0,
         16
        ],
        [
         2011,
         "Rubens Barrichello",
         "Brazilian",
         4.0,
         0,
         17
        ],
        [
         2011,
         "Bruno Senna",
         "Brazilian",
         2.0,
         0,
         18
        ],
        [
         2011,
         "Pastor Maldonado",
         "Venezuelan",
         1.0,
         0,
         19
        ],
        [
         2011,
         "Karun Chandhok",
         "Indian",
         0.0,
         0,
         20
        ],
        [
         2011,
         "Daniel Ricciardo",
         "Australian",
         0.0,
         0,
         20
        ],
        [
         2011,
         "Heikki Kovalainen",
         "Finnish",
         0.0,
         0,
         20
        ],
        [
         2011,
         "Vitantonio Liuzzi",
         "Italian",
         0.0,
         0,
         20
        ],
        [
         2011,
         "Timo Glock",
         "German",
         0.0,
         0,
         20
        ],
        [
         2011,
         "Jérôme d'Ambrosio",
         "Belgian",
         0.0,
         0,
         20
        ],
        [
         2011,
         "Narain Karthikeyan",
         "Indian",
         0.0,
         0,
         20
        ],
        [
         2011,
         "Pedro de la Rosa",
         "Spanish",
         0.0,
         0,
         20
        ],
        [
         2011,
         "Jarno Trulli",
         "Italian",
         0.0,
         0,
         20
        ],
        [
         2012,
         "Sebastian Vettel",
         "German",
         281.0,
         5,
         1
        ],
        [
         2012,
         "Fernando Alonso",
         "Spanish",
         278.0,
         3,
         2
        ],
        [
         2012,
         "Kimi Räikkönen",
         "Finnish",
         207.0,
         1,
         3
        ],
        [
         2012,
         "Lewis Hamilton",
         "British",
         190.0,
         4,
         4
        ],
        [
         2012,
         "Jenson Button",
         "British",
         188.0,
         3,
         5
        ],
        [
         2012,
         "Mark Webber",
         "Australian",
         179.0,
         2,
         6
        ],
        [
         2012,
         "Felipe Massa",
         "Brazilian",
         122.0,
         0,
         7
        ],
        [
         2012,
         "Romain Grosjean",
         "French",
         96.0,
         0,
         8
        ],
        [
         2012,
         "Nico Rosberg",
         "German",
         93.0,
         1,
         9
        ],
        [
         2012,
         "Sergio Pérez",
         "Mexican",
         66.0,
         0,
         10
        ],
        [
         2012,
         "Nico Hülkenberg",
         "German",
         63.0,
         0,
         11
        ],
        [
         2012,
         "Kamui Kobayashi",
         "Japanese",
         60.0,
         0,
         12
        ],
        [
         2012,
         "Michael Schumacher",
         "German",
         49.0,
         0,
         13
        ],
        [
         2012,
         "Paul di Resta",
         "British",
         46.0,
         0,
         14
        ],
        [
         2012,
         "Pastor Maldonado",
         "Venezuelan",
         45.0,
         1,
         15
        ],
        [
         2012,
         "Bruno Senna",
         "Brazilian",
         31.0,
         0,
         16
        ],
        [
         2012,
         "Jean-Éric Vergne",
         "French",
         16.0,
         0,
         17
        ],
        [
         2012,
         "Daniel Ricciardo",
         "Australian",
         10.0,
         0,
         18
        ],
        [
         2012,
         "Timo Glock",
         "German",
         0.0,
         0,
         19
        ],
        [
         2012,
         "Narain Karthikeyan",
         "Indian",
         0.0,
         0,
         19
        ],
        [
         2012,
         "Heikki Kovalainen",
         "Finnish",
         0.0,
         0,
         19
        ],
        [
         2012,
         "Jérôme d'Ambrosio",
         "Belgian",
         0.0,
         0,
         19
        ],
        [
         2012,
         "Vitaly Petrov",
         "Russian",
         0.0,
         0,
         19
        ],
        [
         2012,
         "Pedro de la Rosa",
         "Spanish",
         0.0,
         0,
         19
        ],
        [
         2012,
         "Charles Pic",
         "French",
         0.0,
         0,
         19
        ],
        [
         2013,
         "Sebastian Vettel",
         "German",
         397.0,
         13,
         1
        ],
        [
         2013,
         "Fernando Alonso",
         "Spanish",
         242.0,
         2,
         2
        ],
        [
         2013,
         "Mark Webber",
         "Australian",
         199.0,
         0,
         3
        ],
        [
         2013,
         "Lewis Hamilton",
         "British",
         189.0,
         1,
         4
        ],
        [
         2013,
         "Kimi Räikkönen",
         "Finnish",
         183.0,
         1,
         5
        ],
        [
         2013,
         "Nico Rosberg",
         "German",
         171.0,
         2,
         6
        ],
        [
         2013,
         "Romain Grosjean",
         "French",
         132.0,
         0,
         7
        ],
        [
         2013,
         "Felipe Massa",
         "Brazilian",
         112.0,
         0,
         8
        ],
        [
         2013,
         "Jenson Button",
         "British",
         73.0,
         0,
         9
        ],
        [
         2013,
         "Nico Hülkenberg",
         "German",
         51.0,
         0,
         10
        ],
        [
         2013,
         "Sergio Pérez",
         "Mexican",
         49.0,
         0,
         11
        ],
        [
         2013,
         "Paul di Resta",
         "British",
         48.0,
         0,
         12
        ],
        [
         2013,
         "Adrian Sutil",
         "German",
         29.0,
         0,
         13
        ],
        [
         2013,
         "Daniel Ricciardo",
         "Australian",
         20.0,
         0,
         14
        ],
        [
         2013,
         "Jean-Éric Vergne",
         "French",
         13.0,
         0,
         15
        ],
        [
         2013,
         "Esteban Gutiérrez",
         "Mexican",
         6.0,
         0,
         16
        ],
        [
         2013,
         "Valtteri Bottas",
         "Finnish",
         4.0,
         0,
         17
        ],
        [
         2013,
         "Pastor Maldonado",
         "Venezuelan",
         1.0,
         0,
         18
        ],
        [
         2013,
         "Max Chilton",
         "British",
         0.0,
         0,
         19
        ],
        [
         2013,
         "Giedo van der Garde",
         "Dutch",
         0.0,
         0,
         19
        ],
        [
         2013,
         "Jules Bianchi",
         "French",
         0.0,
         0,
         19
        ],
        [
         2013,
         "Charles Pic",
         "French",
         0.0,
         0,
         19
        ],
        [
         2013,
         "Heikki Kovalainen",
         "Finnish",
         0.0,
         0,
         19
        ],
        [
         2014,
         "Lewis Hamilton",
         "British",
         384.0,
         11,
         1
        ],
        [
         2014,
         "Nico Rosberg",
         "German",
         317.0,
         5,
         2
        ],
        [
         2014,
         "Daniel Ricciardo",
         "Australian",
         238.0,
         3,
         3
        ],
        [
         2014,
         "Valtteri Bottas",
         "Finnish",
         186.0,
         0,
         4
        ],
        [
         2014,
         "Sebastian Vettel",
         "German",
         167.0,
         0,
         5
        ],
        [
         2014,
         "Fernando Alonso",
         "Spanish",
         161.0,
         0,
         6
        ],
        [
         2014,
         "Felipe Massa",
         "Brazilian",
         134.0,
         0,
         7
        ],
        [
         2014,
         "Jenson Button",
         "British",
         126.0,
         0,
         8
        ],
        [
         2014,
         "Nico Hülkenberg",
         "German",
         96.0,
         0,
         9
        ],
        [
         2014,
         "Sergio Pérez",
         "Mexican",
         59.0,
         0,
         10
        ],
        [
         2014,
         "Kevin Magnussen",
         "Danish",
         55.0,
         0,
         11
        ],
        [
         2014,
         "Kimi Räikkönen",
         "Finnish",
         55.0,
         0,
         11
        ],
        [
         2014,
         "Jean-Éric Vergne",
         "French",
         22.0,
         0,
         13
        ],
        [
         2014,
         "Romain Grosjean",
         "French",
         8.0,
         0,
         14
        ],
        [
         2014,
         "Daniil Kvyat",
         "Russian",
         8.0,
         0,
         14
        ],
        [
         2014,
         "Jules Bianchi",
         "French",
         2.0,
         0,
         16
        ],
        [
         2014,
         "Pastor Maldonado",
         "Venezuelan",
         2.0,
         0,
         16
        ],
        [
         2014,
         "Marcus Ericsson",
         "Swedish",
         0.0,
         0,
         18
        ],
        [
         2014,
         "Esteban Gutiérrez",
         "Mexican",
         0.0,
         0,
         18
        ],
        [
         2014,
         "Kamui Kobayashi",
         "Japanese",
         0.0,
         0,
         18
        ],
        [
         2014,
         "Max Chilton",
         "British",
         0.0,
         0,
         18
        ],
        [
         2014,
         "Will Stevens",
         "British",
         0.0,
         0,
         18
        ],
        [
         2014,
         "Adrian Sutil",
         "German",
         0.0,
         0,
         18
        ],
        [
         2014,
         "André Lotterer",
         "German",
         0.0,
         0,
         18
        ],
        [
         2015,
         "Lewis Hamilton",
         "British",
         381.0,
         10,
         1
        ],
        [
         2015,
         "Nico Rosberg",
         "German",
         322.0,
         6,
         2
        ],
        [
         2015,
         "Sebastian Vettel",
         "German",
         278.0,
         3,
         3
        ],
        [
         2015,
         "Kimi Räikkönen",
         "Finnish",
         150.0,
         0,
         4
        ],
        [
         2015,
         "Valtteri Bottas",
         "Finnish",
         136.0,
         0,
         5
        ],
        [
         2015,
         "Felipe Massa",
         "Brazilian",
         121.0,
         0,
         6
        ],
        [
         2015,
         "Daniil Kvyat",
         "Russian",
         95.0,
         0,
         7
        ],
        [
         2015,
         "Daniel Ricciardo",
         "Australian",
         92.0,
         0,
         8
        ],
        [
         2015,
         "Sergio Pérez",
         "Mexican",
         78.0,
         0,
         9
        ],
        [
         2015,
         "Nico Hülkenberg",
         "German",
         58.0,
         0,
         10
        ],
        [
         2015,
         "Romain Grosjean",
         "French",
         51.0,
         0,
         11
        ],
        [
         2015,
         "Max Verstappen",
         "Dutch",
         49.0,
         0,
         12
        ],
        [
         2015,
         "Felipe Nasr",
         "Brazilian",
         27.0,
         0,
         13
        ],
        [
         2015,
         "Pastor Maldonado",
         "Venezuelan",
         27.0,
         0,
         13
        ],
        [
         2015,
         "Carlos Sainz",
         "Spanish",
         18.0,
         0,
         15
        ],
        [
         2015,
         "Jenson Button",
         "British",
         16.0,
         0,
         16
        ],
        [
         2015,
         "Fernando Alonso",
         "Spanish",
         11.0,
         0,
         17
        ],
        [
         2015,
         "Marcus Ericsson",
         "Swedish",
         9.0,
         0,
         18
        ],
        [
         2015,
         "Roberto Merhi",
         "Spanish",
         0.0,
         0,
         19
        ],
        [
         2015,
         "Will Stevens",
         "British",
         0.0,
         0,
         19
        ],
        [
         2015,
         "Alexander Rossi",
         "American",
         0.0,
         0,
         19
        ],
        [
         2015,
         "Kevin Magnussen",
         "Danish",
         0.0,
         0,
         19
        ],
        [
         2016,
         "Nico Rosberg",
         "German",
         385.0,
         9,
         1
        ],
        [
         2016,
         "Lewis Hamilton",
         "British",
         380.0,
         10,
         2
        ],
        [
         2016,
         "Daniel Ricciardo",
         "Australian",
         256.0,
         1,
         3
        ],
        [
         2016,
         "Sebastian Vettel",
         "German",
         212.0,
         0,
         4
        ],
        [
         2016,
         "Max Verstappen",
         "Dutch",
         204.0,
         1,
         5
        ],
        [
         2016,
         "Kimi Räikkönen",
         "Finnish",
         186.0,
         0,
         6
        ],
        [
         2016,
         "Sergio Pérez",
         "Mexican",
         101.0,
         0,
         7
        ],
        [
         2016,
         "Valtteri Bottas",
         "Finnish",
         85.0,
         0,
         8
        ],
        [
         2016,
         "Nico Hülkenberg",
         "German",
         72.0,
         0,
         9
        ],
        [
         2016,
         "Fernando Alonso",
         "Spanish",
         54.0,
         0,
         10
        ],
        [
         2016,
         "Felipe Massa",
         "Brazilian",
         53.0,
         0,
         11
        ],
        [
         2016,
         "Carlos Sainz",
         "Spanish",
         46.0,
         0,
         12
        ],
        [
         2016,
         "Romain Grosjean",
         "French",
         29.0,
         0,
         13
        ],
        [
         2016,
         "Daniil Kvyat",
         "Russian",
         25.0,
         0,
         14
        ],
        [
         2016,
         "Jenson Button",
         "British",
         21.0,
         0,
         15
        ],
        [
         2016,
         "Kevin Magnussen",
         "Danish",
         7.0,
         0,
         16
        ],
        [
         2016,
         "Felipe Nasr",
         "Brazilian",
         2.0,
         0,
         17
        ],
        [
         2016,
         "Stoffel Vandoorne",
         "Belgian",
         1.0,
         0,
         18
        ],
        [
         2016,
         "Pascal Wehrlein",
         "German",
         1.0,
         0,
         18
        ],
        [
         2016,
         "Jolyon Palmer",
         "British",
         1.0,
         0,
         18
        ],
        [
         2016,
         "Marcus Ericsson",
         "Swedish",
         0.0,
         0,
         21
        ],
        [
         2016,
         "Esteban Gutiérrez",
         "Mexican",
         0.0,
         0,
         21
        ],
        [
         2016,
         "Rio Haryanto",
         "Indonesian",
         0.0,
         0,
         21
        ],
        [
         2016,
         "Esteban Ocon",
         "French",
         0.0,
         0,
         21
        ],
        [
         2017,
         "Lewis Hamilton",
         "British",
         363.0,
         9,
         1
        ],
        [
         2017,
         "Sebastian Vettel",
         "German",
         317.0,
         5,
         2
        ],
        [
         2017,
         "Valtteri Bottas",
         "Finnish",
         305.0,
         3,
         3
        ],
        [
         2017,
         "Kimi Räikkönen",
         "Finnish",
         205.0,
         0,
         4
        ],
        [
         2017,
         "Daniel Ricciardo",
         "Australian",
         200.0,
         1,
         5
        ],
        [
         2017,
         "Max Verstappen",
         "Dutch",
         168.0,
         2,
         6
        ],
        [
         2017,
         "Sergio Pérez",
         "Mexican",
         100.0,
         0,
         7
        ],
        [
         2017,
         "Esteban Ocon",
         "French",
         87.0,
         0,
         8
        ],
        [
         2017,
         "Carlos Sainz",
         "Spanish",
         54.0,
         0,
         9
        ],
        [
         2017,
         "Felipe Massa",
         "Brazilian",
         43.0,
         0,
         10
        ],
        [
         2017,
         "Nico Hülkenberg",
         "German",
         43.0,
         0,
         10
        ],
        [
         2017,
         "Lance Stroll",
         "Canadian",
         40.0,
         0,
         12
        ],
        [
         2017,
         "Romain Grosjean",
         "French",
         28.0,
         0,
         13
        ],
        [
         2017,
         "Kevin Magnussen",
         "Danish",
         19.0,
         0,
         14
        ],
        [
         2017,
         "Fernando Alonso",
         "Spanish",
         17.0,
         0,
         15
        ],
        [
         2017,
         "Stoffel Vandoorne",
         "Belgian",
         13.0,
         0,
         16
        ],
        [
         2017,
         "Jolyon Palmer",
         "British",
         8.0,
         0,
         17
        ],
        [
         2017,
         "Pascal Wehrlein",
         "German",
         5.0,
         0,
         18
        ],
        [
         2017,
         "Daniil Kvyat",
         "Russian",
         5.0,
         0,
         18
        ],
        [
         2017,
         "Marcus Ericsson",
         "Swedish",
         0.0,
         0,
         20
        ],
        [
         2017,
         "Brendon Hartley",
         "New Zealander",
         0.0,
         0,
         20
        ],
        [
         2017,
         "Antonio Giovinazzi",
         "Italian",
         0.0,
         0,
         20
        ],
        [
         2017,
         "Pierre Gasly",
         "French",
         0.0,
         0,
         20
        ],
        [
         2017,
         "Jenson Button",
         "British",
         0.0,
         0,
         20
        ],
        [
         2017,
         "Paul di Resta",
         "British",
         0.0,
         0,
         20
        ],
        [
         2018,
         "Lewis Hamilton",
         "British",
         408.0,
         11,
         1
        ],
        [
         2018,
         "Sebastian Vettel",
         "German",
         320.0,
         5,
         2
        ],
        [
         2018,
         "Kimi Räikkönen",
         "Finnish",
         251.0,
         1,
         3
        ],
        [
         2018,
         "Max Verstappen",
         "Dutch",
         249.0,
         2,
         4
        ],
        [
         2018,
         "Valtteri Bottas",
         "Finnish",
         247.0,
         0,
         5
        ],
        [
         2018,
         "Daniel Ricciardo",
         "Australian",
         170.0,
         2,
         6
        ],
        [
         2018,
         "Nico Hülkenberg",
         "German",
         69.0,
         0,
         7
        ],
        [
         2018,
         "Sergio Pérez",
         "Mexican",
         62.0,
         0,
         8
        ],
        [
         2018,
         "Kevin Magnussen",
         "Danish",
         56.0,
         0,
         9
        ],
        [
         2018,
         "Carlos Sainz",
         "Spanish",
         53.0,
         0,
         10
        ],
        [
         2018,
         "Fernando Alonso",
         "Spanish",
         50.0,
         0,
         11
        ],
        [
         2018,
         "Esteban Ocon",
         "French",
         49.0,
         0,
         12
        ],
        [
         2018,
         "Charles Leclerc",
         "Monegasque",
         39.0,
         0,
         13
        ],
        [
         2018,
         "Romain Grosjean",
         "French",
         37.0,
         0,
         14
        ],
        [
         2018,
         "Pierre Gasly",
         "French",
         29.0,
         0,
         15
        ],
        [
         2018,
         "Stoffel Vandoorne",
         "Belgian",
         12.0,
         0,
         16
        ],
        [
         2018,
         "Marcus Ericsson",
         "Swedish",
         9.0,
         0,
         17
        ],
        [
         2018,
         "Lance Stroll",
         "Canadian",
         6.0,
         0,
         18
        ],
        [
         2018,
         "Brendon Hartley",
         "New Zealander",
         4.0,
         0,
         19
        ],
        [
         2018,
         "Sergey Sirotkin",
         "Russian",
         1.0,
         0,
         20
        ],
        [
         2019,
         "Lewis Hamilton",
         "British",
         413.0,
         11,
         1
        ],
        [
         2019,
         "Valtteri Bottas",
         "Finnish",
         326.0,
         4,
         2
        ],
        [
         2019,
         "Max Verstappen",
         "Dutch",
         278.0,
         3,
         3
        ],
        [
         2019,
         "Charles Leclerc",
         "Monegasque",
         264.0,
         2,
         4
        ],
        [
         2019,
         "Sebastian Vettel",
         "German",
         240.0,
         1,
         5
        ],
        [
         2019,
         "Carlos Sainz",
         "Spanish",
         96.0,
         0,
         6
        ],
        [
         2019,
         "Pierre Gasly",
         "French",
         95.0,
         0,
         7
        ],
        [
         2019,
         "Alexander Albon",
         "Thai",
         92.0,
         0,
         8
        ],
        [
         2019,
         "Daniel Ricciardo",
         "Australian",
         54.0,
         0,
         9
        ],
        [
         2019,
         "Sergio Pérez",
         "Mexican",
         52.0,
         0,
         10
        ],
        [
         2019,
         "Lando Norris",
         "British",
         49.0,
         0,
         11
        ],
        [
         2019,
         "Kimi Räikkönen",
         "Finnish",
         43.0,
         0,
         12
        ],
        [
         2019,
         "Daniil Kvyat",
         "Russian",
         37.0,
         0,
         13
        ],
        [
         2019,
         "Nico Hülkenberg",
         "German",
         37.0,
         0,
         13
        ],
        [
         2019,
         "Lance Stroll",
         "Canadian",
         21.0,
         0,
         15
        ],
        [
         2019,
         "Kevin Magnussen",
         "Danish",
         20.0,
         0,
         16
        ],
        [
         2019,
         "Antonio Giovinazzi",
         "Italian",
         14.0,
         0,
         17
        ],
        [
         2019,
         "Romain Grosjean",
         "French",
         8.0,
         0,
         18
        ],
        [
         2019,
         "Robert Kubica",
         "Polish",
         1.0,
         0,
         19
        ],
        [
         2019,
         "George Russell",
         "British",
         0.0,
         0,
         20
        ],
        [
         2020,
         "Lewis Hamilton",
         "British",
         347.0,
         11,
         1
        ],
        [
         2020,
         "Valtteri Bottas",
         "Finnish",
         223.0,
         2,
         2
        ],
        [
         2020,
         "Max Verstappen",
         "Dutch",
         214.0,
         2,
         3
        ],
        [
         2020,
         "Sergio Pérez",
         "Mexican",
         125.0,
         1,
         4
        ],
        [
         2020,
         "Daniel Ricciardo",
         "Australian",
         119.0,
         0,
         5
        ],
        [
         2020,
         "Carlos Sainz",
         "Spanish",
         105.0,
         0,
         6
        ],
        [
         2020,
         "Alexander Albon",
         "Thai",
         105.0,
         0,
         6
        ],
        [
         2020,
         "Charles Leclerc",
         "Monegasque",
         98.0,
         0,
         8
        ],
        [
         2020,
         "Lando Norris",
         "British",
         97.0,
         0,
         9
        ],
        [
         2020,
         "Pierre Gasly",
         "French",
         75.0,
         1,
         10
        ],
        [
         2020,
         "Lance Stroll",
         "Canadian",
         75.0,
         0,
         11
        ],
        [
         2020,
         "Esteban Ocon",
         "French",
         62.0,
         0,
         12
        ],
        [
         2020,
         "Sebastian Vettel",
         "German",
         33.0,
         0,
         13
        ],
        [
         2020,
         "Daniil Kvyat",
         "Russian",
         32.0,
         0,
         14
        ],
        [
         2020,
         "Nico Hülkenberg",
         "German",
         10.0,
         0,
         15
        ],
        [
         2020,
         "Antonio Giovinazzi",
         "Italian",
         4.0,
         0,
         16
        ],
        [
         2020,
         "Kimi Räikkönen",
         "Finnish",
         4.0,
         0,
         16
        ],
        [
         2020,
         "George Russell",
         "British",
         3.0,
         0,
         18
        ],
        [
         2020,
         "Romain Grosjean",
         "French",
         2.0,
         0,
         19
        ],
        [
         2020,
         "Kevin Magnussen",
         "Danish",
         1.0,
         0,
         20
        ],
        [
         2020,
         "Pietro Fittipaldi",
         "Brazilian",
         0.0,
         0,
         21
        ],
        [
         2020,
         "Nicholas Latifi",
         "Canadian",
         0.0,
         0,
         21
        ],
        [
         2020,
         "Jack Aitken",
         "British",
         0.0,
         0,
         21
        ]
       ],
       "datasetInfos": [],
       "dbfsResultPath": null,
       "isJsonSchema": true,
       "metadata": {},
       "overflow": false,
       "plotOptions": {
        "customPlotOptions": {},
        "displayType": "table",
        "pivotAggregation": null,
        "pivotColumns": null,
        "xColumns": null,
        "yColumns": null
       },
       "removedWidgets": [],
       "schema": [
        {
         "metadata": "{}",
         "name": "race_year",
         "type": "\"integer\""
        },
        {
         "metadata": "{}",
         "name": "driver_name",
         "type": "\"string\""
        },
        {
         "metadata": "{}",
         "name": "driver_nationality",
         "type": "\"string\""
        },
        {
         "metadata": "{}",
         "name": "total_points",
         "type": "\"double\""
        },
        {
         "metadata": "{}",
         "name": "wins",
         "type": "\"long\""
        },
        {
         "metadata": "{}",
         "name": "rank",
         "type": "\"integer\""
        }
       ],
       "type": "table"
      }
     },
     "output_type": "display_data"
    },
    {
     "output_type": "display_data",
     "data": {
      "text/plain": [
       "Databricks visualization. Run in Databricks to view."
      ]
     },
     "metadata": {
      "application/vnd.databricks.v1.subcommand+json": {
       "baseErrorDetails": null,
       "bindings": {},
       "collapsed": false,
       "command": "%python\n__backend_agg_display_orig = display\n__backend_agg_dfs = []\ndef __backend_agg_display_new(df):\n    __backend_agg_df_modules = [\"pandas.core.frame\", \"databricks.koalas.frame\", \"pyspark.sql.dataframe\", \"pyspark.pandas.frame\", \"pyspark.sql.connect.dataframe\"]\n    if (type(df).__module__ in __backend_agg_df_modules and type(df).__name__ == 'DataFrame') or isinstance(df, list):\n        __backend_agg_dfs.append(df)\n\ndisplay = __backend_agg_display_new\n\ndef __backend_agg_user_code_fn():\n    import base64\n    exec(base64.standard_b64decode(\"ZmluYWxfZGYuZGlzcGxheSgp\").decode())\n\ntry:\n    # run user code\n    __backend_agg_user_code_fn()\n\n    #reset display function\n    display = __backend_agg_display_orig\n\n    if len(__backend_agg_dfs) > 0:\n        # create a temp view\n        if type(__backend_agg_dfs[0]).__module__ == \"databricks.koalas.frame\":\n            # koalas dataframe\n            __backend_agg_dfs[0].to_spark().createOrReplaceTempView(\"DatabricksView7b66623\")\n        elif type(__backend_agg_dfs[0]).__module__ == \"pandas.core.frame\" or isinstance(__backend_agg_dfs[0], list):\n            # pandas dataframe\n            spark.createDataFrame(__backend_agg_dfs[0]).createOrReplaceTempView(\"DatabricksView7b66623\")\n        else:\n            __backend_agg_dfs[0].createOrReplaceTempView(\"DatabricksView7b66623\")\n        #run backend agg\n        display(spark.sql(\"\"\"WITH q AS (select * from DatabricksView7b66623) SELECT `driver_name`,AVG(`total_points`) `column_c1ea2a8a73`,`race_year` FROM q GROUP BY `driver_name`,`race_year`\"\"\"))\n    else:\n        displayHTML(\"dataframe no longer exists. If you're using dataframe.display(), use display(dataframe) instead.\")\n\n\nfinally:\n    spark.sql(\"drop view if exists DatabricksView7b66623\")\n    display = __backend_agg_display_orig\n    del __backend_agg_display_new\n    del __backend_agg_display_orig\n    del __backend_agg_dfs\n    del __backend_agg_user_code_fn\n\n",
       "commandTitle": "Yearwise Driver Standing",
       "commandType": "auto",
       "commandVersion": 0,
       "commentThread": [],
       "commentsVisible": false,
       "contentSha256Hex": null,
       "customPlotOptions": {
        "redashChart": [
         {
          "key": "type",
          "value": "CHART"
         },
         {
          "key": "options",
          "value": {
           "alignYAxesAtZero": true,
           "coefficient": 1,
           "columnConfigurationMap": {
            "series": {
             "column": "race_year",
             "id": "column_c1ea2a8a75"
            },
            "x": {
             "column": "driver_name",
             "id": "column_c1ea2a8a71"
            },
            "y": [
             {
              "column": "total_points",
              "id": "column_c1ea2a8a73",
              "transform": "AVG"
             }
            ]
           },
           "dateTimeFormat": "DD/MM/YYYY HH:mm",
           "direction": {
            "type": "counterclockwise"
           },
           "error_y": {
            "type": "data",
            "visible": true
           },
           "globalSeriesType": "pie",
           "isAggregationOn": true,
           "legend": {
            "traceorder": "normal"
           },
           "missingValuesAsZero": true,
           "numberFormat": "0,0.[00000]",
           "percentFormat": "0[.]00%",
           "series": {
            "error_y": {
             "type": "data",
             "visible": true
            },
            "stacking": null
           },
           "seriesOptions": {
            "column_c1ea2a8a73": {
             "type": "pie",
             "yAxis": 0
            }
           },
           "showDataLabels": true,
           "sizemode": "diameter",
           "sortX": true,
           "sortY": true,
           "swappedAxes": false,
           "textFormat": "",
           "useAggregationsUi": true,
           "valuesOptions": {},
           "version": 2,
           "xAxis": {
            "labels": {
             "enabled": true
            },
            "type": "-"
           },
           "yAxis": [
            {
             "type": "-"
            },
            {
             "opposite": true,
             "type": "-"
            }
           ]
          }
         }
        ]
       },
       "datasetPreviewNameToCmdIdMap": {},
       "diffDeletes": [],
       "diffInserts": [],
       "displayType": "redashChart",
       "error": null,
       "errorDetails": null,
       "errorSummary": null,
       "errorTraceType": null,
       "finishTime": 0,
       "globalVars": {},
       "guid": "",
       "height": "auto",
       "hideCommandCode": false,
       "hideCommandResult": false,
       "iPythonMetadata": null,
       "inputWidgets": {},
       "isLockedInExamMode": false,
       "latestUser": "a user",
       "latestUserId": null,
       "listResultMetadata": null,
       "metadata": {
        "byteLimit": 2048000,
        "rowLimit": 10000
       },
       "nuid": "12d37a4b-2842-4e00-89b6-3e21067da581",
       "origId": 0,
       "parentHierarchy": [],
       "pivotAggregation": null,
       "pivotColumns": null,
       "position": 10.0,
       "resultDbfsErrorMessage": null,
       "resultDbfsStatus": "INLINED_IN_TREE",
       "results": null,
       "showCommandTitle": false,
       "startTime": 0,
       "state": "finished",
       "streamStates": {},
       "subcommandOptions": {
        "queryPlan": {
         "groups": [
          {
           "column": "driver_name",
           "type": "column"
          },
          {
           "column": "race_year",
           "type": "column"
          }
         ],
         "selects": [
          {
           "column": "driver_name",
           "type": "column"
          },
          {
           "alias": "column_c1ea2a8a73",
           "args": [
            {
             "column": "total_points",
             "type": "column"
            }
           ],
           "function": "AVG",
           "type": "function"
          },
          {
           "column": "race_year",
           "type": "column"
          }
         ]
        }
       },
       "submitTime": 0,
       "subtype": "tableResultSubCmd.visualization",
       "tableResultIndex": 0,
       "useConsistentColors": false,
       "version": "CommandV1",
       "width": "auto",
       "workflows": [],
       "xColumns": null,
       "yColumns": null
      }
     },
     "output_type": "display_data"
    }
   ],
   "source": [
    "final_df.display()"
   ]
  },
  {
   "cell_type": "code",
   "execution_count": 0,
   "metadata": {
    "application/vnd.databricks.v1+cell": {
     "cellMetadata": {
      "byteLimit": 2048000,
      "rowLimit": 10000
     },
     "inputWidgets": {},
     "nuid": "6cd2893c-6bc2-4d5c-95cc-f6ad9fbb30d3",
     "showTitle": false,
     "title": ""
    }
   },
   "outputs": [],
   "source": [
    "final_df.createTempView(\"trial\")"
   ]
  },
  {
   "cell_type": "code",
   "execution_count": 0,
   "metadata": {
    "application/vnd.databricks.v1+cell": {
     "cellMetadata": {
      "byteLimit": 2048000,
      "rowLimit": 10000
     },
     "inputWidgets": {},
     "nuid": "16018f1d-5927-4644-b669-a262f2f3d73d",
     "showTitle": false,
     "title": ""
    }
   },
   "outputs": [
    {
     "output_type": "stream",
     "name": "stdout",
     "output_type": "stream",
     "text": [
      "+---------+------------------+------------------+------------+----+----+\n|race_year|       driver_name|driver_nationality|total_points|wins|rank|\n+---------+------------------+------------------+------------+----+----+\n|     2020|    Lewis Hamilton|           British|       347.0|  11|   1|\n|     2020|   Valtteri Bottas|           Finnish|       223.0|   2|   2|\n|     2020|    Max Verstappen|             Dutch|       214.0|   2|   3|\n|     2020|      Sergio Pérez|           Mexican|       125.0|   1|   4|\n|     2020|  Daniel Ricciardo|        Australian|       119.0|   0|   5|\n|     2020|      Carlos Sainz|           Spanish|       105.0|   0|   6|\n|     2020|   Alexander Albon|              Thai|       105.0|   0|   6|\n|     2020|   Charles Leclerc|        Monegasque|        98.0|   0|   8|\n|     2020|      Lando Norris|           British|        97.0|   0|   9|\n|     2020|      Pierre Gasly|            French|        75.0|   1|  10|\n|     2020|      Lance Stroll|          Canadian|        75.0|   0|  11|\n|     2020|      Esteban Ocon|            French|        62.0|   0|  12|\n|     2020|  Sebastian Vettel|            German|        33.0|   0|  13|\n|     2020|      Daniil Kvyat|           Russian|        32.0|   0|  14|\n|     2020|   Nico Hülkenberg|            German|        10.0|   0|  15|\n|     2020|Antonio Giovinazzi|           Italian|         4.0|   0|  16|\n|     2020|    Kimi Räikkönen|           Finnish|         4.0|   0|  16|\n|     2020|    George Russell|           British|         3.0|   0|  18|\n|     2020|   Romain Grosjean|            French|         2.0|   0|  19|\n|     2020|   Kevin Magnussen|            Danish|         1.0|   0|  20|\n+---------+------------------+------------------+------------+----+----+\nonly showing top 20 rows\n\n"
     ]
    }
   ],
   "source": [
    "spark.sql(\"select* FROM trial WHERE race_year = 2020\").show()"
   ]
  },
  {
   "cell_type": "code",
   "execution_count": 0,
   "metadata": {
    "application/vnd.databricks.v1+cell": {
     "cellMetadata": {
      "byteLimit": 2048000,
      "rowLimit": 10000
     },
     "inputWidgets": {},
     "nuid": "b66770ef-50d9-4d74-8e09-00efc9261e65",
     "showTitle": false,
     "title": ""
    }
   },
   "outputs": [
    {
     "output_type": "display_data",
     "data": {
      "text/html": [
       "<style scoped>\n",
       "  .table-result-container {\n",
       "    max-height: 300px;\n",
       "    overflow: auto;\n",
       "  }\n",
       "  table, th, td {\n",
       "    border: 1px solid black;\n",
       "    border-collapse: collapse;\n",
       "  }\n",
       "  th, td {\n",
       "    padding: 5px;\n",
       "  }\n",
       "  th {\n",
       "    text-align: left;\n",
       "  }\n",
       "</style><div class='table-result-container'><table class='table-result'><thead style='background-color: white'><tr><th>race_year</th><th>driver_name</th><th>driver_nationality</th><th>total_points</th><th>wins</th><th>rank</th></tr></thead><tbody><tr><td>2020</td><td>Lewis Hamilton</td><td>British</td><td>347.0</td><td>11</td><td>1</td></tr><tr><td>2020</td><td>Valtteri Bottas</td><td>Finnish</td><td>223.0</td><td>2</td><td>2</td></tr><tr><td>2020</td><td>Max Verstappen</td><td>Dutch</td><td>214.0</td><td>2</td><td>3</td></tr><tr><td>2020</td><td>Sergio Pérez</td><td>Mexican</td><td>125.0</td><td>1</td><td>4</td></tr><tr><td>2020</td><td>Daniel Ricciardo</td><td>Australian</td><td>119.0</td><td>0</td><td>5</td></tr><tr><td>2020</td><td>Carlos Sainz</td><td>Spanish</td><td>105.0</td><td>0</td><td>6</td></tr><tr><td>2020</td><td>Alexander Albon</td><td>Thai</td><td>105.0</td><td>0</td><td>6</td></tr><tr><td>2020</td><td>Charles Leclerc</td><td>Monegasque</td><td>98.0</td><td>0</td><td>8</td></tr><tr><td>2020</td><td>Lando Norris</td><td>British</td><td>97.0</td><td>0</td><td>9</td></tr><tr><td>2020</td><td>Pierre Gasly</td><td>French</td><td>75.0</td><td>1</td><td>10</td></tr><tr><td>2020</td><td>Lance Stroll</td><td>Canadian</td><td>75.0</td><td>0</td><td>11</td></tr><tr><td>2020</td><td>Esteban Ocon</td><td>French</td><td>62.0</td><td>0</td><td>12</td></tr><tr><td>2020</td><td>Sebastian Vettel</td><td>German</td><td>33.0</td><td>0</td><td>13</td></tr><tr><td>2020</td><td>Daniil Kvyat</td><td>Russian</td><td>32.0</td><td>0</td><td>14</td></tr><tr><td>2020</td><td>Nico Hülkenberg</td><td>German</td><td>10.0</td><td>0</td><td>15</td></tr><tr><td>2020</td><td>Antonio Giovinazzi</td><td>Italian</td><td>4.0</td><td>0</td><td>16</td></tr><tr><td>2020</td><td>Kimi Räikkönen</td><td>Finnish</td><td>4.0</td><td>0</td><td>16</td></tr><tr><td>2020</td><td>George Russell</td><td>British</td><td>3.0</td><td>0</td><td>18</td></tr><tr><td>2020</td><td>Romain Grosjean</td><td>French</td><td>2.0</td><td>0</td><td>19</td></tr><tr><td>2020</td><td>Kevin Magnussen</td><td>Danish</td><td>1.0</td><td>0</td><td>20</td></tr><tr><td>2020</td><td>Pietro Fittipaldi</td><td>Brazilian</td><td>0.0</td><td>0</td><td>21</td></tr><tr><td>2020</td><td>Nicholas Latifi</td><td>Canadian</td><td>0.0</td><td>0</td><td>21</td></tr><tr><td>2020</td><td>Jack Aitken</td><td>British</td><td>0.0</td><td>0</td><td>21</td></tr></tbody></table></div>"
      ]
     },
     "metadata": {
      "application/vnd.databricks.v1+output": {
       "addedWidgets": {},
       "aggData": [],
       "aggError": "",
       "aggOverflow": false,
       "aggSchema": [],
       "aggSeriesLimitReached": false,
       "aggType": "",
       "arguments": {},
       "columnCustomDisplayInfos": {},
       "data": [
        [
         2020,
         "Lewis Hamilton",
         "British",
         347.0,
         11,
         1
        ],
        [
         2020,
         "Valtteri Bottas",
         "Finnish",
         223.0,
         2,
         2
        ],
        [
         2020,
         "Max Verstappen",
         "Dutch",
         214.0,
         2,
         3
        ],
        [
         2020,
         "Sergio Pérez",
         "Mexican",
         125.0,
         1,
         4
        ],
        [
         2020,
         "Daniel Ricciardo",
         "Australian",
         119.0,
         0,
         5
        ],
        [
         2020,
         "Carlos Sainz",
         "Spanish",
         105.0,
         0,
         6
        ],
        [
         2020,
         "Alexander Albon",
         "Thai",
         105.0,
         0,
         6
        ],
        [
         2020,
         "Charles Leclerc",
         "Monegasque",
         98.0,
         0,
         8
        ],
        [
         2020,
         "Lando Norris",
         "British",
         97.0,
         0,
         9
        ],
        [
         2020,
         "Pierre Gasly",
         "French",
         75.0,
         1,
         10
        ],
        [
         2020,
         "Lance Stroll",
         "Canadian",
         75.0,
         0,
         11
        ],
        [
         2020,
         "Esteban Ocon",
         "French",
         62.0,
         0,
         12
        ],
        [
         2020,
         "Sebastian Vettel",
         "German",
         33.0,
         0,
         13
        ],
        [
         2020,
         "Daniil Kvyat",
         "Russian",
         32.0,
         0,
         14
        ],
        [
         2020,
         "Nico Hülkenberg",
         "German",
         10.0,
         0,
         15
        ],
        [
         2020,
         "Antonio Giovinazzi",
         "Italian",
         4.0,
         0,
         16
        ],
        [
         2020,
         "Kimi Räikkönen",
         "Finnish",
         4.0,
         0,
         16
        ],
        [
         2020,
         "George Russell",
         "British",
         3.0,
         0,
         18
        ],
        [
         2020,
         "Romain Grosjean",
         "French",
         2.0,
         0,
         19
        ],
        [
         2020,
         "Kevin Magnussen",
         "Danish",
         1.0,
         0,
         20
        ],
        [
         2020,
         "Pietro Fittipaldi",
         "Brazilian",
         0.0,
         0,
         21
        ],
        [
         2020,
         "Nicholas Latifi",
         "Canadian",
         0.0,
         0,
         21
        ],
        [
         2020,
         "Jack Aitken",
         "British",
         0.0,
         0,
         21
        ]
       ],
       "datasetInfos": [],
       "dbfsResultPath": null,
       "isJsonSchema": true,
       "metadata": {},
       "overflow": false,
       "plotOptions": {
        "customPlotOptions": {},
        "displayType": "table",
        "pivotAggregation": null,
        "pivotColumns": null,
        "xColumns": null,
        "yColumns": null
       },
       "removedWidgets": [],
       "schema": [
        {
         "metadata": "{}",
         "name": "race_year",
         "type": "\"integer\""
        },
        {
         "metadata": "{}",
         "name": "driver_name",
         "type": "\"string\""
        },
        {
         "metadata": "{}",
         "name": "driver_nationality",
         "type": "\"string\""
        },
        {
         "metadata": "{}",
         "name": "total_points",
         "type": "\"double\""
        },
        {
         "metadata": "{}",
         "name": "wins",
         "type": "\"long\""
        },
        {
         "metadata": "{}",
         "name": "rank",
         "type": "\"integer\""
        }
       ],
       "type": "table"
      }
     },
     "output_type": "display_data"
    },
    {
     "output_type": "display_data",
     "data": {
      "text/plain": [
       "Databricks visualization. Run in Databricks to view."
      ]
     },
     "metadata": {
      "application/vnd.databricks.v1.subcommand+json": {
       "baseErrorDetails": null,
       "bindings": {},
       "collapsed": false,
       "command": "%python\n__backend_agg_display_orig = display\n__backend_agg_dfs = []\ndef __backend_agg_display_new(df):\n    __backend_agg_df_modules = [\"pandas.core.frame\", \"databricks.koalas.frame\", \"pyspark.sql.dataframe\", \"pyspark.pandas.frame\", \"pyspark.sql.connect.dataframe\"]\n    if (type(df).__module__ in __backend_agg_df_modules and type(df).__name__ == 'DataFrame') or isinstance(df, list):\n        __backend_agg_dfs.append(df)\n\ndisplay = __backend_agg_display_new\n\ndef __backend_agg_user_code_fn():\n    import base64\n    exec(base64.standard_b64decode(\"c3Bhcmsuc3FsKCJzZWxlY3QqIEZST00gdHJpYWwgV0hFUkUgcmFjZV95ZWFyID0gMjAyMCIpLmRpc3BsYXkoKQ==\").decode())\n\ntry:\n    # run user code\n    __backend_agg_user_code_fn()\n\n    #reset display function\n    display = __backend_agg_display_orig\n\n    if len(__backend_agg_dfs) > 0:\n        # create a temp view\n        if type(__backend_agg_dfs[0]).__module__ == \"databricks.koalas.frame\":\n            # koalas dataframe\n            __backend_agg_dfs[0].to_spark().createOrReplaceTempView(\"DatabricksView9806f0d\")\n        elif type(__backend_agg_dfs[0]).__module__ == \"pandas.core.frame\" or isinstance(__backend_agg_dfs[0], list):\n            # pandas dataframe\n            spark.createDataFrame(__backend_agg_dfs[0]).createOrReplaceTempView(\"DatabricksView9806f0d\")\n        else:\n            __backend_agg_dfs[0].createOrReplaceTempView(\"DatabricksView9806f0d\")\n        #run backend agg\n        display(spark.sql(\"\"\"WITH q AS (select * from DatabricksView9806f0d) SELECT `driver_name`,AVG(`total_points`) `column_c1ea2a8a78` FROM q GROUP BY `driver_name`\"\"\"))\n    else:\n        displayHTML(\"dataframe no longer exists. If you're using dataframe.display(), use display(dataframe) instead.\")\n\n\nfinally:\n    spark.sql(\"drop view if exists DatabricksView9806f0d\")\n    display = __backend_agg_display_orig\n    del __backend_agg_display_new\n    del __backend_agg_display_orig\n    del __backend_agg_dfs\n    del __backend_agg_user_code_fn\n\n",
       "commandTitle": "Dominant Drivers in 2020",
       "commandType": "auto",
       "commandVersion": 0,
       "commentThread": [],
       "commentsVisible": false,
       "contentSha256Hex": null,
       "customPlotOptions": {
        "redashChart": [
         {
          "key": "type",
          "value": "CHART"
         },
         {
          "key": "options",
          "value": {
           "alignYAxesAtZero": true,
           "coefficient": 1,
           "columnConfigurationMap": {
            "x": {
             "column": "driver_name",
             "id": "column_c1ea2a8a76"
            },
            "y": [
             {
              "column": "total_points",
              "id": "column_c1ea2a8a78",
              "transform": "AVG"
             }
            ]
           },
           "dateTimeFormat": "DD/MM/YYYY HH:mm",
           "direction": {
            "type": "clockwise"
           },
           "error_y": {
            "type": "data",
            "visible": true
           },
           "globalSeriesType": "pie",
           "isAggregationOn": true,
           "legend": {
            "traceorder": "normal"
           },
           "missingValuesAsZero": false,
           "numberFormat": "0,0.[00000]",
           "percentFormat": "0[.]00%",
           "series": {
            "error_y": {
             "type": "data",
             "visible": true
            },
            "stacking": null
           },
           "seriesOptions": {
            "column_c1ea2a8a78": {
             "type": "pie",
             "yAxis": 0
            }
           },
           "showDataLabels": true,
           "sizemode": "diameter",
           "sortX": true,
           "sortY": true,
           "swappedAxes": false,
           "textFormat": "",
           "useAggregationsUi": true,
           "valuesOptions": {},
           "version": 2,
           "xAxis": {
            "labels": {
             "enabled": true
            },
            "type": "-"
           },
           "yAxis": [
            {
             "type": "-"
            },
            {
             "opposite": true,
             "type": "-"
            }
           ]
          }
         }
        ]
       },
       "datasetPreviewNameToCmdIdMap": {},
       "diffDeletes": [],
       "diffInserts": [],
       "displayType": "redashChart",
       "error": null,
       "errorDetails": null,
       "errorSummary": null,
       "errorTraceType": null,
       "finishTime": 0,
       "globalVars": {},
       "guid": "",
       "height": "auto",
       "hideCommandCode": false,
       "hideCommandResult": false,
       "iPythonMetadata": null,
       "inputWidgets": {},
       "isLockedInExamMode": false,
       "latestUser": "a user",
       "latestUserId": null,
       "listResultMetadata": null,
       "metadata": {
        "byteLimit": 2048000,
        "rowLimit": 10000
       },
       "nuid": "8c98d43d-df2e-4095-ab08-1033a74535a2",
       "origId": 0,
       "parentHierarchy": [],
       "pivotAggregation": null,
       "pivotColumns": null,
       "position": 12.5,
       "resultDbfsErrorMessage": null,
       "resultDbfsStatus": "INLINED_IN_TREE",
       "results": null,
       "showCommandTitle": false,
       "startTime": 0,
       "state": "finished",
       "streamStates": {},
       "subcommandOptions": {
        "queryPlan": {
         "groups": [
          {
           "column": "driver_name",
           "type": "column"
          }
         ],
         "selects": [
          {
           "column": "driver_name",
           "type": "column"
          },
          {
           "alias": "column_c1ea2a8a78",
           "args": [
            {
             "column": "total_points",
             "type": "column"
            }
           ],
           "function": "AVG",
           "type": "function"
          }
         ]
        }
       },
       "submitTime": 0,
       "subtype": "tableResultSubCmd.visualization",
       "tableResultIndex": 0,
       "useConsistentColors": false,
       "version": "CommandV1",
       "width": "auto",
       "workflows": [],
       "xColumns": null,
       "yColumns": null
      }
     },
     "output_type": "display_data"
    }
   ],
   "source": [
    "spark.sql(\"select* FROM trial WHERE race_year = 2020\").display()"
   ]
  },
  {
   "cell_type": "code",
   "execution_count": 0,
   "metadata": {
    "application/vnd.databricks.v1+cell": {
     "cellMetadata": {
      "byteLimit": 2048000,
      "rowLimit": 10000
     },
     "inputWidgets": {},
     "nuid": "1340e7a3-4f55-42af-955f-a160aa4b98b5",
     "showTitle": false,
     "title": ""
    }
   },
   "outputs": [],
   "source": []
  }
 ],
 "metadata": {
  "application/vnd.databricks.v1+notebook": {
   "dashboards": [],
   "language": "python",
   "notebookMetadata": {
    "pythonIndentUnit": 4
   },
   "notebookName": "driver standing",
   "widgets": {}
  }
 },
 "nbformat": 4,
 "nbformat_minor": 0
}
