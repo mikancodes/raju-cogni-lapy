{
 "cells": [
  {
   "cell_type": "code",
   "execution_count": 0,
   "metadata": {
    "application/vnd.databricks.v1+cell": {
     "cellMetadata": {
      "byteLimit": 2048000,
      "rowLimit": 10000
     },
     "inputWidgets": {},
     "nuid": "db56ddf4-679e-41b6-b72a-6fa8ab6be033",
     "showTitle": false,
     "title": ""
    }
   },
   "outputs": [],
   "source": [
    "#Step 1 - Read the CSV file using the spark dataframe reader API"
   ]
  },
  {
   "cell_type": "code",
   "execution_count": 0,
   "metadata": {
    "application/vnd.databricks.v1+cell": {
     "cellMetadata": {
      "byteLimit": 2048000,
      "rowLimit": 10000
     },
     "inputWidgets": {},
     "nuid": "bc1fc468-10f1-4be2-ad21-6222a35733e6",
     "showTitle": false,
     "title": ""
    }
   },
   "outputs": [],
   "source": [
    "from pyspark.sql.types import StructType, StructField, IntegerType, StringType, DateType\n",
    "from pyspark.sql.functions import current_timestamp "
   ]
  },
  {
   "cell_type": "code",
   "execution_count": 0,
   "metadata": {
    "application/vnd.databricks.v1+cell": {
     "cellMetadata": {
      "byteLimit": 2048000,
      "rowLimit": 10000
     },
     "inputWidgets": {},
     "nuid": "c4f32e14-cb2f-42cb-8473-e27dad014223",
     "showTitle": false,
     "title": ""
    }
   },
   "outputs": [],
   "source": [
    "\n",
    "races_schema = StructType(fields=[StructField(\"raceId\", IntegerType(), False),\n",
    "                                  StructField(\"year\", IntegerType(), True),\n",
    "                                  StructField(\"round\", IntegerType(), True),\n",
    "                                  StructField(\"circuitId\", IntegerType(), True),\n",
    "                                  StructField(\"name\", StringType(), True),\n",
    "                                  StructField(\"date\", DateType(), True),\n",
    "                                  StructField(\"time\", StringType(), True),\n",
    "                                  StructField(\"url\", StringType(), True) \n",
    "])"
   ]
  },
  {
   "cell_type": "code",
   "execution_count": 0,
   "metadata": {
    "application/vnd.databricks.v1+cell": {
     "cellMetadata": {
      "byteLimit": 2048000,
      "rowLimit": 10000
     },
     "inputWidgets": {},
     "nuid": "d22bc397-2261-4a40-ac47-86a762a5a5e9",
     "showTitle": false,
     "title": ""
    }
   },
   "outputs": [],
   "source": [
    "races_df = spark.read.csv(\"dbfs:/FileStore/races.csv\", schema =races_schema,header=True )"
   ]
  },
  {
   "cell_type": "code",
   "execution_count": 0,
   "metadata": {
    "application/vnd.databricks.v1+cell": {
     "cellMetadata": {
      "byteLimit": 2048000,
      "rowLimit": 10000
     },
     "inputWidgets": {},
     "nuid": "0fe9fa6a-1ad4-43e8-8a4f-decb02bd12d2",
     "showTitle": false,
     "title": ""
    }
   },
   "outputs": [],
   "source": [
    "#Step 2 - Add ingestion date and race_timestamp to the dataframe"
   ]
  },
  {
   "cell_type": "code",
   "execution_count": 0,
   "metadata": {
    "application/vnd.databricks.v1+cell": {
     "cellMetadata": {
      "byteLimit": 2048000,
      "rowLimit": 10000
     },
     "inputWidgets": {},
     "nuid": "d079d803-16e8-4287-af1c-7229b120d3e2",
     "showTitle": false,
     "title": ""
    }
   },
   "outputs": [],
   "source": [
    "from pyspark.sql.functions import to_timestamp, concat, col, lit"
   ]
  },
  {
   "cell_type": "code",
   "execution_count": 0,
   "metadata": {
    "application/vnd.databricks.v1+cell": {
     "cellMetadata": {
      "byteLimit": 2048000,
      "rowLimit": 10000
     },
     "inputWidgets": {},
     "nuid": "a7ab2a2b-6987-47e4-9a3a-6a793429343a",
     "showTitle": false,
     "title": ""
    }
   },
   "outputs": [],
   "source": [
    "races_with_timestamp_df = races_df.withColumn(\"race_timestamp\", to_timestamp(concat(col('date'), lit(' '), col('time')), 'yyyy-MM-dd HH:mm:ss')).withColumn(\"ingestion_date\",current_timestamp())"
   ]
  },
  {
   "cell_type": "code",
   "execution_count": 0,
   "metadata": {
    "application/vnd.databricks.v1+cell": {
     "cellMetadata": {
      "byteLimit": 2048000,
      "rowLimit": 10000
     },
     "inputWidgets": {},
     "nuid": "1bb2d5f2-87ca-4532-933e-c6bd87c2721a",
     "showTitle": false,
     "title": ""
    }
   },
   "outputs": [],
   "source": [
    "#Step 3 - Select only the columns required & rename as required"
   ]
  },
  {
   "cell_type": "code",
   "execution_count": 0,
   "metadata": {
    "application/vnd.databricks.v1+cell": {
     "cellMetadata": {
      "byteLimit": 2048000,
      "rowLimit": 10000
     },
     "inputWidgets": {},
     "nuid": "42db8889-2df0-4223-bf42-d68d8ab6e4fb",
     "showTitle": false,
     "title": ""
    }
   },
   "outputs": [],
   "source": [
    "races_selected_df = races_with_timestamp_df .select(col('raceId').alias('race_id'), col('year').alias('race_year'), \n",
    "                                                   col('round'), col('circuitId').alias('circuit_id'),col('name'), col('ingestion_date'), col('race_timestamp'))"
   ]
  },
  {
   "cell_type": "code",
   "execution_count": 0,
   "metadata": {
    "application/vnd.databricks.v1+cell": {
     "cellMetadata": {
      "byteLimit": 2048000,
      "rowLimit": 10000
     },
     "inputWidgets": {},
     "nuid": "d703c041-5ca9-4b67-9781-a47d7c51f5a6",
     "showTitle": false,
     "title": ""
    }
   },
   "outputs": [],
   "source": [
    "#Write the output to processed container in parquet format"
   ]
  },
  {
   "cell_type": "code",
   "execution_count": 0,
   "metadata": {
    "application/vnd.databricks.v1+cell": {
     "cellMetadata": {
      "byteLimit": 2048000,
      "rowLimit": 10000
     },
     "inputWidgets": {},
     "nuid": "2be812b8-fb4d-4e7f-80a1-4a5938deb53d",
     "showTitle": false,
     "title": ""
    }
   },
   "outputs": [],
   "source": [
    "races_selected_df.write.mode(\"overwrite\").parquet(\"dbfs:/FileStore/Formula1/processed/f1_processed_races\") "
   ]
  },
  {
   "cell_type": "code",
   "execution_count": 0,
   "metadata": {
    "application/vnd.databricks.v1+cell": {
     "cellMetadata": {
      "byteLimit": 2048000,
      "rowLimit": 10000
     },
     "inputWidgets": {},
     "nuid": "be27cf03-50d1-4dbb-ac74-58333e130e54",
     "showTitle": false,
     "title": ""
    }
   },
   "outputs": [
    {
     "output_type": "stream",
     "name": "stdout",
     "output_type": "stream",
     "text": [
      "+-------+---------+-----+----------+---------------------+-----------------------+-------------------+\n|race_id|race_year|round|circuit_id|name                 |ingestion_date         |race_timestamp     |\n+-------+---------+-----+----------+---------------------+-----------------------+-------------------+\n|1      |2009     |1    |1         |Australian Grand Prix|2024-04-23 04:06:46.352|2009-03-29 06:00:00|\n|2      |2009     |2    |2         |Malaysian Grand Prix |2024-04-23 04:06:46.352|2009-04-05 09:00:00|\n|3      |2009     |3    |17        |Chinese Grand Prix   |2024-04-23 04:06:46.352|2009-04-19 07:00:00|\n|4      |2009     |4    |3         |Bahrain Grand Prix   |2024-04-23 04:06:46.352|2009-04-26 12:00:00|\n|5      |2009     |5    |4         |Spanish Grand Prix   |2024-04-23 04:06:46.352|2009-05-10 12:00:00|\n|6      |2009     |6    |6         |Monaco Grand Prix    |2024-04-23 04:06:46.352|2009-05-24 12:00:00|\n|7      |2009     |7    |5         |Turkish Grand Prix   |2024-04-23 04:06:46.352|2009-06-07 12:00:00|\n|8      |2009     |8    |9         |British Grand Prix   |2024-04-23 04:06:46.352|2009-06-21 12:00:00|\n|9      |2009     |9    |20        |German Grand Prix    |2024-04-23 04:06:46.352|2009-07-12 12:00:00|\n|10     |2009     |10   |11        |Hungarian Grand Prix |2024-04-23 04:06:46.352|2009-07-26 12:00:00|\n|11     |2009     |11   |12        |European Grand Prix  |2024-04-23 04:06:46.352|2009-08-23 12:00:00|\n|12     |2009     |12   |13        |Belgian Grand Prix   |2024-04-23 04:06:46.352|2009-08-30 12:00:00|\n|13     |2009     |13   |14        |Italian Grand Prix   |2024-04-23 04:06:46.352|2009-09-13 12:00:00|\n|14     |2009     |14   |15        |Singapore Grand Prix |2024-04-23 04:06:46.352|2009-09-27 12:00:00|\n|15     |2009     |15   |22        |Japanese Grand Prix  |2024-04-23 04:06:46.352|2009-10-04 05:00:00|\n|16     |2009     |16   |18        |Brazilian Grand Prix |2024-04-23 04:06:46.352|2009-10-18 16:00:00|\n|17     |2009     |17   |24        |Abu Dhabi Grand Prix |2024-04-23 04:06:46.352|2009-11-01 11:00:00|\n|18     |2008     |1    |1         |Australian Grand Prix|2024-04-23 04:06:46.352|2008-03-16 04:30:00|\n|19     |2008     |2    |2         |Malaysian Grand Prix |2024-04-23 04:06:46.352|2008-03-23 07:00:00|\n|20     |2008     |3    |3         |Bahrain Grand Prix   |2024-04-23 04:06:46.352|2008-04-06 11:30:00|\n+-------+---------+-----+----------+---------------------+-----------------------+-------------------+\nonly showing top 20 rows\n\n"
     ]
    }
   ],
   "source": [
    "races_selected_df.show(truncate=False)"
   ]
  },
  {
   "cell_type": "code",
   "execution_count": 0,
   "metadata": {
    "application/vnd.databricks.v1+cell": {
     "cellMetadata": {},
     "inputWidgets": {},
     "nuid": "b03b8a0f-c2c1-47d4-a370-5c1f131824e6",
     "showTitle": false,
     "title": ""
    }
   },
   "outputs": [],
   "source": []
  }
 ],
 "metadata": {
  "application/vnd.databricks.v1+notebook": {
   "dashboards": [],
   "language": "python",
   "notebookMetadata": {
    "pythonIndentUnit": 4
   },
   "notebookName": "RACES_INGEST",
   "widgets": {}
  }
 },
 "nbformat": 4,
 "nbformat_minor": 0
}
