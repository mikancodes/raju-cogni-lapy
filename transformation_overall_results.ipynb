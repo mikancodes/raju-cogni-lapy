{
 "cells": [
  {
   "cell_type": "code",
   "execution_count": 0,
   "metadata": {
    "application/vnd.databricks.v1+cell": {
     "cellMetadata": {
      "byteLimit": 2048000,
      "rowLimit": 10000
     },
     "inputWidgets": {},
     "nuid": "71b52dbd-6dd0-4139-9203-3b47608068a7",
     "showTitle": false,
     "title": ""
    }
   },
   "outputs": [],
   "source": [
    "#Read all the data as required"
   ]
  },
  {
   "cell_type": "code",
   "execution_count": 0,
   "metadata": {
    "application/vnd.databricks.v1+cell": {
     "cellMetadata": {
      "byteLimit": 2048000,
      "rowLimit": 10000
     },
     "inputWidgets": {},
     "nuid": "68b45f4a-7243-44fa-be47-bdd78f7dd30f",
     "showTitle": false,
     "title": ""
    }
   },
   "outputs": [],
   "source": [
    "drivers_df = spark.read.parquet(\"dbfs:/FileStore/Formula1/processed/f1_processed.drivers\")\\\n",
    ".withColumnRenamed(\"number\", \"driver_number\") \\\n",
    ".withColumnRenamed(\"name\", \"driver_name\") \\\n",
    ".withColumnRenamed(\"nationality\", \"driver_nationality\") "
   ]
  },
  {
   "cell_type": "code",
   "execution_count": 0,
   "metadata": {
    "application/vnd.databricks.v1+cell": {
     "cellMetadata": {
      "byteLimit": 2048000,
      "rowLimit": 10000
     },
     "inputWidgets": {},
     "nuid": "800b61a7-e3ed-4615-ab5a-7278d91fbdaa",
     "showTitle": false,
     "title": ""
    }
   },
   "outputs": [
    {
     "output_type": "stream",
     "name": "stdout",
     "output_type": "stream",
     "text": [
      "+---------+----------+-------------+----+------------------+----------+------------------+-----------------------+\n|driver_id|driver_ref|driver_number|code|driver_name       |dob       |driver_nationality|ingestion_date         |\n+---------+----------+-------------+----+------------------+----------+------------------+-----------------------+\n|1        |hamilton  |44           |HAM |Lewis Hamilton    |1985-01-07|British           |2024-04-22 07:05:25.521|\n|2        |heidfeld  |null         |HEI |Nick Heidfeld     |1977-05-10|German            |2024-04-22 07:05:25.521|\n|3        |rosberg   |6            |ROS |Nico Rosberg      |1985-06-27|German            |2024-04-22 07:05:25.521|\n|4        |alonso    |14           |ALO |Fernando Alonso   |1981-07-29|Spanish           |2024-04-22 07:05:25.521|\n|5        |kovalainen|null         |KOV |Heikki Kovalainen |1981-10-19|Finnish           |2024-04-22 07:05:25.521|\n|6        |nakajima  |null         |NAK |Kazuki Nakajima   |1985-01-11|Japanese          |2024-04-22 07:05:25.521|\n|7        |bourdais  |null         |BOU |Sébastien Bourdais|1979-02-28|French            |2024-04-22 07:05:25.521|\n|8        |raikkonen |7            |RAI |Kimi Räikkönen    |1979-10-17|Finnish           |2024-04-22 07:05:25.521|\n|9        |kubica    |88           |KUB |Robert Kubica     |1984-12-07|Polish            |2024-04-22 07:05:25.521|\n|10       |glock     |null         |GLO |Timo Glock        |1982-03-18|German            |2024-04-22 07:05:25.521|\n|11       |sato      |null         |SAT |Takuma Sato       |1977-01-28|Japanese          |2024-04-22 07:05:25.521|\n|12       |piquet_jr |null         |PIQ |Nelson Piquet Jr. |1985-07-25|Brazilian         |2024-04-22 07:05:25.521|\n|13       |massa     |19           |MAS |Felipe Massa      |1981-04-25|Brazilian         |2024-04-22 07:05:25.521|\n|14       |coulthard |null         |COU |David Coulthard   |1971-03-27|British           |2024-04-22 07:05:25.521|\n|15       |trulli    |null         |TRU |Jarno Trulli      |1974-07-13|Italian           |2024-04-22 07:05:25.521|\n|16       |sutil     |99           |SUT |Adrian Sutil      |1983-01-11|German            |2024-04-22 07:05:25.521|\n|17       |webber    |null         |WEB |Mark Webber       |1976-08-27|Australian        |2024-04-22 07:05:25.521|\n|18       |button    |22           |BUT |Jenson Button     |1980-01-19|British           |2024-04-22 07:05:25.521|\n|19       |davidson  |null         |DAV |Anthony Davidson  |1979-04-18|British           |2024-04-22 07:05:25.521|\n|20       |vettel    |5            |VET |Sebastian Vettel  |1987-07-03|German            |2024-04-22 07:05:25.521|\n+---------+----------+-------------+----+------------------+----------+------------------+-----------------------+\nonly showing top 20 rows\n\n"
     ]
    }
   ],
   "source": [
    "drivers_df.show(truncate=False)"
   ]
  },
  {
   "cell_type": "code",
   "execution_count": 0,
   "metadata": {
    "application/vnd.databricks.v1+cell": {
     "cellMetadata": {
      "byteLimit": 2048000,
      "rowLimit": 10000
     },
     "inputWidgets": {},
     "nuid": "9bfbc288-0634-4c58-8389-2237f968bc91",
     "showTitle": false,
     "title": ""
    }
   },
   "outputs": [],
   "source": [
    "constructors_df = spark.read.parquet(\"dbfs:/FileStore/Formula1/processed/f1_processed.constructors\") \\\n",
    ".withColumnRenamed(\"name\", \"team\") "
   ]
  },
  {
   "cell_type": "code",
   "execution_count": 0,
   "metadata": {
    "application/vnd.databricks.v1+cell": {
     "cellMetadata": {
      "byteLimit": 2048000,
      "rowLimit": 10000
     },
     "inputWidgets": {},
     "nuid": "5e325163-f1fb-4e54-8005-8b5ec2df3577",
     "showTitle": false,
     "title": ""
    }
   },
   "outputs": [
    {
     "output_type": "stream",
     "name": "stdout",
     "output_type": "stream",
     "text": [
      "+--------------+---------------+-----------+-----------+-----------------------+\n|constructor_id|constructor_ref|team       |nationality|ingestion_date         |\n+--------------+---------------+-----------+-----------+-----------------------+\n|1             |mclaren        |McLaren    |British    |2024-04-18 17:31:45.863|\n|2             |bmw_sauber     |BMW Sauber |German     |2024-04-18 17:31:45.863|\n|3             |williams       |Williams   |British    |2024-04-18 17:31:45.863|\n|4             |renault        |Renault    |French     |2024-04-18 17:31:45.863|\n|5             |toro_rosso     |Toro Rosso |Italian    |2024-04-18 17:31:45.863|\n|6             |ferrari        |Ferrari    |Italian    |2024-04-18 17:31:45.863|\n|7             |toyota         |Toyota     |Japanese   |2024-04-18 17:31:45.863|\n|8             |super_aguri    |Super Aguri|Japanese   |2024-04-18 17:31:45.863|\n|9             |red_bull       |Red Bull   |Austrian   |2024-04-18 17:31:45.863|\n|10            |force_india    |Force India|Indian     |2024-04-18 17:31:45.863|\n|11            |honda          |Honda      |Japanese   |2024-04-18 17:31:45.863|\n|12            |spyker         |Spyker     |Dutch      |2024-04-18 17:31:45.863|\n|13            |mf1            |MF1        |Russian    |2024-04-18 17:31:45.863|\n|14            |spyker_mf1     |Spyker MF1 |Dutch      |2024-04-18 17:31:45.863|\n|15            |sauber         |Sauber     |Swiss      |2024-04-18 17:31:45.863|\n|16            |bar            |BAR        |British    |2024-04-18 17:31:45.863|\n|17            |jordan         |Jordan     |Irish      |2024-04-18 17:31:45.863|\n|18            |minardi        |Minardi    |Italian    |2024-04-18 17:31:45.863|\n|19            |jaguar         |Jaguar     |British    |2024-04-18 17:31:45.863|\n|20            |prost          |Prost      |French     |2024-04-18 17:31:45.863|\n+--------------+---------------+-----------+-----------+-----------------------+\nonly showing top 20 rows\n\n"
     ]
    }
   ],
   "source": [
    "constructors_df.show(truncate=False)"
   ]
  },
  {
   "cell_type": "code",
   "execution_count": 0,
   "metadata": {
    "application/vnd.databricks.v1+cell": {
     "cellMetadata": {
      "byteLimit": 2048000,
      "rowLimit": 10000
     },
     "inputWidgets": {},
     "nuid": "c5f88394-d196-479d-8722-4e89b709fef9",
     "showTitle": false,
     "title": ""
    }
   },
   "outputs": [],
   "source": [
    "circuits_df = spark.read.parquet(\"dbfs:/FileStore/Formula1/processed/circuits\") \\\n",
    ".withColumnRenamed(\"location\", \"circuit_location\") "
   ]
  },
  {
   "cell_type": "code",
   "execution_count": 0,
   "metadata": {
    "application/vnd.databricks.v1+cell": {
     "cellMetadata": {
      "byteLimit": 2048000,
      "rowLimit": 10000
     },
     "inputWidgets": {},
     "nuid": "3279c987-0fd7-4db9-826a-d14b9f5a685d",
     "showTitle": false,
     "title": ""
    }
   },
   "outputs": [
    {
     "output_type": "stream",
     "name": "stdout",
     "output_type": "stream",
     "text": [
      "+----------+--------------+------------------------------+----------------+---------+--------+---------+--------+-----------------------+\n|circuit_id|circuit_ref   |name                          |circuit_location|country  |latitude|longitude|altitude|ingestion_date         |\n+----------+--------------+------------------------------+----------------+---------+--------+---------+--------+-----------------------+\n|1         |albert_park   |Albert Park Grand Prix Circuit|Melbourne       |Australia|-37.8497|144.968  |10      |2024-04-18 11:08:04.236|\n|2         |sepang        |Sepang International Circuit  |Kuala Lumpur    |Malaysia |2.76083 |101.738  |18      |2024-04-18 11:08:04.236|\n|3         |bahrain       |Bahrain International Circuit |Sakhir          |Bahrain  |26.0325 |50.5106  |7       |2024-04-18 11:08:04.236|\n|4         |catalunya     |Circuit de Barcelona-Catalunya|Montmeló        |Spain    |41.57   |2.26111  |109     |2024-04-18 11:08:04.236|\n|5         |istanbul      |Istanbul Park                 |Istanbul        |Turkey   |40.9517 |29.405   |130     |2024-04-18 11:08:04.236|\n|6         |monaco        |Circuit de Monaco             |Monte-Carlo     |Monaco   |43.7347 |7.42056  |7       |2024-04-18 11:08:04.236|\n|7         |villeneuve    |Circuit Gilles Villeneuve     |Montreal        |Canada   |45.5    |-73.5228 |13      |2024-04-18 11:08:04.236|\n|8         |magny_cours   |Circuit de Nevers Magny-Cours |Magny Cours     |France   |46.8642 |3.16361  |228     |2024-04-18 11:08:04.236|\n|9         |silverstone   |Silverstone Circuit           |Silverstone     |UK       |52.0786 |-1.01694 |153     |2024-04-18 11:08:04.236|\n|10        |hockenheimring|Hockenheimring                |Hockenheim      |Germany  |49.3278 |8.56583  |103     |2024-04-18 11:08:04.236|\n|11        |hungaroring   |Hungaroring                   |Budapest        |Hungary  |47.5789 |19.2486  |264     |2024-04-18 11:08:04.236|\n|12        |valencia      |Valencia Street Circuit       |Valencia        |Spain    |39.4589 |-0.331667|4       |2024-04-18 11:08:04.236|\n|13        |spa           |Circuit de Spa-Francorchamps  |Spa             |Belgium  |50.4372 |5.97139  |401     |2024-04-18 11:08:04.236|\n|14        |monza         |Autodromo Nazionale di Monza  |Monza           |Italy    |45.6156 |9.28111  |162     |2024-04-18 11:08:04.236|\n|15        |marina_bay    |Marina Bay Street Circuit     |Marina Bay      |Singapore|1.2914  |103.864  |18      |2024-04-18 11:08:04.236|\n|16        |fuji          |Fuji Speedway                 |Oyama           |Japan    |35.3717 |138.927  |583     |2024-04-18 11:08:04.236|\n|17        |shanghai      |Shanghai International Circuit|Shanghai        |China    |31.3389 |121.22   |5       |2024-04-18 11:08:04.236|\n|18        |interlagos    |Autódromo José Carlos Pace    |São Paulo       |Brazil   |-23.7036|-46.6997 |785     |2024-04-18 11:08:04.236|\n|19        |indianapolis  |Indianapolis Motor Speedway   |Indianapolis    |USA      |39.795  |-86.2347 |223     |2024-04-18 11:08:04.236|\n|20        |nurburgring   |Nürburgring                   |Nürburg         |Germany  |50.3356 |6.9475   |578     |2024-04-18 11:08:04.236|\n+----------+--------------+------------------------------+----------------+---------+--------+---------+--------+-----------------------+\nonly showing top 20 rows\n\n"
     ]
    }
   ],
   "source": [
    "circuits_df.show(truncate=False)"
   ]
  },
  {
   "cell_type": "code",
   "execution_count": 0,
   "metadata": {
    "application/vnd.databricks.v1+cell": {
     "cellMetadata": {
      "byteLimit": 2048000,
      "rowLimit": 10000
     },
     "inputWidgets": {},
     "nuid": "5aa3e851-808f-49cd-a79c-3174686bd7a2",
     "showTitle": false,
     "title": ""
    }
   },
   "outputs": [],
   "source": [
    "races_df = spark.read.parquet(\"dbfs:/FileStore/Formula1/processed/f1_processed_races\") \\\n",
    ".withColumnRenamed(\"name\", \"race_name\") \\\n",
    ".withColumnRenamed(\"race_timestamp\", \"race_date\") "
   ]
  },
  {
   "cell_type": "code",
   "execution_count": 0,
   "metadata": {
    "application/vnd.databricks.v1+cell": {
     "cellMetadata": {
      "byteLimit": 2048000,
      "rowLimit": 10000
     },
     "inputWidgets": {},
     "nuid": "bdb20877-bb2d-47ee-a375-7f44ec8a768a",
     "showTitle": false,
     "title": ""
    }
   },
   "outputs": [
    {
     "output_type": "stream",
     "name": "stdout",
     "output_type": "stream",
     "text": [
      "+-------+---------+-----+----------+---------------------+-----------------------+-------------------+\n|race_id|race_year|round|circuit_id|race_name            |ingestion_date         |race_date          |\n+-------+---------+-----+----------+---------------------+-----------------------+-------------------+\n|1      |2009     |1    |1         |Australian Grand Prix|2024-04-23 04:06:31.534|2009-03-29 06:00:00|\n|2      |2009     |2    |2         |Malaysian Grand Prix |2024-04-23 04:06:31.534|2009-04-05 09:00:00|\n|3      |2009     |3    |17        |Chinese Grand Prix   |2024-04-23 04:06:31.534|2009-04-19 07:00:00|\n|4      |2009     |4    |3         |Bahrain Grand Prix   |2024-04-23 04:06:31.534|2009-04-26 12:00:00|\n|5      |2009     |5    |4         |Spanish Grand Prix   |2024-04-23 04:06:31.534|2009-05-10 12:00:00|\n|6      |2009     |6    |6         |Monaco Grand Prix    |2024-04-23 04:06:31.534|2009-05-24 12:00:00|\n|7      |2009     |7    |5         |Turkish Grand Prix   |2024-04-23 04:06:31.534|2009-06-07 12:00:00|\n|8      |2009     |8    |9         |British Grand Prix   |2024-04-23 04:06:31.534|2009-06-21 12:00:00|\n|9      |2009     |9    |20        |German Grand Prix    |2024-04-23 04:06:31.534|2009-07-12 12:00:00|\n|10     |2009     |10   |11        |Hungarian Grand Prix |2024-04-23 04:06:31.534|2009-07-26 12:00:00|\n|11     |2009     |11   |12        |European Grand Prix  |2024-04-23 04:06:31.534|2009-08-23 12:00:00|\n|12     |2009     |12   |13        |Belgian Grand Prix   |2024-04-23 04:06:31.534|2009-08-30 12:00:00|\n|13     |2009     |13   |14        |Italian Grand Prix   |2024-04-23 04:06:31.534|2009-09-13 12:00:00|\n|14     |2009     |14   |15        |Singapore Grand Prix |2024-04-23 04:06:31.534|2009-09-27 12:00:00|\n|15     |2009     |15   |22        |Japanese Grand Prix  |2024-04-23 04:06:31.534|2009-10-04 05:00:00|\n|16     |2009     |16   |18        |Brazilian Grand Prix |2024-04-23 04:06:31.534|2009-10-18 16:00:00|\n|17     |2009     |17   |24        |Abu Dhabi Grand Prix |2024-04-23 04:06:31.534|2009-11-01 11:00:00|\n|18     |2008     |1    |1         |Australian Grand Prix|2024-04-23 04:06:31.534|2008-03-16 04:30:00|\n|19     |2008     |2    |2         |Malaysian Grand Prix |2024-04-23 04:06:31.534|2008-03-23 07:00:00|\n|20     |2008     |3    |3         |Bahrain Grand Prix   |2024-04-23 04:06:31.534|2008-04-06 11:30:00|\n+-------+---------+-----+----------+---------------------+-----------------------+-------------------+\nonly showing top 20 rows\n\n"
     ]
    }
   ],
   "source": [
    "races_df.show(truncate=False)"
   ]
  },
  {
   "cell_type": "code",
   "execution_count": 0,
   "metadata": {
    "application/vnd.databricks.v1+cell": {
     "cellMetadata": {
      "byteLimit": 2048000,
      "rowLimit": 10000
     },
     "inputWidgets": {},
     "nuid": "5b9ad386-47eb-454e-998c-082e1c176461",
     "showTitle": false,
     "title": ""
    }
   },
   "outputs": [],
   "source": [
    "results_df = spark.read.parquet(\"dbfs:/FileStore/Formula1/processed/f1_processed.result\") \\\n",
    ".withColumnRenamed(\"time\", \"race_time\") \\\n",
    ".withColumnRenamed(\"race_id\", \"result_race_id\") \\\n",
    ".withColumnRenamed(\"file_date\", \"result_file_date\") "
   ]
  },
  {
   "cell_type": "code",
   "execution_count": 0,
   "metadata": {
    "application/vnd.databricks.v1+cell": {
     "cellMetadata": {
      "byteLimit": 2048000,
      "rowLimit": 10000
     },
     "inputWidgets": {},
     "nuid": "548cd588-2c3f-4dab-aef1-d5148c55b6f5",
     "showTitle": false,
     "title": ""
    }
   },
   "outputs": [
    {
     "output_type": "stream",
     "name": "stdout",
     "output_type": "stream",
     "text": [
      "+---------+--------------+---------+--------------+------+----+--------+-------------+--------------+------+----+-----------+------------+-----------+----+----------------+-----------------+-----------------------+\n|result_id|result_race_id|driver_id|constructor_id|number|grid|position|position_text|position_order|points|laps|race_time  |milliseconds|fastest_lap|rank|fastest_lap_time|fastest_lap_speed|ingestion_date         |\n+---------+--------------+---------+--------------+------+----+--------+-------------+--------------+------+----+-----------+------------+-----------+----+----------------+-----------------+-----------------------+\n|7572     |1             |5        |1             |2     |12  |null    |R            |19            |0.0   |0   |\\N         |null        |null       |null|\\N              |null             |2024-04-22 07:21:10.804|\n|7571     |1             |6        |3             |17    |11  |null    |R            |18            |0.0   |17  |\\N         |null        |6          |18  |1:29.923        |212.301          |2024-04-22 07:21:10.804|\n|7557     |1             |10       |7             |10    |19  |4       |4            |4             |5.0   |58  |+4.435     |5660219     |53         |6   |1:28.416        |215.92           |2024-04-22 07:21:10.804|\n|7570     |1             |12       |4             |8     |14  |null    |R            |17            |0.0   |24  |\\N         |null        |17         |19  |1:30.502        |210.943          |2024-04-22 07:21:10.804|\n|7569     |1             |13       |6             |3     |6   |null    |R            |16            |0.0   |45  |\\N         |null        |30         |15  |1:29.141        |214.164          |2024-04-22 07:21:10.804|\n|7556     |1             |15       |7             |9     |20  |3       |3            |3             |6.0   |58  |+1.604     |5657388     |50         |10  |1:28.916        |214.706          |2024-04-22 07:21:10.804|\n|7565     |1             |17       |9             |14    |8   |12      |12           |12            |0.0   |57  |\\N         |null        |38         |8   |1:28.508        |215.695          |2024-04-22 07:21:10.804|\n|7554     |1             |18       |23            |22    |1   |1       |1            |1             |10.0  |58  |1:34:15.784|5655784     |17         |3   |1:28.020        |216.891          |2024-04-22 07:21:10.804|\n|7564     |1             |21       |10            |21    |15  |11      |11           |11            |0.0   |58  |+7.374     |5663158     |51         |12  |1:29.005        |214.491          |2024-04-22 07:21:10.804|\n|7580     |2             |1        |1             |1     |12  |7       |7            |7             |1.0   |31  |+1:00.733  |4312825     |17         |11  |1:39.141        |201.276          |2024-04-22 07:21:10.804|\n|7584     |2             |4        |4             |7     |9   |11      |11           |11            |0.0   |31  |\\N         |null        |17         |9   |1:39.006        |201.551          |2024-04-22 07:21:10.804|\n|7585     |2             |6        |3             |17    |11  |12      |12           |12            |0.0   |31  |\\N         |null        |17         |15  |1:39.387        |200.778          |2024-04-22 07:21:10.804|\n|7583     |2             |7        |5             |11    |15  |10      |10           |10            |0.0   |31  |+1:42.164  |4354256     |17         |12  |1:39.242        |201.072          |2024-04-22 07:21:10.804|\n|7587     |2             |8        |6             |4     |7   |14      |14           |14            |0.0   |31  |\\N         |null        |17         |7   |1:38.453        |202.683          |2024-04-22 07:21:10.804|\n|7576     |2             |10       |7             |10    |3   |3       |3            |3             |3.0   |31  |+23.513    |4275605     |18         |16  |1:39.406        |200.74           |2024-04-22 07:21:10.804|\n|7586     |2             |12       |4             |8     |17  |13      |13           |13            |0.0   |31  |\\N         |null        |18         |14  |1:39.268        |201.019          |2024-04-22 07:21:10.804|\n|7582     |2             |13       |6             |3     |16  |9       |9            |9             |0.0   |31  |+1:16.932  |4329024     |17         |13  |1:39.250        |201.055          |2024-04-22 07:21:10.804|\n|7590     |2             |16       |10            |20    |19  |17      |17           |17            |0.0   |30  |\\N         |null        |17         |18  |1:39.464        |200.623          |2024-04-22 07:21:10.804|\n|7574     |2             |18       |23            |22    |1   |1       |1            |1             |5.0   |31  |1:10:52.092|4252092     |18         |1   |1:36.641        |206.483          |2024-04-22 07:21:10.804|\n|7588     |2             |20       |9             |15    |13  |15      |15           |15            |0.0   |30  |\\N         |null        |10         |6   |1:38.427        |202.737          |2024-04-22 07:21:10.804|\n+---------+--------------+---------+--------------+------+----+--------+-------------+--------------+------+----+-----------+------------+-----------+----+----------------+-----------------+-----------------------+\nonly showing top 20 rows\n\n"
     ]
    }
   ],
   "source": [
    "results_df.show(truncate=False)"
   ]
  },
  {
   "cell_type": "code",
   "execution_count": 0,
   "metadata": {
    "application/vnd.databricks.v1+cell": {
     "cellMetadata": {
      "byteLimit": 2048000,
      "rowLimit": 10000
     },
     "inputWidgets": {},
     "nuid": "91ce25df-d180-462f-a947-26f5839bd812",
     "showTitle": false,
     "title": ""
    }
   },
   "outputs": [],
   "source": [
    "#Join circuits to races"
   ]
  },
  {
   "cell_type": "code",
   "execution_count": 0,
   "metadata": {
    "application/vnd.databricks.v1+cell": {
     "cellMetadata": {
      "byteLimit": 2048000,
      "rowLimit": 10000
     },
     "inputWidgets": {},
     "nuid": "7f47d6de-3ee6-437f-ad8f-8e62208667aa",
     "showTitle": false,
     "title": ""
    }
   },
   "outputs": [],
   "source": [
    "race_circuits_df = races_df.join(circuits_df, races_df.circuit_id == circuits_df.circuit_id, \"inner\") \\\n",
    ".select(races_df.race_id, races_df.race_year, races_df.race_name, races_df.race_date, circuits_df.circuit_location)\n",
    "     "
   ]
  },
  {
   "cell_type": "code",
   "execution_count": 0,
   "metadata": {
    "application/vnd.databricks.v1+cell": {
     "cellMetadata": {
      "byteLimit": 2048000,
      "rowLimit": 10000
     },
     "inputWidgets": {},
     "nuid": "2b012814-1a1b-409f-ba17-b75b72749b13",
     "showTitle": false,
     "title": ""
    }
   },
   "outputs": [
    {
     "output_type": "stream",
     "name": "stdout",
     "output_type": "stream",
     "text": [
      "+-------+---------+---------------------+-------------------+----------------+\n|race_id|race_year|race_name            |race_date          |circuit_location|\n+-------+---------+---------------------+-------------------+----------------+\n|1      |2009     |Australian Grand Prix|2009-03-29 06:00:00|Melbourne       |\n|2      |2009     |Malaysian Grand Prix |2009-04-05 09:00:00|Kuala Lumpur    |\n|3      |2009     |Chinese Grand Prix   |2009-04-19 07:00:00|Shanghai        |\n|4      |2009     |Bahrain Grand Prix   |2009-04-26 12:00:00|Sakhir          |\n|5      |2009     |Spanish Grand Prix   |2009-05-10 12:00:00|Montmeló        |\n|6      |2009     |Monaco Grand Prix    |2009-05-24 12:00:00|Monte-Carlo     |\n|7      |2009     |Turkish Grand Prix   |2009-06-07 12:00:00|Istanbul        |\n|8      |2009     |British Grand Prix   |2009-06-21 12:00:00|Silverstone     |\n|9      |2009     |German Grand Prix    |2009-07-12 12:00:00|Nürburg         |\n|10     |2009     |Hungarian Grand Prix |2009-07-26 12:00:00|Budapest        |\n|11     |2009     |European Grand Prix  |2009-08-23 12:00:00|Valencia        |\n|12     |2009     |Belgian Grand Prix   |2009-08-30 12:00:00|Spa             |\n|13     |2009     |Italian Grand Prix   |2009-09-13 12:00:00|Monza           |\n|14     |2009     |Singapore Grand Prix |2009-09-27 12:00:00|Marina Bay      |\n|15     |2009     |Japanese Grand Prix  |2009-10-04 05:00:00|Suzuka          |\n|16     |2009     |Brazilian Grand Prix |2009-10-18 16:00:00|São Paulo       |\n|17     |2009     |Abu Dhabi Grand Prix |2009-11-01 11:00:00|Abu Dhabi       |\n|18     |2008     |Australian Grand Prix|2008-03-16 04:30:00|Melbourne       |\n|19     |2008     |Malaysian Grand Prix |2008-03-23 07:00:00|Kuala Lumpur    |\n|20     |2008     |Bahrain Grand Prix   |2008-04-06 11:30:00|Sakhir          |\n+-------+---------+---------------------+-------------------+----------------+\nonly showing top 20 rows\n\n"
     ]
    }
   ],
   "source": [
    "race_circuits_df.show(truncate=False)"
   ]
  },
  {
   "cell_type": "code",
   "execution_count": 0,
   "metadata": {
    "application/vnd.databricks.v1+cell": {
     "cellMetadata": {
      "byteLimit": 2048000,
      "rowLimit": 10000
     },
     "inputWidgets": {},
     "nuid": "e6944a6d-a6e0-4216-9e33-706f1579487d",
     "showTitle": false,
     "title": ""
    }
   },
   "outputs": [],
   "source": [
    "#Join results to all other dataframes"
   ]
  },
  {
   "cell_type": "code",
   "execution_count": 0,
   "metadata": {
    "application/vnd.databricks.v1+cell": {
     "cellMetadata": {
      "byteLimit": 2048000,
      "rowLimit": 10000
     },
     "inputWidgets": {},
     "nuid": "92cf9dd1-7a60-4931-8aeb-b93c0f3edc55",
     "showTitle": false,
     "title": ""
    }
   },
   "outputs": [],
   "source": [
    "race_results_df = results_df.join(race_circuits_df, results_df.result_race_id == race_circuits_df.race_id) \\\n",
    "                            .join(drivers_df, results_df.driver_id == drivers_df.driver_id) \\\n",
    "                            .join(constructors_df, results_df.constructor_id == constructors_df.constructor_id)\n",
    "     "
   ]
  },
  {
   "cell_type": "code",
   "execution_count": 0,
   "metadata": {
    "application/vnd.databricks.v1+cell": {
     "cellMetadata": {
      "byteLimit": 2048000,
      "rowLimit": 10000
     },
     "inputWidgets": {},
     "nuid": "004e1e26-9d20-448b-a348-92971327e287",
     "showTitle": false,
     "title": ""
    }
   },
   "outputs": [
    {
     "output_type": "stream",
     "name": "stdout",
     "output_type": "stream",
     "text": [
      "+---------+--------------+---------+--------------+------+----+--------+-------------+--------------+------+----+-----------+------------+-----------+----+----------------+-----------------+-----------------------+-------+---------+---------------------+-------------------+----------------+---------+-----------+-------------+----+--------------------+----------+------------------+-----------------------+--------------+---------------+-----------+-----------+-----------------------+\n|result_id|result_race_id|driver_id|constructor_id|number|grid|position|position_text|position_order|points|laps|race_time  |milliseconds|fastest_lap|rank|fastest_lap_time|fastest_lap_speed|ingestion_date         |race_id|race_year|race_name            |race_date          |circuit_location|driver_id|driver_ref |driver_number|code|driver_name         |dob       |driver_nationality|ingestion_date         |constructor_id|constructor_ref|team       |nationality|ingestion_date         |\n+---------+--------------+---------+--------------+------+----+--------+-------------+--------------+------+----+-----------+------------+-----------+----+----------------+-----------------+-----------------------+-------+---------+---------------------+-------------------+----------------+---------+-----------+-------------+----+--------------------+----------+------------------+-----------------------+--------------+---------------+-----------+-----------+-----------------------+\n|7560     |1             |67       |5             |12    |13  |7       |7            |7             |2.0   |58  |+6.004     |5661788     |34         |16  |1:29.230        |213.95           |2024-04-22 07:21:10.804|1      |2009     |Australian Grand Prix|2009-03-29 06:00:00|Melbourne       |67       |buemi      |null         |BUE |Sébastien Buemi     |1988-10-31|Swiss             |2024-04-22 07:05:25.521|5             |toro_rosso     |Toro Rosso |Italian    |2024-04-18 17:31:45.863|\n|7555     |1             |22       |23            |23    |2   |2       |2            |2             |8.0   |58  |+0.807     |5656591     |43         |14  |1:29.066        |214.344          |2024-04-22 07:21:10.804|1      |2009     |Australian Grand Prix|2009-03-29 06:00:00|Melbourne       |22       |barrichello|null         |BAR |Rubens Barrichello  |1972-05-23|Brazilian         |2024-04-22 07:05:25.521|23            |brawn          |Brawn      |British    |2024-04-18 17:31:45.863|\n|7566     |1             |20       |9             |15    |3   |13      |13           |13            |0.0   |56  |\\N         |null        |8          |4   |1:28.140        |216.596          |2024-04-22 07:21:10.804|1      |2009     |Australian Grand Prix|2009-03-29 06:00:00|Melbourne       |20       |vettel     |5            |VET |Sebastian Vettel    |1987-07-03|German            |2024-04-22 07:05:25.521|9             |red_bull       |Red Bull   |Austrian   |2024-04-18 17:31:45.863|\n|7562     |1             |16       |10            |20    |16  |9       |9            |9             |0.0   |58  |+6.335     |5662119     |43         |11  |1:28.943        |214.64           |2024-04-22 07:21:10.804|1      |2009     |Australian Grand Prix|2009-03-29 06:00:00|Melbourne       |16       |sutil      |99           |SUT |Adrian Sutil        |1983-01-11|German            |2024-04-22 07:05:25.521|10            |force_india    |Force India|Indian     |2024-04-18 17:31:45.863|\n|7567     |1             |9        |2             |5     |4   |14      |14           |14            |0.0   |55  |\\N         |null        |36         |2   |1:27.988        |216.97           |2024-04-22 07:21:10.804|1      |2009     |Australian Grand Prix|2009-03-29 06:00:00|Melbourne       |9        |kubica     |88           |KUB |Robert Kubica       |1984-12-07|Polish            |2024-04-22 07:05:25.521|2             |bmw_sauber     |BMW Sauber |German     |2024-04-18 17:31:45.863|\n|7568     |1             |8        |6             |4     |7   |15      |15           |15            |0.0   |55  |\\N         |null        |35         |7   |1:28.488        |215.744          |2024-04-22 07:21:10.804|1      |2009     |Australian Grand Prix|2009-03-29 06:00:00|Melbourne       |8        |raikkonen  |7            |RAI |Kimi Räikkönen      |1979-10-17|Finnish           |2024-04-22 07:05:25.521|6             |ferrari        |Ferrari    |Italian    |2024-04-18 17:31:45.863|\n|7561     |1             |7        |5             |11    |17  |8       |8            |8             |1.0   |58  |+6.298     |5662082     |50         |17  |1:29.823        |212.537          |2024-04-22 07:21:10.804|1      |2009     |Australian Grand Prix|2009-03-29 06:00:00|Melbourne       |7        |bourdais   |null         |BOU |Sébastien Bourdais  |1979-02-28|French            |2024-04-22 07:05:25.521|5             |toro_rosso     |Toro Rosso |Italian    |2024-04-18 17:31:45.863|\n|7558     |1             |4        |4             |7     |10  |5       |5            |5             |4.0   |58  |+4.879     |5660663     |53         |9   |1:28.712        |215.199          |2024-04-22 07:21:10.804|1      |2009     |Australian Grand Prix|2009-03-29 06:00:00|Melbourne       |4        |alonso     |14           |ALO |Fernando Alonso     |1981-07-29|Spanish           |2024-04-22 07:05:25.521|4             |renault        |Renault    |French     |2024-04-18 17:31:45.863|\n|7559     |1             |3        |3             |16    |5   |6       |6            |6             |3.0   |58  |+5.722     |5661506     |48         |1   |1:27.706        |217.668          |2024-04-22 07:21:10.804|1      |2009     |Australian Grand Prix|2009-03-29 06:00:00|Melbourne       |3        |rosberg    |6            |ROS |Nico Rosberg        |1985-06-27|German            |2024-04-22 07:05:25.521|3             |williams       |Williams   |British    |2024-04-18 17:31:45.863|\n|7563     |1             |2        |2             |6     |9   |10      |10           |10            |0.0   |58  |+7.085     |5662869     |48         |5   |1:28.283        |216.245          |2024-04-22 07:21:10.804|1      |2009     |Australian Grand Prix|2009-03-29 06:00:00|Melbourne       |2        |heidfeld   |null         |HEI |Nick Heidfeld       |1977-05-10|German            |2024-04-22 07:05:25.521|2             |bmw_sauber     |BMW Sauber |German     |2024-04-18 17:31:45.863|\n|7573     |1             |1        |1             |1     |18  |null    |D            |20            |0.0   |58  |\\N         |null        |39         |13  |1:29.020        |214.455          |2024-04-22 07:21:10.804|1      |2009     |Australian Grand Prix|2009-03-29 06:00:00|Melbourne       |1        |hamilton   |44           |HAM |Lewis Hamilton      |1985-01-07|British           |2024-04-22 07:05:25.521|1             |mclaren        |McLaren    |British    |2024-04-18 17:31:45.863|\n|7564     |1             |21       |10            |21    |15  |11      |11           |11            |0.0   |58  |+7.374     |5663158     |51         |12  |1:29.005        |214.491          |2024-04-22 07:21:10.804|1      |2009     |Australian Grand Prix|2009-03-29 06:00:00|Melbourne       |21       |fisichella |null         |FIS |Giancarlo Fisichella|1973-01-14|Italian           |2024-04-22 07:05:25.521|10            |force_india    |Force India|Indian     |2024-04-18 17:31:45.863|\n|7554     |1             |18       |23            |22    |1   |1       |1            |1             |10.0  |58  |1:34:15.784|5655784     |17         |3   |1:28.020        |216.891          |2024-04-22 07:21:10.804|1      |2009     |Australian Grand Prix|2009-03-29 06:00:00|Melbourne       |18       |button     |22           |BUT |Jenson Button       |1980-01-19|British           |2024-04-22 07:05:25.521|23            |brawn          |Brawn      |British    |2024-04-18 17:31:45.863|\n|7565     |1             |17       |9             |14    |8   |12      |12           |12            |0.0   |57  |\\N         |null        |38         |8   |1:28.508        |215.695          |2024-04-22 07:21:10.804|1      |2009     |Australian Grand Prix|2009-03-29 06:00:00|Melbourne       |17       |webber     |null         |WEB |Mark Webber         |1976-08-27|Australian        |2024-04-22 07:05:25.521|9             |red_bull       |Red Bull   |Austrian   |2024-04-18 17:31:45.863|\n|7556     |1             |15       |7             |9     |20  |3       |3            |3             |6.0   |58  |+1.604     |5657388     |50         |10  |1:28.916        |214.706          |2024-04-22 07:21:10.804|1      |2009     |Australian Grand Prix|2009-03-29 06:00:00|Melbourne       |15       |trulli     |null         |TRU |Jarno Trulli        |1974-07-13|Italian           |2024-04-22 07:05:25.521|7             |toyota         |Toyota     |Japanese   |2024-04-18 17:31:45.863|\n|7569     |1             |13       |6             |3     |6   |null    |R            |16            |0.0   |45  |\\N         |null        |30         |15  |1:29.141        |214.164          |2024-04-22 07:21:10.804|1      |2009     |Australian Grand Prix|2009-03-29 06:00:00|Melbourne       |13       |massa      |19           |MAS |Felipe Massa        |1981-04-25|Brazilian         |2024-04-22 07:05:25.521|6             |ferrari        |Ferrari    |Italian    |2024-04-18 17:31:45.863|\n|7570     |1             |12       |4             |8     |14  |null    |R            |17            |0.0   |24  |\\N         |null        |17         |19  |1:30.502        |210.943          |2024-04-22 07:21:10.804|1      |2009     |Australian Grand Prix|2009-03-29 06:00:00|Melbourne       |12       |piquet_jr  |null         |PIQ |Nelson Piquet Jr.   |1985-07-25|Brazilian         |2024-04-22 07:05:25.521|4             |renault        |Renault    |French     |2024-04-18 17:31:45.863|\n|7557     |1             |10       |7             |10    |19  |4       |4            |4             |5.0   |58  |+4.435     |5660219     |53         |6   |1:28.416        |215.92           |2024-04-22 07:21:10.804|1      |2009     |Australian Grand Prix|2009-03-29 06:00:00|Melbourne       |10       |glock      |null         |GLO |Timo Glock          |1982-03-18|German            |2024-04-22 07:05:25.521|7             |toyota         |Toyota     |Japanese   |2024-04-18 17:31:45.863|\n|7571     |1             |6        |3             |17    |11  |null    |R            |18            |0.0   |17  |\\N         |null        |6          |18  |1:29.923        |212.301          |2024-04-22 07:21:10.804|1      |2009     |Australian Grand Prix|2009-03-29 06:00:00|Melbourne       |6        |nakajima   |null         |NAK |Kazuki Nakajima     |1985-01-11|Japanese          |2024-04-22 07:05:25.521|3             |williams       |Williams   |British    |2024-04-18 17:31:45.863|\n|7572     |1             |5        |1             |2     |12  |null    |R            |19            |0.0   |0   |\\N         |null        |null       |null|\\N              |null             |2024-04-22 07:21:10.804|1      |2009     |Australian Grand Prix|2009-03-29 06:00:00|Melbourne       |5        |kovalainen |null         |KOV |Heikki Kovalainen   |1981-10-19|Finnish           |2024-04-22 07:05:25.521|1             |mclaren        |McLaren    |British    |2024-04-18 17:31:45.863|\n+---------+--------------+---------+--------------+------+----+--------+-------------+--------------+------+----+-----------+------------+-----------+----+----------------+-----------------+-----------------------+-------+---------+---------------------+-------------------+----------------+---------+-----------+-------------+----+--------------------+----------+------------------+-----------------------+--------------+---------------+-----------+-----------+-----------------------+\nonly showing top 20 rows\n\n"
     ]
    }
   ],
   "source": [
    "race_results_df.show(truncate=False)"
   ]
  },
  {
   "cell_type": "code",
   "execution_count": 0,
   "metadata": {
    "application/vnd.databricks.v1+cell": {
     "cellMetadata": {
      "byteLimit": 2048000,
      "rowLimit": 10000
     },
     "inputWidgets": {},
     "nuid": "2810b7b6-b79e-4f35-b7d5-4842f117eba2",
     "showTitle": false,
     "title": ""
    }
   },
   "outputs": [],
   "source": [
    "from pyspark.sql.functions import current_timestamp"
   ]
  },
  {
   "cell_type": "code",
   "execution_count": 0,
   "metadata": {
    "application/vnd.databricks.v1+cell": {
     "cellMetadata": {
      "byteLimit": 2048000,
      "rowLimit": 10000
     },
     "inputWidgets": {},
     "nuid": "79dbdddb-9141-4cd2-94bb-923c630fcf8c",
     "showTitle": false,
     "title": ""
    }
   },
   "outputs": [],
   "source": [
    "           final_df = race_results_df.select(\"race_id\", \"race_year\", \"race_name\", \"race_date\", \"circuit_location\", \"driver_name\", \"driver_number\", \"driver_nationality\",\"team\", \"grid\", \"fastest_lap\", \"race_time\", \"points\", \"position\") \\\n",
    "                          .withColumn(\"created_date\", current_timestamp()) \\\n",
    "                           \n",
    "     "
   ]
  },
  {
   "cell_type": "code",
   "execution_count": 0,
   "metadata": {
    "application/vnd.databricks.v1+cell": {
     "cellMetadata": {
      "byteLimit": 2048000,
      "rowLimit": 10000
     },
     "inputWidgets": {},
     "nuid": "6c5bae0c-b194-4768-9150-2f2e189507d4",
     "showTitle": false,
     "title": ""
    }
   },
   "outputs": [
    {
     "output_type": "stream",
     "name": "stdout",
     "output_type": "stream",
     "text": [
      "+-------+---------+---------------------+-------------------+----------------+--------------------+-------------+------------------+-----------+----+-----------+-----------+------+--------+-----------------------+\n|race_id|race_year|race_name            |race_date          |circuit_location|driver_name         |driver_number|driver_nationality|team       |grid|fastest_lap|race_time  |points|position|created_date           |\n+-------+---------+---------------------+-------------------+----------------+--------------------+-------------+------------------+-----------+----+-----------+-----------+------+--------+-----------------------+\n|1      |2009     |Australian Grand Prix|2009-03-29 06:00:00|Melbourne       |Sébastien Buemi     |null         |Swiss             |Toro Rosso |13  |34         |+6.004     |2.0   |7       |2024-04-23 04:14:56.935|\n|1      |2009     |Australian Grand Prix|2009-03-29 06:00:00|Melbourne       |Rubens Barrichello  |null         |Brazilian         |Brawn      |2   |43         |+0.807     |8.0   |2       |2024-04-23 04:14:56.935|\n|1      |2009     |Australian Grand Prix|2009-03-29 06:00:00|Melbourne       |Sebastian Vettel    |5            |German            |Red Bull   |3   |8          |\\N         |0.0   |13      |2024-04-23 04:14:56.935|\n|1      |2009     |Australian Grand Prix|2009-03-29 06:00:00|Melbourne       |Adrian Sutil        |99           |German            |Force India|16  |43         |+6.335     |0.0   |9       |2024-04-23 04:14:56.935|\n|1      |2009     |Australian Grand Prix|2009-03-29 06:00:00|Melbourne       |Robert Kubica       |88           |Polish            |BMW Sauber |4   |36         |\\N         |0.0   |14      |2024-04-23 04:14:56.935|\n|1      |2009     |Australian Grand Prix|2009-03-29 06:00:00|Melbourne       |Kimi Räikkönen      |7            |Finnish           |Ferrari    |7   |35         |\\N         |0.0   |15      |2024-04-23 04:14:56.935|\n|1      |2009     |Australian Grand Prix|2009-03-29 06:00:00|Melbourne       |Sébastien Bourdais  |null         |French            |Toro Rosso |17  |50         |+6.298     |1.0   |8       |2024-04-23 04:14:56.935|\n|1      |2009     |Australian Grand Prix|2009-03-29 06:00:00|Melbourne       |Fernando Alonso     |14           |Spanish           |Renault    |10  |53         |+4.879     |4.0   |5       |2024-04-23 04:14:56.935|\n|1      |2009     |Australian Grand Prix|2009-03-29 06:00:00|Melbourne       |Nico Rosberg        |6            |German            |Williams   |5   |48         |+5.722     |3.0   |6       |2024-04-23 04:14:56.935|\n|1      |2009     |Australian Grand Prix|2009-03-29 06:00:00|Melbourne       |Nick Heidfeld       |null         |German            |BMW Sauber |9   |48         |+7.085     |0.0   |10      |2024-04-23 04:14:56.935|\n|1      |2009     |Australian Grand Prix|2009-03-29 06:00:00|Melbourne       |Lewis Hamilton      |44           |British           |McLaren    |18  |39         |\\N         |0.0   |null    |2024-04-23 04:14:56.935|\n|1      |2009     |Australian Grand Prix|2009-03-29 06:00:00|Melbourne       |Giancarlo Fisichella|null         |Italian           |Force India|15  |51         |+7.374     |0.0   |11      |2024-04-23 04:14:56.935|\n|1      |2009     |Australian Grand Prix|2009-03-29 06:00:00|Melbourne       |Jenson Button       |22           |British           |Brawn      |1   |17         |1:34:15.784|10.0  |1       |2024-04-23 04:14:56.935|\n|1      |2009     |Australian Grand Prix|2009-03-29 06:00:00|Melbourne       |Mark Webber         |null         |Australian        |Red Bull   |8   |38         |\\N         |0.0   |12      |2024-04-23 04:14:56.935|\n|1      |2009     |Australian Grand Prix|2009-03-29 06:00:00|Melbourne       |Jarno Trulli        |null         |Italian           |Toyota     |20  |50         |+1.604     |6.0   |3       |2024-04-23 04:14:56.935|\n|1      |2009     |Australian Grand Prix|2009-03-29 06:00:00|Melbourne       |Felipe Massa        |19           |Brazilian         |Ferrari    |6   |30         |\\N         |0.0   |null    |2024-04-23 04:14:56.935|\n|1      |2009     |Australian Grand Prix|2009-03-29 06:00:00|Melbourne       |Nelson Piquet Jr.   |null         |Brazilian         |Renault    |14  |17         |\\N         |0.0   |null    |2024-04-23 04:14:56.935|\n|1      |2009     |Australian Grand Prix|2009-03-29 06:00:00|Melbourne       |Timo Glock          |null         |German            |Toyota     |19  |53         |+4.435     |5.0   |4       |2024-04-23 04:14:56.935|\n|1      |2009     |Australian Grand Prix|2009-03-29 06:00:00|Melbourne       |Kazuki Nakajima     |null         |Japanese          |Williams   |11  |6          |\\N         |0.0   |null    |2024-04-23 04:14:56.935|\n|1      |2009     |Australian Grand Prix|2009-03-29 06:00:00|Melbourne       |Heikki Kovalainen   |null         |Finnish           |McLaren    |12  |null       |\\N         |0.0   |null    |2024-04-23 04:14:56.935|\n+-------+---------+---------------------+-------------------+----------------+--------------------+-------------+------------------+-----------+----+-----------+-----------+------+--------+-----------------------+\nonly showing top 20 rows\n\n"
     ]
    }
   ],
   "source": [
    "final_df.show(truncate=False)"
   ]
  },
  {
   "cell_type": "code",
   "execution_count": 0,
   "metadata": {
    "application/vnd.databricks.v1+cell": {
     "cellMetadata": {
      "byteLimit": 2048000,
      "rowLimit": 10000
     },
     "inputWidgets": {},
     "nuid": "41f731ac-b790-46a1-bc6f-e24b7cfbdf36",
     "showTitle": false,
     "title": ""
    }
   },
   "outputs": [
    {
     "output_type": "stream",
     "name": "stdout",
     "output_type": "stream",
     "text": [
      "Out[49]: True"
     ]
    }
   ],
   "source": [
    "dbutils.fs.mkdirs(\"dbfs:/FileStore/Formula1/trans_before_result\")"
   ]
  },
  {
   "cell_type": "code",
   "execution_count": 0,
   "metadata": {
    "application/vnd.databricks.v1+cell": {
     "cellMetadata": {
      "byteLimit": 2048000,
      "rowLimit": 10000
     },
     "inputWidgets": {},
     "nuid": "b5a85d2b-9b11-489b-984f-ef38fac1df7f",
     "showTitle": false,
     "title": ""
    }
   },
   "outputs": [
    {
     "output_type": "display_data",
     "data": {
      "text/plain": [
       "\u001B[0;31m---------------------------------------------------------------------------\u001B[0m\n",
       "\u001B[0;31mAnalysisException\u001B[0m                         Traceback (most recent call last)\n",
       "File \u001B[0;32m<command-489064752877534>:1\u001B[0m\n",
       "\u001B[0;32m----> 1\u001B[0m \u001B[43mfinal_df\u001B[49m\u001B[38;5;241;43m.\u001B[39;49m\u001B[43mwrite\u001B[49m\u001B[38;5;241;43m.\u001B[39;49m\u001B[43mparquet\u001B[49m\u001B[43m(\u001B[49m\u001B[38;5;124;43m\"\u001B[39;49m\u001B[38;5;124;43mdbfs:/FileStore/Formula1/trans_before_result/file_for_standing\u001B[39;49m\u001B[38;5;124;43m\"\u001B[39;49m\u001B[43m)\u001B[49m\n",
       "\n",
       "File \u001B[0;32m/databricks/spark/python/pyspark/instrumentation_utils.py:48\u001B[0m, in \u001B[0;36m_wrap_function.<locals>.wrapper\u001B[0;34m(*args, **kwargs)\u001B[0m\n",
       "\u001B[1;32m     46\u001B[0m start \u001B[38;5;241m=\u001B[39m time\u001B[38;5;241m.\u001B[39mperf_counter()\n",
       "\u001B[1;32m     47\u001B[0m \u001B[38;5;28;01mtry\u001B[39;00m:\n",
       "\u001B[0;32m---> 48\u001B[0m     res \u001B[38;5;241m=\u001B[39m \u001B[43mfunc\u001B[49m\u001B[43m(\u001B[49m\u001B[38;5;241;43m*\u001B[39;49m\u001B[43margs\u001B[49m\u001B[43m,\u001B[49m\u001B[43m \u001B[49m\u001B[38;5;241;43m*\u001B[39;49m\u001B[38;5;241;43m*\u001B[39;49m\u001B[43mkwargs\u001B[49m\u001B[43m)\u001B[49m\n",
       "\u001B[1;32m     49\u001B[0m     logger\u001B[38;5;241m.\u001B[39mlog_success(\n",
       "\u001B[1;32m     50\u001B[0m         module_name, class_name, function_name, time\u001B[38;5;241m.\u001B[39mperf_counter() \u001B[38;5;241m-\u001B[39m start, signature\n",
       "\u001B[1;32m     51\u001B[0m     )\n",
       "\u001B[1;32m     52\u001B[0m     \u001B[38;5;28;01mreturn\u001B[39;00m res\n",
       "\n",
       "File \u001B[0;32m/databricks/spark/python/pyspark/sql/readwriter.py:1655\u001B[0m, in \u001B[0;36mDataFrameWriter.parquet\u001B[0;34m(self, path, mode, partitionBy, compression)\u001B[0m\n",
       "\u001B[1;32m   1653\u001B[0m     \u001B[38;5;28mself\u001B[39m\u001B[38;5;241m.\u001B[39mpartitionBy(partitionBy)\n",
       "\u001B[1;32m   1654\u001B[0m \u001B[38;5;28mself\u001B[39m\u001B[38;5;241m.\u001B[39m_set_opts(compression\u001B[38;5;241m=\u001B[39mcompression)\n",
       "\u001B[0;32m-> 1655\u001B[0m \u001B[38;5;28;43mself\u001B[39;49m\u001B[38;5;241;43m.\u001B[39;49m\u001B[43m_jwrite\u001B[49m\u001B[38;5;241;43m.\u001B[39;49m\u001B[43mparquet\u001B[49m\u001B[43m(\u001B[49m\u001B[43mpath\u001B[49m\u001B[43m)\u001B[49m\n",
       "\n",
       "File \u001B[0;32m/databricks/spark/python/lib/py4j-0.10.9.5-src.zip/py4j/java_gateway.py:1321\u001B[0m, in \u001B[0;36mJavaMember.__call__\u001B[0;34m(self, *args)\u001B[0m\n",
       "\u001B[1;32m   1315\u001B[0m command \u001B[38;5;241m=\u001B[39m proto\u001B[38;5;241m.\u001B[39mCALL_COMMAND_NAME \u001B[38;5;241m+\u001B[39m\\\n",
       "\u001B[1;32m   1316\u001B[0m     \u001B[38;5;28mself\u001B[39m\u001B[38;5;241m.\u001B[39mcommand_header \u001B[38;5;241m+\u001B[39m\\\n",
       "\u001B[1;32m   1317\u001B[0m     args_command \u001B[38;5;241m+\u001B[39m\\\n",
       "\u001B[1;32m   1318\u001B[0m     proto\u001B[38;5;241m.\u001B[39mEND_COMMAND_PART\n",
       "\u001B[1;32m   1320\u001B[0m answer \u001B[38;5;241m=\u001B[39m \u001B[38;5;28mself\u001B[39m\u001B[38;5;241m.\u001B[39mgateway_client\u001B[38;5;241m.\u001B[39msend_command(command)\n",
       "\u001B[0;32m-> 1321\u001B[0m return_value \u001B[38;5;241m=\u001B[39m \u001B[43mget_return_value\u001B[49m\u001B[43m(\u001B[49m\n",
       "\u001B[1;32m   1322\u001B[0m \u001B[43m    \u001B[49m\u001B[43manswer\u001B[49m\u001B[43m,\u001B[49m\u001B[43m \u001B[49m\u001B[38;5;28;43mself\u001B[39;49m\u001B[38;5;241;43m.\u001B[39;49m\u001B[43mgateway_client\u001B[49m\u001B[43m,\u001B[49m\u001B[43m \u001B[49m\u001B[38;5;28;43mself\u001B[39;49m\u001B[38;5;241;43m.\u001B[39;49m\u001B[43mtarget_id\u001B[49m\u001B[43m,\u001B[49m\u001B[43m \u001B[49m\u001B[38;5;28;43mself\u001B[39;49m\u001B[38;5;241;43m.\u001B[39;49m\u001B[43mname\u001B[49m\u001B[43m)\u001B[49m\n",
       "\u001B[1;32m   1324\u001B[0m \u001B[38;5;28;01mfor\u001B[39;00m temp_arg \u001B[38;5;129;01min\u001B[39;00m temp_args:\n",
       "\u001B[1;32m   1325\u001B[0m     temp_arg\u001B[38;5;241m.\u001B[39m_detach()\n",
       "\n",
       "File \u001B[0;32m/databricks/spark/python/pyspark/errors/exceptions.py:234\u001B[0m, in \u001B[0;36mcapture_sql_exception.<locals>.deco\u001B[0;34m(*a, **kw)\u001B[0m\n",
       "\u001B[1;32m    230\u001B[0m converted \u001B[38;5;241m=\u001B[39m convert_exception(e\u001B[38;5;241m.\u001B[39mjava_exception)\n",
       "\u001B[1;32m    231\u001B[0m \u001B[38;5;28;01mif\u001B[39;00m \u001B[38;5;129;01mnot\u001B[39;00m \u001B[38;5;28misinstance\u001B[39m(converted, UnknownException):\n",
       "\u001B[1;32m    232\u001B[0m     \u001B[38;5;66;03m# Hide where the exception came from that shows a non-Pythonic\u001B[39;00m\n",
       "\u001B[1;32m    233\u001B[0m     \u001B[38;5;66;03m# JVM exception message.\u001B[39;00m\n",
       "\u001B[0;32m--> 234\u001B[0m     \u001B[38;5;28;01mraise\u001B[39;00m converted \u001B[38;5;28;01mfrom\u001B[39;00m \u001B[38;5;28mNone\u001B[39m\n",
       "\u001B[1;32m    235\u001B[0m \u001B[38;5;28;01melse\u001B[39;00m:\n",
       "\u001B[1;32m    236\u001B[0m     \u001B[38;5;28;01mraise\u001B[39;00m\n",
       "\n",
       "\u001B[0;31mAnalysisException\u001B[0m: Path dbfs:/FileStore/Formula1/trans_before_result/file_for_standing already exists."
      ]
     },
     "metadata": {
      "application/vnd.databricks.v1+output": {
       "arguments": {},
       "data": "\u001B[0;31m---------------------------------------------------------------------------\u001B[0m\n\u001B[0;31mAnalysisException\u001B[0m                         Traceback (most recent call last)\nFile \u001B[0;32m<command-489064752877534>:1\u001B[0m\n\u001B[0;32m----> 1\u001B[0m \u001B[43mfinal_df\u001B[49m\u001B[38;5;241;43m.\u001B[39;49m\u001B[43mwrite\u001B[49m\u001B[38;5;241;43m.\u001B[39;49m\u001B[43mparquet\u001B[49m\u001B[43m(\u001B[49m\u001B[38;5;124;43m\"\u001B[39;49m\u001B[38;5;124;43mdbfs:/FileStore/Formula1/trans_before_result/file_for_standing\u001B[39;49m\u001B[38;5;124;43m\"\u001B[39;49m\u001B[43m)\u001B[49m\n\nFile \u001B[0;32m/databricks/spark/python/pyspark/instrumentation_utils.py:48\u001B[0m, in \u001B[0;36m_wrap_function.<locals>.wrapper\u001B[0;34m(*args, **kwargs)\u001B[0m\n\u001B[1;32m     46\u001B[0m start \u001B[38;5;241m=\u001B[39m time\u001B[38;5;241m.\u001B[39mperf_counter()\n\u001B[1;32m     47\u001B[0m \u001B[38;5;28;01mtry\u001B[39;00m:\n\u001B[0;32m---> 48\u001B[0m     res \u001B[38;5;241m=\u001B[39m \u001B[43mfunc\u001B[49m\u001B[43m(\u001B[49m\u001B[38;5;241;43m*\u001B[39;49m\u001B[43margs\u001B[49m\u001B[43m,\u001B[49m\u001B[43m \u001B[49m\u001B[38;5;241;43m*\u001B[39;49m\u001B[38;5;241;43m*\u001B[39;49m\u001B[43mkwargs\u001B[49m\u001B[43m)\u001B[49m\n\u001B[1;32m     49\u001B[0m     logger\u001B[38;5;241m.\u001B[39mlog_success(\n\u001B[1;32m     50\u001B[0m         module_name, class_name, function_name, time\u001B[38;5;241m.\u001B[39mperf_counter() \u001B[38;5;241m-\u001B[39m start, signature\n\u001B[1;32m     51\u001B[0m     )\n\u001B[1;32m     52\u001B[0m     \u001B[38;5;28;01mreturn\u001B[39;00m res\n\nFile \u001B[0;32m/databricks/spark/python/pyspark/sql/readwriter.py:1655\u001B[0m, in \u001B[0;36mDataFrameWriter.parquet\u001B[0;34m(self, path, mode, partitionBy, compression)\u001B[0m\n\u001B[1;32m   1653\u001B[0m     \u001B[38;5;28mself\u001B[39m\u001B[38;5;241m.\u001B[39mpartitionBy(partitionBy)\n\u001B[1;32m   1654\u001B[0m \u001B[38;5;28mself\u001B[39m\u001B[38;5;241m.\u001B[39m_set_opts(compression\u001B[38;5;241m=\u001B[39mcompression)\n\u001B[0;32m-> 1655\u001B[0m \u001B[38;5;28;43mself\u001B[39;49m\u001B[38;5;241;43m.\u001B[39;49m\u001B[43m_jwrite\u001B[49m\u001B[38;5;241;43m.\u001B[39;49m\u001B[43mparquet\u001B[49m\u001B[43m(\u001B[49m\u001B[43mpath\u001B[49m\u001B[43m)\u001B[49m\n\nFile \u001B[0;32m/databricks/spark/python/lib/py4j-0.10.9.5-src.zip/py4j/java_gateway.py:1321\u001B[0m, in \u001B[0;36mJavaMember.__call__\u001B[0;34m(self, *args)\u001B[0m\n\u001B[1;32m   1315\u001B[0m command \u001B[38;5;241m=\u001B[39m proto\u001B[38;5;241m.\u001B[39mCALL_COMMAND_NAME \u001B[38;5;241m+\u001B[39m\\\n\u001B[1;32m   1316\u001B[0m     \u001B[38;5;28mself\u001B[39m\u001B[38;5;241m.\u001B[39mcommand_header \u001B[38;5;241m+\u001B[39m\\\n\u001B[1;32m   1317\u001B[0m     args_command \u001B[38;5;241m+\u001B[39m\\\n\u001B[1;32m   1318\u001B[0m     proto\u001B[38;5;241m.\u001B[39mEND_COMMAND_PART\n\u001B[1;32m   1320\u001B[0m answer \u001B[38;5;241m=\u001B[39m \u001B[38;5;28mself\u001B[39m\u001B[38;5;241m.\u001B[39mgateway_client\u001B[38;5;241m.\u001B[39msend_command(command)\n\u001B[0;32m-> 1321\u001B[0m return_value \u001B[38;5;241m=\u001B[39m \u001B[43mget_return_value\u001B[49m\u001B[43m(\u001B[49m\n\u001B[1;32m   1322\u001B[0m \u001B[43m    \u001B[49m\u001B[43manswer\u001B[49m\u001B[43m,\u001B[49m\u001B[43m \u001B[49m\u001B[38;5;28;43mself\u001B[39;49m\u001B[38;5;241;43m.\u001B[39;49m\u001B[43mgateway_client\u001B[49m\u001B[43m,\u001B[49m\u001B[43m \u001B[49m\u001B[38;5;28;43mself\u001B[39;49m\u001B[38;5;241;43m.\u001B[39;49m\u001B[43mtarget_id\u001B[49m\u001B[43m,\u001B[49m\u001B[43m \u001B[49m\u001B[38;5;28;43mself\u001B[39;49m\u001B[38;5;241;43m.\u001B[39;49m\u001B[43mname\u001B[49m\u001B[43m)\u001B[49m\n\u001B[1;32m   1324\u001B[0m \u001B[38;5;28;01mfor\u001B[39;00m temp_arg \u001B[38;5;129;01min\u001B[39;00m temp_args:\n\u001B[1;32m   1325\u001B[0m     temp_arg\u001B[38;5;241m.\u001B[39m_detach()\n\nFile \u001B[0;32m/databricks/spark/python/pyspark/errors/exceptions.py:234\u001B[0m, in \u001B[0;36mcapture_sql_exception.<locals>.deco\u001B[0;34m(*a, **kw)\u001B[0m\n\u001B[1;32m    230\u001B[0m converted \u001B[38;5;241m=\u001B[39m convert_exception(e\u001B[38;5;241m.\u001B[39mjava_exception)\n\u001B[1;32m    231\u001B[0m \u001B[38;5;28;01mif\u001B[39;00m \u001B[38;5;129;01mnot\u001B[39;00m \u001B[38;5;28misinstance\u001B[39m(converted, UnknownException):\n\u001B[1;32m    232\u001B[0m     \u001B[38;5;66;03m# Hide where the exception came from that shows a non-Pythonic\u001B[39;00m\n\u001B[1;32m    233\u001B[0m     \u001B[38;5;66;03m# JVM exception message.\u001B[39;00m\n\u001B[0;32m--> 234\u001B[0m     \u001B[38;5;28;01mraise\u001B[39;00m converted \u001B[38;5;28;01mfrom\u001B[39;00m \u001B[38;5;28mNone\u001B[39m\n\u001B[1;32m    235\u001B[0m \u001B[38;5;28;01melse\u001B[39;00m:\n\u001B[1;32m    236\u001B[0m     \u001B[38;5;28;01mraise\u001B[39;00m\n\n\u001B[0;31mAnalysisException\u001B[0m: Path dbfs:/FileStore/Formula1/trans_before_result/file_for_standing already exists.",
       "errorSummary": "<span class='ansi-red-fg'>AnalysisException</span>: Path dbfs:/FileStore/Formula1/trans_before_result/file_for_standing already exists.",
       "errorTraceType": "ansi",
       "metadata": {},
       "type": "ipynbError"
      }
     },
     "output_type": "display_data"
    }
   ],
   "source": [
    "final_df.write.parquet(\"dbfs:/FileStore/Formula1/trans_before_result/file_for_standing\") "
   ]
  },
  {
   "cell_type": "code",
   "execution_count": 0,
   "metadata": {
    "application/vnd.databricks.v1+cell": {
     "cellMetadata": {
      "byteLimit": 2048000,
      "implicitDf": true,
      "rowLimit": 10000
     },
     "inputWidgets": {},
     "nuid": "85d38ac4-9d25-4a46-a88d-8affd8a2b8bd",
     "showTitle": false,
     "title": ""
    }
   },
   "outputs": [],
   "source": []
  },
  {
   "cell_type": "code",
   "execution_count": 0,
   "metadata": {
    "application/vnd.databricks.v1+cell": {
     "cellMetadata": {
      "byteLimit": 2048000,
      "rowLimit": 10000
     },
     "inputWidgets": {},
     "nuid": "c8f46c53-3439-4a09-9147-24416b2b5ecb",
     "showTitle": false,
     "title": ""
    }
   },
   "outputs": [],
   "source": []
  }
 ],
 "metadata": {
  "application/vnd.databricks.v1+notebook": {
   "dashboards": [],
   "language": "python",
   "notebookMetadata": {
    "mostRecentlyExecutedCommandWithImplicitDF": {
     "commandId": 489064752877535,
     "dataframes": [
      "_sqldf"
     ]
    },
    "pythonIndentUnit": 4
   },
   "notebookName": "transformation_overall_results",
   "widgets": {}
  }
 },
 "nbformat": 4,
 "nbformat_minor": 0
}
